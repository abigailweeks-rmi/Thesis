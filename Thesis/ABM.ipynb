{
 "cells": [
  {
   "cell_type": "markdown",
   "id": "79ed2cbe",
   "metadata": {},
   "source": [
    "# Set up environment and packages"
   ]
  },
  {
   "cell_type": "code",
   "execution_count": 128,
   "id": "d29751b3",
   "metadata": {},
   "outputs": [
    {
     "name": "stdout",
     "output_type": "stream",
     "text": [
      "c:\\Users\\abigail.weeks\\AppData\\Local\\Programs\\Python\\Python313\\python.exe\n",
      "3.2.0\n"
     ]
    }
   ],
   "source": [
    "import sys\n",
    "print(sys.executable)\n",
    "import mesa\n",
    "import jupyter\n",
    "import numpy as np\n",
    "import pandas as pd\n",
    "import seaborn as sns\n",
    "from mesa.datacollection import DataCollector\n",
    "import random\n",
    "from collections import Counter\n",
    "print(mesa.__version__)"
   ]
  },
  {
   "cell_type": "markdown",
   "id": "2681c5c7",
   "metadata": {},
   "source": [
    "# Import Developer Information and Fuel Type Characteristics "
   ]
  },
  {
   "cell_type": "code",
   "execution_count": 129,
   "id": "a96e2686",
   "metadata": {},
   "outputs": [],
   "source": [
    "#Upload batch of developer profiles and clean fuel_type\n",
    "developer_states_incomplete = pd.read_excel(\"developer_states.xlsx\")\n",
    "developer_states_incomplete['fuel_type'] = developer_states_incomplete['fuel_type'].str.strip().str.lower()\n",
    "#Upload characteristics of fuels and clean \n",
    "fuel_states=pd.read_excel(\"fuel_states.xlsx\")\n",
    "fuel_states['fuel_type'] = fuel_states['fuel_type'].str.strip().str.lower()\n",
    "#merge fuel characteristics with developer profiles for complete data frame\n",
    "developer_states = developer_states_incomplete.merge(fuel_states, on='fuel_type', how='left')\n",
    "new_projects_df=developer_states\n",
    "#check merge \n",
    "developer_states.to_excel(\"developer_states_exported.xlsx\", index=False)"
   ]
  },
  {
   "cell_type": "markdown",
   "id": "4c599719",
   "metadata": {},
   "source": [
    "# Import Node Information"
   ]
  },
  {
   "cell_type": "code",
   "execution_count": 130,
   "id": "084e7b8f",
   "metadata": {},
   "outputs": [],
   "source": [
    "node_states = pd.read_excel(\"node_states.xlsx\")"
   ]
  },
  {
   "cell_type": "markdown",
   "id": "7a23bcfa",
   "metadata": {},
   "source": [
    "# Set Up Agent, Node, and Model"
   ]
  },
  {
   "cell_type": "code",
   "execution_count": 131,
   "id": "9fa868f5",
   "metadata": {},
   "outputs": [],
   "source": [
    "#Defining Developer Class\n",
    "class DeveloperAgent(mesa.Agent):\n",
    "#each of the Developer States upon Initiation\n",
    "    def __init__(self, model, unique_id, fuel_type, size, risk_tolerance, developer, elcc, atb_capex, atb_capex_multiplier, bid_price, chosen_node, service_type, construction_time, study_time, assigned_cost, online=False):\n",
    "        super().__init__(model)\n",
    "        self.model=model\n",
    "        self.unique_id = unique_id\n",
    "        self.fuel_type = fuel_type\n",
    "        self.size = size\n",
    "        self.risk_tolerance = risk_tolerance\n",
    "        self.developer= developer\n",
    "        self.elcc=elcc\n",
    "        self.atb_capex=atb_capex\n",
    "        self.atb_capex_multiplier=atb_capex_multiplier\n",
    "        self.past_wins = 0\n",
    "        self.past_dropouts = 0\n",
    "        self.internal_step_count=0\n",
    "        self.study_time=study_time\n",
    "        self.construction_time = construction_time\n",
    "        self.online = online\n",
    "        self.bid_price = 0\n",
    "        self.assigned_cost=assigned_cost\n",
    "        self.chosen_node=chosen_node\n",
    "        self.service_type=service_type\n",
    "        self.projects_at_node_total = 0\n",
    "        self.projects_at_node_nris = 0\n",
    "        self.projects_at_node_eris = 0\n",
    "#Defining the Functions \n",
    "#Get summary stats of this developer's past projects.\n",
    "    def get_past_developer_performance(self):\n",
    "        past_developer = []\n",
    "        for round_data in self.model.round_results:\n",
    "            for entry in round_data:\n",
    "                if entry.get(\"developer\") == self.developer:\n",
    "                    past_developer.append(entry)\n",
    "        return past_developer\n",
    "    def get_past_node_performance(self):\n",
    "        past_node = []\n",
    "        for node_summary in self.model.node_summary:\n",
    "            for entry in node_summary:\n",
    "                if entry.get(\"unique_id\") == self.chosen_node:\n",
    "                    past_node.append(entry)\n",
    "        return past_node\n",
    "#Choosing Node\n",
    "    def choose_node(self):\n",
    "        past_projects = self.get_past_developer_performance()\n",
    "        # 1. Avoid nodes where this developer dropped out recently\n",
    "        N = 3\n",
    "        bad_nodes = set()\n",
    "        for round_data in self.model.round_results[-N:]:\n",
    "            for entry in round_data:\n",
    "                if entry.get(\"dropped_out\") and entry.get(\"developer\") == self.developer:\n",
    "                    bad_nodes.add(entry.get(\"chosen_node\"))\n",
    "\n",
    "        # 2. Prepare scores for ranking\n",
    "        valid_nodes = [n for n in self.model.nodes if n.unique_id not in bad_nodes]\n",
    "\n",
    "        # Gather values for ranking\n",
    "        lmp_vals = [n.lmp for n in valid_nodes]\n",
    "        queue_vals = [n.queue_size_normalized_by_capacity for n in valid_nodes]\n",
    "        size_vals=[n.Generation for n in valid_nodes]\n",
    "\n",
    "        # Normalize rankings: lower rank = better\n",
    "        size_ranks= {n.unique_id: rank \n",
    "                     for rank, n in enumerate(sorted(valid_nodes, key=lambda x: -x.Generation[-1]))}\n",
    "        lmp_ranks = {\n",
    "            n.unique_id: rank\n",
    "            for rank, n in enumerate(sorted(valid_nodes, key=lambda x: -x.lmp[-1]))}\n",
    "        queue_ranks = {n.unique_id: rank for rank, n in enumerate(sorted(valid_nodes, key=lambda x: x.queue_size_normalized_by_capacity))}\n",
    "    #new transmission factor\n",
    "        last_round = self.model.round_results[-1] if len(self.model.round_results) > 0 else []\n",
    "        nu_cost_ranks = {}\n",
    "        if last_round:\n",
    "            # Filter last round for this tech\n",
    "            tech_entries = [e for e in last_round if e.get(\"fuel_type\") == self.fuel_type]\n",
    "            nu_costs = {}\n",
    "            for entry in tech_entries:\n",
    "                node_id = entry.get(\"chosen_node\")\n",
    "                nu_costs[node_id] = entry.get(\"NU_cost\", 0)\n",
    "\n",
    "            sorted_nu = sorted(nu_costs.items(), key=lambda x: x[1])\n",
    "            for i, (node_id, _) in enumerate(sorted_nu):\n",
    "                nu_cost_ranks[node_id] = i\n",
    "\n",
    "        # 3. Score all valid nodes\n",
    "        scored_nodes = []\n",
    "\n",
    "        for node in valid_nodes:\n",
    "            lmp_score = lmp_ranks[node.unique_id]\n",
    "            queue_score = queue_ranks[node.unique_id]\n",
    "            nu_score = nu_cost_ranks.get(node.unique_id, len(valid_nodes)) \n",
    "            size_score = size_ranks.get(node.unique_id, len(valid_nodes)) \n",
    "\n",
    "            # Bias by fuel type\n",
    "            if self.fuel_type in [\"solar\", \"solar_storage\"]:\n",
    "                fuel_bias = node.percent_solar\n",
    "            elif self.fuel_type == \"wind\":\n",
    "                fuel_bias = node.percent_wind\n",
    "            else:\n",
    "                fuel_bias = 0\n",
    "\n",
    "            random_adder = random.uniform(-1, 1)\n",
    "\n",
    "            # Composite score (lower is worse, so multiply by -1)\n",
    "            score = -1 * (size_score+lmp_score + queue_score + fuel_bias + nu_score + random_adder)\n",
    "\n",
    "            scored_nodes.append((node, score))\n",
    "\n",
    "        # Sort by score descending (higher score = better)\n",
    "        scored_nodes.sort(key=lambda x: x[1], reverse=True)\n",
    "\n",
    "        # Pick one randomly from the top 3\n",
    "        top_n = 3\n",
    "        top_choices = scored_nodes[:min(top_n, len(scored_nodes))]\n",
    "        chosen_node = random.choice(top_choices)[0]\n",
    "\n",
    "        self.chosen_node = chosen_node.unique_id\n",
    "        \n",
    "    def step(self):\n",
    "            \n",
    "        self.internal_step_count+=1\n",
    "\n",
    "        \n",
    "        \n"
   ]
  },
  {
   "cell_type": "code",
   "execution_count": 132,
   "id": "b567259d",
   "metadata": {},
   "outputs": [],
   "source": [
    "#Defining the Node CLass\n",
    "class Node(mesa.Agent):\n",
    "#each of the Node States upon Initiation\n",
    "    def __init__(self, model, Generation, unique_id, lmp, congestion_cost,congestion_indicator, available_capacity,mw_threshold_1, mw_threshold_2,  nu_tier_0, nu_tier_1,\n",
    "                 \tnu_tier_2, nu_cost_per_mw,\tqueue_size_normalized_by_capacity, installed_capacity, construction_delay_factor, percent_wind, percent_solar,\n",
    "                    total_projects, total_nris, total_eris, eris_mw, nris_mw):\n",
    "        super().__init__(model)\n",
    "        self.unique_id = unique_id\n",
    "        self.congestion_cost = congestion_cost\n",
    "        self.congestion_indicator=congestion_indicator\n",
    "        self.lmp=[lmp]\n",
    "        self.available_capacity = available_capacity\n",
    "        self.mw_threshold_1 = mw_threshold_1\n",
    "        self.mw_threshold_2=mw_threshold_2\n",
    "        self.nu_tier_0 = nu_tier_0\n",
    "        self.nu_tier_1 = nu_tier_1\n",
    "        self.nu_tier_2 = nu_tier_2\n",
    "        self.nu_cost_per_mw = nu_cost_per_mw\n",
    "        self.queue_size_normalized_by_capacity = queue_size_normalized_by_capacity\n",
    "        self.installed_capacity=installed_capacity\n",
    "        self.construction_delay_factor=construction_delay_factor\n",
    "        self.percent_solar=percent_solar\n",
    "        self.percent_wind=percent_wind\n",
    "        self.Generation=[Generation]\n",
    "        self.total_projects=0\n",
    "        self.total_nris=total_nris\n",
    "        self.total_eris=total_eris\n",
    "        self.eris_mw=eris_mw\n",
    "        self.nris_mw=nris_mw\n"
   ]
  },
  {
   "cell_type": "code",
   "execution_count": 133,
   "id": "bbf1ba1f",
   "metadata": {},
   "outputs": [],
   "source": [
    "class InterconnectionModel(mesa.Model):\n",
    "    def __init__(self, developer_states, node_states, new_projects_df, total_capacity_reference, capacity_price=289, \n",
    "                  base_construction=1, seed=None):\n",
    "        super().__init__(seed=seed)\n",
    "        self.new_projects_df = new_projects_df\n",
    "        self.base_construction=base_construction\n",
    "        self.round_results = [] \n",
    "        self.round_summary=[]\n",
    "        self.nodes = []\n",
    "        self.node_summary_list = []\n",
    "        self.transmission_built_this_round=[]\n",
    "        self.current_study_time=0\n",
    "        self.total_capacity_reference= total_capacity_reference\n",
    "        self.system_marginal_energy_cost=[1.0]\n",
    "        self.projects_per_node=[]\n",
    "        self.capacity_price = capacity_price\n",
    "        self.capacity_prices=[capacity_price]\n",
    "        self.nris_added_last_round = []\n",
    "        self.congestion_history = []\n",
    "        self.ERIS_differentiation=True\n",
    "        self.ERIS_study_factor=.5\n",
    "        self.ERIS_NU_factor=.5\n",
    "        self.study_time=None\n",
    "        self.restudy_factor=0\n",
    "        self.datacollector = mesa.DataCollector(\n",
    "        model_reporters={\n",
    "            \"num_total_projects\": lambda m: len(m.agents_by_type[DeveloperAgent]),\n",
    "            \"num_dropped_out\": lambda m: sum(1 for d in m.agents_by_type[DeveloperAgent] if getattr(d, \"dropped_out\", False)),\n",
    "            \"num_online\": lambda m: sum(1 for d in m.agents_by_type[DeveloperAgent] if getattr(d, \"online\", False)),\n",
    "            \"MW_online\": lambda m: sum(d.size for d in m.agents_by_type[DeveloperAgent] if d.online),\n",
    "            \"capacity_price\": lambda m: m.capacity_price,\n",
    "            \"ERIS_num_projects\": lambda m: sum(\n",
    "                1 for d in m.agents_by_type[DeveloperAgent]\n",
    "                if getattr(d, \"service_type\", None) == \"ERIS\" and getattr(d, \"online\", False)\n",
    "            ),\n",
    "            \"ERIS_MW\": lambda m: sum(\n",
    "                d.size for d in m.agents_by_type[DeveloperAgent]\n",
    "                if getattr(d, \"service_type\", None) == \"ERIS\" and getattr(d, \"online\", False)\n",
    "            ),\n",
    "            \"NRIS_num_projects\": lambda m: sum(\n",
    "                1 for d in m.agents_by_type[DeveloperAgent]\n",
    "                if getattr(d, \"service_type\", None) == \"NRIS\" and getattr(d, \"online\", False)\n",
    "            ),\n",
    "            \"NRIS_MW\": lambda m: sum(\n",
    "                d.size for d in m.agents_by_type[DeveloperAgent]\n",
    "                if getattr(d, \"service_type\", None) == \"NRIS\" and getattr(d, \"online\", False)\n",
    "            ),\n",
    "            \"system_marginal_energy_cost\": lambda m: m.current_system_marginal_energy_cost,\n",
    "            \"ERIS_to_NRIS_MW_ratio\": lambda m: (\n",
    "                sum(d.size for d in m.agents_by_type[DeveloperAgent] if getattr(d, \"service_type\", None) == \"ERIS\") /\n",
    "                max(1, sum(d.size for d in m.agents_by_type[DeveloperAgent] if getattr(d, \"service_type\", None) == \"NRIS\"))\n",
    "            ),\n",
    "            \"node_total_projects\": lambda m: [node.total_projects for node in m.nodes],\n",
    "            \"node_total_eris\": lambda m: [node.total_eris for node in m.nodes],\n",
    "            \"node_total_nris\": lambda m: [node.total_nris for node in m.nodes],\n",
    "            \"node_congestion_cost\": lambda m: [node.congestion_cost for node in m.nodes],\n",
    "            \"projects_per_node\": lambda m: [node.total_projects for node in m.nodes],\n",
    "        }\n",
    "    )\n",
    "\n",
    "        \n",
    "        # ──────── Load DeveloperAgents ────────\n",
    "        for i, row in developer_states.iterrows():\n",
    "            bid_price=0\n",
    "            agent = DeveloperAgent(\n",
    "                unique_id=row['unique_id'],\n",
    "                model=self,\n",
    "                fuel_type=row['fuel_type'],\n",
    "                size=row['size'],\n",
    "                risk_tolerance=row['risk_tolerance'],\n",
    "                developer=row['developer'],\n",
    "                elcc=row['ELCC'],\n",
    "                atb_capex=row['atb_capex'],\n",
    "                atb_capex_multiplier=row['atb_capex_multiplier'],\n",
    "                construction_time=None,\n",
    "                study_time=None,\n",
    "                assigned_cost=None,\n",
    "                chosen_node=None, \n",
    "                service_type=None,\n",
    "                bid_price=bid_price\n",
    "            )\n",
    "            \n",
    "            \n",
    "        \n",
    "        # ──────── Load Nodes ────────\n",
    "        for i, row in node_states.iterrows():\n",
    "            node = Node(\n",
    "                unique_id=row['unique_id'],\n",
    "                model=self,\n",
    "                congestion_cost=row['congestion_cost'],\n",
    "                congestion_indicator=row['congestion_indicator'],\n",
    "                lmp = row['lmp'],\n",
    "                available_capacity=row['available_capacity'],\n",
    "                mw_threshold_1=row['mw_threshold_1'],\n",
    "                mw_threshold_2=row['mw_threshold_2'],\n",
    "                nu_tier_0=row['nu_tier_0'],\n",
    "                nu_tier_1=row['nu_tier_1'],\n",
    "                nu_tier_2=row['nu_tier_2'],\n",
    "                nu_cost_per_mw=row['nu_cost_per_mw'],\n",
    "                queue_size_normalized_by_capacity=row['queue_size_normalized_by_capacity'],\n",
    "                installed_capacity=row['installed_capacity'],\n",
    "                construction_delay_factor=row['construction_delay_factor'],\n",
    "                percent_solar=row['percent_solar'],\n",
    "                percent_wind=row['percent_wind'],\n",
    "                Generation=row['generation'],\n",
    "                total_eris=0,\n",
    "                total_nris=0,\n",
    "                total_projects=0,\n",
    "                eris_mw=0,\n",
    "                nris_mw=0\n",
    "            )\n",
    "            self.nodes.append(node)\n",
    "        node_ids = [node.unique_id for node in self.nodes]\n",
    "    ### Defining Model Level Functions \n",
    "    # Add new Developer Agents after round 0    \n",
    "    def add_new_projects(self):\n",
    "        if self.steps < 1:\n",
    "            return \n",
    "        for i, row in self.new_projects_df.iterrows():\n",
    "            new_unique_id = f\"{row['unique_id']}_round{self.steps}\"\n",
    "            agent = DeveloperAgent(\n",
    "                unique_id=new_unique_id,\n",
    "                model=self,\n",
    "                fuel_type=row['fuel_type'],\n",
    "                size=row['size'],\n",
    "                risk_tolerance=row['risk_tolerance'],\n",
    "                developer=row['developer'],\n",
    "                study_time=None,\n",
    "                assigned_cost=None,\n",
    "                elcc=row['ELCC'],\n",
    "                atb_capex=row['atb_capex'],\n",
    "                atb_capex_multiplier=row['atb_capex_multiplier'],\n",
    "                chosen_node=None,\n",
    "                service_type=None,\n",
    "                construction_time=None, \n",
    "                bid_price=row['bid_price']\n",
    "            )\n",
    "    def get_node_counts(self):\n",
    "        if self.chosen_node is None:\n",
    "            return 0, 0, 0\n",
    "        node = next(n for n in self.model.nodes if n.unique_id == self.chosen_node)\n",
    "        return node.total_projects, node.total_nris, node.total_eris    \n",
    "    #Have each Developer Choose between NRIS and ERIS \n",
    "    def choose_service_type(self):\n",
    "        for dev in self.agents_by_type[DeveloperAgent]:\n",
    "        #only choose service in the first round the Agent exisits\n",
    "            if dev.internal_step_count == 0:\n",
    "        #a check for developers having chosen a node\n",
    "                if dev.chosen_node is None:\n",
    "                    continue\n",
    "        #define node as the node the developer chose \n",
    "                node = next(n for n in self.nodes if n.unique_id == dev.chosen_node)\n",
    "        #pass the node characteristic to this function\n",
    "                total_nris = node.total_nris\n",
    "        #if ERIS is studied the same and assigned the same costs as NRIS \n",
    "        #then the study_factors are 1 and the base probability of ERIS is 0\n",
    "                base_prob_eris = ((1 - self.ERIS_study_factor) + (1 - self.ERIS_NU_factor)) / 2\n",
    "        #ERIS projcts can use the infrastructure built by NRIS projects [free riding]\n",
    "        #so if they are at a node with recent NRIS build out, they would be more willing to choose ERIS\n",
    "        #because they think they will be dispatched more\n",
    "        #technologies that will be dispatched first or would otherwise stand to make most\n",
    "        #money in the energy market (batteries) are more willing to choose ERIS\n",
    "                if self.ERIS_differentiation:\n",
    "                    free_ride_factor = min(total_nris / 20, 1)\n",
    "                    if dev.fuel_type==\"storage\":\n",
    "                        fuel_factor=.1\n",
    "                    if dev.fuel_type==\"solar_storage\":\n",
    "                        fuel_factor=.1\n",
    "                    if dev.fuel_type==\"solar\":\n",
    "                        fuel_factor=.05\n",
    "                    if dev.fuel_type==\"wind\":\n",
    "                        fuel_factor=.05\n",
    "                else:\n",
    "                    free_ride_factor=0\n",
    "                    fuel_factor=0\n",
    "        #the overall probability of choosing ERIS is the sum of the base probability and factors\n",
    "                eris_prob = base_prob_eris + free_ride_factor+fuel_factor\n",
    "        #random.random() generates a number between 0 and 1, so the higher the eris_prob, \n",
    "        #the higher chance the developer will have service_type as ERIS\n",
    "                if random.random() < eris_prob:\n",
    "                    dev.service_type = 'ERIS'\n",
    "                else:\n",
    "                    dev.service_type = 'NRIS'\n",
    "\n",
    "        # Every three steps, a project that is currently ERIS may choose to switch to NRIS\n",
    "        if dev.internal_step_count % 3 == 0:\n",
    "            if dev.service_type == \"ERIS\":\n",
    "                if random.random() < 0.05:\n",
    "                    dev.service_type = \"NRIS\"\n",
    "    #Assign network upgrade costs to developers\n",
    "    def assign_costs(self):\n",
    "        # Precompute total MW applying for this node this round for developers not dropped out\n",
    "        node_total_mw = {}\n",
    "        for dev in self.agents_by_type[DeveloperAgent]:\n",
    "            if getattr(dev, \"dropped_out\", False) or dev.chosen_node is None or dev.internal_step_count>0:\n",
    "                continue\n",
    "            node_total_mw[dev.chosen_node] = node_total_mw.get(dev.chosen_node, 0) + dev.size\n",
    "        # Assign costs based on total MW at each node in a piecewise fashion\n",
    "        for dev in self.agents_by_type[DeveloperAgent]:\n",
    "            if getattr(dev, \"dropped_out\", False) or dev.chosen_node is None or dev.internal_step_count>0:\n",
    "                continue\n",
    "            node = next((n for n in self.nodes if n.unique_id == dev.chosen_node), None)\n",
    "            total_mw = node_total_mw.get(dev.chosen_node, 0)\n",
    "            node_threshold_1 = getattr(node, \"mw_threshold_1\")\n",
    "            node_threshold_2 = getattr(node, \"mw_threshold_2\")\n",
    "            nu_tier_0 = getattr(node, \"nu_tier_0\")\n",
    "            nu_tier_1=getattr(node, \"nu_tier_1\")\n",
    "            nu_tier_2=getattr(node, \"nu_tier_2\")\n",
    "\n",
    "            # Piecewise cost\n",
    "            assigned_cost = 0\n",
    "            if total_mw < node_threshold_1:\n",
    "                assigned_cost = nu_tier_0 * dev.size\n",
    "            elif node_threshold_1 <= total_mw <= node_threshold_2:\n",
    "                assigned_cost = nu_tier_1 * dev.size\n",
    "            elif node_threshold_2 < total_mw:\n",
    "                assigned_cost=nu_tier_2 *dev.size\n",
    "\n",
    "            # If ERIS differentiation is True, then the assigned cost for ERIS is the less of\n",
    "            #tier_0 times size or assigned_cost*nu_cost_factor\n",
    "            if self.ERIS_differentiation and getattr(dev, \"service_type\", None) == \"ERIS\":\n",
    "                assigned_cost = min(nu_tier_0 * dev.size, assigned_cost * self.ERIS_NU_factor)\n",
    "            dev.assigned_cost = assigned_cost\n",
    "    #reassign network upgrade costs to developers (this function is called if dropouts are high)\n",
    "    def reassign_costs(self):\n",
    "        # Precompute total MW applying for this node this round for developers not dropped out\n",
    "        node_total_mw = {}\n",
    "        for dev in self.agents_by_type[DeveloperAgent]:\n",
    "            if getattr(dev, \"dropped_out\", False) or dev.chosen_node is None or dev.internal_step_count>0:\n",
    "                continue\n",
    "            node_total_mw[dev.chosen_node] = node_total_mw.get(dev.chosen_node, 0) + dev.size\n",
    "        # Assign costs based on total MW at each node in a piecewise fashion\n",
    "        for dev in self.agents_by_type[DeveloperAgent]:\n",
    "            if getattr(dev, \"dropped_out\", False) or dev.chosen_node is None or dev.internal_step_count>0:\n",
    "                continue\n",
    "            node = next((n for n in self.nodes if n.unique_id == dev.chosen_node), None)\n",
    "            total_mw = node_total_mw.get(dev.chosen_node, 0)\n",
    "            node_threshold_1 = getattr(node, \"mw_threshold_1\")\n",
    "            node_threshold_2 = getattr(node, \"mw_threshold_2\")\n",
    "            nu_tier_0 = getattr(node, \"nu_tier_0\")\n",
    "            nu_tier_1=getattr(node, \"nu_tier_1\")\n",
    "            nu_tier_2=getattr(node, \"nu_tier_2\")\n",
    "\n",
    "            # Piecewise cost function\n",
    "            if total_mw < node_threshold_1:\n",
    "                assigned_cost = nu_tier_0 * dev.size\n",
    "            elif node_threshold_1 <= total_mw <= node_threshold_2:\n",
    "                assigned_cost = nu_tier_1 * dev.size\n",
    "            elif node_threshold_2 < total_mw:\n",
    "                assigned_cost=nu_tier_2 *dev.size\n",
    "\n",
    "            # If ERIS differentiation is True, then the assigned cost for ERIS is the less of\n",
    "            #tier_0 times size or assigned_cost*nu_cost_factor\n",
    "            if self.ERIS_differentiation and getattr(dev, \"service_type\", None) == \"ERIS\":\n",
    "                assigned_cost = min(nu_tier_0 * dev.size, assigned_cost * self.ERIS_NU_factor)\n",
    "            dev.assigned_cost = assigned_cost\n",
    "            self.restudy_factor=1\n",
    "    #Make developers dropout of queue if certain conditions are met \n",
    "    def apply_dropout(self):\n",
    "        num_devs = len(self.agents_by_type[DeveloperAgent])\n",
    "        num_dropped = 0\n",
    "        for dev in self.agents_by_type[DeveloperAgent]:\n",
    "            if dev.internal_step_count == 0:\n",
    "                if hasattr(dev, 'assigned_cost') and hasattr(dev, 'size') and hasattr(dev, 'service_type'):\n",
    "                    if dev.service_type == \"ERIS\":\n",
    "    # ERIS dropout if assigned cost is greater than their dropout threshold * risk tolerance \n",
    "    #dropout_threshold for ERIS projects is their ATB\n",
    "    #risk toleranceis a random number\n",
    "                        if dev.assigned_cost > dev.atb_capex*dev.atb_capex_multiplier*dev.risk_tolerance: #units are in $/MW\n",
    "                            dev.dropped_out = True\n",
    "                        else:\n",
    "                            dev.dropped_out = False\n",
    "    #dropout_threshold for NRIS projects is their ATB+ Anticipated Capacity Market Revenue\n",
    "                    elif dev.service_type == \"NRIS\":\n",
    "                        if dev.assigned_cost> dev.atb_capex*dev.atb_capex_multiplier*dev.risk_tolerance+self.capacity_price * 365 * dev.elcc*20: #units are in $/MW\n",
    "                            dev.dropped_out= True\n",
    "                        else:\n",
    "                            dev.dropped_out = False\n",
    "                    if dev.dropped_out:\n",
    "                        num_dropped +=1\n",
    "   \n",
    "    # Re-run assign_costs if dropout > 40%\n",
    "                    if num_devs > 0 and (num_dropped / num_devs) > 0.4:\n",
    "                        self.reassign_costs()\n",
    "\n",
    "\n",
    "#Calculate the total node NU costs, MW added, and avg cost/mw for this round\n",
    "    def calculate_node_network_upgrade_costs(self):\n",
    "        node_costs = {}\n",
    "        for dev in self.agents_by_type[DeveloperAgent]:\n",
    "            node = dev.chosen_node  \n",
    "        node_costs[node]['total_cost'] += dev.assigned_cost\n",
    "        node_costs[node]['total_size'] += dev.size\n",
    "        self.node_nu_costs = {}\n",
    "        self.node_nu_costs_per_mw = {}\n",
    "        self.node_size = {}\n",
    "        for node_id, vals in node_costs.items():\n",
    "                total_cost = vals['total_cost']\n",
    "                total_size = vals['total_size']\n",
    "                avg_nu_cost_per_MW = vals['total_cost'] / vals['total_size']\n",
    "        self.node_nu_costs[node_id] = total_cost\n",
    "        self.node_nu_costs_per_mw[node_id] = avg_nu_cost_per_MW\n",
    "        self.node_size[node_id] = total_size\n",
    "    #Assign Study Time \n",
    "    def assign_study_time(self):\n",
    "        #the study time is 1 and if a restudy occured then the study time is 1+restudy_factor (0 or 1)\n",
    "        self.study_time = 1+self.restudy_factor\n",
    "        #if the developer is ERIS then the study time is a fraction of the model study time\n",
    "        #for NRIS the study time is the model study time\n",
    "        for dev in self.agents_by_type[DeveloperAgent]:\n",
    "            if getattr(dev, \"service_type\", None) == \"ERIS\":\n",
    "                dev.study_time = self.study_time * self.ERIS_study_factor\n",
    "            else:\n",
    "                dev.study_time = self.study_time\n",
    "    #Assign Construction Time\n",
    "    #the construction time of a developer is a function of the assigned network upgrade costs \n",
    "    # and node specific delays, to a max of 7 years \n",
    "    def assign_construction_time(self):\n",
    "        for dev in self.agents_by_type[DeveloperAgent]:\n",
    "            if getattr(dev, \"dropped_out\", False):\n",
    "             continue\n",
    "            node = next((n for n in self.nodes if n.unique_id == dev.chosen_node), None)\n",
    "            delay_factor = getattr(node, \"construction_delay_factor\", 0)  \n",
    "            dev.construction_time = min(dev.assigned_cost / 100 + delay_factor, 7)\n",
    "            \n",
    "    #Come online\n",
    "    def update_online_status(self):\n",
    "        for dev in self.agents_by_type[DeveloperAgent]:\n",
    "            if not dev.online:\n",
    "                if dev.study_time is not None and dev.construction_time is not None:\n",
    "                    if dev.internal_step_count >= int(dev.study_time + dev.construction_time):\n",
    "                        dev.online = True\n",
    "\n",
    "        # Only adjust node capacity once\n",
    "            if getattr(dev, \"online\", False) and not getattr(dev, \"counted_online\", False):\n",
    "                node = next((n for n in self.nodes if n.unique_id == dev.chosen_node), None)\n",
    "                if node is not None:\n",
    "                # Subtract developer size from available capacity\n",
    "                    node.available_capacity -= dev.size\n",
    "                    node.installed_capacity +=dev.size\n",
    "                    if dev.service_type== \"ERIS\":\n",
    "                        node.congestion_indicator + dev.size/100 \n",
    "                    elif dev.service_type==\"NRIS\":\n",
    "                        node.congestion_indicator + dev.size/200\n",
    "                # Recalculate MW thresholds\n",
    "                    node.mw_threshold_1 = 0.5 * node.available_capacity\n",
    "                    node.mw_threshold_2 = 1.5 * node.mw_threshold_1\n",
    "\n",
    "            # Mark this developer as counted\n",
    "                dev.counted_online = True\n",
    "\n",
    "    #Update Total Generation\n",
    "    def update_total_capacity(self):\n",
    "        self.total_capacity_reference = 27000000 + sum(d.size for d in self.agents_by_type[DeveloperAgent] if d.online)\n",
    "        # Update Capacity Price\n",
    "    def update_capacity_price(self):\n",
    "        last_price = self.capacity_prices[-1]\n",
    "        new_online_mw = 0\n",
    "        for dev in self.agents_by_type[DeveloperAgent]:\n",
    "         if dev.online and dev.internal_step_count == int(self.current_study_time + dev.construction_time) + 1:\n",
    "            new_online_mw += dev.size\n",
    "        new_price = last_price * (1 - (new_online_mw)/self.total_capacity_reference)\n",
    "        self.capacity_prices.append(new_price)\n",
    "        print(self.total_capacity_reference)\n",
    "        print(new_online_mw)\n",
    "        self.capacity_price = new_price\n",
    "    def update_system_marginal_energy_cost(self):\n",
    "        last_price = self.system_marginal_energy_cost[-1]\n",
    "        print(f\"last_price: {last_price}\")\n",
    "        new_online_bid_price_sum = 0.0\n",
    "        new_online_count = 0\n",
    "\n",
    "        for dev in self.agents_by_type[DeveloperAgent]:\n",
    "            if (dev.online and dev.internal_step_count == int(dev.study_time + dev.construction_time) + 1):\n",
    "                new_online_bid_price_sum += dev.bid_price\n",
    "                new_online_count += 1\n",
    "\n",
    "        print(f\"new_online_bid_price_sum: {new_online_bid_price_sum}\")\n",
    "        print(f\"new_online_count: {new_online_count}\")\n",
    "        print(f\"total_capacity_reference: {self.total_capacity_reference}\")\n",
    "\n",
    "        if new_online_count:\n",
    "            avg_new_online_bid_price = new_online_bid_price_sum / new_online_count\n",
    "        else:\n",
    "            avg_new_online_bid_price = 0.0\n",
    "\n",
    "        print(f\"avg_new_online_bid_price: {avg_new_online_bid_price}\")\n",
    "\n",
    "        if self.total_capacity_reference == 0:\n",
    "            print(\"Warning: total_capacity_reference is zero! Adjusting to 1 to avoid division by zero.\")\n",
    "            self.total_capacity_reference = 1  # or handle differently\n",
    "\n",
    "        new_price = last_price * (1 - avg_new_online_bid_price / self.total_capacity_reference)\n",
    "        print(\"  new_price:\", new_price)\n",
    "\n",
    "        self.system_marginal_energy_cost.append(new_price)\n",
    "        self.current_system_marginal_energy_cost = new_price\n",
    "    def count_nodes(self):\n",
    "        for dev in self.agents_by_type[DeveloperAgent]:\n",
    "            if getattr(dev, \"service_type\", None) == \"NRIS\" and getattr(dev, \"added_this_round\", False):\n",
    "                self.nris_added_last_round[dev.chosen_node] = (\n",
    "                    self.nris_added_last_round.get(dev.chosen_node, 0) + 1\n",
    "            )\n",
    "    #build transmisison for nodes with highest congestion adder\n",
    "    def build_transmission (self):\n",
    "    # Record the current congestion state each step\n",
    "        self.transmission_built_this_round = []\n",
    "        current_step = self.steps\n",
    "        snapshot = [(node, node.congestion_cost) for node in self.nodes]\n",
    "        self.congestion_history.append((current_step, snapshot))\n",
    "\n",
    "        delay = 5\n",
    "        if current_step >= delay:\n",
    "        # Get the snapshot from exactly 5 steps ago\n",
    "            past_snapshot = self.congestion_history[current_step - delay][1]\n",
    "\n",
    "        # Pick top 3 most congested nodes from that past snapshot\n",
    "            top_nodes = sorted(past_snapshot, key=lambda x: x[1], reverse=True)[:3]\n",
    "\n",
    "        # Apply congestion reduction and increase available capacity now based on past congestion\n",
    "            for node, _ in top_nodes:\n",
    "                node.congestion_indicator -= 2\n",
    "                node.available_capacity +=100\n",
    "                self.transmission_built_this_round.append(node.unique_id)\n",
    "    \n",
    "    #Define order of Functions for each Step in Model\n",
    "    def step(self):\n",
    "        self.add_new_projects()\n",
    "        for dev in self.agents_by_type[DeveloperAgent]:\n",
    "            if dev.internal_step_count == 0:\n",
    "             dev.choose_node()\n",
    "             dev.step_chosen_node=self.steps\n",
    "        self.choose_service_type()\n",
    "        self.assign_costs()\n",
    "        self.apply_dropout()\n",
    "        self.assign_study_time()\n",
    "        self.assign_construction_time()\n",
    "        self.update_online_status()\n",
    "        self.update_total_capacity()\n",
    "        self.update_capacity_price()\n",
    "        self.update_system_marginal_energy_cost()\n",
    "        for node in self.nodes:\n",
    "            node.step()\n",
    "        \n",
    "        round_data = []\n",
    "        \n",
    "        for dev in self.agents_by_type[DeveloperAgent]:\n",
    "            node_obj = next((n for n in self.nodes if n.unique_id == dev.chosen_node), None)\n",
    "            round_data.append({\n",
    "            \"dev_id\": dev.unique_id,\n",
    "            \"step\": dev.internal_step_count,\n",
    "            \"chosen_node\": int(dev.chosen_node) if dev.chosen_node is not None else None,\n",
    "            \"dropped_out\": getattr(dev, \"dropped_out\", False),\n",
    "            \"developer\": dev.developer,\n",
    "            \"assigned_cost\": dev.assigned_cost,\n",
    "            \"assigned_study_time\": dev.study_time,\n",
    "            \"assigned_construction_time\": getattr(dev, \"construction_time\", None),\n",
    "            \"online\": dev.online,\n",
    "            \"Model Step\":self.steps,\n",
    "            \"Capacity Price\":self.capacity_price,\n",
    "            \"Service_Type\": dev.service_type,\n",
    "            \"Bid Price\": dev.bid_price,\n",
    "            \"size\":dev.size\n",
    "        })\n",
    "        self.round_results.append(round_data)\n",
    "        self.projects_per_node = [node.total_projects for node in self.nodes]\n",
    "        self.datacollector.collect(self)\n",
    "          # ── 4. model‑level summary stats for this round ──────────────────────────\n",
    "        # ── Model-level summary stats for this round ──\n",
    "\n",
    "        num_total = len(self.agents_by_type[DeveloperAgent])\n",
    "        num_dropped_out = sum(1 for d in self.agents_by_type[DeveloperAgent] if getattr(d, \"dropped_out\", False))\n",
    "        num_online = sum(1 for d in self.agents_by_type[DeveloperAgent] if getattr(d, \"online\", False))\n",
    "        num_pending = num_total - num_dropped_out - num_online  # pending = total - dropped_out - online\n",
    "        num_dropped_out = sum(1 for d in self.agents_by_type[DeveloperAgent] if getattr(d, \"dropped_out\", False))\n",
    "        num_online = sum(1 for d in self.agents_by_type[DeveloperAgent] if getattr(d, \"online\", False))\n",
    "        num_pending = num_total - num_dropped_out - num_online  # pending = total - dropped_out - online\n",
    "\n",
    "        total_online_mw = sum(d.size for d in self.agents_by_type[DeveloperAgent] if getattr(d, \"online\", False))\n",
    "        total_mw = sum(d.size for d in self.agents_by_type[DeveloperAgent] if getattr(d, \"size\", 0) is not None)\n",
    "        total_dropped_out_mw = sum(d.size for d in self.agents_by_type[DeveloperAgent] if getattr(d, \"dropped_out\", False))\n",
    "        total_pending_mw = sum(d.size for d in self.agents_by_type[DeveloperAgent] \n",
    "                       if not getattr(d, \"dropped_out\", False) and not getattr(d, \"online\", False))\n",
    "\n",
    "\n",
    "        # --- Model-level average construction times ---\n",
    "        construction_times_all = [d.construction_time for d in self.agents_by_type[DeveloperAgent] \n",
    "                                if d.construction_time is not None and not getattr(d, \"dropped_out\", False)]\n",
    "        construction_times_eris = [d.construction_time for d in self.agents_by_type[DeveloperAgent] \n",
    "                                if getattr(d, \"service_type\", None) == \"ERIS\" and d.construction_time is not None and not getattr(d, \"dropped_out\", False)]\n",
    "        construction_times_nris = [d.construction_time for d in self.agents_by_type[DeveloperAgent] \n",
    "                                if getattr(d, \"service_type\", None) == \"NRIS\" and d.construction_time is not None and not getattr(d, \"dropped_out\", False)]\n",
    "\n",
    "        self.avg_construction_time = np.mean(construction_times_all) if construction_times_all else 0\n",
    "        self.avg_construction_time_eris = np.mean(construction_times_eris) if construction_times_eris else 0\n",
    "        self.avg_construction_time_nris = np.mean(construction_times_nris) if construction_times_nris else 0\n",
    "        \n",
    "\n",
    "        # --- Model-level average study times ---\n",
    "        study_times_all = [d.study_time for d in self.agents_by_type[DeveloperAgent] if d.study_time is not None]\n",
    "        study_times_eris = [d.study_time for d in self.agents_by_type[DeveloperAgent] \n",
    "                            if getattr(d, \"service_type\", None) == \"ERIS\" and d.study_time is not None]\n",
    "        study_times_nris = [d.study_time for d in self.agents_by_type[DeveloperAgent] \n",
    "                            if getattr(d, \"service_type\", None) == \"NRIS\" and d.study_time is not None]\n",
    "\n",
    "        self.study_time_all = np.mean(study_times_all) if study_times_all else 0\n",
    "        self.study_time_eris = np.mean(study_times_eris) if study_times_eris else 0\n",
    "        self.study_time_nris = np.mean(study_times_nris) if study_times_nris else 0\n",
    "        assigned_costs_all = [\n",
    "            d.assigned_cost for d in self.agents_by_type[DeveloperAgent]\n",
    "            if getattr(d, \"assigned_cost\", None) is not None and not getattr(d, \"dropped_out\", False)\n",
    "        ]\n",
    "        \n",
    "\n",
    "        # ERIS developers\n",
    "        assigned_costs_eris = [\n",
    "            d.assigned_cost for d in self.agents_by_type[DeveloperAgent]\n",
    "            if getattr(d, \"service_type\", None) == \"ERIS\"\n",
    "            and getattr(d, \"assigned_cost\", None) is not None\n",
    "            and not getattr(d, \"dropped_out\", False)\n",
    "        ]\n",
    "\n",
    "        # NRIS developers\n",
    "        assigned_costs_nris = [\n",
    "            d.assigned_cost for d in self.agents_by_type[DeveloperAgent]\n",
    "            if getattr(d, \"service_type\", None) == \"NRIS\"\n",
    "            and getattr(d, \"assigned_cost\", None) is not None\n",
    "            and not getattr(d, \"dropped_out\", False)\n",
    "        ]\n",
    "\n",
    "        # Compute averages safely\n",
    "        self.avg_assigned_cost_all = np.mean(assigned_costs_all) if assigned_costs_all else None\n",
    "        self.avg_assigned_cost_eris = np.mean(assigned_costs_eris) if assigned_costs_eris else None\n",
    "        self.avg_assigned_cost_nris = np.mean(assigned_costs_nris) if assigned_costs_nris else None\n",
    "\n",
    "        # ERIS stats\n",
    "        eris_agents = [d for d in self.agents_by_type[DeveloperAgent] if getattr(d, \"service_type\", None) == \"ERIS\"]\n",
    "        dropped_out_eris_count = sum(1 for d in eris_agents if getattr(d, \"dropped_out\", False))\n",
    "        pending_eris_count = sum(1 for d in eris_agents if not getattr(d, \"dropped_out\", False) and not getattr(d, \"online\", False))\n",
    "        online_eris_count  = sum(1 for d in eris_agents if getattr(d, \"online\", False))\n",
    "        dropped_out_eris_mw = sum(d.size for d in eris_agents if getattr(d, \"dropped_out\", False))\n",
    "        pending_eris_mw = sum(d.size for d in eris_agents if not getattr(d, \"dropped_out\", False) and not getattr(d, \"online\", False))\n",
    "        online_eris_mw  = sum(d.size for d in eris_agents if getattr(d, \"online\", False))\n",
    "\n",
    "        # NRIS stats\n",
    "        nris_agents = [d for d in self.agents_by_type[DeveloperAgent] if getattr(d, \"service_type\", None) == \"NRIS\"]\n",
    "        dropped_out_nris_count = sum(1 for d in nris_agents if getattr(d, \"dropped_out\", False))\n",
    "        pending_nris_count = sum(1 for d in nris_agents if not getattr(d, \"dropped_out\", False) and not getattr(d, \"online\", False))\n",
    "        online_nris_count  = sum(1 for d in nris_agents if getattr(d, \"online\", False))\n",
    "        dropped_out_nris_mw = sum(d.size for d in nris_agents if getattr(d, \"dropped_out\", False))\n",
    "        pending_nris_mw = sum(d.size for d in nris_agents if not getattr(d, \"dropped_out\", False) and not getattr(d, \"online\", False))\n",
    "        online_nris_mw  = sum(d.size for d in nris_agents if getattr(d, \"online\", False))\n",
    "\n",
    "# Collect all in a dictionary for saving\n",
    "        summary = {\n",
    "        \"model_step\": self.steps,\n",
    "        \"num_total\": num_total,\n",
    "        \"dropped_out_count\": num_dropped_out,\n",
    "        \"pending_count\": num_pending,\n",
    "        \"online_count\": num_online,\n",
    "        \"dropped_out_eris_count\": dropped_out_eris_count,\n",
    "        \"pending_eris_count\": pending_eris_count,\n",
    "        \"online_eris_count\": online_eris_count,\n",
    "        \"dropped_out_eris_mw\": dropped_out_eris_mw,\n",
    "        \"pending_eris_mw\": pending_eris_mw,\n",
    "        \"total_online_mw\":total_online_mw,\n",
    "        \"total_mw\":total_mw,\n",
    "        \"total_pending_mw\":total_pending_mw,\n",
    "        \"total_dropped_out_mw\":total_dropped_out_mw,\n",
    "        \"online_eris_mw\": online_eris_mw,\n",
    "        \"dropped_out_nris_count\": dropped_out_nris_count,\n",
    "        \"pending_nris_count\": pending_nris_count,\n",
    "        \"online_nris_count\": online_nris_count,\n",
    "        \"dropped_out_nris_mw\": dropped_out_nris_mw,\n",
    "        \"pending_nris_mw\": pending_nris_mw,\n",
    "        \"online_nris_mw\": online_nris_mw,\n",
    "        \"capacity_price\": self.capacity_price,\n",
    "        \"system_marginal_energy_price\":self.system_marginal_energy_cost,\n",
    "        \"avg_construction_time\": self.avg_construction_time,\n",
    "        \"avg_construction_time_eris\": self.avg_construction_time_eris,\n",
    "        \"avg_construction_time_nris\": self.avg_construction_time_nris,\n",
    "        \"study_time_all\":self.study_time,\n",
    "        \"study_time_eris\":self.study_time_eris,\n",
    "        \"study_time_nris\":self.study_time_nris, \n",
    "        \"nu_all_avg\" :self.avg_assigned_cost_all,\n",
    "        \"nu_eris_avg\" :self.avg_assigned_cost_eris,\n",
    "        \"nu_nris_avg\":self.avg_assigned_cost_nris,\n",
    "        \"transmission_built_nodes\": getattr(self, \"transmission_built_this_round\", []),\n",
    "        \"total_installed_capacity\": self.total_capacity_reference\n",
    "\n",
    "\n",
    "}\n",
    "        self.round_summary.append(summary)\n",
    "        node_summary = []\n",
    "\n",
    "        # Avg assigned costs helper\n",
    "        def avg_cost(dev_list, service_type):\n",
    "            costs = [dev.assigned_cost for dev in dev_list if dev.service_type == service_type and dev.assigned_cost is not None]\n",
    "            return np.mean(costs) if costs else 0\n",
    "\n",
    "        for node in self.nodes:\n",
    "            # Developers who chose this node this step\n",
    "            new_devs_at_node = [\n",
    "                dev for dev in self.agents_by_type[DeveloperAgent]\n",
    "                if dev.chosen_node == node.unique_id and getattr(dev, \"step_chosen_node\", None) == self.steps\n",
    "            ]\n",
    "\n",
    "            # All developers at this node\n",
    "            all_devs_at_node = [dev for dev in self.agents_by_type[DeveloperAgent] if dev.chosen_node == node.unique_id]\n",
    "\n",
    "            # Totals (only new devs)\n",
    "            node.new_count = len(new_devs_at_node)\n",
    "            node.new_eris_count = sum(1 for dev in new_devs_at_node if dev.service_type == \"ERIS\")\n",
    "            node.new_nris_count = sum(1 for dev in new_devs_at_node if dev.service_type == \"NRIS\")\n",
    "            node.new_mw=sum(dev.size for dev in new_devs_at_node)\n",
    "            node.new_eris_mw=sum(dev.size for dev in new_devs_at_node if dev.service_type==\"ERIS\")\n",
    "            node.new_nris_mw=sum(dev.size for dev in new_devs_at_node if dev.service_type==\"NRIS\")\n",
    "\n",
    "            # Dropped out (only new devs)\n",
    "            dropped_out_devs = [dev for dev in new_devs_at_node if getattr(dev, \"dropped_out\", False)]\n",
    "            node.new_dropped_out = len(dropped_out_devs)\n",
    "            node.dropped_out_mw = sum(dev.size for dev in dropped_out_devs)\n",
    "            node.dropped_out_eris_count = sum(1 for dev in dropped_out_devs if dev.service_type == \"ERIS\")\n",
    "            node.dropped_out_nris_count = sum(1 for dev in dropped_out_devs if dev.service_type == \"NRIS\")\n",
    "            node.dropped_out_eris_mw = sum(dev.size for dev in dropped_out_devs if dev.service_type == \"ERIS\")\n",
    "            node.dropped_out_nris_mw = sum(dev.size for dev in dropped_out_devs if dev.service_type == \"NRIS\")\n",
    "\n",
    "            # Pending and online (all devs)\n",
    "            pending_devs = [dev for dev in all_devs_at_node if not getattr(dev, \"dropped_out\", False) and not getattr(dev, \"online\", False)]\n",
    "            online_devs = [dev for dev in all_devs_at_node if getattr(dev, \"online\", False)]\n",
    "            pending_devs_new = [dev for dev in new_devs_at_node if not getattr(dev, \"dropped_out\", False) and not getattr(dev, \"online\", False)]\n",
    "            online_devs_new = [dev for dev in new_devs_at_node if getattr(dev, \"online\", False)]\n",
    "\n",
    "\n",
    "            node.total_pending_count = len(pending_devs)\n",
    "            node.total_online_count = len(online_devs)\n",
    "            node.pending_mw = sum(dev.size for dev in pending_devs)\n",
    "            node.online_mw = sum(dev.size for dev in online_devs)\n",
    "            node.pending_eris_count = sum(1 for dev in pending_devs if dev.service_type == \"ERIS\")\n",
    "            node.pending_nris_count = sum(1 for dev in pending_devs if dev.service_type == \"NRIS\")\n",
    "            node.online_eris_count = sum(1 for dev in online_devs if dev.service_type == \"ERIS\")\n",
    "            node.online_nris_count = sum(1 for dev in online_devs if dev.service_type == \"NRIS\")\n",
    "            node.pending_eris_mw = sum(dev.size for dev in pending_devs if dev.service_type == \"ERIS\")\n",
    "            node.pending_nris_mw = sum(dev.size for dev in pending_devs if dev.service_type == \"NRIS\")\n",
    "            node.online_eris_mw = sum(dev.size for dev in online_devs if dev.service_type == \"ERIS\")\n",
    "            node.online_nris_mw = sum(dev.size for dev in online_devs if dev.service_type == \"NRIS\")\n",
    "            node.avg_construction_time= np.mean([dev.construction_time for dev in new_devs_at_node if not getattr(dev, \"dropped_out\", False)])\n",
    "            node.avg_study_time=np.mean([dev.study_time for dev in new_devs_at_node]) \n",
    "\n",
    "\n",
    "            node_summary.append({\n",
    "                \"model_step\": self.steps,\n",
    "                \"node_id\": node.unique_id,\n",
    "                \"lmp\": node.lmp,\n",
    "                \"available_capacity\": node.available_capacity,\n",
    "                \"queue_size_normalized_by_capacity\": node.queue_size_normalized_by_capacity,\n",
    "                \"num_projects\": node.new_count,\n",
    "                \"congestion_indicator\": node.congestion_indicator,\n",
    "                \"mw_threshold_1\": node.mw_threshold_1,\n",
    "                \"mw_threshold_2\": node.mw_threshold_2,\n",
    "                \"installed_capacity\": node.installed_capacity,\n",
    "                \"new_eris_count\": node.new_eris_count,\n",
    "                \"new_nris_count\": node.new_nris_count,\n",
    "                \"new_dropped_out\": node.new_dropped_out,\n",
    "                \"dropped_out_eris_count\": node.dropped_out_eris_count,\n",
    "                \"dropped_out_nris_count\": node.dropped_out_nris_count,\n",
    "                \"dropped_out_eris_mw\": node.dropped_out_eris_mw,\n",
    "                \"dropped_out_nris_mw\": node.dropped_out_nris_mw,\n",
    "                \"dropped_out_mw\": node.dropped_out_mw,\n",
    "                \"total_pending_count\": node.total_pending_count,\n",
    "                \"pending_eris_count\": node.pending_eris_count,\n",
    "                \"pending_nris_count\": node.pending_nris_count,\n",
    "                \"pending_mw\": node.pending_mw,\n",
    "                \"pending_eris_mw\": node.pending_eris_mw,\n",
    "                \"pending_nris_mw\": node.pending_nris_mw,\n",
    "                \"total_online_count\": node.total_online_count,\n",
    "                \"online_eris_count\": node.online_eris_count,\n",
    "                \"online_nris_count\": node.online_nris_count,\n",
    "                \"online_mw\": node.online_mw,\n",
    "                \"online_eris_mw\": node.online_eris_mw,\n",
    "                \"online_nris_mw\": node.online_nris_mw,\n",
    "                \"avg_cost_eris_dropped_out\": avg_cost(dropped_out_devs, \"ERIS\"),\n",
    "                \"avg_cost_nris_dropped_out\": avg_cost(dropped_out_devs, \"NRIS\"),\n",
    "                \"avg_cost_eris_pending\": avg_cost(pending_devs_new, \"ERIS\"),\n",
    "                \"avg_cost_nris_pending\": avg_cost(pending_devs_new, \"NRIS\"),\n",
    "                \"avg_cost_eris_online\": avg_cost(online_devs_new, \"ERIS\"),\n",
    "                \"avg_cost_nris_online\": avg_cost(online_devs_new, \"NRIS\"),\n",
    "                \"avg_construction_time\": node.avg_construction_time,\n",
    "                \"avg_study_time\":node.avg_study_time\n",
    "            })\n",
    "\n",
    "        self.node_summary_list.append(node_summary)\n",
    "\n",
    "       \n",
    "        self.build_transmission()\n",
    "            # Remove dropped out developers\n",
    "        for dev in list(self.agents_by_type[DeveloperAgent]):\n",
    "            if getattr(dev, \"dropped_out\", False):\n",
    "                dev.remove()\n",
    "        self.agents.shuffle_do(\"step\")\n",
    "\n",
    "\n",
    "    "
   ]
  },
  {
   "cell_type": "markdown",
   "id": "f3d76224",
   "metadata": {},
   "source": [
    "# Running the Model"
   ]
  },
  {
   "cell_type": "code",
   "execution_count": 134,
   "id": "72944927",
   "metadata": {},
   "outputs": [
    {
     "name": "stdout",
     "output_type": "stream",
     "text": [
      "27000000\n",
      "0\n",
      "last_price: 1.0\n",
      "new_online_bid_price_sum: 0.0\n",
      "new_online_count: 0\n",
      "total_capacity_reference: 27000000\n",
      "avg_new_online_bid_price: 0.0\n",
      "  new_price: 1.0\n"
     ]
    },
    {
     "name": "stderr",
     "output_type": "stream",
     "text": [
      "c:\\Users\\abigail.weeks\\AppData\\Local\\Programs\\Python\\Python313\\Lib\\site-packages\\numpy\\_core\\fromnumeric.py:3860: RuntimeWarning:\n",
      "\n",
      "Mean of empty slice.\n",
      "\n",
      "c:\\Users\\abigail.weeks\\AppData\\Local\\Programs\\Python\\Python313\\Lib\\site-packages\\numpy\\_core\\_methods.py:145: RuntimeWarning:\n",
      "\n",
      "invalid value encountered in scalar divide\n",
      "\n"
     ]
    },
    {
     "name": "stdout",
     "output_type": "stream",
     "text": [
      "27000000\n",
      "0\n",
      "last_price: 1.0\n",
      "new_online_bid_price_sum: 0.0\n",
      "new_online_count: 0\n",
      "total_capacity_reference: 27000000\n",
      "avg_new_online_bid_price: 0.0\n",
      "  new_price: 1.0\n",
      "27000000\n",
      "0\n",
      "last_price: 1.0\n",
      "new_online_bid_price_sum: 0.0\n",
      "new_online_count: 0\n",
      "total_capacity_reference: 27000000\n",
      "avg_new_online_bid_price: 0.0\n",
      "  new_price: 1.0\n",
      "27000000\n",
      "0\n",
      "last_price: 1.0\n",
      "new_online_bid_price_sum: 0.0\n",
      "new_online_count: 0\n",
      "total_capacity_reference: 27000000\n",
      "avg_new_online_bid_price: 0.0\n",
      "  new_price: 1.0\n",
      "27000000\n",
      "0\n",
      "last_price: 1.0\n",
      "new_online_bid_price_sum: 0.0\n",
      "new_online_count: 0\n",
      "total_capacity_reference: 27000000\n",
      "avg_new_online_bid_price: 0.0\n",
      "  new_price: 1.0\n",
      "27000000\n",
      "0\n",
      "last_price: 1.0\n",
      "new_online_bid_price_sum: 0.0\n",
      "new_online_count: 0\n",
      "total_capacity_reference: 27000000\n",
      "avg_new_online_bid_price: 0.0\n",
      "  new_price: 1.0\n",
      "27000000\n",
      "0\n",
      "last_price: 1.0\n",
      "new_online_bid_price_sum: 0.0\n",
      "new_online_count: 0\n",
      "total_capacity_reference: 27000000\n",
      "avg_new_online_bid_price: 0.0\n",
      "  new_price: 1.0\n",
      "27000000\n",
      "0\n",
      "last_price: 1.0\n",
      "new_online_bid_price_sum: 0.0\n",
      "new_online_count: 0\n",
      "total_capacity_reference: 27000000\n",
      "avg_new_online_bid_price: 0.0\n",
      "  new_price: 1.0\n",
      "27000000\n",
      "0\n",
      "last_price: 1.0\n",
      "new_online_bid_price_sum: 0.0\n",
      "new_online_count: 0\n",
      "total_capacity_reference: 27000000\n",
      "avg_new_online_bid_price: 0.0\n",
      "  new_price: 1.0\n",
      "27024218.64\n",
      "0\n",
      "last_price: 1.0\n",
      "new_online_bid_price_sum: 0.0\n",
      "new_online_count: 0\n",
      "total_capacity_reference: 27024218.64\n",
      "avg_new_online_bid_price: 0.0\n",
      "  new_price: 1.0\n",
      "27035821.49\n",
      "0\n",
      "last_price: 1.0\n",
      "new_online_bid_price_sum: 0.0\n",
      "new_online_count: 227\n",
      "total_capacity_reference: 27035821.49\n",
      "avg_new_online_bid_price: 0.0\n",
      "  new_price: 1.0\n",
      "27048526.9\n",
      "0\n",
      "last_price: 1.0\n",
      "new_online_bid_price_sum: 0.0\n",
      "new_online_count: 110\n",
      "total_capacity_reference: 27048526.9\n",
      "avg_new_online_bid_price: 0.0\n",
      "  new_price: 1.0\n",
      "27061044.71\n",
      "0\n",
      "last_price: 1.0\n",
      "new_online_bid_price_sum: 0.0\n",
      "new_online_count: 113\n",
      "total_capacity_reference: 27061044.71\n",
      "avg_new_online_bid_price: 0.0\n",
      "  new_price: 1.0\n",
      "27071609.86\n",
      "0\n",
      "last_price: 1.0\n",
      "new_online_bid_price_sum: 0.0\n",
      "new_online_count: 111\n",
      "total_capacity_reference: 27071609.86\n",
      "avg_new_online_bid_price: 0.0\n",
      "  new_price: 1.0\n",
      "27083265.17\n",
      "0\n",
      "last_price: 1.0\n",
      "new_online_bid_price_sum: 0.0\n",
      "new_online_count: 105\n",
      "total_capacity_reference: 27083265.17\n",
      "avg_new_online_bid_price: 0.0\n",
      "  new_price: 1.0\n",
      "Final projects per node: [0, 0, 0, 0, 0, 0, 0, 0, 0, 0, 0, 0, 0, 0, 0, 0, 0, 0, 0, 0]\n",
      "Empty DataFrame\n",
      "Columns: []\n",
      "Index: [0, 1, 2, 3, 4, 5, 6, 7, 8, 9, 10, 11, 12, 13, 14]\n",
      "    model_step  num_total  dropped_out_count  pending_count  online_count  \\\n",
      "0            1        622                395            227             0   \n",
      "1            2        538                201            337             0   \n",
      "2            3        648                198            450             0   \n",
      "3            4        761                200            561             0   \n",
      "4            5        872                206            666             0   \n",
      "5            6        977                192            785             0   \n",
      "6            7       1096                183            913             0   \n",
      "7            8       1224                205           1019             0   \n",
      "8            9       1330                202           1128             0   \n",
      "9           10       1439                199           1013           227   \n",
      "10          11       1551                207           1007           337   \n",
      "11          12       1655                197           1008           450   \n",
      "12          13       1769                199           1009           561   \n",
      "13          14       1881                195           1020           666   \n",
      "14          15       1997                188           1024           785   \n",
      "\n",
      "    dropped_out_eris_count  pending_eris_count  online_eris_count  \\\n",
      "0                      355                   0                  0   \n",
      "1                      187                   0                  0   \n",
      "2                      181                   0                  0   \n",
      "3                      185                   0                  0   \n",
      "4                      192                   0                  0   \n",
      "5                      174                   0                  0   \n",
      "6                      167                   0                  0   \n",
      "7                      185                   0                  0   \n",
      "8                      184                   0                  0   \n",
      "9                      179                   0                  0   \n",
      "10                     185                   0                  0   \n",
      "11                     178                   0                  0   \n",
      "12                     182                   0                  0   \n",
      "13                     183                   0                  0   \n",
      "14                     169                   0                  0   \n",
      "\n",
      "    dropped_out_eris_mw  pending_eris_mw  ...  avg_construction_time_eris  \\\n",
      "0              47327.80                0  ...                           0   \n",
      "1              24966.32                0  ...                           0   \n",
      "2              23270.76                0  ...                           0   \n",
      "3              23554.76                0  ...                           0   \n",
      "4              26562.72                0  ...                           0   \n",
      "5              24018.26                0  ...                           0   \n",
      "6              19956.78                0  ...                           0   \n",
      "7              24611.01                0  ...                           0   \n",
      "8              26045.92                0  ...                           0   \n",
      "9              24722.47                0  ...                           0   \n",
      "10             25435.11                0  ...                           0   \n",
      "11             22592.96                0  ...                           0   \n",
      "12             25460.34                0  ...                           0   \n",
      "13             23729.27                0  ...                           0   \n",
      "14             22485.48                0  ...                           0   \n",
      "\n",
      "    avg_construction_time_nris  study_time_all  study_time_eris  \\\n",
      "0                          7.0               2              1.0   \n",
      "1                          7.0               2              1.0   \n",
      "2                          7.0               2              1.0   \n",
      "3                          7.0               2              1.0   \n",
      "4                          7.0               2              1.0   \n",
      "5                          7.0               2              1.0   \n",
      "6                          7.0               2              1.0   \n",
      "7                          7.0               2              1.0   \n",
      "8                          7.0               2              1.0   \n",
      "9                          7.0               2              1.0   \n",
      "10                         7.0               2              1.0   \n",
      "11                         7.0               2              1.0   \n",
      "12                         7.0               2              1.0   \n",
      "13                         7.0               2              1.0   \n",
      "14                         7.0               2              1.0   \n",
      "\n",
      "    study_time_nris     nu_all_avg  nu_eris_avg    nu_nris_avg  \\\n",
      "0               2.0  105659.207048         None  105659.207048   \n",
      "1               2.0  105600.860534         None  105600.860534   \n",
      "2               2.0  107317.555556         None  107317.555556   \n",
      "3               2.0  108396.987522         None  108396.987522   \n",
      "4               2.0  107170.960961         None  107170.960961   \n",
      "5               2.0  105772.191083         None  105772.191083   \n",
      "6               2.0  107971.478642         None  107971.478642   \n",
      "7               2.0  107569.892051         None  107569.892051   \n",
      "8               2.0  106209.813830         None  106209.813830   \n",
      "9               2.0  105073.362903         None  105073.362903   \n",
      "10              2.0  103949.724702         None  103949.724702   \n",
      "11              2.0  104415.116598         None  104415.116598   \n",
      "12              2.0  104091.509554         None  104091.509554   \n",
      "13              2.0  104668.784104         None  104668.784104   \n",
      "14              2.0  104792.437811         None  104792.437811   \n",
      "\n",
      "    transmission_built_nodes  total_installed_capacity  \n",
      "0                         []               27000000.00  \n",
      "1                         []               27000000.00  \n",
      "2                         []               27000000.00  \n",
      "3                         []               27000000.00  \n",
      "4                         []               27000000.00  \n",
      "5                  [2, 6, 4]               27000000.00  \n",
      "6                  [2, 6, 4]               27000000.00  \n",
      "7                  [2, 6, 4]               27000000.00  \n",
      "8                  [2, 6, 4]               27000000.00  \n",
      "9                  [2, 6, 4]               27024218.64  \n",
      "10                 [2, 6, 4]               27035821.49  \n",
      "11                 [2, 6, 4]               27048526.90  \n",
      "12                 [2, 6, 4]               27061044.71  \n",
      "13                 [2, 6, 4]               27071609.86  \n",
      "14                 [2, 6, 4]               27083265.17  \n",
      "\n",
      "[15 rows x 34 columns]\n",
      "Steps taken: 15\n",
      "Length of round_summary: 15\n"
     ]
    }
   ],
   "source": [
    "capacity_price=289 \n",
    "model_instance = InterconnectionModel(developer_states, node_states, new_projects_df, capacity_price)\n",
    "for _ in range(15):\n",
    "    model_instance.step()\n",
    "print(\"Final projects per node:\", model_instance.projects_per_node)\n",
    "projects_list = [round_data.get(\"projects_per_node\", {}) for round_data in model_instance.round_summary]\n",
    "\n",
    "projects_df = pd.DataFrame(projects_list).fillna(0).astype(int)\n",
    "print(projects_df)\n",
    "    \n",
    "# Use your model instance name\n",
    "flat_results = [entry for round_data in model_instance.round_results for entry in round_data]\n",
    "\n",
    "\n",
    "# Convert to DataFrame\n",
    "df = pd.DataFrame(flat_results)\n",
    "\n",
    "# Save to CSV\n",
    "df.to_csv(\"developer_round_results.csv\", index=False)\n",
    "df2 = pd.DataFrame(model_instance.round_summary)  # Make sure you pass the list of dicts here\n",
    "\n",
    "df2.to_csv('model_round_summary.csv', index=False)\n",
    "for start in range(0, len(df2), 50):\n",
    "    print(df2.iloc[start:start+50])\n",
    "print(\"Steps taken:\", model_instance.steps)\n",
    "print(\"Length of round_summary:\", len(model_instance.round_summary))\n",
    "\n",
    "all_node_rows = [row for step_list in model_instance.node_summary_list for row in step_list]\n",
    "node_summary_df = pd.DataFrame(all_node_rows)\n",
    "node_summary_df.to_csv('node_round_summary.csv')\n"
   ]
  },
  {
   "cell_type": "code",
   "execution_count": 135,
   "id": "7b0903fa",
   "metadata": {},
   "outputs": [
    {
     "name": "stdout",
     "output_type": "stream",
     "text": [
      "Index(['unique_id', 'full_name', 'name', 'load ', 'generation',\n",
      "       'generation_normalized_by_installed_capacity',\n",
      "       'day_ahead_congestion_hours', 'congestion_cost', 'congestion_indicator',\n",
      "       'mw_threshold_1', 'mw_threshold_2', 'nu_tier_0', 'nu_tier_1',\n",
      "       'nu_tier_2', 'construction_delay_factor', 'lmp', 'installed_capacity',\n",
      "       'annual_growth_rate_ten_ year', 'annual_growth_rate_twenty_ year',\n",
      "       'queued_mw', 'queue_size_normalized_by_capacity', 'percent_solar',\n",
      "       'percent_wind', 'available_capacity', 'Unnamed: 24', 'nu_cost_per_mw',\n",
      "       'battery', 'combined_cycle', 'ct_natural_gas', 'ct_oil', 'ct_other',\n",
      "       'fuel_cycle', 'hydro_pumped', 'hydro_river', 'nuclear',\n",
      "       'rice_natural_gas', 'rice_oil', 'rice_other', 'solar', 'solar_storage',\n",
      "       'solar_wind', 'steam_coal', 'steam_natural_gas', 'steam_oil',\n",
      "       'steam_other', 'wind', 'wind_storage', 'battery_queued', 'cc_queued',\n",
      "       'ct_natural_gas_queued', 'ct_oil_queued', 'ct_other_queued',\n",
      "       'fuel_cell_queued', 'hydro_pumped_queued', 'hydro_river_queued',\n",
      "       'nuclear_queued', 'rice_natural_gas_queued', 'rice_oil_queued',\n",
      "       'rice_other_queued', 'solar_queued', 'solar_storage_queued',\n",
      "       'solar_wind_queued', 'steam_coal_queued', 'steam_natural_gas_queued',\n",
      "       'steam_oil_queued', 'steam_other_queued', 'wind_queued',\n",
      "       'wind_storage_queued', 'planned_retirements'],\n",
      "      dtype='object')\n"
     ]
    }
   ],
   "source": [
    "print(node_states.columns)"
   ]
  },
  {
   "cell_type": "markdown",
   "id": "292e4924",
   "metadata": {},
   "source": [
    "# Node Plots"
   ]
  },
  {
   "cell_type": "code",
   "execution_count": 136,
   "id": "7d6e20cb",
   "metadata": {},
   "outputs": [
    {
     "data": {
      "application/vnd.plotly.v1+json": {
       "config": {
        "plotlyServerURL": "https://plot.ly"
       },
       "data": [
        {
         "line": {
          "color": "blue"
         },
         "mode": "lines+markers",
         "name": "1 - Total New Projects",
         "type": "scatter",
         "x": {
          "bdata": "AQIDBAUGBwgJCgsMDQ4P",
          "dtype": "i1"
         },
         "y": {
          "bdata": "AAAAAAAAAAAAAAAAAAAA",
          "dtype": "i1"
         }
        },
        {
         "line": {
          "color": "green"
         },
         "mode": "lines+markers",
         "name": "1 - New ERIS Projects",
         "type": "scatter",
         "x": {
          "bdata": "AQIDBAUGBwgJCgsMDQ4P",
          "dtype": "i1"
         },
         "y": {
          "bdata": "AAAAAAAAAAAAAAAAAAAA",
          "dtype": "i1"
         }
        },
        {
         "line": {
          "color": "orange"
         },
         "mode": "lines+markers",
         "name": "1 - New NRIS Projects",
         "type": "scatter",
         "x": {
          "bdata": "AQIDBAUGBwgJCgsMDQ4P",
          "dtype": "i1"
         },
         "y": {
          "bdata": "AAAAAAAAAAAAAAAAAAAA",
          "dtype": "i1"
         }
        },
        {
         "line": {
          "color": "blue"
         },
         "mode": "lines+markers",
         "name": "2 - Total New Projects",
         "type": "scatter",
         "x": {
          "bdata": "AQIDBAUGBwgJCgsMDQ4P",
          "dtype": "i1"
         },
         "y": {
          "bdata": "AAAAAAAAAAAAAAAAAAAA",
          "dtype": "i1"
         }
        },
        {
         "line": {
          "color": "green"
         },
         "mode": "lines+markers",
         "name": "2 - New ERIS Projects",
         "type": "scatter",
         "x": {
          "bdata": "AQIDBAUGBwgJCgsMDQ4P",
          "dtype": "i1"
         },
         "y": {
          "bdata": "AAAAAAAAAAAAAAAAAAAA",
          "dtype": "i1"
         }
        },
        {
         "line": {
          "color": "orange"
         },
         "mode": "lines+markers",
         "name": "2 - New NRIS Projects",
         "type": "scatter",
         "x": {
          "bdata": "AQIDBAUGBwgJCgsMDQ4P",
          "dtype": "i1"
         },
         "y": {
          "bdata": "AAAAAAAAAAAAAAAAAAAA",
          "dtype": "i1"
         }
        },
        {
         "line": {
          "color": "blue"
         },
         "mode": "lines+markers",
         "name": "3 - Total New Projects",
         "type": "scatter",
         "x": {
          "bdata": "AQIDBAUGBwgJCgsMDQ4P",
          "dtype": "i1"
         },
         "y": {
          "bdata": "AAgTGg0PDxIKDA4VERQO",
          "dtype": "i1"
         }
        },
        {
         "line": {
          "color": "green"
         },
         "mode": "lines+markers",
         "name": "3 - New ERIS Projects",
         "type": "scatter",
         "x": {
          "bdata": "AQIDBAUGBwgJCgsMDQ4P",
          "dtype": "i1"
         },
         "y": {
          "bdata": "AAUMDwcJBwwEBwoMCQ0J",
          "dtype": "i1"
         }
        },
        {
         "line": {
          "color": "orange"
         },
         "mode": "lines+markers",
         "name": "3 - New NRIS Projects",
         "type": "scatter",
         "x": {
          "bdata": "AQIDBAUGBwgJCgsMDQ4P",
          "dtype": "i1"
         },
         "y": {
          "bdata": "AAMHCwYGCAYGBQQJCAcF",
          "dtype": "i1"
         }
        },
        {
         "line": {
          "color": "blue"
         },
         "mode": "lines+markers",
         "name": "4 - Total New Projects",
         "type": "scatter",
         "x": {
          "bdata": "AQIDBAUGBwgJCgsMDQ4P",
          "dtype": "i1"
         },
         "y": {
          "bdata": "FC44OCopKTMwOzIrOTAs",
          "dtype": "i1"
         }
        },
        {
         "line": {
          "color": "green"
         },
         "mode": "lines+markers",
         "name": "4 - New ERIS Projects",
         "type": "scatter",
         "x": {
          "bdata": "AQIDBAUGBwgJCgsMDQ4P",
          "dtype": "i1"
         },
         "y": {
          "bdata": "Dx8cIBsYGBshJxwbJBsY",
          "dtype": "i1"
         }
        },
        {
         "line": {
          "color": "orange"
         },
         "mode": "lines+markers",
         "name": "4 - New NRIS Projects",
         "type": "scatter",
         "x": {
          "bdata": "AQIDBAUGBwgJCgsMDQ4P",
          "dtype": "i1"
         },
         "y": {
          "bdata": "BQ8cGA8RERgPFBYQFRUU",
          "dtype": "i1"
         }
        },
        {
         "line": {
          "color": "blue"
         },
         "mode": "lines+markers",
         "name": "5 - Total New Projects",
         "type": "scatter",
         "x": {
          "bdata": "AQIDBAUGBwgJCgsMDQ4P",
          "dtype": "i1"
         },
         "y": {
          "bdata": "3QBAAEMAJgA6AE8ASAA0ADkANwBQAD4AOgA0AE8A",
          "dtype": "i2"
         }
        },
        {
         "line": {
          "color": "green"
         },
         "mode": "lines+markers",
         "name": "5 - New ERIS Projects",
         "type": "scatter",
         "x": {
          "bdata": "AQIDBAUGBwgJCgsMDQ4P",
          "dtype": "i1"
         },
         "y": {
          "bdata": "eiYvGSUrJiEfISsiJh8v",
          "dtype": "i1"
         }
        },
        {
         "line": {
          "color": "orange"
         },
         "mode": "lines+markers",
         "name": "5 - New NRIS Projects",
         "type": "scatter",
         "x": {
          "bdata": "AQIDBAUGBwgJCgsMDQ4P",
          "dtype": "i1"
         },
         "y": {
          "bdata": "YxoUDRUkIhMaFiUcFBUg",
          "dtype": "i1"
         }
        },
        {
         "line": {
          "color": "blue"
         },
         "mode": "lines+markers",
         "name": "6 - Total New Projects",
         "type": "scatter",
         "x": {
          "bdata": "AQIDBAUGBwgJCgsMDQ4P",
          "dtype": "i1"
         },
         "y": {
          "bdata": "AAAAAAAAAAAAAAAAAAAA",
          "dtype": "i1"
         }
        },
        {
         "line": {
          "color": "green"
         },
         "mode": "lines+markers",
         "name": "6 - New ERIS Projects",
         "type": "scatter",
         "x": {
          "bdata": "AQIDBAUGBwgJCgsMDQ4P",
          "dtype": "i1"
         },
         "y": {
          "bdata": "AAAAAAAAAAAAAAAAAAAA",
          "dtype": "i1"
         }
        },
        {
         "line": {
          "color": "orange"
         },
         "mode": "lines+markers",
         "name": "6 - New NRIS Projects",
         "type": "scatter",
         "x": {
          "bdata": "AQIDBAUGBwgJCgsMDQ4P",
          "dtype": "i1"
         },
         "y": {
          "bdata": "AAAAAAAAAAAAAAAAAAAA",
          "dtype": "i1"
         }
        },
        {
         "line": {
          "color": "blue"
         },
         "mode": "lines+markers",
         "name": "7 - Total New Projects",
         "type": "scatter",
         "x": {
          "bdata": "AQIDBAUGBwgJCgsMDQ4P",
          "dtype": "i1"
         },
         "y": {
          "bdata": "AAAAAAAAAAAAAAAAAAAA",
          "dtype": "i1"
         }
        },
        {
         "line": {
          "color": "green"
         },
         "mode": "lines+markers",
         "name": "7 - New ERIS Projects",
         "type": "scatter",
         "x": {
          "bdata": "AQIDBAUGBwgJCgsMDQ4P",
          "dtype": "i1"
         },
         "y": {
          "bdata": "AAAAAAAAAAAAAAAAAAAA",
          "dtype": "i1"
         }
        },
        {
         "line": {
          "color": "orange"
         },
         "mode": "lines+markers",
         "name": "7 - New NRIS Projects",
         "type": "scatter",
         "x": {
          "bdata": "AQIDBAUGBwgJCgsMDQ4P",
          "dtype": "i1"
         },
         "y": {
          "bdata": "AAAAAAAAAAAAAAAAAAAA",
          "dtype": "i1"
         }
        },
        {
         "line": {
          "color": "blue"
         },
         "mode": "lines+markers",
         "name": "8 - Total New Projects",
         "type": "scatter",
         "x": {
          "bdata": "AQIDBAUGBwgJCgsMDQ4P",
          "dtype": "i1"
         },
         "y": {
          "bdata": "AAAAAAAAAAAAAAAAAAAA",
          "dtype": "i1"
         }
        },
        {
         "line": {
          "color": "green"
         },
         "mode": "lines+markers",
         "name": "8 - New ERIS Projects",
         "type": "scatter",
         "x": {
          "bdata": "AQIDBAUGBwgJCgsMDQ4P",
          "dtype": "i1"
         },
         "y": {
          "bdata": "AAAAAAAAAAAAAAAAAAAA",
          "dtype": "i1"
         }
        },
        {
         "line": {
          "color": "orange"
         },
         "mode": "lines+markers",
         "name": "8 - New NRIS Projects",
         "type": "scatter",
         "x": {
          "bdata": "AQIDBAUGBwgJCgsMDQ4P",
          "dtype": "i1"
         },
         "y": {
          "bdata": "AAAAAAAAAAAAAAAAAAAA",
          "dtype": "i1"
         }
        },
        {
         "line": {
          "color": "blue"
         },
         "mode": "lines+markers",
         "name": "9 - Total New Projects",
         "type": "scatter",
         "x": {
          "bdata": "AQIDBAUGBwgJCgsMDQ4P",
          "dtype": "i1"
         },
         "y": {
          "bdata": "vwA8ADIAMQBKAEYAQABCAEIARAAyAD0ARABFADMA",
          "dtype": "i2"
         }
        },
        {
         "line": {
          "color": "green"
         },
         "mode": "lines+markers",
         "name": "9 - New ERIS Projects",
         "type": "scatter",
         "x": {
          "bdata": "AQIDBAUGBwgJCgsMDQ4P",
          "dtype": "i1"
         },
         "y": {
          "bdata": "ciUeHScoIyksJR0gKSca",
          "dtype": "i1"
         }
        },
        {
         "line": {
          "color": "orange"
         },
         "mode": "lines+markers",
         "name": "9 - New NRIS Projects",
         "type": "scatter",
         "x": {
          "bdata": "AQIDBAUGBwgJCgsMDQ4P",
          "dtype": "i1"
         },
         "y": {
          "bdata": "TRcUFCMeHRkWHxUdGx4Z",
          "dtype": "i1"
         }
        },
        {
         "line": {
          "color": "blue"
         },
         "mode": "lines+markers",
         "name": "10 - Total New Projects",
         "type": "scatter",
         "x": {
          "bdata": "AQIDBAUGBwgJCgsMDQ4P",
          "dtype": "i1"
         },
         "y": {
          "bdata": "AAAAAAAAAAAAAAAAAAAA",
          "dtype": "i1"
         }
        },
        {
         "line": {
          "color": "green"
         },
         "mode": "lines+markers",
         "name": "10 - New ERIS Projects",
         "type": "scatter",
         "x": {
          "bdata": "AQIDBAUGBwgJCgsMDQ4P",
          "dtype": "i1"
         },
         "y": {
          "bdata": "AAAAAAAAAAAAAAAAAAAA",
          "dtype": "i1"
         }
        },
        {
         "line": {
          "color": "orange"
         },
         "mode": "lines+markers",
         "name": "10 - New NRIS Projects",
         "type": "scatter",
         "x": {
          "bdata": "AQIDBAUGBwgJCgsMDQ4P",
          "dtype": "i1"
         },
         "y": {
          "bdata": "AAAAAAAAAAAAAAAAAAAA",
          "dtype": "i1"
         }
        },
        {
         "line": {
          "color": "blue"
         },
         "mode": "lines+markers",
         "name": "11 - Total New Projects",
         "type": "scatter",
         "x": {
          "bdata": "AQIDBAUGBwgJCgsMDQ4P",
          "dtype": "i1"
         },
         "y": {
          "bdata": "AA4YKx0SEhocFx0hFRoZ",
          "dtype": "i1"
         }
        },
        {
         "line": {
          "color": "green"
         },
         "mode": "lines+markers",
         "name": "11 - New ERIS Projects",
         "type": "scatter",
         "x": {
          "bdata": "AQIDBAUGBwgJCgsMDQ4P",
          "dtype": "i1"
         },
         "y": {
          "bdata": "AAkQHhEMChIPDxMPCxEM",
          "dtype": "i1"
         }
        },
        {
         "line": {
          "color": "orange"
         },
         "mode": "lines+markers",
         "name": "11 - New NRIS Projects",
         "type": "scatter",
         "x": {
          "bdata": "AQIDBAUGBwgJCgsMDQ4P",
          "dtype": "i1"
         },
         "y": {
          "bdata": "AAUIDQwGCAgNCAoSCgkN",
          "dtype": "i1"
         }
        },
        {
         "line": {
          "color": "blue"
         },
         "mode": "lines+markers",
         "name": "12 - Total New Projects",
         "type": "scatter",
         "x": {
          "bdata": "AQIDBAUGBwgJCgsMDQ4P",
          "dtype": "i1"
         },
         "y": {
          "bdata": "AAAAAAAAAAAAAAAAAAAA",
          "dtype": "i1"
         }
        },
        {
         "line": {
          "color": "green"
         },
         "mode": "lines+markers",
         "name": "12 - New ERIS Projects",
         "type": "scatter",
         "x": {
          "bdata": "AQIDBAUGBwgJCgsMDQ4P",
          "dtype": "i1"
         },
         "y": {
          "bdata": "AAAAAAAAAAAAAAAAAAAA",
          "dtype": "i1"
         }
        },
        {
         "line": {
          "color": "orange"
         },
         "mode": "lines+markers",
         "name": "12 - New NRIS Projects",
         "type": "scatter",
         "x": {
          "bdata": "AQIDBAUGBwgJCgsMDQ4P",
          "dtype": "i1"
         },
         "y": {
          "bdata": "AAAAAAAAAAAAAAAAAAAA",
          "dtype": "i1"
         }
        },
        {
         "line": {
          "color": "blue"
         },
         "mode": "lines+markers",
         "name": "13 - Total New Projects",
         "type": "scatter",
         "x": {
          "bdata": "AQIDBAUGBwgJCgsMDQ4P",
          "dtype": "i1"
         },
         "y": {
          "bdata": "AAAAAAAAAAAAAAAAAAAA",
          "dtype": "i1"
         }
        },
        {
         "line": {
          "color": "green"
         },
         "mode": "lines+markers",
         "name": "13 - New ERIS Projects",
         "type": "scatter",
         "x": {
          "bdata": "AQIDBAUGBwgJCgsMDQ4P",
          "dtype": "i1"
         },
         "y": {
          "bdata": "AAAAAAAAAAAAAAAAAAAA",
          "dtype": "i1"
         }
        },
        {
         "line": {
          "color": "orange"
         },
         "mode": "lines+markers",
         "name": "13 - New NRIS Projects",
         "type": "scatter",
         "x": {
          "bdata": "AQIDBAUGBwgJCgsMDQ4P",
          "dtype": "i1"
         },
         "y": {
          "bdata": "AAAAAAAAAAAAAAAAAAAA",
          "dtype": "i1"
         }
        },
        {
         "line": {
          "color": "blue"
         },
         "mode": "lines+markers",
         "name": "14 - Total New Projects",
         "type": "scatter",
         "x": {
          "bdata": "AQIDBAUGBwgJCgsMDQ4P",
          "dtype": "i1"
         },
         "y": {
          "bdata": "AAAAAAAAAAAAAAAAAAAA",
          "dtype": "i1"
         }
        },
        {
         "line": {
          "color": "green"
         },
         "mode": "lines+markers",
         "name": "14 - New ERIS Projects",
         "type": "scatter",
         "x": {
          "bdata": "AQIDBAUGBwgJCgsMDQ4P",
          "dtype": "i1"
         },
         "y": {
          "bdata": "AAAAAAAAAAAAAAAAAAAA",
          "dtype": "i1"
         }
        },
        {
         "line": {
          "color": "orange"
         },
         "mode": "lines+markers",
         "name": "14 - New NRIS Projects",
         "type": "scatter",
         "x": {
          "bdata": "AQIDBAUGBwgJCgsMDQ4P",
          "dtype": "i1"
         },
         "y": {
          "bdata": "AAAAAAAAAAAAAAAAAAAA",
          "dtype": "i1"
         }
        },
        {
         "line": {
          "color": "blue"
         },
         "mode": "lines+markers",
         "name": "15 - Total New Projects",
         "type": "scatter",
         "x": {
          "bdata": "AQIDBAUGBwgJCgsMDQ4P",
          "dtype": "i1"
         },
         "y": {
          "bdata": "AAAAAAAAAAAAAAAAAAAA",
          "dtype": "i1"
         }
        },
        {
         "line": {
          "color": "green"
         },
         "mode": "lines+markers",
         "name": "15 - New ERIS Projects",
         "type": "scatter",
         "x": {
          "bdata": "AQIDBAUGBwgJCgsMDQ4P",
          "dtype": "i1"
         },
         "y": {
          "bdata": "AAAAAAAAAAAAAAAAAAAA",
          "dtype": "i1"
         }
        },
        {
         "line": {
          "color": "orange"
         },
         "mode": "lines+markers",
         "name": "15 - New NRIS Projects",
         "type": "scatter",
         "x": {
          "bdata": "AQIDBAUGBwgJCgsMDQ4P",
          "dtype": "i1"
         },
         "y": {
          "bdata": "AAAAAAAAAAAAAAAAAAAA",
          "dtype": "i1"
         }
        },
        {
         "line": {
          "color": "blue"
         },
         "mode": "lines+markers",
         "name": "16 - Total New Projects",
         "type": "scatter",
         "x": {
          "bdata": "AQIDBAUGBwgJCgsMDQ4P",
          "dtype": "i1"
         },
         "y": {
          "bdata": "owA8ADIAJAA3AC0ANAAzAC0ANQAtADIANAAzADsA",
          "dtype": "i2"
         }
        },
        {
         "line": {
          "color": "green"
         },
         "mode": "lines+markers",
         "name": "16 - New ERIS Projects",
         "type": "scatter",
         "x": {
          "bdata": "AQIDBAUGBwgJCgsMDQ4P",
          "dtype": "i1"
         },
         "y": {
          "bdata": "WCEYFCYZHBwZHB0eHiMk",
          "dtype": "i1"
         }
        },
        {
         "line": {
          "color": "orange"
         },
         "mode": "lines+markers",
         "name": "16 - New NRIS Projects",
         "type": "scatter",
         "x": {
          "bdata": "AQIDBAUGBwgJCgsMDQ4P",
          "dtype": "i1"
         },
         "y": {
          "bdata": "SxsaEBEUGBcUGRAUFhAX",
          "dtype": "i1"
         }
        },
        {
         "line": {
          "color": "blue"
         },
         "mode": "lines+markers",
         "name": "17 - Total New Projects",
         "type": "scatter",
         "x": {
          "bdata": "AQIDBAUGBwgJCgsMDQ4P",
          "dtype": "i1"
         },
         "y": {
          "bdata": "GzciNignJiouIiYmHyYi",
          "dtype": "i1"
         }
        },
        {
         "line": {
          "color": "green"
         },
         "mode": "lines+markers",
         "name": "17 - New ERIS Projects",
         "type": "scatter",
         "x": {
          "bdata": "AQIDBAUGBwgJCgsMDQ4P",
          "dtype": "i1"
         },
         "y": {
          "bdata": "ECETHhsTFRgcEhgbDxIO",
          "dtype": "i1"
         }
        },
        {
         "line": {
          "color": "orange"
         },
         "mode": "lines+markers",
         "name": "17 - New NRIS Projects",
         "type": "scatter",
         "x": {
          "bdata": "AQIDBAUGBwgJCgsMDQ4P",
          "dtype": "i1"
         },
         "y": {
          "bdata": "CxYPGA0UERISEA4LEBQU",
          "dtype": "i1"
         }
        },
        {
         "line": {
          "color": "blue"
         },
         "mode": "lines+markers",
         "name": "18 - Total New Projects",
         "type": "scatter",
         "x": {
          "bdata": "AQIDBAUGBwgJCgsMDQ4P",
          "dtype": "i1"
         },
         "y": {
          "bdata": "AAQLCQAECwULBwUDBwYE",
          "dtype": "i1"
         }
        },
        {
         "line": {
          "color": "green"
         },
         "mode": "lines+markers",
         "name": "18 - New ERIS Projects",
         "type": "scatter",
         "x": {
          "bdata": "AQIDBAUGBwgJCgsMDQ4P",
          "dtype": "i1"
         },
         "y": {
          "bdata": "AAEFBAACBAIEAgMBAgMB",
          "dtype": "i1"
         }
        },
        {
         "line": {
          "color": "orange"
         },
         "mode": "lines+markers",
         "name": "18 - New NRIS Projects",
         "type": "scatter",
         "x": {
          "bdata": "AQIDBAUGBwgJCgsMDQ4P",
          "dtype": "i1"
         },
         "y": {
          "bdata": "AAMGBQACBwMHBQICBQMD",
          "dtype": "i1"
         }
        },
        {
         "line": {
          "color": "blue"
         },
         "mode": "lines+markers",
         "name": "19 - Total New Projects",
         "type": "scatter",
         "x": {
          "bdata": "AQIDBAUGBwgJCgsMDQ4P",
          "dtype": "i1"
         },
         "y": {
          "bdata": "AAAAAAAAAAAAAAAAAAEB",
          "dtype": "i1"
         }
        },
        {
         "line": {
          "color": "green"
         },
         "mode": "lines+markers",
         "name": "19 - New ERIS Projects",
         "type": "scatter",
         "x": {
          "bdata": "AQIDBAUGBwgJCgsMDQ4P",
          "dtype": "i1"
         },
         "y": {
          "bdata": "AAAAAAAAAAAAAAAAAAAA",
          "dtype": "i1"
         }
        },
        {
         "line": {
          "color": "orange"
         },
         "mode": "lines+markers",
         "name": "19 - New NRIS Projects",
         "type": "scatter",
         "x": {
          "bdata": "AQIDBAUGBwgJCgsMDQ4P",
          "dtype": "i1"
         },
         "y": {
          "bdata": "AAAAAAAAAAAAAAAAAAEB",
          "dtype": "i1"
         }
        },
        {
         "line": {
          "color": "blue"
         },
         "mode": "lines+markers",
         "name": "20 - Total New Projects",
         "type": "scatter",
         "x": {
          "bdata": "AQIDBAUGBwgJCgsMDQ4P",
          "dtype": "i1"
         },
         "y": {
          "bdata": "AAAAAAAAAAAAAAAAAAAA",
          "dtype": "i1"
         }
        },
        {
         "line": {
          "color": "green"
         },
         "mode": "lines+markers",
         "name": "20 - New ERIS Projects",
         "type": "scatter",
         "x": {
          "bdata": "AQIDBAUGBwgJCgsMDQ4P",
          "dtype": "i1"
         },
         "y": {
          "bdata": "AAAAAAAAAAAAAAAAAAAA",
          "dtype": "i1"
         }
        },
        {
         "line": {
          "color": "orange"
         },
         "mode": "lines+markers",
         "name": "20 - New NRIS Projects",
         "type": "scatter",
         "x": {
          "bdata": "AQIDBAUGBwgJCgsMDQ4P",
          "dtype": "i1"
         },
         "y": {
          "bdata": "AAAAAAAAAAAAAAAAAAAA",
          "dtype": "i1"
         }
        }
       ],
       "layout": {
        "template": {
         "data": {
          "bar": [
           {
            "error_x": {
             "color": "#2a3f5f"
            },
            "error_y": {
             "color": "#2a3f5f"
            },
            "marker": {
             "line": {
              "color": "#E5ECF6",
              "width": 0.5
             },
             "pattern": {
              "fillmode": "overlay",
              "size": 10,
              "solidity": 0.2
             }
            },
            "type": "bar"
           }
          ],
          "barpolar": [
           {
            "marker": {
             "line": {
              "color": "#E5ECF6",
              "width": 0.5
             },
             "pattern": {
              "fillmode": "overlay",
              "size": 10,
              "solidity": 0.2
             }
            },
            "type": "barpolar"
           }
          ],
          "carpet": [
           {
            "aaxis": {
             "endlinecolor": "#2a3f5f",
             "gridcolor": "white",
             "linecolor": "white",
             "minorgridcolor": "white",
             "startlinecolor": "#2a3f5f"
            },
            "baxis": {
             "endlinecolor": "#2a3f5f",
             "gridcolor": "white",
             "linecolor": "white",
             "minorgridcolor": "white",
             "startlinecolor": "#2a3f5f"
            },
            "type": "carpet"
           }
          ],
          "choropleth": [
           {
            "colorbar": {
             "outlinewidth": 0,
             "ticks": ""
            },
            "type": "choropleth"
           }
          ],
          "contour": [
           {
            "colorbar": {
             "outlinewidth": 0,
             "ticks": ""
            },
            "colorscale": [
             [
              0,
              "#0d0887"
             ],
             [
              0.1111111111111111,
              "#46039f"
             ],
             [
              0.2222222222222222,
              "#7201a8"
             ],
             [
              0.3333333333333333,
              "#9c179e"
             ],
             [
              0.4444444444444444,
              "#bd3786"
             ],
             [
              0.5555555555555556,
              "#d8576b"
             ],
             [
              0.6666666666666666,
              "#ed7953"
             ],
             [
              0.7777777777777778,
              "#fb9f3a"
             ],
             [
              0.8888888888888888,
              "#fdca26"
             ],
             [
              1,
              "#f0f921"
             ]
            ],
            "type": "contour"
           }
          ],
          "contourcarpet": [
           {
            "colorbar": {
             "outlinewidth": 0,
             "ticks": ""
            },
            "type": "contourcarpet"
           }
          ],
          "heatmap": [
           {
            "colorbar": {
             "outlinewidth": 0,
             "ticks": ""
            },
            "colorscale": [
             [
              0,
              "#0d0887"
             ],
             [
              0.1111111111111111,
              "#46039f"
             ],
             [
              0.2222222222222222,
              "#7201a8"
             ],
             [
              0.3333333333333333,
              "#9c179e"
             ],
             [
              0.4444444444444444,
              "#bd3786"
             ],
             [
              0.5555555555555556,
              "#d8576b"
             ],
             [
              0.6666666666666666,
              "#ed7953"
             ],
             [
              0.7777777777777778,
              "#fb9f3a"
             ],
             [
              0.8888888888888888,
              "#fdca26"
             ],
             [
              1,
              "#f0f921"
             ]
            ],
            "type": "heatmap"
           }
          ],
          "histogram": [
           {
            "marker": {
             "pattern": {
              "fillmode": "overlay",
              "size": 10,
              "solidity": 0.2
             }
            },
            "type": "histogram"
           }
          ],
          "histogram2d": [
           {
            "colorbar": {
             "outlinewidth": 0,
             "ticks": ""
            },
            "colorscale": [
             [
              0,
              "#0d0887"
             ],
             [
              0.1111111111111111,
              "#46039f"
             ],
             [
              0.2222222222222222,
              "#7201a8"
             ],
             [
              0.3333333333333333,
              "#9c179e"
             ],
             [
              0.4444444444444444,
              "#bd3786"
             ],
             [
              0.5555555555555556,
              "#d8576b"
             ],
             [
              0.6666666666666666,
              "#ed7953"
             ],
             [
              0.7777777777777778,
              "#fb9f3a"
             ],
             [
              0.8888888888888888,
              "#fdca26"
             ],
             [
              1,
              "#f0f921"
             ]
            ],
            "type": "histogram2d"
           }
          ],
          "histogram2dcontour": [
           {
            "colorbar": {
             "outlinewidth": 0,
             "ticks": ""
            },
            "colorscale": [
             [
              0,
              "#0d0887"
             ],
             [
              0.1111111111111111,
              "#46039f"
             ],
             [
              0.2222222222222222,
              "#7201a8"
             ],
             [
              0.3333333333333333,
              "#9c179e"
             ],
             [
              0.4444444444444444,
              "#bd3786"
             ],
             [
              0.5555555555555556,
              "#d8576b"
             ],
             [
              0.6666666666666666,
              "#ed7953"
             ],
             [
              0.7777777777777778,
              "#fb9f3a"
             ],
             [
              0.8888888888888888,
              "#fdca26"
             ],
             [
              1,
              "#f0f921"
             ]
            ],
            "type": "histogram2dcontour"
           }
          ],
          "mesh3d": [
           {
            "colorbar": {
             "outlinewidth": 0,
             "ticks": ""
            },
            "type": "mesh3d"
           }
          ],
          "parcoords": [
           {
            "line": {
             "colorbar": {
              "outlinewidth": 0,
              "ticks": ""
             }
            },
            "type": "parcoords"
           }
          ],
          "pie": [
           {
            "automargin": true,
            "type": "pie"
           }
          ],
          "scatter": [
           {
            "fillpattern": {
             "fillmode": "overlay",
             "size": 10,
             "solidity": 0.2
            },
            "type": "scatter"
           }
          ],
          "scatter3d": [
           {
            "line": {
             "colorbar": {
              "outlinewidth": 0,
              "ticks": ""
             }
            },
            "marker": {
             "colorbar": {
              "outlinewidth": 0,
              "ticks": ""
             }
            },
            "type": "scatter3d"
           }
          ],
          "scattercarpet": [
           {
            "marker": {
             "colorbar": {
              "outlinewidth": 0,
              "ticks": ""
             }
            },
            "type": "scattercarpet"
           }
          ],
          "scattergeo": [
           {
            "marker": {
             "colorbar": {
              "outlinewidth": 0,
              "ticks": ""
             }
            },
            "type": "scattergeo"
           }
          ],
          "scattergl": [
           {
            "marker": {
             "colorbar": {
              "outlinewidth": 0,
              "ticks": ""
             }
            },
            "type": "scattergl"
           }
          ],
          "scattermap": [
           {
            "marker": {
             "colorbar": {
              "outlinewidth": 0,
              "ticks": ""
             }
            },
            "type": "scattermap"
           }
          ],
          "scattermapbox": [
           {
            "marker": {
             "colorbar": {
              "outlinewidth": 0,
              "ticks": ""
             }
            },
            "type": "scattermapbox"
           }
          ],
          "scatterpolar": [
           {
            "marker": {
             "colorbar": {
              "outlinewidth": 0,
              "ticks": ""
             }
            },
            "type": "scatterpolar"
           }
          ],
          "scatterpolargl": [
           {
            "marker": {
             "colorbar": {
              "outlinewidth": 0,
              "ticks": ""
             }
            },
            "type": "scatterpolargl"
           }
          ],
          "scatterternary": [
           {
            "marker": {
             "colorbar": {
              "outlinewidth": 0,
              "ticks": ""
             }
            },
            "type": "scatterternary"
           }
          ],
          "surface": [
           {
            "colorbar": {
             "outlinewidth": 0,
             "ticks": ""
            },
            "colorscale": [
             [
              0,
              "#0d0887"
             ],
             [
              0.1111111111111111,
              "#46039f"
             ],
             [
              0.2222222222222222,
              "#7201a8"
             ],
             [
              0.3333333333333333,
              "#9c179e"
             ],
             [
              0.4444444444444444,
              "#bd3786"
             ],
             [
              0.5555555555555556,
              "#d8576b"
             ],
             [
              0.6666666666666666,
              "#ed7953"
             ],
             [
              0.7777777777777778,
              "#fb9f3a"
             ],
             [
              0.8888888888888888,
              "#fdca26"
             ],
             [
              1,
              "#f0f921"
             ]
            ],
            "type": "surface"
           }
          ],
          "table": [
           {
            "cells": {
             "fill": {
              "color": "#EBF0F8"
             },
             "line": {
              "color": "white"
             }
            },
            "header": {
             "fill": {
              "color": "#C8D4E3"
             },
             "line": {
              "color": "white"
             }
            },
            "type": "table"
           }
          ]
         },
         "layout": {
          "annotationdefaults": {
           "arrowcolor": "#2a3f5f",
           "arrowhead": 0,
           "arrowwidth": 1
          },
          "autotypenumbers": "strict",
          "coloraxis": {
           "colorbar": {
            "outlinewidth": 0,
            "ticks": ""
           }
          },
          "colorscale": {
           "diverging": [
            [
             0,
             "#8e0152"
            ],
            [
             0.1,
             "#c51b7d"
            ],
            [
             0.2,
             "#de77ae"
            ],
            [
             0.3,
             "#f1b6da"
            ],
            [
             0.4,
             "#fde0ef"
            ],
            [
             0.5,
             "#f7f7f7"
            ],
            [
             0.6,
             "#e6f5d0"
            ],
            [
             0.7,
             "#b8e186"
            ],
            [
             0.8,
             "#7fbc41"
            ],
            [
             0.9,
             "#4d9221"
            ],
            [
             1,
             "#276419"
            ]
           ],
           "sequential": [
            [
             0,
             "#0d0887"
            ],
            [
             0.1111111111111111,
             "#46039f"
            ],
            [
             0.2222222222222222,
             "#7201a8"
            ],
            [
             0.3333333333333333,
             "#9c179e"
            ],
            [
             0.4444444444444444,
             "#bd3786"
            ],
            [
             0.5555555555555556,
             "#d8576b"
            ],
            [
             0.6666666666666666,
             "#ed7953"
            ],
            [
             0.7777777777777778,
             "#fb9f3a"
            ],
            [
             0.8888888888888888,
             "#fdca26"
            ],
            [
             1,
             "#f0f921"
            ]
           ],
           "sequentialminus": [
            [
             0,
             "#0d0887"
            ],
            [
             0.1111111111111111,
             "#46039f"
            ],
            [
             0.2222222222222222,
             "#7201a8"
            ],
            [
             0.3333333333333333,
             "#9c179e"
            ],
            [
             0.4444444444444444,
             "#bd3786"
            ],
            [
             0.5555555555555556,
             "#d8576b"
            ],
            [
             0.6666666666666666,
             "#ed7953"
            ],
            [
             0.7777777777777778,
             "#fb9f3a"
            ],
            [
             0.8888888888888888,
             "#fdca26"
            ],
            [
             1,
             "#f0f921"
            ]
           ]
          },
          "colorway": [
           "#636efa",
           "#EF553B",
           "#00cc96",
           "#ab63fa",
           "#FFA15A",
           "#19d3f3",
           "#FF6692",
           "#B6E880",
           "#FF97FF",
           "#FECB52"
          ],
          "font": {
           "color": "#2a3f5f"
          },
          "geo": {
           "bgcolor": "white",
           "lakecolor": "white",
           "landcolor": "#E5ECF6",
           "showlakes": true,
           "showland": true,
           "subunitcolor": "white"
          },
          "hoverlabel": {
           "align": "left"
          },
          "hovermode": "closest",
          "mapbox": {
           "style": "light"
          },
          "paper_bgcolor": "white",
          "plot_bgcolor": "#E5ECF6",
          "polar": {
           "angularaxis": {
            "gridcolor": "white",
            "linecolor": "white",
            "ticks": ""
           },
           "bgcolor": "#E5ECF6",
           "radialaxis": {
            "gridcolor": "white",
            "linecolor": "white",
            "ticks": ""
           }
          },
          "scene": {
           "xaxis": {
            "backgroundcolor": "#E5ECF6",
            "gridcolor": "white",
            "gridwidth": 2,
            "linecolor": "white",
            "showbackground": true,
            "ticks": "",
            "zerolinecolor": "white"
           },
           "yaxis": {
            "backgroundcolor": "#E5ECF6",
            "gridcolor": "white",
            "gridwidth": 2,
            "linecolor": "white",
            "showbackground": true,
            "ticks": "",
            "zerolinecolor": "white"
           },
           "zaxis": {
            "backgroundcolor": "#E5ECF6",
            "gridcolor": "white",
            "gridwidth": 2,
            "linecolor": "white",
            "showbackground": true,
            "ticks": "",
            "zerolinecolor": "white"
           }
          },
          "shapedefaults": {
           "line": {
            "color": "#2a3f5f"
           }
          },
          "ternary": {
           "aaxis": {
            "gridcolor": "white",
            "linecolor": "white",
            "ticks": ""
           },
           "baxis": {
            "gridcolor": "white",
            "linecolor": "white",
            "ticks": ""
           },
           "bgcolor": "#E5ECF6",
           "caxis": {
            "gridcolor": "white",
            "linecolor": "white",
            "ticks": ""
           }
          },
          "title": {
           "x": 0.05
          },
          "xaxis": {
           "automargin": true,
           "gridcolor": "white",
           "linecolor": "white",
           "ticks": "",
           "title": {
            "standoff": 15
           },
           "zerolinecolor": "white",
           "zerolinewidth": 2
          },
          "yaxis": {
           "automargin": true,
           "gridcolor": "white",
           "linecolor": "white",
           "ticks": "",
           "title": {
            "standoff": 15
           },
           "zerolinecolor": "white",
           "zerolinewidth": 2
          }
         }
        },
        "title": {
         "text": "New Projects by Service Type per Node"
        },
        "xaxis": {
         "title": {
          "text": "Model Step"
         }
        },
        "yaxis": {
         "title": {
          "text": "Number of Projects"
         }
        }
       }
      }
     },
     "metadata": {},
     "output_type": "display_data"
    },
    {
     "data": {
      "application/vnd.plotly.v1+json": {
       "config": {
        "plotlyServerURL": "https://plot.ly"
       },
       "data": [
        {
         "line": {
          "color": "red"
         },
         "mode": "markers",
         "name": "Dropped Out",
         "type": "scatter",
         "x": {
          "bdata": "AQEBAQEBAQEBAQEBAQEBAQEBAQECAgICAgICAgICAgICAgICAgICAgMDAwMDAwMDAwMDAwMDAwMDAwMDBAQEBAQEBAQEBAQEBAQEBAQEBAQFBQUFBQUFBQUFBQUFBQUFBQUFBQYGBgYGBgYGBgYGBgYGBgYGBgYGBwcHBwcHBwcHBwcHBwcHBwcHBwcICAgICAgICAgICAgICAgICAgICAkJCQkJCQkJCQkJCQkJCQkJCQkJCgoKCgoKCgoKCgoKCgoKCgoKCgoLCwsLCwsLCwsLCwsLCwsLCwsLCwwMDAwMDAwMDAwMDAwMDAwMDAwMDQ0NDQ0NDQ0NDQ0NDQ0NDQ0NDQ0ODg4ODg4ODg4ODg4ODg4ODg4ODg8PDw8PDw8PDw8PDw8PDw8PDw8P",
          "dtype": "i1"
         },
         "y": {
          "bdata": "AAAAAAAADwCIAAAAAAAAAH0AAAAAAAAAAAAAAAAAZgARAAAAAAAAAAAAAAAGACAAKAAAAAAAAAAlAAAACwAAAAAAAAAAACUAJQABAAAAAAAAAAAADgAfADIAAAAAAAAAIAAAABAAAAAAAAAAAAAbABUABwAAAAAAAAAAABUAIgAZAAAAAAAAAB0AAAAfAAAAAAAAAAAAFAAjAAUAAAAAAAAAAAAHABwAJgAAAAAAAAAtAAAAFAAAAAAAAAAAACcAHQAAAAAAAAAAAAAACQAaADIAAAAAAAAALAAAAA4AAAAAAAAAAAAbABQAAgAAAAAAAAAAAAgAGgAqAAAAAAAAACcAAAALAAAAAAAAAAAAHgAWAAUAAAAAAAAAAAAOAB4AIgAAAAAAAAArAAAAFQAAAAAAAAAAACAAHAADAAAAAAAAAAAABQAhACMAAAAAAAAAMAAAABEAAAAAAAAAAAAaACAABgAAAAAAAAAAAAkAKwAiAAAAAAAAACcAAAARAAAAAAAAAAAAHgAWAAUAAAAAAAAAAAALACAAMgAAAAAAAAAfAAAAFwAAAAAAAAAAAB4AGgAEAAAAAAAAAAAADwAdACQAAAAAAAAAJAAAABIAAAAAAAAAAAAhAB0AAQAAAAAAAAAAAAkAJwAoAAAAAAAAAC4AAAANAAAAAAAAAAAAIQARAAIAAAAAAAAAAAAOABwAHwAAAAAAAAArAAAAEgAAAAAAAAAAACQAFgADAAAAAAAAAAAACQAcADQAAAAAAAAAGwAAABAAAAAAAAAAAAAkABIAAgAAAAAA",
          "dtype": "i2"
         }
        }
       ],
       "layout": {
        "template": {
         "data": {
          "bar": [
           {
            "error_x": {
             "color": "#2a3f5f"
            },
            "error_y": {
             "color": "#2a3f5f"
            },
            "marker": {
             "line": {
              "color": "#E5ECF6",
              "width": 0.5
             },
             "pattern": {
              "fillmode": "overlay",
              "size": 10,
              "solidity": 0.2
             }
            },
            "type": "bar"
           }
          ],
          "barpolar": [
           {
            "marker": {
             "line": {
              "color": "#E5ECF6",
              "width": 0.5
             },
             "pattern": {
              "fillmode": "overlay",
              "size": 10,
              "solidity": 0.2
             }
            },
            "type": "barpolar"
           }
          ],
          "carpet": [
           {
            "aaxis": {
             "endlinecolor": "#2a3f5f",
             "gridcolor": "white",
             "linecolor": "white",
             "minorgridcolor": "white",
             "startlinecolor": "#2a3f5f"
            },
            "baxis": {
             "endlinecolor": "#2a3f5f",
             "gridcolor": "white",
             "linecolor": "white",
             "minorgridcolor": "white",
             "startlinecolor": "#2a3f5f"
            },
            "type": "carpet"
           }
          ],
          "choropleth": [
           {
            "colorbar": {
             "outlinewidth": 0,
             "ticks": ""
            },
            "type": "choropleth"
           }
          ],
          "contour": [
           {
            "colorbar": {
             "outlinewidth": 0,
             "ticks": ""
            },
            "colorscale": [
             [
              0,
              "#0d0887"
             ],
             [
              0.1111111111111111,
              "#46039f"
             ],
             [
              0.2222222222222222,
              "#7201a8"
             ],
             [
              0.3333333333333333,
              "#9c179e"
             ],
             [
              0.4444444444444444,
              "#bd3786"
             ],
             [
              0.5555555555555556,
              "#d8576b"
             ],
             [
              0.6666666666666666,
              "#ed7953"
             ],
             [
              0.7777777777777778,
              "#fb9f3a"
             ],
             [
              0.8888888888888888,
              "#fdca26"
             ],
             [
              1,
              "#f0f921"
             ]
            ],
            "type": "contour"
           }
          ],
          "contourcarpet": [
           {
            "colorbar": {
             "outlinewidth": 0,
             "ticks": ""
            },
            "type": "contourcarpet"
           }
          ],
          "heatmap": [
           {
            "colorbar": {
             "outlinewidth": 0,
             "ticks": ""
            },
            "colorscale": [
             [
              0,
              "#0d0887"
             ],
             [
              0.1111111111111111,
              "#46039f"
             ],
             [
              0.2222222222222222,
              "#7201a8"
             ],
             [
              0.3333333333333333,
              "#9c179e"
             ],
             [
              0.4444444444444444,
              "#bd3786"
             ],
             [
              0.5555555555555556,
              "#d8576b"
             ],
             [
              0.6666666666666666,
              "#ed7953"
             ],
             [
              0.7777777777777778,
              "#fb9f3a"
             ],
             [
              0.8888888888888888,
              "#fdca26"
             ],
             [
              1,
              "#f0f921"
             ]
            ],
            "type": "heatmap"
           }
          ],
          "histogram": [
           {
            "marker": {
             "pattern": {
              "fillmode": "overlay",
              "size": 10,
              "solidity": 0.2
             }
            },
            "type": "histogram"
           }
          ],
          "histogram2d": [
           {
            "colorbar": {
             "outlinewidth": 0,
             "ticks": ""
            },
            "colorscale": [
             [
              0,
              "#0d0887"
             ],
             [
              0.1111111111111111,
              "#46039f"
             ],
             [
              0.2222222222222222,
              "#7201a8"
             ],
             [
              0.3333333333333333,
              "#9c179e"
             ],
             [
              0.4444444444444444,
              "#bd3786"
             ],
             [
              0.5555555555555556,
              "#d8576b"
             ],
             [
              0.6666666666666666,
              "#ed7953"
             ],
             [
              0.7777777777777778,
              "#fb9f3a"
             ],
             [
              0.8888888888888888,
              "#fdca26"
             ],
             [
              1,
              "#f0f921"
             ]
            ],
            "type": "histogram2d"
           }
          ],
          "histogram2dcontour": [
           {
            "colorbar": {
             "outlinewidth": 0,
             "ticks": ""
            },
            "colorscale": [
             [
              0,
              "#0d0887"
             ],
             [
              0.1111111111111111,
              "#46039f"
             ],
             [
              0.2222222222222222,
              "#7201a8"
             ],
             [
              0.3333333333333333,
              "#9c179e"
             ],
             [
              0.4444444444444444,
              "#bd3786"
             ],
             [
              0.5555555555555556,
              "#d8576b"
             ],
             [
              0.6666666666666666,
              "#ed7953"
             ],
             [
              0.7777777777777778,
              "#fb9f3a"
             ],
             [
              0.8888888888888888,
              "#fdca26"
             ],
             [
              1,
              "#f0f921"
             ]
            ],
            "type": "histogram2dcontour"
           }
          ],
          "mesh3d": [
           {
            "colorbar": {
             "outlinewidth": 0,
             "ticks": ""
            },
            "type": "mesh3d"
           }
          ],
          "parcoords": [
           {
            "line": {
             "colorbar": {
              "outlinewidth": 0,
              "ticks": ""
             }
            },
            "type": "parcoords"
           }
          ],
          "pie": [
           {
            "automargin": true,
            "type": "pie"
           }
          ],
          "scatter": [
           {
            "fillpattern": {
             "fillmode": "overlay",
             "size": 10,
             "solidity": 0.2
            },
            "type": "scatter"
           }
          ],
          "scatter3d": [
           {
            "line": {
             "colorbar": {
              "outlinewidth": 0,
              "ticks": ""
             }
            },
            "marker": {
             "colorbar": {
              "outlinewidth": 0,
              "ticks": ""
             }
            },
            "type": "scatter3d"
           }
          ],
          "scattercarpet": [
           {
            "marker": {
             "colorbar": {
              "outlinewidth": 0,
              "ticks": ""
             }
            },
            "type": "scattercarpet"
           }
          ],
          "scattergeo": [
           {
            "marker": {
             "colorbar": {
              "outlinewidth": 0,
              "ticks": ""
             }
            },
            "type": "scattergeo"
           }
          ],
          "scattergl": [
           {
            "marker": {
             "colorbar": {
              "outlinewidth": 0,
              "ticks": ""
             }
            },
            "type": "scattergl"
           }
          ],
          "scattermap": [
           {
            "marker": {
             "colorbar": {
              "outlinewidth": 0,
              "ticks": ""
             }
            },
            "type": "scattermap"
           }
          ],
          "scattermapbox": [
           {
            "marker": {
             "colorbar": {
              "outlinewidth": 0,
              "ticks": ""
             }
            },
            "type": "scattermapbox"
           }
          ],
          "scatterpolar": [
           {
            "marker": {
             "colorbar": {
              "outlinewidth": 0,
              "ticks": ""
             }
            },
            "type": "scatterpolar"
           }
          ],
          "scatterpolargl": [
           {
            "marker": {
             "colorbar": {
              "outlinewidth": 0,
              "ticks": ""
             }
            },
            "type": "scatterpolargl"
           }
          ],
          "scatterternary": [
           {
            "marker": {
             "colorbar": {
              "outlinewidth": 0,
              "ticks": ""
             }
            },
            "type": "scatterternary"
           }
          ],
          "surface": [
           {
            "colorbar": {
             "outlinewidth": 0,
             "ticks": ""
            },
            "colorscale": [
             [
              0,
              "#0d0887"
             ],
             [
              0.1111111111111111,
              "#46039f"
             ],
             [
              0.2222222222222222,
              "#7201a8"
             ],
             [
              0.3333333333333333,
              "#9c179e"
             ],
             [
              0.4444444444444444,
              "#bd3786"
             ],
             [
              0.5555555555555556,
              "#d8576b"
             ],
             [
              0.6666666666666666,
              "#ed7953"
             ],
             [
              0.7777777777777778,
              "#fb9f3a"
             ],
             [
              0.8888888888888888,
              "#fdca26"
             ],
             [
              1,
              "#f0f921"
             ]
            ],
            "type": "surface"
           }
          ],
          "table": [
           {
            "cells": {
             "fill": {
              "color": "#EBF0F8"
             },
             "line": {
              "color": "white"
             }
            },
            "header": {
             "fill": {
              "color": "#C8D4E3"
             },
             "line": {
              "color": "white"
             }
            },
            "type": "table"
           }
          ]
         },
         "layout": {
          "annotationdefaults": {
           "arrowcolor": "#2a3f5f",
           "arrowhead": 0,
           "arrowwidth": 1
          },
          "autotypenumbers": "strict",
          "coloraxis": {
           "colorbar": {
            "outlinewidth": 0,
            "ticks": ""
           }
          },
          "colorscale": {
           "diverging": [
            [
             0,
             "#8e0152"
            ],
            [
             0.1,
             "#c51b7d"
            ],
            [
             0.2,
             "#de77ae"
            ],
            [
             0.3,
             "#f1b6da"
            ],
            [
             0.4,
             "#fde0ef"
            ],
            [
             0.5,
             "#f7f7f7"
            ],
            [
             0.6,
             "#e6f5d0"
            ],
            [
             0.7,
             "#b8e186"
            ],
            [
             0.8,
             "#7fbc41"
            ],
            [
             0.9,
             "#4d9221"
            ],
            [
             1,
             "#276419"
            ]
           ],
           "sequential": [
            [
             0,
             "#0d0887"
            ],
            [
             0.1111111111111111,
             "#46039f"
            ],
            [
             0.2222222222222222,
             "#7201a8"
            ],
            [
             0.3333333333333333,
             "#9c179e"
            ],
            [
             0.4444444444444444,
             "#bd3786"
            ],
            [
             0.5555555555555556,
             "#d8576b"
            ],
            [
             0.6666666666666666,
             "#ed7953"
            ],
            [
             0.7777777777777778,
             "#fb9f3a"
            ],
            [
             0.8888888888888888,
             "#fdca26"
            ],
            [
             1,
             "#f0f921"
            ]
           ],
           "sequentialminus": [
            [
             0,
             "#0d0887"
            ],
            [
             0.1111111111111111,
             "#46039f"
            ],
            [
             0.2222222222222222,
             "#7201a8"
            ],
            [
             0.3333333333333333,
             "#9c179e"
            ],
            [
             0.4444444444444444,
             "#bd3786"
            ],
            [
             0.5555555555555556,
             "#d8576b"
            ],
            [
             0.6666666666666666,
             "#ed7953"
            ],
            [
             0.7777777777777778,
             "#fb9f3a"
            ],
            [
             0.8888888888888888,
             "#fdca26"
            ],
            [
             1,
             "#f0f921"
            ]
           ]
          },
          "colorway": [
           "#636efa",
           "#EF553B",
           "#00cc96",
           "#ab63fa",
           "#FFA15A",
           "#19d3f3",
           "#FF6692",
           "#B6E880",
           "#FF97FF",
           "#FECB52"
          ],
          "font": {
           "color": "#2a3f5f"
          },
          "geo": {
           "bgcolor": "white",
           "lakecolor": "white",
           "landcolor": "#E5ECF6",
           "showlakes": true,
           "showland": true,
           "subunitcolor": "white"
          },
          "hoverlabel": {
           "align": "left"
          },
          "hovermode": "closest",
          "mapbox": {
           "style": "light"
          },
          "paper_bgcolor": "white",
          "plot_bgcolor": "#E5ECF6",
          "polar": {
           "angularaxis": {
            "gridcolor": "white",
            "linecolor": "white",
            "ticks": ""
           },
           "bgcolor": "#E5ECF6",
           "radialaxis": {
            "gridcolor": "white",
            "linecolor": "white",
            "ticks": ""
           }
          },
          "scene": {
           "xaxis": {
            "backgroundcolor": "#E5ECF6",
            "gridcolor": "white",
            "gridwidth": 2,
            "linecolor": "white",
            "showbackground": true,
            "ticks": "",
            "zerolinecolor": "white"
           },
           "yaxis": {
            "backgroundcolor": "#E5ECF6",
            "gridcolor": "white",
            "gridwidth": 2,
            "linecolor": "white",
            "showbackground": true,
            "ticks": "",
            "zerolinecolor": "white"
           },
           "zaxis": {
            "backgroundcolor": "#E5ECF6",
            "gridcolor": "white",
            "gridwidth": 2,
            "linecolor": "white",
            "showbackground": true,
            "ticks": "",
            "zerolinecolor": "white"
           }
          },
          "shapedefaults": {
           "line": {
            "color": "#2a3f5f"
           }
          },
          "ternary": {
           "aaxis": {
            "gridcolor": "white",
            "linecolor": "white",
            "ticks": ""
           },
           "baxis": {
            "gridcolor": "white",
            "linecolor": "white",
            "ticks": ""
           },
           "bgcolor": "#E5ECF6",
           "caxis": {
            "gridcolor": "white",
            "linecolor": "white",
            "ticks": ""
           }
          },
          "title": {
           "x": 0.05
          },
          "xaxis": {
           "automargin": true,
           "gridcolor": "white",
           "linecolor": "white",
           "ticks": "",
           "title": {
            "standoff": 15
           },
           "zerolinecolor": "white",
           "zerolinewidth": 2
          },
          "yaxis": {
           "automargin": true,
           "gridcolor": "white",
           "linecolor": "white",
           "ticks": "",
           "title": {
            "standoff": 15
           },
           "zerolinecolor": "white",
           "zerolinewidth": 2
          }
         }
        },
        "title": {
         "text": "Dropped Out Projects Over Time"
        },
        "xaxis": {
         "title": {
          "text": "Model Step"
         }
        },
        "yaxis": {
         "title": {
          "text": "Number of Projects"
         }
        }
       }
      }
     },
     "metadata": {},
     "output_type": "display_data"
    },
    {
     "data": {
      "application/vnd.plotly.v1+json": {
       "config": {
        "plotlyServerURL": "https://plot.ly"
       },
       "data": [
        {
         "line": {
          "color": "orange"
         },
         "mode": "lines+markers",
         "name": "Pending",
         "type": "scatter",
         "x": {
          "bdata": "AQEBAQEBAQEBAQEBAQEBAQEBAQECAgICAgICAgICAgICAgICAgICAgMDAwMDAwMDAwMDAwMDAwMDAwMDBAQEBAQEBAQEBAQEBAQEBAQEBAQFBQUFBQUFBQUFBQUFBQUFBQUFBQYGBgYGBgYGBgYGBgYGBgYGBgYGBwcHBwcHBwcHBwcHBwcHBwcHBwcICAgICAgICAgICAgICAgICAgICAkJCQkJCQkJCQkJCQkJCQkJCQkJCgoKCgoKCgoKCgoKCgoKCgoKCgoLCwsLCwsLCwsLCwsLCwsLCwsLCwwMDAwMDAwMDAwMDAwMDAwMDAwMDQ0NDQ0NDQ0NDQ0NDQ0NDQ0NDQ0ODg4ODg4ODg4ODg4ODg4ODg4ODg8PDw8PDw8PDw8PDw8PDw8PDw8P",
          "dtype": "i1"
         },
         "y": {
          "bdata": "AAAAAAAABQBVAAAAAAAAAEIAAAAAAAAAAAAAAAAAPQAKAAAAAAAAAAAAAAACABMAbQAAAAAAAABZAAAAAwAAAAAAAAAAAFQAHAADAAAAAAAAAAAABwAsAH4AAAAAAAAAawAAAAsAAAAAAAAAAABrACkABwAAAAAAAAAAAAwAQgCLAAAAAAAAAH8AAAAXAAAAAAAAAAAAewA8AAsAAAAAAAAAAAASAFAAnwAAAAAAAACcAAAAIAAAAAAAAAAAAIsARwALAAAAAAAAAAAAGABfALwAAAAAAAAAtgAAACQAAAAAAAAAAACdAFoADQAAAAAAAAAAAB8AbgDaAAAAAAAAAM8AAAArAAAAAAAAAAAAswBqABMAAAAAAAAAAAAjAIMA7AAAAAAAAADmAAAAMAAAAAAAAAAAAMYAeAAVAAAAAAAAAAAAKACSAAIBAAAAAAAA+AAAADsAAAAAAAAAAADZAIYAGgAAAAAAAAAAACsAnQDCAAAAAAAAANMAAABBAAAAAAAAAAAAswCIABwAAAAAAAAAAAAsAKEAyAAAAAAAAADPAAAARAAAAAAAAAAAAKsAggAaAAAAAAAAAAAALQCWANEAAAAAAAAA1gAAAEsAAAAAAAAAAAClAH4AGAAAAAAAAAAAADAAkgDWAAAAAAAAANgAAABHAAAAAAAAAAAAqAB5ABkAAAAAAAAAAAAwAJgA1wAAAAAAAADVAAAARgAAAAAAAAAAAKcAfgAcAAEAAAAAAAAALwCZANUAAAAAAAAA0wAAAEsAAAAAAAAAAACsAHsAHAACAAAA",
          "dtype": "i2"
         }
        }
       ],
       "layout": {
        "template": {
         "data": {
          "bar": [
           {
            "error_x": {
             "color": "#2a3f5f"
            },
            "error_y": {
             "color": "#2a3f5f"
            },
            "marker": {
             "line": {
              "color": "#E5ECF6",
              "width": 0.5
             },
             "pattern": {
              "fillmode": "overlay",
              "size": 10,
              "solidity": 0.2
             }
            },
            "type": "bar"
           }
          ],
          "barpolar": [
           {
            "marker": {
             "line": {
              "color": "#E5ECF6",
              "width": 0.5
             },
             "pattern": {
              "fillmode": "overlay",
              "size": 10,
              "solidity": 0.2
             }
            },
            "type": "barpolar"
           }
          ],
          "carpet": [
           {
            "aaxis": {
             "endlinecolor": "#2a3f5f",
             "gridcolor": "white",
             "linecolor": "white",
             "minorgridcolor": "white",
             "startlinecolor": "#2a3f5f"
            },
            "baxis": {
             "endlinecolor": "#2a3f5f",
             "gridcolor": "white",
             "linecolor": "white",
             "minorgridcolor": "white",
             "startlinecolor": "#2a3f5f"
            },
            "type": "carpet"
           }
          ],
          "choropleth": [
           {
            "colorbar": {
             "outlinewidth": 0,
             "ticks": ""
            },
            "type": "choropleth"
           }
          ],
          "contour": [
           {
            "colorbar": {
             "outlinewidth": 0,
             "ticks": ""
            },
            "colorscale": [
             [
              0,
              "#0d0887"
             ],
             [
              0.1111111111111111,
              "#46039f"
             ],
             [
              0.2222222222222222,
              "#7201a8"
             ],
             [
              0.3333333333333333,
              "#9c179e"
             ],
             [
              0.4444444444444444,
              "#bd3786"
             ],
             [
              0.5555555555555556,
              "#d8576b"
             ],
             [
              0.6666666666666666,
              "#ed7953"
             ],
             [
              0.7777777777777778,
              "#fb9f3a"
             ],
             [
              0.8888888888888888,
              "#fdca26"
             ],
             [
              1,
              "#f0f921"
             ]
            ],
            "type": "contour"
           }
          ],
          "contourcarpet": [
           {
            "colorbar": {
             "outlinewidth": 0,
             "ticks": ""
            },
            "type": "contourcarpet"
           }
          ],
          "heatmap": [
           {
            "colorbar": {
             "outlinewidth": 0,
             "ticks": ""
            },
            "colorscale": [
             [
              0,
              "#0d0887"
             ],
             [
              0.1111111111111111,
              "#46039f"
             ],
             [
              0.2222222222222222,
              "#7201a8"
             ],
             [
              0.3333333333333333,
              "#9c179e"
             ],
             [
              0.4444444444444444,
              "#bd3786"
             ],
             [
              0.5555555555555556,
              "#d8576b"
             ],
             [
              0.6666666666666666,
              "#ed7953"
             ],
             [
              0.7777777777777778,
              "#fb9f3a"
             ],
             [
              0.8888888888888888,
              "#fdca26"
             ],
             [
              1,
              "#f0f921"
             ]
            ],
            "type": "heatmap"
           }
          ],
          "histogram": [
           {
            "marker": {
             "pattern": {
              "fillmode": "overlay",
              "size": 10,
              "solidity": 0.2
             }
            },
            "type": "histogram"
           }
          ],
          "histogram2d": [
           {
            "colorbar": {
             "outlinewidth": 0,
             "ticks": ""
            },
            "colorscale": [
             [
              0,
              "#0d0887"
             ],
             [
              0.1111111111111111,
              "#46039f"
             ],
             [
              0.2222222222222222,
              "#7201a8"
             ],
             [
              0.3333333333333333,
              "#9c179e"
             ],
             [
              0.4444444444444444,
              "#bd3786"
             ],
             [
              0.5555555555555556,
              "#d8576b"
             ],
             [
              0.6666666666666666,
              "#ed7953"
             ],
             [
              0.7777777777777778,
              "#fb9f3a"
             ],
             [
              0.8888888888888888,
              "#fdca26"
             ],
             [
              1,
              "#f0f921"
             ]
            ],
            "type": "histogram2d"
           }
          ],
          "histogram2dcontour": [
           {
            "colorbar": {
             "outlinewidth": 0,
             "ticks": ""
            },
            "colorscale": [
             [
              0,
              "#0d0887"
             ],
             [
              0.1111111111111111,
              "#46039f"
             ],
             [
              0.2222222222222222,
              "#7201a8"
             ],
             [
              0.3333333333333333,
              "#9c179e"
             ],
             [
              0.4444444444444444,
              "#bd3786"
             ],
             [
              0.5555555555555556,
              "#d8576b"
             ],
             [
              0.6666666666666666,
              "#ed7953"
             ],
             [
              0.7777777777777778,
              "#fb9f3a"
             ],
             [
              0.8888888888888888,
              "#fdca26"
             ],
             [
              1,
              "#f0f921"
             ]
            ],
            "type": "histogram2dcontour"
           }
          ],
          "mesh3d": [
           {
            "colorbar": {
             "outlinewidth": 0,
             "ticks": ""
            },
            "type": "mesh3d"
           }
          ],
          "parcoords": [
           {
            "line": {
             "colorbar": {
              "outlinewidth": 0,
              "ticks": ""
             }
            },
            "type": "parcoords"
           }
          ],
          "pie": [
           {
            "automargin": true,
            "type": "pie"
           }
          ],
          "scatter": [
           {
            "fillpattern": {
             "fillmode": "overlay",
             "size": 10,
             "solidity": 0.2
            },
            "type": "scatter"
           }
          ],
          "scatter3d": [
           {
            "line": {
             "colorbar": {
              "outlinewidth": 0,
              "ticks": ""
             }
            },
            "marker": {
             "colorbar": {
              "outlinewidth": 0,
              "ticks": ""
             }
            },
            "type": "scatter3d"
           }
          ],
          "scattercarpet": [
           {
            "marker": {
             "colorbar": {
              "outlinewidth": 0,
              "ticks": ""
             }
            },
            "type": "scattercarpet"
           }
          ],
          "scattergeo": [
           {
            "marker": {
             "colorbar": {
              "outlinewidth": 0,
              "ticks": ""
             }
            },
            "type": "scattergeo"
           }
          ],
          "scattergl": [
           {
            "marker": {
             "colorbar": {
              "outlinewidth": 0,
              "ticks": ""
             }
            },
            "type": "scattergl"
           }
          ],
          "scattermap": [
           {
            "marker": {
             "colorbar": {
              "outlinewidth": 0,
              "ticks": ""
             }
            },
            "type": "scattermap"
           }
          ],
          "scattermapbox": [
           {
            "marker": {
             "colorbar": {
              "outlinewidth": 0,
              "ticks": ""
             }
            },
            "type": "scattermapbox"
           }
          ],
          "scatterpolar": [
           {
            "marker": {
             "colorbar": {
              "outlinewidth": 0,
              "ticks": ""
             }
            },
            "type": "scatterpolar"
           }
          ],
          "scatterpolargl": [
           {
            "marker": {
             "colorbar": {
              "outlinewidth": 0,
              "ticks": ""
             }
            },
            "type": "scatterpolargl"
           }
          ],
          "scatterternary": [
           {
            "marker": {
             "colorbar": {
              "outlinewidth": 0,
              "ticks": ""
             }
            },
            "type": "scatterternary"
           }
          ],
          "surface": [
           {
            "colorbar": {
             "outlinewidth": 0,
             "ticks": ""
            },
            "colorscale": [
             [
              0,
              "#0d0887"
             ],
             [
              0.1111111111111111,
              "#46039f"
             ],
             [
              0.2222222222222222,
              "#7201a8"
             ],
             [
              0.3333333333333333,
              "#9c179e"
             ],
             [
              0.4444444444444444,
              "#bd3786"
             ],
             [
              0.5555555555555556,
              "#d8576b"
             ],
             [
              0.6666666666666666,
              "#ed7953"
             ],
             [
              0.7777777777777778,
              "#fb9f3a"
             ],
             [
              0.8888888888888888,
              "#fdca26"
             ],
             [
              1,
              "#f0f921"
             ]
            ],
            "type": "surface"
           }
          ],
          "table": [
           {
            "cells": {
             "fill": {
              "color": "#EBF0F8"
             },
             "line": {
              "color": "white"
             }
            },
            "header": {
             "fill": {
              "color": "#C8D4E3"
             },
             "line": {
              "color": "white"
             }
            },
            "type": "table"
           }
          ]
         },
         "layout": {
          "annotationdefaults": {
           "arrowcolor": "#2a3f5f",
           "arrowhead": 0,
           "arrowwidth": 1
          },
          "autotypenumbers": "strict",
          "coloraxis": {
           "colorbar": {
            "outlinewidth": 0,
            "ticks": ""
           }
          },
          "colorscale": {
           "diverging": [
            [
             0,
             "#8e0152"
            ],
            [
             0.1,
             "#c51b7d"
            ],
            [
             0.2,
             "#de77ae"
            ],
            [
             0.3,
             "#f1b6da"
            ],
            [
             0.4,
             "#fde0ef"
            ],
            [
             0.5,
             "#f7f7f7"
            ],
            [
             0.6,
             "#e6f5d0"
            ],
            [
             0.7,
             "#b8e186"
            ],
            [
             0.8,
             "#7fbc41"
            ],
            [
             0.9,
             "#4d9221"
            ],
            [
             1,
             "#276419"
            ]
           ],
           "sequential": [
            [
             0,
             "#0d0887"
            ],
            [
             0.1111111111111111,
             "#46039f"
            ],
            [
             0.2222222222222222,
             "#7201a8"
            ],
            [
             0.3333333333333333,
             "#9c179e"
            ],
            [
             0.4444444444444444,
             "#bd3786"
            ],
            [
             0.5555555555555556,
             "#d8576b"
            ],
            [
             0.6666666666666666,
             "#ed7953"
            ],
            [
             0.7777777777777778,
             "#fb9f3a"
            ],
            [
             0.8888888888888888,
             "#fdca26"
            ],
            [
             1,
             "#f0f921"
            ]
           ],
           "sequentialminus": [
            [
             0,
             "#0d0887"
            ],
            [
             0.1111111111111111,
             "#46039f"
            ],
            [
             0.2222222222222222,
             "#7201a8"
            ],
            [
             0.3333333333333333,
             "#9c179e"
            ],
            [
             0.4444444444444444,
             "#bd3786"
            ],
            [
             0.5555555555555556,
             "#d8576b"
            ],
            [
             0.6666666666666666,
             "#ed7953"
            ],
            [
             0.7777777777777778,
             "#fb9f3a"
            ],
            [
             0.8888888888888888,
             "#fdca26"
            ],
            [
             1,
             "#f0f921"
            ]
           ]
          },
          "colorway": [
           "#636efa",
           "#EF553B",
           "#00cc96",
           "#ab63fa",
           "#FFA15A",
           "#19d3f3",
           "#FF6692",
           "#B6E880",
           "#FF97FF",
           "#FECB52"
          ],
          "font": {
           "color": "#2a3f5f"
          },
          "geo": {
           "bgcolor": "white",
           "lakecolor": "white",
           "landcolor": "#E5ECF6",
           "showlakes": true,
           "showland": true,
           "subunitcolor": "white"
          },
          "hoverlabel": {
           "align": "left"
          },
          "hovermode": "closest",
          "mapbox": {
           "style": "light"
          },
          "paper_bgcolor": "white",
          "plot_bgcolor": "#E5ECF6",
          "polar": {
           "angularaxis": {
            "gridcolor": "white",
            "linecolor": "white",
            "ticks": ""
           },
           "bgcolor": "#E5ECF6",
           "radialaxis": {
            "gridcolor": "white",
            "linecolor": "white",
            "ticks": ""
           }
          },
          "scene": {
           "xaxis": {
            "backgroundcolor": "#E5ECF6",
            "gridcolor": "white",
            "gridwidth": 2,
            "linecolor": "white",
            "showbackground": true,
            "ticks": "",
            "zerolinecolor": "white"
           },
           "yaxis": {
            "backgroundcolor": "#E5ECF6",
            "gridcolor": "white",
            "gridwidth": 2,
            "linecolor": "white",
            "showbackground": true,
            "ticks": "",
            "zerolinecolor": "white"
           },
           "zaxis": {
            "backgroundcolor": "#E5ECF6",
            "gridcolor": "white",
            "gridwidth": 2,
            "linecolor": "white",
            "showbackground": true,
            "ticks": "",
            "zerolinecolor": "white"
           }
          },
          "shapedefaults": {
           "line": {
            "color": "#2a3f5f"
           }
          },
          "ternary": {
           "aaxis": {
            "gridcolor": "white",
            "linecolor": "white",
            "ticks": ""
           },
           "baxis": {
            "gridcolor": "white",
            "linecolor": "white",
            "ticks": ""
           },
           "bgcolor": "#E5ECF6",
           "caxis": {
            "gridcolor": "white",
            "linecolor": "white",
            "ticks": ""
           }
          },
          "title": {
           "x": 0.05
          },
          "xaxis": {
           "automargin": true,
           "gridcolor": "white",
           "linecolor": "white",
           "ticks": "",
           "title": {
            "standoff": 15
           },
           "zerolinecolor": "white",
           "zerolinewidth": 2
          },
          "yaxis": {
           "automargin": true,
           "gridcolor": "white",
           "linecolor": "white",
           "ticks": "",
           "title": {
            "standoff": 15
           },
           "zerolinecolor": "white",
           "zerolinewidth": 2
          }
         }
        },
        "title": {
         "text": "Pending Projects Over Time"
        },
        "xaxis": {
         "title": {
          "text": "Model Step"
         }
        },
        "yaxis": {
         "title": {
          "text": "Number of Projects"
         }
        }
       }
      }
     },
     "metadata": {},
     "output_type": "display_data"
    },
    {
     "data": {
      "application/vnd.plotly.v1+json": {
       "config": {
        "plotlyServerURL": "https://plot.ly"
       },
       "data": [
        {
         "line": {
          "color": "green"
         },
         "mode": "markers",
         "name": "Online",
         "type": "scatter",
         "x": {
          "bdata": "AQEBAQEBAQEBAQEBAQEBAQEBAQECAgICAgICAgICAgICAgICAgICAgMDAwMDAwMDAwMDAwMDAwMDAwMDBAQEBAQEBAQEBAQEBAQEBAQEBAQFBQUFBQUFBQUFBQUFBQUFBQUFBQYGBgYGBgYGBgYGBgYGBgYGBgYGBwcHBwcHBwcHBwcHBwcHBwcHBwcICAgICAgICAgICAgICAgICAgICAkJCQkJCQkJCQkJCQkJCQkJCQkJCgoKCgoKCgoKCgoKCgoKCgoKCgoLCwsLCwsLCwsLCwsLCwsLCwsLCwwMDAwMDAwMDAwMDAwMDAwMDAwMDQ0NDQ0NDQ0NDQ0NDQ0NDQ0NDQ0ODg4ODg4ODg4ODg4ODg4ODg4ODg8PDw8PDw8PDw8PDw8PDw8PDw8P",
          "dtype": "i1"
         },
         "y": {
          "bdata": "AAAAAAAAAAAAAAAAAAAAAAAAAAAAAAAAAAAAAAAAAAAAAAAAAAAAAAAAAAAAAAAAAAAAAAAAAAAAAAAAAAAAAAAAAAAAAAAAAAAAAAAAAAAAAAAAAAAAAAAAAAAAAAAAAAAAAAAAAAAAAAAAAAAAAAAAAAAAAAAAAAAAAAAAAAAAAAAAAAAAAAAAAAAAAAAAAAAAAAAAAAAAAAAAAAAAAAAAAAAAAAAAAAAAAAAAAAAAAAAAAAAAAAAAAAAAAAAAAAAAAAAAAAAAAAAAAAAAAAAAAAAAAAAAAAAAAAAAAAAAAAAAAAAAAAAAAAAAAAAAAAAAAAAAAAAAAAAAAAAAAAAAAAAAAAAAAAAAAAAAAAAAAAAAAAAAAAAAAAAAAAAAAAAAAAAAAAAAAAAAAAAAAAAAAAAAAAAAAAAAAAAAAAAAAAAAAAAAAAAAAAAAAAAAAAAAAAAAAAAAAAAAAAAAAAAAAAAAAAAAAAAAAAAABQBVAAAAAAAAAEIAAAAAAAAAAAAAAAAAPQAKAAAAAAAAAAAAAAACABMAbQAAAAAAAABZAAAAAwAAAAAAAAAAAFQAHAADAAAAAAAAAAAABwAsAH4AAAAAAAAAawAAAAsAAAAAAAAAAABrACkABwAAAAAAAAAAAAwAQgCLAAAAAAAAAH8AAAAXAAAAAAAAAAAAewA8AAsAAAAAAAAAAAASAFAAnwAAAAAAAACcAAAAIAAAAAAAAAAAAIsARwALAAAAAAAAAAAAGABfALwAAAAAAAAAtgAAACQAAAAAAAAAAACdAFoADQAAAAAA",
          "dtype": "i2"
         }
        }
       ],
       "layout": {
        "template": {
         "data": {
          "bar": [
           {
            "error_x": {
             "color": "#2a3f5f"
            },
            "error_y": {
             "color": "#2a3f5f"
            },
            "marker": {
             "line": {
              "color": "#E5ECF6",
              "width": 0.5
             },
             "pattern": {
              "fillmode": "overlay",
              "size": 10,
              "solidity": 0.2
             }
            },
            "type": "bar"
           }
          ],
          "barpolar": [
           {
            "marker": {
             "line": {
              "color": "#E5ECF6",
              "width": 0.5
             },
             "pattern": {
              "fillmode": "overlay",
              "size": 10,
              "solidity": 0.2
             }
            },
            "type": "barpolar"
           }
          ],
          "carpet": [
           {
            "aaxis": {
             "endlinecolor": "#2a3f5f",
             "gridcolor": "white",
             "linecolor": "white",
             "minorgridcolor": "white",
             "startlinecolor": "#2a3f5f"
            },
            "baxis": {
             "endlinecolor": "#2a3f5f",
             "gridcolor": "white",
             "linecolor": "white",
             "minorgridcolor": "white",
             "startlinecolor": "#2a3f5f"
            },
            "type": "carpet"
           }
          ],
          "choropleth": [
           {
            "colorbar": {
             "outlinewidth": 0,
             "ticks": ""
            },
            "type": "choropleth"
           }
          ],
          "contour": [
           {
            "colorbar": {
             "outlinewidth": 0,
             "ticks": ""
            },
            "colorscale": [
             [
              0,
              "#0d0887"
             ],
             [
              0.1111111111111111,
              "#46039f"
             ],
             [
              0.2222222222222222,
              "#7201a8"
             ],
             [
              0.3333333333333333,
              "#9c179e"
             ],
             [
              0.4444444444444444,
              "#bd3786"
             ],
             [
              0.5555555555555556,
              "#d8576b"
             ],
             [
              0.6666666666666666,
              "#ed7953"
             ],
             [
              0.7777777777777778,
              "#fb9f3a"
             ],
             [
              0.8888888888888888,
              "#fdca26"
             ],
             [
              1,
              "#f0f921"
             ]
            ],
            "type": "contour"
           }
          ],
          "contourcarpet": [
           {
            "colorbar": {
             "outlinewidth": 0,
             "ticks": ""
            },
            "type": "contourcarpet"
           }
          ],
          "heatmap": [
           {
            "colorbar": {
             "outlinewidth": 0,
             "ticks": ""
            },
            "colorscale": [
             [
              0,
              "#0d0887"
             ],
             [
              0.1111111111111111,
              "#46039f"
             ],
             [
              0.2222222222222222,
              "#7201a8"
             ],
             [
              0.3333333333333333,
              "#9c179e"
             ],
             [
              0.4444444444444444,
              "#bd3786"
             ],
             [
              0.5555555555555556,
              "#d8576b"
             ],
             [
              0.6666666666666666,
              "#ed7953"
             ],
             [
              0.7777777777777778,
              "#fb9f3a"
             ],
             [
              0.8888888888888888,
              "#fdca26"
             ],
             [
              1,
              "#f0f921"
             ]
            ],
            "type": "heatmap"
           }
          ],
          "histogram": [
           {
            "marker": {
             "pattern": {
              "fillmode": "overlay",
              "size": 10,
              "solidity": 0.2
             }
            },
            "type": "histogram"
           }
          ],
          "histogram2d": [
           {
            "colorbar": {
             "outlinewidth": 0,
             "ticks": ""
            },
            "colorscale": [
             [
              0,
              "#0d0887"
             ],
             [
              0.1111111111111111,
              "#46039f"
             ],
             [
              0.2222222222222222,
              "#7201a8"
             ],
             [
              0.3333333333333333,
              "#9c179e"
             ],
             [
              0.4444444444444444,
              "#bd3786"
             ],
             [
              0.5555555555555556,
              "#d8576b"
             ],
             [
              0.6666666666666666,
              "#ed7953"
             ],
             [
              0.7777777777777778,
              "#fb9f3a"
             ],
             [
              0.8888888888888888,
              "#fdca26"
             ],
             [
              1,
              "#f0f921"
             ]
            ],
            "type": "histogram2d"
           }
          ],
          "histogram2dcontour": [
           {
            "colorbar": {
             "outlinewidth": 0,
             "ticks": ""
            },
            "colorscale": [
             [
              0,
              "#0d0887"
             ],
             [
              0.1111111111111111,
              "#46039f"
             ],
             [
              0.2222222222222222,
              "#7201a8"
             ],
             [
              0.3333333333333333,
              "#9c179e"
             ],
             [
              0.4444444444444444,
              "#bd3786"
             ],
             [
              0.5555555555555556,
              "#d8576b"
             ],
             [
              0.6666666666666666,
              "#ed7953"
             ],
             [
              0.7777777777777778,
              "#fb9f3a"
             ],
             [
              0.8888888888888888,
              "#fdca26"
             ],
             [
              1,
              "#f0f921"
             ]
            ],
            "type": "histogram2dcontour"
           }
          ],
          "mesh3d": [
           {
            "colorbar": {
             "outlinewidth": 0,
             "ticks": ""
            },
            "type": "mesh3d"
           }
          ],
          "parcoords": [
           {
            "line": {
             "colorbar": {
              "outlinewidth": 0,
              "ticks": ""
             }
            },
            "type": "parcoords"
           }
          ],
          "pie": [
           {
            "automargin": true,
            "type": "pie"
           }
          ],
          "scatter": [
           {
            "fillpattern": {
             "fillmode": "overlay",
             "size": 10,
             "solidity": 0.2
            },
            "type": "scatter"
           }
          ],
          "scatter3d": [
           {
            "line": {
             "colorbar": {
              "outlinewidth": 0,
              "ticks": ""
             }
            },
            "marker": {
             "colorbar": {
              "outlinewidth": 0,
              "ticks": ""
             }
            },
            "type": "scatter3d"
           }
          ],
          "scattercarpet": [
           {
            "marker": {
             "colorbar": {
              "outlinewidth": 0,
              "ticks": ""
             }
            },
            "type": "scattercarpet"
           }
          ],
          "scattergeo": [
           {
            "marker": {
             "colorbar": {
              "outlinewidth": 0,
              "ticks": ""
             }
            },
            "type": "scattergeo"
           }
          ],
          "scattergl": [
           {
            "marker": {
             "colorbar": {
              "outlinewidth": 0,
              "ticks": ""
             }
            },
            "type": "scattergl"
           }
          ],
          "scattermap": [
           {
            "marker": {
             "colorbar": {
              "outlinewidth": 0,
              "ticks": ""
             }
            },
            "type": "scattermap"
           }
          ],
          "scattermapbox": [
           {
            "marker": {
             "colorbar": {
              "outlinewidth": 0,
              "ticks": ""
             }
            },
            "type": "scattermapbox"
           }
          ],
          "scatterpolar": [
           {
            "marker": {
             "colorbar": {
              "outlinewidth": 0,
              "ticks": ""
             }
            },
            "type": "scatterpolar"
           }
          ],
          "scatterpolargl": [
           {
            "marker": {
             "colorbar": {
              "outlinewidth": 0,
              "ticks": ""
             }
            },
            "type": "scatterpolargl"
           }
          ],
          "scatterternary": [
           {
            "marker": {
             "colorbar": {
              "outlinewidth": 0,
              "ticks": ""
             }
            },
            "type": "scatterternary"
           }
          ],
          "surface": [
           {
            "colorbar": {
             "outlinewidth": 0,
             "ticks": ""
            },
            "colorscale": [
             [
              0,
              "#0d0887"
             ],
             [
              0.1111111111111111,
              "#46039f"
             ],
             [
              0.2222222222222222,
              "#7201a8"
             ],
             [
              0.3333333333333333,
              "#9c179e"
             ],
             [
              0.4444444444444444,
              "#bd3786"
             ],
             [
              0.5555555555555556,
              "#d8576b"
             ],
             [
              0.6666666666666666,
              "#ed7953"
             ],
             [
              0.7777777777777778,
              "#fb9f3a"
             ],
             [
              0.8888888888888888,
              "#fdca26"
             ],
             [
              1,
              "#f0f921"
             ]
            ],
            "type": "surface"
           }
          ],
          "table": [
           {
            "cells": {
             "fill": {
              "color": "#EBF0F8"
             },
             "line": {
              "color": "white"
             }
            },
            "header": {
             "fill": {
              "color": "#C8D4E3"
             },
             "line": {
              "color": "white"
             }
            },
            "type": "table"
           }
          ]
         },
         "layout": {
          "annotationdefaults": {
           "arrowcolor": "#2a3f5f",
           "arrowhead": 0,
           "arrowwidth": 1
          },
          "autotypenumbers": "strict",
          "coloraxis": {
           "colorbar": {
            "outlinewidth": 0,
            "ticks": ""
           }
          },
          "colorscale": {
           "diverging": [
            [
             0,
             "#8e0152"
            ],
            [
             0.1,
             "#c51b7d"
            ],
            [
             0.2,
             "#de77ae"
            ],
            [
             0.3,
             "#f1b6da"
            ],
            [
             0.4,
             "#fde0ef"
            ],
            [
             0.5,
             "#f7f7f7"
            ],
            [
             0.6,
             "#e6f5d0"
            ],
            [
             0.7,
             "#b8e186"
            ],
            [
             0.8,
             "#7fbc41"
            ],
            [
             0.9,
             "#4d9221"
            ],
            [
             1,
             "#276419"
            ]
           ],
           "sequential": [
            [
             0,
             "#0d0887"
            ],
            [
             0.1111111111111111,
             "#46039f"
            ],
            [
             0.2222222222222222,
             "#7201a8"
            ],
            [
             0.3333333333333333,
             "#9c179e"
            ],
            [
             0.4444444444444444,
             "#bd3786"
            ],
            [
             0.5555555555555556,
             "#d8576b"
            ],
            [
             0.6666666666666666,
             "#ed7953"
            ],
            [
             0.7777777777777778,
             "#fb9f3a"
            ],
            [
             0.8888888888888888,
             "#fdca26"
            ],
            [
             1,
             "#f0f921"
            ]
           ],
           "sequentialminus": [
            [
             0,
             "#0d0887"
            ],
            [
             0.1111111111111111,
             "#46039f"
            ],
            [
             0.2222222222222222,
             "#7201a8"
            ],
            [
             0.3333333333333333,
             "#9c179e"
            ],
            [
             0.4444444444444444,
             "#bd3786"
            ],
            [
             0.5555555555555556,
             "#d8576b"
            ],
            [
             0.6666666666666666,
             "#ed7953"
            ],
            [
             0.7777777777777778,
             "#fb9f3a"
            ],
            [
             0.8888888888888888,
             "#fdca26"
            ],
            [
             1,
             "#f0f921"
            ]
           ]
          },
          "colorway": [
           "#636efa",
           "#EF553B",
           "#00cc96",
           "#ab63fa",
           "#FFA15A",
           "#19d3f3",
           "#FF6692",
           "#B6E880",
           "#FF97FF",
           "#FECB52"
          ],
          "font": {
           "color": "#2a3f5f"
          },
          "geo": {
           "bgcolor": "white",
           "lakecolor": "white",
           "landcolor": "#E5ECF6",
           "showlakes": true,
           "showland": true,
           "subunitcolor": "white"
          },
          "hoverlabel": {
           "align": "left"
          },
          "hovermode": "closest",
          "mapbox": {
           "style": "light"
          },
          "paper_bgcolor": "white",
          "plot_bgcolor": "#E5ECF6",
          "polar": {
           "angularaxis": {
            "gridcolor": "white",
            "linecolor": "white",
            "ticks": ""
           },
           "bgcolor": "#E5ECF6",
           "radialaxis": {
            "gridcolor": "white",
            "linecolor": "white",
            "ticks": ""
           }
          },
          "scene": {
           "xaxis": {
            "backgroundcolor": "#E5ECF6",
            "gridcolor": "white",
            "gridwidth": 2,
            "linecolor": "white",
            "showbackground": true,
            "ticks": "",
            "zerolinecolor": "white"
           },
           "yaxis": {
            "backgroundcolor": "#E5ECF6",
            "gridcolor": "white",
            "gridwidth": 2,
            "linecolor": "white",
            "showbackground": true,
            "ticks": "",
            "zerolinecolor": "white"
           },
           "zaxis": {
            "backgroundcolor": "#E5ECF6",
            "gridcolor": "white",
            "gridwidth": 2,
            "linecolor": "white",
            "showbackground": true,
            "ticks": "",
            "zerolinecolor": "white"
           }
          },
          "shapedefaults": {
           "line": {
            "color": "#2a3f5f"
           }
          },
          "ternary": {
           "aaxis": {
            "gridcolor": "white",
            "linecolor": "white",
            "ticks": ""
           },
           "baxis": {
            "gridcolor": "white",
            "linecolor": "white",
            "ticks": ""
           },
           "bgcolor": "#E5ECF6",
           "caxis": {
            "gridcolor": "white",
            "linecolor": "white",
            "ticks": ""
           }
          },
          "title": {
           "x": 0.05
          },
          "xaxis": {
           "automargin": true,
           "gridcolor": "white",
           "linecolor": "white",
           "ticks": "",
           "title": {
            "standoff": 15
           },
           "zerolinecolor": "white",
           "zerolinewidth": 2
          },
          "yaxis": {
           "automargin": true,
           "gridcolor": "white",
           "linecolor": "white",
           "ticks": "",
           "title": {
            "standoff": 15
           },
           "zerolinecolor": "white",
           "zerolinewidth": 2
          }
         }
        },
        "title": {
         "text": "Online Projects Over Time"
        },
        "xaxis": {
         "title": {
          "text": "Model Step"
         }
        },
        "yaxis": {
         "title": {
          "text": "Number of Projects"
         }
        }
       }
      }
     },
     "metadata": {},
     "output_type": "display_data"
    },
    {
     "data": {
      "application/vnd.plotly.v1+json": {
       "config": {
        "plotlyServerURL": "https://plot.ly"
       },
       "data": [
        {
         "mode": "lines+markers",
         "name": "1 - Available Capacity",
         "type": "scatter",
         "x": {
          "bdata": "AQIDBAUGBwgJCgsMDQ4P",
          "dtype": "i1"
         },
         "y": {
          "bdata": "4XoUrkehX0DhehSuR6FfQOF6FK5HoV9A4XoUrkehX0DhehSuR6FfQOF6FK5HoV9A4XoUrkehX0DhehSuR6FfQOF6FK5HoV9A4XoUrkehX0DhehSuR6FfQOF6FK5HoV9A4XoUrkehX0DhehSuR6FfQOF6FK5HoV9A",
          "dtype": "f8"
         }
        },
        {
         "mode": "lines+markers",
         "name": "2 - Available Capacity",
         "type": "scatter",
         "x": {
          "bdata": "AQIDBAUGBwgJCgsMDQ4P",
          "dtype": "i1"
         },
         "y": {
          "bdata": "j8L1KNzerECPwvUo3N6sQI/C9Sjc3qxAj8L1KNzerECPwvUo3N6sQI/C9Sjcpq1Aj8L1KNxurkCPwvUo3DavQI/C9Sjc/q9ASOF6FG5jsEBI4XoUbsewQEjhehRuK7FASOF6FG6PsUBI4XoUbvOxQEjhehRuV7JA",
          "dtype": "f8"
         }
        },
        {
         "mode": "lines+markers",
         "name": "3 - Available Capacity",
         "type": "scatter",
         "x": {
          "bdata": "AQIDBAUGBwgJCgsMDQ4P",
          "dtype": "i1"
         },
         "y": {
          "bdata": "9ihcj8LZkED2KFyPwtmQQPYoXI/C2ZBA9ihcj8LZkED2KFyPwtmQQPYoXI/C2ZBA9ihcj8LZkED2KFyPwtmQQPYoXI/C2ZBA9ihcj8LZkEDsUbgehduNQM7MzMzM2HBAzczMzMwQfMAAAAAAAAKJwAAAAACATKHA",
          "dtype": "f8"
         }
        },
        {
         "mode": "lines+markers",
         "name": "4 - Available Capacity",
         "type": "scatter",
         "x": {
          "bdata": "AQIDBAUGBwgJCgsMDQ4P",
          "dtype": "i1"
         },
         "y": {
          "bdata": "MzMzMzMXjUAzMzMzMxeNQDMzMzMzF41AMzMzMzMXjUAzMzMzMxeNQJqZmZmZG5BAmpmZmZmrkUCamZmZmTuTQJqZmZmZy5RAmpmZmZlLkkCYmZmZmeV3wAAAAACAKqjANDMzMzNhtcDOzMzMzN+5wM3MzMzMTL7A",
          "dtype": "f8"
         }
        },
        {
         "mode": "lines+markers",
         "name": "5 - Available Capacity",
         "type": "scatter",
         "x": {
          "bdata": "AQIDBAUGBwgJCgsMDQ4P",
          "dtype": "i1"
         },
         "y": {
          "bdata": "H4XrUbh6e0AfhetRuHp7QB+F61G4entAH4XrUbh6e0AfhetRuHp7QB+F61G4entAH4XrUbh6e0AfhetRuHp7QB+F61G4entAR+F6FK48vsA9CtejcEjCwD0K16Pwg8bAPQrXo7DBycBxPQrXw9vOwB+F61Ho39HA",
          "dtype": "f8"
         }
        },
        {
         "mode": "lines+markers",
         "name": "6 - Available Capacity",
         "type": "scatter",
         "x": {
          "bdata": "AQIDBAUGBwgJCgsMDQ4P",
          "dtype": "i1"
         },
         "y": {
          "bdata": "w/UoXA/lp0DD9ShcD+WnQMP1KFwP5adAw/UoXA/lp0DD9ShcD+WnQMP1KFwPrahAw/UoXA91qUDD9ShcDz2qQMP1KFwPBatAw/UoXA/Nq0DD9ShcD5WsQMP1KFwPXa1Aw/UoXA8lrkDD9ShcD+2uQMP1KFwPta9A",
          "dtype": "f8"
         }
        },
        {
         "mode": "lines+markers",
         "name": "7 - Available Capacity",
         "type": "scatter",
         "x": {
          "bdata": "AQIDBAUGBwgJCgsMDQ4P",
          "dtype": "i1"
         },
         "y": {
          "bdata": "r0fhehROZECvR+F6FE5kQK9H4XoUTmRAr0fhehROZECvR+F6FE5kQK9H4XoUTmRAr0fhehROZECvR+F6FE5kQK9H4XoUTmRAr0fhehROZECvR+F6FE5kQK9H4XoUTmRAr0fhehROZECvR+F6FE5kQK9H4XoUTmRA",
          "dtype": "f8"
         }
        },
        {
         "mode": "lines+markers",
         "name": "8 - Available Capacity",
         "type": "scatter",
         "x": {
          "bdata": "AQIDBAUGBwgJCgsMDQ4P",
          "dtype": "i1"
         },
         "y": {
          "bdata": "pHA9CtcfckCkcD0K1x9yQKRwPQrXH3JApHA9CtcfckCkcD0K1x9yQKRwPQrXH3JApHA9CtcfckCkcD0K1x9yQKRwPQrXH3JApHA9CtcfckCkcD0K1x9yQKRwPQrXH3JApHA9CtcfckCkcD0K1x9yQKRwPQrXH3JA",
          "dtype": "f8"
         }
        },
        {
         "mode": "lines+markers",
         "name": "9 - Available Capacity",
         "type": "scatter",
         "x": {
          "bdata": "AQIDBAUGBwgJCgsMDQ4P",
          "dtype": "i1"
         },
         "y": {
          "bdata": "AAAAAICmpkAAAAAAgKamQAAAAACApqZAAAAAAICmpkAAAAAAgKamQAAAAACApqZAAAAAAICmpkAAAAAAgKamQAAAAACApqZAzczMzEyNrsDMzMzMjO+4wJmZmZn5FMDAzczMzKw5w8DNzMzM7HXIwAEAAACg8szA",
          "dtype": "f8"
         }
        },
        {
         "mode": "lines+markers",
         "name": "10 - Available Capacity",
         "type": "scatter",
         "x": {
          "bdata": "AQIDBAUGBwgJCgsMDQ4P",
          "dtype": "i1"
         },
         "y": {
          "bdata": "CtejcD2+f0AK16NwPb5/QArXo3A9vn9ACtejcD2+f0AK16NwPb5/QArXo3A9vn9ACtejcD2+f0AK16NwPb5/QArXo3A9vn9ACtejcD2+f0AK16NwPb5/QArXo3A9vn9ACtejcD2+f0AK16NwPb5/QArXo3A9vn9A",
          "dtype": "f8"
         }
        },
        {
         "mode": "lines+markers",
         "name": "11 - Available Capacity",
         "type": "scatter",
         "x": {
          "bdata": "AQIDBAUGBwgJCgsMDQ4P",
          "dtype": "i1"
         },
         "y": {
          "bdata": "4XoUrkcpa0DhehSuRylrQOF6FK5HKWtA4XoUrkcpa0DhehSuRylrQOF6FK5HKWtA4XoUrkcpa0DhehSuRylrQOF6FK5HKWtA4XoUrkcpa0DE9Shcj1JUQKRwPQrXfpDAcT0K1yPHqsCuR+F61B6wwK5H4XrUVLHA",
          "dtype": "f8"
         }
        },
        {
         "mode": "lines+markers",
         "name": "12 - Available Capacity",
         "type": "scatter",
         "x": {
          "bdata": "AQIDBAUGBwgJCgsMDQ4P",
          "dtype": "i1"
         },
         "y": {
          "bdata": "MzMzMzPjcEAzMzMzM+NwQDMzMzMz43BAMzMzMzPjcEAzMzMzM+NwQDMzMzMz43BAMzMzMzPjcEAzMzMzM+NwQDMzMzMz43BAMzMzMzPjcEAzMzMzM+NwQDMzMzMz43BAMzMzMzPjcEAzMzMzM+NwQDMzMzMz43BA",
          "dtype": "f8"
         }
        },
        {
         "mode": "lines+markers",
         "name": "13 - Available Capacity",
         "type": "scatter",
         "x": {
          "bdata": "AQIDBAUGBwgJCgsMDQ4P",
          "dtype": "i1"
         },
         "y": {
          "bdata": "XI/C9SjQdEBcj8L1KNB0QFyPwvUo0HRAXI/C9SjQdEBcj8L1KNB0QFyPwvUo0HRAXI/C9SjQdEBcj8L1KNB0QFyPwvUo0HRAXI/C9SjQdEBcj8L1KNB0QFyPwvUo0HRAXI/C9SjQdEBcj8L1KNB0QFyPwvUo0HRA",
          "dtype": "f8"
         }
        },
        {
         "mode": "lines+markers",
         "name": "14 - Available Capacity",
         "type": "scatter",
         "x": {
          "bdata": "AQIDBAUGBwgJCgsMDQ4P",
          "dtype": "i1"
         },
         "y": {
          "bdata": "cT0K16PQdkBxPQrXo9B2QHE9Ctej0HZAcT0K16PQdkBxPQrXo9B2QHE9Ctej0HZAcT0K16PQdkBxPQrXo9B2QHE9Ctej0HZAcT0K16PQdkBxPQrXo9B2QHE9Ctej0HZAcT0K16PQdkBxPQrXo9B2QHE9Ctej0HZA",
          "dtype": "f8"
         }
        },
        {
         "mode": "lines+markers",
         "name": "15 - Available Capacity",
         "type": "scatter",
         "x": {
          "bdata": "AQIDBAUGBwgJCgsMDQ4P",
          "dtype": "i1"
         },
         "y": {
          "bdata": "XI/C9SjcbUBcj8L1KNxtQFyPwvUo3G1AXI/C9SjcbUBcj8L1KNxtQFyPwvUo3G1AXI/C9SjcbUBcj8L1KNxtQFyPwvUo3G1AXI/C9SjcbUBcj8L1KNxtQFyPwvUo3G1AXI/C9SjcbUBcj8L1KNxtQFyPwvUo3G1A",
          "dtype": "f8"
         }
        },
        {
         "mode": "lines+markers",
         "name": "16 - Available Capacity",
         "type": "scatter",
         "x": {
          "bdata": "AQIDBAUGBwgJCgsMDQ4P",
          "dtype": "i1"
         },
         "y": {
          "bdata": "AAAAAAC4kkAAAAAAALiSQAAAAAAAuJJAAAAAAAC4kkAAAAAAALiSQAAAAAAAuJJAAAAAAAC4kkAAAAAAALiSQAAAAAAAuJJAcD0K12NMt8BwPQrXYza/wLgehetx/cPAUrgehYuLxsAK16Nw/U3KwB+F61F4gMzA",
          "dtype": "f8"
         }
        },
        {
         "mode": "lines+markers",
         "name": "17 - Available Capacity",
         "type": "scatter",
         "x": {
          "bdata": "AQIDBAUGBwgJCgsMDQ4P",
          "dtype": "i1"
         },
         "y": {
          "bdata": "uB6F61FUjUC4HoXrUVSNQLgehetRVI1AuB6F61FUjUC4HoXrUVSNQLgehetRVI1AuB6F61FUjUC4HoXrUVSNQLgehetRVI1ASOF6FK4bi8BSuB6F63OrwOJ6FK7HubPAr0fhehRbvMA+Ctej0DjAwArXo3A918TA",
          "dtype": "f8"
         }
        },
        {
         "mode": "lines+markers",
         "name": "18 - Available Capacity",
         "type": "scatter",
         "x": {
          "bdata": "AQIDBAUGBwgJCgsMDQ4P",
          "dtype": "i1"
         },
         "y": {
          "bdata": "j8L1KFx7eECPwvUoXHt4QI/C9Shce3hAj8L1KFx7eECPwvUoXHt4QI/C9Shce3hAj8L1KFx7eECPwvUoXHt4QI/C9Shce3hAj8L1KFx7eEC4HoXrUaqAwOtRuB6FOYnA7FG4HoVBjsDsUbgehUGOwPYoXI/CfJXA",
          "dtype": "f8"
         }
        },
        {
         "mode": "lines+markers",
         "name": "19 - Available Capacity",
         "type": "scatter",
         "x": {
          "bdata": "AQIDBAUGBwgJCgsMDQ4P",
          "dtype": "i1"
         },
         "y": {
          "bdata": "UrgeheuRlkBSuB6F65GWQFK4HoXrkZZAUrgeheuRlkBSuB6F65GWQFK4HoXrkZZAUrgeheuRlkBSuB6F65GWQFK4HoXrkZZAUrgeheuRlkBSuB6F65GWQFK4HoXrkZZAUrgeheuRlkBSuB6F65GWQFK4HoXrkZZA",
          "dtype": "f8"
         }
        },
        {
         "mode": "lines+markers",
         "name": "20 - Available Capacity",
         "type": "scatter",
         "x": {
          "bdata": "AQIDBAUGBwgJCgsMDQ4P",
          "dtype": "i1"
         },
         "y": {
          "bdata": "cT0K16N6jEBxPQrXo3qMQHE9CtejeoxAcT0K16N6jEBxPQrXo3qMQHE9CtejeoxAcT0K16N6jEBxPQrXo3qMQHE9CtejeoxAcT0K16N6jEBxPQrXo3qMQHE9CtejeoxAcT0K16N6jEBxPQrXo3qMQHE9CtejeoxA",
          "dtype": "f8"
         }
        }
       ],
       "layout": {
        "template": {
         "data": {
          "bar": [
           {
            "error_x": {
             "color": "#2a3f5f"
            },
            "error_y": {
             "color": "#2a3f5f"
            },
            "marker": {
             "line": {
              "color": "#E5ECF6",
              "width": 0.5
             },
             "pattern": {
              "fillmode": "overlay",
              "size": 10,
              "solidity": 0.2
             }
            },
            "type": "bar"
           }
          ],
          "barpolar": [
           {
            "marker": {
             "line": {
              "color": "#E5ECF6",
              "width": 0.5
             },
             "pattern": {
              "fillmode": "overlay",
              "size": 10,
              "solidity": 0.2
             }
            },
            "type": "barpolar"
           }
          ],
          "carpet": [
           {
            "aaxis": {
             "endlinecolor": "#2a3f5f",
             "gridcolor": "white",
             "linecolor": "white",
             "minorgridcolor": "white",
             "startlinecolor": "#2a3f5f"
            },
            "baxis": {
             "endlinecolor": "#2a3f5f",
             "gridcolor": "white",
             "linecolor": "white",
             "minorgridcolor": "white",
             "startlinecolor": "#2a3f5f"
            },
            "type": "carpet"
           }
          ],
          "choropleth": [
           {
            "colorbar": {
             "outlinewidth": 0,
             "ticks": ""
            },
            "type": "choropleth"
           }
          ],
          "contour": [
           {
            "colorbar": {
             "outlinewidth": 0,
             "ticks": ""
            },
            "colorscale": [
             [
              0,
              "#0d0887"
             ],
             [
              0.1111111111111111,
              "#46039f"
             ],
             [
              0.2222222222222222,
              "#7201a8"
             ],
             [
              0.3333333333333333,
              "#9c179e"
             ],
             [
              0.4444444444444444,
              "#bd3786"
             ],
             [
              0.5555555555555556,
              "#d8576b"
             ],
             [
              0.6666666666666666,
              "#ed7953"
             ],
             [
              0.7777777777777778,
              "#fb9f3a"
             ],
             [
              0.8888888888888888,
              "#fdca26"
             ],
             [
              1,
              "#f0f921"
             ]
            ],
            "type": "contour"
           }
          ],
          "contourcarpet": [
           {
            "colorbar": {
             "outlinewidth": 0,
             "ticks": ""
            },
            "type": "contourcarpet"
           }
          ],
          "heatmap": [
           {
            "colorbar": {
             "outlinewidth": 0,
             "ticks": ""
            },
            "colorscale": [
             [
              0,
              "#0d0887"
             ],
             [
              0.1111111111111111,
              "#46039f"
             ],
             [
              0.2222222222222222,
              "#7201a8"
             ],
             [
              0.3333333333333333,
              "#9c179e"
             ],
             [
              0.4444444444444444,
              "#bd3786"
             ],
             [
              0.5555555555555556,
              "#d8576b"
             ],
             [
              0.6666666666666666,
              "#ed7953"
             ],
             [
              0.7777777777777778,
              "#fb9f3a"
             ],
             [
              0.8888888888888888,
              "#fdca26"
             ],
             [
              1,
              "#f0f921"
             ]
            ],
            "type": "heatmap"
           }
          ],
          "histogram": [
           {
            "marker": {
             "pattern": {
              "fillmode": "overlay",
              "size": 10,
              "solidity": 0.2
             }
            },
            "type": "histogram"
           }
          ],
          "histogram2d": [
           {
            "colorbar": {
             "outlinewidth": 0,
             "ticks": ""
            },
            "colorscale": [
             [
              0,
              "#0d0887"
             ],
             [
              0.1111111111111111,
              "#46039f"
             ],
             [
              0.2222222222222222,
              "#7201a8"
             ],
             [
              0.3333333333333333,
              "#9c179e"
             ],
             [
              0.4444444444444444,
              "#bd3786"
             ],
             [
              0.5555555555555556,
              "#d8576b"
             ],
             [
              0.6666666666666666,
              "#ed7953"
             ],
             [
              0.7777777777777778,
              "#fb9f3a"
             ],
             [
              0.8888888888888888,
              "#fdca26"
             ],
             [
              1,
              "#f0f921"
             ]
            ],
            "type": "histogram2d"
           }
          ],
          "histogram2dcontour": [
           {
            "colorbar": {
             "outlinewidth": 0,
             "ticks": ""
            },
            "colorscale": [
             [
              0,
              "#0d0887"
             ],
             [
              0.1111111111111111,
              "#46039f"
             ],
             [
              0.2222222222222222,
              "#7201a8"
             ],
             [
              0.3333333333333333,
              "#9c179e"
             ],
             [
              0.4444444444444444,
              "#bd3786"
             ],
             [
              0.5555555555555556,
              "#d8576b"
             ],
             [
              0.6666666666666666,
              "#ed7953"
             ],
             [
              0.7777777777777778,
              "#fb9f3a"
             ],
             [
              0.8888888888888888,
              "#fdca26"
             ],
             [
              1,
              "#f0f921"
             ]
            ],
            "type": "histogram2dcontour"
           }
          ],
          "mesh3d": [
           {
            "colorbar": {
             "outlinewidth": 0,
             "ticks": ""
            },
            "type": "mesh3d"
           }
          ],
          "parcoords": [
           {
            "line": {
             "colorbar": {
              "outlinewidth": 0,
              "ticks": ""
             }
            },
            "type": "parcoords"
           }
          ],
          "pie": [
           {
            "automargin": true,
            "type": "pie"
           }
          ],
          "scatter": [
           {
            "fillpattern": {
             "fillmode": "overlay",
             "size": 10,
             "solidity": 0.2
            },
            "type": "scatter"
           }
          ],
          "scatter3d": [
           {
            "line": {
             "colorbar": {
              "outlinewidth": 0,
              "ticks": ""
             }
            },
            "marker": {
             "colorbar": {
              "outlinewidth": 0,
              "ticks": ""
             }
            },
            "type": "scatter3d"
           }
          ],
          "scattercarpet": [
           {
            "marker": {
             "colorbar": {
              "outlinewidth": 0,
              "ticks": ""
             }
            },
            "type": "scattercarpet"
           }
          ],
          "scattergeo": [
           {
            "marker": {
             "colorbar": {
              "outlinewidth": 0,
              "ticks": ""
             }
            },
            "type": "scattergeo"
           }
          ],
          "scattergl": [
           {
            "marker": {
             "colorbar": {
              "outlinewidth": 0,
              "ticks": ""
             }
            },
            "type": "scattergl"
           }
          ],
          "scattermap": [
           {
            "marker": {
             "colorbar": {
              "outlinewidth": 0,
              "ticks": ""
             }
            },
            "type": "scattermap"
           }
          ],
          "scattermapbox": [
           {
            "marker": {
             "colorbar": {
              "outlinewidth": 0,
              "ticks": ""
             }
            },
            "type": "scattermapbox"
           }
          ],
          "scatterpolar": [
           {
            "marker": {
             "colorbar": {
              "outlinewidth": 0,
              "ticks": ""
             }
            },
            "type": "scatterpolar"
           }
          ],
          "scatterpolargl": [
           {
            "marker": {
             "colorbar": {
              "outlinewidth": 0,
              "ticks": ""
             }
            },
            "type": "scatterpolargl"
           }
          ],
          "scatterternary": [
           {
            "marker": {
             "colorbar": {
              "outlinewidth": 0,
              "ticks": ""
             }
            },
            "type": "scatterternary"
           }
          ],
          "surface": [
           {
            "colorbar": {
             "outlinewidth": 0,
             "ticks": ""
            },
            "colorscale": [
             [
              0,
              "#0d0887"
             ],
             [
              0.1111111111111111,
              "#46039f"
             ],
             [
              0.2222222222222222,
              "#7201a8"
             ],
             [
              0.3333333333333333,
              "#9c179e"
             ],
             [
              0.4444444444444444,
              "#bd3786"
             ],
             [
              0.5555555555555556,
              "#d8576b"
             ],
             [
              0.6666666666666666,
              "#ed7953"
             ],
             [
              0.7777777777777778,
              "#fb9f3a"
             ],
             [
              0.8888888888888888,
              "#fdca26"
             ],
             [
              1,
              "#f0f921"
             ]
            ],
            "type": "surface"
           }
          ],
          "table": [
           {
            "cells": {
             "fill": {
              "color": "#EBF0F8"
             },
             "line": {
              "color": "white"
             }
            },
            "header": {
             "fill": {
              "color": "#C8D4E3"
             },
             "line": {
              "color": "white"
             }
            },
            "type": "table"
           }
          ]
         },
         "layout": {
          "annotationdefaults": {
           "arrowcolor": "#2a3f5f",
           "arrowhead": 0,
           "arrowwidth": 1
          },
          "autotypenumbers": "strict",
          "coloraxis": {
           "colorbar": {
            "outlinewidth": 0,
            "ticks": ""
           }
          },
          "colorscale": {
           "diverging": [
            [
             0,
             "#8e0152"
            ],
            [
             0.1,
             "#c51b7d"
            ],
            [
             0.2,
             "#de77ae"
            ],
            [
             0.3,
             "#f1b6da"
            ],
            [
             0.4,
             "#fde0ef"
            ],
            [
             0.5,
             "#f7f7f7"
            ],
            [
             0.6,
             "#e6f5d0"
            ],
            [
             0.7,
             "#b8e186"
            ],
            [
             0.8,
             "#7fbc41"
            ],
            [
             0.9,
             "#4d9221"
            ],
            [
             1,
             "#276419"
            ]
           ],
           "sequential": [
            [
             0,
             "#0d0887"
            ],
            [
             0.1111111111111111,
             "#46039f"
            ],
            [
             0.2222222222222222,
             "#7201a8"
            ],
            [
             0.3333333333333333,
             "#9c179e"
            ],
            [
             0.4444444444444444,
             "#bd3786"
            ],
            [
             0.5555555555555556,
             "#d8576b"
            ],
            [
             0.6666666666666666,
             "#ed7953"
            ],
            [
             0.7777777777777778,
             "#fb9f3a"
            ],
            [
             0.8888888888888888,
             "#fdca26"
            ],
            [
             1,
             "#f0f921"
            ]
           ],
           "sequentialminus": [
            [
             0,
             "#0d0887"
            ],
            [
             0.1111111111111111,
             "#46039f"
            ],
            [
             0.2222222222222222,
             "#7201a8"
            ],
            [
             0.3333333333333333,
             "#9c179e"
            ],
            [
             0.4444444444444444,
             "#bd3786"
            ],
            [
             0.5555555555555556,
             "#d8576b"
            ],
            [
             0.6666666666666666,
             "#ed7953"
            ],
            [
             0.7777777777777778,
             "#fb9f3a"
            ],
            [
             0.8888888888888888,
             "#fdca26"
            ],
            [
             1,
             "#f0f921"
            ]
           ]
          },
          "colorway": [
           "#636efa",
           "#EF553B",
           "#00cc96",
           "#ab63fa",
           "#FFA15A",
           "#19d3f3",
           "#FF6692",
           "#B6E880",
           "#FF97FF",
           "#FECB52"
          ],
          "font": {
           "color": "#2a3f5f"
          },
          "geo": {
           "bgcolor": "white",
           "lakecolor": "white",
           "landcolor": "#E5ECF6",
           "showlakes": true,
           "showland": true,
           "subunitcolor": "white"
          },
          "hoverlabel": {
           "align": "left"
          },
          "hovermode": "closest",
          "mapbox": {
           "style": "light"
          },
          "paper_bgcolor": "white",
          "plot_bgcolor": "#E5ECF6",
          "polar": {
           "angularaxis": {
            "gridcolor": "white",
            "linecolor": "white",
            "ticks": ""
           },
           "bgcolor": "#E5ECF6",
           "radialaxis": {
            "gridcolor": "white",
            "linecolor": "white",
            "ticks": ""
           }
          },
          "scene": {
           "xaxis": {
            "backgroundcolor": "#E5ECF6",
            "gridcolor": "white",
            "gridwidth": 2,
            "linecolor": "white",
            "showbackground": true,
            "ticks": "",
            "zerolinecolor": "white"
           },
           "yaxis": {
            "backgroundcolor": "#E5ECF6",
            "gridcolor": "white",
            "gridwidth": 2,
            "linecolor": "white",
            "showbackground": true,
            "ticks": "",
            "zerolinecolor": "white"
           },
           "zaxis": {
            "backgroundcolor": "#E5ECF6",
            "gridcolor": "white",
            "gridwidth": 2,
            "linecolor": "white",
            "showbackground": true,
            "ticks": "",
            "zerolinecolor": "white"
           }
          },
          "shapedefaults": {
           "line": {
            "color": "#2a3f5f"
           }
          },
          "ternary": {
           "aaxis": {
            "gridcolor": "white",
            "linecolor": "white",
            "ticks": ""
           },
           "baxis": {
            "gridcolor": "white",
            "linecolor": "white",
            "ticks": ""
           },
           "bgcolor": "#E5ECF6",
           "caxis": {
            "gridcolor": "white",
            "linecolor": "white",
            "ticks": ""
           }
          },
          "title": {
           "x": 0.05
          },
          "xaxis": {
           "automargin": true,
           "gridcolor": "white",
           "linecolor": "white",
           "ticks": "",
           "title": {
            "standoff": 15
           },
           "zerolinecolor": "white",
           "zerolinewidth": 2
          },
          "yaxis": {
           "automargin": true,
           "gridcolor": "white",
           "linecolor": "white",
           "ticks": "",
           "title": {
            "standoff": 15
           },
           "zerolinecolor": "white",
           "zerolinewidth": 2
          }
         }
        },
        "title": {
         "text": "Available Capacity per Node"
        },
        "xaxis": {
         "title": {
          "text": "Model Step"
         }
        },
        "yaxis": {
         "title": {
          "text": "MW"
         }
        }
       }
      }
     },
     "metadata": {},
     "output_type": "display_data"
    },
    {
     "data": {
      "application/vnd.plotly.v1+json": {
       "config": {
        "plotlyServerURL": "https://plot.ly"
       },
       "data": [
        {
         "mode": "lines+markers",
         "name": "1 - Installed Capacity",
         "type": "scatter",
         "x": {
          "bdata": "AQIDBAUGBwgJCgsMDQ4P",
          "dtype": "i1"
         },
         "y": {
          "bdata": "zczMzMzEk0DNzMzMzMSTQM3MzMzMxJNAzczMzMzEk0DNzMzMzMSTQM3MzMzMxJNAzczMzMzEk0DNzMzMzMSTQM3MzMzMxJNAzczMzMzEk0DNzMzMzMSTQM3MzMzMxJNAzczMzMzEk0DNzMzMzMSTQM3MzMzMxJNA",
          "dtype": "f8"
         }
        },
        {
         "mode": "lines+markers",
         "name": "2 - Installed Capacity",
         "type": "scatter",
         "x": {
          "bdata": "AQIDBAUGBwgJCgsMDQ4P",
          "dtype": "i1"
         },
         "y": {
          "bdata": "mpmZmUkL4kCamZmZSQviQJqZmZlJC+JAmpmZmUkL4kCamZmZSQviQJqZmZlJC+JAmpmZmUkL4kCamZmZSQviQJqZmZlJC+JAmpmZmUkL4kCamZmZSQviQJqZmZlJC+JAmpmZmUkL4kCamZmZSQviQJqZmZlJC+JA",
          "dtype": "f8"
         }
        },
        {
         "mode": "lines+markers",
         "name": "3 - Installed Capacity",
         "type": "scatter",
         "x": {
          "bdata": "AQIDBAUGBwgJCgsMDQ4P",
          "dtype": "i1"
         },
         "y": {
          "bdata": "MzMzMzMQxUAzMzMzMxDFQDMzMzMzEMVAMzMzMzMQxUAzMzMzMxDFQDMzMzMzEMVAMzMzMzMQxUAzMzMzMxDFQDMzMzMzEMVAMzMzMzMQxUAzMzMzs03FQOxRuB6lpMZAuB6F6/ELyEBSuB6Fi7vIQFK4HoWLfstA",
          "dtype": "f8"
         }
        },
        {
         "mode": "lines+markers",
         "name": "4 - Installed Capacity",
         "type": "scatter",
         "x": {
          "bdata": "AQIDBAUGBwgJCgsMDQ4P",
          "dtype": "i1"
         },
         "y": {
          "bdata": "AAAAAIAuwkAAAAAAgC7CQAAAAACALsJAAAAAAIAuwkAAAAAAgC7CQAAAAACALsJAAAAAAIAuwkAAAAAAgC7CQAAAAACALsJAAAAAAICwwkAAAAAAIOvFQDMzMzOTaMtAZ2ZmZkYg0EDNzMzM7FjRQM7MzMwsjdJA",
          "dtype": "f8"
         }
        },
        {
         "mode": "lines+markers",
         "name": "5 - Installed Capacity",
         "type": "scatter",
         "x": {
          "bdata": "AQIDBAUGBwgJCgsMDQ4P",
          "dtype": "i1"
         },
         "y": {
          "bdata": "MzMzM7MssUAzMzMzsyyxQDMzMzOzLLFAMzMzM7MssUAzMzMzsyyxQDMzMzOzLLFAMzMzM7MssUAzMzMzsyyxQDMzMzOzLLFAZmZmZoaQyEAAAAAAoLrLQAAAAAAg9s9AAAAAAPCZ0UCamZmZ+SbUQAEAAAAAmdZA",
          "dtype": "f8"
         }
        },
        {
         "mode": "lines+markers",
         "name": "6 - Installed Capacity",
         "type": "scatter",
         "x": {
          "bdata": "AQIDBAUGBwgJCgsMDQ4P",
          "dtype": "i1"
         },
         "y": {
          "bdata": "MzMzM1Pe3UAzMzMzU97dQDMzMzNT3t1AMzMzM1Pe3UAzMzMzU97dQDMzMzNT3t1AMzMzM1Pe3UAzMzMzU97dQDMzMzNT3t1AMzMzM1Pe3UAzMzMzU97dQDMzMzNT3t1AMzMzM1Pe3UAzMzMzU97dQDMzMzNT3t1A",
          "dtype": "f8"
         }
        },
        {
         "mode": "lines+markers",
         "name": "7 - Installed Capacity",
         "type": "scatter",
         "x": {
          "bdata": "AQIDBAUGBwgJCgsMDQ4P",
          "dtype": "i1"
         },
         "y": {
          "bdata": "mpmZmZlhmUCamZmZmWGZQJqZmZmZYZlAmpmZmZlhmUCamZmZmWGZQJqZmZmZYZlAmpmZmZlhmUCamZmZmWGZQJqZmZmZYZlAmpmZmZlhmUCamZmZmWGZQJqZmZmZYZlAmpmZmZlhmUCamZmZmWGZQJqZmZmZYZlA",
          "dtype": "f8"
         }
        },
        {
         "mode": "lines+markers",
         "name": "8 - Installed Capacity",
         "type": "scatter",
         "x": {
          "bdata": "AQIDBAUGBwgJCgsMDQ4P",
          "dtype": "i1"
         },
         "y": {
          "bdata": "zczMzMynpkDNzMzMzKemQM3MzMzMp6ZAzczMzMynpkDNzMzMzKemQM3MzMzMp6ZAzczMzMynpkDNzMzMzKemQM3MzMzMp6ZAzczMzMynpkDNzMzMzKemQM3MzMzMp6ZAzczMzMynpkDNzMzMzKemQM3MzMzMp6ZA",
          "dtype": "f8"
         }
        },
        {
         "mode": "lines+markers",
         "name": "9 - Installed Capacity",
         "type": "scatter",
         "x": {
          "bdata": "AQIDBAUGBwgJCgsMDQ4P",
          "dtype": "i1"
         },
         "y": {
          "bdata": "AAAAACBQ3EAAAAAAIFDcQAAAAAAgUNxAAAAAACBQ3EAAAAAAIFDcQAAAAAAgUNxAAAAAACBQ3EAAAAAAIFDcQAAAAAAgUNxAzczMzEx74UCamZmZabDiQGZmZma2l+NAMzMzM+Ng5EAzMzMz86/lQP////8fz+ZA",
          "dtype": "f8"
         }
        },
        {
         "mode": "lines+markers",
         "name": "10 - Installed Capacity",
         "type": "scatter",
         "x": {
          "bdata": "AQIDBAUGBwgJCgsMDQ4P",
          "dtype": "i1"
         },
         "y": {
          "bdata": "ZmZmZubWs0BmZmZm5tazQGZmZmbm1rNAZmZmZubWs0BmZmZm5tazQGZmZmbm1rNAZmZmZubWs0BmZmZm5tazQGZmZmbm1rNAZmZmZubWs0BmZmZm5tazQGZmZmbm1rNAZmZmZubWs0BmZmZm5tazQGZmZmbm1rNA",
          "dtype": "f8"
         }
        },
        {
         "mode": "lines+markers",
         "name": "11 - Installed Capacity",
         "type": "scatter",
         "x": {
          "bdata": "AQIDBAUGBwgJCgsMDQ4P",
          "dtype": "i1"
         },
         "y": {
          "bdata": "zczMzMz5oEDNzMzMzPmgQM3MzMzM+aBAzczMzMz5oEDNzMzMzPmgQM3MzMzM+aBAzczMzMz5oEDNzMzMzPmgQM3MzMzM+aBAzczMzMz5oEDNzMzMzAmiQM3MzMzM66pA9Shcj8K5tkDsUbgeBXW5QOxRuB4Fq7pA",
          "dtype": "f8"
         }
        },
        {
         "mode": "lines+markers",
         "name": "12 - Installed Capacity",
         "type": "scatter",
         "x": {
          "bdata": "AQIDBAUGBwgJCgsMDQ4P",
          "dtype": "i1"
         },
         "y": {
          "bdata": "AAAAAAAcpUAAAAAAABylQAAAAAAAHKVAAAAAAAAcpUAAAAAAABylQAAAAAAAHKVAAAAAAAAcpUAAAAAAABylQAAAAAAAHKVAAAAAAAAcpUAAAAAAABylQAAAAAAAHKVAAAAAAAAcpUAAAAAAABylQAAAAAAAHKVA",
          "dtype": "f8"
         }
        },
        {
         "mode": "lines+markers",
         "name": "13 - Installed Capacity",
         "type": "scatter",
         "x": {
          "bdata": "AQIDBAUGBwgJCgsMDQ4P",
          "dtype": "i1"
         },
         "y": {
          "bdata": "MzMzMzMEqkAzMzMzMwSqQDMzMzMzBKpAMzMzMzMEqkAzMzMzMwSqQDMzMzMzBKpAMzMzMzMEqkAzMzMzMwSqQDMzMzMzBKpAMzMzMzMEqkAzMzMzMwSqQDMzMzMzBKpAMzMzMzMEqkAzMzMzMwSqQDMzMzMzBKpA",
          "dtype": "f8"
         }
        },
        {
         "mode": "lines+markers",
         "name": "14 - Installed Capacity",
         "type": "scatter",
         "x": {
          "bdata": "AQIDBAUGBwgJCgsMDQ4P",
          "dtype": "i1"
         },
         "y": {
          "bdata": "zczMzMyErEDNzMzMzISsQM3MzMzMhKxAzczMzMyErEDNzMzMzISsQM3MzMzMhKxAzczMzMyErEDNzMzMzISsQM3MzMzMhKxAzczMzMyErEDNzMzMzISsQM3MzMzMhKxAzczMzMyErEDNzMzMzISsQM3MzMzMhKxA",
          "dtype": "f8"
         }
        },
        {
         "mode": "lines+markers",
         "name": "15 - Installed Capacity",
         "type": "scatter",
         "x": {
          "bdata": "AQIDBAUGBwgJCgsMDQ4P",
          "dtype": "i1"
         },
         "y": {
          "bdata": "mpmZmZmpokCamZmZmamiQJqZmZmZqaJAmpmZmZmpokCamZmZmamiQJqZmZmZqaJAmpmZmZmpokCamZmZmamiQJqZmZmZqaJAmpmZmZmpokCamZmZmamiQJqZmZmZqaJAmpmZmZmpokCamZmZmamiQJqZmZmZqaJA",
          "dtype": "f8"
         }
        },
        {
         "mode": "lines+markers",
         "name": "16 - Installed Capacity",
         "type": "scatter",
         "x": {
          "bdata": "AQIDBAUGBwgJCgsMDQ4P",
          "dtype": "i1"
         },
         "y": {
          "bdata": "AAAAAABmx0AAAAAAAGbHQAAAAAAAZsdAAAAAAABmx0AAAAAAAGbHQAAAAAAAZsdAAAAAAABmx0AAAAAAAGbHQAAAAAAAZsdAXI/C9Zix0kBcj8L1GKzUQFyPwvU43dZAKVyPwkUk2ECF61G4fgXaQI/C9Si8HttA",
          "dtype": "f8"
         }
        },
        {
         "mode": "lines+markers",
         "name": "17 - Installed Capacity",
         "type": "scatter",
         "x": {
          "bdata": "AQIDBAUGBwgJCgsMDQ4P",
          "dtype": "i1"
         },
         "y": {
          "bdata": "MzMzM7NUwkAzMzMzs1TCQDMzMzOzVMJAMzMzM7NUwkAzMzMzs1TCQDMzMzOzVMJAMzMzM7NUwkAzMzMzs1TCQDMzMzOzVMJAMzMzM7PbxUAzMzMz8wbLQI7C9SjcBs5AehSuR8Er0UCuR+F6ZDHSQBSuR+GagNRA",
          "dtype": "f8"
         }
        },
        {
         "mode": "lines+markers",
         "name": "18 - Installed Capacity",
         "type": "scatter",
         "x": {
          "bdata": "AQIDBAUGBwgJCgsMDQ4P",
          "dtype": "i1"
         },
         "y": {
          "bdata": "MzMzMzOarkAzMzMzM5quQDMzMzMzmq5AMzMzMzOarkAzMzMzM5quQDMzMzMzmq5AMzMzMzOarkAzMzMzM5quQDMzMzMzmq5AMzMzMzOarkCamZmZGeqyQAAAAAAA/LNAAAAAAACdtEAAAAAAAJ20QAAAAAAANLZA",
          "dtype": "f8"
         }
        },
        {
         "mode": "lines+markers",
         "name": "19 - Installed Capacity",
         "type": "scatter",
         "x": {
          "bdata": "AQIDBAUGBwgJCgsMDQ4P",
          "dtype": "i1"
         },
         "y": {
          "bdata": "ZmZmZmY2zEBmZmZmZjbMQGZmZmZmNsxAZmZmZmY2zEBmZmZmZjbMQGZmZmZmNsxAZmZmZmY2zEBmZmZmZjbMQGZmZmZmNsxAZmZmZmY2zEBmZmZmZjbMQGZmZmZmNsxAZmZmZmY2zEBmZmZmZjbMQGZmZmZmNsxA",
          "dtype": "f8"
         }
        },
        {
         "mode": "lines+markers",
         "name": "20 - Installed Capacity",
         "type": "scatter",
         "x": {
          "bdata": "AQIDBAUGBwgJCgsMDQ4P",
          "dtype": "i1"
         },
         "y": {
          "bdata": "ZmZmZqbMwUBmZmZmpszBQGZmZmamzMFAZmZmZqbMwUBmZmZmpszBQGZmZmamzMFAZmZmZqbMwUBmZmZmpszBQGZmZmamzMFAZmZmZqbMwUBmZmZmpszBQGZmZmamzMFAZmZmZqbMwUBmZmZmpszBQGZmZmamzMFA",
          "dtype": "f8"
         }
        }
       ],
       "layout": {
        "template": {
         "data": {
          "bar": [
           {
            "error_x": {
             "color": "#2a3f5f"
            },
            "error_y": {
             "color": "#2a3f5f"
            },
            "marker": {
             "line": {
              "color": "#E5ECF6",
              "width": 0.5
             },
             "pattern": {
              "fillmode": "overlay",
              "size": 10,
              "solidity": 0.2
             }
            },
            "type": "bar"
           }
          ],
          "barpolar": [
           {
            "marker": {
             "line": {
              "color": "#E5ECF6",
              "width": 0.5
             },
             "pattern": {
              "fillmode": "overlay",
              "size": 10,
              "solidity": 0.2
             }
            },
            "type": "barpolar"
           }
          ],
          "carpet": [
           {
            "aaxis": {
             "endlinecolor": "#2a3f5f",
             "gridcolor": "white",
             "linecolor": "white",
             "minorgridcolor": "white",
             "startlinecolor": "#2a3f5f"
            },
            "baxis": {
             "endlinecolor": "#2a3f5f",
             "gridcolor": "white",
             "linecolor": "white",
             "minorgridcolor": "white",
             "startlinecolor": "#2a3f5f"
            },
            "type": "carpet"
           }
          ],
          "choropleth": [
           {
            "colorbar": {
             "outlinewidth": 0,
             "ticks": ""
            },
            "type": "choropleth"
           }
          ],
          "contour": [
           {
            "colorbar": {
             "outlinewidth": 0,
             "ticks": ""
            },
            "colorscale": [
             [
              0,
              "#0d0887"
             ],
             [
              0.1111111111111111,
              "#46039f"
             ],
             [
              0.2222222222222222,
              "#7201a8"
             ],
             [
              0.3333333333333333,
              "#9c179e"
             ],
             [
              0.4444444444444444,
              "#bd3786"
             ],
             [
              0.5555555555555556,
              "#d8576b"
             ],
             [
              0.6666666666666666,
              "#ed7953"
             ],
             [
              0.7777777777777778,
              "#fb9f3a"
             ],
             [
              0.8888888888888888,
              "#fdca26"
             ],
             [
              1,
              "#f0f921"
             ]
            ],
            "type": "contour"
           }
          ],
          "contourcarpet": [
           {
            "colorbar": {
             "outlinewidth": 0,
             "ticks": ""
            },
            "type": "contourcarpet"
           }
          ],
          "heatmap": [
           {
            "colorbar": {
             "outlinewidth": 0,
             "ticks": ""
            },
            "colorscale": [
             [
              0,
              "#0d0887"
             ],
             [
              0.1111111111111111,
              "#46039f"
             ],
             [
              0.2222222222222222,
              "#7201a8"
             ],
             [
              0.3333333333333333,
              "#9c179e"
             ],
             [
              0.4444444444444444,
              "#bd3786"
             ],
             [
              0.5555555555555556,
              "#d8576b"
             ],
             [
              0.6666666666666666,
              "#ed7953"
             ],
             [
              0.7777777777777778,
              "#fb9f3a"
             ],
             [
              0.8888888888888888,
              "#fdca26"
             ],
             [
              1,
              "#f0f921"
             ]
            ],
            "type": "heatmap"
           }
          ],
          "histogram": [
           {
            "marker": {
             "pattern": {
              "fillmode": "overlay",
              "size": 10,
              "solidity": 0.2
             }
            },
            "type": "histogram"
           }
          ],
          "histogram2d": [
           {
            "colorbar": {
             "outlinewidth": 0,
             "ticks": ""
            },
            "colorscale": [
             [
              0,
              "#0d0887"
             ],
             [
              0.1111111111111111,
              "#46039f"
             ],
             [
              0.2222222222222222,
              "#7201a8"
             ],
             [
              0.3333333333333333,
              "#9c179e"
             ],
             [
              0.4444444444444444,
              "#bd3786"
             ],
             [
              0.5555555555555556,
              "#d8576b"
             ],
             [
              0.6666666666666666,
              "#ed7953"
             ],
             [
              0.7777777777777778,
              "#fb9f3a"
             ],
             [
              0.8888888888888888,
              "#fdca26"
             ],
             [
              1,
              "#f0f921"
             ]
            ],
            "type": "histogram2d"
           }
          ],
          "histogram2dcontour": [
           {
            "colorbar": {
             "outlinewidth": 0,
             "ticks": ""
            },
            "colorscale": [
             [
              0,
              "#0d0887"
             ],
             [
              0.1111111111111111,
              "#46039f"
             ],
             [
              0.2222222222222222,
              "#7201a8"
             ],
             [
              0.3333333333333333,
              "#9c179e"
             ],
             [
              0.4444444444444444,
              "#bd3786"
             ],
             [
              0.5555555555555556,
              "#d8576b"
             ],
             [
              0.6666666666666666,
              "#ed7953"
             ],
             [
              0.7777777777777778,
              "#fb9f3a"
             ],
             [
              0.8888888888888888,
              "#fdca26"
             ],
             [
              1,
              "#f0f921"
             ]
            ],
            "type": "histogram2dcontour"
           }
          ],
          "mesh3d": [
           {
            "colorbar": {
             "outlinewidth": 0,
             "ticks": ""
            },
            "type": "mesh3d"
           }
          ],
          "parcoords": [
           {
            "line": {
             "colorbar": {
              "outlinewidth": 0,
              "ticks": ""
             }
            },
            "type": "parcoords"
           }
          ],
          "pie": [
           {
            "automargin": true,
            "type": "pie"
           }
          ],
          "scatter": [
           {
            "fillpattern": {
             "fillmode": "overlay",
             "size": 10,
             "solidity": 0.2
            },
            "type": "scatter"
           }
          ],
          "scatter3d": [
           {
            "line": {
             "colorbar": {
              "outlinewidth": 0,
              "ticks": ""
             }
            },
            "marker": {
             "colorbar": {
              "outlinewidth": 0,
              "ticks": ""
             }
            },
            "type": "scatter3d"
           }
          ],
          "scattercarpet": [
           {
            "marker": {
             "colorbar": {
              "outlinewidth": 0,
              "ticks": ""
             }
            },
            "type": "scattercarpet"
           }
          ],
          "scattergeo": [
           {
            "marker": {
             "colorbar": {
              "outlinewidth": 0,
              "ticks": ""
             }
            },
            "type": "scattergeo"
           }
          ],
          "scattergl": [
           {
            "marker": {
             "colorbar": {
              "outlinewidth": 0,
              "ticks": ""
             }
            },
            "type": "scattergl"
           }
          ],
          "scattermap": [
           {
            "marker": {
             "colorbar": {
              "outlinewidth": 0,
              "ticks": ""
             }
            },
            "type": "scattermap"
           }
          ],
          "scattermapbox": [
           {
            "marker": {
             "colorbar": {
              "outlinewidth": 0,
              "ticks": ""
             }
            },
            "type": "scattermapbox"
           }
          ],
          "scatterpolar": [
           {
            "marker": {
             "colorbar": {
              "outlinewidth": 0,
              "ticks": ""
             }
            },
            "type": "scatterpolar"
           }
          ],
          "scatterpolargl": [
           {
            "marker": {
             "colorbar": {
              "outlinewidth": 0,
              "ticks": ""
             }
            },
            "type": "scatterpolargl"
           }
          ],
          "scatterternary": [
           {
            "marker": {
             "colorbar": {
              "outlinewidth": 0,
              "ticks": ""
             }
            },
            "type": "scatterternary"
           }
          ],
          "surface": [
           {
            "colorbar": {
             "outlinewidth": 0,
             "ticks": ""
            },
            "colorscale": [
             [
              0,
              "#0d0887"
             ],
             [
              0.1111111111111111,
              "#46039f"
             ],
             [
              0.2222222222222222,
              "#7201a8"
             ],
             [
              0.3333333333333333,
              "#9c179e"
             ],
             [
              0.4444444444444444,
              "#bd3786"
             ],
             [
              0.5555555555555556,
              "#d8576b"
             ],
             [
              0.6666666666666666,
              "#ed7953"
             ],
             [
              0.7777777777777778,
              "#fb9f3a"
             ],
             [
              0.8888888888888888,
              "#fdca26"
             ],
             [
              1,
              "#f0f921"
             ]
            ],
            "type": "surface"
           }
          ],
          "table": [
           {
            "cells": {
             "fill": {
              "color": "#EBF0F8"
             },
             "line": {
              "color": "white"
             }
            },
            "header": {
             "fill": {
              "color": "#C8D4E3"
             },
             "line": {
              "color": "white"
             }
            },
            "type": "table"
           }
          ]
         },
         "layout": {
          "annotationdefaults": {
           "arrowcolor": "#2a3f5f",
           "arrowhead": 0,
           "arrowwidth": 1
          },
          "autotypenumbers": "strict",
          "coloraxis": {
           "colorbar": {
            "outlinewidth": 0,
            "ticks": ""
           }
          },
          "colorscale": {
           "diverging": [
            [
             0,
             "#8e0152"
            ],
            [
             0.1,
             "#c51b7d"
            ],
            [
             0.2,
             "#de77ae"
            ],
            [
             0.3,
             "#f1b6da"
            ],
            [
             0.4,
             "#fde0ef"
            ],
            [
             0.5,
             "#f7f7f7"
            ],
            [
             0.6,
             "#e6f5d0"
            ],
            [
             0.7,
             "#b8e186"
            ],
            [
             0.8,
             "#7fbc41"
            ],
            [
             0.9,
             "#4d9221"
            ],
            [
             1,
             "#276419"
            ]
           ],
           "sequential": [
            [
             0,
             "#0d0887"
            ],
            [
             0.1111111111111111,
             "#46039f"
            ],
            [
             0.2222222222222222,
             "#7201a8"
            ],
            [
             0.3333333333333333,
             "#9c179e"
            ],
            [
             0.4444444444444444,
             "#bd3786"
            ],
            [
             0.5555555555555556,
             "#d8576b"
            ],
            [
             0.6666666666666666,
             "#ed7953"
            ],
            [
             0.7777777777777778,
             "#fb9f3a"
            ],
            [
             0.8888888888888888,
             "#fdca26"
            ],
            [
             1,
             "#f0f921"
            ]
           ],
           "sequentialminus": [
            [
             0,
             "#0d0887"
            ],
            [
             0.1111111111111111,
             "#46039f"
            ],
            [
             0.2222222222222222,
             "#7201a8"
            ],
            [
             0.3333333333333333,
             "#9c179e"
            ],
            [
             0.4444444444444444,
             "#bd3786"
            ],
            [
             0.5555555555555556,
             "#d8576b"
            ],
            [
             0.6666666666666666,
             "#ed7953"
            ],
            [
             0.7777777777777778,
             "#fb9f3a"
            ],
            [
             0.8888888888888888,
             "#fdca26"
            ],
            [
             1,
             "#f0f921"
            ]
           ]
          },
          "colorway": [
           "#636efa",
           "#EF553B",
           "#00cc96",
           "#ab63fa",
           "#FFA15A",
           "#19d3f3",
           "#FF6692",
           "#B6E880",
           "#FF97FF",
           "#FECB52"
          ],
          "font": {
           "color": "#2a3f5f"
          },
          "geo": {
           "bgcolor": "white",
           "lakecolor": "white",
           "landcolor": "#E5ECF6",
           "showlakes": true,
           "showland": true,
           "subunitcolor": "white"
          },
          "hoverlabel": {
           "align": "left"
          },
          "hovermode": "closest",
          "mapbox": {
           "style": "light"
          },
          "paper_bgcolor": "white",
          "plot_bgcolor": "#E5ECF6",
          "polar": {
           "angularaxis": {
            "gridcolor": "white",
            "linecolor": "white",
            "ticks": ""
           },
           "bgcolor": "#E5ECF6",
           "radialaxis": {
            "gridcolor": "white",
            "linecolor": "white",
            "ticks": ""
           }
          },
          "scene": {
           "xaxis": {
            "backgroundcolor": "#E5ECF6",
            "gridcolor": "white",
            "gridwidth": 2,
            "linecolor": "white",
            "showbackground": true,
            "ticks": "",
            "zerolinecolor": "white"
           },
           "yaxis": {
            "backgroundcolor": "#E5ECF6",
            "gridcolor": "white",
            "gridwidth": 2,
            "linecolor": "white",
            "showbackground": true,
            "ticks": "",
            "zerolinecolor": "white"
           },
           "zaxis": {
            "backgroundcolor": "#E5ECF6",
            "gridcolor": "white",
            "gridwidth": 2,
            "linecolor": "white",
            "showbackground": true,
            "ticks": "",
            "zerolinecolor": "white"
           }
          },
          "shapedefaults": {
           "line": {
            "color": "#2a3f5f"
           }
          },
          "ternary": {
           "aaxis": {
            "gridcolor": "white",
            "linecolor": "white",
            "ticks": ""
           },
           "baxis": {
            "gridcolor": "white",
            "linecolor": "white",
            "ticks": ""
           },
           "bgcolor": "#E5ECF6",
           "caxis": {
            "gridcolor": "white",
            "linecolor": "white",
            "ticks": ""
           }
          },
          "title": {
           "x": 0.05
          },
          "xaxis": {
           "automargin": true,
           "gridcolor": "white",
           "linecolor": "white",
           "ticks": "",
           "title": {
            "standoff": 15
           },
           "zerolinecolor": "white",
           "zerolinewidth": 2
          },
          "yaxis": {
           "automargin": true,
           "gridcolor": "white",
           "linecolor": "white",
           "ticks": "",
           "title": {
            "standoff": 15
           },
           "zerolinecolor": "white",
           "zerolinewidth": 2
          }
         }
        },
        "title": {
         "text": "Installed  Capacity per Node"
        },
        "xaxis": {
         "title": {
          "text": "Model Step"
         }
        },
        "yaxis": {
         "title": {
          "text": "MW"
         }
        }
       }
      }
     },
     "metadata": {},
     "output_type": "display_data"
    },
    {
     "data": {
      "application/vnd.plotly.v1+json": {
       "config": {
        "plotlyServerURL": "https://plot.ly"
       },
       "data": [
        {
         "mode": "lines+markers",
         "name": "1 - Congestion",
         "type": "scatter",
         "x": {
          "bdata": "AQIDBAUGBwgJCgsMDQ4P",
          "dtype": "i1"
         },
         "y": {
          "bdata": "qdsS9UTEKUCp2xL1RMQpQKnbEvVExClAqdsS9UTEKUCp2xL1RMQpQKnbEvVExClAqdsS9UTEKUCp2xL1RMQpQKnbEvVExClAqdsS9UTEKUCp2xL1RMQpQKnbEvVExClAqdsS9UTEKUCp2xL1RMQpQKnbEvVExClA",
          "dtype": "f8"
         }
        },
        {
         "mode": "lines+markers",
         "name": "2 - Congestion",
         "type": "scatter",
         "x": {
          "bdata": "AQIDBAUGBwgJCgsMDQ4P",
          "dtype": "i1"
         },
         "y": {
          "bdata": "DP7/XKgFH0AM/v9cqAUfQAz+/1yoBR9ADP7/XKgFH0AM/v9cqAUfQAz+/1yoBRdAGPz/uVALDkAw+P9zoRb8P34+AGD0Ss+/6AMARq/0AcD0AQCjV/oQwPQBAKNX+hjA+gCA0St9IMD6AIDRK30kwPoAgNErfSjA",
          "dtype": "f8"
         }
        },
        {
         "mode": "lines+markers",
         "name": "3 - Congestion",
         "type": "scatter",
         "x": {
          "bdata": "AQIDBAUGBwgJCgsMDQ4P",
          "dtype": "i1"
         },
         "y": {
          "bdata": "km/6KUvUJkCSb/opS9QmQJJv+ilL1CZAkm/6KUvUJkCSb/opS9QmQJJv+ilL1CZAkm/6KUvUJkCSb/opS9QmQJJv+ilL1CZAkm/6KUvUJkCSb/opS9QmQJJv+ilL1CZAkm/6KUvUJkCSb/opS9QmQJJv+ilL1CZA",
          "dtype": "f8"
         }
        },
        {
         "mode": "lines+markers",
         "name": "4 - Congestion",
         "type": "scatter",
         "x": {
          "bdata": "AQIDBAUGBwgJCgsMDQ4P",
          "dtype": "i1"
         },
         "y": {
          "bdata": "npkGUAodMECemQZQCh0wQJ6ZBlAKHTBAnpkGUAodMECemQZQCh0wQDszDaAUOixAOzMNoBQ6KEA7Mw2gFDokQDwzDaAUOiBAeGYaQCl0GEB4ZhpAKXQQQPDMNIBS6ABA/52ZBlAKvT8gZpb/Wi/+vxAzy3+tFw/A",
          "dtype": "f8"
         }
        },
        {
         "mode": "lines+markers",
         "name": "5 - Congestion",
         "type": "scatter",
         "x": {
          "bdata": "AQIDBAUGBwgJCgsMDQ4P",
          "dtype": "i1"
         },
         "y": {
          "bdata": "Fyf5Z4GRLkAXJ/lngZEuQBcn+WeBkS5AFyf5Z4GRLkAXJ/lngZEuQBcn+WeBkS5AFyf5Z4GRLkAXJ/lngZEuQBcn+WeBkS5AFyf5Z4GRLkAXJ/lngZEuQBcn+WeBkS5AFyf5Z4GRLkAXJ/lngZEuQBcn+WeBkS5A",
          "dtype": "f8"
         }
        },
        {
         "mode": "lines+markers",
         "name": "6 - Congestion",
         "type": "scatter",
         "x": {
          "bdata": "AQIDBAUGBwgJCgsMDQ4P",
          "dtype": "i1"
         },
         "y": {
          "bdata": "WcYlWQRZIEBZxiVZBFkgQFnGJVkEWSBAWcYlWQRZIEBZxiVZBFkgQLOMS7IIshhAs4xLsgiyEEBkGZdkEWQBQD2WcUkWQcY/N83RNt03/b+c5mib7psOwE5ztE33TRfATnO0TfdNH8CnOdqm+6YjwKc52qb7pifA",
          "dtype": "f8"
         }
        },
        {
         "mode": "lines+markers",
         "name": "7 - Congestion",
         "type": "scatter",
         "x": {
          "bdata": "AQIDBAUGBwgJCgsMDQ4P",
          "dtype": "i1"
         },
         "y": {
          "bdata": "UEl5rJAdNUBQSXmskB01QFBJeayQHTVAUEl5rJAdNUBQSXmskB01QFBJeayQHTVAUEl5rJAdNUBQSXmskB01QFBJeayQHTVAUEl5rJAdNUBQSXmskB01QFBJeayQHTVAUEl5rJAdNUBQSXmskB01QFBJeayQHTVA",
          "dtype": "f8"
         }
        },
        {
         "mode": "lines+markers",
         "name": "8 - Congestion",
         "type": "scatter",
         "x": {
          "bdata": "AQIDBAUGBwgJCgsMDQ4P",
          "dtype": "i1"
         },
         "y": {
          "bdata": "u78PuALUMEC7vw+4AtQwQLu/D7gC1DBAu78PuALUMEC7vw+4AtQwQLu/D7gC1DBAu78PuALUMEC7vw+4AtQwQLu/D7gC1DBAu78PuALUMEC7vw+4AtQwQLu/D7gC1DBAu78PuALUMEC7vw+4AtQwQLu/D7gC1DBA",
          "dtype": "f8"
         }
        },
        {
         "mode": "lines+markers",
         "name": "9 - Congestion",
         "type": "scatter",
         "x": {
          "bdata": "AQIDBAUGBwgJCgsMDQ4P",
          "dtype": "i1"
         },
         "y": {
          "bdata": "ZgP+wVzu6j9mA/7BXO7qP2YD/sFc7uo/ZgP+wVzu6j9mA/7BXO7qP2YD/sFc7uo/ZgP+wVzu6j9mA/7BXO7qP2YD/sFc7uo/ZgP+wVzu6j9mA/7BXO7qP2YD/sFc7uo/ZgP+wVzu6j9mA/7BXO7qP2YD/sFc7uo/",
          "dtype": "f8"
         }
        },
        {
         "mode": "lines+markers",
         "name": "10 - Congestion",
         "type": "scatter",
         "x": {
          "bdata": "AQIDBAUGBwgJCgsMDQ4P",
          "dtype": "i1"
         },
         "y": {
          "bdata": "1kzR3PNHKUDWTNHc80cpQNZM0dzzRylA1kzR3PNHKUDWTNHc80cpQNZM0dzzRylA1kzR3PNHKUDWTNHc80cpQNZM0dzzRylA1kzR3PNHKUDWTNHc80cpQNZM0dzzRylA1kzR3PNHKUDWTNHc80cpQNZM0dzzRylA",
          "dtype": "f8"
         }
        },
        {
         "mode": "lines+markers",
         "name": "11 - Congestion",
         "type": "scatter",
         "x": {
          "bdata": "AQIDBAUGBwgJCgsMDQ4P",
          "dtype": "i1"
         },
         "y": {
          "bdata": "3RXAUHqyI0DdFcBQerIjQN0VwFB6siNA3RXAUHqyI0DdFcBQerIjQN0VwFB6siNA3RXAUHqyI0DdFcBQerIjQN0VwFB6siNA3RXAUHqyI0DdFcBQerIjQN0VwFB6siNA3RXAUHqyI0DdFcBQerIjQN0VwFB6siNA",
          "dtype": "f8"
         }
        },
        {
         "mode": "lines+markers",
         "name": "12 - Congestion",
         "type": "scatter",
         "x": {
          "bdata": "AQIDBAUGBwgJCgsMDQ4P",
          "dtype": "i1"
         },
         "y": {
          "bdata": "Uega/qXMJEBR6Br+pcwkQFHoGv6lzCRAUega/qXMJEBR6Br+pcwkQFHoGv6lzCRAUega/qXMJEBR6Br+pcwkQFHoGv6lzCRAUega/qXMJEBR6Br+pcwkQFHoGv6lzCRAUega/qXMJEBR6Br+pcwkQFHoGv6lzCRA",
          "dtype": "f8"
         }
        },
        {
         "mode": "lines+markers",
         "name": "13 - Congestion",
         "type": "scatter",
         "x": {
          "bdata": "AQIDBAUGBwgJCgsMDQ4P",
          "dtype": "i1"
         },
         "y": {
          "bdata": "6Bn+2hWRK0DoGf7aFZErQOgZ/toVkStA6Bn+2hWRK0DoGf7aFZErQOgZ/toVkStA6Bn+2hWRK0DoGf7aFZErQOgZ/toVkStA6Bn+2hWRK0DoGf7aFZErQOgZ/toVkStA6Bn+2hWRK0DoGf7aFZErQOgZ/toVkStA",
          "dtype": "f8"
         }
        },
        {
         "mode": "lines+markers",
         "name": "14 - Congestion",
         "type": "scatter",
         "x": {
          "bdata": "AQIDBAUGBwgJCgsMDQ4P",
          "dtype": "i1"
         },
         "y": {
          "bdata": "keTSy5XmHkCR5NLLleYeQJHk0suV5h5AkeTSy5XmHkCR5NLLleYeQJHk0suV5h5AkeTSy5XmHkCR5NLLleYeQJHk0suV5h5AkeTSy5XmHkCR5NLLleYeQJHk0suV5h5AkeTSy5XmHkCR5NLLleYeQJHk0suV5h5A",
          "dtype": "f8"
         }
        },
        {
         "mode": "lines+markers",
         "name": "15 - Congestion",
         "type": "scatter",
         "x": {
          "bdata": "AQIDBAUGBwgJCgsMDQ4P",
          "dtype": "i1"
         },
         "y": {
          "bdata": "0L15UiNq8T/QvXlSI2rxP9C9eVIjavE/0L15UiNq8T/QvXlSI2rxP9C9eVIjavE/0L15UiNq8T/QvXlSI2rxP9C9eVIjavE/0L15UiNq8T/QvXlSI2rxP9C9eVIjavE/0L15UiNq8T/QvXlSI2rxP9C9eVIjavE/",
          "dtype": "f8"
         }
        },
        {
         "mode": "lines+markers",
         "name": "16 - Congestion",
         "type": "scatter",
         "x": {
          "bdata": "AQIDBAUGBwgJCgsMDQ4P",
          "dtype": "i1"
         },
         "y": {
          "bdata": "+QiNOuH3FED5CI064fcUQPkIjTrh9xRA+QiNOuH3FED5CI064fcUQPkIjTrh9xRA+QiNOuH3FED5CI064fcUQPkIjTrh9xRA+QiNOuH3FED5CI064fcUQPkIjTrh9xRA+QiNOuH3FED5CI064fcUQPkIjTrh9xRA",
          "dtype": "f8"
         }
        },
        {
         "mode": "lines+markers",
         "name": "17 - Congestion",
         "type": "scatter",
         "x": {
          "bdata": "AQIDBAUGBwgJCgsMDQ4P",
          "dtype": "i1"
         },
         "y": {
          "bdata": "ouRFzNVHEECi5EXM1UcQQKLkRczVRxBAouRFzNVHEECi5EXM1UcQQKLkRczVRxBAouRFzNVHEECi5EXM1UcQQKLkRczVRxBAouRFzNVHEECi5EXM1UcQQKLkRczVRxBAouRFzNVHEECi5EXM1UcQQKLkRczVRxBA",
          "dtype": "f8"
         }
        },
        {
         "mode": "lines+markers",
         "name": "18 - Congestion",
         "type": "scatter",
         "x": {
          "bdata": "AQIDBAUGBwgJCgsMDQ4P",
          "dtype": "i1"
         },
         "y": {
          "bdata": "0A8v9XxwLEDQDy/1fHAsQNAPL/V8cCxA0A8v9XxwLEDQDy/1fHAsQNAPL/V8cCxA0A8v9XxwLEDQDy/1fHAsQNAPL/V8cCxA0A8v9XxwLEDQDy/1fHAsQNAPL/V8cCxA0A8v9XxwLEDQDy/1fHAsQNAPL/V8cCxA",
          "dtype": "f8"
         }
        },
        {
         "mode": "lines+markers",
         "name": "19 - Congestion",
         "type": "scatter",
         "x": {
          "bdata": "AQIDBAUGBwgJCgsMDQ4P",
          "dtype": "i1"
         },
         "y": {
          "bdata": "6xZWuT4nFkDrFla5PicWQOsWVrk+JxZA6xZWuT4nFkDrFla5PicWQOsWVrk+JxZA6xZWuT4nFkDrFla5PicWQOsWVrk+JxZA6xZWuT4nFkDrFla5PicWQOsWVrk+JxZA6xZWuT4nFkDrFla5PicWQOsWVrk+JxZA",
          "dtype": "f8"
         }
        },
        {
         "mode": "lines+markers",
         "name": "20 - Congestion",
         "type": "scatter",
         "x": {
          "bdata": "AQIDBAUGBwgJCgsMDQ4P",
          "dtype": "i1"
         },
         "y": {
          "bdata": "N5Ic6WOlH0A3khzpY6UfQDeSHOljpR9AN5Ic6WOlH0A3khzpY6UfQDeSHOljpR9AN5Ic6WOlH0A3khzpY6UfQDeSHOljpR9AN5Ic6WOlH0A3khzpY6UfQDeSHOljpR9AN5Ic6WOlH0A3khzpY6UfQDeSHOljpR9A",
          "dtype": "f8"
         }
        }
       ],
       "layout": {
        "template": {
         "data": {
          "bar": [
           {
            "error_x": {
             "color": "#2a3f5f"
            },
            "error_y": {
             "color": "#2a3f5f"
            },
            "marker": {
             "line": {
              "color": "#E5ECF6",
              "width": 0.5
             },
             "pattern": {
              "fillmode": "overlay",
              "size": 10,
              "solidity": 0.2
             }
            },
            "type": "bar"
           }
          ],
          "barpolar": [
           {
            "marker": {
             "line": {
              "color": "#E5ECF6",
              "width": 0.5
             },
             "pattern": {
              "fillmode": "overlay",
              "size": 10,
              "solidity": 0.2
             }
            },
            "type": "barpolar"
           }
          ],
          "carpet": [
           {
            "aaxis": {
             "endlinecolor": "#2a3f5f",
             "gridcolor": "white",
             "linecolor": "white",
             "minorgridcolor": "white",
             "startlinecolor": "#2a3f5f"
            },
            "baxis": {
             "endlinecolor": "#2a3f5f",
             "gridcolor": "white",
             "linecolor": "white",
             "minorgridcolor": "white",
             "startlinecolor": "#2a3f5f"
            },
            "type": "carpet"
           }
          ],
          "choropleth": [
           {
            "colorbar": {
             "outlinewidth": 0,
             "ticks": ""
            },
            "type": "choropleth"
           }
          ],
          "contour": [
           {
            "colorbar": {
             "outlinewidth": 0,
             "ticks": ""
            },
            "colorscale": [
             [
              0,
              "#0d0887"
             ],
             [
              0.1111111111111111,
              "#46039f"
             ],
             [
              0.2222222222222222,
              "#7201a8"
             ],
             [
              0.3333333333333333,
              "#9c179e"
             ],
             [
              0.4444444444444444,
              "#bd3786"
             ],
             [
              0.5555555555555556,
              "#d8576b"
             ],
             [
              0.6666666666666666,
              "#ed7953"
             ],
             [
              0.7777777777777778,
              "#fb9f3a"
             ],
             [
              0.8888888888888888,
              "#fdca26"
             ],
             [
              1,
              "#f0f921"
             ]
            ],
            "type": "contour"
           }
          ],
          "contourcarpet": [
           {
            "colorbar": {
             "outlinewidth": 0,
             "ticks": ""
            },
            "type": "contourcarpet"
           }
          ],
          "heatmap": [
           {
            "colorbar": {
             "outlinewidth": 0,
             "ticks": ""
            },
            "colorscale": [
             [
              0,
              "#0d0887"
             ],
             [
              0.1111111111111111,
              "#46039f"
             ],
             [
              0.2222222222222222,
              "#7201a8"
             ],
             [
              0.3333333333333333,
              "#9c179e"
             ],
             [
              0.4444444444444444,
              "#bd3786"
             ],
             [
              0.5555555555555556,
              "#d8576b"
             ],
             [
              0.6666666666666666,
              "#ed7953"
             ],
             [
              0.7777777777777778,
              "#fb9f3a"
             ],
             [
              0.8888888888888888,
              "#fdca26"
             ],
             [
              1,
              "#f0f921"
             ]
            ],
            "type": "heatmap"
           }
          ],
          "histogram": [
           {
            "marker": {
             "pattern": {
              "fillmode": "overlay",
              "size": 10,
              "solidity": 0.2
             }
            },
            "type": "histogram"
           }
          ],
          "histogram2d": [
           {
            "colorbar": {
             "outlinewidth": 0,
             "ticks": ""
            },
            "colorscale": [
             [
              0,
              "#0d0887"
             ],
             [
              0.1111111111111111,
              "#46039f"
             ],
             [
              0.2222222222222222,
              "#7201a8"
             ],
             [
              0.3333333333333333,
              "#9c179e"
             ],
             [
              0.4444444444444444,
              "#bd3786"
             ],
             [
              0.5555555555555556,
              "#d8576b"
             ],
             [
              0.6666666666666666,
              "#ed7953"
             ],
             [
              0.7777777777777778,
              "#fb9f3a"
             ],
             [
              0.8888888888888888,
              "#fdca26"
             ],
             [
              1,
              "#f0f921"
             ]
            ],
            "type": "histogram2d"
           }
          ],
          "histogram2dcontour": [
           {
            "colorbar": {
             "outlinewidth": 0,
             "ticks": ""
            },
            "colorscale": [
             [
              0,
              "#0d0887"
             ],
             [
              0.1111111111111111,
              "#46039f"
             ],
             [
              0.2222222222222222,
              "#7201a8"
             ],
             [
              0.3333333333333333,
              "#9c179e"
             ],
             [
              0.4444444444444444,
              "#bd3786"
             ],
             [
              0.5555555555555556,
              "#d8576b"
             ],
             [
              0.6666666666666666,
              "#ed7953"
             ],
             [
              0.7777777777777778,
              "#fb9f3a"
             ],
             [
              0.8888888888888888,
              "#fdca26"
             ],
             [
              1,
              "#f0f921"
             ]
            ],
            "type": "histogram2dcontour"
           }
          ],
          "mesh3d": [
           {
            "colorbar": {
             "outlinewidth": 0,
             "ticks": ""
            },
            "type": "mesh3d"
           }
          ],
          "parcoords": [
           {
            "line": {
             "colorbar": {
              "outlinewidth": 0,
              "ticks": ""
             }
            },
            "type": "parcoords"
           }
          ],
          "pie": [
           {
            "automargin": true,
            "type": "pie"
           }
          ],
          "scatter": [
           {
            "fillpattern": {
             "fillmode": "overlay",
             "size": 10,
             "solidity": 0.2
            },
            "type": "scatter"
           }
          ],
          "scatter3d": [
           {
            "line": {
             "colorbar": {
              "outlinewidth": 0,
              "ticks": ""
             }
            },
            "marker": {
             "colorbar": {
              "outlinewidth": 0,
              "ticks": ""
             }
            },
            "type": "scatter3d"
           }
          ],
          "scattercarpet": [
           {
            "marker": {
             "colorbar": {
              "outlinewidth": 0,
              "ticks": ""
             }
            },
            "type": "scattercarpet"
           }
          ],
          "scattergeo": [
           {
            "marker": {
             "colorbar": {
              "outlinewidth": 0,
              "ticks": ""
             }
            },
            "type": "scattergeo"
           }
          ],
          "scattergl": [
           {
            "marker": {
             "colorbar": {
              "outlinewidth": 0,
              "ticks": ""
             }
            },
            "type": "scattergl"
           }
          ],
          "scattermap": [
           {
            "marker": {
             "colorbar": {
              "outlinewidth": 0,
              "ticks": ""
             }
            },
            "type": "scattermap"
           }
          ],
          "scattermapbox": [
           {
            "marker": {
             "colorbar": {
              "outlinewidth": 0,
              "ticks": ""
             }
            },
            "type": "scattermapbox"
           }
          ],
          "scatterpolar": [
           {
            "marker": {
             "colorbar": {
              "outlinewidth": 0,
              "ticks": ""
             }
            },
            "type": "scatterpolar"
           }
          ],
          "scatterpolargl": [
           {
            "marker": {
             "colorbar": {
              "outlinewidth": 0,
              "ticks": ""
             }
            },
            "type": "scatterpolargl"
           }
          ],
          "scatterternary": [
           {
            "marker": {
             "colorbar": {
              "outlinewidth": 0,
              "ticks": ""
             }
            },
            "type": "scatterternary"
           }
          ],
          "surface": [
           {
            "colorbar": {
             "outlinewidth": 0,
             "ticks": ""
            },
            "colorscale": [
             [
              0,
              "#0d0887"
             ],
             [
              0.1111111111111111,
              "#46039f"
             ],
             [
              0.2222222222222222,
              "#7201a8"
             ],
             [
              0.3333333333333333,
              "#9c179e"
             ],
             [
              0.4444444444444444,
              "#bd3786"
             ],
             [
              0.5555555555555556,
              "#d8576b"
             ],
             [
              0.6666666666666666,
              "#ed7953"
             ],
             [
              0.7777777777777778,
              "#fb9f3a"
             ],
             [
              0.8888888888888888,
              "#fdca26"
             ],
             [
              1,
              "#f0f921"
             ]
            ],
            "type": "surface"
           }
          ],
          "table": [
           {
            "cells": {
             "fill": {
              "color": "#EBF0F8"
             },
             "line": {
              "color": "white"
             }
            },
            "header": {
             "fill": {
              "color": "#C8D4E3"
             },
             "line": {
              "color": "white"
             }
            },
            "type": "table"
           }
          ]
         },
         "layout": {
          "annotationdefaults": {
           "arrowcolor": "#2a3f5f",
           "arrowhead": 0,
           "arrowwidth": 1
          },
          "autotypenumbers": "strict",
          "coloraxis": {
           "colorbar": {
            "outlinewidth": 0,
            "ticks": ""
           }
          },
          "colorscale": {
           "diverging": [
            [
             0,
             "#8e0152"
            ],
            [
             0.1,
             "#c51b7d"
            ],
            [
             0.2,
             "#de77ae"
            ],
            [
             0.3,
             "#f1b6da"
            ],
            [
             0.4,
             "#fde0ef"
            ],
            [
             0.5,
             "#f7f7f7"
            ],
            [
             0.6,
             "#e6f5d0"
            ],
            [
             0.7,
             "#b8e186"
            ],
            [
             0.8,
             "#7fbc41"
            ],
            [
             0.9,
             "#4d9221"
            ],
            [
             1,
             "#276419"
            ]
           ],
           "sequential": [
            [
             0,
             "#0d0887"
            ],
            [
             0.1111111111111111,
             "#46039f"
            ],
            [
             0.2222222222222222,
             "#7201a8"
            ],
            [
             0.3333333333333333,
             "#9c179e"
            ],
            [
             0.4444444444444444,
             "#bd3786"
            ],
            [
             0.5555555555555556,
             "#d8576b"
            ],
            [
             0.6666666666666666,
             "#ed7953"
            ],
            [
             0.7777777777777778,
             "#fb9f3a"
            ],
            [
             0.8888888888888888,
             "#fdca26"
            ],
            [
             1,
             "#f0f921"
            ]
           ],
           "sequentialminus": [
            [
             0,
             "#0d0887"
            ],
            [
             0.1111111111111111,
             "#46039f"
            ],
            [
             0.2222222222222222,
             "#7201a8"
            ],
            [
             0.3333333333333333,
             "#9c179e"
            ],
            [
             0.4444444444444444,
             "#bd3786"
            ],
            [
             0.5555555555555556,
             "#d8576b"
            ],
            [
             0.6666666666666666,
             "#ed7953"
            ],
            [
             0.7777777777777778,
             "#fb9f3a"
            ],
            [
             0.8888888888888888,
             "#fdca26"
            ],
            [
             1,
             "#f0f921"
            ]
           ]
          },
          "colorway": [
           "#636efa",
           "#EF553B",
           "#00cc96",
           "#ab63fa",
           "#FFA15A",
           "#19d3f3",
           "#FF6692",
           "#B6E880",
           "#FF97FF",
           "#FECB52"
          ],
          "font": {
           "color": "#2a3f5f"
          },
          "geo": {
           "bgcolor": "white",
           "lakecolor": "white",
           "landcolor": "#E5ECF6",
           "showlakes": true,
           "showland": true,
           "subunitcolor": "white"
          },
          "hoverlabel": {
           "align": "left"
          },
          "hovermode": "closest",
          "mapbox": {
           "style": "light"
          },
          "paper_bgcolor": "white",
          "plot_bgcolor": "#E5ECF6",
          "polar": {
           "angularaxis": {
            "gridcolor": "white",
            "linecolor": "white",
            "ticks": ""
           },
           "bgcolor": "#E5ECF6",
           "radialaxis": {
            "gridcolor": "white",
            "linecolor": "white",
            "ticks": ""
           }
          },
          "scene": {
           "xaxis": {
            "backgroundcolor": "#E5ECF6",
            "gridcolor": "white",
            "gridwidth": 2,
            "linecolor": "white",
            "showbackground": true,
            "ticks": "",
            "zerolinecolor": "white"
           },
           "yaxis": {
            "backgroundcolor": "#E5ECF6",
            "gridcolor": "white",
            "gridwidth": 2,
            "linecolor": "white",
            "showbackground": true,
            "ticks": "",
            "zerolinecolor": "white"
           },
           "zaxis": {
            "backgroundcolor": "#E5ECF6",
            "gridcolor": "white",
            "gridwidth": 2,
            "linecolor": "white",
            "showbackground": true,
            "ticks": "",
            "zerolinecolor": "white"
           }
          },
          "shapedefaults": {
           "line": {
            "color": "#2a3f5f"
           }
          },
          "ternary": {
           "aaxis": {
            "gridcolor": "white",
            "linecolor": "white",
            "ticks": ""
           },
           "baxis": {
            "gridcolor": "white",
            "linecolor": "white",
            "ticks": ""
           },
           "bgcolor": "#E5ECF6",
           "caxis": {
            "gridcolor": "white",
            "linecolor": "white",
            "ticks": ""
           }
          },
          "title": {
           "x": 0.05
          },
          "xaxis": {
           "automargin": true,
           "gridcolor": "white",
           "linecolor": "white",
           "ticks": "",
           "title": {
            "standoff": 15
           },
           "zerolinecolor": "white",
           "zerolinewidth": 2
          },
          "yaxis": {
           "automargin": true,
           "gridcolor": "white",
           "linecolor": "white",
           "ticks": "",
           "title": {
            "standoff": 15
           },
           "zerolinecolor": "white",
           "zerolinewidth": 2
          }
         }
        },
        "title": {
         "text": "Node Congestion Indicator Over Time"
        },
        "xaxis": {
         "title": {
          "text": "Model Step"
         }
        },
        "yaxis": {
         "title": {
          "text": "Congestion Indicator"
         }
        }
       }
      }
     },
     "metadata": {},
     "output_type": "display_data"
    },
    {
     "data": {
      "application/vnd.plotly.v1+json": {
       "config": {
        "plotlyServerURL": "https://plot.ly"
       },
       "data": [
        {
         "mode": "lines+markers",
         "name": "1 - avg_cost_eris_dropped_out",
         "type": "scatter",
         "x": {
          "bdata": "AQIDBAUGBwgJCgsMDQ4P",
          "dtype": "i1"
         },
         "y": {
          "bdata": "AAAAAAAAAAAAAAAAAAAAAAAAAAAAAAAAAAAAAAAAAAAAAAAAAAAAAAAAAAAAAAAAAAAAAAAAAAAAAAAAAAAAAAAAAAAAAAAAAAAAAAAAAAAAAAAAAAAAAAAAAAAAAAAAAAAAAAAAAAAAAAAAAAAAAAAAAAAAAAAA",
          "dtype": "f8"
         }
        },
        {
         "mode": "lines+markers",
         "name": "1 - avg_cost_nris_dropped_out",
         "type": "scatter",
         "x": {
          "bdata": "AQIDBAUGBwgJCgsMDQ4P",
          "dtype": "i1"
         },
         "y": {
          "bdata": "AAAAAAAAAAAAAAAAAAAAAAAAAAAAAAAAAAAAAAAAAAAAAAAAAAAAAAAAAAAAAAAAAAAAAAAAAAAAAAAAAAAAAAAAAAAAAAAAAAAAAAAAAAAAAAAAAAAAAAAAAAAAAAAAAAAAAAAAAAAAAAAAAAAAAAAAAAAAAAAA",
          "dtype": "f8"
         }
        },
        {
         "mode": "lines+markers",
         "name": "1 - avg_cost_eris_pending",
         "type": "scatter",
         "x": {
          "bdata": "AQIDBAUGBwgJCgsMDQ4P",
          "dtype": "i1"
         },
         "y": {
          "bdata": "AAAAAAAAAAAAAAAAAAAA",
          "dtype": "i1"
         }
        },
        {
         "mode": "lines+markers",
         "name": "1 - avg_cost_nris_pending",
         "type": "scatter",
         "x": {
          "bdata": "AQIDBAUGBwgJCgsMDQ4P",
          "dtype": "i1"
         },
         "y": {
          "bdata": "AAAAAAAAAAAAAAAAAAAAAAAAAAAAAAAAAAAAAAAAAAAAAAAAAAAAAAAAAAAAAAAAAAAAAAAAAAAAAAAAAAAAAAAAAAAAAAAAAAAAAAAAAAAAAAAAAAAAAAAAAAAAAAAAAAAAAAAAAAAAAAAAAAAAAAAAAAAAAAAA",
          "dtype": "f8"
         }
        },
        {
         "mode": "lines+markers",
         "name": "1 - avg_cost_eris_online",
         "type": "scatter",
         "x": {
          "bdata": "AQIDBAUGBwgJCgsMDQ4P",
          "dtype": "i1"
         },
         "y": {
          "bdata": "AAAAAAAAAAAAAAAAAAAA",
          "dtype": "i1"
         }
        },
        {
         "mode": "lines+markers",
         "name": "1 - avg_cost_nris_online",
         "type": "scatter",
         "x": {
          "bdata": "AQIDBAUGBwgJCgsMDQ4P",
          "dtype": "i1"
         },
         "y": {
          "bdata": "AAAAAAAAAAAAAAAAAAAA",
          "dtype": "i1"
         }
        },
        {
         "mode": "lines+markers",
         "name": "2 - avg_cost_eris_dropped_out",
         "type": "scatter",
         "x": {
          "bdata": "AQIDBAUGBwgJCgsMDQ4P",
          "dtype": "i1"
         },
         "y": {
          "bdata": "AAAAAAAAAAAAAAAAAAAAAAAAAAAAAAAAAAAAAAAAAAAAAAAAAAAAAAAAAAAAAAAAAAAAAAAAAAAAAAAAAAAAAAAAAAAAAAAAAAAAAAAAAAAAAAAAAAAAAAAAAAAAAAAAAAAAAAAAAAAAAAAAAAAAAAAAAAAAAAAA",
          "dtype": "f8"
         }
        },
        {
         "mode": "lines+markers",
         "name": "2 - avg_cost_nris_dropped_out",
         "type": "scatter",
         "x": {
          "bdata": "AQIDBAUGBwgJCgsMDQ4P",
          "dtype": "i1"
         },
         "y": {
          "bdata": "AAAAAAAAAAAAAAAAAAAAAAAAAAAAAAAAAAAAAAAAAAAAAAAAAAAAAAAAAAAAAAAAAAAAAAAAAAAAAAAAAAAAAAAAAAAAAAAAAAAAAAAAAAAAAAAAAAAAAAAAAAAAAAAAAAAAAAAAAAAAAAAAAAAAAAAAAAAAAAAA",
          "dtype": "f8"
         }
        },
        {
         "mode": "lines+markers",
         "name": "2 - avg_cost_eris_pending",
         "type": "scatter",
         "x": {
          "bdata": "AQIDBAUGBwgJCgsMDQ4P",
          "dtype": "i1"
         },
         "y": {
          "bdata": "AAAAAAAAAAAAAAAAAAAA",
          "dtype": "i1"
         }
        },
        {
         "mode": "lines+markers",
         "name": "2 - avg_cost_nris_pending",
         "type": "scatter",
         "x": {
          "bdata": "AQIDBAUGBwgJCgsMDQ4P",
          "dtype": "i1"
         },
         "y": {
          "bdata": "AAAAAAAAAAAAAAAAAAAAAAAAAAAAAAAAAAAAAAAAAAAAAAAAAAAAAAAAAAAAAAAAAAAAAAAAAAAAAAAAAAAAAAAAAAAAAAAAAAAAAAAAAAAAAAAAAAAAAAAAAAAAAAAAAAAAAAAAAAAAAAAAAAAAAAAAAAAAAAAA",
          "dtype": "f8"
         }
        },
        {
         "mode": "lines+markers",
         "name": "2 - avg_cost_eris_online",
         "type": "scatter",
         "x": {
          "bdata": "AQIDBAUGBwgJCgsMDQ4P",
          "dtype": "i1"
         },
         "y": {
          "bdata": "AAAAAAAAAAAAAAAAAAAA",
          "dtype": "i1"
         }
        },
        {
         "mode": "lines+markers",
         "name": "2 - avg_cost_nris_online",
         "type": "scatter",
         "x": {
          "bdata": "AQIDBAUGBwgJCgsMDQ4P",
          "dtype": "i1"
         },
         "y": {
          "bdata": "AAAAAAAAAAAAAAAAAAAA",
          "dtype": "i1"
         }
        },
        {
         "mode": "lines+markers",
         "name": "3 - avg_cost_eris_dropped_out",
         "type": "scatter",
         "x": {
          "bdata": "AQIDBAUGBwgJCgsMDQ4P",
          "dtype": "i1"
         },
         "y": {
          "bdata": "AAAAAAAAAAAAAAAAAOzPQFVVVVV1g8lAq6qqqqrXxUDbtm3btnTIQOM4juM42shASZIkSZLcwkCrqqqqCjfQQAAAAABA4cpASZIkSZKNy0AAAAAAADDMQFVVVVV1rMNAcxzHcRy/xECe2Imd2KjOQI7jOI7jV9BA",
          "dtype": "f8"
         }
        },
        {
         "mode": "lines+markers",
         "name": "3 - avg_cost_nris_dropped_out",
         "type": "scatter",
         "x": {
          "bdata": "AQIDBAUGBwgJCgsMDQ4P",
          "dtype": "i1"
         },
         "y": {
          "bdata": "AAAAAAAAAAAAAAAAgIQeQQAAAADgthNBAAAAAGDjFkEAAAAAAAAAAAAAAAAAAAAAAAAAAIBPEkEAAAAAgPsPQQAAAACATxJBAAAAAMDBCUEAAAAAAGoIQaqqqqqq7A5BAAAAAAAAAAAAAAAAQCoTQQAAAAAAAAAA",
          "dtype": "f8"
         }
        },
        {
         "mode": "lines+markers",
         "name": "3 - avg_cost_eris_pending",
         "type": "scatter",
         "x": {
          "bdata": "AQIDBAUGBwgJCgsMDQ4P",
          "dtype": "i1"
         },
         "y": {
          "bdata": "AAAAAAAAAAAAAAAAAAAA",
          "dtype": "i1"
         }
        },
        {
         "mode": "lines+markers",
         "name": "3 - avg_cost_nris_pending",
         "type": "scatter",
         "x": {
          "bdata": "AQIDBAUGBwgJCgsMDQ4P",
          "dtype": "i1"
         },
         "y": {
          "bdata": "AAAAAAAAAAAAAAAAgAfuQAAAAADQvgBBAAAAAECLAUGrqqqqqpTsQFRVVVWVxAxBJUmSJIkR90AAAAAAgIrtQAAAAAAAw/5AAAAAAADz9kCrqqqqKn/xQAAAAACAK/hAAAAAAMAE80BUVVVV1WbsQAAAAAAgEwhB",
          "dtype": "f8"
         }
        },
        {
         "mode": "lines+markers",
         "name": "3 - avg_cost_eris_online",
         "type": "scatter",
         "x": {
          "bdata": "AQIDBAUGBwgJCgsMDQ4P",
          "dtype": "i1"
         },
         "y": {
          "bdata": "AAAAAAAAAAAAAAAAAAAA",
          "dtype": "i1"
         }
        },
        {
         "mode": "lines+markers",
         "name": "3 - avg_cost_nris_online",
         "type": "scatter",
         "x": {
          "bdata": "AQIDBAUGBwgJCgsMDQ4P",
          "dtype": "i1"
         },
         "y": {
          "bdata": "AAAAAAAAAAAAAAAAAAAA",
          "dtype": "i1"
         }
        },
        {
         "mode": "lines+markers",
         "name": "4 - avg_cost_eris_dropped_out",
         "type": "scatter",
         "x": {
          "bdata": "AQIDBAUGBwgJCgsMDQ4P",
          "dtype": "i1"
         },
         "y": {
          "bdata": "AAAAAABfyEAyxhhjDCrOQJIkSZLkFM9AAAAAAHg6ykDSXkJ7CYfLQAAAAABAH85Aq6qqqgpww0AmtJfQXozOQKOLLrroOMdAvuVbvuUvzEBu27ZtGyTHQHwJ7SU0nchAx3Ecx7GAy0DjOI7juCrGQKuqqqpKNchA",
          "dtype": "f8"
         }
        },
        {
         "mode": "lines+markers",
         "name": "4 - avg_cost_nris_dropped_out",
         "type": "scatter",
         "x": {
          "bdata": "AQIDBAUGBwgJCgsMDQ4P",
          "dtype": "i1"
         },
         "y": {
          "bdata": "AAAAAAAAAAAAAAAAAL0PQVVVVVVVWBRBAAAAAMBcFUEAAAAAgE8SQQAAAADw7xBBAAAAAADcDkGqqqqqKk8JQQAAAAAAAAAAAAAAAABqGEEAAAAAAEAPQQAAAACAyQ9BVFVVVdVUD0EAAAAAAL0PQQAAAACQBRBB",
          "dtype": "f8"
         }
        },
        {
         "mode": "lines+markers",
         "name": "4 - avg_cost_eris_pending",
         "type": "scatter",
         "x": {
          "bdata": "AQIDBAUGBwgJCgsMDQ4P",
          "dtype": "i1"
         },
         "y": {
          "bdata": "AAAAAAAAAAAAAAAAAAAA",
          "dtype": "i1"
         }
        },
        {
         "mode": "lines+markers",
         "name": "4 - avg_cost_nris_pending",
         "type": "scatter",
         "x": {
          "bdata": "AQIDBAUGBwgJCgsMDQ4P",
          "dtype": "i1"
         },
         "y": {
          "bdata": "AAAAAABQtECTJEmSlNT8QAAAAABAc/tAAAAAAFCF+0AlSZIkCc/1QAAAAACAEfRAVFVVVRWW+0B6nud5PqTzQAAAAACASvxAAAAAAJddAEHkOI7j+LHyQG3btm2LBPxArKqqqurG+EAAAAAAEO4FQQAAAABYDvdA",
          "dtype": "f8"
         }
        },
        {
         "mode": "lines+markers",
         "name": "4 - avg_cost_eris_online",
         "type": "scatter",
         "x": {
          "bdata": "AQIDBAUGBwgJCgsMDQ4P",
          "dtype": "i1"
         },
         "y": {
          "bdata": "AAAAAAAAAAAAAAAAAAAA",
          "dtype": "i1"
         }
        },
        {
         "mode": "lines+markers",
         "name": "4 - avg_cost_nris_online",
         "type": "scatter",
         "x": {
          "bdata": "AQIDBAUGBwgJCgsMDQ4P",
          "dtype": "i1"
         },
         "y": {
          "bdata": "AAAAAAAAAAAAAAAAAAAA",
          "dtype": "i1"
         }
        },
        {
         "mode": "lines+markers",
         "name": "5 - avg_cost_eris_dropped_out",
         "type": "scatter",
         "x": {
          "bdata": "AQIDBAUGBwgJCgsMDQ4P",
          "dtype": "i1"
         },
         "y": {
          "bdata": "XTIE62iIy0AAAAAAQGvIQLRR39mobsFAZmZmZmZxx0AW+awbTCnFQKAv6At69cpA8xrKa8hF0ECjiy666K6/QNdaa6218spAVVVVVVVKyUAqa8qassLHQPHw8PDwt8NAXkN5DSXTzECEEEIIIeHIQI76zkb9ucxA",
          "dtype": "f8"
         }
        },
        {
         "mode": "lines+markers",
         "name": "5 - avg_cost_nris_dropped_out",
         "type": "scatter",
         "x": {
          "bdata": "AQIDBAUGBwgJCgsMDQ4P",
          "dtype": "i1"
         },
         "y": {
          "bdata": "SZIkSdpGEEEAAAAA4MgQQaqqqqqq7A5BAAAAAAAAAAAAAAAAoAIHQSVJkiQpWxRBAAAAAPAYD0EAAAAAgFYFQQAAAACQBRBBAAAAAEA4CUFv27Zt25MUQQAAAAAAFxFBAAAAAMA+CkEAAAAAAAAAAAAAAACAhA5B",
          "dtype": "f8"
         }
        },
        {
         "mode": "lines+markers",
         "name": "5 - avg_cost_eris_pending",
         "type": "scatter",
         "x": {
          "bdata": "AQIDBAUGBwgJCgsMDQ4P",
          "dtype": "i1"
         },
         "y": {
          "bdata": "AAAAAAAAAAAAAAAAAAAA",
          "dtype": "i1"
         }
        },
        {
         "mode": "lines+markers",
         "name": "5 - avg_cost_nris_pending",
         "type": "scatter",
         "x": {
          "bdata": "AQIDBAUGBwgJCgsMDQ4P",
          "dtype": "i1"
         },
         "y": {
          "bdata": "lpaWlvZ+90BVVVVVRXvwQGppaWnpHv9Aip3YiV0q/0AAAAAA+OL/QEdY7mnEFPVAVVVVVUWgAEFyHMdxvODxQBdddNFFUvRAt23bto3s90BUVVVVNTf5QMVO7MQ+tgBBOI7jOB5E+EDO8zzP8yv7QAAAAABAwfdA",
          "dtype": "f8"
         }
        },
        {
         "mode": "lines+markers",
         "name": "5 - avg_cost_eris_online",
         "type": "scatter",
         "x": {
          "bdata": "AQIDBAUGBwgJCgsMDQ4P",
          "dtype": "i1"
         },
         "y": {
          "bdata": "AAAAAAAAAAAAAAAAAAAA",
          "dtype": "i1"
         }
        },
        {
         "mode": "lines+markers",
         "name": "5 - avg_cost_nris_online",
         "type": "scatter",
         "x": {
          "bdata": "AQIDBAUGBwgJCgsMDQ4P",
          "dtype": "i1"
         },
         "y": {
          "bdata": "AAAAAAAAAAAAAAAAAAAA",
          "dtype": "i1"
         }
        },
        {
         "mode": "lines+markers",
         "name": "6 - avg_cost_eris_dropped_out",
         "type": "scatter",
         "x": {
          "bdata": "AQIDBAUGBwgJCgsMDQ4P",
          "dtype": "i1"
         },
         "y": {
          "bdata": "AAAAAAAAAAAAAAAAAAAAAAAAAAAAAAAAAAAAAAAAAAAAAAAAAAAAAAAAAAAAAAAAAAAAAAAAAAAAAAAAAAAAAAAAAAAAAAAAAAAAAAAAAAAAAAAAAAAAAAAAAAAAAAAAAAAAAAAAAAAAAAAAAAAAAAAAAAAAAAAA",
          "dtype": "f8"
         }
        },
        {
         "mode": "lines+markers",
         "name": "6 - avg_cost_nris_dropped_out",
         "type": "scatter",
         "x": {
          "bdata": "AQIDBAUGBwgJCgsMDQ4P",
          "dtype": "i1"
         },
         "y": {
          "bdata": "AAAAAAAAAAAAAAAAAAAAAAAAAAAAAAAAAAAAAAAAAAAAAAAAAAAAAAAAAAAAAAAAAAAAAAAAAAAAAAAAAAAAAAAAAAAAAAAAAAAAAAAAAAAAAAAAAAAAAAAAAAAAAAAAAAAAAAAAAAAAAAAAAAAAAAAAAAAAAAAA",
          "dtype": "f8"
         }
        },
        {
         "mode": "lines+markers",
         "name": "6 - avg_cost_eris_pending",
         "type": "scatter",
         "x": {
          "bdata": "AQIDBAUGBwgJCgsMDQ4P",
          "dtype": "i1"
         },
         "y": {
          "bdata": "AAAAAAAAAAAAAAAAAAAA",
          "dtype": "i1"
         }
        },
        {
         "mode": "lines+markers",
         "name": "6 - avg_cost_nris_pending",
         "type": "scatter",
         "x": {
          "bdata": "AQIDBAUGBwgJCgsMDQ4P",
          "dtype": "i1"
         },
         "y": {
          "bdata": "AAAAAAAAAAAAAAAAAAAAAAAAAAAAAAAAAAAAAAAAAAAAAAAAAAAAAAAAAAAAAAAAAAAAAAAAAAAAAAAAAAAAAAAAAAAAAAAAAAAAAAAAAAAAAAAAAAAAAAAAAAAAAAAAAAAAAAAAAAAAAAAAAAAAAAAAAAAAAAAA",
          "dtype": "f8"
         }
        },
        {
         "mode": "lines+markers",
         "name": "6 - avg_cost_eris_online",
         "type": "scatter",
         "x": {
          "bdata": "AQIDBAUGBwgJCgsMDQ4P",
          "dtype": "i1"
         },
         "y": {
          "bdata": "AAAAAAAAAAAAAAAAAAAA",
          "dtype": "i1"
         }
        },
        {
         "mode": "lines+markers",
         "name": "6 - avg_cost_nris_online",
         "type": "scatter",
         "x": {
          "bdata": "AQIDBAUGBwgJCgsMDQ4P",
          "dtype": "i1"
         },
         "y": {
          "bdata": "AAAAAAAAAAAAAAAAAAAA",
          "dtype": "i1"
         }
        },
        {
         "mode": "lines+markers",
         "name": "7 - avg_cost_eris_dropped_out",
         "type": "scatter",
         "x": {
          "bdata": "AQIDBAUGBwgJCgsMDQ4P",
          "dtype": "i1"
         },
         "y": {
          "bdata": "AAAAAAAAAAAAAAAAAAAAAAAAAAAAAAAAAAAAAAAAAAAAAAAAAAAAAAAAAAAAAAAAAAAAAAAAAAAAAAAAAAAAAAAAAAAAAAAAAAAAAAAAAAAAAAAAAAAAAAAAAAAAAAAAAAAAAAAAAAAAAAAAAAAAAAAAAAAAAAAA",
          "dtype": "f8"
         }
        },
        {
         "mode": "lines+markers",
         "name": "7 - avg_cost_nris_dropped_out",
         "type": "scatter",
         "x": {
          "bdata": "AQIDBAUGBwgJCgsMDQ4P",
          "dtype": "i1"
         },
         "y": {
          "bdata": "AAAAAAAAAAAAAAAAAAAAAAAAAAAAAAAAAAAAAAAAAAAAAAAAAAAAAAAAAAAAAAAAAAAAAAAAAAAAAAAAAAAAAAAAAAAAAAAAAAAAAAAAAAAAAAAAAAAAAAAAAAAAAAAAAAAAAAAAAAAAAAAAAAAAAAAAAAAAAAAA",
          "dtype": "f8"
         }
        },
        {
         "mode": "lines+markers",
         "name": "7 - avg_cost_eris_pending",
         "type": "scatter",
         "x": {
          "bdata": "AQIDBAUGBwgJCgsMDQ4P",
          "dtype": "i1"
         },
         "y": {
          "bdata": "AAAAAAAAAAAAAAAAAAAA",
          "dtype": "i1"
         }
        },
        {
         "mode": "lines+markers",
         "name": "7 - avg_cost_nris_pending",
         "type": "scatter",
         "x": {
          "bdata": "AQIDBAUGBwgJCgsMDQ4P",
          "dtype": "i1"
         },
         "y": {
          "bdata": "AAAAAAAAAAAAAAAAAAAAAAAAAAAAAAAAAAAAAAAAAAAAAAAAAAAAAAAAAAAAAAAAAAAAAAAAAAAAAAAAAAAAAAAAAAAAAAAAAAAAAAAAAAAAAAAAAAAAAAAAAAAAAAAAAAAAAAAAAAAAAAAAAAAAAAAAAAAAAAAA",
          "dtype": "f8"
         }
        },
        {
         "mode": "lines+markers",
         "name": "7 - avg_cost_eris_online",
         "type": "scatter",
         "x": {
          "bdata": "AQIDBAUGBwgJCgsMDQ4P",
          "dtype": "i1"
         },
         "y": {
          "bdata": "AAAAAAAAAAAAAAAAAAAA",
          "dtype": "i1"
         }
        },
        {
         "mode": "lines+markers",
         "name": "7 - avg_cost_nris_online",
         "type": "scatter",
         "x": {
          "bdata": "AQIDBAUGBwgJCgsMDQ4P",
          "dtype": "i1"
         },
         "y": {
          "bdata": "AAAAAAAAAAAAAAAAAAAA",
          "dtype": "i1"
         }
        },
        {
         "mode": "lines+markers",
         "name": "8 - avg_cost_eris_dropped_out",
         "type": "scatter",
         "x": {
          "bdata": "AQIDBAUGBwgJCgsMDQ4P",
          "dtype": "i1"
         },
         "y": {
          "bdata": "AAAAAAAAAAAAAAAAAAAAAAAAAAAAAAAAAAAAAAAAAAAAAAAAAAAAAAAAAAAAAAAAAAAAAAAAAAAAAAAAAAAAAAAAAAAAAAAAAAAAAAAAAAAAAAAAAAAAAAAAAAAAAAAAAAAAAAAAAAAAAAAAAAAAAAAAAAAAAAAA",
          "dtype": "f8"
         }
        },
        {
         "mode": "lines+markers",
         "name": "8 - avg_cost_nris_dropped_out",
         "type": "scatter",
         "x": {
          "bdata": "AQIDBAUGBwgJCgsMDQ4P",
          "dtype": "i1"
         },
         "y": {
          "bdata": "AAAAAAAAAAAAAAAAAAAAAAAAAAAAAAAAAAAAAAAAAAAAAAAAAAAAAAAAAAAAAAAAAAAAAAAAAAAAAAAAAAAAAAAAAAAAAAAAAAAAAAAAAAAAAAAAAAAAAAAAAAAAAAAAAAAAAAAAAAAAAAAAAAAAAAAAAAAAAAAA",
          "dtype": "f8"
         }
        },
        {
         "mode": "lines+markers",
         "name": "8 - avg_cost_eris_pending",
         "type": "scatter",
         "x": {
          "bdata": "AQIDBAUGBwgJCgsMDQ4P",
          "dtype": "i1"
         },
         "y": {
          "bdata": "AAAAAAAAAAAAAAAAAAAA",
          "dtype": "i1"
         }
        },
        {
         "mode": "lines+markers",
         "name": "8 - avg_cost_nris_pending",
         "type": "scatter",
         "x": {
          "bdata": "AQIDBAUGBwgJCgsMDQ4P",
          "dtype": "i1"
         },
         "y": {
          "bdata": "AAAAAAAAAAAAAAAAAAAAAAAAAAAAAAAAAAAAAAAAAAAAAAAAAAAAAAAAAAAAAAAAAAAAAAAAAAAAAAAAAAAAAAAAAAAAAAAAAAAAAAAAAAAAAAAAAAAAAAAAAAAAAAAAAAAAAAAAAAAAAAAAAAAAAAAAAAAAAAAA",
          "dtype": "f8"
         }
        },
        {
         "mode": "lines+markers",
         "name": "8 - avg_cost_eris_online",
         "type": "scatter",
         "x": {
          "bdata": "AQIDBAUGBwgJCgsMDQ4P",
          "dtype": "i1"
         },
         "y": {
          "bdata": "AAAAAAAAAAAAAAAAAAAA",
          "dtype": "i1"
         }
        },
        {
         "mode": "lines+markers",
         "name": "8 - avg_cost_nris_online",
         "type": "scatter",
         "x": {
          "bdata": "AQIDBAUGBwgJCgsMDQ4P",
          "dtype": "i1"
         },
         "y": {
          "bdata": "AAAAAAAAAAAAAAAAAAAA",
          "dtype": "i1"
         }
        },
        {
         "mode": "lines+markers",
         "name": "9 - avg_cost_eris_dropped_out",
         "type": "scatter",
         "x": {
          "bdata": "AQIDBAUGBwgJCgsMDQ4P",
          "dtype": "i1"
         },
         "y": {
          "bdata": "gvsI7iMLyEDJZ91gigLDQAAAAADAttBAGmG5p5GwykA7sRM7ccXRQAAAAABgrMdASZIkSZLHwUAG52Nwvl/BQOiiiy6KltJABlPks+4Qx0BhuacRlvvLQAAAAAC428ZAkcH5GJxPykB2Yid2YmvHQNmJndiJY8lA",
          "dtype": "f8"
         }
        },
        {
         "mode": "lines+markers",
         "name": "9 - avg_cost_nris_dropped_out",
         "type": "scatter",
         "x": {
          "bdata": "AQIDBAUGBwgJCgsMDQ4P",
          "dtype": "i1"
         },
         "y": {
          "bdata": "dNFFFx3nDUEAAAAAAAAAAAAAAAAATA1BAAAAAAAAAACqqqqqauwNQQAAAACgLBBBAAAAAKjpE0EAAAAAwFcKQQAAAAAogQpBAAAAAODIEEEAAAAA4MgQQQAAAACATxJBAAAAAGCPEEEAAAAAsKYXQQAAAACAhB5B",
          "dtype": "f8"
         }
        },
        {
         "mode": "lines+markers",
         "name": "9 - avg_cost_eris_pending",
         "type": "scatter",
         "x": {
          "bdata": "AQIDBAUGBwgJCgsMDQ4P",
          "dtype": "i1"
         },
         "y": {
          "bdata": "AAAAAAAAAAAAAAAAAAAA",
          "dtype": "i1"
         }
        },
        {
         "mode": "lines+markers",
         "name": "9 - avg_cost_nris_pending",
         "type": "scatter",
         "x": {
          "bdata": "AQIDBAUGBwgJCgsMDQ4P",
          "dtype": "i1"
         },
         "y": {
          "bdata": "k0022cQw+UALWchC1j/6QAAAAAAAGflAAAAAAGCl80AJyz2N8JD2QJ7YiZ2YkvVAAAAAAAC9+UDe9KY3XRT7QBzHcRynavxAIyz3NEKL9UAN5TWU1xD0QAAAAADA//FAGF100cUA+EAmdmInFoj8QKuqqqoWl/JA",
          "dtype": "f8"
         }
        },
        {
         "mode": "lines+markers",
         "name": "9 - avg_cost_eris_online",
         "type": "scatter",
         "x": {
          "bdata": "AQIDBAUGBwgJCgsMDQ4P",
          "dtype": "i1"
         },
         "y": {
          "bdata": "AAAAAAAAAAAAAAAAAAAA",
          "dtype": "i1"
         }
        },
        {
         "mode": "lines+markers",
         "name": "9 - avg_cost_nris_online",
         "type": "scatter",
         "x": {
          "bdata": "AQIDBAUGBwgJCgsMDQ4P",
          "dtype": "i1"
         },
         "y": {
          "bdata": "AAAAAAAAAAAAAAAAAAAA",
          "dtype": "i1"
         }
        },
        {
         "mode": "lines+markers",
         "name": "10 - avg_cost_eris_dropped_out",
         "type": "scatter",
         "x": {
          "bdata": "AQIDBAUGBwgJCgsMDQ4P",
          "dtype": "i1"
         },
         "y": {
          "bdata": "AAAAAAAAAAAAAAAAAAAAAAAAAAAAAAAAAAAAAAAAAAAAAAAAAAAAAAAAAAAAAAAAAAAAAAAAAAAAAAAAAAAAAAAAAAAAAAAAAAAAAAAAAAAAAAAAAAAAAAAAAAAAAAAAAAAAAAAAAAAAAAAAAAAAAAAAAAAAAAAA",
          "dtype": "f8"
         }
        },
        {
         "mode": "lines+markers",
         "name": "10 - avg_cost_nris_dropped_out",
         "type": "scatter",
         "x": {
          "bdata": "AQIDBAUGBwgJCgsMDQ4P",
          "dtype": "i1"
         },
         "y": {
          "bdata": "AAAAAAAAAAAAAAAAAAAAAAAAAAAAAAAAAAAAAAAAAAAAAAAAAAAAAAAAAAAAAAAAAAAAAAAAAAAAAAAAAAAAAAAAAAAAAAAAAAAAAAAAAAAAAAAAAAAAAAAAAAAAAAAAAAAAAAAAAAAAAAAAAAAAAAAAAAAAAAAA",
          "dtype": "f8"
         }
        },
        {
         "mode": "lines+markers",
         "name": "10 - avg_cost_eris_pending",
         "type": "scatter",
         "x": {
          "bdata": "AQIDBAUGBwgJCgsMDQ4P",
          "dtype": "i1"
         },
         "y": {
          "bdata": "AAAAAAAAAAAAAAAAAAAA",
          "dtype": "i1"
         }
        },
        {
         "mode": "lines+markers",
         "name": "10 - avg_cost_nris_pending",
         "type": "scatter",
         "x": {
          "bdata": "AQIDBAUGBwgJCgsMDQ4P",
          "dtype": "i1"
         },
         "y": {
          "bdata": "AAAAAAAAAAAAAAAAAAAAAAAAAAAAAAAAAAAAAAAAAAAAAAAAAAAAAAAAAAAAAAAAAAAAAAAAAAAAAAAAAAAAAAAAAAAAAAAAAAAAAAAAAAAAAAAAAAAAAAAAAAAAAAAAAAAAAAAAAAAAAAAAAAAAAAAAAAAAAAAA",
          "dtype": "f8"
         }
        },
        {
         "mode": "lines+markers",
         "name": "10 - avg_cost_eris_online",
         "type": "scatter",
         "x": {
          "bdata": "AQIDBAUGBwgJCgsMDQ4P",
          "dtype": "i1"
         },
         "y": {
          "bdata": "AAAAAAAAAAAAAAAAAAAA",
          "dtype": "i1"
         }
        },
        {
         "mode": "lines+markers",
         "name": "10 - avg_cost_nris_online",
         "type": "scatter",
         "x": {
          "bdata": "AQIDBAUGBwgJCgsMDQ4P",
          "dtype": "i1"
         },
         "y": {
          "bdata": "AAAAAAAAAAAAAAAAAAAA",
          "dtype": "i1"
         }
        },
        {
         "mode": "lines+markers",
         "name": "11 - avg_cost_eris_dropped_out",
         "type": "scatter",
         "x": {
          "bdata": "AQIDBAUGBwgJCgsMDQ4P",
          "dtype": "i1"
         },
         "y": {
          "bdata": "AAAAAAAAAACO4ziO4yDVQAAAAAAIq8pAVVVVVdV+zUCIh4eHB7TGQAAAAADg7tJAAAAAAAB5w0Acx3EcR2/TQAAAAAAACsxAq6qqqqo1ykDLayivoRzTQAAAAAAAEdJAo4suuug+zEDy8PDwsBTSQKuqqqpqR8hA",
          "dtype": "f8"
         }
        },
        {
         "mode": "lines+markers",
         "name": "11 - avg_cost_nris_dropped_out",
         "type": "scatter",
         "x": {
          "bdata": "AQIDBAUGBwgJCgsMDQ4P",
          "dtype": "i1"
         },
         "y": {
          "bdata": "AAAAAAAAAAAAAAAAsEcSQQAAAAAAAAAAAAAAAAD5BUGrqqqqKgIRQQAAAADAIA9BAAAAAICEHkEAAAAAIGURQQAAAADAIA9BAAAAAMD6DEEAAAAAYMULQVVVVVW1ehRBAAAAAEB3C0EAAAAAgBkLQQAAAABgihBB",
          "dtype": "f8"
         }
        },
        {
         "mode": "lines+markers",
         "name": "11 - avg_cost_eris_pending",
         "type": "scatter",
         "x": {
          "bdata": "AQIDBAUGBwgJCgsMDQ4P",
          "dtype": "i1"
         },
         "y": {
          "bdata": "AAAAAAAAAAAAAAAAAAAA",
          "dtype": "i1"
         }
        },
        {
         "mode": "lines+markers",
         "name": "11 - avg_cost_nris_pending",
         "type": "scatter",
         "x": {
          "bdata": "AQIDBAUGBwgJCgsMDQ4P",
          "dtype": "i1"
         },
         "y": {
          "bdata": "AAAAAAAAAACrqqqqqiLmQAAAAABoWQFBAAAAALggCEHkOI7j+PfyQAAAAADA6/JAkyRJkkRc/EAAAAAAgJTzQF100UVX0fpAVFVVVRUh+EAAAAAAgE/yQFVVVVU1KgJBAAAAAFht/EAAAAAAWAL5QHIcx3FcnwJB",
          "dtype": "f8"
         }
        },
        {
         "mode": "lines+markers",
         "name": "11 - avg_cost_eris_online",
         "type": "scatter",
         "x": {
          "bdata": "AQIDBAUGBwgJCgsMDQ4P",
          "dtype": "i1"
         },
         "y": {
          "bdata": "AAAAAAAAAAAAAAAAAAAA",
          "dtype": "i1"
         }
        },
        {
         "mode": "lines+markers",
         "name": "11 - avg_cost_nris_online",
         "type": "scatter",
         "x": {
          "bdata": "AQIDBAUGBwgJCgsMDQ4P",
          "dtype": "i1"
         },
         "y": {
          "bdata": "AAAAAAAAAAAAAAAAAAAA",
          "dtype": "i1"
         }
        },
        {
         "mode": "lines+markers",
         "name": "12 - avg_cost_eris_dropped_out",
         "type": "scatter",
         "x": {
          "bdata": "AQIDBAUGBwgJCgsMDQ4P",
          "dtype": "i1"
         },
         "y": {
          "bdata": "AAAAAAAAAAAAAAAAAAAAAAAAAAAAAAAAAAAAAAAAAAAAAAAAAAAAAAAAAAAAAAAAAAAAAAAAAAAAAAAAAAAAAAAAAAAAAAAAAAAAAAAAAAAAAAAAAAAAAAAAAAAAAAAAAAAAAAAAAAAAAAAAAAAAAAAAAAAAAAAA",
          "dtype": "f8"
         }
        },
        {
         "mode": "lines+markers",
         "name": "12 - avg_cost_nris_dropped_out",
         "type": "scatter",
         "x": {
          "bdata": "AQIDBAUGBwgJCgsMDQ4P",
          "dtype": "i1"
         },
         "y": {
          "bdata": "AAAAAAAAAAAAAAAAAAAAAAAAAAAAAAAAAAAAAAAAAAAAAAAAAAAAAAAAAAAAAAAAAAAAAAAAAAAAAAAAAAAAAAAAAAAAAAAAAAAAAAAAAAAAAAAAAAAAAAAAAAAAAAAAAAAAAAAAAAAAAAAAAAAAAAAAAAAAAAAA",
          "dtype": "f8"
         }
        },
        {
         "mode": "lines+markers",
         "name": "12 - avg_cost_eris_pending",
         "type": "scatter",
         "x": {
          "bdata": "AQIDBAUGBwgJCgsMDQ4P",
          "dtype": "i1"
         },
         "y": {
          "bdata": "AAAAAAAAAAAAAAAAAAAA",
          "dtype": "i1"
         }
        },
        {
         "mode": "lines+markers",
         "name": "12 - avg_cost_nris_pending",
         "type": "scatter",
         "x": {
          "bdata": "AQIDBAUGBwgJCgsMDQ4P",
          "dtype": "i1"
         },
         "y": {
          "bdata": "AAAAAAAAAAAAAAAAAAAAAAAAAAAAAAAAAAAAAAAAAAAAAAAAAAAAAAAAAAAAAAAAAAAAAAAAAAAAAAAAAAAAAAAAAAAAAAAAAAAAAAAAAAAAAAAAAAAAAAAAAAAAAAAAAAAAAAAAAAAAAAAAAAAAAAAAAAAAAAAA",
          "dtype": "f8"
         }
        },
        {
         "mode": "lines+markers",
         "name": "12 - avg_cost_eris_online",
         "type": "scatter",
         "x": {
          "bdata": "AQIDBAUGBwgJCgsMDQ4P",
          "dtype": "i1"
         },
         "y": {
          "bdata": "AAAAAAAAAAAAAAAAAAAA",
          "dtype": "i1"
         }
        },
        {
         "mode": "lines+markers",
         "name": "12 - avg_cost_nris_online",
         "type": "scatter",
         "x": {
          "bdata": "AQIDBAUGBwgJCgsMDQ4P",
          "dtype": "i1"
         },
         "y": {
          "bdata": "AAAAAAAAAAAAAAAAAAAA",
          "dtype": "i1"
         }
        },
        {
         "mode": "lines+markers",
         "name": "13 - avg_cost_eris_dropped_out",
         "type": "scatter",
         "x": {
          "bdata": "AQIDBAUGBwgJCgsMDQ4P",
          "dtype": "i1"
         },
         "y": {
          "bdata": "AAAAAAAAAAAAAAAAAAAAAAAAAAAAAAAAAAAAAAAAAAAAAAAAAAAAAAAAAAAAAAAAAAAAAAAAAAAAAAAAAAAAAAAAAAAAAAAAAAAAAAAAAAAAAAAAAAAAAAAAAAAAAAAAAAAAAAAAAAAAAAAAAAAAAAAAAAAAAAAA",
          "dtype": "f8"
         }
        },
        {
         "mode": "lines+markers",
         "name": "13 - avg_cost_nris_dropped_out",
         "type": "scatter",
         "x": {
          "bdata": "AQIDBAUGBwgJCgsMDQ4P",
          "dtype": "i1"
         },
         "y": {
          "bdata": "AAAAAAAAAAAAAAAAAAAAAAAAAAAAAAAAAAAAAAAAAAAAAAAAAAAAAAAAAAAAAAAAAAAAAAAAAAAAAAAAAAAAAAAAAAAAAAAAAAAAAAAAAAAAAAAAAAAAAAAAAAAAAAAAAAAAAAAAAAAAAAAAAAAAAAAAAAAAAAAA",
          "dtype": "f8"
         }
        },
        {
         "mode": "lines+markers",
         "name": "13 - avg_cost_eris_pending",
         "type": "scatter",
         "x": {
          "bdata": "AQIDBAUGBwgJCgsMDQ4P",
          "dtype": "i1"
         },
         "y": {
          "bdata": "AAAAAAAAAAAAAAAAAAAA",
          "dtype": "i1"
         }
        },
        {
         "mode": "lines+markers",
         "name": "13 - avg_cost_nris_pending",
         "type": "scatter",
         "x": {
          "bdata": "AQIDBAUGBwgJCgsMDQ4P",
          "dtype": "i1"
         },
         "y": {
          "bdata": "AAAAAAAAAAAAAAAAAAAAAAAAAAAAAAAAAAAAAAAAAAAAAAAAAAAAAAAAAAAAAAAAAAAAAAAAAAAAAAAAAAAAAAAAAAAAAAAAAAAAAAAAAAAAAAAAAAAAAAAAAAAAAAAAAAAAAAAAAAAAAAAAAAAAAAAAAAAAAAAA",
          "dtype": "f8"
         }
        },
        {
         "mode": "lines+markers",
         "name": "13 - avg_cost_eris_online",
         "type": "scatter",
         "x": {
          "bdata": "AQIDBAUGBwgJCgsMDQ4P",
          "dtype": "i1"
         },
         "y": {
          "bdata": "AAAAAAAAAAAAAAAAAAAA",
          "dtype": "i1"
         }
        },
        {
         "mode": "lines+markers",
         "name": "13 - avg_cost_nris_online",
         "type": "scatter",
         "x": {
          "bdata": "AQIDBAUGBwgJCgsMDQ4P",
          "dtype": "i1"
         },
         "y": {
          "bdata": "AAAAAAAAAAAAAAAAAAAA",
          "dtype": "i1"
         }
        },
        {
         "mode": "lines+markers",
         "name": "14 - avg_cost_eris_dropped_out",
         "type": "scatter",
         "x": {
          "bdata": "AQIDBAUGBwgJCgsMDQ4P",
          "dtype": "i1"
         },
         "y": {
          "bdata": "AAAAAAAAAAAAAAAAAAAAAAAAAAAAAAAAAAAAAAAAAAAAAAAAAAAAAAAAAAAAAAAAAAAAAAAAAAAAAAAAAAAAAAAAAAAAAAAAAAAAAAAAAAAAAAAAAAAAAAAAAAAAAAAAAAAAAAAAAAAAAAAAAAAAAAAAAAAAAAAA",
          "dtype": "f8"
         }
        },
        {
         "mode": "lines+markers",
         "name": "14 - avg_cost_nris_dropped_out",
         "type": "scatter",
         "x": {
          "bdata": "AQIDBAUGBwgJCgsMDQ4P",
          "dtype": "i1"
         },
         "y": {
          "bdata": "AAAAAAAAAAAAAAAAAAAAAAAAAAAAAAAAAAAAAAAAAAAAAAAAAAAAAAAAAAAAAAAAAAAAAAAAAAAAAAAAAAAAAAAAAAAAAAAAAAAAAAAAAAAAAAAAAAAAAAAAAAAAAAAAAAAAAAAAAAAAAAAAAAAAAAAAAAAAAAAA",
          "dtype": "f8"
         }
        },
        {
         "mode": "lines+markers",
         "name": "14 - avg_cost_eris_pending",
         "type": "scatter",
         "x": {
          "bdata": "AQIDBAUGBwgJCgsMDQ4P",
          "dtype": "i1"
         },
         "y": {
          "bdata": "AAAAAAAAAAAAAAAAAAAA",
          "dtype": "i1"
         }
        },
        {
         "mode": "lines+markers",
         "name": "14 - avg_cost_nris_pending",
         "type": "scatter",
         "x": {
          "bdata": "AQIDBAUGBwgJCgsMDQ4P",
          "dtype": "i1"
         },
         "y": {
          "bdata": "AAAAAAAAAAAAAAAAAAAAAAAAAAAAAAAAAAAAAAAAAAAAAAAAAAAAAAAAAAAAAAAAAAAAAAAAAAAAAAAAAAAAAAAAAAAAAAAAAAAAAAAAAAAAAAAAAAAAAAAAAAAAAAAAAAAAAAAAAAAAAAAAAAAAAAAAAAAAAAAA",
          "dtype": "f8"
         }
        },
        {
         "mode": "lines+markers",
         "name": "14 - avg_cost_eris_online",
         "type": "scatter",
         "x": {
          "bdata": "AQIDBAUGBwgJCgsMDQ4P",
          "dtype": "i1"
         },
         "y": {
          "bdata": "AAAAAAAAAAAAAAAAAAAA",
          "dtype": "i1"
         }
        },
        {
         "mode": "lines+markers",
         "name": "14 - avg_cost_nris_online",
         "type": "scatter",
         "x": {
          "bdata": "AQIDBAUGBwgJCgsMDQ4P",
          "dtype": "i1"
         },
         "y": {
          "bdata": "AAAAAAAAAAAAAAAAAAAA",
          "dtype": "i1"
         }
        },
        {
         "mode": "lines+markers",
         "name": "15 - avg_cost_eris_dropped_out",
         "type": "scatter",
         "x": {
          "bdata": "AQIDBAUGBwgJCgsMDQ4P",
          "dtype": "i1"
         },
         "y": {
          "bdata": "AAAAAAAAAAAAAAAAAAAAAAAAAAAAAAAAAAAAAAAAAAAAAAAAAAAAAAAAAAAAAAAAAAAAAAAAAAAAAAAAAAAAAAAAAAAAAAAAAAAAAAAAAAAAAAAAAAAAAAAAAAAAAAAAAAAAAAAAAAAAAAAAAAAAAAAAAAAAAAAA",
          "dtype": "f8"
         }
        },
        {
         "mode": "lines+markers",
         "name": "15 - avg_cost_nris_dropped_out",
         "type": "scatter",
         "x": {
          "bdata": "AQIDBAUGBwgJCgsMDQ4P",
          "dtype": "i1"
         },
         "y": {
          "bdata": "AAAAAAAAAAAAAAAAAAAAAAAAAAAAAAAAAAAAAAAAAAAAAAAAAAAAAAAAAAAAAAAAAAAAAAAAAAAAAAAAAAAAAAAAAAAAAAAAAAAAAAAAAAAAAAAAAAAAAAAAAAAAAAAAAAAAAAAAAAAAAAAAAAAAAAAAAAAAAAAA",
          "dtype": "f8"
         }
        },
        {
         "mode": "lines+markers",
         "name": "15 - avg_cost_eris_pending",
         "type": "scatter",
         "x": {
          "bdata": "AQIDBAUGBwgJCgsMDQ4P",
          "dtype": "i1"
         },
         "y": {
          "bdata": "AAAAAAAAAAAAAAAAAAAA",
          "dtype": "i1"
         }
        },
        {
         "mode": "lines+markers",
         "name": "15 - avg_cost_nris_pending",
         "type": "scatter",
         "x": {
          "bdata": "AQIDBAUGBwgJCgsMDQ4P",
          "dtype": "i1"
         },
         "y": {
          "bdata": "AAAAAAAAAAAAAAAAAAAAAAAAAAAAAAAAAAAAAAAAAAAAAAAAAAAAAAAAAAAAAAAAAAAAAAAAAAAAAAAAAAAAAAAAAAAAAAAAAAAAAAAAAAAAAAAAAAAAAAAAAAAAAAAAAAAAAAAAAAAAAAAAAAAAAAAAAAAAAAAA",
          "dtype": "f8"
         }
        },
        {
         "mode": "lines+markers",
         "name": "15 - avg_cost_eris_online",
         "type": "scatter",
         "x": {
          "bdata": "AQIDBAUGBwgJCgsMDQ4P",
          "dtype": "i1"
         },
         "y": {
          "bdata": "AAAAAAAAAAAAAAAAAAAA",
          "dtype": "i1"
         }
        },
        {
         "mode": "lines+markers",
         "name": "15 - avg_cost_nris_online",
         "type": "scatter",
         "x": {
          "bdata": "AQIDBAUGBwgJCgsMDQ4P",
          "dtype": "i1"
         },
         "y": {
          "bdata": "AAAAAAAAAAAAAAAAAAAA",
          "dtype": "i1"
         }
        },
        {
         "mode": "lines+markers",
         "name": "16 - avg_cost_eris_dropped_out",
         "type": "scatter",
         "x": {
          "bdata": "AQIDBAUGBwgJCgsMDQ4P",
          "dtype": "i1"
         },
         "y": {
          "bdata": "jC666OKLykBONtlkk3TGQAAAAAAAp8dAAAAAAKCAyUAAAAAAgOzFQBSuR+H6A89At23btq35wkAAAAAAIDrGQAAAAAAAg8ZAbtu2bZvS0EC6pxGWe+3IQJqZmZmZMMtAAAAAAIAkyUBu27Zt2wfLQAAAAADA+8lA",
          "dtype": "f8"
         }
        },
        {
         "mode": "lines+markers",
         "name": "16 - avg_cost_nris_dropped_out",
         "type": "scatter",
         "x": {
          "bdata": "AQIDBAUGBwgJCgsMDQ4P",
          "dtype": "i1"
         },
         "y": {
          "bdata": "kyRJksSzDEEAAAAAMIwRQQAAAACAhA5BAAAAAAAAAAAAAAAAgKIJQQAAAAAAaghBAAAAAODIEEEAAAAAgIQOQQAAAABAHhVBAAAAAMCvDEEAAAAAAPkFQVVVVVUVqhZBVFVVVZW4DkEAAAAAAGoIQQAAAAAAAAAA",
          "dtype": "f8"
         }
        },
        {
         "mode": "lines+markers",
         "name": "16 - avg_cost_eris_pending",
         "type": "scatter",
         "x": {
          "bdata": "AQIDBAUGBwgJCgsMDQ4P",
          "dtype": "i1"
         },
         "y": {
          "bdata": "AAAAAAAAAAAAAAAAAAAA",
          "dtype": "i1"
         }
        },
        {
         "mode": "lines+markers",
         "name": "16 - avg_cost_nris_pending",
         "type": "scatter",
         "x": {
          "bdata": "AQIDBAUGBwgJCgsMDQ4P",
          "dtype": "i1"
         },
         "y": {
          "bdata": "cckQrIOq/EA4velNb4H1QDi96U0v0/dAAAAAACj280AAAAAAGl/9QOQ4juM4hO5AdNFFF73HAEEbymsor2cEQSivobxGBe1A3/SmN/059EBUVVVVFbH5QFpaWloa6/BAUV5DeS1d+kBVVVVVlTLzQLKQhSxklPhA",
          "dtype": "f8"
         }
        },
        {
         "mode": "lines+markers",
         "name": "16 - avg_cost_eris_online",
         "type": "scatter",
         "x": {
          "bdata": "AQIDBAUGBwgJCgsMDQ4P",
          "dtype": "i1"
         },
         "y": {
          "bdata": "AAAAAAAAAAAAAAAAAAAA",
          "dtype": "i1"
         }
        },
        {
         "mode": "lines+markers",
         "name": "16 - avg_cost_nris_online",
         "type": "scatter",
         "x": {
          "bdata": "AQIDBAUGBwgJCgsMDQ4P",
          "dtype": "i1"
         },
         "y": {
          "bdata": "AAAAAAAAAAAAAAAAAAAA",
          "dtype": "i1"
         }
        },
        {
         "mode": "lines+markers",
         "name": "17 - avg_cost_eris_dropped_out",
         "type": "scatter",
         "x": {
          "bdata": "AQIDBAUGBwgJCgsMDQ4P",
          "dtype": "i1"
         },
         "y": {
          "bdata": "AAAAAEAsy0Avuuiii0rOQA7lNZTX3shARERERMScw0AAAAAAgGXQQPMaymsoH8FAep7neR5nzUCrqqqqOoXUQG7btm2718NAHcdxHMeIy0AAAAAAUBvMQOM4juM4uctAzczMzEyTz0AAAAAAwLjDQG7btm3bvsNA",
          "dtype": "f8"
         }
        },
        {
         "mode": "lines+markers",
         "name": "17 - avg_cost_nris_dropped_out",
         "type": "scatter",
         "x": {
          "bdata": "AQIDBAUGBwgJCgsMDQ4P",
          "dtype": "i1"
         },
         "y": {
          "bdata": "AAAAAIBPEkEAAAAAuJ8RQQAAAADAwQlBAAAAAGDaEEEAAAAAINYTQQAAAACAhA5BAAAAAABqKEEAAAAAEGcPQQAAAADwgg5BAAAAAEC5EEEAAAAAINEIQQAAAACAhA5BAAAAAEDgBkEAAAAAAIgTQQAAAADwJA1B",
          "dtype": "f8"
         }
        },
        {
         "mode": "lines+markers",
         "name": "17 - avg_cost_eris_pending",
         "type": "scatter",
         "x": {
          "bdata": "AQIDBAUGBwgJCgsMDQ4P",
          "dtype": "i1"
         },
         "y": {
          "bdata": "AAAAAAAAAAAAAAAAAAAA",
          "dtype": "i1"
         }
        },
        {
         "mode": "lines+markers",
         "name": "17 - avg_cost_nris_pending",
         "type": "scatter",
         "x": {
          "bdata": "AQIDBAUGBwgJCgsMDQ4P",
          "dtype": "i1"
         },
         "y": {
          "bdata": "AAAAAMALBkE5juM4nvIBQQAAAADA1/xAGsprKG9j/EC56KKLTjr3QGsor6EcY/5AAAAAAAhY+ECTJEmShPr6QG7btm0bNvRAq6qqqqrv8UCsqqqq2pf2QI7jOI5jl/lA27Zt20bG+EAAAAAAKOr1QAAAAACIMABB",
          "dtype": "f8"
         }
        },
        {
         "mode": "lines+markers",
         "name": "17 - avg_cost_eris_online",
         "type": "scatter",
         "x": {
          "bdata": "AQIDBAUGBwgJCgsMDQ4P",
          "dtype": "i1"
         },
         "y": {
          "bdata": "AAAAAAAAAAAAAAAAAAAA",
          "dtype": "i1"
         }
        },
        {
         "mode": "lines+markers",
         "name": "17 - avg_cost_nris_online",
         "type": "scatter",
         "x": {
          "bdata": "AQIDBAUGBwgJCgsMDQ4P",
          "dtype": "i1"
         },
         "y": {
          "bdata": "AAAAAAAAAAAAAAAAAAAA",
          "dtype": "i1"
         }
        },
        {
         "mode": "lines+markers",
         "name": "18 - avg_cost_eris_dropped_out",
         "type": "scatter",
         "x": {
          "bdata": "AQIDBAUGBwgJCgsMDQ4P",
          "dtype": "i1"
         },
         "y": {
          "bdata": "AAAAAAAAAAAAAAAAAEzNQAAAAAAA1r9AAAAAAACPxkAAAAAAAAAAAAAAAAAAzdRAAAAAAMAxyEAAAAAAwGPJQAAAAAAAZNlAAAAAAACUsUCrqqqqqgTLQAAAAAAAQJ9AAAAAAADN1EBVVVVVVb24QAAAAAAAnJhA",
          "dtype": "f8"
         }
        },
        {
         "mode": "lines+markers",
         "name": "18 - avg_cost_nris_dropped_out",
         "type": "scatter",
         "x": {
          "bdata": "AQIDBAUGBwgJCgsMDQ4P",
          "dtype": "i1"
         },
         "y": {
          "bdata": "AAAAAAAAAAAAAAAAAAAAAAAAAACQ2xZBAAAAAABqCEEAAAAAAAAAAAAAAAAAAAAAAAAAAIBPEkEAAAAAgIQeQQAAAAAAzwxBVFVVVZW4DkEAAAAAgE8SQQAAAAAAAAAAAAAAAAAAAAAAAAAAAAAAAAAAAACAVgVB",
          "dtype": "f8"
         }
        },
        {
         "mode": "lines+markers",
         "name": "18 - avg_cost_eris_pending",
         "type": "scatter",
         "x": {
          "bdata": "AQIDBAUGBwgJCgsMDQ4P",
          "dtype": "i1"
         },
         "y": {
          "bdata": "AAAAAAAAAAAAAAAAAAAA",
          "dtype": "i1"
         }
        },
        {
         "mode": "lines+markers",
         "name": "18 - avg_cost_nris_pending",
         "type": "scatter",
         "x": {
          "bdata": "AQIDBAUGBwgJCgsMDQ4P",
          "dtype": "i1"
         },
         "y": {
          "bdata": "AAAAAAAAAABVVVVVtdESQQAAAACwt/BAAAAAAECn40AAAAAAAAAAAAAAAABg1whBq6qqqloUBUEAAAAAgBnrQAAAAADAhvNAAAAAAABf3kAAAAAAAGrYQAAAAADAdBFBAAAAAECU8kCsqqqqKmH2QAAAAADgOQNB",
          "dtype": "f8"
         }
        },
        {
         "mode": "lines+markers",
         "name": "18 - avg_cost_eris_online",
         "type": "scatter",
         "x": {
          "bdata": "AQIDBAUGBwgJCgsMDQ4P",
          "dtype": "i1"
         },
         "y": {
          "bdata": "AAAAAAAAAAAAAAAAAAAA",
          "dtype": "i1"
         }
        },
        {
         "mode": "lines+markers",
         "name": "18 - avg_cost_nris_online",
         "type": "scatter",
         "x": {
          "bdata": "AQIDBAUGBwgJCgsMDQ4P",
          "dtype": "i1"
         },
         "y": {
          "bdata": "AAAAAAAAAAAAAAAAAAAA",
          "dtype": "i1"
         }
        },
        {
         "mode": "lines+markers",
         "name": "19 - avg_cost_eris_dropped_out",
         "type": "scatter",
         "x": {
          "bdata": "AQIDBAUGBwgJCgsMDQ4P",
          "dtype": "i1"
         },
         "y": {
          "bdata": "AAAAAAAAAAAAAAAAAAAAAAAAAAAAAAAAAAAAAAAAAAAAAAAAAAAAAAAAAAAAAAAAAAAAAAAAAAAAAAAAAAAAAAAAAAAAAAAAAAAAAAAAAAAAAAAAAAAAAAAAAAAAAAAAAAAAAAAAAAAAAAAAAAAAAAAAAAAAAAAA",
          "dtype": "f8"
         }
        },
        {
         "mode": "lines+markers",
         "name": "19 - avg_cost_nris_dropped_out",
         "type": "scatter",
         "x": {
          "bdata": "AQIDBAUGBwgJCgsMDQ4P",
          "dtype": "i1"
         },
         "y": {
          "bdata": "AAAAAAAAAAAAAAAAAAAAAAAAAAAAAAAAAAAAAAAAAAAAAAAAAAAAAAAAAAAAAAAAAAAAAAAAAAAAAAAAAAAAAAAAAAAAAAAAAAAAAAAAAAAAAAAAAAAAAAAAAAAAAAAAAAAAAAAAAAAAAAAAAAAAAAAAAAAAAAAA",
          "dtype": "f8"
         }
        },
        {
         "mode": "lines+markers",
         "name": "19 - avg_cost_eris_pending",
         "type": "scatter",
         "x": {
          "bdata": "AQIDBAUGBwgJCgsMDQ4P",
          "dtype": "i1"
         },
         "y": {
          "bdata": "AAAAAAAAAAAAAAAAAAAA",
          "dtype": "i1"
         }
        },
        {
         "mode": "lines+markers",
         "name": "19 - avg_cost_nris_pending",
         "type": "scatter",
         "x": {
          "bdata": "AQIDBAUGBwgJCgsMDQ4P",
          "dtype": "i1"
         },
         "y": {
          "bdata": "AAAAAAAAAAAAAAAAAAAAAAAAAAAAAAAAAAAAAAAAAAAAAAAAAAAAAAAAAAAAAAAAAAAAAAAAAAAAAAAAAAAAAAAAAAAAAAAAAAAAAAAAAAAAAAAAAAAAAAAAAAAAAAAAAAAAAAAAAAAAAAAAAIjTQAAAAAAALdRA",
          "dtype": "f8"
         }
        },
        {
         "mode": "lines+markers",
         "name": "19 - avg_cost_eris_online",
         "type": "scatter",
         "x": {
          "bdata": "AQIDBAUGBwgJCgsMDQ4P",
          "dtype": "i1"
         },
         "y": {
          "bdata": "AAAAAAAAAAAAAAAAAAAA",
          "dtype": "i1"
         }
        },
        {
         "mode": "lines+markers",
         "name": "19 - avg_cost_nris_online",
         "type": "scatter",
         "x": {
          "bdata": "AQIDBAUGBwgJCgsMDQ4P",
          "dtype": "i1"
         },
         "y": {
          "bdata": "AAAAAAAAAAAAAAAAAAAA",
          "dtype": "i1"
         }
        },
        {
         "mode": "lines+markers",
         "name": "20 - avg_cost_eris_dropped_out",
         "type": "scatter",
         "x": {
          "bdata": "AQIDBAUGBwgJCgsMDQ4P",
          "dtype": "i1"
         },
         "y": {
          "bdata": "AAAAAAAAAAAAAAAAAAAAAAAAAAAAAAAAAAAAAAAAAAAAAAAAAAAAAAAAAAAAAAAAAAAAAAAAAAAAAAAAAAAAAAAAAAAAAAAAAAAAAAAAAAAAAAAAAAAAAAAAAAAAAAAAAAAAAAAAAAAAAAAAAAAAAAAAAAAAAAAA",
          "dtype": "f8"
         }
        },
        {
         "mode": "lines+markers",
         "name": "20 - avg_cost_nris_dropped_out",
         "type": "scatter",
         "x": {
          "bdata": "AQIDBAUGBwgJCgsMDQ4P",
          "dtype": "i1"
         },
         "y": {
          "bdata": "AAAAAAAAAAAAAAAAAAAAAAAAAAAAAAAAAAAAAAAAAAAAAAAAAAAAAAAAAAAAAAAAAAAAAAAAAAAAAAAAAAAAAAAAAAAAAAAAAAAAAAAAAAAAAAAAAAAAAAAAAAAAAAAAAAAAAAAAAAAAAAAAAAAAAAAAAAAAAAAA",
          "dtype": "f8"
         }
        },
        {
         "mode": "lines+markers",
         "name": "20 - avg_cost_eris_pending",
         "type": "scatter",
         "x": {
          "bdata": "AQIDBAUGBwgJCgsMDQ4P",
          "dtype": "i1"
         },
         "y": {
          "bdata": "AAAAAAAAAAAAAAAAAAAA",
          "dtype": "i1"
         }
        },
        {
         "mode": "lines+markers",
         "name": "20 - avg_cost_nris_pending",
         "type": "scatter",
         "x": {
          "bdata": "AQIDBAUGBwgJCgsMDQ4P",
          "dtype": "i1"
         },
         "y": {
          "bdata": "AAAAAAAAAAAAAAAAAAAAAAAAAAAAAAAAAAAAAAAAAAAAAAAAAAAAAAAAAAAAAAAAAAAAAAAAAAAAAAAAAAAAAAAAAAAAAAAAAAAAAAAAAAAAAAAAAAAAAAAAAAAAAAAAAAAAAAAAAAAAAAAAAAAAAAAAAAAAAAAA",
          "dtype": "f8"
         }
        },
        {
         "mode": "lines+markers",
         "name": "20 - avg_cost_eris_online",
         "type": "scatter",
         "x": {
          "bdata": "AQIDBAUGBwgJCgsMDQ4P",
          "dtype": "i1"
         },
         "y": {
          "bdata": "AAAAAAAAAAAAAAAAAAAA",
          "dtype": "i1"
         }
        },
        {
         "mode": "lines+markers",
         "name": "20 - avg_cost_nris_online",
         "type": "scatter",
         "x": {
          "bdata": "AQIDBAUGBwgJCgsMDQ4P",
          "dtype": "i1"
         },
         "y": {
          "bdata": "AAAAAAAAAAAAAAAAAAAA",
          "dtype": "i1"
         }
        }
       ],
       "layout": {
        "template": {
         "data": {
          "bar": [
           {
            "error_x": {
             "color": "#2a3f5f"
            },
            "error_y": {
             "color": "#2a3f5f"
            },
            "marker": {
             "line": {
              "color": "#E5ECF6",
              "width": 0.5
             },
             "pattern": {
              "fillmode": "overlay",
              "size": 10,
              "solidity": 0.2
             }
            },
            "type": "bar"
           }
          ],
          "barpolar": [
           {
            "marker": {
             "line": {
              "color": "#E5ECF6",
              "width": 0.5
             },
             "pattern": {
              "fillmode": "overlay",
              "size": 10,
              "solidity": 0.2
             }
            },
            "type": "barpolar"
           }
          ],
          "carpet": [
           {
            "aaxis": {
             "endlinecolor": "#2a3f5f",
             "gridcolor": "white",
             "linecolor": "white",
             "minorgridcolor": "white",
             "startlinecolor": "#2a3f5f"
            },
            "baxis": {
             "endlinecolor": "#2a3f5f",
             "gridcolor": "white",
             "linecolor": "white",
             "minorgridcolor": "white",
             "startlinecolor": "#2a3f5f"
            },
            "type": "carpet"
           }
          ],
          "choropleth": [
           {
            "colorbar": {
             "outlinewidth": 0,
             "ticks": ""
            },
            "type": "choropleth"
           }
          ],
          "contour": [
           {
            "colorbar": {
             "outlinewidth": 0,
             "ticks": ""
            },
            "colorscale": [
             [
              0,
              "#0d0887"
             ],
             [
              0.1111111111111111,
              "#46039f"
             ],
             [
              0.2222222222222222,
              "#7201a8"
             ],
             [
              0.3333333333333333,
              "#9c179e"
             ],
             [
              0.4444444444444444,
              "#bd3786"
             ],
             [
              0.5555555555555556,
              "#d8576b"
             ],
             [
              0.6666666666666666,
              "#ed7953"
             ],
             [
              0.7777777777777778,
              "#fb9f3a"
             ],
             [
              0.8888888888888888,
              "#fdca26"
             ],
             [
              1,
              "#f0f921"
             ]
            ],
            "type": "contour"
           }
          ],
          "contourcarpet": [
           {
            "colorbar": {
             "outlinewidth": 0,
             "ticks": ""
            },
            "type": "contourcarpet"
           }
          ],
          "heatmap": [
           {
            "colorbar": {
             "outlinewidth": 0,
             "ticks": ""
            },
            "colorscale": [
             [
              0,
              "#0d0887"
             ],
             [
              0.1111111111111111,
              "#46039f"
             ],
             [
              0.2222222222222222,
              "#7201a8"
             ],
             [
              0.3333333333333333,
              "#9c179e"
             ],
             [
              0.4444444444444444,
              "#bd3786"
             ],
             [
              0.5555555555555556,
              "#d8576b"
             ],
             [
              0.6666666666666666,
              "#ed7953"
             ],
             [
              0.7777777777777778,
              "#fb9f3a"
             ],
             [
              0.8888888888888888,
              "#fdca26"
             ],
             [
              1,
              "#f0f921"
             ]
            ],
            "type": "heatmap"
           }
          ],
          "histogram": [
           {
            "marker": {
             "pattern": {
              "fillmode": "overlay",
              "size": 10,
              "solidity": 0.2
             }
            },
            "type": "histogram"
           }
          ],
          "histogram2d": [
           {
            "colorbar": {
             "outlinewidth": 0,
             "ticks": ""
            },
            "colorscale": [
             [
              0,
              "#0d0887"
             ],
             [
              0.1111111111111111,
              "#46039f"
             ],
             [
              0.2222222222222222,
              "#7201a8"
             ],
             [
              0.3333333333333333,
              "#9c179e"
             ],
             [
              0.4444444444444444,
              "#bd3786"
             ],
             [
              0.5555555555555556,
              "#d8576b"
             ],
             [
              0.6666666666666666,
              "#ed7953"
             ],
             [
              0.7777777777777778,
              "#fb9f3a"
             ],
             [
              0.8888888888888888,
              "#fdca26"
             ],
             [
              1,
              "#f0f921"
             ]
            ],
            "type": "histogram2d"
           }
          ],
          "histogram2dcontour": [
           {
            "colorbar": {
             "outlinewidth": 0,
             "ticks": ""
            },
            "colorscale": [
             [
              0,
              "#0d0887"
             ],
             [
              0.1111111111111111,
              "#46039f"
             ],
             [
              0.2222222222222222,
              "#7201a8"
             ],
             [
              0.3333333333333333,
              "#9c179e"
             ],
             [
              0.4444444444444444,
              "#bd3786"
             ],
             [
              0.5555555555555556,
              "#d8576b"
             ],
             [
              0.6666666666666666,
              "#ed7953"
             ],
             [
              0.7777777777777778,
              "#fb9f3a"
             ],
             [
              0.8888888888888888,
              "#fdca26"
             ],
             [
              1,
              "#f0f921"
             ]
            ],
            "type": "histogram2dcontour"
           }
          ],
          "mesh3d": [
           {
            "colorbar": {
             "outlinewidth": 0,
             "ticks": ""
            },
            "type": "mesh3d"
           }
          ],
          "parcoords": [
           {
            "line": {
             "colorbar": {
              "outlinewidth": 0,
              "ticks": ""
             }
            },
            "type": "parcoords"
           }
          ],
          "pie": [
           {
            "automargin": true,
            "type": "pie"
           }
          ],
          "scatter": [
           {
            "fillpattern": {
             "fillmode": "overlay",
             "size": 10,
             "solidity": 0.2
            },
            "type": "scatter"
           }
          ],
          "scatter3d": [
           {
            "line": {
             "colorbar": {
              "outlinewidth": 0,
              "ticks": ""
             }
            },
            "marker": {
             "colorbar": {
              "outlinewidth": 0,
              "ticks": ""
             }
            },
            "type": "scatter3d"
           }
          ],
          "scattercarpet": [
           {
            "marker": {
             "colorbar": {
              "outlinewidth": 0,
              "ticks": ""
             }
            },
            "type": "scattercarpet"
           }
          ],
          "scattergeo": [
           {
            "marker": {
             "colorbar": {
              "outlinewidth": 0,
              "ticks": ""
             }
            },
            "type": "scattergeo"
           }
          ],
          "scattergl": [
           {
            "marker": {
             "colorbar": {
              "outlinewidth": 0,
              "ticks": ""
             }
            },
            "type": "scattergl"
           }
          ],
          "scattermap": [
           {
            "marker": {
             "colorbar": {
              "outlinewidth": 0,
              "ticks": ""
             }
            },
            "type": "scattermap"
           }
          ],
          "scattermapbox": [
           {
            "marker": {
             "colorbar": {
              "outlinewidth": 0,
              "ticks": ""
             }
            },
            "type": "scattermapbox"
           }
          ],
          "scatterpolar": [
           {
            "marker": {
             "colorbar": {
              "outlinewidth": 0,
              "ticks": ""
             }
            },
            "type": "scatterpolar"
           }
          ],
          "scatterpolargl": [
           {
            "marker": {
             "colorbar": {
              "outlinewidth": 0,
              "ticks": ""
             }
            },
            "type": "scatterpolargl"
           }
          ],
          "scatterternary": [
           {
            "marker": {
             "colorbar": {
              "outlinewidth": 0,
              "ticks": ""
             }
            },
            "type": "scatterternary"
           }
          ],
          "surface": [
           {
            "colorbar": {
             "outlinewidth": 0,
             "ticks": ""
            },
            "colorscale": [
             [
              0,
              "#0d0887"
             ],
             [
              0.1111111111111111,
              "#46039f"
             ],
             [
              0.2222222222222222,
              "#7201a8"
             ],
             [
              0.3333333333333333,
              "#9c179e"
             ],
             [
              0.4444444444444444,
              "#bd3786"
             ],
             [
              0.5555555555555556,
              "#d8576b"
             ],
             [
              0.6666666666666666,
              "#ed7953"
             ],
             [
              0.7777777777777778,
              "#fb9f3a"
             ],
             [
              0.8888888888888888,
              "#fdca26"
             ],
             [
              1,
              "#f0f921"
             ]
            ],
            "type": "surface"
           }
          ],
          "table": [
           {
            "cells": {
             "fill": {
              "color": "#EBF0F8"
             },
             "line": {
              "color": "white"
             }
            },
            "header": {
             "fill": {
              "color": "#C8D4E3"
             },
             "line": {
              "color": "white"
             }
            },
            "type": "table"
           }
          ]
         },
         "layout": {
          "annotationdefaults": {
           "arrowcolor": "#2a3f5f",
           "arrowhead": 0,
           "arrowwidth": 1
          },
          "autotypenumbers": "strict",
          "coloraxis": {
           "colorbar": {
            "outlinewidth": 0,
            "ticks": ""
           }
          },
          "colorscale": {
           "diverging": [
            [
             0,
             "#8e0152"
            ],
            [
             0.1,
             "#c51b7d"
            ],
            [
             0.2,
             "#de77ae"
            ],
            [
             0.3,
             "#f1b6da"
            ],
            [
             0.4,
             "#fde0ef"
            ],
            [
             0.5,
             "#f7f7f7"
            ],
            [
             0.6,
             "#e6f5d0"
            ],
            [
             0.7,
             "#b8e186"
            ],
            [
             0.8,
             "#7fbc41"
            ],
            [
             0.9,
             "#4d9221"
            ],
            [
             1,
             "#276419"
            ]
           ],
           "sequential": [
            [
             0,
             "#0d0887"
            ],
            [
             0.1111111111111111,
             "#46039f"
            ],
            [
             0.2222222222222222,
             "#7201a8"
            ],
            [
             0.3333333333333333,
             "#9c179e"
            ],
            [
             0.4444444444444444,
             "#bd3786"
            ],
            [
             0.5555555555555556,
             "#d8576b"
            ],
            [
             0.6666666666666666,
             "#ed7953"
            ],
            [
             0.7777777777777778,
             "#fb9f3a"
            ],
            [
             0.8888888888888888,
             "#fdca26"
            ],
            [
             1,
             "#f0f921"
            ]
           ],
           "sequentialminus": [
            [
             0,
             "#0d0887"
            ],
            [
             0.1111111111111111,
             "#46039f"
            ],
            [
             0.2222222222222222,
             "#7201a8"
            ],
            [
             0.3333333333333333,
             "#9c179e"
            ],
            [
             0.4444444444444444,
             "#bd3786"
            ],
            [
             0.5555555555555556,
             "#d8576b"
            ],
            [
             0.6666666666666666,
             "#ed7953"
            ],
            [
             0.7777777777777778,
             "#fb9f3a"
            ],
            [
             0.8888888888888888,
             "#fdca26"
            ],
            [
             1,
             "#f0f921"
            ]
           ]
          },
          "colorway": [
           "#636efa",
           "#EF553B",
           "#00cc96",
           "#ab63fa",
           "#FFA15A",
           "#19d3f3",
           "#FF6692",
           "#B6E880",
           "#FF97FF",
           "#FECB52"
          ],
          "font": {
           "color": "#2a3f5f"
          },
          "geo": {
           "bgcolor": "white",
           "lakecolor": "white",
           "landcolor": "#E5ECF6",
           "showlakes": true,
           "showland": true,
           "subunitcolor": "white"
          },
          "hoverlabel": {
           "align": "left"
          },
          "hovermode": "closest",
          "mapbox": {
           "style": "light"
          },
          "paper_bgcolor": "white",
          "plot_bgcolor": "#E5ECF6",
          "polar": {
           "angularaxis": {
            "gridcolor": "white",
            "linecolor": "white",
            "ticks": ""
           },
           "bgcolor": "#E5ECF6",
           "radialaxis": {
            "gridcolor": "white",
            "linecolor": "white",
            "ticks": ""
           }
          },
          "scene": {
           "xaxis": {
            "backgroundcolor": "#E5ECF6",
            "gridcolor": "white",
            "gridwidth": 2,
            "linecolor": "white",
            "showbackground": true,
            "ticks": "",
            "zerolinecolor": "white"
           },
           "yaxis": {
            "backgroundcolor": "#E5ECF6",
            "gridcolor": "white",
            "gridwidth": 2,
            "linecolor": "white",
            "showbackground": true,
            "ticks": "",
            "zerolinecolor": "white"
           },
           "zaxis": {
            "backgroundcolor": "#E5ECF6",
            "gridcolor": "white",
            "gridwidth": 2,
            "linecolor": "white",
            "showbackground": true,
            "ticks": "",
            "zerolinecolor": "white"
           }
          },
          "shapedefaults": {
           "line": {
            "color": "#2a3f5f"
           }
          },
          "ternary": {
           "aaxis": {
            "gridcolor": "white",
            "linecolor": "white",
            "ticks": ""
           },
           "baxis": {
            "gridcolor": "white",
            "linecolor": "white",
            "ticks": ""
           },
           "bgcolor": "#E5ECF6",
           "caxis": {
            "gridcolor": "white",
            "linecolor": "white",
            "ticks": ""
           }
          },
          "title": {
           "x": 0.05
          },
          "xaxis": {
           "automargin": true,
           "gridcolor": "white",
           "linecolor": "white",
           "ticks": "",
           "title": {
            "standoff": 15
           },
           "zerolinecolor": "white",
           "zerolinewidth": 2
          },
          "yaxis": {
           "automargin": true,
           "gridcolor": "white",
           "linecolor": "white",
           "ticks": "",
           "title": {
            "standoff": 15
           },
           "zerolinecolor": "white",
           "zerolinewidth": 2
          }
         }
        },
        "title": {
         "text": "Average Assigned Costs per Status & Service Type"
        },
        "xaxis": {
         "title": {
          "text": "Model Step"
         }
        },
        "yaxis": {
         "title": {
          "text": "Average Cost ($/MW)"
         }
        }
       }
      }
     },
     "metadata": {},
     "output_type": "display_data"
    },
    {
     "data": {
      "application/vnd.plotly.v1+json": {
       "config": {
        "plotlyServerURL": "https://plot.ly"
       },
       "data": [
        {
         "mode": "lines+markers",
         "name": "1 - pending_eris_mw",
         "type": "scatter",
         "x": {
          "bdata": "AQIDBAUGBwgJCgsMDQ4P",
          "dtype": "i1"
         },
         "y": {
          "bdata": "AAAAAAAAAAAAAAAAAAAA",
          "dtype": "i1"
         }
        },
        {
         "mode": "lines+markers",
         "name": "1 - pending_nris_mw",
         "type": "scatter",
         "x": {
          "bdata": "AQIDBAUGBwgJCgsMDQ4P",
          "dtype": "i1"
         },
         "y": {
          "bdata": "AAAAAAAAAAAAAAAAAAAAAAAAAAAAAAAAAAAAAAAAAAAAAAAAAAAAAAAAAAAAAAAAAAAAAAAAAAAAAAAAAAAAAAAAAAAAAAAAAAAAAAAAAAAAAAAAAAAAAAAAAAAAAAAAAAAAAAAAAAAAAAAAAAAAAAAAAAAAAAAA",
          "dtype": "f8"
         }
        },
        {
         "mode": "lines+markers",
         "name": "1 - online_eris_mw",
         "type": "scatter",
         "x": {
          "bdata": "AQIDBAUGBwgJCgsMDQ4P",
          "dtype": "i1"
         },
         "y": {
          "bdata": "AAAAAAAAAAAAAAAAAAAA",
          "dtype": "i1"
         }
        },
        {
         "mode": "lines+markers",
         "name": "1 - online_nris_mw",
         "type": "scatter",
         "x": {
          "bdata": "AQIDBAUGBwgJCgsMDQ4P",
          "dtype": "i1"
         },
         "y": {
          "bdata": "AAAAAAAAAAAAAAAAAAAAAAAAAAAAAAAAAAAAAAAAAAAAAAAAAAAAAAAAAAAAAAAAAAAAAAAAAAAAAAAAAAAAAAAAAAAAAAAAAAAAAAAAAAAAAAAAAAAAAAAAAAAAAAAAAAAAAAAAAAAAAAAAAAAAAAAAAAAAAAAA",
          "dtype": "f8"
         }
        },
        {
         "mode": "lines+markers",
         "name": "1 - dropped_out_eris_mw",
         "type": "scatter",
         "x": {
          "bdata": "AQIDBAUGBwgJCgsMDQ4P",
          "dtype": "i1"
         },
         "y": {
          "bdata": "AAAAAAAAAAAAAAAAAAAAAAAAAAAAAAAAAAAAAAAAAAAAAAAAAAAAAAAAAAAAAAAAAAAAAAAAAAAAAAAAAAAAAAAAAAAAAAAAAAAAAAAAAAAAAAAAAAAAAAAAAAAAAAAAAAAAAAAAAAAAAAAAAAAAAAAAAAAAAAAA",
          "dtype": "f8"
         }
        },
        {
         "mode": "lines+markers",
         "name": "1 - dropped_out_nris_mw",
         "type": "scatter",
         "x": {
          "bdata": "AQIDBAUGBwgJCgsMDQ4P",
          "dtype": "i1"
         },
         "y": {
          "bdata": "AAAAAAAAAAAAAAAAAAAAAAAAAAAAAAAAAAAAAAAAAAAAAAAAAAAAAAAAAAAAAAAAAAAAAAAAAAAAAAAAAAAAAAAAAAAAAAAAAAAAAAAAAAAAAAAAAAAAAAAAAAAAAAAAAAAAAAAAAAAAAAAAAAAAAAAAAAAAAAAA",
          "dtype": "f8"
         }
        },
        {
         "mode": "lines+markers",
         "name": "2 - pending_eris_mw",
         "type": "scatter",
         "x": {
          "bdata": "AQIDBAUGBwgJCgsMDQ4P",
          "dtype": "i1"
         },
         "y": {
          "bdata": "AAAAAAAAAAAAAAAAAAAA",
          "dtype": "i1"
         }
        },
        {
         "mode": "lines+markers",
         "name": "2 - pending_nris_mw",
         "type": "scatter",
         "x": {
          "bdata": "AQIDBAUGBwgJCgsMDQ4P",
          "dtype": "i1"
         },
         "y": {
          "bdata": "AAAAAAAAAAAAAAAAAAAAAAAAAAAAAAAAAAAAAAAAAAAAAAAAAAAAAAAAAAAAAAAAAAAAAAAAAAAAAAAAAAAAAAAAAAAAAAAAAAAAAAAAAAAAAAAAAAAAAAAAAAAAAAAAAAAAAAAAAAAAAAAAAAAAAAAAAAAAAAAA",
          "dtype": "f8"
         }
        },
        {
         "mode": "lines+markers",
         "name": "2 - online_eris_mw",
         "type": "scatter",
         "x": {
          "bdata": "AQIDBAUGBwgJCgsMDQ4P",
          "dtype": "i1"
         },
         "y": {
          "bdata": "AAAAAAAAAAAAAAAAAAAA",
          "dtype": "i1"
         }
        },
        {
         "mode": "lines+markers",
         "name": "2 - online_nris_mw",
         "type": "scatter",
         "x": {
          "bdata": "AQIDBAUGBwgJCgsMDQ4P",
          "dtype": "i1"
         },
         "y": {
          "bdata": "AAAAAAAAAAAAAAAAAAAAAAAAAAAAAAAAAAAAAAAAAAAAAAAAAAAAAAAAAAAAAAAAAAAAAAAAAAAAAAAAAAAAAAAAAAAAAAAAAAAAAAAAAAAAAAAAAAAAAAAAAAAAAAAAAAAAAAAAAAAAAAAAAAAAAAAAAAAAAAAA",
          "dtype": "f8"
         }
        },
        {
         "mode": "lines+markers",
         "name": "2 - dropped_out_eris_mw",
         "type": "scatter",
         "x": {
          "bdata": "AQIDBAUGBwgJCgsMDQ4P",
          "dtype": "i1"
         },
         "y": {
          "bdata": "AAAAAAAAAAAAAAAAAAAAAAAAAAAAAAAAAAAAAAAAAAAAAAAAAAAAAAAAAAAAAAAAAAAAAAAAAAAAAAAAAAAAAAAAAAAAAAAAAAAAAAAAAAAAAAAAAAAAAAAAAAAAAAAAAAAAAAAAAAAAAAAAAAAAAAAAAAAAAAAA",
          "dtype": "f8"
         }
        },
        {
         "mode": "lines+markers",
         "name": "2 - dropped_out_nris_mw",
         "type": "scatter",
         "x": {
          "bdata": "AQIDBAUGBwgJCgsMDQ4P",
          "dtype": "i1"
         },
         "y": {
          "bdata": "AAAAAAAAAAAAAAAAAAAAAAAAAAAAAAAAAAAAAAAAAAAAAAAAAAAAAAAAAAAAAAAAAAAAAAAAAAAAAAAAAAAAAAAAAAAAAAAAAAAAAAAAAAAAAAAAAAAAAAAAAAAAAAAAAAAAAAAAAAAAAAAAAAAAAAAAAAAAAAAA",
          "dtype": "f8"
         }
        },
        {
         "mode": "lines+markers",
         "name": "3 - pending_eris_mw",
         "type": "scatter",
         "x": {
          "bdata": "AQIDBAUGBwgJCgsMDQ4P",
          "dtype": "i1"
         },
         "y": {
          "bdata": "AAAAAAAAAAAAAAAAAAAA",
          "dtype": "i1"
         }
        },
        {
         "mode": "lines+markers",
         "name": "3 - pending_nris_mw",
         "type": "scatter",
         "x": {
          "bdata": "AQIDBAUGBwgJCgsMDQ4P",
          "dtype": "i1"
         },
         "y": {
          "bdata": "AAAAAAAAAAAAAAAAAMBeQIXrUbgeR4lAKVyPwvXdl0D2KFyPwlqdQHsUrkdhualAH4XrUTjkrkCPwvUoHGSwQI/C9Sgc2rJAj8L1KBz0s0CPwvUoHFC0QB+F61E49LNAuB6F69GUs0CF61G4npKzQB+F61G45rFA",
          "dtype": "f8"
         }
        },
        {
         "mode": "lines+markers",
         "name": "3 - online_eris_mw",
         "type": "scatter",
         "x": {
          "bdata": "AQIDBAUGBwgJCgsMDQ4P",
          "dtype": "i1"
         },
         "y": {
          "bdata": "AAAAAAAAAAAAAAAAAAAA",
          "dtype": "i1"
         }
        },
        {
         "mode": "lines+markers",
         "name": "3 - online_nris_mw",
         "type": "scatter",
         "x": {
          "bdata": "AQIDBAUGBwgJCgsMDQ4P",
          "dtype": "i1"
         },
         "y": {
          "bdata": "AAAAAAAAAAAAAAAAAAAAAAAAAAAAAAAAAAAAAAAAAAAAAAAAAAAAAAAAAAAAAAAAAAAAAAAAAAAAAAAAAAAAAAAAAAAAAAAAAAAAAAAAAAAAAAAAAMBeQIXrUbgeR4lAKVyPwvXdl0D2KFyPwlqdQHsUrkdhualA",
          "dtype": "f8"
         }
        },
        {
         "mode": "lines+markers",
         "name": "3 - dropped_out_eris_mw",
         "type": "scatter",
         "x": {
          "bdata": "AQIDBAUGBwgJCgsMDQ4P",
          "dtype": "i1"
         },
         "y": {
          "bdata": "AAAAAAAAAACamZmZmYmJQDMzMzMzfphAAAAAAAA2mkAAAAAAAGSLQM3MzMzM5JFAAAAAAAAghUAAAAAAACKfQAAAAAAANIFAAAAAAADcjkDNzMzMzIyWQAAAAAAA45JAAAAAAADgjUDNzMzMzOKfQM3MzMzMiJdA",
          "dtype": "f8"
         }
        },
        {
         "mode": "lines+markers",
         "name": "3 - dropped_out_nris_mw",
         "type": "scatter",
         "x": {
          "bdata": "AQIDBAUGBwgJCgsMDQ4P",
          "dtype": "i1"
         },
         "y": {
          "bdata": "AAAAAAAAAAAAAAAAAEB/QAAAAAAAMIRAAAAAAACUoUAAAAAAAAAAAAAAAAAAAAAAAAAAAADAckAAAAAAAGCAQAAAAAAAwHJAAAAAAABgekAAAAAAAABpQAAAAAAAwIdAAAAAAAAAAAAAAAAAAKBzQAAAAAAAAAAA",
          "dtype": "f8"
         }
        },
        {
         "mode": "lines+markers",
         "name": "4 - pending_eris_mw",
         "type": "scatter",
         "x": {
          "bdata": "AQIDBAUGBwgJCgsMDQ4P",
          "dtype": "i1"
         },
         "y": {
          "bdata": "AAAAAAAAAAAAAAAAAAAA",
          "dtype": "i1"
         }
        },
        {
         "mode": "lines+markers",
         "name": "4 - pending_nris_mw",
         "type": "scatter",
         "x": {
          "bdata": "AQIDBAUGBwgJCgsMDQ4P",
          "dtype": "i1"
         },
         "y": {
          "bdata": "AAAAAABAcEAAAAAAAOWdQGZmZmYmdLJAmpmZmRkkvECamZmZWYPAQJqZmZnZ68JAzczMzEw7xkBSuB6FC4jJQOxRuB4l7cxApHA9CtdN0EBI4XoUHgnQQI/C9SgcuM1AcT0K14NxzEBSuB6FW4LQQFK4HoXbx9BA",
          "dtype": "f8"
         }
        },
        {
         "mode": "lines+markers",
         "name": "4 - online_eris_mw",
         "type": "scatter",
         "x": {
          "bdata": "AQIDBAUGBwgJCgsMDQ4P",
          "dtype": "i1"
         },
         "y": {
          "bdata": "AAAAAAAAAAAAAAAAAAAA",
          "dtype": "i1"
         }
        },
        {
         "mode": "lines+markers",
         "name": "4 - online_nris_mw",
         "type": "scatter",
         "x": {
          "bdata": "AQIDBAUGBwgJCgsMDQ4P",
          "dtype": "i1"
         },
         "y": {
          "bdata": "AAAAAAAAAAAAAAAAAAAAAAAAAAAAAAAAAAAAAAAAAAAAAAAAAAAAAAAAAAAAAAAAAAAAAAAAAAAAAAAAAAAAAAAAAAAAAAAAAAAAAABAcEAAAAAAAOWdQGZmZmYmdLJAmpmZmRkkvECamZmZWYPAQJqZmZnZ68JA",
          "dtype": "f8"
         }
        },
        {
         "mode": "lines+markers",
         "name": "4 - dropped_out_eris_mw",
         "type": "scatter",
         "x": {
          "bdata": "AQIDBAUGBwgJCgsMDQ4P",
          "dtype": "i1"
         },
         "y": {
          "bdata": "zczMzMzUnUBSuB6Fq7OyQI/C9SjcZ7FA9ihcj0LJsEDNzMzMzLqtQM3MzMzM6qxAAAAAAACpokAAAAAAAH+wQOF6FK5Hp65AZmZmZmb8tUAAAAAAAOupQM3MzMxMlapAzczMzEzNs0AzMzMzs/CnQGZmZmZmPadA",
          "dtype": "f8"
         }
        },
        {
         "mode": "lines+markers",
         "name": "4 - dropped_out_nris_mw",
         "type": "scatter",
         "x": {
          "bdata": "AQIDBAUGBwgJCgsMDQ4P",
          "dtype": "i1"
         },
         "y": {
          "bdata": "AAAAAAAAAAAAAAAAAEBwQAAAAAAAQI9AAAAAAADghUAAAAAAAMByQAAAAAAAWIFAmpmZmZmZf0AAAAAAAHCDQAAAAAAAAAAAAAAAAAAAmUAAAAAAAACQQGZmZmZmRoBAAAAAAAAQiEAAAAAAAEBwQAAAAAAAaJBA",
          "dtype": "f8"
         }
        },
        {
         "mode": "lines+markers",
         "name": "5 - pending_eris_mw",
         "type": "scatter",
         "x": {
          "bdata": "AQIDBAUGBwgJCgsMDQ4P",
          "dtype": "i1"
         },
         "y": {
          "bdata": "AAAAAAAAAAAAAAAAAAAA",
          "dtype": "i1"
         }
        },
        {
         "mode": "lines+markers",
         "name": "5 - pending_nris_mw",
         "type": "scatter",
         "x": {
          "bdata": "AQIDBAUGBwgJCgsMDQ4P",
          "dtype": "i1"
         },
         "y": {
          "bdata": "mpmZmVn0v0BmZmZmRiTDQGZmZmbGX8dAZmZmZoadykCamZmZmbfPQDMzMzPTTdJArkfhelRL1kAUrkfh2pTXQOF6FK6nXtlA4XoUrgdk00AUrkfhmtXUQBSuR+G6MdZAPQrXoyBS1kBxPQrXYw3WQHE9CtcjLNZA",
          "dtype": "f8"
         }
        },
        {
         "mode": "lines+markers",
         "name": "5 - online_eris_mw",
         "type": "scatter",
         "x": {
          "bdata": "AQIDBAUGBwgJCgsMDQ4P",
          "dtype": "i1"
         },
         "y": {
          "bdata": "AAAAAAAAAAAAAAAAAAAA",
          "dtype": "i1"
         }
        },
        {
         "mode": "lines+markers",
         "name": "5 - online_nris_mw",
         "type": "scatter",
         "x": {
          "bdata": "AQIDBAUGBwgJCgsMDQ4P",
          "dtype": "i1"
         },
         "y": {
          "bdata": "AAAAAAAAAAAAAAAAAAAAAAAAAAAAAAAAAAAAAAAAAAAAAAAAAAAAAAAAAAAAAAAAAAAAAAAAAAAAAAAAAAAAAAAAAAAAAAAAmpmZmVn0v0BmZmZmRiTDQGZmZmbGX8dAZmZmZoadykCamZmZmbfPQDMzMzPTTdJA",
          "dtype": "f8"
         }
        },
        {
         "mode": "lines+markers",
         "name": "5 - dropped_out_eris_mw",
         "type": "scatter",
         "x": {
          "bdata": "AQIDBAUGBwgJCgsMDQ4P",
          "dtype": "i1"
         },
         "y": {
          "bdata": "4XoUrofL0EAzMzMz846yQGZmZmbmYrBAZmZmZmZxp0CamZmZmVGvQOxRuB5FL7dACtejcP27uEAzMzMzM+mkQDMzMzMztbBAw/UoXA+xsECF61G4Hm+0QDMzMzMz0apAZmZmZibotUAfhetRuNmuQAAAAADAALtA",
          "dtype": "f8"
         }
        },
        {
         "mode": "lines+markers",
         "name": "5 - dropped_out_nris_mw",
         "type": "scatter",
         "x": {
          "bdata": "AQIDBAUGBwgJCgsMDQ4P",
          "dtype": "i1"
         },
         "y": {
          "bdata": "AAAAAAArrUAAAAAAADCBQAAAAAAAwIdAAAAAAAAAAAAAAAAAAJBnQDMzMzMzPaJAAAAAAADYj0CamZmZmdllQAAAAAAAaJBAMzMzMzPTaUAAAAAAAHCiQAAAAAAAgIFAAAAAAADgekAAAAAAAAAAAAAAAAAAiJNA",
          "dtype": "f8"
         }
        },
        {
         "mode": "lines+markers",
         "name": "6 - pending_eris_mw",
         "type": "scatter",
         "x": {
          "bdata": "AQIDBAUGBwgJCgsMDQ4P",
          "dtype": "i1"
         },
         "y": {
          "bdata": "AAAAAAAAAAAAAAAAAAAA",
          "dtype": "i1"
         }
        },
        {
         "mode": "lines+markers",
         "name": "6 - pending_nris_mw",
         "type": "scatter",
         "x": {
          "bdata": "AQIDBAUGBwgJCgsMDQ4P",
          "dtype": "i1"
         },
         "y": {
          "bdata": "AAAAAAAAAAAAAAAAAAAAAAAAAAAAAAAAAAAAAAAAAAAAAAAAAAAAAAAAAAAAAAAAAAAAAAAAAAAAAAAAAAAAAAAAAAAAAAAAAAAAAAAAAAAAAAAAAAAAAAAAAAAAAAAAAAAAAAAAAAAAAAAAAAAAAAAAAAAAAAAA",
          "dtype": "f8"
         }
        },
        {
         "mode": "lines+markers",
         "name": "6 - online_eris_mw",
         "type": "scatter",
         "x": {
          "bdata": "AQIDBAUGBwgJCgsMDQ4P",
          "dtype": "i1"
         },
         "y": {
          "bdata": "AAAAAAAAAAAAAAAAAAAA",
          "dtype": "i1"
         }
        },
        {
         "mode": "lines+markers",
         "name": "6 - online_nris_mw",
         "type": "scatter",
         "x": {
          "bdata": "AQIDBAUGBwgJCgsMDQ4P",
          "dtype": "i1"
         },
         "y": {
          "bdata": "AAAAAAAAAAAAAAAAAAAAAAAAAAAAAAAAAAAAAAAAAAAAAAAAAAAAAAAAAAAAAAAAAAAAAAAAAAAAAAAAAAAAAAAAAAAAAAAAAAAAAAAAAAAAAAAAAAAAAAAAAAAAAAAAAAAAAAAAAAAAAAAAAAAAAAAAAAAAAAAA",
          "dtype": "f8"
         }
        },
        {
         "mode": "lines+markers",
         "name": "6 - dropped_out_eris_mw",
         "type": "scatter",
         "x": {
          "bdata": "AQIDBAUGBwgJCgsMDQ4P",
          "dtype": "i1"
         },
         "y": {
          "bdata": "AAAAAAAAAAAAAAAAAAAAAAAAAAAAAAAAAAAAAAAAAAAAAAAAAAAAAAAAAAAAAAAAAAAAAAAAAAAAAAAAAAAAAAAAAAAAAAAAAAAAAAAAAAAAAAAAAAAAAAAAAAAAAAAAAAAAAAAAAAAAAAAAAAAAAAAAAAAAAAAA",
          "dtype": "f8"
         }
        },
        {
         "mode": "lines+markers",
         "name": "6 - dropped_out_nris_mw",
         "type": "scatter",
         "x": {
          "bdata": "AQIDBAUGBwgJCgsMDQ4P",
          "dtype": "i1"
         },
         "y": {
          "bdata": "AAAAAAAAAAAAAAAAAAAAAAAAAAAAAAAAAAAAAAAAAAAAAAAAAAAAAAAAAAAAAAAAAAAAAAAAAAAAAAAAAAAAAAAAAAAAAAAAAAAAAAAAAAAAAAAAAAAAAAAAAAAAAAAAAAAAAAAAAAAAAAAAAAAAAAAAAAAAAAAA",
          "dtype": "f8"
         }
        },
        {
         "mode": "lines+markers",
         "name": "7 - pending_eris_mw",
         "type": "scatter",
         "x": {
          "bdata": "AQIDBAUGBwgJCgsMDQ4P",
          "dtype": "i1"
         },
         "y": {
          "bdata": "AAAAAAAAAAAAAAAAAAAA",
          "dtype": "i1"
         }
        },
        {
         "mode": "lines+markers",
         "name": "7 - pending_nris_mw",
         "type": "scatter",
         "x": {
          "bdata": "AQIDBAUGBwgJCgsMDQ4P",
          "dtype": "i1"
         },
         "y": {
          "bdata": "AAAAAAAAAAAAAAAAAAAAAAAAAAAAAAAAAAAAAAAAAAAAAAAAAAAAAAAAAAAAAAAAAAAAAAAAAAAAAAAAAAAAAAAAAAAAAAAAAAAAAAAAAAAAAAAAAAAAAAAAAAAAAAAAAAAAAAAAAAAAAAAAAAAAAAAAAAAAAAAA",
          "dtype": "f8"
         }
        },
        {
         "mode": "lines+markers",
         "name": "7 - online_eris_mw",
         "type": "scatter",
         "x": {
          "bdata": "AQIDBAUGBwgJCgsMDQ4P",
          "dtype": "i1"
         },
         "y": {
          "bdata": "AAAAAAAAAAAAAAAAAAAA",
          "dtype": "i1"
         }
        },
        {
         "mode": "lines+markers",
         "name": "7 - online_nris_mw",
         "type": "scatter",
         "x": {
          "bdata": "AQIDBAUGBwgJCgsMDQ4P",
          "dtype": "i1"
         },
         "y": {
          "bdata": "AAAAAAAAAAAAAAAAAAAAAAAAAAAAAAAAAAAAAAAAAAAAAAAAAAAAAAAAAAAAAAAAAAAAAAAAAAAAAAAAAAAAAAAAAAAAAAAAAAAAAAAAAAAAAAAAAAAAAAAAAAAAAAAAAAAAAAAAAAAAAAAAAAAAAAAAAAAAAAAA",
          "dtype": "f8"
         }
        },
        {
         "mode": "lines+markers",
         "name": "7 - dropped_out_eris_mw",
         "type": "scatter",
         "x": {
          "bdata": "AQIDBAUGBwgJCgsMDQ4P",
          "dtype": "i1"
         },
         "y": {
          "bdata": "AAAAAAAAAAAAAAAAAAAAAAAAAAAAAAAAAAAAAAAAAAAAAAAAAAAAAAAAAAAAAAAAAAAAAAAAAAAAAAAAAAAAAAAAAAAAAAAAAAAAAAAAAAAAAAAAAAAAAAAAAAAAAAAAAAAAAAAAAAAAAAAAAAAAAAAAAAAAAAAA",
          "dtype": "f8"
         }
        },
        {
         "mode": "lines+markers",
         "name": "7 - dropped_out_nris_mw",
         "type": "scatter",
         "x": {
          "bdata": "AQIDBAUGBwgJCgsMDQ4P",
          "dtype": "i1"
         },
         "y": {
          "bdata": "AAAAAAAAAAAAAAAAAAAAAAAAAAAAAAAAAAAAAAAAAAAAAAAAAAAAAAAAAAAAAAAAAAAAAAAAAAAAAAAAAAAAAAAAAAAAAAAAAAAAAAAAAAAAAAAAAAAAAAAAAAAAAAAAAAAAAAAAAAAAAAAAAAAAAAAAAAAAAAAA",
          "dtype": "f8"
         }
        },
        {
         "mode": "lines+markers",
         "name": "8 - pending_eris_mw",
         "type": "scatter",
         "x": {
          "bdata": "AQIDBAUGBwgJCgsMDQ4P",
          "dtype": "i1"
         },
         "y": {
          "bdata": "AAAAAAAAAAAAAAAAAAAA",
          "dtype": "i1"
         }
        },
        {
         "mode": "lines+markers",
         "name": "8 - pending_nris_mw",
         "type": "scatter",
         "x": {
          "bdata": "AQIDBAUGBwgJCgsMDQ4P",
          "dtype": "i1"
         },
         "y": {
          "bdata": "AAAAAAAAAAAAAAAAAAAAAAAAAAAAAAAAAAAAAAAAAAAAAAAAAAAAAAAAAAAAAAAAAAAAAAAAAAAAAAAAAAAAAAAAAAAAAAAAAAAAAAAAAAAAAAAAAAAAAAAAAAAAAAAAAAAAAAAAAAAAAAAAAAAAAAAAAAAAAAAA",
          "dtype": "f8"
         }
        },
        {
         "mode": "lines+markers",
         "name": "8 - online_eris_mw",
         "type": "scatter",
         "x": {
          "bdata": "AQIDBAUGBwgJCgsMDQ4P",
          "dtype": "i1"
         },
         "y": {
          "bdata": "AAAAAAAAAAAAAAAAAAAA",
          "dtype": "i1"
         }
        },
        {
         "mode": "lines+markers",
         "name": "8 - online_nris_mw",
         "type": "scatter",
         "x": {
          "bdata": "AQIDBAUGBwgJCgsMDQ4P",
          "dtype": "i1"
         },
         "y": {
          "bdata": "AAAAAAAAAAAAAAAAAAAAAAAAAAAAAAAAAAAAAAAAAAAAAAAAAAAAAAAAAAAAAAAAAAAAAAAAAAAAAAAAAAAAAAAAAAAAAAAAAAAAAAAAAAAAAAAAAAAAAAAAAAAAAAAAAAAAAAAAAAAAAAAAAAAAAAAAAAAAAAAA",
          "dtype": "f8"
         }
        },
        {
         "mode": "lines+markers",
         "name": "8 - dropped_out_eris_mw",
         "type": "scatter",
         "x": {
          "bdata": "AQIDBAUGBwgJCgsMDQ4P",
          "dtype": "i1"
         },
         "y": {
          "bdata": "AAAAAAAAAAAAAAAAAAAAAAAAAAAAAAAAAAAAAAAAAAAAAAAAAAAAAAAAAAAAAAAAAAAAAAAAAAAAAAAAAAAAAAAAAAAAAAAAAAAAAAAAAAAAAAAAAAAAAAAAAAAAAAAAAAAAAAAAAAAAAAAAAAAAAAAAAAAAAAAA",
          "dtype": "f8"
         }
        },
        {
         "mode": "lines+markers",
         "name": "8 - dropped_out_nris_mw",
         "type": "scatter",
         "x": {
          "bdata": "AQIDBAUGBwgJCgsMDQ4P",
          "dtype": "i1"
         },
         "y": {
          "bdata": "AAAAAAAAAAAAAAAAAAAAAAAAAAAAAAAAAAAAAAAAAAAAAAAAAAAAAAAAAAAAAAAAAAAAAAAAAAAAAAAAAAAAAAAAAAAAAAAAAAAAAAAAAAAAAAAAAAAAAAAAAAAAAAAAAAAAAAAAAAAAAAAAAAAAAAAAAAAAAAAA",
          "dtype": "f8"
         }
        },
        {
         "mode": "lines+markers",
         "name": "9 - pending_eris_mw",
         "type": "scatter",
         "x": {
          "bdata": "AQIDBAUGBwgJCgsMDQ4P",
          "dtype": "i1"
         },
         "y": {
          "bdata": "AAAAAAAAAAAAAAAAAAAA",
          "dtype": "i1"
         }
        },
        {
         "mode": "lines+markers",
         "name": "9 - pending_nris_mw",
         "type": "scatter",
         "x": {
          "bdata": "AQIDBAUGBwgJCgsMDQ4P",
          "dtype": "i1"
         },
         "y": {
          "bdata": "ZmZmZuaZukBmZmZmZiHCQJqZmZmZvsVAzczMzEzjyEDNzMzMjB/OQAAAAAAgTtFAZmZmZgbh00AK16NwzV7WQHE9CteTathAw/UoXN9D1ECPwvUoDGDTQFyPwvU4XtNAzczMzJzo00DNzMzMHELUQPYoXI+izNNA",
          "dtype": "f8"
         }
        },
        {
         "mode": "lines+markers",
         "name": "9 - online_eris_mw",
         "type": "scatter",
         "x": {
          "bdata": "AQIDBAUGBwgJCgsMDQ4P",
          "dtype": "i1"
         },
         "y": {
          "bdata": "AAAAAAAAAAAAAAAAAAAA",
          "dtype": "i1"
         }
        },
        {
         "mode": "lines+markers",
         "name": "9 - online_nris_mw",
         "type": "scatter",
         "x": {
          "bdata": "AQIDBAUGBwgJCgsMDQ4P",
          "dtype": "i1"
         },
         "y": {
          "bdata": "AAAAAAAAAAAAAAAAAAAAAAAAAAAAAAAAAAAAAAAAAAAAAAAAAAAAAAAAAAAAAAAAAAAAAAAAAAAAAAAAAAAAAAAAAAAAAAAAZmZmZuaZukBmZmZmZiHCQJqZmZmZvsVAzczMzEzjyEDNzMzMjB/OQAAAAAAgTtFA",
          "dtype": "f8"
         }
        },
        {
         "mode": "lines+markers",
         "name": "9 - dropped_out_eris_mw",
         "type": "scatter",
         "x": {
          "bdata": "AQIDBAUGBwgJCgsMDQ4P",
          "dtype": "i1"
         },
         "y": {
          "bdata": "j8L1KNxoy0AUrkfheiKsQAAAAACADrRA4XoUrsf1rkB7FK5HIbm7QM3MzMxM8LJAMzMzMzPkqEDNzMzMTH6sQHE9CteDW8BAZmZmZqYRsUB7FK5H4TqwQDMzMzMzQq1AMzMzMzOTtUBmZmZmZkSyQOxRuB6FZ6pA",
          "dtype": "f8"
         }
        },
        {
         "mode": "lines+markers",
         "name": "9 - dropped_out_nris_mw",
         "type": "scatter",
         "x": {
          "bdata": "AQIDBAUGBwgJCgsMDQ4P",
          "dtype": "i1"
         },
         "y": {
          "bdata": "MzMzMzMNpUAAAAAAAAAAAAAAAAAAAH5AAAAAAAAAAAAzMzMzM/uWQAAAAAAAkJBAAAAAAABklECamZmZmfl6QAAAAAAAJItAAAAAAAAwgUAAAAAAADCBQAAAAAAAwJJAZmZmZmYylUAAAAAAADiYQAAAAAAAQH9A",
          "dtype": "f8"
         }
        },
        {
         "mode": "lines+markers",
         "name": "10 - pending_eris_mw",
         "type": "scatter",
         "x": {
          "bdata": "AQIDBAUGBwgJCgsMDQ4P",
          "dtype": "i1"
         },
         "y": {
          "bdata": "AAAAAAAAAAAAAAAAAAAA",
          "dtype": "i1"
         }
        },
        {
         "mode": "lines+markers",
         "name": "10 - pending_nris_mw",
         "type": "scatter",
         "x": {
          "bdata": "AQIDBAUGBwgJCgsMDQ4P",
          "dtype": "i1"
         },
         "y": {
          "bdata": "AAAAAAAAAAAAAAAAAAAAAAAAAAAAAAAAAAAAAAAAAAAAAAAAAAAAAAAAAAAAAAAAAAAAAAAAAAAAAAAAAAAAAAAAAAAAAAAAAAAAAAAAAAAAAAAAAAAAAAAAAAAAAAAAAAAAAAAAAAAAAAAAAAAAAAAAAAAAAAAA",
          "dtype": "f8"
         }
        },
        {
         "mode": "lines+markers",
         "name": "10 - online_eris_mw",
         "type": "scatter",
         "x": {
          "bdata": "AQIDBAUGBwgJCgsMDQ4P",
          "dtype": "i1"
         },
         "y": {
          "bdata": "AAAAAAAAAAAAAAAAAAAA",
          "dtype": "i1"
         }
        },
        {
         "mode": "lines+markers",
         "name": "10 - online_nris_mw",
         "type": "scatter",
         "x": {
          "bdata": "AQIDBAUGBwgJCgsMDQ4P",
          "dtype": "i1"
         },
         "y": {
          "bdata": "AAAAAAAAAAAAAAAAAAAAAAAAAAAAAAAAAAAAAAAAAAAAAAAAAAAAAAAAAAAAAAAAAAAAAAAAAAAAAAAAAAAAAAAAAAAAAAAAAAAAAAAAAAAAAAAAAAAAAAAAAAAAAAAAAAAAAAAAAAAAAAAAAAAAAAAAAAAAAAAA",
          "dtype": "f8"
         }
        },
        {
         "mode": "lines+markers",
         "name": "10 - dropped_out_eris_mw",
         "type": "scatter",
         "x": {
          "bdata": "AQIDBAUGBwgJCgsMDQ4P",
          "dtype": "i1"
         },
         "y": {
          "bdata": "AAAAAAAAAAAAAAAAAAAAAAAAAAAAAAAAAAAAAAAAAAAAAAAAAAAAAAAAAAAAAAAAAAAAAAAAAAAAAAAAAAAAAAAAAAAAAAAAAAAAAAAAAAAAAAAAAAAAAAAAAAAAAAAAAAAAAAAAAAAAAAAAAAAAAAAAAAAAAAAA",
          "dtype": "f8"
         }
        },
        {
         "mode": "lines+markers",
         "name": "10 - dropped_out_nris_mw",
         "type": "scatter",
         "x": {
          "bdata": "AQIDBAUGBwgJCgsMDQ4P",
          "dtype": "i1"
         },
         "y": {
          "bdata": "AAAAAAAAAAAAAAAAAAAAAAAAAAAAAAAAAAAAAAAAAAAAAAAAAAAAAAAAAAAAAAAAAAAAAAAAAAAAAAAAAAAAAAAAAAAAAAAAAAAAAAAAAAAAAAAAAAAAAAAAAAAAAAAAAAAAAAAAAAAAAAAAAAAAAAAAAAAAAAAA",
          "dtype": "f8"
         }
        },
        {
         "mode": "lines+markers",
         "name": "11 - pending_eris_mw",
         "type": "scatter",
         "x": {
          "bdata": "AQIDBAUGBwgJCgsMDQ4P",
          "dtype": "i1"
         },
         "y": {
          "bdata": "AAAAAAAAAAAAAAAAAAAA",
          "dtype": "i1"
         }
        },
        {
         "mode": "lines+markers",
         "name": "11 - pending_nris_mw",
         "type": "scatter",
         "x": {
          "bdata": "AQIDBAUGBwgJCgsMDQ4P",
          "dtype": "i1"
         },
         "y": {
          "bdata": "AAAAAAAAAAAAAAAAAABhQAAAAAAA5JNAH4XrUbh5rECF61G4HviwQIXrUbgeLrJA7FG4HkVbtUDsUbgeRey2QLgeheuRpLtAuB6F65H1vUC4HoXrkS+/QClcj8JVu8FAw/UoXE/WvUDNzMzMjE6+QGZmZmbGOsFA",
          "dtype": "f8"
         }
        },
        {
         "mode": "lines+markers",
         "name": "11 - online_eris_mw",
         "type": "scatter",
         "x": {
          "bdata": "AQIDBAUGBwgJCgsMDQ4P",
          "dtype": "i1"
         },
         "y": {
          "bdata": "AAAAAAAAAAAAAAAAAAAA",
          "dtype": "i1"
         }
        },
        {
         "mode": "lines+markers",
         "name": "11 - online_nris_mw",
         "type": "scatter",
         "x": {
          "bdata": "AQIDBAUGBwgJCgsMDQ4P",
          "dtype": "i1"
         },
         "y": {
          "bdata": "AAAAAAAAAAAAAAAAAAAAAAAAAAAAAAAAAAAAAAAAAAAAAAAAAAAAAAAAAAAAAAAAAAAAAAAAAAAAAAAAAAAAAAAAAAAAAAAAAAAAAAAAAAAAAAAAAABhQAAAAAAA5JNAH4XrUbh5rECF61G4HviwQIXrUbgeLrJA",
          "dtype": "f8"
         }
        },
        {
         "mode": "lines+markers",
         "name": "11 - dropped_out_eris_mw",
         "type": "scatter",
         "x": {
          "bdata": "AQIDBAUGBwgJCgsMDQ4P",
          "dtype": "i1"
         },
         "y": {
          "bdata": "AAAAAAAAAADNzMzMzGyeQM3MzMxMEaFAAAAAAICysUCPwvUoXOCeQAAAAAAALaJAAAAAAAAoj0BmZmZmZvyrQM3MzMzM0qBAmpmZmZlzn0DNzMzMzAytQAAAAAAArqVAMzMzMzPbmEDsUbgeBZeoQM3MzMzMTpdA",
          "dtype": "f8"
         }
        },
        {
         "mode": "lines+markers",
         "name": "11 - dropped_out_nris_mw",
         "type": "scatter",
         "x": {
          "bdata": "AQIDBAUGBwgJCgsMDQ4P",
          "dtype": "i1"
         },
         "y": {
          "bdata": "AAAAAAAAAAAAAAAAALiCQAAAAAAAAAAAAAAAAACAZkAAAAAAACCKQAAAAAAA4H9AAAAAAABAf0AAAAAAALiKQAAAAAAA4H9AzczMzMysfUAAAAAAAHCMQM3MzMzMdI9AAAAAAAAgfEAAAAAAAMBrQAAAAAAA8JBA",
          "dtype": "f8"
         }
        },
        {
         "mode": "lines+markers",
         "name": "12 - pending_eris_mw",
         "type": "scatter",
         "x": {
          "bdata": "AQIDBAUGBwgJCgsMDQ4P",
          "dtype": "i1"
         },
         "y": {
          "bdata": "AAAAAAAAAAAAAAAAAAAA",
          "dtype": "i1"
         }
        },
        {
         "mode": "lines+markers",
         "name": "12 - pending_nris_mw",
         "type": "scatter",
         "x": {
          "bdata": "AQIDBAUGBwgJCgsMDQ4P",
          "dtype": "i1"
         },
         "y": {
          "bdata": "AAAAAAAAAAAAAAAAAAAAAAAAAAAAAAAAAAAAAAAAAAAAAAAAAAAAAAAAAAAAAAAAAAAAAAAAAAAAAAAAAAAAAAAAAAAAAAAAAAAAAAAAAAAAAAAAAAAAAAAAAAAAAAAAAAAAAAAAAAAAAAAAAAAAAAAAAAAAAAAA",
          "dtype": "f8"
         }
        },
        {
         "mode": "lines+markers",
         "name": "12 - online_eris_mw",
         "type": "scatter",
         "x": {
          "bdata": "AQIDBAUGBwgJCgsMDQ4P",
          "dtype": "i1"
         },
         "y": {
          "bdata": "AAAAAAAAAAAAAAAAAAAA",
          "dtype": "i1"
         }
        },
        {
         "mode": "lines+markers",
         "name": "12 - online_nris_mw",
         "type": "scatter",
         "x": {
          "bdata": "AQIDBAUGBwgJCgsMDQ4P",
          "dtype": "i1"
         },
         "y": {
          "bdata": "AAAAAAAAAAAAAAAAAAAAAAAAAAAAAAAAAAAAAAAAAAAAAAAAAAAAAAAAAAAAAAAAAAAAAAAAAAAAAAAAAAAAAAAAAAAAAAAAAAAAAAAAAAAAAAAAAAAAAAAAAAAAAAAAAAAAAAAAAAAAAAAAAAAAAAAAAAAAAAAA",
          "dtype": "f8"
         }
        },
        {
         "mode": "lines+markers",
         "name": "12 - dropped_out_eris_mw",
         "type": "scatter",
         "x": {
          "bdata": "AQIDBAUGBwgJCgsMDQ4P",
          "dtype": "i1"
         },
         "y": {
          "bdata": "AAAAAAAAAAAAAAAAAAAAAAAAAAAAAAAAAAAAAAAAAAAAAAAAAAAAAAAAAAAAAAAAAAAAAAAAAAAAAAAAAAAAAAAAAAAAAAAAAAAAAAAAAAAAAAAAAAAAAAAAAAAAAAAAAAAAAAAAAAAAAAAAAAAAAAAAAAAAAAAA",
          "dtype": "f8"
         }
        },
        {
         "mode": "lines+markers",
         "name": "12 - dropped_out_nris_mw",
         "type": "scatter",
         "x": {
          "bdata": "AQIDBAUGBwgJCgsMDQ4P",
          "dtype": "i1"
         },
         "y": {
          "bdata": "AAAAAAAAAAAAAAAAAAAAAAAAAAAAAAAAAAAAAAAAAAAAAAAAAAAAAAAAAAAAAAAAAAAAAAAAAAAAAAAAAAAAAAAAAAAAAAAAAAAAAAAAAAAAAAAAAAAAAAAAAAAAAAAAAAAAAAAAAAAAAAAAAAAAAAAAAAAAAAAA",
          "dtype": "f8"
         }
        },
        {
         "mode": "lines+markers",
         "name": "13 - pending_eris_mw",
         "type": "scatter",
         "x": {
          "bdata": "AQIDBAUGBwgJCgsMDQ4P",
          "dtype": "i1"
         },
         "y": {
          "bdata": "AAAAAAAAAAAAAAAAAAAA",
          "dtype": "i1"
         }
        },
        {
         "mode": "lines+markers",
         "name": "13 - pending_nris_mw",
         "type": "scatter",
         "x": {
          "bdata": "AQIDBAUGBwgJCgsMDQ4P",
          "dtype": "i1"
         },
         "y": {
          "bdata": "AAAAAAAAAAAAAAAAAAAAAAAAAAAAAAAAAAAAAAAAAAAAAAAAAAAAAAAAAAAAAAAAAAAAAAAAAAAAAAAAAAAAAAAAAAAAAAAAAAAAAAAAAAAAAAAAAAAAAAAAAAAAAAAAAAAAAAAAAAAAAAAAAAAAAAAAAAAAAAAA",
          "dtype": "f8"
         }
        },
        {
         "mode": "lines+markers",
         "name": "13 - online_eris_mw",
         "type": "scatter",
         "x": {
          "bdata": "AQIDBAUGBwgJCgsMDQ4P",
          "dtype": "i1"
         },
         "y": {
          "bdata": "AAAAAAAAAAAAAAAAAAAA",
          "dtype": "i1"
         }
        },
        {
         "mode": "lines+markers",
         "name": "13 - online_nris_mw",
         "type": "scatter",
         "x": {
          "bdata": "AQIDBAUGBwgJCgsMDQ4P",
          "dtype": "i1"
         },
         "y": {
          "bdata": "AAAAAAAAAAAAAAAAAAAAAAAAAAAAAAAAAAAAAAAAAAAAAAAAAAAAAAAAAAAAAAAAAAAAAAAAAAAAAAAAAAAAAAAAAAAAAAAAAAAAAAAAAAAAAAAAAAAAAAAAAAAAAAAAAAAAAAAAAAAAAAAAAAAAAAAAAAAAAAAA",
          "dtype": "f8"
         }
        },
        {
         "mode": "lines+markers",
         "name": "13 - dropped_out_eris_mw",
         "type": "scatter",
         "x": {
          "bdata": "AQIDBAUGBwgJCgsMDQ4P",
          "dtype": "i1"
         },
         "y": {
          "bdata": "AAAAAAAAAAAAAAAAAAAAAAAAAAAAAAAAAAAAAAAAAAAAAAAAAAAAAAAAAAAAAAAAAAAAAAAAAAAAAAAAAAAAAAAAAAAAAAAAAAAAAAAAAAAAAAAAAAAAAAAAAAAAAAAAAAAAAAAAAAAAAAAAAAAAAAAAAAAAAAAA",
          "dtype": "f8"
         }
        },
        {
         "mode": "lines+markers",
         "name": "13 - dropped_out_nris_mw",
         "type": "scatter",
         "x": {
          "bdata": "AQIDBAUGBwgJCgsMDQ4P",
          "dtype": "i1"
         },
         "y": {
          "bdata": "AAAAAAAAAAAAAAAAAAAAAAAAAAAAAAAAAAAAAAAAAAAAAAAAAAAAAAAAAAAAAAAAAAAAAAAAAAAAAAAAAAAAAAAAAAAAAAAAAAAAAAAAAAAAAAAAAAAAAAAAAAAAAAAAAAAAAAAAAAAAAAAAAAAAAAAAAAAAAAAA",
          "dtype": "f8"
         }
        },
        {
         "mode": "lines+markers",
         "name": "14 - pending_eris_mw",
         "type": "scatter",
         "x": {
          "bdata": "AQIDBAUGBwgJCgsMDQ4P",
          "dtype": "i1"
         },
         "y": {
          "bdata": "AAAAAAAAAAAAAAAAAAAA",
          "dtype": "i1"
         }
        },
        {
         "mode": "lines+markers",
         "name": "14 - pending_nris_mw",
         "type": "scatter",
         "x": {
          "bdata": "AQIDBAUGBwgJCgsMDQ4P",
          "dtype": "i1"
         },
         "y": {
          "bdata": "AAAAAAAAAAAAAAAAAAAAAAAAAAAAAAAAAAAAAAAAAAAAAAAAAAAAAAAAAAAAAAAAAAAAAAAAAAAAAAAAAAAAAAAAAAAAAAAAAAAAAAAAAAAAAAAAAAAAAAAAAAAAAAAAAAAAAAAAAAAAAAAAAAAAAAAAAAAAAAAA",
          "dtype": "f8"
         }
        },
        {
         "mode": "lines+markers",
         "name": "14 - online_eris_mw",
         "type": "scatter",
         "x": {
          "bdata": "AQIDBAUGBwgJCgsMDQ4P",
          "dtype": "i1"
         },
         "y": {
          "bdata": "AAAAAAAAAAAAAAAAAAAA",
          "dtype": "i1"
         }
        },
        {
         "mode": "lines+markers",
         "name": "14 - online_nris_mw",
         "type": "scatter",
         "x": {
          "bdata": "AQIDBAUGBwgJCgsMDQ4P",
          "dtype": "i1"
         },
         "y": {
          "bdata": "AAAAAAAAAAAAAAAAAAAAAAAAAAAAAAAAAAAAAAAAAAAAAAAAAAAAAAAAAAAAAAAAAAAAAAAAAAAAAAAAAAAAAAAAAAAAAAAAAAAAAAAAAAAAAAAAAAAAAAAAAAAAAAAAAAAAAAAAAAAAAAAAAAAAAAAAAAAAAAAA",
          "dtype": "f8"
         }
        },
        {
         "mode": "lines+markers",
         "name": "14 - dropped_out_eris_mw",
         "type": "scatter",
         "x": {
          "bdata": "AQIDBAUGBwgJCgsMDQ4P",
          "dtype": "i1"
         },
         "y": {
          "bdata": "AAAAAAAAAAAAAAAAAAAAAAAAAAAAAAAAAAAAAAAAAAAAAAAAAAAAAAAAAAAAAAAAAAAAAAAAAAAAAAAAAAAAAAAAAAAAAAAAAAAAAAAAAAAAAAAAAAAAAAAAAAAAAAAAAAAAAAAAAAAAAAAAAAAAAAAAAAAAAAAA",
          "dtype": "f8"
         }
        },
        {
         "mode": "lines+markers",
         "name": "14 - dropped_out_nris_mw",
         "type": "scatter",
         "x": {
          "bdata": "AQIDBAUGBwgJCgsMDQ4P",
          "dtype": "i1"
         },
         "y": {
          "bdata": "AAAAAAAAAAAAAAAAAAAAAAAAAAAAAAAAAAAAAAAAAAAAAAAAAAAAAAAAAAAAAAAAAAAAAAAAAAAAAAAAAAAAAAAAAAAAAAAAAAAAAAAAAAAAAAAAAAAAAAAAAAAAAAAAAAAAAAAAAAAAAAAAAAAAAAAAAAAAAAAA",
          "dtype": "f8"
         }
        },
        {
         "mode": "lines+markers",
         "name": "15 - pending_eris_mw",
         "type": "scatter",
         "x": {
          "bdata": "AQIDBAUGBwgJCgsMDQ4P",
          "dtype": "i1"
         },
         "y": {
          "bdata": "AAAAAAAAAAAAAAAAAAAA",
          "dtype": "i1"
         }
        },
        {
         "mode": "lines+markers",
         "name": "15 - pending_nris_mw",
         "type": "scatter",
         "x": {
          "bdata": "AQIDBAUGBwgJCgsMDQ4P",
          "dtype": "i1"
         },
         "y": {
          "bdata": "AAAAAAAAAAAAAAAAAAAAAAAAAAAAAAAAAAAAAAAAAAAAAAAAAAAAAAAAAAAAAAAAAAAAAAAAAAAAAAAAAAAAAAAAAAAAAAAAAAAAAAAAAAAAAAAAAAAAAAAAAAAAAAAAAAAAAAAAAAAAAAAAAAAAAAAAAAAAAAAA",
          "dtype": "f8"
         }
        },
        {
         "mode": "lines+markers",
         "name": "15 - online_eris_mw",
         "type": "scatter",
         "x": {
          "bdata": "AQIDBAUGBwgJCgsMDQ4P",
          "dtype": "i1"
         },
         "y": {
          "bdata": "AAAAAAAAAAAAAAAAAAAA",
          "dtype": "i1"
         }
        },
        {
         "mode": "lines+markers",
         "name": "15 - online_nris_mw",
         "type": "scatter",
         "x": {
          "bdata": "AQIDBAUGBwgJCgsMDQ4P",
          "dtype": "i1"
         },
         "y": {
          "bdata": "AAAAAAAAAAAAAAAAAAAAAAAAAAAAAAAAAAAAAAAAAAAAAAAAAAAAAAAAAAAAAAAAAAAAAAAAAAAAAAAAAAAAAAAAAAAAAAAAAAAAAAAAAAAAAAAAAAAAAAAAAAAAAAAAAAAAAAAAAAAAAAAAAAAAAAAAAAAAAAAA",
          "dtype": "f8"
         }
        },
        {
         "mode": "lines+markers",
         "name": "15 - dropped_out_eris_mw",
         "type": "scatter",
         "x": {
          "bdata": "AQIDBAUGBwgJCgsMDQ4P",
          "dtype": "i1"
         },
         "y": {
          "bdata": "AAAAAAAAAAAAAAAAAAAAAAAAAAAAAAAAAAAAAAAAAAAAAAAAAAAAAAAAAAAAAAAAAAAAAAAAAAAAAAAAAAAAAAAAAAAAAAAAAAAAAAAAAAAAAAAAAAAAAAAAAAAAAAAAAAAAAAAAAAAAAAAAAAAAAAAAAAAAAAAA",
          "dtype": "f8"
         }
        },
        {
         "mode": "lines+markers",
         "name": "15 - dropped_out_nris_mw",
         "type": "scatter",
         "x": {
          "bdata": "AQIDBAUGBwgJCgsMDQ4P",
          "dtype": "i1"
         },
         "y": {
          "bdata": "AAAAAAAAAAAAAAAAAAAAAAAAAAAAAAAAAAAAAAAAAAAAAAAAAAAAAAAAAAAAAAAAAAAAAAAAAAAAAAAAAAAAAAAAAAAAAAAAAAAAAAAAAAAAAAAAAAAAAAAAAAAAAAAAAAAAAAAAAAAAAAAAAAAAAAAAAAAAAAAA",
          "dtype": "f8"
         }
        },
        {
         "mode": "lines+markers",
         "name": "16 - pending_eris_mw",
         "type": "scatter",
         "x": {
          "bdata": "AQIDBAUGBwgJCgsMDQ4P",
          "dtype": "i1"
         },
         "y": {
          "bdata": "AAAAAAAAAAAAAAAAAAAA",
          "dtype": "i1"
         }
        },
        {
         "mode": "lines+markers",
         "name": "16 - pending_nris_mw",
         "type": "scatter",
         "x": {
          "bdata": "AQIDBAUGBwgJCgsMDQ4P",
          "dtype": "i1"
         },
         "y": {
          "bdata": "cT0K12P6u0C4HoXrMfLBQLgehetxVMZAUrgehYviyEAK16Nw/aTMQB+F61F4185AXI/C9chf0kBcj8L1yHnVQFyPwvUYlNZAAAAAAOBx0UAAAAAAAALRQOF6FK7H7s9ApHA9Ckex0ECPwvUo3O3PQKRwPQqXINFA",
          "dtype": "f8"
         }
        },
        {
         "mode": "lines+markers",
         "name": "16 - online_eris_mw",
         "type": "scatter",
         "x": {
          "bdata": "AQIDBAUGBwgJCgsMDQ4P",
          "dtype": "i1"
         },
         "y": {
          "bdata": "AAAAAAAAAAAAAAAAAAAA",
          "dtype": "i1"
         }
        },
        {
         "mode": "lines+markers",
         "name": "16 - online_nris_mw",
         "type": "scatter",
         "x": {
          "bdata": "AQIDBAUGBwgJCgsMDQ4P",
          "dtype": "i1"
         },
         "y": {
          "bdata": "AAAAAAAAAAAAAAAAAAAAAAAAAAAAAAAAAAAAAAAAAAAAAAAAAAAAAAAAAAAAAAAAAAAAAAAAAAAAAAAAAAAAAAAAAAAAAAAAcT0K12P6u0C4HoXrMfLBQLgehetxVMZAUrgehYviyEAK16Nw/aTMQB+F61F4185A",
          "dtype": "f8"
         }
        },
        {
         "mode": "lines+markers",
         "name": "16 - dropped_out_eris_mw",
         "type": "scatter",
         "x": {
          "bdata": "AQIDBAUGBwgJCgsMDQ4P",
          "dtype": "i1"
         },
         "y": {
          "bdata": "exSuR2Fcx0CF61G4HqStQM3MzMzMtKZAZmZmZuZmpEAAAAAAgKmwQBSuR+H6A69AmpmZmZlApUA+Ctej8OSoQAAAAAAAg6ZAZmZmZmbXskDsUbgeheqsQI/C9ShcULBAzczMzMwrrkBmZmZm5uuyQPYoXI9CtbJA",
          "dtype": "f8"
         }
        },
        {
         "mode": "lines+markers",
         "name": "16 - dropped_out_nris_mw",
         "type": "scatter",
         "x": {
          "bdata": "AQIDBAUGBwgJCgsMDQ4P",
          "dtype": "i1"
         },
         "y": {
          "bdata": "mpmZmZm3qUAAAAAAAPiRQAAAAAAAcIdAAAAAAAAAAAAAAAAAAEBqQAAAAAAAAHlAAAAAAAAwgUAAAAAAAECPQAAAAAAAoHVAAAAAAABgfUAAAAAAAIBmQAAAAAAAaJFAAAAAAACYh0AAAAAAAABpQAAAAAAAAAAA",
          "dtype": "f8"
         }
        },
        {
         "mode": "lines+markers",
         "name": "17 - pending_eris_mw",
         "type": "scatter",
         "x": {
          "bdata": "AQIDBAUGBwgJCgsMDQ4P",
          "dtype": "i1"
         },
         "y": {
          "bdata": "AAAAAAAAAAAAAAAAAAAA",
          "dtype": "i1"
         }
        },
        {
         "mode": "lines+markers",
         "name": "17 - pending_nris_mw",
         "type": "scatter",
         "x": {
          "bdata": "AQIDBAUGBwgJCgsMDQ4P",
          "dtype": "i1"
         },
         "y": {
          "bdata": "AAAAAAA4nEAAAAAAgGSxQLgehetRZLdAw/UoXM8CwEApXI/CFQ7CQPYoXI+CrMZAKVyPwjXKyUAK16Nwvc/MQArXo3A9E89A16NwPQpFzUDXo3A9CkXKQK5H4XrUHMlAcT0K14OSx0CkcD0KV1XIQNejcD3q28dA",
          "dtype": "f8"
         }
        },
        {
         "mode": "lines+markers",
         "name": "17 - online_eris_mw",
         "type": "scatter",
         "x": {
          "bdata": "AQIDBAUGBwgJCgsMDQ4P",
          "dtype": "i1"
         },
         "y": {
          "bdata": "AAAAAAAAAAAAAAAAAAAA",
          "dtype": "i1"
         }
        },
        {
         "mode": "lines+markers",
         "name": "17 - online_nris_mw",
         "type": "scatter",
         "x": {
          "bdata": "AQIDBAUGBwgJCgsMDQ4P",
          "dtype": "i1"
         },
         "y": {
          "bdata": "AAAAAAAAAAAAAAAAAAAAAAAAAAAAAAAAAAAAAAAAAAAAAAAAAAAAAAAAAAAAAAAAAAAAAAAAAAAAAAAAAAAAAAAAAAAAAAAAAAAAAAA4nEAAAAAAgGSxQLgehetRZLdAw/UoXM8CwEApXI/CFQ7CQPYoXI+CrMZA",
          "dtype": "f8"
         }
        },
        {
         "mode": "lines+markers",
         "name": "17 - dropped_out_eris_mw",
         "type": "scatter",
         "x": {
          "bdata": "AQIDBAUGBwgJCgsMDQ4P",
          "dtype": "i1"
         },
         "y": {
          "bdata": "AAAAAABkoUAAAAAAAP6zQM3MzMzM5qJAUrgeheuIp0DNzMzMTLWxQGZmZmZmBppA4XoUrseyqECamZmZGbOzQM3MzMxMOaZAhetRuB7To0AAAAAAgPuqQAAAAAAA8a1AFK5H4frxokAzMzMzM2acQD0K16NwHZZA",
          "dtype": "f8"
         }
        },
        {
         "mode": "lines+markers",
         "name": "17 - dropped_out_nris_mw",
         "type": "scatter",
         "x": {
          "bdata": "AQIDBAUGBwgJCgsMDQ4P",
          "dtype": "i1"
         },
         "y": {
          "bdata": "AAAAAADAckAAAAAAAAySQAAAAAAAYHpAZmZmZmaSlUAAAAAAAFCEQAAAAAAAQG9AAAAAAAAAiUAAAAAAABSQQGZmZmZmPo9AAAAAAAAgkUCamZmZmWl5QAAAAAAAQH9AzczMzMxsd0AAAAAAAACUQAAAAAAA2I1A",
          "dtype": "f8"
         }
        },
        {
         "mode": "lines+markers",
         "name": "18 - pending_eris_mw",
         "type": "scatter",
         "x": {
          "bdata": "AQIDBAUGBwgJCgsMDQ4P",
          "dtype": "i1"
         },
         "y": {
          "bdata": "AAAAAAAAAAAAAAAAAAAA",
          "dtype": "i1"
         }
        },
        {
         "mode": "lines+markers",
         "name": "18 - pending_nris_mw",
         "type": "scatter",
         "x": {
          "bdata": "AQIDBAUGBwgJCgsMDQ4P",
          "dtype": "i1"
         },
         "y": {
          "bdata": "AAAAAAAAAAAAAAAAAOiMQJqZmZmZu5JAmpmZmZk/lUCamZmZmT+VQJqZmZmZm5tAAAAAAADmpUAAAAAAAMSmQM3MzMzM46lAMzMzMzNgqkAzMzMzM1ijQGZmZmZmrKVAZmZmZmZjp0BmZmZmZompQGZmZmZm0ahA",
          "dtype": "f8"
         }
        },
        {
         "mode": "lines+markers",
         "name": "18 - online_eris_mw",
         "type": "scatter",
         "x": {
          "bdata": "AQIDBAUGBwgJCgsMDQ4P",
          "dtype": "i1"
         },
         "y": {
          "bdata": "AAAAAAAAAAAAAAAAAAAA",
          "dtype": "i1"
         }
        },
        {
         "mode": "lines+markers",
         "name": "18 - online_nris_mw",
         "type": "scatter",
         "x": {
          "bdata": "AQIDBAUGBwgJCgsMDQ4P",
          "dtype": "i1"
         },
         "y": {
          "bdata": "AAAAAAAAAAAAAAAAAAAAAAAAAAAAAAAAAAAAAAAAAAAAAAAAAAAAAAAAAAAAAAAAAAAAAAAAAAAAAAAAAAAAAAAAAAAAAAAAAAAAAAAAAAAAAAAAAOiMQJqZmZmZu5JAmpmZmZk/lUCamZmZmT+VQJqZmZmZm5tA",
          "dtype": "f8"
         }
        },
        {
         "mode": "lines+markers",
         "name": "18 - dropped_out_eris_mw",
         "type": "scatter",
         "x": {
          "bdata": "AQIDBAUGBwgJCgsMDQ4P",
          "dtype": "i1"
         },
         "y": {
          "bdata": "AAAAAAAAAAAAAAAAAMBiQAAAAAAAeHlAAAAAAADgfEAAAAAAAAAAAAAAAAAAoHpAAAAAAAD4fkCkcD0K1z9wQAAAAAAAQJBAAAAAAACAVkAAAAAAAPB5QAAAAAAAADRAAAAAAACgekAAAAAAAMBnQAAAAAAAgC9A",
          "dtype": "f8"
         }
        },
        {
         "mode": "lines+markers",
         "name": "18 - dropped_out_nris_mw",
         "type": "scatter",
         "x": {
          "bdata": "AQIDBAUGBwgJCgsMDQ4P",
          "dtype": "i1"
         },
         "y": {
          "bdata": "AAAAAAAAAAAAAAAAAAAAAAAAAAAAaIdAAAAAAAAAaUAAAAAAAAAAAAAAAAAAAAAAAAAAAADAckAAAAAAAEB/QAAAAAAAgH1AAAAAAACYh0AAAAAAAMByQAAAAAAAAAAAAAAAAAAAAAAAAAAAAAAAAJqZmZmZ2WVA",
          "dtype": "f8"
         }
        },
        {
         "mode": "lines+markers",
         "name": "19 - pending_eris_mw",
         "type": "scatter",
         "x": {
          "bdata": "AQIDBAUGBwgJCgsMDQ4P",
          "dtype": "i1"
         },
         "y": {
          "bdata": "AAAAAAAAAAAAAAAAAAAA",
          "dtype": "i1"
         }
        },
        {
         "mode": "lines+markers",
         "name": "19 - pending_nris_mw",
         "type": "scatter",
         "x": {
          "bdata": "AQIDBAUGBwgJCgsMDQ4P",
          "dtype": "i1"
         },
         "y": {
          "bdata": "AAAAAAAAAAAAAAAAAAAAAAAAAAAAAAAAAAAAAAAAAAAAAAAAAAAAAAAAAAAAAAAAAAAAAAAAAAAAAAAAAAAAAAAAAAAAAAAAAAAAAAAAAAAAAAAAAAAAAAAAAAAAAAAAAAAAAAAAAAAAAAAAAABpQJqZmZmZaXlA",
          "dtype": "f8"
         }
        },
        {
         "mode": "lines+markers",
         "name": "19 - online_eris_mw",
         "type": "scatter",
         "x": {
          "bdata": "AQIDBAUGBwgJCgsMDQ4P",
          "dtype": "i1"
         },
         "y": {
          "bdata": "AAAAAAAAAAAAAAAAAAAA",
          "dtype": "i1"
         }
        },
        {
         "mode": "lines+markers",
         "name": "19 - online_nris_mw",
         "type": "scatter",
         "x": {
          "bdata": "AQIDBAUGBwgJCgsMDQ4P",
          "dtype": "i1"
         },
         "y": {
          "bdata": "AAAAAAAAAAAAAAAAAAAAAAAAAAAAAAAAAAAAAAAAAAAAAAAAAAAAAAAAAAAAAAAAAAAAAAAAAAAAAAAAAAAAAAAAAAAAAAAAAAAAAAAAAAAAAAAAAAAAAAAAAAAAAAAAAAAAAAAAAAAAAAAAAAAAAAAAAAAAAAAA",
          "dtype": "f8"
         }
        },
        {
         "mode": "lines+markers",
         "name": "19 - dropped_out_eris_mw",
         "type": "scatter",
         "x": {
          "bdata": "AQIDBAUGBwgJCgsMDQ4P",
          "dtype": "i1"
         },
         "y": {
          "bdata": "AAAAAAAAAAAAAAAAAAAAAAAAAAAAAAAAAAAAAAAAAAAAAAAAAAAAAAAAAAAAAAAAAAAAAAAAAAAAAAAAAAAAAAAAAAAAAAAAAAAAAAAAAAAAAAAAAAAAAAAAAAAAAAAAAAAAAAAAAAAAAAAAAAAAAAAAAAAAAAAA",
          "dtype": "f8"
         }
        },
        {
         "mode": "lines+markers",
         "name": "19 - dropped_out_nris_mw",
         "type": "scatter",
         "x": {
          "bdata": "AQIDBAUGBwgJCgsMDQ4P",
          "dtype": "i1"
         },
         "y": {
          "bdata": "AAAAAAAAAAAAAAAAAAAAAAAAAAAAAAAAAAAAAAAAAAAAAAAAAAAAAAAAAAAAAAAAAAAAAAAAAAAAAAAAAAAAAAAAAAAAAAAAAAAAAAAAAAAAAAAAAAAAAAAAAAAAAAAAAAAAAAAAAAAAAAAAAAAAAAAAAAAAAAAA",
          "dtype": "f8"
         }
        },
        {
         "mode": "lines+markers",
         "name": "20 - pending_eris_mw",
         "type": "scatter",
         "x": {
          "bdata": "AQIDBAUGBwgJCgsMDQ4P",
          "dtype": "i1"
         },
         "y": {
          "bdata": "AAAAAAAAAAAAAAAAAAAA",
          "dtype": "i1"
         }
        },
        {
         "mode": "lines+markers",
         "name": "20 - pending_nris_mw",
         "type": "scatter",
         "x": {
          "bdata": "AQIDBAUGBwgJCgsMDQ4P",
          "dtype": "i1"
         },
         "y": {
          "bdata": "AAAAAAAAAAAAAAAAAAAAAAAAAAAAAAAAAAAAAAAAAAAAAAAAAAAAAAAAAAAAAAAAAAAAAAAAAAAAAAAAAAAAAAAAAAAAAAAAAAAAAAAAAAAAAAAAAAAAAAAAAAAAAAAAAAAAAAAAAAAAAAAAAAAAAAAAAAAAAAAA",
          "dtype": "f8"
         }
        },
        {
         "mode": "lines+markers",
         "name": "20 - online_eris_mw",
         "type": "scatter",
         "x": {
          "bdata": "AQIDBAUGBwgJCgsMDQ4P",
          "dtype": "i1"
         },
         "y": {
          "bdata": "AAAAAAAAAAAAAAAAAAAA",
          "dtype": "i1"
         }
        },
        {
         "mode": "lines+markers",
         "name": "20 - online_nris_mw",
         "type": "scatter",
         "x": {
          "bdata": "AQIDBAUGBwgJCgsMDQ4P",
          "dtype": "i1"
         },
         "y": {
          "bdata": "AAAAAAAAAAAAAAAAAAAAAAAAAAAAAAAAAAAAAAAAAAAAAAAAAAAAAAAAAAAAAAAAAAAAAAAAAAAAAAAAAAAAAAAAAAAAAAAAAAAAAAAAAAAAAAAAAAAAAAAAAAAAAAAAAAAAAAAAAAAAAAAAAAAAAAAAAAAAAAAA",
          "dtype": "f8"
         }
        },
        {
         "mode": "lines+markers",
         "name": "20 - dropped_out_eris_mw",
         "type": "scatter",
         "x": {
          "bdata": "AQIDBAUGBwgJCgsMDQ4P",
          "dtype": "i1"
         },
         "y": {
          "bdata": "AAAAAAAAAAAAAAAAAAAAAAAAAAAAAAAAAAAAAAAAAAAAAAAAAAAAAAAAAAAAAAAAAAAAAAAAAAAAAAAAAAAAAAAAAAAAAAAAAAAAAAAAAAAAAAAAAAAAAAAAAAAAAAAAAAAAAAAAAAAAAAAAAAAAAAAAAAAAAAAA",
          "dtype": "f8"
         }
        },
        {
         "mode": "lines+markers",
         "name": "20 - dropped_out_nris_mw",
         "type": "scatter",
         "x": {
          "bdata": "AQIDBAUGBwgJCgsMDQ4P",
          "dtype": "i1"
         },
         "y": {
          "bdata": "AAAAAAAAAAAAAAAAAAAAAAAAAAAAAAAAAAAAAAAAAAAAAAAAAAAAAAAAAAAAAAAAAAAAAAAAAAAAAAAAAAAAAAAAAAAAAAAAAAAAAAAAAAAAAAAAAAAAAAAAAAAAAAAAAAAAAAAAAAAAAAAAAAAAAAAAAAAAAAAA",
          "dtype": "f8"
         }
        }
       ],
       "layout": {
        "template": {
         "data": {
          "bar": [
           {
            "error_x": {
             "color": "#2a3f5f"
            },
            "error_y": {
             "color": "#2a3f5f"
            },
            "marker": {
             "line": {
              "color": "#E5ECF6",
              "width": 0.5
             },
             "pattern": {
              "fillmode": "overlay",
              "size": 10,
              "solidity": 0.2
             }
            },
            "type": "bar"
           }
          ],
          "barpolar": [
           {
            "marker": {
             "line": {
              "color": "#E5ECF6",
              "width": 0.5
             },
             "pattern": {
              "fillmode": "overlay",
              "size": 10,
              "solidity": 0.2
             }
            },
            "type": "barpolar"
           }
          ],
          "carpet": [
           {
            "aaxis": {
             "endlinecolor": "#2a3f5f",
             "gridcolor": "white",
             "linecolor": "white",
             "minorgridcolor": "white",
             "startlinecolor": "#2a3f5f"
            },
            "baxis": {
             "endlinecolor": "#2a3f5f",
             "gridcolor": "white",
             "linecolor": "white",
             "minorgridcolor": "white",
             "startlinecolor": "#2a3f5f"
            },
            "type": "carpet"
           }
          ],
          "choropleth": [
           {
            "colorbar": {
             "outlinewidth": 0,
             "ticks": ""
            },
            "type": "choropleth"
           }
          ],
          "contour": [
           {
            "colorbar": {
             "outlinewidth": 0,
             "ticks": ""
            },
            "colorscale": [
             [
              0,
              "#0d0887"
             ],
             [
              0.1111111111111111,
              "#46039f"
             ],
             [
              0.2222222222222222,
              "#7201a8"
             ],
             [
              0.3333333333333333,
              "#9c179e"
             ],
             [
              0.4444444444444444,
              "#bd3786"
             ],
             [
              0.5555555555555556,
              "#d8576b"
             ],
             [
              0.6666666666666666,
              "#ed7953"
             ],
             [
              0.7777777777777778,
              "#fb9f3a"
             ],
             [
              0.8888888888888888,
              "#fdca26"
             ],
             [
              1,
              "#f0f921"
             ]
            ],
            "type": "contour"
           }
          ],
          "contourcarpet": [
           {
            "colorbar": {
             "outlinewidth": 0,
             "ticks": ""
            },
            "type": "contourcarpet"
           }
          ],
          "heatmap": [
           {
            "colorbar": {
             "outlinewidth": 0,
             "ticks": ""
            },
            "colorscale": [
             [
              0,
              "#0d0887"
             ],
             [
              0.1111111111111111,
              "#46039f"
             ],
             [
              0.2222222222222222,
              "#7201a8"
             ],
             [
              0.3333333333333333,
              "#9c179e"
             ],
             [
              0.4444444444444444,
              "#bd3786"
             ],
             [
              0.5555555555555556,
              "#d8576b"
             ],
             [
              0.6666666666666666,
              "#ed7953"
             ],
             [
              0.7777777777777778,
              "#fb9f3a"
             ],
             [
              0.8888888888888888,
              "#fdca26"
             ],
             [
              1,
              "#f0f921"
             ]
            ],
            "type": "heatmap"
           }
          ],
          "histogram": [
           {
            "marker": {
             "pattern": {
              "fillmode": "overlay",
              "size": 10,
              "solidity": 0.2
             }
            },
            "type": "histogram"
           }
          ],
          "histogram2d": [
           {
            "colorbar": {
             "outlinewidth": 0,
             "ticks": ""
            },
            "colorscale": [
             [
              0,
              "#0d0887"
             ],
             [
              0.1111111111111111,
              "#46039f"
             ],
             [
              0.2222222222222222,
              "#7201a8"
             ],
             [
              0.3333333333333333,
              "#9c179e"
             ],
             [
              0.4444444444444444,
              "#bd3786"
             ],
             [
              0.5555555555555556,
              "#d8576b"
             ],
             [
              0.6666666666666666,
              "#ed7953"
             ],
             [
              0.7777777777777778,
              "#fb9f3a"
             ],
             [
              0.8888888888888888,
              "#fdca26"
             ],
             [
              1,
              "#f0f921"
             ]
            ],
            "type": "histogram2d"
           }
          ],
          "histogram2dcontour": [
           {
            "colorbar": {
             "outlinewidth": 0,
             "ticks": ""
            },
            "colorscale": [
             [
              0,
              "#0d0887"
             ],
             [
              0.1111111111111111,
              "#46039f"
             ],
             [
              0.2222222222222222,
              "#7201a8"
             ],
             [
              0.3333333333333333,
              "#9c179e"
             ],
             [
              0.4444444444444444,
              "#bd3786"
             ],
             [
              0.5555555555555556,
              "#d8576b"
             ],
             [
              0.6666666666666666,
              "#ed7953"
             ],
             [
              0.7777777777777778,
              "#fb9f3a"
             ],
             [
              0.8888888888888888,
              "#fdca26"
             ],
             [
              1,
              "#f0f921"
             ]
            ],
            "type": "histogram2dcontour"
           }
          ],
          "mesh3d": [
           {
            "colorbar": {
             "outlinewidth": 0,
             "ticks": ""
            },
            "type": "mesh3d"
           }
          ],
          "parcoords": [
           {
            "line": {
             "colorbar": {
              "outlinewidth": 0,
              "ticks": ""
             }
            },
            "type": "parcoords"
           }
          ],
          "pie": [
           {
            "automargin": true,
            "type": "pie"
           }
          ],
          "scatter": [
           {
            "fillpattern": {
             "fillmode": "overlay",
             "size": 10,
             "solidity": 0.2
            },
            "type": "scatter"
           }
          ],
          "scatter3d": [
           {
            "line": {
             "colorbar": {
              "outlinewidth": 0,
              "ticks": ""
             }
            },
            "marker": {
             "colorbar": {
              "outlinewidth": 0,
              "ticks": ""
             }
            },
            "type": "scatter3d"
           }
          ],
          "scattercarpet": [
           {
            "marker": {
             "colorbar": {
              "outlinewidth": 0,
              "ticks": ""
             }
            },
            "type": "scattercarpet"
           }
          ],
          "scattergeo": [
           {
            "marker": {
             "colorbar": {
              "outlinewidth": 0,
              "ticks": ""
             }
            },
            "type": "scattergeo"
           }
          ],
          "scattergl": [
           {
            "marker": {
             "colorbar": {
              "outlinewidth": 0,
              "ticks": ""
             }
            },
            "type": "scattergl"
           }
          ],
          "scattermap": [
           {
            "marker": {
             "colorbar": {
              "outlinewidth": 0,
              "ticks": ""
             }
            },
            "type": "scattermap"
           }
          ],
          "scattermapbox": [
           {
            "marker": {
             "colorbar": {
              "outlinewidth": 0,
              "ticks": ""
             }
            },
            "type": "scattermapbox"
           }
          ],
          "scatterpolar": [
           {
            "marker": {
             "colorbar": {
              "outlinewidth": 0,
              "ticks": ""
             }
            },
            "type": "scatterpolar"
           }
          ],
          "scatterpolargl": [
           {
            "marker": {
             "colorbar": {
              "outlinewidth": 0,
              "ticks": ""
             }
            },
            "type": "scatterpolargl"
           }
          ],
          "scatterternary": [
           {
            "marker": {
             "colorbar": {
              "outlinewidth": 0,
              "ticks": ""
             }
            },
            "type": "scatterternary"
           }
          ],
          "surface": [
           {
            "colorbar": {
             "outlinewidth": 0,
             "ticks": ""
            },
            "colorscale": [
             [
              0,
              "#0d0887"
             ],
             [
              0.1111111111111111,
              "#46039f"
             ],
             [
              0.2222222222222222,
              "#7201a8"
             ],
             [
              0.3333333333333333,
              "#9c179e"
             ],
             [
              0.4444444444444444,
              "#bd3786"
             ],
             [
              0.5555555555555556,
              "#d8576b"
             ],
             [
              0.6666666666666666,
              "#ed7953"
             ],
             [
              0.7777777777777778,
              "#fb9f3a"
             ],
             [
              0.8888888888888888,
              "#fdca26"
             ],
             [
              1,
              "#f0f921"
             ]
            ],
            "type": "surface"
           }
          ],
          "table": [
           {
            "cells": {
             "fill": {
              "color": "#EBF0F8"
             },
             "line": {
              "color": "white"
             }
            },
            "header": {
             "fill": {
              "color": "#C8D4E3"
             },
             "line": {
              "color": "white"
             }
            },
            "type": "table"
           }
          ]
         },
         "layout": {
          "annotationdefaults": {
           "arrowcolor": "#2a3f5f",
           "arrowhead": 0,
           "arrowwidth": 1
          },
          "autotypenumbers": "strict",
          "coloraxis": {
           "colorbar": {
            "outlinewidth": 0,
            "ticks": ""
           }
          },
          "colorscale": {
           "diverging": [
            [
             0,
             "#8e0152"
            ],
            [
             0.1,
             "#c51b7d"
            ],
            [
             0.2,
             "#de77ae"
            ],
            [
             0.3,
             "#f1b6da"
            ],
            [
             0.4,
             "#fde0ef"
            ],
            [
             0.5,
             "#f7f7f7"
            ],
            [
             0.6,
             "#e6f5d0"
            ],
            [
             0.7,
             "#b8e186"
            ],
            [
             0.8,
             "#7fbc41"
            ],
            [
             0.9,
             "#4d9221"
            ],
            [
             1,
             "#276419"
            ]
           ],
           "sequential": [
            [
             0,
             "#0d0887"
            ],
            [
             0.1111111111111111,
             "#46039f"
            ],
            [
             0.2222222222222222,
             "#7201a8"
            ],
            [
             0.3333333333333333,
             "#9c179e"
            ],
            [
             0.4444444444444444,
             "#bd3786"
            ],
            [
             0.5555555555555556,
             "#d8576b"
            ],
            [
             0.6666666666666666,
             "#ed7953"
            ],
            [
             0.7777777777777778,
             "#fb9f3a"
            ],
            [
             0.8888888888888888,
             "#fdca26"
            ],
            [
             1,
             "#f0f921"
            ]
           ],
           "sequentialminus": [
            [
             0,
             "#0d0887"
            ],
            [
             0.1111111111111111,
             "#46039f"
            ],
            [
             0.2222222222222222,
             "#7201a8"
            ],
            [
             0.3333333333333333,
             "#9c179e"
            ],
            [
             0.4444444444444444,
             "#bd3786"
            ],
            [
             0.5555555555555556,
             "#d8576b"
            ],
            [
             0.6666666666666666,
             "#ed7953"
            ],
            [
             0.7777777777777778,
             "#fb9f3a"
            ],
            [
             0.8888888888888888,
             "#fdca26"
            ],
            [
             1,
             "#f0f921"
            ]
           ]
          },
          "colorway": [
           "#636efa",
           "#EF553B",
           "#00cc96",
           "#ab63fa",
           "#FFA15A",
           "#19d3f3",
           "#FF6692",
           "#B6E880",
           "#FF97FF",
           "#FECB52"
          ],
          "font": {
           "color": "#2a3f5f"
          },
          "geo": {
           "bgcolor": "white",
           "lakecolor": "white",
           "landcolor": "#E5ECF6",
           "showlakes": true,
           "showland": true,
           "subunitcolor": "white"
          },
          "hoverlabel": {
           "align": "left"
          },
          "hovermode": "closest",
          "mapbox": {
           "style": "light"
          },
          "paper_bgcolor": "white",
          "plot_bgcolor": "#E5ECF6",
          "polar": {
           "angularaxis": {
            "gridcolor": "white",
            "linecolor": "white",
            "ticks": ""
           },
           "bgcolor": "#E5ECF6",
           "radialaxis": {
            "gridcolor": "white",
            "linecolor": "white",
            "ticks": ""
           }
          },
          "scene": {
           "xaxis": {
            "backgroundcolor": "#E5ECF6",
            "gridcolor": "white",
            "gridwidth": 2,
            "linecolor": "white",
            "showbackground": true,
            "ticks": "",
            "zerolinecolor": "white"
           },
           "yaxis": {
            "backgroundcolor": "#E5ECF6",
            "gridcolor": "white",
            "gridwidth": 2,
            "linecolor": "white",
            "showbackground": true,
            "ticks": "",
            "zerolinecolor": "white"
           },
           "zaxis": {
            "backgroundcolor": "#E5ECF6",
            "gridcolor": "white",
            "gridwidth": 2,
            "linecolor": "white",
            "showbackground": true,
            "ticks": "",
            "zerolinecolor": "white"
           }
          },
          "shapedefaults": {
           "line": {
            "color": "#2a3f5f"
           }
          },
          "ternary": {
           "aaxis": {
            "gridcolor": "white",
            "linecolor": "white",
            "ticks": ""
           },
           "baxis": {
            "gridcolor": "white",
            "linecolor": "white",
            "ticks": ""
           },
           "bgcolor": "#E5ECF6",
           "caxis": {
            "gridcolor": "white",
            "linecolor": "white",
            "ticks": ""
           }
          },
          "title": {
           "x": 0.05
          },
          "xaxis": {
           "automargin": true,
           "gridcolor": "white",
           "linecolor": "white",
           "ticks": "",
           "title": {
            "standoff": 15
           },
           "zerolinecolor": "white",
           "zerolinewidth": 2
          },
          "yaxis": {
           "automargin": true,
           "gridcolor": "white",
           "linecolor": "white",
           "ticks": "",
           "title": {
            "standoff": 15
           },
           "zerolinecolor": "white",
           "zerolinewidth": 2
          }
         }
        },
        "title": {
         "text": "MW Sums per Status & Service Type"
        },
        "xaxis": {
         "title": {
          "text": "Model Step"
         }
        },
        "yaxis": {
         "title": {
          "text": "MW"
         }
        }
       }
      }
     },
     "metadata": {},
     "output_type": "display_data"
    },
    {
     "data": {
      "application/vnd.plotly.v1+json": {
       "config": {
        "plotlyServerURL": "https://plot.ly"
       },
       "data": [
        {
         "mode": "markers",
         "name": "Construction Time",
         "type": "scatter",
         "x": {
          "bdata": "AQEBAQEBAQEBAQEBAQEBAQEBAQECAgICAgICAgICAgICAgICAgICAgMDAwMDAwMDAwMDAwMDAwMDAwMDBAQEBAQEBAQEBAQEBAQEBAQEBAQFBQUFBQUFBQUFBQUFBQUFBQUFBQYGBgYGBgYGBgYGBgYGBgYGBgYGBwcHBwcHBwcHBwcHBwcHBwcHBwcICAgICAgICAgICAgICAgICAgICAkJCQkJCQkJCQkJCQkJCQkJCQkJCgoKCgoKCgoKCgoKCgoKCgoKCgoLCwsLCwsLCwsLCwsLCwsLCwsLCwwMDAwMDAwMDAwMDAwMDAwMDAwMDQ0NDQ0NDQ0NDQ0NDQ0NDQ0NDQ0ODg4ODg4ODg4ODg4ODg4ODg4ODg8PDw8PDw8PDw8PDw8PDw8PDw8P",
          "dtype": "i1"
         },
         "y": {
          "bdata": "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",
          "dtype": "f8"
         }
        },
        {
         "mode": "markers",
         "name": "study Time",
         "type": "scatter",
         "x": {
          "bdata": "AQEBAQEBAQEBAQEBAQEBAQEBAQECAgICAgICAgICAgICAgICAgICAgMDAwMDAwMDAwMDAwMDAwMDAwMDBAQEBAQEBAQEBAQEBAQEBAQEBAQFBQUFBQUFBQUFBQUFBQUFBQUFBQYGBgYGBgYGBgYGBgYGBgYGBgYGBwcHBwcHBwcHBwcHBwcHBwcHBwcICAgICAgICAgICAgICAgICAgICAkJCQkJCQkJCQkJCQkJCQkJCQkJCgoKCgoKCgoKCgoKCgoKCgoKCgoLCwsLCwsLCwsLCwsLCwsLCwsLCwwMDAwMDAwMDAwMDAwMDAwMDAwMDQ0NDQ0NDQ0NDQ0NDQ0NDQ0NDQ0ODg4ODg4ODg4ODg4ODg4ODg4ODg8PDw8PDw8PDw8PDw8PDw8PDw8P",
          "dtype": "i1"
         },
         "y": {
          "bdata": "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",
          "dtype": "f8"
         }
        }
       ],
       "layout": {
        "template": {
         "data": {
          "bar": [
           {
            "error_x": {
             "color": "#2a3f5f"
            },
            "error_y": {
             "color": "#2a3f5f"
            },
            "marker": {
             "line": {
              "color": "#E5ECF6",
              "width": 0.5
             },
             "pattern": {
              "fillmode": "overlay",
              "size": 10,
              "solidity": 0.2
             }
            },
            "type": "bar"
           }
          ],
          "barpolar": [
           {
            "marker": {
             "line": {
              "color": "#E5ECF6",
              "width": 0.5
             },
             "pattern": {
              "fillmode": "overlay",
              "size": 10,
              "solidity": 0.2
             }
            },
            "type": "barpolar"
           }
          ],
          "carpet": [
           {
            "aaxis": {
             "endlinecolor": "#2a3f5f",
             "gridcolor": "white",
             "linecolor": "white",
             "minorgridcolor": "white",
             "startlinecolor": "#2a3f5f"
            },
            "baxis": {
             "endlinecolor": "#2a3f5f",
             "gridcolor": "white",
             "linecolor": "white",
             "minorgridcolor": "white",
             "startlinecolor": "#2a3f5f"
            },
            "type": "carpet"
           }
          ],
          "choropleth": [
           {
            "colorbar": {
             "outlinewidth": 0,
             "ticks": ""
            },
            "type": "choropleth"
           }
          ],
          "contour": [
           {
            "colorbar": {
             "outlinewidth": 0,
             "ticks": ""
            },
            "colorscale": [
             [
              0,
              "#0d0887"
             ],
             [
              0.1111111111111111,
              "#46039f"
             ],
             [
              0.2222222222222222,
              "#7201a8"
             ],
             [
              0.3333333333333333,
              "#9c179e"
             ],
             [
              0.4444444444444444,
              "#bd3786"
             ],
             [
              0.5555555555555556,
              "#d8576b"
             ],
             [
              0.6666666666666666,
              "#ed7953"
             ],
             [
              0.7777777777777778,
              "#fb9f3a"
             ],
             [
              0.8888888888888888,
              "#fdca26"
             ],
             [
              1,
              "#f0f921"
             ]
            ],
            "type": "contour"
           }
          ],
          "contourcarpet": [
           {
            "colorbar": {
             "outlinewidth": 0,
             "ticks": ""
            },
            "type": "contourcarpet"
           }
          ],
          "heatmap": [
           {
            "colorbar": {
             "outlinewidth": 0,
             "ticks": ""
            },
            "colorscale": [
             [
              0,
              "#0d0887"
             ],
             [
              0.1111111111111111,
              "#46039f"
             ],
             [
              0.2222222222222222,
              "#7201a8"
             ],
             [
              0.3333333333333333,
              "#9c179e"
             ],
             [
              0.4444444444444444,
              "#bd3786"
             ],
             [
              0.5555555555555556,
              "#d8576b"
             ],
             [
              0.6666666666666666,
              "#ed7953"
             ],
             [
              0.7777777777777778,
              "#fb9f3a"
             ],
             [
              0.8888888888888888,
              "#fdca26"
             ],
             [
              1,
              "#f0f921"
             ]
            ],
            "type": "heatmap"
           }
          ],
          "histogram": [
           {
            "marker": {
             "pattern": {
              "fillmode": "overlay",
              "size": 10,
              "solidity": 0.2
             }
            },
            "type": "histogram"
           }
          ],
          "histogram2d": [
           {
            "colorbar": {
             "outlinewidth": 0,
             "ticks": ""
            },
            "colorscale": [
             [
              0,
              "#0d0887"
             ],
             [
              0.1111111111111111,
              "#46039f"
             ],
             [
              0.2222222222222222,
              "#7201a8"
             ],
             [
              0.3333333333333333,
              "#9c179e"
             ],
             [
              0.4444444444444444,
              "#bd3786"
             ],
             [
              0.5555555555555556,
              "#d8576b"
             ],
             [
              0.6666666666666666,
              "#ed7953"
             ],
             [
              0.7777777777777778,
              "#fb9f3a"
             ],
             [
              0.8888888888888888,
              "#fdca26"
             ],
             [
              1,
              "#f0f921"
             ]
            ],
            "type": "histogram2d"
           }
          ],
          "histogram2dcontour": [
           {
            "colorbar": {
             "outlinewidth": 0,
             "ticks": ""
            },
            "colorscale": [
             [
              0,
              "#0d0887"
             ],
             [
              0.1111111111111111,
              "#46039f"
             ],
             [
              0.2222222222222222,
              "#7201a8"
             ],
             [
              0.3333333333333333,
              "#9c179e"
             ],
             [
              0.4444444444444444,
              "#bd3786"
             ],
             [
              0.5555555555555556,
              "#d8576b"
             ],
             [
              0.6666666666666666,
              "#ed7953"
             ],
             [
              0.7777777777777778,
              "#fb9f3a"
             ],
             [
              0.8888888888888888,
              "#fdca26"
             ],
             [
              1,
              "#f0f921"
             ]
            ],
            "type": "histogram2dcontour"
           }
          ],
          "mesh3d": [
           {
            "colorbar": {
             "outlinewidth": 0,
             "ticks": ""
            },
            "type": "mesh3d"
           }
          ],
          "parcoords": [
           {
            "line": {
             "colorbar": {
              "outlinewidth": 0,
              "ticks": ""
             }
            },
            "type": "parcoords"
           }
          ],
          "pie": [
           {
            "automargin": true,
            "type": "pie"
           }
          ],
          "scatter": [
           {
            "fillpattern": {
             "fillmode": "overlay",
             "size": 10,
             "solidity": 0.2
            },
            "type": "scatter"
           }
          ],
          "scatter3d": [
           {
            "line": {
             "colorbar": {
              "outlinewidth": 0,
              "ticks": ""
             }
            },
            "marker": {
             "colorbar": {
              "outlinewidth": 0,
              "ticks": ""
             }
            },
            "type": "scatter3d"
           }
          ],
          "scattercarpet": [
           {
            "marker": {
             "colorbar": {
              "outlinewidth": 0,
              "ticks": ""
             }
            },
            "type": "scattercarpet"
           }
          ],
          "scattergeo": [
           {
            "marker": {
             "colorbar": {
              "outlinewidth": 0,
              "ticks": ""
             }
            },
            "type": "scattergeo"
           }
          ],
          "scattergl": [
           {
            "marker": {
             "colorbar": {
              "outlinewidth": 0,
              "ticks": ""
             }
            },
            "type": "scattergl"
           }
          ],
          "scattermap": [
           {
            "marker": {
             "colorbar": {
              "outlinewidth": 0,
              "ticks": ""
             }
            },
            "type": "scattermap"
           }
          ],
          "scattermapbox": [
           {
            "marker": {
             "colorbar": {
              "outlinewidth": 0,
              "ticks": ""
             }
            },
            "type": "scattermapbox"
           }
          ],
          "scatterpolar": [
           {
            "marker": {
             "colorbar": {
              "outlinewidth": 0,
              "ticks": ""
             }
            },
            "type": "scatterpolar"
           }
          ],
          "scatterpolargl": [
           {
            "marker": {
             "colorbar": {
              "outlinewidth": 0,
              "ticks": ""
             }
            },
            "type": "scatterpolargl"
           }
          ],
          "scatterternary": [
           {
            "marker": {
             "colorbar": {
              "outlinewidth": 0,
              "ticks": ""
             }
            },
            "type": "scatterternary"
           }
          ],
          "surface": [
           {
            "colorbar": {
             "outlinewidth": 0,
             "ticks": ""
            },
            "colorscale": [
             [
              0,
              "#0d0887"
             ],
             [
              0.1111111111111111,
              "#46039f"
             ],
             [
              0.2222222222222222,
              "#7201a8"
             ],
             [
              0.3333333333333333,
              "#9c179e"
             ],
             [
              0.4444444444444444,
              "#bd3786"
             ],
             [
              0.5555555555555556,
              "#d8576b"
             ],
             [
              0.6666666666666666,
              "#ed7953"
             ],
             [
              0.7777777777777778,
              "#fb9f3a"
             ],
             [
              0.8888888888888888,
              "#fdca26"
             ],
             [
              1,
              "#f0f921"
             ]
            ],
            "type": "surface"
           }
          ],
          "table": [
           {
            "cells": {
             "fill": {
              "color": "#EBF0F8"
             },
             "line": {
              "color": "white"
             }
            },
            "header": {
             "fill": {
              "color": "#C8D4E3"
             },
             "line": {
              "color": "white"
             }
            },
            "type": "table"
           }
          ]
         },
         "layout": {
          "annotationdefaults": {
           "arrowcolor": "#2a3f5f",
           "arrowhead": 0,
           "arrowwidth": 1
          },
          "autotypenumbers": "strict",
          "coloraxis": {
           "colorbar": {
            "outlinewidth": 0,
            "ticks": ""
           }
          },
          "colorscale": {
           "diverging": [
            [
             0,
             "#8e0152"
            ],
            [
             0.1,
             "#c51b7d"
            ],
            [
             0.2,
             "#de77ae"
            ],
            [
             0.3,
             "#f1b6da"
            ],
            [
             0.4,
             "#fde0ef"
            ],
            [
             0.5,
             "#f7f7f7"
            ],
            [
             0.6,
             "#e6f5d0"
            ],
            [
             0.7,
             "#b8e186"
            ],
            [
             0.8,
             "#7fbc41"
            ],
            [
             0.9,
             "#4d9221"
            ],
            [
             1,
             "#276419"
            ]
           ],
           "sequential": [
            [
             0,
             "#0d0887"
            ],
            [
             0.1111111111111111,
             "#46039f"
            ],
            [
             0.2222222222222222,
             "#7201a8"
            ],
            [
             0.3333333333333333,
             "#9c179e"
            ],
            [
             0.4444444444444444,
             "#bd3786"
            ],
            [
             0.5555555555555556,
             "#d8576b"
            ],
            [
             0.6666666666666666,
             "#ed7953"
            ],
            [
             0.7777777777777778,
             "#fb9f3a"
            ],
            [
             0.8888888888888888,
             "#fdca26"
            ],
            [
             1,
             "#f0f921"
            ]
           ],
           "sequentialminus": [
            [
             0,
             "#0d0887"
            ],
            [
             0.1111111111111111,
             "#46039f"
            ],
            [
             0.2222222222222222,
             "#7201a8"
            ],
            [
             0.3333333333333333,
             "#9c179e"
            ],
            [
             0.4444444444444444,
             "#bd3786"
            ],
            [
             0.5555555555555556,
             "#d8576b"
            ],
            [
             0.6666666666666666,
             "#ed7953"
            ],
            [
             0.7777777777777778,
             "#fb9f3a"
            ],
            [
             0.8888888888888888,
             "#fdca26"
            ],
            [
             1,
             "#f0f921"
            ]
           ]
          },
          "colorway": [
           "#636efa",
           "#EF553B",
           "#00cc96",
           "#ab63fa",
           "#FFA15A",
           "#19d3f3",
           "#FF6692",
           "#B6E880",
           "#FF97FF",
           "#FECB52"
          ],
          "font": {
           "color": "#2a3f5f"
          },
          "geo": {
           "bgcolor": "white",
           "lakecolor": "white",
           "landcolor": "#E5ECF6",
           "showlakes": true,
           "showland": true,
           "subunitcolor": "white"
          },
          "hoverlabel": {
           "align": "left"
          },
          "hovermode": "closest",
          "mapbox": {
           "style": "light"
          },
          "paper_bgcolor": "white",
          "plot_bgcolor": "#E5ECF6",
          "polar": {
           "angularaxis": {
            "gridcolor": "white",
            "linecolor": "white",
            "ticks": ""
           },
           "bgcolor": "#E5ECF6",
           "radialaxis": {
            "gridcolor": "white",
            "linecolor": "white",
            "ticks": ""
           }
          },
          "scene": {
           "xaxis": {
            "backgroundcolor": "#E5ECF6",
            "gridcolor": "white",
            "gridwidth": 2,
            "linecolor": "white",
            "showbackground": true,
            "ticks": "",
            "zerolinecolor": "white"
           },
           "yaxis": {
            "backgroundcolor": "#E5ECF6",
            "gridcolor": "white",
            "gridwidth": 2,
            "linecolor": "white",
            "showbackground": true,
            "ticks": "",
            "zerolinecolor": "white"
           },
           "zaxis": {
            "backgroundcolor": "#E5ECF6",
            "gridcolor": "white",
            "gridwidth": 2,
            "linecolor": "white",
            "showbackground": true,
            "ticks": "",
            "zerolinecolor": "white"
           }
          },
          "shapedefaults": {
           "line": {
            "color": "#2a3f5f"
           }
          },
          "ternary": {
           "aaxis": {
            "gridcolor": "white",
            "linecolor": "white",
            "ticks": ""
           },
           "baxis": {
            "gridcolor": "white",
            "linecolor": "white",
            "ticks": ""
           },
           "bgcolor": "#E5ECF6",
           "caxis": {
            "gridcolor": "white",
            "linecolor": "white",
            "ticks": ""
           }
          },
          "title": {
           "x": 0.05
          },
          "xaxis": {
           "automargin": true,
           "gridcolor": "white",
           "linecolor": "white",
           "ticks": "",
           "title": {
            "standoff": 15
           },
           "zerolinecolor": "white",
           "zerolinewidth": 2
          },
          "yaxis": {
           "automargin": true,
           "gridcolor": "white",
           "linecolor": "white",
           "ticks": "",
           "title": {
            "standoff": 15
           },
           "zerolinecolor": "white",
           "zerolinewidth": 2
          }
         }
        },
        "title": {
         "text": "Construction and study Time"
        },
        "xaxis": {
         "title": {
          "text": "Model Step"
         }
        },
        "yaxis": {
         "title": {
          "text": "Year"
         }
        }
       }
      }
     },
     "metadata": {},
     "output_type": "display_data"
    }
   ],
   "source": [
    "import pandas as pd\n",
    "import plotly.graph_objects as go\n",
    "\n",
    "# Load the CSV\n",
    "df = pd.read_csv(\"node_round_summary.csv\")\n",
    "\n",
    "# Get unique node IDs\n",
    "nodes = df['node_id'].unique()\n",
    "import plotly.graph_objects as go\n",
    "\n",
    "# --- Projects by Service Type ---\n",
    "fig_projects = go.Figure()\n",
    "\n",
    "for node in nodes:\n",
    "    node_df = df[df['node_id'] == node]\n",
    "    \n",
    "    # Total new projects this step\n",
    "    fig_projects.add_trace(go.Scatter(\n",
    "        x=node_df['model_step'],\n",
    "        y=node_df['num_projects'],\n",
    "        mode='lines+markers',\n",
    "        name=f\"{node} - Total New Projects\",\n",
    "        line=dict(color='blue')\n",
    "    ))\n",
    "    \n",
    "    # New ERIS projects\n",
    "    fig_projects.add_trace(go.Scatter(\n",
    "        x=node_df['model_step'],\n",
    "        y=node_df['new_eris_count'],\n",
    "        mode='lines+markers',\n",
    "        name=f\"{node} - New ERIS Projects\",\n",
    "        line=dict(color='green')\n",
    "    ))\n",
    "    \n",
    "    # New NRIS projects\n",
    "    fig_projects.add_trace(go.Scatter(\n",
    "        x=node_df['model_step'],\n",
    "        y=node_df['new_nris_count'],\n",
    "        mode='lines+markers',\n",
    "        name=f\"{node} - New NRIS Projects\",\n",
    "        line=dict(color='orange')\n",
    "    ))\n",
    "\n",
    "fig_projects.update_layout(\n",
    "    title=\"New Projects by Service Type per Node\",\n",
    "    xaxis_title=\"Model Step\",\n",
    "    yaxis_title=\"Number of Projects\"\n",
    ")\n",
    "\n",
    "fig_projects.show()\n",
    "\n",
    "# -------------------------------\n",
    "# 1. Dropped Out Projects Over Time\n",
    "fig_dropped = go.Figure()\n",
    "fig_dropped.add_trace(go.Scatter(\n",
    "    x=df['model_step'],\n",
    "    y=df['new_dropped_out'],  # updated to match node_summary variable\n",
    "    mode='markers',\n",
    "    name='Dropped Out',\n",
    "    line=dict(color='red')\n",
    "))\n",
    "fig_dropped.update_layout(\n",
    "    title=\"Dropped Out Projects Over Time\",\n",
    "    xaxis_title=\"Model Step\",\n",
    "    yaxis_title=\"Number of Projects\"\n",
    ")\n",
    "fig_dropped.show()\n",
    "\n",
    "# -------------------------------\n",
    "# 2. Pending Projects Over Time\n",
    "fig_pending = go.Figure()\n",
    "fig_pending.add_trace(go.Scatter(\n",
    "    x=df['model_step'],\n",
    "    y=df['total_pending_count'],  # matches node_summary\n",
    "    mode='lines+markers',\n",
    "    name='Pending',\n",
    "    line=dict(color='orange')\n",
    "))\n",
    "fig_pending.update_layout(\n",
    "    title=\"Pending Projects Over Time\",\n",
    "    xaxis_title=\"Model Step\",\n",
    "    yaxis_title=\"Number of Projects\"\n",
    ")\n",
    "fig_pending.show()\n",
    "\n",
    "# -------------------------------\n",
    "# 3. Online Projects Over Time\n",
    "fig_online = go.Figure()\n",
    "fig_online.add_trace(go.Scatter(\n",
    "    x=df['model_step'],\n",
    "    y=df['total_online_count'],  # matches node_summary\n",
    "    mode='markers',\n",
    "    name='Online',\n",
    "    line=dict(color='green')\n",
    "))\n",
    "fig_online.update_layout(\n",
    "    title=\"Online Projects Over Time\",\n",
    "    xaxis_title=\"Model Step\",\n",
    "    yaxis_title=\"Number of Projects\"\n",
    ")\n",
    "fig_online.show()\n",
    "\n",
    "# -------------------------------\n",
    "# 4. Installed vs Available Capacity\n",
    "fig_available_capacity = go.Figure()\n",
    "for node in nodes:\n",
    "    node_df = df[df['node_id'] == node]\n",
    "    fig_available_capacity.add_trace(go.Scatter(\n",
    "        x=node_df['model_step'], y=node_df['available_capacity'],\n",
    "        mode='lines+markers',\n",
    "        name=f\"{node} - Available Capacity\"\n",
    "    ))\n",
    "\n",
    "fig_available_capacity.update_layout(\n",
    "    title=\"Available Capacity per Node\",\n",
    "    xaxis_title=\"Model Step\",\n",
    "    yaxis_title=\"MW\"\n",
    ")\n",
    "fig_available_capacity.show()\n",
    "\n",
    "fig_capacity = go.Figure()\n",
    "for node in nodes:\n",
    "    node_df = df[df['node_id'] == node]\n",
    "    fig_capacity.add_trace(go.Scatter(\n",
    "        x=node_df['model_step'], y=node_df['installed_capacity'],  # fixed typo\n",
    "        mode='lines+markers',\n",
    "        name=f\"{node} - Installed Capacity\"\n",
    "    ))\n",
    "fig_capacity.update_layout(\n",
    "    title=\"Installed  Capacity per Node\",\n",
    "    xaxis_title=\"Model Step\",\n",
    "    yaxis_title=\"MW\"\n",
    ")\n",
    "fig_capacity.show()\n",
    "\n",
    "\n",
    "# -------------------------------\n",
    "# 5. Congestion Indicator\n",
    "fig_congestion = go.Figure()\n",
    "for node in nodes:\n",
    "    node_df = df[df['node_id'] == node]\n",
    "    fig_congestion.add_trace(go.Scatter(\n",
    "        x=node_df['model_step'], y=node_df['congestion_indicator'],\n",
    "        mode='lines+markers',\n",
    "        name=f\"{node} - Congestion\"\n",
    "    ))\n",
    "fig_congestion.update_layout(\n",
    "    title=\"Node Congestion Indicator Over Time\",\n",
    "    xaxis_title=\"Model Step\",\n",
    "    yaxis_title=\"Congestion Indicator\"\n",
    ")\n",
    "fig_congestion.show()\n",
    "\n",
    "# -------------------------------\n",
    "# 6. Average Assigned Costs\n",
    "cost_cols = [\n",
    "    \"avg_cost_eris_dropped_out\", \"avg_cost_nris_dropped_out\",\n",
    "    \"avg_cost_eris_pending\", \"avg_cost_nris_pending\",\n",
    "    \"avg_cost_eris_online\", \"avg_cost_nris_online\"\n",
    "]\n",
    "fig_costs = go.Figure()\n",
    "for node in nodes:\n",
    "    node_df = df[df['node_id'] == node]\n",
    "    for col in cost_cols:\n",
    "        fig_costs.add_trace(go.Scatter(\n",
    "            x=node_df['model_step'], y=node_df[col],\n",
    "            mode='lines+markers',\n",
    "            name=f\"{node} - {col}\"\n",
    "        ))\n",
    "fig_costs.update_layout(\n",
    "    title=\"Average Assigned Costs per Status & Service Type\",\n",
    "    xaxis_title=\"Model Step\",\n",
    "    yaxis_title=\"Average Cost ($/MW)\"\n",
    ")\n",
    "fig_costs.show()\n",
    "\n",
    "# -------------------------------\n",
    "# 7. MW sums per status & service type\n",
    "mw_cols = [\n",
    "    \"pending_eris_mw\", \"pending_nris_mw\",\n",
    "    \"online_eris_mw\", \"online_nris_mw\",\n",
    "    \"dropped_out_eris_mw\", \"dropped_out_nris_mw\"\n",
    "]\n",
    "fig_mw = go.Figure()\n",
    "for node in nodes:\n",
    "    node_df = df[df['node_id'] == node]\n",
    "    for col in mw_cols:\n",
    "        fig_mw.add_trace(go.Scatter(\n",
    "            x=node_df['model_step'], y=node_df[col],\n",
    "            mode='lines+markers',\n",
    "            name=f\"{node} - {col}\"\n",
    "        ))\n",
    "fig_mw.update_layout(\n",
    "    title=\"MW Sums per Status & Service Type\",\n",
    "    xaxis_title=\"Model Step\",\n",
    "    yaxis_title=\"MW\"\n",
    ")\n",
    "fig_mw.show()\n",
    "fig_time= go.Figure()\n",
    "fig_time.add_trace(go.Scatter(\n",
    "    x=df['model_step'],\n",
    "    y=df['avg_construction_time'],\n",
    "    mode='markers',\n",
    "    name='Construction Time'\n",
    "))\n",
    "fig_time.add_trace(go.Scatter(\n",
    "    x=df['model_step'],\n",
    "    y=df['avg_study_time'],\n",
    "    mode='markers',\n",
    "    name='study Time'\n",
    "))\n",
    "fig_time.update_layout(\n",
    "    title=\"Construction and study Time\",\n",
    "    xaxis_title=\"Model Step\",\n",
    "    yaxis_title=\"Year\"\n",
    ")\n",
    "fig_time.show()\n"
   ]
  },
  {
   "cell_type": "code",
   "execution_count": 137,
   "id": "c2beb06d",
   "metadata": {},
   "outputs": [
    {
     "data": {
      "application/vnd.plotly.v1+json": {
       "config": {
        "plotlyServerURL": "https://plot.ly"
       },
       "data": [
        {
         "line": {
          "color": "red"
         },
         "mode": "lines+markers",
         "name": "Dropped Out",
         "type": "scatter",
         "x": {
          "bdata": "AQIDBAUGBwgJCgsMDQ4P",
          "dtype": "i1"
         },
         "y": {
          "bdata": "iwHJAMYAyADOAMAAtwDNAMoAxwDPAMUAxwDDALwA",
          "dtype": "i2"
         }
        },
        {
         "line": {
          "color": "orange"
         },
         "mode": "lines+markers",
         "name": "Pending",
         "type": "scatter",
         "x": {
          "bdata": "AQIDBAUGBwgJCgsMDQ4P",
          "dtype": "i1"
         },
         "y": {
          "bdata": "4wBRAcIBMQKaAhEDkQP7A2gE9QPvA/AD8QP8AwAE",
          "dtype": "i2"
         }
        },
        {
         "line": {
          "color": "green"
         },
         "mode": "lines+markers",
         "name": "Online",
         "type": "scatter",
         "x": {
          "bdata": "AQIDBAUGBwgJCgsMDQ4P",
          "dtype": "i1"
         },
         "y": {
          "bdata": "AAAAAAAAAAAAAAAAAAAAAAAA4wBRAcIBMQKaAhED",
          "dtype": "i2"
         }
        }
       ],
       "layout": {
        "template": {
         "data": {
          "bar": [
           {
            "error_x": {
             "color": "#2a3f5f"
            },
            "error_y": {
             "color": "#2a3f5f"
            },
            "marker": {
             "line": {
              "color": "#E5ECF6",
              "width": 0.5
             },
             "pattern": {
              "fillmode": "overlay",
              "size": 10,
              "solidity": 0.2
             }
            },
            "type": "bar"
           }
          ],
          "barpolar": [
           {
            "marker": {
             "line": {
              "color": "#E5ECF6",
              "width": 0.5
             },
             "pattern": {
              "fillmode": "overlay",
              "size": 10,
              "solidity": 0.2
             }
            },
            "type": "barpolar"
           }
          ],
          "carpet": [
           {
            "aaxis": {
             "endlinecolor": "#2a3f5f",
             "gridcolor": "white",
             "linecolor": "white",
             "minorgridcolor": "white",
             "startlinecolor": "#2a3f5f"
            },
            "baxis": {
             "endlinecolor": "#2a3f5f",
             "gridcolor": "white",
             "linecolor": "white",
             "minorgridcolor": "white",
             "startlinecolor": "#2a3f5f"
            },
            "type": "carpet"
           }
          ],
          "choropleth": [
           {
            "colorbar": {
             "outlinewidth": 0,
             "ticks": ""
            },
            "type": "choropleth"
           }
          ],
          "contour": [
           {
            "colorbar": {
             "outlinewidth": 0,
             "ticks": ""
            },
            "colorscale": [
             [
              0,
              "#0d0887"
             ],
             [
              0.1111111111111111,
              "#46039f"
             ],
             [
              0.2222222222222222,
              "#7201a8"
             ],
             [
              0.3333333333333333,
              "#9c179e"
             ],
             [
              0.4444444444444444,
              "#bd3786"
             ],
             [
              0.5555555555555556,
              "#d8576b"
             ],
             [
              0.6666666666666666,
              "#ed7953"
             ],
             [
              0.7777777777777778,
              "#fb9f3a"
             ],
             [
              0.8888888888888888,
              "#fdca26"
             ],
             [
              1,
              "#f0f921"
             ]
            ],
            "type": "contour"
           }
          ],
          "contourcarpet": [
           {
            "colorbar": {
             "outlinewidth": 0,
             "ticks": ""
            },
            "type": "contourcarpet"
           }
          ],
          "heatmap": [
           {
            "colorbar": {
             "outlinewidth": 0,
             "ticks": ""
            },
            "colorscale": [
             [
              0,
              "#0d0887"
             ],
             [
              0.1111111111111111,
              "#46039f"
             ],
             [
              0.2222222222222222,
              "#7201a8"
             ],
             [
              0.3333333333333333,
              "#9c179e"
             ],
             [
              0.4444444444444444,
              "#bd3786"
             ],
             [
              0.5555555555555556,
              "#d8576b"
             ],
             [
              0.6666666666666666,
              "#ed7953"
             ],
             [
              0.7777777777777778,
              "#fb9f3a"
             ],
             [
              0.8888888888888888,
              "#fdca26"
             ],
             [
              1,
              "#f0f921"
             ]
            ],
            "type": "heatmap"
           }
          ],
          "histogram": [
           {
            "marker": {
             "pattern": {
              "fillmode": "overlay",
              "size": 10,
              "solidity": 0.2
             }
            },
            "type": "histogram"
           }
          ],
          "histogram2d": [
           {
            "colorbar": {
             "outlinewidth": 0,
             "ticks": ""
            },
            "colorscale": [
             [
              0,
              "#0d0887"
             ],
             [
              0.1111111111111111,
              "#46039f"
             ],
             [
              0.2222222222222222,
              "#7201a8"
             ],
             [
              0.3333333333333333,
              "#9c179e"
             ],
             [
              0.4444444444444444,
              "#bd3786"
             ],
             [
              0.5555555555555556,
              "#d8576b"
             ],
             [
              0.6666666666666666,
              "#ed7953"
             ],
             [
              0.7777777777777778,
              "#fb9f3a"
             ],
             [
              0.8888888888888888,
              "#fdca26"
             ],
             [
              1,
              "#f0f921"
             ]
            ],
            "type": "histogram2d"
           }
          ],
          "histogram2dcontour": [
           {
            "colorbar": {
             "outlinewidth": 0,
             "ticks": ""
            },
            "colorscale": [
             [
              0,
              "#0d0887"
             ],
             [
              0.1111111111111111,
              "#46039f"
             ],
             [
              0.2222222222222222,
              "#7201a8"
             ],
             [
              0.3333333333333333,
              "#9c179e"
             ],
             [
              0.4444444444444444,
              "#bd3786"
             ],
             [
              0.5555555555555556,
              "#d8576b"
             ],
             [
              0.6666666666666666,
              "#ed7953"
             ],
             [
              0.7777777777777778,
              "#fb9f3a"
             ],
             [
              0.8888888888888888,
              "#fdca26"
             ],
             [
              1,
              "#f0f921"
             ]
            ],
            "type": "histogram2dcontour"
           }
          ],
          "mesh3d": [
           {
            "colorbar": {
             "outlinewidth": 0,
             "ticks": ""
            },
            "type": "mesh3d"
           }
          ],
          "parcoords": [
           {
            "line": {
             "colorbar": {
              "outlinewidth": 0,
              "ticks": ""
             }
            },
            "type": "parcoords"
           }
          ],
          "pie": [
           {
            "automargin": true,
            "type": "pie"
           }
          ],
          "scatter": [
           {
            "fillpattern": {
             "fillmode": "overlay",
             "size": 10,
             "solidity": 0.2
            },
            "type": "scatter"
           }
          ],
          "scatter3d": [
           {
            "line": {
             "colorbar": {
              "outlinewidth": 0,
              "ticks": ""
             }
            },
            "marker": {
             "colorbar": {
              "outlinewidth": 0,
              "ticks": ""
             }
            },
            "type": "scatter3d"
           }
          ],
          "scattercarpet": [
           {
            "marker": {
             "colorbar": {
              "outlinewidth": 0,
              "ticks": ""
             }
            },
            "type": "scattercarpet"
           }
          ],
          "scattergeo": [
           {
            "marker": {
             "colorbar": {
              "outlinewidth": 0,
              "ticks": ""
             }
            },
            "type": "scattergeo"
           }
          ],
          "scattergl": [
           {
            "marker": {
             "colorbar": {
              "outlinewidth": 0,
              "ticks": ""
             }
            },
            "type": "scattergl"
           }
          ],
          "scattermap": [
           {
            "marker": {
             "colorbar": {
              "outlinewidth": 0,
              "ticks": ""
             }
            },
            "type": "scattermap"
           }
          ],
          "scattermapbox": [
           {
            "marker": {
             "colorbar": {
              "outlinewidth": 0,
              "ticks": ""
             }
            },
            "type": "scattermapbox"
           }
          ],
          "scatterpolar": [
           {
            "marker": {
             "colorbar": {
              "outlinewidth": 0,
              "ticks": ""
             }
            },
            "type": "scatterpolar"
           }
          ],
          "scatterpolargl": [
           {
            "marker": {
             "colorbar": {
              "outlinewidth": 0,
              "ticks": ""
             }
            },
            "type": "scatterpolargl"
           }
          ],
          "scatterternary": [
           {
            "marker": {
             "colorbar": {
              "outlinewidth": 0,
              "ticks": ""
             }
            },
            "type": "scatterternary"
           }
          ],
          "surface": [
           {
            "colorbar": {
             "outlinewidth": 0,
             "ticks": ""
            },
            "colorscale": [
             [
              0,
              "#0d0887"
             ],
             [
              0.1111111111111111,
              "#46039f"
             ],
             [
              0.2222222222222222,
              "#7201a8"
             ],
             [
              0.3333333333333333,
              "#9c179e"
             ],
             [
              0.4444444444444444,
              "#bd3786"
             ],
             [
              0.5555555555555556,
              "#d8576b"
             ],
             [
              0.6666666666666666,
              "#ed7953"
             ],
             [
              0.7777777777777778,
              "#fb9f3a"
             ],
             [
              0.8888888888888888,
              "#fdca26"
             ],
             [
              1,
              "#f0f921"
             ]
            ],
            "type": "surface"
           }
          ],
          "table": [
           {
            "cells": {
             "fill": {
              "color": "#EBF0F8"
             },
             "line": {
              "color": "white"
             }
            },
            "header": {
             "fill": {
              "color": "#C8D4E3"
             },
             "line": {
              "color": "white"
             }
            },
            "type": "table"
           }
          ]
         },
         "layout": {
          "annotationdefaults": {
           "arrowcolor": "#2a3f5f",
           "arrowhead": 0,
           "arrowwidth": 1
          },
          "autotypenumbers": "strict",
          "coloraxis": {
           "colorbar": {
            "outlinewidth": 0,
            "ticks": ""
           }
          },
          "colorscale": {
           "diverging": [
            [
             0,
             "#8e0152"
            ],
            [
             0.1,
             "#c51b7d"
            ],
            [
             0.2,
             "#de77ae"
            ],
            [
             0.3,
             "#f1b6da"
            ],
            [
             0.4,
             "#fde0ef"
            ],
            [
             0.5,
             "#f7f7f7"
            ],
            [
             0.6,
             "#e6f5d0"
            ],
            [
             0.7,
             "#b8e186"
            ],
            [
             0.8,
             "#7fbc41"
            ],
            [
             0.9,
             "#4d9221"
            ],
            [
             1,
             "#276419"
            ]
           ],
           "sequential": [
            [
             0,
             "#0d0887"
            ],
            [
             0.1111111111111111,
             "#46039f"
            ],
            [
             0.2222222222222222,
             "#7201a8"
            ],
            [
             0.3333333333333333,
             "#9c179e"
            ],
            [
             0.4444444444444444,
             "#bd3786"
            ],
            [
             0.5555555555555556,
             "#d8576b"
            ],
            [
             0.6666666666666666,
             "#ed7953"
            ],
            [
             0.7777777777777778,
             "#fb9f3a"
            ],
            [
             0.8888888888888888,
             "#fdca26"
            ],
            [
             1,
             "#f0f921"
            ]
           ],
           "sequentialminus": [
            [
             0,
             "#0d0887"
            ],
            [
             0.1111111111111111,
             "#46039f"
            ],
            [
             0.2222222222222222,
             "#7201a8"
            ],
            [
             0.3333333333333333,
             "#9c179e"
            ],
            [
             0.4444444444444444,
             "#bd3786"
            ],
            [
             0.5555555555555556,
             "#d8576b"
            ],
            [
             0.6666666666666666,
             "#ed7953"
            ],
            [
             0.7777777777777778,
             "#fb9f3a"
            ],
            [
             0.8888888888888888,
             "#fdca26"
            ],
            [
             1,
             "#f0f921"
            ]
           ]
          },
          "colorway": [
           "#636efa",
           "#EF553B",
           "#00cc96",
           "#ab63fa",
           "#FFA15A",
           "#19d3f3",
           "#FF6692",
           "#B6E880",
           "#FF97FF",
           "#FECB52"
          ],
          "font": {
           "color": "#2a3f5f"
          },
          "geo": {
           "bgcolor": "white",
           "lakecolor": "white",
           "landcolor": "#E5ECF6",
           "showlakes": true,
           "showland": true,
           "subunitcolor": "white"
          },
          "hoverlabel": {
           "align": "left"
          },
          "hovermode": "closest",
          "mapbox": {
           "style": "light"
          },
          "paper_bgcolor": "white",
          "plot_bgcolor": "#E5ECF6",
          "polar": {
           "angularaxis": {
            "gridcolor": "white",
            "linecolor": "white",
            "ticks": ""
           },
           "bgcolor": "#E5ECF6",
           "radialaxis": {
            "gridcolor": "white",
            "linecolor": "white",
            "ticks": ""
           }
          },
          "scene": {
           "xaxis": {
            "backgroundcolor": "#E5ECF6",
            "gridcolor": "white",
            "gridwidth": 2,
            "linecolor": "white",
            "showbackground": true,
            "ticks": "",
            "zerolinecolor": "white"
           },
           "yaxis": {
            "backgroundcolor": "#E5ECF6",
            "gridcolor": "white",
            "gridwidth": 2,
            "linecolor": "white",
            "showbackground": true,
            "ticks": "",
            "zerolinecolor": "white"
           },
           "zaxis": {
            "backgroundcolor": "#E5ECF6",
            "gridcolor": "white",
            "gridwidth": 2,
            "linecolor": "white",
            "showbackground": true,
            "ticks": "",
            "zerolinecolor": "white"
           }
          },
          "shapedefaults": {
           "line": {
            "color": "#2a3f5f"
           }
          },
          "ternary": {
           "aaxis": {
            "gridcolor": "white",
            "linecolor": "white",
            "ticks": ""
           },
           "baxis": {
            "gridcolor": "white",
            "linecolor": "white",
            "ticks": ""
           },
           "bgcolor": "#E5ECF6",
           "caxis": {
            "gridcolor": "white",
            "linecolor": "white",
            "ticks": ""
           }
          },
          "title": {
           "x": 0.05
          },
          "xaxis": {
           "automargin": true,
           "gridcolor": "white",
           "linecolor": "white",
           "ticks": "",
           "title": {
            "standoff": 15
           },
           "zerolinecolor": "white",
           "zerolinewidth": 2
          },
          "yaxis": {
           "automargin": true,
           "gridcolor": "white",
           "linecolor": "white",
           "ticks": "",
           "title": {
            "standoff": 15
           },
           "zerolinecolor": "white",
           "zerolinewidth": 2
          }
         }
        },
        "title": {
         "text": "Project Counts Over Time (Total)"
        },
        "xaxis": {
         "title": {
          "text": "Model Step"
         }
        },
        "yaxis": {
         "title": {
          "text": "Number of Projects"
         }
        }
       }
      }
     },
     "metadata": {},
     "output_type": "display_data"
    },
    {
     "data": {
      "application/vnd.plotly.v1+json": {
       "config": {
        "plotlyServerURL": "https://plot.ly"
       },
       "data": [
        {
         "mode": "lines+markers",
         "name": "Dropped_out ERIS",
         "type": "scatter",
         "x": {
          "bdata": "AQIDBAUGBwgJCgsMDQ4P",
          "dtype": "i1"
         },
         "y": {
          "bdata": "YwG7ALUAuQDAAK4ApwC5ALgAswC5ALIAtgC3AKkA",
          "dtype": "i2"
         }
        },
        {
         "mode": "lines+markers",
         "name": "Dropped_out NRIS",
         "type": "scatter",
         "x": {
          "bdata": "AQIDBAUGBwgJCgsMDQ4P",
          "dtype": "i1"
         },
         "y": {
          "bdata": "KA4RDw4SEBQSFBYTEQwT",
          "dtype": "i1"
         }
        },
        {
         "mode": "lines+markers",
         "name": "Pending ERIS",
         "type": "scatter",
         "x": {
          "bdata": "AQIDBAUGBwgJCgsMDQ4P",
          "dtype": "i1"
         },
         "y": {
          "bdata": "AAAAAAAAAAAAAAAAAAAA",
          "dtype": "i1"
         }
        },
        {
         "mode": "lines+markers",
         "name": "Pending NRIS",
         "type": "scatter",
         "x": {
          "bdata": "AQIDBAUGBwgJCgsMDQ4P",
          "dtype": "i1"
         },
         "y": {
          "bdata": "4wBRAcIBMQKaAhEDkQP7A2gE9QPvA/AD8QP8AwAE",
          "dtype": "i2"
         }
        },
        {
         "mode": "lines+markers",
         "name": "Online ERIS",
         "type": "scatter",
         "x": {
          "bdata": "AQIDBAUGBwgJCgsMDQ4P",
          "dtype": "i1"
         },
         "y": {
          "bdata": "AAAAAAAAAAAAAAAAAAAA",
          "dtype": "i1"
         }
        },
        {
         "mode": "lines+markers",
         "name": "Online NRIS",
         "type": "scatter",
         "x": {
          "bdata": "AQIDBAUGBwgJCgsMDQ4P",
          "dtype": "i1"
         },
         "y": {
          "bdata": "AAAAAAAAAAAAAAAAAAAAAAAA4wBRAcIBMQKaAhED",
          "dtype": "i2"
         }
        }
       ],
       "layout": {
        "template": {
         "data": {
          "bar": [
           {
            "error_x": {
             "color": "#2a3f5f"
            },
            "error_y": {
             "color": "#2a3f5f"
            },
            "marker": {
             "line": {
              "color": "#E5ECF6",
              "width": 0.5
             },
             "pattern": {
              "fillmode": "overlay",
              "size": 10,
              "solidity": 0.2
             }
            },
            "type": "bar"
           }
          ],
          "barpolar": [
           {
            "marker": {
             "line": {
              "color": "#E5ECF6",
              "width": 0.5
             },
             "pattern": {
              "fillmode": "overlay",
              "size": 10,
              "solidity": 0.2
             }
            },
            "type": "barpolar"
           }
          ],
          "carpet": [
           {
            "aaxis": {
             "endlinecolor": "#2a3f5f",
             "gridcolor": "white",
             "linecolor": "white",
             "minorgridcolor": "white",
             "startlinecolor": "#2a3f5f"
            },
            "baxis": {
             "endlinecolor": "#2a3f5f",
             "gridcolor": "white",
             "linecolor": "white",
             "minorgridcolor": "white",
             "startlinecolor": "#2a3f5f"
            },
            "type": "carpet"
           }
          ],
          "choropleth": [
           {
            "colorbar": {
             "outlinewidth": 0,
             "ticks": ""
            },
            "type": "choropleth"
           }
          ],
          "contour": [
           {
            "colorbar": {
             "outlinewidth": 0,
             "ticks": ""
            },
            "colorscale": [
             [
              0,
              "#0d0887"
             ],
             [
              0.1111111111111111,
              "#46039f"
             ],
             [
              0.2222222222222222,
              "#7201a8"
             ],
             [
              0.3333333333333333,
              "#9c179e"
             ],
             [
              0.4444444444444444,
              "#bd3786"
             ],
             [
              0.5555555555555556,
              "#d8576b"
             ],
             [
              0.6666666666666666,
              "#ed7953"
             ],
             [
              0.7777777777777778,
              "#fb9f3a"
             ],
             [
              0.8888888888888888,
              "#fdca26"
             ],
             [
              1,
              "#f0f921"
             ]
            ],
            "type": "contour"
           }
          ],
          "contourcarpet": [
           {
            "colorbar": {
             "outlinewidth": 0,
             "ticks": ""
            },
            "type": "contourcarpet"
           }
          ],
          "heatmap": [
           {
            "colorbar": {
             "outlinewidth": 0,
             "ticks": ""
            },
            "colorscale": [
             [
              0,
              "#0d0887"
             ],
             [
              0.1111111111111111,
              "#46039f"
             ],
             [
              0.2222222222222222,
              "#7201a8"
             ],
             [
              0.3333333333333333,
              "#9c179e"
             ],
             [
              0.4444444444444444,
              "#bd3786"
             ],
             [
              0.5555555555555556,
              "#d8576b"
             ],
             [
              0.6666666666666666,
              "#ed7953"
             ],
             [
              0.7777777777777778,
              "#fb9f3a"
             ],
             [
              0.8888888888888888,
              "#fdca26"
             ],
             [
              1,
              "#f0f921"
             ]
            ],
            "type": "heatmap"
           }
          ],
          "histogram": [
           {
            "marker": {
             "pattern": {
              "fillmode": "overlay",
              "size": 10,
              "solidity": 0.2
             }
            },
            "type": "histogram"
           }
          ],
          "histogram2d": [
           {
            "colorbar": {
             "outlinewidth": 0,
             "ticks": ""
            },
            "colorscale": [
             [
              0,
              "#0d0887"
             ],
             [
              0.1111111111111111,
              "#46039f"
             ],
             [
              0.2222222222222222,
              "#7201a8"
             ],
             [
              0.3333333333333333,
              "#9c179e"
             ],
             [
              0.4444444444444444,
              "#bd3786"
             ],
             [
              0.5555555555555556,
              "#d8576b"
             ],
             [
              0.6666666666666666,
              "#ed7953"
             ],
             [
              0.7777777777777778,
              "#fb9f3a"
             ],
             [
              0.8888888888888888,
              "#fdca26"
             ],
             [
              1,
              "#f0f921"
             ]
            ],
            "type": "histogram2d"
           }
          ],
          "histogram2dcontour": [
           {
            "colorbar": {
             "outlinewidth": 0,
             "ticks": ""
            },
            "colorscale": [
             [
              0,
              "#0d0887"
             ],
             [
              0.1111111111111111,
              "#46039f"
             ],
             [
              0.2222222222222222,
              "#7201a8"
             ],
             [
              0.3333333333333333,
              "#9c179e"
             ],
             [
              0.4444444444444444,
              "#bd3786"
             ],
             [
              0.5555555555555556,
              "#d8576b"
             ],
             [
              0.6666666666666666,
              "#ed7953"
             ],
             [
              0.7777777777777778,
              "#fb9f3a"
             ],
             [
              0.8888888888888888,
              "#fdca26"
             ],
             [
              1,
              "#f0f921"
             ]
            ],
            "type": "histogram2dcontour"
           }
          ],
          "mesh3d": [
           {
            "colorbar": {
             "outlinewidth": 0,
             "ticks": ""
            },
            "type": "mesh3d"
           }
          ],
          "parcoords": [
           {
            "line": {
             "colorbar": {
              "outlinewidth": 0,
              "ticks": ""
             }
            },
            "type": "parcoords"
           }
          ],
          "pie": [
           {
            "automargin": true,
            "type": "pie"
           }
          ],
          "scatter": [
           {
            "fillpattern": {
             "fillmode": "overlay",
             "size": 10,
             "solidity": 0.2
            },
            "type": "scatter"
           }
          ],
          "scatter3d": [
           {
            "line": {
             "colorbar": {
              "outlinewidth": 0,
              "ticks": ""
             }
            },
            "marker": {
             "colorbar": {
              "outlinewidth": 0,
              "ticks": ""
             }
            },
            "type": "scatter3d"
           }
          ],
          "scattercarpet": [
           {
            "marker": {
             "colorbar": {
              "outlinewidth": 0,
              "ticks": ""
             }
            },
            "type": "scattercarpet"
           }
          ],
          "scattergeo": [
           {
            "marker": {
             "colorbar": {
              "outlinewidth": 0,
              "ticks": ""
             }
            },
            "type": "scattergeo"
           }
          ],
          "scattergl": [
           {
            "marker": {
             "colorbar": {
              "outlinewidth": 0,
              "ticks": ""
             }
            },
            "type": "scattergl"
           }
          ],
          "scattermap": [
           {
            "marker": {
             "colorbar": {
              "outlinewidth": 0,
              "ticks": ""
             }
            },
            "type": "scattermap"
           }
          ],
          "scattermapbox": [
           {
            "marker": {
             "colorbar": {
              "outlinewidth": 0,
              "ticks": ""
             }
            },
            "type": "scattermapbox"
           }
          ],
          "scatterpolar": [
           {
            "marker": {
             "colorbar": {
              "outlinewidth": 0,
              "ticks": ""
             }
            },
            "type": "scatterpolar"
           }
          ],
          "scatterpolargl": [
           {
            "marker": {
             "colorbar": {
              "outlinewidth": 0,
              "ticks": ""
             }
            },
            "type": "scatterpolargl"
           }
          ],
          "scatterternary": [
           {
            "marker": {
             "colorbar": {
              "outlinewidth": 0,
              "ticks": ""
             }
            },
            "type": "scatterternary"
           }
          ],
          "surface": [
           {
            "colorbar": {
             "outlinewidth": 0,
             "ticks": ""
            },
            "colorscale": [
             [
              0,
              "#0d0887"
             ],
             [
              0.1111111111111111,
              "#46039f"
             ],
             [
              0.2222222222222222,
              "#7201a8"
             ],
             [
              0.3333333333333333,
              "#9c179e"
             ],
             [
              0.4444444444444444,
              "#bd3786"
             ],
             [
              0.5555555555555556,
              "#d8576b"
             ],
             [
              0.6666666666666666,
              "#ed7953"
             ],
             [
              0.7777777777777778,
              "#fb9f3a"
             ],
             [
              0.8888888888888888,
              "#fdca26"
             ],
             [
              1,
              "#f0f921"
             ]
            ],
            "type": "surface"
           }
          ],
          "table": [
           {
            "cells": {
             "fill": {
              "color": "#EBF0F8"
             },
             "line": {
              "color": "white"
             }
            },
            "header": {
             "fill": {
              "color": "#C8D4E3"
             },
             "line": {
              "color": "white"
             }
            },
            "type": "table"
           }
          ]
         },
         "layout": {
          "annotationdefaults": {
           "arrowcolor": "#2a3f5f",
           "arrowhead": 0,
           "arrowwidth": 1
          },
          "autotypenumbers": "strict",
          "coloraxis": {
           "colorbar": {
            "outlinewidth": 0,
            "ticks": ""
           }
          },
          "colorscale": {
           "diverging": [
            [
             0,
             "#8e0152"
            ],
            [
             0.1,
             "#c51b7d"
            ],
            [
             0.2,
             "#de77ae"
            ],
            [
             0.3,
             "#f1b6da"
            ],
            [
             0.4,
             "#fde0ef"
            ],
            [
             0.5,
             "#f7f7f7"
            ],
            [
             0.6,
             "#e6f5d0"
            ],
            [
             0.7,
             "#b8e186"
            ],
            [
             0.8,
             "#7fbc41"
            ],
            [
             0.9,
             "#4d9221"
            ],
            [
             1,
             "#276419"
            ]
           ],
           "sequential": [
            [
             0,
             "#0d0887"
            ],
            [
             0.1111111111111111,
             "#46039f"
            ],
            [
             0.2222222222222222,
             "#7201a8"
            ],
            [
             0.3333333333333333,
             "#9c179e"
            ],
            [
             0.4444444444444444,
             "#bd3786"
            ],
            [
             0.5555555555555556,
             "#d8576b"
            ],
            [
             0.6666666666666666,
             "#ed7953"
            ],
            [
             0.7777777777777778,
             "#fb9f3a"
            ],
            [
             0.8888888888888888,
             "#fdca26"
            ],
            [
             1,
             "#f0f921"
            ]
           ],
           "sequentialminus": [
            [
             0,
             "#0d0887"
            ],
            [
             0.1111111111111111,
             "#46039f"
            ],
            [
             0.2222222222222222,
             "#7201a8"
            ],
            [
             0.3333333333333333,
             "#9c179e"
            ],
            [
             0.4444444444444444,
             "#bd3786"
            ],
            [
             0.5555555555555556,
             "#d8576b"
            ],
            [
             0.6666666666666666,
             "#ed7953"
            ],
            [
             0.7777777777777778,
             "#fb9f3a"
            ],
            [
             0.8888888888888888,
             "#fdca26"
            ],
            [
             1,
             "#f0f921"
            ]
           ]
          },
          "colorway": [
           "#636efa",
           "#EF553B",
           "#00cc96",
           "#ab63fa",
           "#FFA15A",
           "#19d3f3",
           "#FF6692",
           "#B6E880",
           "#FF97FF",
           "#FECB52"
          ],
          "font": {
           "color": "#2a3f5f"
          },
          "geo": {
           "bgcolor": "white",
           "lakecolor": "white",
           "landcolor": "#E5ECF6",
           "showlakes": true,
           "showland": true,
           "subunitcolor": "white"
          },
          "hoverlabel": {
           "align": "left"
          },
          "hovermode": "closest",
          "mapbox": {
           "style": "light"
          },
          "paper_bgcolor": "white",
          "plot_bgcolor": "#E5ECF6",
          "polar": {
           "angularaxis": {
            "gridcolor": "white",
            "linecolor": "white",
            "ticks": ""
           },
           "bgcolor": "#E5ECF6",
           "radialaxis": {
            "gridcolor": "white",
            "linecolor": "white",
            "ticks": ""
           }
          },
          "scene": {
           "xaxis": {
            "backgroundcolor": "#E5ECF6",
            "gridcolor": "white",
            "gridwidth": 2,
            "linecolor": "white",
            "showbackground": true,
            "ticks": "",
            "zerolinecolor": "white"
           },
           "yaxis": {
            "backgroundcolor": "#E5ECF6",
            "gridcolor": "white",
            "gridwidth": 2,
            "linecolor": "white",
            "showbackground": true,
            "ticks": "",
            "zerolinecolor": "white"
           },
           "zaxis": {
            "backgroundcolor": "#E5ECF6",
            "gridcolor": "white",
            "gridwidth": 2,
            "linecolor": "white",
            "showbackground": true,
            "ticks": "",
            "zerolinecolor": "white"
           }
          },
          "shapedefaults": {
           "line": {
            "color": "#2a3f5f"
           }
          },
          "ternary": {
           "aaxis": {
            "gridcolor": "white",
            "linecolor": "white",
            "ticks": ""
           },
           "baxis": {
            "gridcolor": "white",
            "linecolor": "white",
            "ticks": ""
           },
           "bgcolor": "#E5ECF6",
           "caxis": {
            "gridcolor": "white",
            "linecolor": "white",
            "ticks": ""
           }
          },
          "title": {
           "x": 0.05
          },
          "xaxis": {
           "automargin": true,
           "gridcolor": "white",
           "linecolor": "white",
           "ticks": "",
           "title": {
            "standoff": 15
           },
           "zerolinecolor": "white",
           "zerolinewidth": 2
          },
          "yaxis": {
           "automargin": true,
           "gridcolor": "white",
           "linecolor": "white",
           "ticks": "",
           "title": {
            "standoff": 15
           },
           "zerolinecolor": "white",
           "zerolinewidth": 2
          }
         }
        },
        "title": {
         "text": "Project Counts Over Time by Service Type"
        },
        "xaxis": {
         "title": {
          "text": "Model Step"
         }
        },
        "yaxis": {
         "title": {
          "text": "Number of Projects"
         }
        }
       }
      }
     },
     "metadata": {},
     "output_type": "display_data"
    },
    {
     "data": {
      "application/vnd.plotly.v1+json": {
       "config": {
        "plotlyServerURL": "https://plot.ly"
       },
       "data": [
        {
         "mode": "lines+markers",
         "name": "Dropped_out ERIS MW",
         "type": "scatter",
         "x": {
          "bdata": "AQIDBAUGBwgJCgsMDQ4P",
          "dtype": "i1"
         },
         "y": {
          "bdata": "mpmZmfkb50CuR+F6lGHYQD0K16OwudZAPQrXo7AA10BI4XoUrvDZQD0K16OQdNdAuB6F6zF900A9CtejwAjYQBSuR+F6b9lASOF6FJ4k2ECkcD0Kx9bYQArXo3A9ENZAKVyPwhXd2EB7FK5HUSzXQIXrUbhe9dVA",
          "dtype": "f8"
         }
        },
        {
         "mode": "lines+markers",
         "name": "Dropped_out NRIS MW",
         "type": "scatter",
         "x": {
          "bdata": "AQIDBAUGBwgJCgsMDQ4P",
          "dtype": "i1"
         },
         "y": {
          "bdata": "MzMzM/ORw0AAAAAAAHawQAAAAAAAx7JAmpmZmZlmskCamZmZmY6sQJqZmZmZ9bNAmpmZmZmftEBmZmZmZhC0QM3MzMxMwrFAZmZmZmbGtUCamZmZmSq3QGZmZmZmHbZAZmZmZmYosEAAAAAAAOStQM3MzMzMlbNA",
          "dtype": "f8"
         }
        },
        {
         "mode": "lines+markers",
         "name": "Pending ERIS MW",
         "type": "scatter",
         "x": {
          "bdata": "AQIDBAUGBwgJCgsMDQ4P",
          "dtype": "i1"
         },
         "y": {
          "bdata": "AAAAAAAAAAAAAAAAAAAA",
          "dtype": "i1"
         }
        },
        {
         "mode": "lines+markers",
         "name": "Pending NRIS MW",
         "type": "scatter",
         "x": {
          "bdata": "AQIDBAUGBwgJCgsMDQ4P",
          "dtype": "i1"
         },
         "y": {
          "bdata": "XI/C9aim10DhehSur33hQM3MzMzcsedAhetRuJbO7UApXI/CnXvxQIXrUbgSVPRAw/UoXL8f+EBSuB6Fe9H6QIXrUbhqTv1AexSuRyX0+UCkcD0Kj2v5QArXo3CFYPlAw/UoXE8N+UDD9Shcu7P5QD0K16OEGfpA",
          "dtype": "f8"
         }
        },
        {
         "mode": "lines+markers",
         "name": "Online ERIS MW",
         "type": "scatter",
         "x": {
          "bdata": "AQIDBAUGBwgJCgsMDQ4P",
          "dtype": "i1"
         },
         "y": {
          "bdata": "AAAAAAAAAAAAAAAAAAAA",
          "dtype": "i1"
         }
        },
        {
         "mode": "lines+markers",
         "name": "Online NRIS MW",
         "type": "scatter",
         "x": {
          "bdata": "AQIDBAUGBwgJCgsMDQ4P",
          "dtype": "i1"
         },
         "y": {
          "bdata": "AAAAAAAAAAAAAAAAAAAAAAAAAAAAAAAAAAAAAAAAAAAAAAAAAAAAAAAAAAAAAAAAAAAAAAAAAAAAAAAAAAAAAAAAAAAAAAAAXI/C9aim10DhehSur33hQM3MzMzcsedAhetRuJbO7UApXI/CnXvxQIXrUbgSVPRA",
          "dtype": "f8"
         }
        }
       ],
       "layout": {
        "template": {
         "data": {
          "bar": [
           {
            "error_x": {
             "color": "#2a3f5f"
            },
            "error_y": {
             "color": "#2a3f5f"
            },
            "marker": {
             "line": {
              "color": "#E5ECF6",
              "width": 0.5
             },
             "pattern": {
              "fillmode": "overlay",
              "size": 10,
              "solidity": 0.2
             }
            },
            "type": "bar"
           }
          ],
          "barpolar": [
           {
            "marker": {
             "line": {
              "color": "#E5ECF6",
              "width": 0.5
             },
             "pattern": {
              "fillmode": "overlay",
              "size": 10,
              "solidity": 0.2
             }
            },
            "type": "barpolar"
           }
          ],
          "carpet": [
           {
            "aaxis": {
             "endlinecolor": "#2a3f5f",
             "gridcolor": "white",
             "linecolor": "white",
             "minorgridcolor": "white",
             "startlinecolor": "#2a3f5f"
            },
            "baxis": {
             "endlinecolor": "#2a3f5f",
             "gridcolor": "white",
             "linecolor": "white",
             "minorgridcolor": "white",
             "startlinecolor": "#2a3f5f"
            },
            "type": "carpet"
           }
          ],
          "choropleth": [
           {
            "colorbar": {
             "outlinewidth": 0,
             "ticks": ""
            },
            "type": "choropleth"
           }
          ],
          "contour": [
           {
            "colorbar": {
             "outlinewidth": 0,
             "ticks": ""
            },
            "colorscale": [
             [
              0,
              "#0d0887"
             ],
             [
              0.1111111111111111,
              "#46039f"
             ],
             [
              0.2222222222222222,
              "#7201a8"
             ],
             [
              0.3333333333333333,
              "#9c179e"
             ],
             [
              0.4444444444444444,
              "#bd3786"
             ],
             [
              0.5555555555555556,
              "#d8576b"
             ],
             [
              0.6666666666666666,
              "#ed7953"
             ],
             [
              0.7777777777777778,
              "#fb9f3a"
             ],
             [
              0.8888888888888888,
              "#fdca26"
             ],
             [
              1,
              "#f0f921"
             ]
            ],
            "type": "contour"
           }
          ],
          "contourcarpet": [
           {
            "colorbar": {
             "outlinewidth": 0,
             "ticks": ""
            },
            "type": "contourcarpet"
           }
          ],
          "heatmap": [
           {
            "colorbar": {
             "outlinewidth": 0,
             "ticks": ""
            },
            "colorscale": [
             [
              0,
              "#0d0887"
             ],
             [
              0.1111111111111111,
              "#46039f"
             ],
             [
              0.2222222222222222,
              "#7201a8"
             ],
             [
              0.3333333333333333,
              "#9c179e"
             ],
             [
              0.4444444444444444,
              "#bd3786"
             ],
             [
              0.5555555555555556,
              "#d8576b"
             ],
             [
              0.6666666666666666,
              "#ed7953"
             ],
             [
              0.7777777777777778,
              "#fb9f3a"
             ],
             [
              0.8888888888888888,
              "#fdca26"
             ],
             [
              1,
              "#f0f921"
             ]
            ],
            "type": "heatmap"
           }
          ],
          "histogram": [
           {
            "marker": {
             "pattern": {
              "fillmode": "overlay",
              "size": 10,
              "solidity": 0.2
             }
            },
            "type": "histogram"
           }
          ],
          "histogram2d": [
           {
            "colorbar": {
             "outlinewidth": 0,
             "ticks": ""
            },
            "colorscale": [
             [
              0,
              "#0d0887"
             ],
             [
              0.1111111111111111,
              "#46039f"
             ],
             [
              0.2222222222222222,
              "#7201a8"
             ],
             [
              0.3333333333333333,
              "#9c179e"
             ],
             [
              0.4444444444444444,
              "#bd3786"
             ],
             [
              0.5555555555555556,
              "#d8576b"
             ],
             [
              0.6666666666666666,
              "#ed7953"
             ],
             [
              0.7777777777777778,
              "#fb9f3a"
             ],
             [
              0.8888888888888888,
              "#fdca26"
             ],
             [
              1,
              "#f0f921"
             ]
            ],
            "type": "histogram2d"
           }
          ],
          "histogram2dcontour": [
           {
            "colorbar": {
             "outlinewidth": 0,
             "ticks": ""
            },
            "colorscale": [
             [
              0,
              "#0d0887"
             ],
             [
              0.1111111111111111,
              "#46039f"
             ],
             [
              0.2222222222222222,
              "#7201a8"
             ],
             [
              0.3333333333333333,
              "#9c179e"
             ],
             [
              0.4444444444444444,
              "#bd3786"
             ],
             [
              0.5555555555555556,
              "#d8576b"
             ],
             [
              0.6666666666666666,
              "#ed7953"
             ],
             [
              0.7777777777777778,
              "#fb9f3a"
             ],
             [
              0.8888888888888888,
              "#fdca26"
             ],
             [
              1,
              "#f0f921"
             ]
            ],
            "type": "histogram2dcontour"
           }
          ],
          "mesh3d": [
           {
            "colorbar": {
             "outlinewidth": 0,
             "ticks": ""
            },
            "type": "mesh3d"
           }
          ],
          "parcoords": [
           {
            "line": {
             "colorbar": {
              "outlinewidth": 0,
              "ticks": ""
             }
            },
            "type": "parcoords"
           }
          ],
          "pie": [
           {
            "automargin": true,
            "type": "pie"
           }
          ],
          "scatter": [
           {
            "fillpattern": {
             "fillmode": "overlay",
             "size": 10,
             "solidity": 0.2
            },
            "type": "scatter"
           }
          ],
          "scatter3d": [
           {
            "line": {
             "colorbar": {
              "outlinewidth": 0,
              "ticks": ""
             }
            },
            "marker": {
             "colorbar": {
              "outlinewidth": 0,
              "ticks": ""
             }
            },
            "type": "scatter3d"
           }
          ],
          "scattercarpet": [
           {
            "marker": {
             "colorbar": {
              "outlinewidth": 0,
              "ticks": ""
             }
            },
            "type": "scattercarpet"
           }
          ],
          "scattergeo": [
           {
            "marker": {
             "colorbar": {
              "outlinewidth": 0,
              "ticks": ""
             }
            },
            "type": "scattergeo"
           }
          ],
          "scattergl": [
           {
            "marker": {
             "colorbar": {
              "outlinewidth": 0,
              "ticks": ""
             }
            },
            "type": "scattergl"
           }
          ],
          "scattermap": [
           {
            "marker": {
             "colorbar": {
              "outlinewidth": 0,
              "ticks": ""
             }
            },
            "type": "scattermap"
           }
          ],
          "scattermapbox": [
           {
            "marker": {
             "colorbar": {
              "outlinewidth": 0,
              "ticks": ""
             }
            },
            "type": "scattermapbox"
           }
          ],
          "scatterpolar": [
           {
            "marker": {
             "colorbar": {
              "outlinewidth": 0,
              "ticks": ""
             }
            },
            "type": "scatterpolar"
           }
          ],
          "scatterpolargl": [
           {
            "marker": {
             "colorbar": {
              "outlinewidth": 0,
              "ticks": ""
             }
            },
            "type": "scatterpolargl"
           }
          ],
          "scatterternary": [
           {
            "marker": {
             "colorbar": {
              "outlinewidth": 0,
              "ticks": ""
             }
            },
            "type": "scatterternary"
           }
          ],
          "surface": [
           {
            "colorbar": {
             "outlinewidth": 0,
             "ticks": ""
            },
            "colorscale": [
             [
              0,
              "#0d0887"
             ],
             [
              0.1111111111111111,
              "#46039f"
             ],
             [
              0.2222222222222222,
              "#7201a8"
             ],
             [
              0.3333333333333333,
              "#9c179e"
             ],
             [
              0.4444444444444444,
              "#bd3786"
             ],
             [
              0.5555555555555556,
              "#d8576b"
             ],
             [
              0.6666666666666666,
              "#ed7953"
             ],
             [
              0.7777777777777778,
              "#fb9f3a"
             ],
             [
              0.8888888888888888,
              "#fdca26"
             ],
             [
              1,
              "#f0f921"
             ]
            ],
            "type": "surface"
           }
          ],
          "table": [
           {
            "cells": {
             "fill": {
              "color": "#EBF0F8"
             },
             "line": {
              "color": "white"
             }
            },
            "header": {
             "fill": {
              "color": "#C8D4E3"
             },
             "line": {
              "color": "white"
             }
            },
            "type": "table"
           }
          ]
         },
         "layout": {
          "annotationdefaults": {
           "arrowcolor": "#2a3f5f",
           "arrowhead": 0,
           "arrowwidth": 1
          },
          "autotypenumbers": "strict",
          "coloraxis": {
           "colorbar": {
            "outlinewidth": 0,
            "ticks": ""
           }
          },
          "colorscale": {
           "diverging": [
            [
             0,
             "#8e0152"
            ],
            [
             0.1,
             "#c51b7d"
            ],
            [
             0.2,
             "#de77ae"
            ],
            [
             0.3,
             "#f1b6da"
            ],
            [
             0.4,
             "#fde0ef"
            ],
            [
             0.5,
             "#f7f7f7"
            ],
            [
             0.6,
             "#e6f5d0"
            ],
            [
             0.7,
             "#b8e186"
            ],
            [
             0.8,
             "#7fbc41"
            ],
            [
             0.9,
             "#4d9221"
            ],
            [
             1,
             "#276419"
            ]
           ],
           "sequential": [
            [
             0,
             "#0d0887"
            ],
            [
             0.1111111111111111,
             "#46039f"
            ],
            [
             0.2222222222222222,
             "#7201a8"
            ],
            [
             0.3333333333333333,
             "#9c179e"
            ],
            [
             0.4444444444444444,
             "#bd3786"
            ],
            [
             0.5555555555555556,
             "#d8576b"
            ],
            [
             0.6666666666666666,
             "#ed7953"
            ],
            [
             0.7777777777777778,
             "#fb9f3a"
            ],
            [
             0.8888888888888888,
             "#fdca26"
            ],
            [
             1,
             "#f0f921"
            ]
           ],
           "sequentialminus": [
            [
             0,
             "#0d0887"
            ],
            [
             0.1111111111111111,
             "#46039f"
            ],
            [
             0.2222222222222222,
             "#7201a8"
            ],
            [
             0.3333333333333333,
             "#9c179e"
            ],
            [
             0.4444444444444444,
             "#bd3786"
            ],
            [
             0.5555555555555556,
             "#d8576b"
            ],
            [
             0.6666666666666666,
             "#ed7953"
            ],
            [
             0.7777777777777778,
             "#fb9f3a"
            ],
            [
             0.8888888888888888,
             "#fdca26"
            ],
            [
             1,
             "#f0f921"
            ]
           ]
          },
          "colorway": [
           "#636efa",
           "#EF553B",
           "#00cc96",
           "#ab63fa",
           "#FFA15A",
           "#19d3f3",
           "#FF6692",
           "#B6E880",
           "#FF97FF",
           "#FECB52"
          ],
          "font": {
           "color": "#2a3f5f"
          },
          "geo": {
           "bgcolor": "white",
           "lakecolor": "white",
           "landcolor": "#E5ECF6",
           "showlakes": true,
           "showland": true,
           "subunitcolor": "white"
          },
          "hoverlabel": {
           "align": "left"
          },
          "hovermode": "closest",
          "mapbox": {
           "style": "light"
          },
          "paper_bgcolor": "white",
          "plot_bgcolor": "#E5ECF6",
          "polar": {
           "angularaxis": {
            "gridcolor": "white",
            "linecolor": "white",
            "ticks": ""
           },
           "bgcolor": "#E5ECF6",
           "radialaxis": {
            "gridcolor": "white",
            "linecolor": "white",
            "ticks": ""
           }
          },
          "scene": {
           "xaxis": {
            "backgroundcolor": "#E5ECF6",
            "gridcolor": "white",
            "gridwidth": 2,
            "linecolor": "white",
            "showbackground": true,
            "ticks": "",
            "zerolinecolor": "white"
           },
           "yaxis": {
            "backgroundcolor": "#E5ECF6",
            "gridcolor": "white",
            "gridwidth": 2,
            "linecolor": "white",
            "showbackground": true,
            "ticks": "",
            "zerolinecolor": "white"
           },
           "zaxis": {
            "backgroundcolor": "#E5ECF6",
            "gridcolor": "white",
            "gridwidth": 2,
            "linecolor": "white",
            "showbackground": true,
            "ticks": "",
            "zerolinecolor": "white"
           }
          },
          "shapedefaults": {
           "line": {
            "color": "#2a3f5f"
           }
          },
          "ternary": {
           "aaxis": {
            "gridcolor": "white",
            "linecolor": "white",
            "ticks": ""
           },
           "baxis": {
            "gridcolor": "white",
            "linecolor": "white",
            "ticks": ""
           },
           "bgcolor": "#E5ECF6",
           "caxis": {
            "gridcolor": "white",
            "linecolor": "white",
            "ticks": ""
           }
          },
          "title": {
           "x": 0.05
          },
          "xaxis": {
           "automargin": true,
           "gridcolor": "white",
           "linecolor": "white",
           "ticks": "",
           "title": {
            "standoff": 15
           },
           "zerolinecolor": "white",
           "zerolinewidth": 2
          },
          "yaxis": {
           "automargin": true,
           "gridcolor": "white",
           "linecolor": "white",
           "ticks": "",
           "title": {
            "standoff": 15
           },
           "zerolinecolor": "white",
           "zerolinewidth": 2
          }
         }
        },
        "title": {
         "text": "MW Sums Over Time by Status & Service Type"
        },
        "xaxis": {
         "title": {
          "text": "Model Step"
         }
        },
        "yaxis": {
         "title": {
          "text": "MW"
         }
        }
       }
      }
     },
     "metadata": {},
     "output_type": "display_data"
    },
    {
     "data": {
      "application/vnd.plotly.v1+json": {
       "config": {
        "plotlyServerURL": "https://plot.ly"
       },
       "data": [
        {
         "line": {
          "color": "blue"
         },
         "mode": "lines+markers",
         "name": "Avg Construction Time (All)",
         "type": "scatter",
         "x": {
          "bdata": "AQIDBAUGBwgJCgsMDQ4P",
          "dtype": "i1"
         },
         "y": {
          "bdata": "AAAAAAAAHEAAAAAAAAAcQAAAAAAAABxAAAAAAAAAHEAAAAAAAAAcQAAAAAAAABxAAAAAAAAAHEAAAAAAAAAcQAAAAAAAABxAAAAAAAAAHEAAAAAAAAAcQAAAAAAAABxAAAAAAAAAHEAAAAAAAAAcQAAAAAAAABxA",
          "dtype": "f8"
         }
        },
        {
         "line": {
          "color": "green",
          "dash": "dash"
         },
         "mode": "lines+markers",
         "name": "Avg Construction Time (ERIS)",
         "type": "scatter",
         "x": {
          "bdata": "AQIDBAUGBwgJCgsMDQ4P",
          "dtype": "i1"
         },
         "y": {
          "bdata": "AAAAAAAAAAAAAAAAAAAA",
          "dtype": "i1"
         }
        },
        {
         "line": {
          "color": "red",
          "dash": "dot"
         },
         "mode": "lines+markers",
         "name": "Avg Construction Time (NRIS)",
         "type": "scatter",
         "x": {
          "bdata": "AQIDBAUGBwgJCgsMDQ4P",
          "dtype": "i1"
         },
         "y": {
          "bdata": "AAAAAAAAHEAAAAAAAAAcQAAAAAAAABxAAAAAAAAAHEAAAAAAAAAcQAAAAAAAABxAAAAAAAAAHEAAAAAAAAAcQAAAAAAAABxAAAAAAAAAHEAAAAAAAAAcQAAAAAAAABxAAAAAAAAAHEAAAAAAAAAcQAAAAAAAABxA",
          "dtype": "f8"
         }
        }
       ],
       "layout": {
        "template": {
         "data": {
          "bar": [
           {
            "error_x": {
             "color": "#2a3f5f"
            },
            "error_y": {
             "color": "#2a3f5f"
            },
            "marker": {
             "line": {
              "color": "#E5ECF6",
              "width": 0.5
             },
             "pattern": {
              "fillmode": "overlay",
              "size": 10,
              "solidity": 0.2
             }
            },
            "type": "bar"
           }
          ],
          "barpolar": [
           {
            "marker": {
             "line": {
              "color": "#E5ECF6",
              "width": 0.5
             },
             "pattern": {
              "fillmode": "overlay",
              "size": 10,
              "solidity": 0.2
             }
            },
            "type": "barpolar"
           }
          ],
          "carpet": [
           {
            "aaxis": {
             "endlinecolor": "#2a3f5f",
             "gridcolor": "white",
             "linecolor": "white",
             "minorgridcolor": "white",
             "startlinecolor": "#2a3f5f"
            },
            "baxis": {
             "endlinecolor": "#2a3f5f",
             "gridcolor": "white",
             "linecolor": "white",
             "minorgridcolor": "white",
             "startlinecolor": "#2a3f5f"
            },
            "type": "carpet"
           }
          ],
          "choropleth": [
           {
            "colorbar": {
             "outlinewidth": 0,
             "ticks": ""
            },
            "type": "choropleth"
           }
          ],
          "contour": [
           {
            "colorbar": {
             "outlinewidth": 0,
             "ticks": ""
            },
            "colorscale": [
             [
              0,
              "#0d0887"
             ],
             [
              0.1111111111111111,
              "#46039f"
             ],
             [
              0.2222222222222222,
              "#7201a8"
             ],
             [
              0.3333333333333333,
              "#9c179e"
             ],
             [
              0.4444444444444444,
              "#bd3786"
             ],
             [
              0.5555555555555556,
              "#d8576b"
             ],
             [
              0.6666666666666666,
              "#ed7953"
             ],
             [
              0.7777777777777778,
              "#fb9f3a"
             ],
             [
              0.8888888888888888,
              "#fdca26"
             ],
             [
              1,
              "#f0f921"
             ]
            ],
            "type": "contour"
           }
          ],
          "contourcarpet": [
           {
            "colorbar": {
             "outlinewidth": 0,
             "ticks": ""
            },
            "type": "contourcarpet"
           }
          ],
          "heatmap": [
           {
            "colorbar": {
             "outlinewidth": 0,
             "ticks": ""
            },
            "colorscale": [
             [
              0,
              "#0d0887"
             ],
             [
              0.1111111111111111,
              "#46039f"
             ],
             [
              0.2222222222222222,
              "#7201a8"
             ],
             [
              0.3333333333333333,
              "#9c179e"
             ],
             [
              0.4444444444444444,
              "#bd3786"
             ],
             [
              0.5555555555555556,
              "#d8576b"
             ],
             [
              0.6666666666666666,
              "#ed7953"
             ],
             [
              0.7777777777777778,
              "#fb9f3a"
             ],
             [
              0.8888888888888888,
              "#fdca26"
             ],
             [
              1,
              "#f0f921"
             ]
            ],
            "type": "heatmap"
           }
          ],
          "histogram": [
           {
            "marker": {
             "pattern": {
              "fillmode": "overlay",
              "size": 10,
              "solidity": 0.2
             }
            },
            "type": "histogram"
           }
          ],
          "histogram2d": [
           {
            "colorbar": {
             "outlinewidth": 0,
             "ticks": ""
            },
            "colorscale": [
             [
              0,
              "#0d0887"
             ],
             [
              0.1111111111111111,
              "#46039f"
             ],
             [
              0.2222222222222222,
              "#7201a8"
             ],
             [
              0.3333333333333333,
              "#9c179e"
             ],
             [
              0.4444444444444444,
              "#bd3786"
             ],
             [
              0.5555555555555556,
              "#d8576b"
             ],
             [
              0.6666666666666666,
              "#ed7953"
             ],
             [
              0.7777777777777778,
              "#fb9f3a"
             ],
             [
              0.8888888888888888,
              "#fdca26"
             ],
             [
              1,
              "#f0f921"
             ]
            ],
            "type": "histogram2d"
           }
          ],
          "histogram2dcontour": [
           {
            "colorbar": {
             "outlinewidth": 0,
             "ticks": ""
            },
            "colorscale": [
             [
              0,
              "#0d0887"
             ],
             [
              0.1111111111111111,
              "#46039f"
             ],
             [
              0.2222222222222222,
              "#7201a8"
             ],
             [
              0.3333333333333333,
              "#9c179e"
             ],
             [
              0.4444444444444444,
              "#bd3786"
             ],
             [
              0.5555555555555556,
              "#d8576b"
             ],
             [
              0.6666666666666666,
              "#ed7953"
             ],
             [
              0.7777777777777778,
              "#fb9f3a"
             ],
             [
              0.8888888888888888,
              "#fdca26"
             ],
             [
              1,
              "#f0f921"
             ]
            ],
            "type": "histogram2dcontour"
           }
          ],
          "mesh3d": [
           {
            "colorbar": {
             "outlinewidth": 0,
             "ticks": ""
            },
            "type": "mesh3d"
           }
          ],
          "parcoords": [
           {
            "line": {
             "colorbar": {
              "outlinewidth": 0,
              "ticks": ""
             }
            },
            "type": "parcoords"
           }
          ],
          "pie": [
           {
            "automargin": true,
            "type": "pie"
           }
          ],
          "scatter": [
           {
            "fillpattern": {
             "fillmode": "overlay",
             "size": 10,
             "solidity": 0.2
            },
            "type": "scatter"
           }
          ],
          "scatter3d": [
           {
            "line": {
             "colorbar": {
              "outlinewidth": 0,
              "ticks": ""
             }
            },
            "marker": {
             "colorbar": {
              "outlinewidth": 0,
              "ticks": ""
             }
            },
            "type": "scatter3d"
           }
          ],
          "scattercarpet": [
           {
            "marker": {
             "colorbar": {
              "outlinewidth": 0,
              "ticks": ""
             }
            },
            "type": "scattercarpet"
           }
          ],
          "scattergeo": [
           {
            "marker": {
             "colorbar": {
              "outlinewidth": 0,
              "ticks": ""
             }
            },
            "type": "scattergeo"
           }
          ],
          "scattergl": [
           {
            "marker": {
             "colorbar": {
              "outlinewidth": 0,
              "ticks": ""
             }
            },
            "type": "scattergl"
           }
          ],
          "scattermap": [
           {
            "marker": {
             "colorbar": {
              "outlinewidth": 0,
              "ticks": ""
             }
            },
            "type": "scattermap"
           }
          ],
          "scattermapbox": [
           {
            "marker": {
             "colorbar": {
              "outlinewidth": 0,
              "ticks": ""
             }
            },
            "type": "scattermapbox"
           }
          ],
          "scatterpolar": [
           {
            "marker": {
             "colorbar": {
              "outlinewidth": 0,
              "ticks": ""
             }
            },
            "type": "scatterpolar"
           }
          ],
          "scatterpolargl": [
           {
            "marker": {
             "colorbar": {
              "outlinewidth": 0,
              "ticks": ""
             }
            },
            "type": "scatterpolargl"
           }
          ],
          "scatterternary": [
           {
            "marker": {
             "colorbar": {
              "outlinewidth": 0,
              "ticks": ""
             }
            },
            "type": "scatterternary"
           }
          ],
          "surface": [
           {
            "colorbar": {
             "outlinewidth": 0,
             "ticks": ""
            },
            "colorscale": [
             [
              0,
              "#0d0887"
             ],
             [
              0.1111111111111111,
              "#46039f"
             ],
             [
              0.2222222222222222,
              "#7201a8"
             ],
             [
              0.3333333333333333,
              "#9c179e"
             ],
             [
              0.4444444444444444,
              "#bd3786"
             ],
             [
              0.5555555555555556,
              "#d8576b"
             ],
             [
              0.6666666666666666,
              "#ed7953"
             ],
             [
              0.7777777777777778,
              "#fb9f3a"
             ],
             [
              0.8888888888888888,
              "#fdca26"
             ],
             [
              1,
              "#f0f921"
             ]
            ],
            "type": "surface"
           }
          ],
          "table": [
           {
            "cells": {
             "fill": {
              "color": "#EBF0F8"
             },
             "line": {
              "color": "white"
             }
            },
            "header": {
             "fill": {
              "color": "#C8D4E3"
             },
             "line": {
              "color": "white"
             }
            },
            "type": "table"
           }
          ]
         },
         "layout": {
          "annotationdefaults": {
           "arrowcolor": "#2a3f5f",
           "arrowhead": 0,
           "arrowwidth": 1
          },
          "autotypenumbers": "strict",
          "coloraxis": {
           "colorbar": {
            "outlinewidth": 0,
            "ticks": ""
           }
          },
          "colorscale": {
           "diverging": [
            [
             0,
             "#8e0152"
            ],
            [
             0.1,
             "#c51b7d"
            ],
            [
             0.2,
             "#de77ae"
            ],
            [
             0.3,
             "#f1b6da"
            ],
            [
             0.4,
             "#fde0ef"
            ],
            [
             0.5,
             "#f7f7f7"
            ],
            [
             0.6,
             "#e6f5d0"
            ],
            [
             0.7,
             "#b8e186"
            ],
            [
             0.8,
             "#7fbc41"
            ],
            [
             0.9,
             "#4d9221"
            ],
            [
             1,
             "#276419"
            ]
           ],
           "sequential": [
            [
             0,
             "#0d0887"
            ],
            [
             0.1111111111111111,
             "#46039f"
            ],
            [
             0.2222222222222222,
             "#7201a8"
            ],
            [
             0.3333333333333333,
             "#9c179e"
            ],
            [
             0.4444444444444444,
             "#bd3786"
            ],
            [
             0.5555555555555556,
             "#d8576b"
            ],
            [
             0.6666666666666666,
             "#ed7953"
            ],
            [
             0.7777777777777778,
             "#fb9f3a"
            ],
            [
             0.8888888888888888,
             "#fdca26"
            ],
            [
             1,
             "#f0f921"
            ]
           ],
           "sequentialminus": [
            [
             0,
             "#0d0887"
            ],
            [
             0.1111111111111111,
             "#46039f"
            ],
            [
             0.2222222222222222,
             "#7201a8"
            ],
            [
             0.3333333333333333,
             "#9c179e"
            ],
            [
             0.4444444444444444,
             "#bd3786"
            ],
            [
             0.5555555555555556,
             "#d8576b"
            ],
            [
             0.6666666666666666,
             "#ed7953"
            ],
            [
             0.7777777777777778,
             "#fb9f3a"
            ],
            [
             0.8888888888888888,
             "#fdca26"
            ],
            [
             1,
             "#f0f921"
            ]
           ]
          },
          "colorway": [
           "#636efa",
           "#EF553B",
           "#00cc96",
           "#ab63fa",
           "#FFA15A",
           "#19d3f3",
           "#FF6692",
           "#B6E880",
           "#FF97FF",
           "#FECB52"
          ],
          "font": {
           "color": "#2a3f5f"
          },
          "geo": {
           "bgcolor": "white",
           "lakecolor": "white",
           "landcolor": "#E5ECF6",
           "showlakes": true,
           "showland": true,
           "subunitcolor": "white"
          },
          "hoverlabel": {
           "align": "left"
          },
          "hovermode": "closest",
          "mapbox": {
           "style": "light"
          },
          "paper_bgcolor": "white",
          "plot_bgcolor": "#E5ECF6",
          "polar": {
           "angularaxis": {
            "gridcolor": "white",
            "linecolor": "white",
            "ticks": ""
           },
           "bgcolor": "#E5ECF6",
           "radialaxis": {
            "gridcolor": "white",
            "linecolor": "white",
            "ticks": ""
           }
          },
          "scene": {
           "xaxis": {
            "backgroundcolor": "#E5ECF6",
            "gridcolor": "white",
            "gridwidth": 2,
            "linecolor": "white",
            "showbackground": true,
            "ticks": "",
            "zerolinecolor": "white"
           },
           "yaxis": {
            "backgroundcolor": "#E5ECF6",
            "gridcolor": "white",
            "gridwidth": 2,
            "linecolor": "white",
            "showbackground": true,
            "ticks": "",
            "zerolinecolor": "white"
           },
           "zaxis": {
            "backgroundcolor": "#E5ECF6",
            "gridcolor": "white",
            "gridwidth": 2,
            "linecolor": "white",
            "showbackground": true,
            "ticks": "",
            "zerolinecolor": "white"
           }
          },
          "shapedefaults": {
           "line": {
            "color": "#2a3f5f"
           }
          },
          "ternary": {
           "aaxis": {
            "gridcolor": "white",
            "linecolor": "white",
            "ticks": ""
           },
           "baxis": {
            "gridcolor": "white",
            "linecolor": "white",
            "ticks": ""
           },
           "bgcolor": "#E5ECF6",
           "caxis": {
            "gridcolor": "white",
            "linecolor": "white",
            "ticks": ""
           }
          },
          "title": {
           "x": 0.05
          },
          "xaxis": {
           "automargin": true,
           "gridcolor": "white",
           "linecolor": "white",
           "ticks": "",
           "title": {
            "standoff": 15
           },
           "zerolinecolor": "white",
           "zerolinewidth": 2
          },
          "yaxis": {
           "automargin": true,
           "gridcolor": "white",
           "linecolor": "white",
           "ticks": "",
           "title": {
            "standoff": 15
           },
           "zerolinecolor": "white",
           "zerolinewidth": 2
          }
         }
        },
        "title": {
         "text": "Average Construction Time Over Time"
        },
        "xaxis": {
         "title": {
          "text": "Model Step"
         }
        },
        "yaxis": {
         "title": {
          "text": "Time (years)"
         }
        }
       }
      }
     },
     "metadata": {},
     "output_type": "display_data"
    },
    {
     "data": {
      "application/vnd.plotly.v1+json": {
       "config": {
        "plotlyServerURL": "https://plot.ly"
       },
       "data": [
        {
         "line": {
          "color": "cyan"
         },
         "mode": "lines+markers",
         "name": "Avg Study Time (All)",
         "type": "scatter",
         "x": {
          "bdata": "AQIDBAUGBwgJCgsMDQ4P",
          "dtype": "i1"
         },
         "y": {
          "bdata": "AgICAgICAgICAgICAgIC",
          "dtype": "i1"
         }
        },
        {
         "line": {
          "color": "lime",
          "dash": "dash"
         },
         "mode": "lines+markers",
         "name": "Avg Study Time (ERIS)",
         "type": "scatter",
         "x": {
          "bdata": "AQIDBAUGBwgJCgsMDQ4P",
          "dtype": "i1"
         },
         "y": {
          "bdata": "AAAAAAAA8D8AAAAAAADwPwAAAAAAAPA/AAAAAAAA8D8AAAAAAADwPwAAAAAAAPA/AAAAAAAA8D8AAAAAAADwPwAAAAAAAPA/AAAAAAAA8D8AAAAAAADwPwAAAAAAAPA/AAAAAAAA8D8AAAAAAADwPwAAAAAAAPA/",
          "dtype": "f8"
         }
        },
        {
         "line": {
          "color": "magenta",
          "dash": "dot"
         },
         "mode": "lines+markers",
         "name": "Avg Study Time (NRIS)",
         "type": "scatter",
         "x": {
          "bdata": "AQIDBAUGBwgJCgsMDQ4P",
          "dtype": "i1"
         },
         "y": {
          "bdata": "AAAAAAAAAEAAAAAAAAAAQAAAAAAAAABAAAAAAAAAAEAAAAAAAAAAQAAAAAAAAABAAAAAAAAAAEAAAAAAAAAAQAAAAAAAAABAAAAAAAAAAEAAAAAAAAAAQAAAAAAAAABAAAAAAAAAAEAAAAAAAAAAQAAAAAAAAABA",
          "dtype": "f8"
         }
        }
       ],
       "layout": {
        "template": {
         "data": {
          "bar": [
           {
            "error_x": {
             "color": "#2a3f5f"
            },
            "error_y": {
             "color": "#2a3f5f"
            },
            "marker": {
             "line": {
              "color": "#E5ECF6",
              "width": 0.5
             },
             "pattern": {
              "fillmode": "overlay",
              "size": 10,
              "solidity": 0.2
             }
            },
            "type": "bar"
           }
          ],
          "barpolar": [
           {
            "marker": {
             "line": {
              "color": "#E5ECF6",
              "width": 0.5
             },
             "pattern": {
              "fillmode": "overlay",
              "size": 10,
              "solidity": 0.2
             }
            },
            "type": "barpolar"
           }
          ],
          "carpet": [
           {
            "aaxis": {
             "endlinecolor": "#2a3f5f",
             "gridcolor": "white",
             "linecolor": "white",
             "minorgridcolor": "white",
             "startlinecolor": "#2a3f5f"
            },
            "baxis": {
             "endlinecolor": "#2a3f5f",
             "gridcolor": "white",
             "linecolor": "white",
             "minorgridcolor": "white",
             "startlinecolor": "#2a3f5f"
            },
            "type": "carpet"
           }
          ],
          "choropleth": [
           {
            "colorbar": {
             "outlinewidth": 0,
             "ticks": ""
            },
            "type": "choropleth"
           }
          ],
          "contour": [
           {
            "colorbar": {
             "outlinewidth": 0,
             "ticks": ""
            },
            "colorscale": [
             [
              0,
              "#0d0887"
             ],
             [
              0.1111111111111111,
              "#46039f"
             ],
             [
              0.2222222222222222,
              "#7201a8"
             ],
             [
              0.3333333333333333,
              "#9c179e"
             ],
             [
              0.4444444444444444,
              "#bd3786"
             ],
             [
              0.5555555555555556,
              "#d8576b"
             ],
             [
              0.6666666666666666,
              "#ed7953"
             ],
             [
              0.7777777777777778,
              "#fb9f3a"
             ],
             [
              0.8888888888888888,
              "#fdca26"
             ],
             [
              1,
              "#f0f921"
             ]
            ],
            "type": "contour"
           }
          ],
          "contourcarpet": [
           {
            "colorbar": {
             "outlinewidth": 0,
             "ticks": ""
            },
            "type": "contourcarpet"
           }
          ],
          "heatmap": [
           {
            "colorbar": {
             "outlinewidth": 0,
             "ticks": ""
            },
            "colorscale": [
             [
              0,
              "#0d0887"
             ],
             [
              0.1111111111111111,
              "#46039f"
             ],
             [
              0.2222222222222222,
              "#7201a8"
             ],
             [
              0.3333333333333333,
              "#9c179e"
             ],
             [
              0.4444444444444444,
              "#bd3786"
             ],
             [
              0.5555555555555556,
              "#d8576b"
             ],
             [
              0.6666666666666666,
              "#ed7953"
             ],
             [
              0.7777777777777778,
              "#fb9f3a"
             ],
             [
              0.8888888888888888,
              "#fdca26"
             ],
             [
              1,
              "#f0f921"
             ]
            ],
            "type": "heatmap"
           }
          ],
          "histogram": [
           {
            "marker": {
             "pattern": {
              "fillmode": "overlay",
              "size": 10,
              "solidity": 0.2
             }
            },
            "type": "histogram"
           }
          ],
          "histogram2d": [
           {
            "colorbar": {
             "outlinewidth": 0,
             "ticks": ""
            },
            "colorscale": [
             [
              0,
              "#0d0887"
             ],
             [
              0.1111111111111111,
              "#46039f"
             ],
             [
              0.2222222222222222,
              "#7201a8"
             ],
             [
              0.3333333333333333,
              "#9c179e"
             ],
             [
              0.4444444444444444,
              "#bd3786"
             ],
             [
              0.5555555555555556,
              "#d8576b"
             ],
             [
              0.6666666666666666,
              "#ed7953"
             ],
             [
              0.7777777777777778,
              "#fb9f3a"
             ],
             [
              0.8888888888888888,
              "#fdca26"
             ],
             [
              1,
              "#f0f921"
             ]
            ],
            "type": "histogram2d"
           }
          ],
          "histogram2dcontour": [
           {
            "colorbar": {
             "outlinewidth": 0,
             "ticks": ""
            },
            "colorscale": [
             [
              0,
              "#0d0887"
             ],
             [
              0.1111111111111111,
              "#46039f"
             ],
             [
              0.2222222222222222,
              "#7201a8"
             ],
             [
              0.3333333333333333,
              "#9c179e"
             ],
             [
              0.4444444444444444,
              "#bd3786"
             ],
             [
              0.5555555555555556,
              "#d8576b"
             ],
             [
              0.6666666666666666,
              "#ed7953"
             ],
             [
              0.7777777777777778,
              "#fb9f3a"
             ],
             [
              0.8888888888888888,
              "#fdca26"
             ],
             [
              1,
              "#f0f921"
             ]
            ],
            "type": "histogram2dcontour"
           }
          ],
          "mesh3d": [
           {
            "colorbar": {
             "outlinewidth": 0,
             "ticks": ""
            },
            "type": "mesh3d"
           }
          ],
          "parcoords": [
           {
            "line": {
             "colorbar": {
              "outlinewidth": 0,
              "ticks": ""
             }
            },
            "type": "parcoords"
           }
          ],
          "pie": [
           {
            "automargin": true,
            "type": "pie"
           }
          ],
          "scatter": [
           {
            "fillpattern": {
             "fillmode": "overlay",
             "size": 10,
             "solidity": 0.2
            },
            "type": "scatter"
           }
          ],
          "scatter3d": [
           {
            "line": {
             "colorbar": {
              "outlinewidth": 0,
              "ticks": ""
             }
            },
            "marker": {
             "colorbar": {
              "outlinewidth": 0,
              "ticks": ""
             }
            },
            "type": "scatter3d"
           }
          ],
          "scattercarpet": [
           {
            "marker": {
             "colorbar": {
              "outlinewidth": 0,
              "ticks": ""
             }
            },
            "type": "scattercarpet"
           }
          ],
          "scattergeo": [
           {
            "marker": {
             "colorbar": {
              "outlinewidth": 0,
              "ticks": ""
             }
            },
            "type": "scattergeo"
           }
          ],
          "scattergl": [
           {
            "marker": {
             "colorbar": {
              "outlinewidth": 0,
              "ticks": ""
             }
            },
            "type": "scattergl"
           }
          ],
          "scattermap": [
           {
            "marker": {
             "colorbar": {
              "outlinewidth": 0,
              "ticks": ""
             }
            },
            "type": "scattermap"
           }
          ],
          "scattermapbox": [
           {
            "marker": {
             "colorbar": {
              "outlinewidth": 0,
              "ticks": ""
             }
            },
            "type": "scattermapbox"
           }
          ],
          "scatterpolar": [
           {
            "marker": {
             "colorbar": {
              "outlinewidth": 0,
              "ticks": ""
             }
            },
            "type": "scatterpolar"
           }
          ],
          "scatterpolargl": [
           {
            "marker": {
             "colorbar": {
              "outlinewidth": 0,
              "ticks": ""
             }
            },
            "type": "scatterpolargl"
           }
          ],
          "scatterternary": [
           {
            "marker": {
             "colorbar": {
              "outlinewidth": 0,
              "ticks": ""
             }
            },
            "type": "scatterternary"
           }
          ],
          "surface": [
           {
            "colorbar": {
             "outlinewidth": 0,
             "ticks": ""
            },
            "colorscale": [
             [
              0,
              "#0d0887"
             ],
             [
              0.1111111111111111,
              "#46039f"
             ],
             [
              0.2222222222222222,
              "#7201a8"
             ],
             [
              0.3333333333333333,
              "#9c179e"
             ],
             [
              0.4444444444444444,
              "#bd3786"
             ],
             [
              0.5555555555555556,
              "#d8576b"
             ],
             [
              0.6666666666666666,
              "#ed7953"
             ],
             [
              0.7777777777777778,
              "#fb9f3a"
             ],
             [
              0.8888888888888888,
              "#fdca26"
             ],
             [
              1,
              "#f0f921"
             ]
            ],
            "type": "surface"
           }
          ],
          "table": [
           {
            "cells": {
             "fill": {
              "color": "#EBF0F8"
             },
             "line": {
              "color": "white"
             }
            },
            "header": {
             "fill": {
              "color": "#C8D4E3"
             },
             "line": {
              "color": "white"
             }
            },
            "type": "table"
           }
          ]
         },
         "layout": {
          "annotationdefaults": {
           "arrowcolor": "#2a3f5f",
           "arrowhead": 0,
           "arrowwidth": 1
          },
          "autotypenumbers": "strict",
          "coloraxis": {
           "colorbar": {
            "outlinewidth": 0,
            "ticks": ""
           }
          },
          "colorscale": {
           "diverging": [
            [
             0,
             "#8e0152"
            ],
            [
             0.1,
             "#c51b7d"
            ],
            [
             0.2,
             "#de77ae"
            ],
            [
             0.3,
             "#f1b6da"
            ],
            [
             0.4,
             "#fde0ef"
            ],
            [
             0.5,
             "#f7f7f7"
            ],
            [
             0.6,
             "#e6f5d0"
            ],
            [
             0.7,
             "#b8e186"
            ],
            [
             0.8,
             "#7fbc41"
            ],
            [
             0.9,
             "#4d9221"
            ],
            [
             1,
             "#276419"
            ]
           ],
           "sequential": [
            [
             0,
             "#0d0887"
            ],
            [
             0.1111111111111111,
             "#46039f"
            ],
            [
             0.2222222222222222,
             "#7201a8"
            ],
            [
             0.3333333333333333,
             "#9c179e"
            ],
            [
             0.4444444444444444,
             "#bd3786"
            ],
            [
             0.5555555555555556,
             "#d8576b"
            ],
            [
             0.6666666666666666,
             "#ed7953"
            ],
            [
             0.7777777777777778,
             "#fb9f3a"
            ],
            [
             0.8888888888888888,
             "#fdca26"
            ],
            [
             1,
             "#f0f921"
            ]
           ],
           "sequentialminus": [
            [
             0,
             "#0d0887"
            ],
            [
             0.1111111111111111,
             "#46039f"
            ],
            [
             0.2222222222222222,
             "#7201a8"
            ],
            [
             0.3333333333333333,
             "#9c179e"
            ],
            [
             0.4444444444444444,
             "#bd3786"
            ],
            [
             0.5555555555555556,
             "#d8576b"
            ],
            [
             0.6666666666666666,
             "#ed7953"
            ],
            [
             0.7777777777777778,
             "#fb9f3a"
            ],
            [
             0.8888888888888888,
             "#fdca26"
            ],
            [
             1,
             "#f0f921"
            ]
           ]
          },
          "colorway": [
           "#636efa",
           "#EF553B",
           "#00cc96",
           "#ab63fa",
           "#FFA15A",
           "#19d3f3",
           "#FF6692",
           "#B6E880",
           "#FF97FF",
           "#FECB52"
          ],
          "font": {
           "color": "#2a3f5f"
          },
          "geo": {
           "bgcolor": "white",
           "lakecolor": "white",
           "landcolor": "#E5ECF6",
           "showlakes": true,
           "showland": true,
           "subunitcolor": "white"
          },
          "hoverlabel": {
           "align": "left"
          },
          "hovermode": "closest",
          "mapbox": {
           "style": "light"
          },
          "paper_bgcolor": "white",
          "plot_bgcolor": "#E5ECF6",
          "polar": {
           "angularaxis": {
            "gridcolor": "white",
            "linecolor": "white",
            "ticks": ""
           },
           "bgcolor": "#E5ECF6",
           "radialaxis": {
            "gridcolor": "white",
            "linecolor": "white",
            "ticks": ""
           }
          },
          "scene": {
           "xaxis": {
            "backgroundcolor": "#E5ECF6",
            "gridcolor": "white",
            "gridwidth": 2,
            "linecolor": "white",
            "showbackground": true,
            "ticks": "",
            "zerolinecolor": "white"
           },
           "yaxis": {
            "backgroundcolor": "#E5ECF6",
            "gridcolor": "white",
            "gridwidth": 2,
            "linecolor": "white",
            "showbackground": true,
            "ticks": "",
            "zerolinecolor": "white"
           },
           "zaxis": {
            "backgroundcolor": "#E5ECF6",
            "gridcolor": "white",
            "gridwidth": 2,
            "linecolor": "white",
            "showbackground": true,
            "ticks": "",
            "zerolinecolor": "white"
           }
          },
          "shapedefaults": {
           "line": {
            "color": "#2a3f5f"
           }
          },
          "ternary": {
           "aaxis": {
            "gridcolor": "white",
            "linecolor": "white",
            "ticks": ""
           },
           "baxis": {
            "gridcolor": "white",
            "linecolor": "white",
            "ticks": ""
           },
           "bgcolor": "#E5ECF6",
           "caxis": {
            "gridcolor": "white",
            "linecolor": "white",
            "ticks": ""
           }
          },
          "title": {
           "x": 0.05
          },
          "xaxis": {
           "automargin": true,
           "gridcolor": "white",
           "linecolor": "white",
           "ticks": "",
           "title": {
            "standoff": 15
           },
           "zerolinecolor": "white",
           "zerolinewidth": 2
          },
          "yaxis": {
           "automargin": true,
           "gridcolor": "white",
           "linecolor": "white",
           "ticks": "",
           "title": {
            "standoff": 15
           },
           "zerolinecolor": "white",
           "zerolinewidth": 2
          }
         }
        },
        "title": {
         "text": "Average Study Time Over Time"
        },
        "xaxis": {
         "title": {
          "text": "Model Step"
         }
        },
        "yaxis": {
         "title": {
          "text": "Time (years)"
         }
        }
       }
      }
     },
     "metadata": {},
     "output_type": "display_data"
    },
    {
     "data": {
      "application/vnd.plotly.v1+json": {
       "config": {
        "plotlyServerURL": "https://plot.ly"
       },
       "data": [
        {
         "line": {
          "color": "blue"
         },
         "mode": "lines+markers",
         "name": "Avg Assigned Cost (All)",
         "type": "scatter",
         "x": {
          "bdata": "AQIDBAUGBwgJCgsMDQ4P",
          "dtype": "i1"
         },
         "y": {
          "bdata": "SAsSULPL+UAnbr/EDcj5QOQ4juNYM/pA+ynkzM92+kDBmRhgLyr6QDzXrA7D0vlAmliEqDdc+kAgTddFHkP6QAticgUd7vlA55xzzhWn+UAZhmGY22D5QKjyld3xfflA9j0iJ7hp+UA8C7GLzI35QL0MRgGHlflA",
          "dtype": "f8"
         }
        },
        {
         "line": {
          "color": "green",
          "dash": "dash"
         },
         "mode": "lines+markers",
         "name": "Avg Assigned Cost (ERIS)",
         "type": "scatter",
         "x": {
          "bdata": "AQIDBAUGBwgJCgsMDQ4P",
          "dtype": "i1"
         },
         "y": {
          "bdata": "AAAAAAAA+H8AAAAAAAD4fwAAAAAAAPh/AAAAAAAA+H8AAAAAAAD4fwAAAAAAAPh/AAAAAAAA+H8AAAAAAAD4fwAAAAAAAPh/AAAAAAAA+H8AAAAAAAD4fwAAAAAAAPh/AAAAAAAA+H8AAAAAAAD4fwAAAAAAAPh/",
          "dtype": "f8"
         }
        },
        {
         "line": {
          "color": "red",
          "dash": "dot"
         },
         "mode": "lines+markers",
         "name": "Avg Assigned Cost (NRIS)",
         "type": "scatter",
         "x": {
          "bdata": "AQIDBAUGBwgJCgsMDQ4P",
          "dtype": "i1"
         },
         "y": {
          "bdata": "SAsSULPL+UAnbr/EDcj5QOQ4juNYM/pA+ynkzM92+kDBmRhgLyr6QDzXrA7D0vlAmliEqDdc+kAgTddFHkP6QAticgUd7vlA55xzzhWn+UAZhmGY22D5QKjyld3xfflA9j0iJ7hp+UA8C7GLzI35QL0MRgGHlflA",
          "dtype": "f8"
         }
        }
       ],
       "layout": {
        "template": {
         "data": {
          "bar": [
           {
            "error_x": {
             "color": "#2a3f5f"
            },
            "error_y": {
             "color": "#2a3f5f"
            },
            "marker": {
             "line": {
              "color": "white",
              "width": 0.5
             },
             "pattern": {
              "fillmode": "overlay",
              "size": 10,
              "solidity": 0.2
             }
            },
            "type": "bar"
           }
          ],
          "barpolar": [
           {
            "marker": {
             "line": {
              "color": "white",
              "width": 0.5
             },
             "pattern": {
              "fillmode": "overlay",
              "size": 10,
              "solidity": 0.2
             }
            },
            "type": "barpolar"
           }
          ],
          "carpet": [
           {
            "aaxis": {
             "endlinecolor": "#2a3f5f",
             "gridcolor": "#C8D4E3",
             "linecolor": "#C8D4E3",
             "minorgridcolor": "#C8D4E3",
             "startlinecolor": "#2a3f5f"
            },
            "baxis": {
             "endlinecolor": "#2a3f5f",
             "gridcolor": "#C8D4E3",
             "linecolor": "#C8D4E3",
             "minorgridcolor": "#C8D4E3",
             "startlinecolor": "#2a3f5f"
            },
            "type": "carpet"
           }
          ],
          "choropleth": [
           {
            "colorbar": {
             "outlinewidth": 0,
             "ticks": ""
            },
            "type": "choropleth"
           }
          ],
          "contour": [
           {
            "colorbar": {
             "outlinewidth": 0,
             "ticks": ""
            },
            "colorscale": [
             [
              0,
              "#0d0887"
             ],
             [
              0.1111111111111111,
              "#46039f"
             ],
             [
              0.2222222222222222,
              "#7201a8"
             ],
             [
              0.3333333333333333,
              "#9c179e"
             ],
             [
              0.4444444444444444,
              "#bd3786"
             ],
             [
              0.5555555555555556,
              "#d8576b"
             ],
             [
              0.6666666666666666,
              "#ed7953"
             ],
             [
              0.7777777777777778,
              "#fb9f3a"
             ],
             [
              0.8888888888888888,
              "#fdca26"
             ],
             [
              1,
              "#f0f921"
             ]
            ],
            "type": "contour"
           }
          ],
          "contourcarpet": [
           {
            "colorbar": {
             "outlinewidth": 0,
             "ticks": ""
            },
            "type": "contourcarpet"
           }
          ],
          "heatmap": [
           {
            "colorbar": {
             "outlinewidth": 0,
             "ticks": ""
            },
            "colorscale": [
             [
              0,
              "#0d0887"
             ],
             [
              0.1111111111111111,
              "#46039f"
             ],
             [
              0.2222222222222222,
              "#7201a8"
             ],
             [
              0.3333333333333333,
              "#9c179e"
             ],
             [
              0.4444444444444444,
              "#bd3786"
             ],
             [
              0.5555555555555556,
              "#d8576b"
             ],
             [
              0.6666666666666666,
              "#ed7953"
             ],
             [
              0.7777777777777778,
              "#fb9f3a"
             ],
             [
              0.8888888888888888,
              "#fdca26"
             ],
             [
              1,
              "#f0f921"
             ]
            ],
            "type": "heatmap"
           }
          ],
          "histogram": [
           {
            "marker": {
             "pattern": {
              "fillmode": "overlay",
              "size": 10,
              "solidity": 0.2
             }
            },
            "type": "histogram"
           }
          ],
          "histogram2d": [
           {
            "colorbar": {
             "outlinewidth": 0,
             "ticks": ""
            },
            "colorscale": [
             [
              0,
              "#0d0887"
             ],
             [
              0.1111111111111111,
              "#46039f"
             ],
             [
              0.2222222222222222,
              "#7201a8"
             ],
             [
              0.3333333333333333,
              "#9c179e"
             ],
             [
              0.4444444444444444,
              "#bd3786"
             ],
             [
              0.5555555555555556,
              "#d8576b"
             ],
             [
              0.6666666666666666,
              "#ed7953"
             ],
             [
              0.7777777777777778,
              "#fb9f3a"
             ],
             [
              0.8888888888888888,
              "#fdca26"
             ],
             [
              1,
              "#f0f921"
             ]
            ],
            "type": "histogram2d"
           }
          ],
          "histogram2dcontour": [
           {
            "colorbar": {
             "outlinewidth": 0,
             "ticks": ""
            },
            "colorscale": [
             [
              0,
              "#0d0887"
             ],
             [
              0.1111111111111111,
              "#46039f"
             ],
             [
              0.2222222222222222,
              "#7201a8"
             ],
             [
              0.3333333333333333,
              "#9c179e"
             ],
             [
              0.4444444444444444,
              "#bd3786"
             ],
             [
              0.5555555555555556,
              "#d8576b"
             ],
             [
              0.6666666666666666,
              "#ed7953"
             ],
             [
              0.7777777777777778,
              "#fb9f3a"
             ],
             [
              0.8888888888888888,
              "#fdca26"
             ],
             [
              1,
              "#f0f921"
             ]
            ],
            "type": "histogram2dcontour"
           }
          ],
          "mesh3d": [
           {
            "colorbar": {
             "outlinewidth": 0,
             "ticks": ""
            },
            "type": "mesh3d"
           }
          ],
          "parcoords": [
           {
            "line": {
             "colorbar": {
              "outlinewidth": 0,
              "ticks": ""
             }
            },
            "type": "parcoords"
           }
          ],
          "pie": [
           {
            "automargin": true,
            "type": "pie"
           }
          ],
          "scatter": [
           {
            "fillpattern": {
             "fillmode": "overlay",
             "size": 10,
             "solidity": 0.2
            },
            "type": "scatter"
           }
          ],
          "scatter3d": [
           {
            "line": {
             "colorbar": {
              "outlinewidth": 0,
              "ticks": ""
             }
            },
            "marker": {
             "colorbar": {
              "outlinewidth": 0,
              "ticks": ""
             }
            },
            "type": "scatter3d"
           }
          ],
          "scattercarpet": [
           {
            "marker": {
             "colorbar": {
              "outlinewidth": 0,
              "ticks": ""
             }
            },
            "type": "scattercarpet"
           }
          ],
          "scattergeo": [
           {
            "marker": {
             "colorbar": {
              "outlinewidth": 0,
              "ticks": ""
             }
            },
            "type": "scattergeo"
           }
          ],
          "scattergl": [
           {
            "marker": {
             "colorbar": {
              "outlinewidth": 0,
              "ticks": ""
             }
            },
            "type": "scattergl"
           }
          ],
          "scattermap": [
           {
            "marker": {
             "colorbar": {
              "outlinewidth": 0,
              "ticks": ""
             }
            },
            "type": "scattermap"
           }
          ],
          "scattermapbox": [
           {
            "marker": {
             "colorbar": {
              "outlinewidth": 0,
              "ticks": ""
             }
            },
            "type": "scattermapbox"
           }
          ],
          "scatterpolar": [
           {
            "marker": {
             "colorbar": {
              "outlinewidth": 0,
              "ticks": ""
             }
            },
            "type": "scatterpolar"
           }
          ],
          "scatterpolargl": [
           {
            "marker": {
             "colorbar": {
              "outlinewidth": 0,
              "ticks": ""
             }
            },
            "type": "scatterpolargl"
           }
          ],
          "scatterternary": [
           {
            "marker": {
             "colorbar": {
              "outlinewidth": 0,
              "ticks": ""
             }
            },
            "type": "scatterternary"
           }
          ],
          "surface": [
           {
            "colorbar": {
             "outlinewidth": 0,
             "ticks": ""
            },
            "colorscale": [
             [
              0,
              "#0d0887"
             ],
             [
              0.1111111111111111,
              "#46039f"
             ],
             [
              0.2222222222222222,
              "#7201a8"
             ],
             [
              0.3333333333333333,
              "#9c179e"
             ],
             [
              0.4444444444444444,
              "#bd3786"
             ],
             [
              0.5555555555555556,
              "#d8576b"
             ],
             [
              0.6666666666666666,
              "#ed7953"
             ],
             [
              0.7777777777777778,
              "#fb9f3a"
             ],
             [
              0.8888888888888888,
              "#fdca26"
             ],
             [
              1,
              "#f0f921"
             ]
            ],
            "type": "surface"
           }
          ],
          "table": [
           {
            "cells": {
             "fill": {
              "color": "#EBF0F8"
             },
             "line": {
              "color": "white"
             }
            },
            "header": {
             "fill": {
              "color": "#C8D4E3"
             },
             "line": {
              "color": "white"
             }
            },
            "type": "table"
           }
          ]
         },
         "layout": {
          "annotationdefaults": {
           "arrowcolor": "#2a3f5f",
           "arrowhead": 0,
           "arrowwidth": 1
          },
          "autotypenumbers": "strict",
          "coloraxis": {
           "colorbar": {
            "outlinewidth": 0,
            "ticks": ""
           }
          },
          "colorscale": {
           "diverging": [
            [
             0,
             "#8e0152"
            ],
            [
             0.1,
             "#c51b7d"
            ],
            [
             0.2,
             "#de77ae"
            ],
            [
             0.3,
             "#f1b6da"
            ],
            [
             0.4,
             "#fde0ef"
            ],
            [
             0.5,
             "#f7f7f7"
            ],
            [
             0.6,
             "#e6f5d0"
            ],
            [
             0.7,
             "#b8e186"
            ],
            [
             0.8,
             "#7fbc41"
            ],
            [
             0.9,
             "#4d9221"
            ],
            [
             1,
             "#276419"
            ]
           ],
           "sequential": [
            [
             0,
             "#0d0887"
            ],
            [
             0.1111111111111111,
             "#46039f"
            ],
            [
             0.2222222222222222,
             "#7201a8"
            ],
            [
             0.3333333333333333,
             "#9c179e"
            ],
            [
             0.4444444444444444,
             "#bd3786"
            ],
            [
             0.5555555555555556,
             "#d8576b"
            ],
            [
             0.6666666666666666,
             "#ed7953"
            ],
            [
             0.7777777777777778,
             "#fb9f3a"
            ],
            [
             0.8888888888888888,
             "#fdca26"
            ],
            [
             1,
             "#f0f921"
            ]
           ],
           "sequentialminus": [
            [
             0,
             "#0d0887"
            ],
            [
             0.1111111111111111,
             "#46039f"
            ],
            [
             0.2222222222222222,
             "#7201a8"
            ],
            [
             0.3333333333333333,
             "#9c179e"
            ],
            [
             0.4444444444444444,
             "#bd3786"
            ],
            [
             0.5555555555555556,
             "#d8576b"
            ],
            [
             0.6666666666666666,
             "#ed7953"
            ],
            [
             0.7777777777777778,
             "#fb9f3a"
            ],
            [
             0.8888888888888888,
             "#fdca26"
            ],
            [
             1,
             "#f0f921"
            ]
           ]
          },
          "colorway": [
           "#636efa",
           "#EF553B",
           "#00cc96",
           "#ab63fa",
           "#FFA15A",
           "#19d3f3",
           "#FF6692",
           "#B6E880",
           "#FF97FF",
           "#FECB52"
          ],
          "font": {
           "color": "#2a3f5f"
          },
          "geo": {
           "bgcolor": "white",
           "lakecolor": "white",
           "landcolor": "white",
           "showlakes": true,
           "showland": true,
           "subunitcolor": "#C8D4E3"
          },
          "hoverlabel": {
           "align": "left"
          },
          "hovermode": "closest",
          "mapbox": {
           "style": "light"
          },
          "paper_bgcolor": "white",
          "plot_bgcolor": "white",
          "polar": {
           "angularaxis": {
            "gridcolor": "#EBF0F8",
            "linecolor": "#EBF0F8",
            "ticks": ""
           },
           "bgcolor": "white",
           "radialaxis": {
            "gridcolor": "#EBF0F8",
            "linecolor": "#EBF0F8",
            "ticks": ""
           }
          },
          "scene": {
           "xaxis": {
            "backgroundcolor": "white",
            "gridcolor": "#DFE8F3",
            "gridwidth": 2,
            "linecolor": "#EBF0F8",
            "showbackground": true,
            "ticks": "",
            "zerolinecolor": "#EBF0F8"
           },
           "yaxis": {
            "backgroundcolor": "white",
            "gridcolor": "#DFE8F3",
            "gridwidth": 2,
            "linecolor": "#EBF0F8",
            "showbackground": true,
            "ticks": "",
            "zerolinecolor": "#EBF0F8"
           },
           "zaxis": {
            "backgroundcolor": "white",
            "gridcolor": "#DFE8F3",
            "gridwidth": 2,
            "linecolor": "#EBF0F8",
            "showbackground": true,
            "ticks": "",
            "zerolinecolor": "#EBF0F8"
           }
          },
          "shapedefaults": {
           "line": {
            "color": "#2a3f5f"
           }
          },
          "ternary": {
           "aaxis": {
            "gridcolor": "#DFE8F3",
            "linecolor": "#A2B1C6",
            "ticks": ""
           },
           "baxis": {
            "gridcolor": "#DFE8F3",
            "linecolor": "#A2B1C6",
            "ticks": ""
           },
           "bgcolor": "white",
           "caxis": {
            "gridcolor": "#DFE8F3",
            "linecolor": "#A2B1C6",
            "ticks": ""
           }
          },
          "title": {
           "x": 0.05
          },
          "xaxis": {
           "automargin": true,
           "gridcolor": "#EBF0F8",
           "linecolor": "#EBF0F8",
           "ticks": "",
           "title": {
            "standoff": 15
           },
           "zerolinecolor": "#EBF0F8",
           "zerolinewidth": 2
          },
          "yaxis": {
           "automargin": true,
           "gridcolor": "#EBF0F8",
           "linecolor": "#EBF0F8",
           "ticks": "",
           "title": {
            "standoff": 15
           },
           "zerolinecolor": "#EBF0F8",
           "zerolinewidth": 2
          }
         }
        },
        "title": {
         "text": "Average Assigned Cost Over Time"
        },
        "xaxis": {
         "title": {
          "text": "Model Step"
         }
        },
        "yaxis": {
         "title": {
          "text": "Cost (currency units)"
         }
        }
       }
      }
     },
     "metadata": {},
     "output_type": "display_data"
    },
    {
     "data": {
      "application/vnd.plotly.v1+json": {
       "config": {
        "plotlyServerURL": "https://plot.ly"
       },
       "data": [
        {
         "line": {
          "color": "blue"
         },
         "mode": "lines+markers",
         "name": "Capacity Price",
         "type": "scatter",
         "x": {
          "bdata": "AQIDBAUGBwgJCgsMDQ4P",
          "dtype": "i1"
         },
         "y": {
          "bdata": "AAAAAAAQckAAAAAAABByQAAAAAAAEHJAAAAAAAAQckAAAAAAABByQAAAAAAAEHJAAAAAAAAQckAAAAAAABByQAAAAAAAEHJAAAAAAAAQckAAAAAAABByQAAAAAAAEHJAAAAAAAAQckAAAAAAABByQAAAAAAAEHJA",
          "dtype": "f8"
         }
        }
       ],
       "layout": {
        "template": {
         "data": {
          "bar": [
           {
            "error_x": {
             "color": "#2a3f5f"
            },
            "error_y": {
             "color": "#2a3f5f"
            },
            "marker": {
             "line": {
              "color": "white",
              "width": 0.5
             },
             "pattern": {
              "fillmode": "overlay",
              "size": 10,
              "solidity": 0.2
             }
            },
            "type": "bar"
           }
          ],
          "barpolar": [
           {
            "marker": {
             "line": {
              "color": "white",
              "width": 0.5
             },
             "pattern": {
              "fillmode": "overlay",
              "size": 10,
              "solidity": 0.2
             }
            },
            "type": "barpolar"
           }
          ],
          "carpet": [
           {
            "aaxis": {
             "endlinecolor": "#2a3f5f",
             "gridcolor": "#C8D4E3",
             "linecolor": "#C8D4E3",
             "minorgridcolor": "#C8D4E3",
             "startlinecolor": "#2a3f5f"
            },
            "baxis": {
             "endlinecolor": "#2a3f5f",
             "gridcolor": "#C8D4E3",
             "linecolor": "#C8D4E3",
             "minorgridcolor": "#C8D4E3",
             "startlinecolor": "#2a3f5f"
            },
            "type": "carpet"
           }
          ],
          "choropleth": [
           {
            "colorbar": {
             "outlinewidth": 0,
             "ticks": ""
            },
            "type": "choropleth"
           }
          ],
          "contour": [
           {
            "colorbar": {
             "outlinewidth": 0,
             "ticks": ""
            },
            "colorscale": [
             [
              0,
              "#0d0887"
             ],
             [
              0.1111111111111111,
              "#46039f"
             ],
             [
              0.2222222222222222,
              "#7201a8"
             ],
             [
              0.3333333333333333,
              "#9c179e"
             ],
             [
              0.4444444444444444,
              "#bd3786"
             ],
             [
              0.5555555555555556,
              "#d8576b"
             ],
             [
              0.6666666666666666,
              "#ed7953"
             ],
             [
              0.7777777777777778,
              "#fb9f3a"
             ],
             [
              0.8888888888888888,
              "#fdca26"
             ],
             [
              1,
              "#f0f921"
             ]
            ],
            "type": "contour"
           }
          ],
          "contourcarpet": [
           {
            "colorbar": {
             "outlinewidth": 0,
             "ticks": ""
            },
            "type": "contourcarpet"
           }
          ],
          "heatmap": [
           {
            "colorbar": {
             "outlinewidth": 0,
             "ticks": ""
            },
            "colorscale": [
             [
              0,
              "#0d0887"
             ],
             [
              0.1111111111111111,
              "#46039f"
             ],
             [
              0.2222222222222222,
              "#7201a8"
             ],
             [
              0.3333333333333333,
              "#9c179e"
             ],
             [
              0.4444444444444444,
              "#bd3786"
             ],
             [
              0.5555555555555556,
              "#d8576b"
             ],
             [
              0.6666666666666666,
              "#ed7953"
             ],
             [
              0.7777777777777778,
              "#fb9f3a"
             ],
             [
              0.8888888888888888,
              "#fdca26"
             ],
             [
              1,
              "#f0f921"
             ]
            ],
            "type": "heatmap"
           }
          ],
          "histogram": [
           {
            "marker": {
             "pattern": {
              "fillmode": "overlay",
              "size": 10,
              "solidity": 0.2
             }
            },
            "type": "histogram"
           }
          ],
          "histogram2d": [
           {
            "colorbar": {
             "outlinewidth": 0,
             "ticks": ""
            },
            "colorscale": [
             [
              0,
              "#0d0887"
             ],
             [
              0.1111111111111111,
              "#46039f"
             ],
             [
              0.2222222222222222,
              "#7201a8"
             ],
             [
              0.3333333333333333,
              "#9c179e"
             ],
             [
              0.4444444444444444,
              "#bd3786"
             ],
             [
              0.5555555555555556,
              "#d8576b"
             ],
             [
              0.6666666666666666,
              "#ed7953"
             ],
             [
              0.7777777777777778,
              "#fb9f3a"
             ],
             [
              0.8888888888888888,
              "#fdca26"
             ],
             [
              1,
              "#f0f921"
             ]
            ],
            "type": "histogram2d"
           }
          ],
          "histogram2dcontour": [
           {
            "colorbar": {
             "outlinewidth": 0,
             "ticks": ""
            },
            "colorscale": [
             [
              0,
              "#0d0887"
             ],
             [
              0.1111111111111111,
              "#46039f"
             ],
             [
              0.2222222222222222,
              "#7201a8"
             ],
             [
              0.3333333333333333,
              "#9c179e"
             ],
             [
              0.4444444444444444,
              "#bd3786"
             ],
             [
              0.5555555555555556,
              "#d8576b"
             ],
             [
              0.6666666666666666,
              "#ed7953"
             ],
             [
              0.7777777777777778,
              "#fb9f3a"
             ],
             [
              0.8888888888888888,
              "#fdca26"
             ],
             [
              1,
              "#f0f921"
             ]
            ],
            "type": "histogram2dcontour"
           }
          ],
          "mesh3d": [
           {
            "colorbar": {
             "outlinewidth": 0,
             "ticks": ""
            },
            "type": "mesh3d"
           }
          ],
          "parcoords": [
           {
            "line": {
             "colorbar": {
              "outlinewidth": 0,
              "ticks": ""
             }
            },
            "type": "parcoords"
           }
          ],
          "pie": [
           {
            "automargin": true,
            "type": "pie"
           }
          ],
          "scatter": [
           {
            "fillpattern": {
             "fillmode": "overlay",
             "size": 10,
             "solidity": 0.2
            },
            "type": "scatter"
           }
          ],
          "scatter3d": [
           {
            "line": {
             "colorbar": {
              "outlinewidth": 0,
              "ticks": ""
             }
            },
            "marker": {
             "colorbar": {
              "outlinewidth": 0,
              "ticks": ""
             }
            },
            "type": "scatter3d"
           }
          ],
          "scattercarpet": [
           {
            "marker": {
             "colorbar": {
              "outlinewidth": 0,
              "ticks": ""
             }
            },
            "type": "scattercarpet"
           }
          ],
          "scattergeo": [
           {
            "marker": {
             "colorbar": {
              "outlinewidth": 0,
              "ticks": ""
             }
            },
            "type": "scattergeo"
           }
          ],
          "scattergl": [
           {
            "marker": {
             "colorbar": {
              "outlinewidth": 0,
              "ticks": ""
             }
            },
            "type": "scattergl"
           }
          ],
          "scattermap": [
           {
            "marker": {
             "colorbar": {
              "outlinewidth": 0,
              "ticks": ""
             }
            },
            "type": "scattermap"
           }
          ],
          "scattermapbox": [
           {
            "marker": {
             "colorbar": {
              "outlinewidth": 0,
              "ticks": ""
             }
            },
            "type": "scattermapbox"
           }
          ],
          "scatterpolar": [
           {
            "marker": {
             "colorbar": {
              "outlinewidth": 0,
              "ticks": ""
             }
            },
            "type": "scatterpolar"
           }
          ],
          "scatterpolargl": [
           {
            "marker": {
             "colorbar": {
              "outlinewidth": 0,
              "ticks": ""
             }
            },
            "type": "scatterpolargl"
           }
          ],
          "scatterternary": [
           {
            "marker": {
             "colorbar": {
              "outlinewidth": 0,
              "ticks": ""
             }
            },
            "type": "scatterternary"
           }
          ],
          "surface": [
           {
            "colorbar": {
             "outlinewidth": 0,
             "ticks": ""
            },
            "colorscale": [
             [
              0,
              "#0d0887"
             ],
             [
              0.1111111111111111,
              "#46039f"
             ],
             [
              0.2222222222222222,
              "#7201a8"
             ],
             [
              0.3333333333333333,
              "#9c179e"
             ],
             [
              0.4444444444444444,
              "#bd3786"
             ],
             [
              0.5555555555555556,
              "#d8576b"
             ],
             [
              0.6666666666666666,
              "#ed7953"
             ],
             [
              0.7777777777777778,
              "#fb9f3a"
             ],
             [
              0.8888888888888888,
              "#fdca26"
             ],
             [
              1,
              "#f0f921"
             ]
            ],
            "type": "surface"
           }
          ],
          "table": [
           {
            "cells": {
             "fill": {
              "color": "#EBF0F8"
             },
             "line": {
              "color": "white"
             }
            },
            "header": {
             "fill": {
              "color": "#C8D4E3"
             },
             "line": {
              "color": "white"
             }
            },
            "type": "table"
           }
          ]
         },
         "layout": {
          "annotationdefaults": {
           "arrowcolor": "#2a3f5f",
           "arrowhead": 0,
           "arrowwidth": 1
          },
          "autotypenumbers": "strict",
          "coloraxis": {
           "colorbar": {
            "outlinewidth": 0,
            "ticks": ""
           }
          },
          "colorscale": {
           "diverging": [
            [
             0,
             "#8e0152"
            ],
            [
             0.1,
             "#c51b7d"
            ],
            [
             0.2,
             "#de77ae"
            ],
            [
             0.3,
             "#f1b6da"
            ],
            [
             0.4,
             "#fde0ef"
            ],
            [
             0.5,
             "#f7f7f7"
            ],
            [
             0.6,
             "#e6f5d0"
            ],
            [
             0.7,
             "#b8e186"
            ],
            [
             0.8,
             "#7fbc41"
            ],
            [
             0.9,
             "#4d9221"
            ],
            [
             1,
             "#276419"
            ]
           ],
           "sequential": [
            [
             0,
             "#0d0887"
            ],
            [
             0.1111111111111111,
             "#46039f"
            ],
            [
             0.2222222222222222,
             "#7201a8"
            ],
            [
             0.3333333333333333,
             "#9c179e"
            ],
            [
             0.4444444444444444,
             "#bd3786"
            ],
            [
             0.5555555555555556,
             "#d8576b"
            ],
            [
             0.6666666666666666,
             "#ed7953"
            ],
            [
             0.7777777777777778,
             "#fb9f3a"
            ],
            [
             0.8888888888888888,
             "#fdca26"
            ],
            [
             1,
             "#f0f921"
            ]
           ],
           "sequentialminus": [
            [
             0,
             "#0d0887"
            ],
            [
             0.1111111111111111,
             "#46039f"
            ],
            [
             0.2222222222222222,
             "#7201a8"
            ],
            [
             0.3333333333333333,
             "#9c179e"
            ],
            [
             0.4444444444444444,
             "#bd3786"
            ],
            [
             0.5555555555555556,
             "#d8576b"
            ],
            [
             0.6666666666666666,
             "#ed7953"
            ],
            [
             0.7777777777777778,
             "#fb9f3a"
            ],
            [
             0.8888888888888888,
             "#fdca26"
            ],
            [
             1,
             "#f0f921"
            ]
           ]
          },
          "colorway": [
           "#636efa",
           "#EF553B",
           "#00cc96",
           "#ab63fa",
           "#FFA15A",
           "#19d3f3",
           "#FF6692",
           "#B6E880",
           "#FF97FF",
           "#FECB52"
          ],
          "font": {
           "color": "#2a3f5f"
          },
          "geo": {
           "bgcolor": "white",
           "lakecolor": "white",
           "landcolor": "white",
           "showlakes": true,
           "showland": true,
           "subunitcolor": "#C8D4E3"
          },
          "hoverlabel": {
           "align": "left"
          },
          "hovermode": "closest",
          "mapbox": {
           "style": "light"
          },
          "paper_bgcolor": "white",
          "plot_bgcolor": "white",
          "polar": {
           "angularaxis": {
            "gridcolor": "#EBF0F8",
            "linecolor": "#EBF0F8",
            "ticks": ""
           },
           "bgcolor": "white",
           "radialaxis": {
            "gridcolor": "#EBF0F8",
            "linecolor": "#EBF0F8",
            "ticks": ""
           }
          },
          "scene": {
           "xaxis": {
            "backgroundcolor": "white",
            "gridcolor": "#DFE8F3",
            "gridwidth": 2,
            "linecolor": "#EBF0F8",
            "showbackground": true,
            "ticks": "",
            "zerolinecolor": "#EBF0F8"
           },
           "yaxis": {
            "backgroundcolor": "white",
            "gridcolor": "#DFE8F3",
            "gridwidth": 2,
            "linecolor": "#EBF0F8",
            "showbackground": true,
            "ticks": "",
            "zerolinecolor": "#EBF0F8"
           },
           "zaxis": {
            "backgroundcolor": "white",
            "gridcolor": "#DFE8F3",
            "gridwidth": 2,
            "linecolor": "#EBF0F8",
            "showbackground": true,
            "ticks": "",
            "zerolinecolor": "#EBF0F8"
           }
          },
          "shapedefaults": {
           "line": {
            "color": "#2a3f5f"
           }
          },
          "ternary": {
           "aaxis": {
            "gridcolor": "#DFE8F3",
            "linecolor": "#A2B1C6",
            "ticks": ""
           },
           "baxis": {
            "gridcolor": "#DFE8F3",
            "linecolor": "#A2B1C6",
            "ticks": ""
           },
           "bgcolor": "white",
           "caxis": {
            "gridcolor": "#DFE8F3",
            "linecolor": "#A2B1C6",
            "ticks": ""
           }
          },
          "title": {
           "x": 0.05
          },
          "xaxis": {
           "automargin": true,
           "gridcolor": "#EBF0F8",
           "linecolor": "#EBF0F8",
           "ticks": "",
           "title": {
            "standoff": 15
           },
           "zerolinecolor": "#EBF0F8",
           "zerolinewidth": 2
          },
          "yaxis": {
           "automargin": true,
           "gridcolor": "#EBF0F8",
           "linecolor": "#EBF0F8",
           "ticks": "",
           "title": {
            "standoff": 15
           },
           "zerolinecolor": "#EBF0F8",
           "zerolinewidth": 2
          }
         }
        },
        "title": {
         "text": "Capacity Price Over Time"
        },
        "xaxis": {
         "title": {
          "text": "Model Step"
         }
        },
        "yaxis": {
         "title": {
          "text": "$/MW-day"
         }
        }
       }
      }
     },
     "metadata": {},
     "output_type": "display_data"
    },
    {
     "data": {
      "application/vnd.plotly.v1+json": {
       "config": {
        "plotlyServerURL": "https://plot.ly"
       },
       "data": [
        {
         "line": {
          "color": "blue"
         },
         "mode": "lines+markers",
         "name": "SMEC",
         "type": "scatter",
         "x": {
          "bdata": "AQIDBAUGBwgJCgsMDQ4P",
          "dtype": "i1"
         },
         "y": [
          "[1.0, 1.0, 1.0, 1.0, 1.0, 1.0, 1.0, 1.0, 1.0, 1.0, 1.0, 1.0, 1.0, 1.0, 1.0, 1.0]",
          "[1.0, 1.0, 1.0, 1.0, 1.0, 1.0, 1.0, 1.0, 1.0, 1.0, 1.0, 1.0, 1.0, 1.0, 1.0, 1.0]",
          "[1.0, 1.0, 1.0, 1.0, 1.0, 1.0, 1.0, 1.0, 1.0, 1.0, 1.0, 1.0, 1.0, 1.0, 1.0, 1.0]",
          "[1.0, 1.0, 1.0, 1.0, 1.0, 1.0, 1.0, 1.0, 1.0, 1.0, 1.0, 1.0, 1.0, 1.0, 1.0, 1.0]",
          "[1.0, 1.0, 1.0, 1.0, 1.0, 1.0, 1.0, 1.0, 1.0, 1.0, 1.0, 1.0, 1.0, 1.0, 1.0, 1.0]",
          "[1.0, 1.0, 1.0, 1.0, 1.0, 1.0, 1.0, 1.0, 1.0, 1.0, 1.0, 1.0, 1.0, 1.0, 1.0, 1.0]",
          "[1.0, 1.0, 1.0, 1.0, 1.0, 1.0, 1.0, 1.0, 1.0, 1.0, 1.0, 1.0, 1.0, 1.0, 1.0, 1.0]",
          "[1.0, 1.0, 1.0, 1.0, 1.0, 1.0, 1.0, 1.0, 1.0, 1.0, 1.0, 1.0, 1.0, 1.0, 1.0, 1.0]",
          "[1.0, 1.0, 1.0, 1.0, 1.0, 1.0, 1.0, 1.0, 1.0, 1.0, 1.0, 1.0, 1.0, 1.0, 1.0, 1.0]",
          "[1.0, 1.0, 1.0, 1.0, 1.0, 1.0, 1.0, 1.0, 1.0, 1.0, 1.0, 1.0, 1.0, 1.0, 1.0, 1.0]",
          "[1.0, 1.0, 1.0, 1.0, 1.0, 1.0, 1.0, 1.0, 1.0, 1.0, 1.0, 1.0, 1.0, 1.0, 1.0, 1.0]",
          "[1.0, 1.0, 1.0, 1.0, 1.0, 1.0, 1.0, 1.0, 1.0, 1.0, 1.0, 1.0, 1.0, 1.0, 1.0, 1.0]",
          "[1.0, 1.0, 1.0, 1.0, 1.0, 1.0, 1.0, 1.0, 1.0, 1.0, 1.0, 1.0, 1.0, 1.0, 1.0, 1.0]",
          "[1.0, 1.0, 1.0, 1.0, 1.0, 1.0, 1.0, 1.0, 1.0, 1.0, 1.0, 1.0, 1.0, 1.0, 1.0, 1.0]",
          "[1.0, 1.0, 1.0, 1.0, 1.0, 1.0, 1.0, 1.0, 1.0, 1.0, 1.0, 1.0, 1.0, 1.0, 1.0, 1.0]"
         ]
        }
       ],
       "layout": {
        "template": {
         "data": {
          "bar": [
           {
            "error_x": {
             "color": "#2a3f5f"
            },
            "error_y": {
             "color": "#2a3f5f"
            },
            "marker": {
             "line": {
              "color": "white",
              "width": 0.5
             },
             "pattern": {
              "fillmode": "overlay",
              "size": 10,
              "solidity": 0.2
             }
            },
            "type": "bar"
           }
          ],
          "barpolar": [
           {
            "marker": {
             "line": {
              "color": "white",
              "width": 0.5
             },
             "pattern": {
              "fillmode": "overlay",
              "size": 10,
              "solidity": 0.2
             }
            },
            "type": "barpolar"
           }
          ],
          "carpet": [
           {
            "aaxis": {
             "endlinecolor": "#2a3f5f",
             "gridcolor": "#C8D4E3",
             "linecolor": "#C8D4E3",
             "minorgridcolor": "#C8D4E3",
             "startlinecolor": "#2a3f5f"
            },
            "baxis": {
             "endlinecolor": "#2a3f5f",
             "gridcolor": "#C8D4E3",
             "linecolor": "#C8D4E3",
             "minorgridcolor": "#C8D4E3",
             "startlinecolor": "#2a3f5f"
            },
            "type": "carpet"
           }
          ],
          "choropleth": [
           {
            "colorbar": {
             "outlinewidth": 0,
             "ticks": ""
            },
            "type": "choropleth"
           }
          ],
          "contour": [
           {
            "colorbar": {
             "outlinewidth": 0,
             "ticks": ""
            },
            "colorscale": [
             [
              0,
              "#0d0887"
             ],
             [
              0.1111111111111111,
              "#46039f"
             ],
             [
              0.2222222222222222,
              "#7201a8"
             ],
             [
              0.3333333333333333,
              "#9c179e"
             ],
             [
              0.4444444444444444,
              "#bd3786"
             ],
             [
              0.5555555555555556,
              "#d8576b"
             ],
             [
              0.6666666666666666,
              "#ed7953"
             ],
             [
              0.7777777777777778,
              "#fb9f3a"
             ],
             [
              0.8888888888888888,
              "#fdca26"
             ],
             [
              1,
              "#f0f921"
             ]
            ],
            "type": "contour"
           }
          ],
          "contourcarpet": [
           {
            "colorbar": {
             "outlinewidth": 0,
             "ticks": ""
            },
            "type": "contourcarpet"
           }
          ],
          "heatmap": [
           {
            "colorbar": {
             "outlinewidth": 0,
             "ticks": ""
            },
            "colorscale": [
             [
              0,
              "#0d0887"
             ],
             [
              0.1111111111111111,
              "#46039f"
             ],
             [
              0.2222222222222222,
              "#7201a8"
             ],
             [
              0.3333333333333333,
              "#9c179e"
             ],
             [
              0.4444444444444444,
              "#bd3786"
             ],
             [
              0.5555555555555556,
              "#d8576b"
             ],
             [
              0.6666666666666666,
              "#ed7953"
             ],
             [
              0.7777777777777778,
              "#fb9f3a"
             ],
             [
              0.8888888888888888,
              "#fdca26"
             ],
             [
              1,
              "#f0f921"
             ]
            ],
            "type": "heatmap"
           }
          ],
          "histogram": [
           {
            "marker": {
             "pattern": {
              "fillmode": "overlay",
              "size": 10,
              "solidity": 0.2
             }
            },
            "type": "histogram"
           }
          ],
          "histogram2d": [
           {
            "colorbar": {
             "outlinewidth": 0,
             "ticks": ""
            },
            "colorscale": [
             [
              0,
              "#0d0887"
             ],
             [
              0.1111111111111111,
              "#46039f"
             ],
             [
              0.2222222222222222,
              "#7201a8"
             ],
             [
              0.3333333333333333,
              "#9c179e"
             ],
             [
              0.4444444444444444,
              "#bd3786"
             ],
             [
              0.5555555555555556,
              "#d8576b"
             ],
             [
              0.6666666666666666,
              "#ed7953"
             ],
             [
              0.7777777777777778,
              "#fb9f3a"
             ],
             [
              0.8888888888888888,
              "#fdca26"
             ],
             [
              1,
              "#f0f921"
             ]
            ],
            "type": "histogram2d"
           }
          ],
          "histogram2dcontour": [
           {
            "colorbar": {
             "outlinewidth": 0,
             "ticks": ""
            },
            "colorscale": [
             [
              0,
              "#0d0887"
             ],
             [
              0.1111111111111111,
              "#46039f"
             ],
             [
              0.2222222222222222,
              "#7201a8"
             ],
             [
              0.3333333333333333,
              "#9c179e"
             ],
             [
              0.4444444444444444,
              "#bd3786"
             ],
             [
              0.5555555555555556,
              "#d8576b"
             ],
             [
              0.6666666666666666,
              "#ed7953"
             ],
             [
              0.7777777777777778,
              "#fb9f3a"
             ],
             [
              0.8888888888888888,
              "#fdca26"
             ],
             [
              1,
              "#f0f921"
             ]
            ],
            "type": "histogram2dcontour"
           }
          ],
          "mesh3d": [
           {
            "colorbar": {
             "outlinewidth": 0,
             "ticks": ""
            },
            "type": "mesh3d"
           }
          ],
          "parcoords": [
           {
            "line": {
             "colorbar": {
              "outlinewidth": 0,
              "ticks": ""
             }
            },
            "type": "parcoords"
           }
          ],
          "pie": [
           {
            "automargin": true,
            "type": "pie"
           }
          ],
          "scatter": [
           {
            "fillpattern": {
             "fillmode": "overlay",
             "size": 10,
             "solidity": 0.2
            },
            "type": "scatter"
           }
          ],
          "scatter3d": [
           {
            "line": {
             "colorbar": {
              "outlinewidth": 0,
              "ticks": ""
             }
            },
            "marker": {
             "colorbar": {
              "outlinewidth": 0,
              "ticks": ""
             }
            },
            "type": "scatter3d"
           }
          ],
          "scattercarpet": [
           {
            "marker": {
             "colorbar": {
              "outlinewidth": 0,
              "ticks": ""
             }
            },
            "type": "scattercarpet"
           }
          ],
          "scattergeo": [
           {
            "marker": {
             "colorbar": {
              "outlinewidth": 0,
              "ticks": ""
             }
            },
            "type": "scattergeo"
           }
          ],
          "scattergl": [
           {
            "marker": {
             "colorbar": {
              "outlinewidth": 0,
              "ticks": ""
             }
            },
            "type": "scattergl"
           }
          ],
          "scattermap": [
           {
            "marker": {
             "colorbar": {
              "outlinewidth": 0,
              "ticks": ""
             }
            },
            "type": "scattermap"
           }
          ],
          "scattermapbox": [
           {
            "marker": {
             "colorbar": {
              "outlinewidth": 0,
              "ticks": ""
             }
            },
            "type": "scattermapbox"
           }
          ],
          "scatterpolar": [
           {
            "marker": {
             "colorbar": {
              "outlinewidth": 0,
              "ticks": ""
             }
            },
            "type": "scatterpolar"
           }
          ],
          "scatterpolargl": [
           {
            "marker": {
             "colorbar": {
              "outlinewidth": 0,
              "ticks": ""
             }
            },
            "type": "scatterpolargl"
           }
          ],
          "scatterternary": [
           {
            "marker": {
             "colorbar": {
              "outlinewidth": 0,
              "ticks": ""
             }
            },
            "type": "scatterternary"
           }
          ],
          "surface": [
           {
            "colorbar": {
             "outlinewidth": 0,
             "ticks": ""
            },
            "colorscale": [
             [
              0,
              "#0d0887"
             ],
             [
              0.1111111111111111,
              "#46039f"
             ],
             [
              0.2222222222222222,
              "#7201a8"
             ],
             [
              0.3333333333333333,
              "#9c179e"
             ],
             [
              0.4444444444444444,
              "#bd3786"
             ],
             [
              0.5555555555555556,
              "#d8576b"
             ],
             [
              0.6666666666666666,
              "#ed7953"
             ],
             [
              0.7777777777777778,
              "#fb9f3a"
             ],
             [
              0.8888888888888888,
              "#fdca26"
             ],
             [
              1,
              "#f0f921"
             ]
            ],
            "type": "surface"
           }
          ],
          "table": [
           {
            "cells": {
             "fill": {
              "color": "#EBF0F8"
             },
             "line": {
              "color": "white"
             }
            },
            "header": {
             "fill": {
              "color": "#C8D4E3"
             },
             "line": {
              "color": "white"
             }
            },
            "type": "table"
           }
          ]
         },
         "layout": {
          "annotationdefaults": {
           "arrowcolor": "#2a3f5f",
           "arrowhead": 0,
           "arrowwidth": 1
          },
          "autotypenumbers": "strict",
          "coloraxis": {
           "colorbar": {
            "outlinewidth": 0,
            "ticks": ""
           }
          },
          "colorscale": {
           "diverging": [
            [
             0,
             "#8e0152"
            ],
            [
             0.1,
             "#c51b7d"
            ],
            [
             0.2,
             "#de77ae"
            ],
            [
             0.3,
             "#f1b6da"
            ],
            [
             0.4,
             "#fde0ef"
            ],
            [
             0.5,
             "#f7f7f7"
            ],
            [
             0.6,
             "#e6f5d0"
            ],
            [
             0.7,
             "#b8e186"
            ],
            [
             0.8,
             "#7fbc41"
            ],
            [
             0.9,
             "#4d9221"
            ],
            [
             1,
             "#276419"
            ]
           ],
           "sequential": [
            [
             0,
             "#0d0887"
            ],
            [
             0.1111111111111111,
             "#46039f"
            ],
            [
             0.2222222222222222,
             "#7201a8"
            ],
            [
             0.3333333333333333,
             "#9c179e"
            ],
            [
             0.4444444444444444,
             "#bd3786"
            ],
            [
             0.5555555555555556,
             "#d8576b"
            ],
            [
             0.6666666666666666,
             "#ed7953"
            ],
            [
             0.7777777777777778,
             "#fb9f3a"
            ],
            [
             0.8888888888888888,
             "#fdca26"
            ],
            [
             1,
             "#f0f921"
            ]
           ],
           "sequentialminus": [
            [
             0,
             "#0d0887"
            ],
            [
             0.1111111111111111,
             "#46039f"
            ],
            [
             0.2222222222222222,
             "#7201a8"
            ],
            [
             0.3333333333333333,
             "#9c179e"
            ],
            [
             0.4444444444444444,
             "#bd3786"
            ],
            [
             0.5555555555555556,
             "#d8576b"
            ],
            [
             0.6666666666666666,
             "#ed7953"
            ],
            [
             0.7777777777777778,
             "#fb9f3a"
            ],
            [
             0.8888888888888888,
             "#fdca26"
            ],
            [
             1,
             "#f0f921"
            ]
           ]
          },
          "colorway": [
           "#636efa",
           "#EF553B",
           "#00cc96",
           "#ab63fa",
           "#FFA15A",
           "#19d3f3",
           "#FF6692",
           "#B6E880",
           "#FF97FF",
           "#FECB52"
          ],
          "font": {
           "color": "#2a3f5f"
          },
          "geo": {
           "bgcolor": "white",
           "lakecolor": "white",
           "landcolor": "white",
           "showlakes": true,
           "showland": true,
           "subunitcolor": "#C8D4E3"
          },
          "hoverlabel": {
           "align": "left"
          },
          "hovermode": "closest",
          "mapbox": {
           "style": "light"
          },
          "paper_bgcolor": "white",
          "plot_bgcolor": "white",
          "polar": {
           "angularaxis": {
            "gridcolor": "#EBF0F8",
            "linecolor": "#EBF0F8",
            "ticks": ""
           },
           "bgcolor": "white",
           "radialaxis": {
            "gridcolor": "#EBF0F8",
            "linecolor": "#EBF0F8",
            "ticks": ""
           }
          },
          "scene": {
           "xaxis": {
            "backgroundcolor": "white",
            "gridcolor": "#DFE8F3",
            "gridwidth": 2,
            "linecolor": "#EBF0F8",
            "showbackground": true,
            "ticks": "",
            "zerolinecolor": "#EBF0F8"
           },
           "yaxis": {
            "backgroundcolor": "white",
            "gridcolor": "#DFE8F3",
            "gridwidth": 2,
            "linecolor": "#EBF0F8",
            "showbackground": true,
            "ticks": "",
            "zerolinecolor": "#EBF0F8"
           },
           "zaxis": {
            "backgroundcolor": "white",
            "gridcolor": "#DFE8F3",
            "gridwidth": 2,
            "linecolor": "#EBF0F8",
            "showbackground": true,
            "ticks": "",
            "zerolinecolor": "#EBF0F8"
           }
          },
          "shapedefaults": {
           "line": {
            "color": "#2a3f5f"
           }
          },
          "ternary": {
           "aaxis": {
            "gridcolor": "#DFE8F3",
            "linecolor": "#A2B1C6",
            "ticks": ""
           },
           "baxis": {
            "gridcolor": "#DFE8F3",
            "linecolor": "#A2B1C6",
            "ticks": ""
           },
           "bgcolor": "white",
           "caxis": {
            "gridcolor": "#DFE8F3",
            "linecolor": "#A2B1C6",
            "ticks": ""
           }
          },
          "title": {
           "x": 0.05
          },
          "xaxis": {
           "automargin": true,
           "gridcolor": "#EBF0F8",
           "linecolor": "#EBF0F8",
           "ticks": "",
           "title": {
            "standoff": 15
           },
           "zerolinecolor": "#EBF0F8",
           "zerolinewidth": 2
          },
          "yaxis": {
           "automargin": true,
           "gridcolor": "#EBF0F8",
           "linecolor": "#EBF0F8",
           "ticks": "",
           "title": {
            "standoff": 15
           },
           "zerolinecolor": "#EBF0F8",
           "zerolinewidth": 2
          }
         }
        },
        "title": {
         "text": "SMEC Over Time"
        },
        "xaxis": {
         "title": {
          "text": "Model Step"
         }
        },
        "yaxis": {
         "title": {
          "text": "$/MWh"
         }
        }
       }
      }
     },
     "metadata": {},
     "output_type": "display_data"
    }
   ],
   "source": [
    "import pandas as pd\n",
    "import plotly.graph_objects as go\n",
    "\n",
    "# Load your CSV with model-level summaries\n",
    "df = pd.read_csv(\"model_round_summary.csv\")\n",
    "\n",
    "# -------------------------------\n",
    "# 1. Counts: dropped_out, pending, online (total)\n",
    "fig_counts_total = go.Figure()\n",
    "fig_counts_total.add_trace(go.Scatter(\n",
    "    x=df['model_step'],\n",
    "    y=df['dropped_out_count'],\n",
    "    mode='lines+markers',\n",
    "    name='Dropped Out',\n",
    "    line=dict(color='red')\n",
    "))\n",
    "fig_counts_total.add_trace(go.Scatter(\n",
    "    x=df['model_step'],\n",
    "    y=df['pending_count'],\n",
    "    mode='lines+markers',\n",
    "    name='Pending',\n",
    "    line=dict(color='orange')\n",
    "))\n",
    "fig_counts_total.add_trace(go.Scatter(\n",
    "    x=df['model_step'],\n",
    "    y=df['online_count'],\n",
    "    mode='lines+markers',\n",
    "    name='Online',\n",
    "    line=dict(color='green')\n",
    "))\n",
    "fig_counts_total.update_layout(\n",
    "    title=\"Project Counts Over Time (Total)\",\n",
    "    xaxis_title=\"Model Step\",\n",
    "    yaxis_title=\"Number of Projects\"\n",
    ")\n",
    "fig_counts_total.show()\n",
    "\n",
    "# -------------------------------\n",
    "# 2. Counts by service type\n",
    "status_types = ['dropped_out', 'pending', 'online']\n",
    "service_types = ['eris', 'nris']\n",
    "\n",
    "fig_counts_service = go.Figure()\n",
    "for status in status_types:\n",
    "    for service in service_types:\n",
    "        col_name = f\"{status}_{service}_count\"\n",
    "        fig_counts_service.add_trace(go.Scatter(\n",
    "            x=df['model_step'],\n",
    "            y=df[col_name],\n",
    "            mode='lines+markers',\n",
    "            name=f\"{status.capitalize()} {service.upper()}\",\n",
    "        ))\n",
    "fig_counts_service.update_layout(\n",
    "    title=\"Project Counts Over Time by Service Type\",\n",
    "    xaxis_title=\"Model Step\",\n",
    "    yaxis_title=\"Number of Projects\"\n",
    ")\n",
    "fig_counts_service.show()\n",
    "\n",
    "# -------------------------------\n",
    "# 3. MW by status & service type\n",
    "fig_mw_service = go.Figure()\n",
    "for status in status_types:\n",
    "    for service in service_types:\n",
    "        col_name = f\"{status}_{service}_mw\"\n",
    "        fig_mw_service.add_trace(go.Scatter(\n",
    "            x=df['model_step'],\n",
    "            y=df[col_name],\n",
    "            mode='lines+markers',\n",
    "            name=f\"{status.capitalize()} {service.upper()} MW\",\n",
    "        ))\n",
    "fig_mw_service.update_layout(\n",
    "    title=\"MW Sums Over Time by Status & Service Type\",\n",
    "    xaxis_title=\"Model Step\",\n",
    "    yaxis_title=\"MW\"\n",
    ")\n",
    "fig_mw_service.show()\n",
    "\n",
    "# -------------------------------\n",
    "\n",
    "# -------------------------------\n",
    "# 5. Construction Times\n",
    "fig_construction = go.Figure()\n",
    "fig_construction.add_trace(go.Scatter(\n",
    "    x=df['model_step'],\n",
    "    y=df['avg_construction_time'],\n",
    "    mode='lines+markers',\n",
    "    name='Avg Construction Time (All)',\n",
    "    line=dict(color='blue')\n",
    "))\n",
    "fig_construction.add_trace(go.Scatter(\n",
    "    x=df['model_step'],\n",
    "    y=df['avg_construction_time_eris'],\n",
    "    mode='lines+markers',\n",
    "    name='Avg Construction Time (ERIS)',\n",
    "    line=dict(color='green', dash='dash')\n",
    "))\n",
    "fig_construction.add_trace(go.Scatter(\n",
    "    x=df['model_step'],\n",
    "    y=df['avg_construction_time_nris'],\n",
    "    mode='lines+markers',\n",
    "    name='Avg Construction Time (NRIS)',\n",
    "    line=dict(color='red', dash='dot')\n",
    "))\n",
    "fig_construction.update_layout(\n",
    "    title=\"Average Construction Time Over Time\",\n",
    "    xaxis_title=\"Model Step\",\n",
    "    yaxis_title=\"Time (years)\"\n",
    ")\n",
    "fig_construction.show()\n",
    "\n",
    "# -------------------------------\n",
    "# 6. Study Times\n",
    "fig_study = go.Figure()\n",
    "fig_study.add_trace(go.Scatter(\n",
    "    x=df['model_step'],\n",
    "    y=df['study_time_all'],\n",
    "    mode='lines+markers',\n",
    "    name='Avg Study Time (All)',\n",
    "    line=dict(color='cyan')\n",
    "))\n",
    "fig_study.add_trace(go.Scatter(\n",
    "    x=df['model_step'],\n",
    "    y=df['study_time_eris'],\n",
    "    mode='lines+markers',\n",
    "    name='Avg Study Time (ERIS)',\n",
    "    line=dict(color='lime', dash='dash')\n",
    "))\n",
    "fig_study.add_trace(go.Scatter(\n",
    "    x=df['model_step'],\n",
    "    y=df['study_time_nris'],\n",
    "    mode='lines+markers',\n",
    "    name='Avg Study Time (NRIS)',\n",
    "    line=dict(color='magenta', dash='dot')\n",
    "))\n",
    "fig_study.update_layout(\n",
    "    title=\"Average Study Time Over Time\",\n",
    "    xaxis_title=\"Model Step\",\n",
    "    yaxis_title=\"Time (years)\"\n",
    ")\n",
    "fig_study.show()\n",
    "\n",
    "# 7. Assigned Costs\n",
    "fig_assigned_cost = go.Figure()\n",
    "fig_assigned_cost.add_trace(go.Scatter(\n",
    "    x=df['model_step'],\n",
    "    y=df['nu_all_avg'],\n",
    "    mode='lines+markers',\n",
    "    name='Avg Assigned Cost (All)',\n",
    "    line=dict(color='blue')\n",
    "))\n",
    "fig_assigned_cost.add_trace(go.Scatter(\n",
    "    x=df['model_step'],\n",
    "    y=df['nu_eris_avg'],\n",
    "    mode='lines+markers',\n",
    "    name='Avg Assigned Cost (ERIS)',\n",
    "    line=dict(color='green', dash='dash')\n",
    "))\n",
    "fig_assigned_cost.add_trace(go.Scatter(\n",
    "    x=df['model_step'],\n",
    "    y=df['nu_nris_avg'],\n",
    "    mode='lines+markers',\n",
    "    name='Avg Assigned Cost (NRIS)',\n",
    "    line=dict(color='red', dash='dot')\n",
    "))\n",
    "fig_assigned_cost.update_layout(\n",
    "    title=\"Average Assigned Cost Over Time\",\n",
    "    xaxis_title=\"Model Step\",\n",
    "    yaxis_title=\"Cost (currency units)\",  # adjust as needed\n",
    "    template=\"plotly_white\"\n",
    ")\n",
    "fig_assigned_cost.show()\n",
    "\n",
    "#Capacity Price\n",
    "\n",
    "fig_capacity = go.Figure()\n",
    "fig_capacity.add_trace(go.Scatter(\n",
    "    x=df['model_step'],\n",
    "    y=df['capacity_price'],\n",
    "    mode='lines+markers',\n",
    "    name='Capacity Price',\n",
    "    line=dict(color='blue')\n",
    "))\n",
    "\n",
    "fig_capacity.update_layout(\n",
    "    title=\"Capacity Price Over Time\",\n",
    "    xaxis_title=\"Model Step\",\n",
    "    yaxis_title=\"$/MW-day\",  # adjust as needed\n",
    "    template=\"plotly_white\"\n",
    ")\n",
    "fig_capacity.show()\n",
    "\n",
    "#SMEC\n",
    "fig_smec = go.Figure()\n",
    "fig_smec.add_trace(go.Scatter(\n",
    "    x=df['model_step'],\n",
    "    y=df['system_marginal_energy_price'],\n",
    "    mode='lines+markers',\n",
    "    name='SMEC',\n",
    "    line=dict(color='blue')\n",
    "))\n",
    "\n",
    "fig_smec.update_layout(\n",
    "    title=\"SMEC Over Time\",\n",
    "    xaxis_title=\"Model Step\",\n",
    "    yaxis_title=\"$/MWh\",  # adjust as needed\n",
    "    template=\"plotly_white\"\n",
    ")\n",
    "fig_smec.show()\n",
    "\n",
    "\n"
   ]
  },
  {
   "cell_type": "code",
   "execution_count": 138,
   "id": "21608cea",
   "metadata": {},
   "outputs": [
    {
     "name": "stdout",
     "output_type": "stream",
     "text": [
      "dict_keys(['developer_states', 'node_states', 'capacity_price', 'new_projects_df', 'base_construction', 'seed'])\n"
     ]
    },
    {
     "data": {
      "application/vnd.jupyter.widget-view+json": {
       "model_id": "1191586cde7f486ba710113e1c3101b5",
       "version_major": 2,
       "version_minor": 0
      },
      "text/html": [
       "Cannot show widget. You probably want to rerun the code cell above (<i>Click in the code cell, and press Shift+Enter <kbd>⇧</kbd>+<kbd>↩</kbd></i>)."
      ],
      "text/plain": [
       "Cannot show ipywidgets in text"
      ]
     },
     "metadata": {},
     "output_type": "display_data"
    }
   ],
   "source": [
    "from mesa.visualization import SolaraViz, make_plot_component, Slider\n",
    "import solara\n",
    "model_params = {\n",
    "    \"developer_states\": developer_states,\n",
    "    \"node_states\": node_states,\n",
    "    \"capacity_price\": capacity_price,\n",
    "    \"new_projects_df\": new_projects_df,\n",
    "    \"base_construction\": 1,\n",
    "    \"seed\": None\n",
    "}\n",
    "\n",
    "# Your agent portrayal function\n",
    "def agent_portrayal(agent):\n",
    "    color = \"gray\"\n",
    "    if hasattr(agent, \"fuel_type\"):\n",
    "        if agent.fuel_type == \"solar\":\n",
    "            color = \"yellow\"\n",
    "        elif agent.fuel_type == \"wind\":\n",
    "            color = \"green\"\n",
    "        elif agent.fuel_type == \"natural_gas\":\n",
    "            color = \"red\"\n",
    "\n",
    "    label = getattr(agent, \"chosen_node\", \"None\")\n",
    "\n",
    "    return {\n",
    "        \"color\": color,\n",
    "        \"size\": 50,\n",
    "        \"label\": f\"{agent.fuel_type}\\n{label}\"\n",
    "    }\n",
    "print(model_params.keys())\n",
    "\n",
    "# Now define the visualization using your model class (not instance)\n",
    "page = SolaraViz(\n",
    "    model_instance,  # <-- Pass class, not instance\n",
    "    [\n",
    "        make_plot_component([\"NRIS_num_projects\", \"ERIS_num_projects\", \"num_online\"]),\n",
    "        make_plot_component([\"NRIS_MW\", \"ERIS_MW\"]),\n",
    "        make_plot_component(\"system_marginal_energy_cost\"),\n",
    "        #make_plot_component(\"average_revenue\"),\n",
    "        #make_plot_component(\"num_total_projects\"),\n",
    "        make_plot_component(\"num_dropped_out\"),\n",
    "        \n",
    "        #make_plot_component(\"num_online\"),\n",
    "       #make_plot_component(\"MW_online\"),\n",
    "        make_plot_component (\"capacity_price\"),\n",
    "        #make_plot_component (\"projects_per_node\"),\n",
    "        #make_plot_component(\"ERIS_to_NRIS_MW_ratio\"),\n",
    "        #make_plot_component([\"node_total_projects\", \"node_total_eris\", \"node_total_nris\", \"node_congestion_cost\"])\n",
    "    ],\n",
    "    model_params=model_params\n",
    ")\n",
    "\n",
    "\n",
    "page\n",
    "\n"
   ]
  },
  {
   "cell_type": "code",
   "execution_count": 139,
   "id": "dd09f0cc",
   "metadata": {},
   "outputs": [
    {
     "ename": "NameError",
     "evalue": "name 'total_capacity_reference' is not defined",
     "output_type": "error",
     "traceback": [
      "\u001b[31m---------------------------------------------------------------------------\u001b[39m",
      "\u001b[31mNameError\u001b[39m                                 Traceback (most recent call last)",
      "\u001b[36mCell\u001b[39m\u001b[36m \u001b[39m\u001b[32mIn[139]\u001b[39m\u001b[32m, line 6\u001b[39m\n\u001b[32m      1\u001b[39m parameters = {\n\u001b[32m      2\u001b[39m     \u001b[33m\"\u001b[39m\u001b[33mdeveloper_states\u001b[39m\u001b[33m\"\u001b[39m: [developer_states],   \u001b[38;5;66;03m# note the list with one DataFrame\u001b[39;00m\n\u001b[32m      3\u001b[39m     \u001b[33m\"\u001b[39m\u001b[33mnode_states\u001b[39m\u001b[33m\"\u001b[39m: [node_states],\n\u001b[32m      4\u001b[39m     \u001b[33m\"\u001b[39m\u001b[33mnew_projects_df\u001b[39m\u001b[33m\"\u001b[39m: [new_projects_df],\n\u001b[32m      5\u001b[39m     \u001b[33m\"\u001b[39m\u001b[33mcapacity_price\u001b[39m\u001b[33m\"\u001b[39m: [capacity_price],\n\u001b[32m----> \u001b[39m\u001b[32m6\u001b[39m     \u001b[33m\"\u001b[39m\u001b[33mtotal_capacity_reference\u001b[39m\u001b[33m\"\u001b[39m: [\u001b[43mtotal_capacity_reference\u001b[49m],\n\u001b[32m      7\u001b[39m     \u001b[33m\"\u001b[39m\u001b[33mbase_construction\u001b[39m\u001b[33m\"\u001b[39m: [\u001b[32m1\u001b[39m],\n\u001b[32m      8\u001b[39m }\n\u001b[32m     10\u001b[39m results = mesa.batch_run(\n\u001b[32m     11\u001b[39m     InterconnectionModel,\n\u001b[32m     12\u001b[39m     parameters,\n\u001b[32m   (...)\u001b[39m\u001b[32m     16\u001b[39m     number_processes=\u001b[32m1\u001b[39m,\n\u001b[32m     17\u001b[39m )\n\u001b[32m     18\u001b[39m results_df = pd.DataFrame(results)\n",
      "\u001b[31mNameError\u001b[39m: name 'total_capacity_reference' is not defined"
     ]
    }
   ],
   "source": [
    "parameters = {\n",
    "    \"developer_states\": [developer_states],   # note the list with one DataFrame\n",
    "    \"node_states\": [node_states],\n",
    "    \"new_projects_df\": [new_projects_df],\n",
    "    \"capacity_price\": [capacity_price],\n",
    "    \"total_capacity_reference\": [total_capacity_reference],\n",
    "    \"base_construction\": [1],\n",
    "}\n",
    "\n",
    "results = mesa.batch_run(\n",
    "    InterconnectionModel,\n",
    "    parameters,\n",
    "    iterations=4,\n",
    "    max_steps=20,\n",
    "    data_collection_period=1,\n",
    "    number_processes=1,\n",
    ")\n",
    "results_df = pd.DataFrame(results)\n",
    "\n",
    "# Export to CSV\n",
    "results_df.to_csv(\"batch_run_results.csv\", index=False)\n"
   ]
  },
  {
   "cell_type": "code",
   "execution_count": null,
   "id": "64fc8b43",
   "metadata": {},
   "outputs": [
    {
     "name": "stderr",
     "output_type": "stream",
     "text": [
      "Component react.component(mesa.visualization.solara_viz.WrappedComponent) raised exception TypeError(\"'Slider' object is not callable\")\n",
      "Traceback (most recent call last):\n",
      "  File \"c:\\Users\\abigail.weeks\\AppData\\Local\\Programs\\Python\\Python313\\Lib\\site-packages\\reacton\\core.py\", line 1702, in _render\n",
      "    root_element = el.component.f(*el.args, **el.kwargs)\n",
      "  File \"c:\\Users\\abigail.weeks\\AppData\\Local\\Programs\\Python\\Python313\\Lib\\site-packages\\mesa\\visualization\\solara_viz.py\", line 210, in WrappedComponent\n",
      "    return component(model)\n",
      "TypeError: 'Slider' object is not callable\n"
     ]
    },
    {
     "data": {
      "application/vnd.jupyter.widget-view+json": {
       "model_id": "d1e4a57dcf3a41d9b0edbe00b29031f9",
       "version_major": 2,
       "version_minor": 0
      },
      "text/html": [
       "Cannot show widget. You probably want to rerun the code cell above (<i>Click in the code cell, and press Shift+Enter <kbd>⇧</kbd>+<kbd>↩</kbd></i>)."
      ],
      "text/plain": [
       "Cannot show ipywidgets in text"
      ]
     },
     "metadata": {},
     "output_type": "display_data"
    }
   ],
   "source": [
    "from mesa.visualization import SolaraViz, make_plot_component, Slider\n",
    "\n",
    "model_params = {\n",
    "    \"capacity_price\": capacity_price,\n",
    "    \"developer_states\": developer_states,\n",
    "    \"node_states\": node_states,\n",
    "    \"new_projects_df\": new_projects_df,\n",
    "    \"base_construction\": 1,\n",
    "    \"seed\": None\n",
    "}\n",
    "\n",
    "# Your agent portrayal function (unchanged)\n",
    "def agent_portrayal(agent):\n",
    "    color = \"gray\"\n",
    "    if hasattr(agent, \"fuel_type\"):\n",
    "        if agent.fuel_type == \"solar\":\n",
    "            color = \"yellow\"\n",
    "        elif agent.fuel_type == \"wind\":\n",
    "            color = \"green\"\n",
    "        elif agent.fuel_type == \"natural_gas\":\n",
    "            color = \"red\"\n",
    "\n",
    "    label = getattr(agent, \"chosen_node\", \"None\")\n",
    "\n",
    "    return {\n",
    "        \"color\": color,\n",
    "        \"size\": 50,\n",
    "        \"label\": f\"{agent.fuel_type}\\n{label}\"\n",
    "    }\n",
    "\n",
    "# Define slider for capacity_price parameter\n",
    "capacity_price_slider = Slider(\n",
    "    min=0.5,\n",
    "    max=1.5,\n",
    "    step=0.01,\n",
    "    value=model_params[\"capacity_price\"],\n",
    "    label=\"Capacity Price\"\n",
    ")\n",
    "\n",
    "# Now define the visualization including the slider\n",
    "page = SolaraViz(\n",
    "    model_instance,  # Note: pass the model class, not instance\n",
    "    [\n",
    "        capacity_price_slider,  # Add slider here\n",
    "        make_plot_component([\"NRIS_num_projects\", \"ERIS_num_projects\", \"num_online\"]),\n",
    "        make_plot_component([\"NRIS_MW\", \"ERIS_MW\"]),\n",
    "        make_plot_component(\"system_marginal_energy_cost\"),\n",
    "        make_plot_component(\"num_dropped_out\"),\n",
    "        make_plot_component(\"capacity_price\"),\n",
    "    ],\n",
    "    model_params=model_params\n",
    ")\n",
    "\n",
    "page\n"
   ]
  }
 ],
 "metadata": {
  "kernelspec": {
   "display_name": "Python 3",
   "language": "python",
   "name": "python3"
  },
  "language_info": {
   "codemirror_mode": {
    "name": "ipython",
    "version": 3
   },
   "file_extension": ".py",
   "mimetype": "text/x-python",
   "name": "python",
   "nbconvert_exporter": "python",
   "pygments_lexer": "ipython3",
   "version": "3.13.3"
  }
 },
 "nbformat": 4,
 "nbformat_minor": 5
}

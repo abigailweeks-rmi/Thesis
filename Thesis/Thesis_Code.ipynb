{
 "cells": [
  {
   "cell_type": "markdown",
   "id": "02d7c02a",
   "metadata": {},
   "source": [
    "# Setting up Workbook with packages and data and colors"
   ]
  },
  {
   "cell_type": "code",
   "execution_count": 54,
   "id": "ba143e8b",
   "metadata": {},
   "outputs": [
    {
     "name": "stdout",
     "output_type": "stream",
     "text": [
      "c:\\Users\\abigail.weeks\\AppData\\Local\\anaconda3\\envs\\cheshire\\python.exe\n",
      "New working directory: c:\\Users\\abigail.weeks\\OneDrive - RMI\\Documents\\GitHub\\Thesis\\Thesis\n"
     ]
    }
   ],
   "source": [
    "import pandas as pd\n",
    "pd.set_option('display.max_columns', None)\n",
    "import numpy as np\n",
    "import plotly.graph_objects as go\n",
    "from plotly.subplots import make_subplots\n",
    "import plotly.express as px\n",
    "import matplotlib.pyplot as plt\n",
    "import seaborn as sns\n",
    "import os\n",
    "import sys\n",
    "print (sys.executable)\n",
    "print(\"New working directory:\", os.getcwd())\n",
    "import rapidfuzz\n",
    "from rapidfuzz import fuzz, process\n",
    "\n",
    "\n"
   ]
  },
  {
   "cell_type": "code",
   "execution_count": 55,
   "id": "88298583",
   "metadata": {},
   "outputs": [
    {
     "name": "stdout",
     "output_type": "stream",
     "text": [
      "Requirement already satisfied: rapidfuzz in c:\\users\\abigail.weeks\\appdata\\local\\anaconda3\\envs\\cheshire\\lib\\site-packages (3.13.0)\n"
     ]
    }
   ],
   "source": [
    "import sys\n",
    "!{sys.executable} -m pip install rapidfuzz"
   ]
  },
  {
   "cell_type": "markdown",
   "id": "3324aec3",
   "metadata": {},
   "source": [
    "# Characterizing PJM Existing Generation by Fuel Type and Developer\n",
    "### Open question: How much of the current capacity on the grid is ERIS??"
   ]
  },
  {
   "cell_type": "code",
   "execution_count": 56,
   "id": "85191601",
   "metadata": {},
   "outputs": [
    {
     "name": "stdout",
     "output_type": "stream",
     "text": [
      "Index(['POWER_PLANT', 'PLANT_KEY', 'TECH_TYPE', 'OPER_CAPACITY_PLANT', 'OWNER',\n",
      "       'OWNER_EIA_UTILITY_CODE', 'MO_1ST_UNIT_IN_SVC', 'YR_1ST_UNIT_IN_SVC',\n",
      "       'FUEL_TYPE', 'ULT_PARENT'],\n",
      "      dtype='object')\n",
      "Index(['Project ID', 'Cycle', 'Stage', 'Name', 'Commercial Name', 'Developer',\n",
      "       'State', 'County', 'Status', 'Project Type', 'Transmission Owner',\n",
      "       'MFO', 'MW Energy', 'MW Capacity', 'MW In Service',\n",
      "       'Capacity or Energy', 'Fuel', 'Submitted Date',\n",
      "       'Requested In-Service Date', 'Revised In-Service Date',\n",
      "       'Actual In-Service Date', 'Commercial Operation Milestone',\n",
      "       'Backfeed Date', 'Test Energy Date', 'Last Updated', 'Withdrawn Date',\n",
      "       'Withdrawn Remarks', 'Phase 1 SIS Report', 'Phase 1 SIS Report Status',\n",
      "       'Phase 2 SIS Report', 'Phase 2 SIS Report Status', 'Phase 3 SIS Report',\n",
      "       'Phase 3 SIS Report Status', 'GIA/WMPA Report',\n",
      "       'GIA/WMPA Report Status', 'CSA/USCA Report', 'CSA/USCA Report Status',\n",
      "       'Transmission Type', 'Rights (MW)', 'Long-Term Firm Service Start Date',\n",
      "       'Long-Term Firm Service End Date'],\n",
      "      dtype='object')\n",
      "['Storage' 'Solar' 'Natural Gas' 'Solar & Storage' 'Offshore Wind' 'Wind'\n",
      " 'Nuclear' 'Wind & Solar' 'Hydro' 'Biomass' 'Coal']\n"
     ]
    }
   ],
   "source": [
    "PJM_existing_power_plants = pd.read_excel('Data/PJM_Power_Plants_6_13_2025.xlsx')\n",
    "print(PJM_existing_power_plants.columns)\n",
    "PJM_queued_plants=pd.read_excel('Data/PJM_Queue_Power_Plants_6_13_2025.xlsx')\n",
    "print(PJM_queued_plants.columns)\n",
    "PJM_queued_plants = PJM_queued_plants[PJM_queued_plants['Project Type'] != 'Merchant Transmission']\n",
    "PJM_queued_plants['Fuel'] = PJM_queued_plants['Fuel'].replace('Solar,Storage,Hybrid', 'Solar & Storage')\n",
    "PJM_queued_plants['Fuel'] = PJM_queued_plants['Fuel'].replace('Wind,Solar,Hybrid', 'Wind & Solar')\n",
    "PJM_queued_plants['Fuel'] = PJM_queued_plants['Fuel'].replace('Solar,Wind,Hybrid', 'Wind & Solar')\n",
    "PJM_nodes=pd.read_excel('node_states.xlsx')\n",
    "print(PJM_queued_plants['Fuel'].dropna().unique())\n",
    "fuel_color_map = {'Coal': '#000000',\n",
    " 'Natural Gas': '#58585b',\n",
    " 'Nuclear': '#73ff7c',\n",
    " 'Other': 'pink',\n",
    " 'Solar': '#FFCB00',\n",
    "  'Solar ERIS': '#FFCB00',\n",
    " 'Storage': 'yellow',\n",
    " 'Storage ERIS': 'yellow',\n",
    " 'Wind': '#3DADF2', \n",
    " 'Hydro': 'blue', \n",
    " 'Oil': 'red', \n",
    " 'Nuclear':'purple',\n",
    " 'Offshore Wind': 'darkblue',\n",
    " 'Solar & Storage': 'orange',\n",
    " 'Wind & Solar': 'green', \n",
    " 'Biomass': 'brown'\n",
    " }"
   ]
  },
  {
   "cell_type": "code",
   "execution_count": 57,
   "id": "3dd57dde",
   "metadata": {},
   "outputs": [
    {
     "data": {
      "application/vnd.plotly.v1+json": {
       "config": {
        "plotlyServerURL": "https://plot.ly"
       },
       "data": [
        {
         "customdata": {
          "bdata": "0wGTCdELewA/BQQloARIC2wE",
          "dtype": "i2"
         },
         "hovertemplate": "<b>%{label}</b><br>%{value:,} MW<br>%{customdata} projects<br><extra></extra>",
         "labels": [
          "Coal",
          "Hydro",
          "Natural Gas",
          "Nuclear",
          "Oil",
          "Solar",
          "Storage",
          "Wind",
          "Other"
         ],
         "marker": {
          "colors": [
           "#000000",
           "blue",
           "#58585b",
           "purple",
           "red",
           "#FFCB00",
           "yellow",
           "#3DADF2",
           "pink"
          ]
         },
         "text": [
          "Coal 446 GW",
          "Hydro 215 GW",
          "Natural Gas 875 GW",
          "Nuclear 267 GW",
          "Oil 47 GW",
          "Solar 221 GW",
          "Storage 49 GW",
          "Wind 304 GW",
          "Other 25 GW"
         ],
         "textfont": {
          "size": 16
         },
         "textinfo": "text",
         "type": "pie",
         "values": {
          "bdata": "MzMzM99FG0HXo3A9ulMKQfYoXA+NuipBmpmZmSNSEEHsUbgeBSDnQI/C9Sj+FAtBcT0K16sQ6EDXo3A99JISQexRuB4129hA",
          "dtype": "f8"
         }
        }
       ],
       "layout": {
        "font": {
         "size": 14
        },
        "template": {
         "data": {
          "bar": [
           {
            "error_x": {
             "color": "#2a3f5f"
            },
            "error_y": {
             "color": "#2a3f5f"
            },
            "marker": {
             "line": {
              "color": "#E5ECF6",
              "width": 0.5
             },
             "pattern": {
              "fillmode": "overlay",
              "size": 10,
              "solidity": 0.2
             }
            },
            "type": "bar"
           }
          ],
          "barpolar": [
           {
            "marker": {
             "line": {
              "color": "#E5ECF6",
              "width": 0.5
             },
             "pattern": {
              "fillmode": "overlay",
              "size": 10,
              "solidity": 0.2
             }
            },
            "type": "barpolar"
           }
          ],
          "carpet": [
           {
            "aaxis": {
             "endlinecolor": "#2a3f5f",
             "gridcolor": "white",
             "linecolor": "white",
             "minorgridcolor": "white",
             "startlinecolor": "#2a3f5f"
            },
            "baxis": {
             "endlinecolor": "#2a3f5f",
             "gridcolor": "white",
             "linecolor": "white",
             "minorgridcolor": "white",
             "startlinecolor": "#2a3f5f"
            },
            "type": "carpet"
           }
          ],
          "choropleth": [
           {
            "colorbar": {
             "outlinewidth": 0,
             "ticks": ""
            },
            "type": "choropleth"
           }
          ],
          "contour": [
           {
            "colorbar": {
             "outlinewidth": 0,
             "ticks": ""
            },
            "colorscale": [
             [
              0,
              "#0d0887"
             ],
             [
              0.1111111111111111,
              "#46039f"
             ],
             [
              0.2222222222222222,
              "#7201a8"
             ],
             [
              0.3333333333333333,
              "#9c179e"
             ],
             [
              0.4444444444444444,
              "#bd3786"
             ],
             [
              0.5555555555555556,
              "#d8576b"
             ],
             [
              0.6666666666666666,
              "#ed7953"
             ],
             [
              0.7777777777777778,
              "#fb9f3a"
             ],
             [
              0.8888888888888888,
              "#fdca26"
             ],
             [
              1,
              "#f0f921"
             ]
            ],
            "type": "contour"
           }
          ],
          "contourcarpet": [
           {
            "colorbar": {
             "outlinewidth": 0,
             "ticks": ""
            },
            "type": "contourcarpet"
           }
          ],
          "heatmap": [
           {
            "colorbar": {
             "outlinewidth": 0,
             "ticks": ""
            },
            "colorscale": [
             [
              0,
              "#0d0887"
             ],
             [
              0.1111111111111111,
              "#46039f"
             ],
             [
              0.2222222222222222,
              "#7201a8"
             ],
             [
              0.3333333333333333,
              "#9c179e"
             ],
             [
              0.4444444444444444,
              "#bd3786"
             ],
             [
              0.5555555555555556,
              "#d8576b"
             ],
             [
              0.6666666666666666,
              "#ed7953"
             ],
             [
              0.7777777777777778,
              "#fb9f3a"
             ],
             [
              0.8888888888888888,
              "#fdca26"
             ],
             [
              1,
              "#f0f921"
             ]
            ],
            "type": "heatmap"
           }
          ],
          "histogram": [
           {
            "marker": {
             "pattern": {
              "fillmode": "overlay",
              "size": 10,
              "solidity": 0.2
             }
            },
            "type": "histogram"
           }
          ],
          "histogram2d": [
           {
            "colorbar": {
             "outlinewidth": 0,
             "ticks": ""
            },
            "colorscale": [
             [
              0,
              "#0d0887"
             ],
             [
              0.1111111111111111,
              "#46039f"
             ],
             [
              0.2222222222222222,
              "#7201a8"
             ],
             [
              0.3333333333333333,
              "#9c179e"
             ],
             [
              0.4444444444444444,
              "#bd3786"
             ],
             [
              0.5555555555555556,
              "#d8576b"
             ],
             [
              0.6666666666666666,
              "#ed7953"
             ],
             [
              0.7777777777777778,
              "#fb9f3a"
             ],
             [
              0.8888888888888888,
              "#fdca26"
             ],
             [
              1,
              "#f0f921"
             ]
            ],
            "type": "histogram2d"
           }
          ],
          "histogram2dcontour": [
           {
            "colorbar": {
             "outlinewidth": 0,
             "ticks": ""
            },
            "colorscale": [
             [
              0,
              "#0d0887"
             ],
             [
              0.1111111111111111,
              "#46039f"
             ],
             [
              0.2222222222222222,
              "#7201a8"
             ],
             [
              0.3333333333333333,
              "#9c179e"
             ],
             [
              0.4444444444444444,
              "#bd3786"
             ],
             [
              0.5555555555555556,
              "#d8576b"
             ],
             [
              0.6666666666666666,
              "#ed7953"
             ],
             [
              0.7777777777777778,
              "#fb9f3a"
             ],
             [
              0.8888888888888888,
              "#fdca26"
             ],
             [
              1,
              "#f0f921"
             ]
            ],
            "type": "histogram2dcontour"
           }
          ],
          "mesh3d": [
           {
            "colorbar": {
             "outlinewidth": 0,
             "ticks": ""
            },
            "type": "mesh3d"
           }
          ],
          "parcoords": [
           {
            "line": {
             "colorbar": {
              "outlinewidth": 0,
              "ticks": ""
             }
            },
            "type": "parcoords"
           }
          ],
          "pie": [
           {
            "automargin": true,
            "type": "pie"
           }
          ],
          "scatter": [
           {
            "fillpattern": {
             "fillmode": "overlay",
             "size": 10,
             "solidity": 0.2
            },
            "type": "scatter"
           }
          ],
          "scatter3d": [
           {
            "line": {
             "colorbar": {
              "outlinewidth": 0,
              "ticks": ""
             }
            },
            "marker": {
             "colorbar": {
              "outlinewidth": 0,
              "ticks": ""
             }
            },
            "type": "scatter3d"
           }
          ],
          "scattercarpet": [
           {
            "marker": {
             "colorbar": {
              "outlinewidth": 0,
              "ticks": ""
             }
            },
            "type": "scattercarpet"
           }
          ],
          "scattergeo": [
           {
            "marker": {
             "colorbar": {
              "outlinewidth": 0,
              "ticks": ""
             }
            },
            "type": "scattergeo"
           }
          ],
          "scattergl": [
           {
            "marker": {
             "colorbar": {
              "outlinewidth": 0,
              "ticks": ""
             }
            },
            "type": "scattergl"
           }
          ],
          "scattermap": [
           {
            "marker": {
             "colorbar": {
              "outlinewidth": 0,
              "ticks": ""
             }
            },
            "type": "scattermap"
           }
          ],
          "scattermapbox": [
           {
            "marker": {
             "colorbar": {
              "outlinewidth": 0,
              "ticks": ""
             }
            },
            "type": "scattermapbox"
           }
          ],
          "scatterpolar": [
           {
            "marker": {
             "colorbar": {
              "outlinewidth": 0,
              "ticks": ""
             }
            },
            "type": "scatterpolar"
           }
          ],
          "scatterpolargl": [
           {
            "marker": {
             "colorbar": {
              "outlinewidth": 0,
              "ticks": ""
             }
            },
            "type": "scatterpolargl"
           }
          ],
          "scatterternary": [
           {
            "marker": {
             "colorbar": {
              "outlinewidth": 0,
              "ticks": ""
             }
            },
            "type": "scatterternary"
           }
          ],
          "surface": [
           {
            "colorbar": {
             "outlinewidth": 0,
             "ticks": ""
            },
            "colorscale": [
             [
              0,
              "#0d0887"
             ],
             [
              0.1111111111111111,
              "#46039f"
             ],
             [
              0.2222222222222222,
              "#7201a8"
             ],
             [
              0.3333333333333333,
              "#9c179e"
             ],
             [
              0.4444444444444444,
              "#bd3786"
             ],
             [
              0.5555555555555556,
              "#d8576b"
             ],
             [
              0.6666666666666666,
              "#ed7953"
             ],
             [
              0.7777777777777778,
              "#fb9f3a"
             ],
             [
              0.8888888888888888,
              "#fdca26"
             ],
             [
              1,
              "#f0f921"
             ]
            ],
            "type": "surface"
           }
          ],
          "table": [
           {
            "cells": {
             "fill": {
              "color": "#EBF0F8"
             },
             "line": {
              "color": "white"
             }
            },
            "header": {
             "fill": {
              "color": "#C8D4E3"
             },
             "line": {
              "color": "white"
             }
            },
            "type": "table"
           }
          ]
         },
         "layout": {
          "annotationdefaults": {
           "arrowcolor": "#2a3f5f",
           "arrowhead": 0,
           "arrowwidth": 1
          },
          "autotypenumbers": "strict",
          "coloraxis": {
           "colorbar": {
            "outlinewidth": 0,
            "ticks": ""
           }
          },
          "colorscale": {
           "diverging": [
            [
             0,
             "#8e0152"
            ],
            [
             0.1,
             "#c51b7d"
            ],
            [
             0.2,
             "#de77ae"
            ],
            [
             0.3,
             "#f1b6da"
            ],
            [
             0.4,
             "#fde0ef"
            ],
            [
             0.5,
             "#f7f7f7"
            ],
            [
             0.6,
             "#e6f5d0"
            ],
            [
             0.7,
             "#b8e186"
            ],
            [
             0.8,
             "#7fbc41"
            ],
            [
             0.9,
             "#4d9221"
            ],
            [
             1,
             "#276419"
            ]
           ],
           "sequential": [
            [
             0,
             "#0d0887"
            ],
            [
             0.1111111111111111,
             "#46039f"
            ],
            [
             0.2222222222222222,
             "#7201a8"
            ],
            [
             0.3333333333333333,
             "#9c179e"
            ],
            [
             0.4444444444444444,
             "#bd3786"
            ],
            [
             0.5555555555555556,
             "#d8576b"
            ],
            [
             0.6666666666666666,
             "#ed7953"
            ],
            [
             0.7777777777777778,
             "#fb9f3a"
            ],
            [
             0.8888888888888888,
             "#fdca26"
            ],
            [
             1,
             "#f0f921"
            ]
           ],
           "sequentialminus": [
            [
             0,
             "#0d0887"
            ],
            [
             0.1111111111111111,
             "#46039f"
            ],
            [
             0.2222222222222222,
             "#7201a8"
            ],
            [
             0.3333333333333333,
             "#9c179e"
            ],
            [
             0.4444444444444444,
             "#bd3786"
            ],
            [
             0.5555555555555556,
             "#d8576b"
            ],
            [
             0.6666666666666666,
             "#ed7953"
            ],
            [
             0.7777777777777778,
             "#fb9f3a"
            ],
            [
             0.8888888888888888,
             "#fdca26"
            ],
            [
             1,
             "#f0f921"
            ]
           ]
          },
          "colorway": [
           "#636efa",
           "#EF553B",
           "#00cc96",
           "#ab63fa",
           "#FFA15A",
           "#19d3f3",
           "#FF6692",
           "#B6E880",
           "#FF97FF",
           "#FECB52"
          ],
          "font": {
           "color": "#2a3f5f"
          },
          "geo": {
           "bgcolor": "white",
           "lakecolor": "white",
           "landcolor": "#E5ECF6",
           "showlakes": true,
           "showland": true,
           "subunitcolor": "white"
          },
          "hoverlabel": {
           "align": "left"
          },
          "hovermode": "closest",
          "mapbox": {
           "style": "light"
          },
          "paper_bgcolor": "white",
          "plot_bgcolor": "#E5ECF6",
          "polar": {
           "angularaxis": {
            "gridcolor": "white",
            "linecolor": "white",
            "ticks": ""
           },
           "bgcolor": "#E5ECF6",
           "radialaxis": {
            "gridcolor": "white",
            "linecolor": "white",
            "ticks": ""
           }
          },
          "scene": {
           "xaxis": {
            "backgroundcolor": "#E5ECF6",
            "gridcolor": "white",
            "gridwidth": 2,
            "linecolor": "white",
            "showbackground": true,
            "ticks": "",
            "zerolinecolor": "white"
           },
           "yaxis": {
            "backgroundcolor": "#E5ECF6",
            "gridcolor": "white",
            "gridwidth": 2,
            "linecolor": "white",
            "showbackground": true,
            "ticks": "",
            "zerolinecolor": "white"
           },
           "zaxis": {
            "backgroundcolor": "#E5ECF6",
            "gridcolor": "white",
            "gridwidth": 2,
            "linecolor": "white",
            "showbackground": true,
            "ticks": "",
            "zerolinecolor": "white"
           }
          },
          "shapedefaults": {
           "line": {
            "color": "#2a3f5f"
           }
          },
          "ternary": {
           "aaxis": {
            "gridcolor": "white",
            "linecolor": "white",
            "ticks": ""
           },
           "baxis": {
            "gridcolor": "white",
            "linecolor": "white",
            "ticks": ""
           },
           "bgcolor": "#E5ECF6",
           "caxis": {
            "gridcolor": "white",
            "linecolor": "white",
            "ticks": ""
           }
          },
          "title": {
           "x": 0.05
          },
          "xaxis": {
           "automargin": true,
           "gridcolor": "white",
           "linecolor": "white",
           "ticks": "",
           "title": {
            "standoff": 15
           },
           "zerolinecolor": "white",
           "zerolinewidth": 2
          },
          "yaxis": {
           "automargin": true,
           "gridcolor": "white",
           "linecolor": "white",
           "ticks": "",
           "title": {
            "standoff": 15
           },
           "zerolinecolor": "white",
           "zerolinewidth": 2
          }
         }
        },
        "title": {
         "text": "Existing Operating Capacity by Fuel Type, PJM (2,454GW)",
         "x": 0.5
        }
       }
      }
     },
     "metadata": {},
     "output_type": "display_data"
    }
   ],
   "source": [
    "#Figure Existing Capacity by Fuel Type\n",
    "PJM_existing_power_plants['FUEL_TYPE'] = PJM_existing_power_plants['FUEL_TYPE'].replace({\n",
    "    'Gas': 'Natural Gas',\n",
    "    'Water': 'Hydro',\n",
    "    'Energy Storage': 'Storage'\n",
    "})\n",
    "fuel_capacity = PJM_existing_power_plants.groupby('FUEL_TYPE').agg(\n",
    "    OPER_CAPACITY_PLANT=('OPER_CAPACITY_PLANT', 'sum'),\n",
    "    project_count=('POWER_PLANT', 'count')\n",
    ").reset_index()\n",
    "\n",
    "total_capacity = fuel_capacity['OPER_CAPACITY_PLANT'].sum()\n",
    "total_capacity_gw = total_capacity / 1000\n",
    "fuel_capacity['percent'] = fuel_capacity['OPER_CAPACITY_PLANT'] / total_capacity * 100\n",
    "major = fuel_capacity[fuel_capacity['percent'] >= 1].copy()\n",
    "minor = fuel_capacity[fuel_capacity['percent'] < 1].copy()\n",
    "other_capacity_sum = minor['OPER_CAPACITY_PLANT'].sum()\n",
    "other_project_count = minor['project_count'].sum()\n",
    "\n",
    "if other_capacity_sum > 0:\n",
    "    other_row = pd.DataFrame({\n",
    "        'FUEL_TYPE': ['Other'],\n",
    "        'OPER_CAPACITY_PLANT': [other_capacity_sum],\n",
    "        'project_count': [other_project_count],\n",
    "        'percent': [other_capacity_sum / total_capacity * 100]\n",
    "    })\n",
    "    major = pd.concat([major, other_row], ignore_index=True)\n",
    "major['slice_text'] = major.apply(\n",
    "    lambda row: f\"{row['FUEL_TYPE']} {int(row['OPER_CAPACITY_PLANT']/1000):.0f} GW\",\n",
    "    axis=1\n",
    ")\n",
    "\n",
    "colors = major['FUEL_TYPE'].map(fuel_color_map).fillna('#CCCCCC').tolist()\n",
    "fig = go.Figure(data=[go.Pie(\n",
    "    labels=major['FUEL_TYPE'],               \n",
    "    values=major['OPER_CAPACITY_PLANT'],\n",
    "    text=major['slice_text'],                 \n",
    "    textinfo='text',                          \n",
    "    hovertemplate=(\n",
    "        \"<b>%{label}</b><br>\" +              \n",
    "        \"%{value:,} MW<br>\" +                 \n",
    "        \"%{customdata} projects<br>\" +        \n",
    "        \"<extra></extra>\"\n",
    "    ),\n",
    "    customdata=major['project_count'],       \n",
    "    textfont=dict(size=16),\n",
    "    marker=dict(colors=colors)\n",
    ")])\n",
    "\n",
    "fig.update_layout(\n",
    "    title=f'Existing Operating Capacity by Fuel Type, PJM ({total_capacity_gw:,.0f}GW)',\n",
    "    title_x=0.5,\n",
    "    font=dict(size=14)\n",
    ")\n",
    "\n",
    "fig.show()\n",
    "\n"
   ]
  },
  {
   "cell_type": "code",
   "execution_count": 58,
   "id": "893c98a2",
   "metadata": {},
   "outputs": [
    {
     "data": {
      "application/vnd.plotly.v1+json": {
       "config": {
        "plotlyServerURL": "https://plot.ly"
       },
       "data": [
        {
         "labels": [
          "Natural Gas",
          "Nuclear",
          "Offshore Wind",
          "Solar",
          "Solar & Storage",
          "Storage",
          "Wind",
          "Other"
         ],
         "marker": {
          "colors": [
           "#58585b",
           "purple",
           "darkblue",
           "#FFCB00",
           "orange",
           "yellow",
           "#3DADF2",
           "pink"
          ]
         },
         "name": "Phase 3",
         "pull": [
          0,
          0,
          0,
          0,
          0,
          0,
          0,
          0
         ],
         "textinfo": "percent",
         "texttemplate": "%{label}: <br> %{percent:.0%} (%{value:.0f} GW)",
         "type": "pie",
         "values": {
          "bdata": "DcSymUO0SEAOnDOitPcjQIv9ZffkwSBAHqUSntBFUECafLPNjWkpQIv4Tsx6jUlAk2+2uTE9FUB/MPDce7jsPw==",
          "dtype": "f8"
         }
        }
       ],
       "layout": {
        "font": {
         "size": 18
        },
        "height": 500,
        "legend": {
         "title": {
          "text": "Fuel"
         },
         "x": 1.05,
         "y": 1
        },
        "showlegend": false,
        "template": {
         "data": {
          "bar": [
           {
            "error_x": {
             "color": "#2a3f5f"
            },
            "error_y": {
             "color": "#2a3f5f"
            },
            "marker": {
             "line": {
              "color": "#E5ECF6",
              "width": 0.5
             },
             "pattern": {
              "fillmode": "overlay",
              "size": 10,
              "solidity": 0.2
             }
            },
            "type": "bar"
           }
          ],
          "barpolar": [
           {
            "marker": {
             "line": {
              "color": "#E5ECF6",
              "width": 0.5
             },
             "pattern": {
              "fillmode": "overlay",
              "size": 10,
              "solidity": 0.2
             }
            },
            "type": "barpolar"
           }
          ],
          "carpet": [
           {
            "aaxis": {
             "endlinecolor": "#2a3f5f",
             "gridcolor": "white",
             "linecolor": "white",
             "minorgridcolor": "white",
             "startlinecolor": "#2a3f5f"
            },
            "baxis": {
             "endlinecolor": "#2a3f5f",
             "gridcolor": "white",
             "linecolor": "white",
             "minorgridcolor": "white",
             "startlinecolor": "#2a3f5f"
            },
            "type": "carpet"
           }
          ],
          "choropleth": [
           {
            "colorbar": {
             "outlinewidth": 0,
             "ticks": ""
            },
            "type": "choropleth"
           }
          ],
          "contour": [
           {
            "colorbar": {
             "outlinewidth": 0,
             "ticks": ""
            },
            "colorscale": [
             [
              0,
              "#0d0887"
             ],
             [
              0.1111111111111111,
              "#46039f"
             ],
             [
              0.2222222222222222,
              "#7201a8"
             ],
             [
              0.3333333333333333,
              "#9c179e"
             ],
             [
              0.4444444444444444,
              "#bd3786"
             ],
             [
              0.5555555555555556,
              "#d8576b"
             ],
             [
              0.6666666666666666,
              "#ed7953"
             ],
             [
              0.7777777777777778,
              "#fb9f3a"
             ],
             [
              0.8888888888888888,
              "#fdca26"
             ],
             [
              1,
              "#f0f921"
             ]
            ],
            "type": "contour"
           }
          ],
          "contourcarpet": [
           {
            "colorbar": {
             "outlinewidth": 0,
             "ticks": ""
            },
            "type": "contourcarpet"
           }
          ],
          "heatmap": [
           {
            "colorbar": {
             "outlinewidth": 0,
             "ticks": ""
            },
            "colorscale": [
             [
              0,
              "#0d0887"
             ],
             [
              0.1111111111111111,
              "#46039f"
             ],
             [
              0.2222222222222222,
              "#7201a8"
             ],
             [
              0.3333333333333333,
              "#9c179e"
             ],
             [
              0.4444444444444444,
              "#bd3786"
             ],
             [
              0.5555555555555556,
              "#d8576b"
             ],
             [
              0.6666666666666666,
              "#ed7953"
             ],
             [
              0.7777777777777778,
              "#fb9f3a"
             ],
             [
              0.8888888888888888,
              "#fdca26"
             ],
             [
              1,
              "#f0f921"
             ]
            ],
            "type": "heatmap"
           }
          ],
          "histogram": [
           {
            "marker": {
             "pattern": {
              "fillmode": "overlay",
              "size": 10,
              "solidity": 0.2
             }
            },
            "type": "histogram"
           }
          ],
          "histogram2d": [
           {
            "colorbar": {
             "outlinewidth": 0,
             "ticks": ""
            },
            "colorscale": [
             [
              0,
              "#0d0887"
             ],
             [
              0.1111111111111111,
              "#46039f"
             ],
             [
              0.2222222222222222,
              "#7201a8"
             ],
             [
              0.3333333333333333,
              "#9c179e"
             ],
             [
              0.4444444444444444,
              "#bd3786"
             ],
             [
              0.5555555555555556,
              "#d8576b"
             ],
             [
              0.6666666666666666,
              "#ed7953"
             ],
             [
              0.7777777777777778,
              "#fb9f3a"
             ],
             [
              0.8888888888888888,
              "#fdca26"
             ],
             [
              1,
              "#f0f921"
             ]
            ],
            "type": "histogram2d"
           }
          ],
          "histogram2dcontour": [
           {
            "colorbar": {
             "outlinewidth": 0,
             "ticks": ""
            },
            "colorscale": [
             [
              0,
              "#0d0887"
             ],
             [
              0.1111111111111111,
              "#46039f"
             ],
             [
              0.2222222222222222,
              "#7201a8"
             ],
             [
              0.3333333333333333,
              "#9c179e"
             ],
             [
              0.4444444444444444,
              "#bd3786"
             ],
             [
              0.5555555555555556,
              "#d8576b"
             ],
             [
              0.6666666666666666,
              "#ed7953"
             ],
             [
              0.7777777777777778,
              "#fb9f3a"
             ],
             [
              0.8888888888888888,
              "#fdca26"
             ],
             [
              1,
              "#f0f921"
             ]
            ],
            "type": "histogram2dcontour"
           }
          ],
          "mesh3d": [
           {
            "colorbar": {
             "outlinewidth": 0,
             "ticks": ""
            },
            "type": "mesh3d"
           }
          ],
          "parcoords": [
           {
            "line": {
             "colorbar": {
              "outlinewidth": 0,
              "ticks": ""
             }
            },
            "type": "parcoords"
           }
          ],
          "pie": [
           {
            "automargin": true,
            "type": "pie"
           }
          ],
          "scatter": [
           {
            "fillpattern": {
             "fillmode": "overlay",
             "size": 10,
             "solidity": 0.2
            },
            "type": "scatter"
           }
          ],
          "scatter3d": [
           {
            "line": {
             "colorbar": {
              "outlinewidth": 0,
              "ticks": ""
             }
            },
            "marker": {
             "colorbar": {
              "outlinewidth": 0,
              "ticks": ""
             }
            },
            "type": "scatter3d"
           }
          ],
          "scattercarpet": [
           {
            "marker": {
             "colorbar": {
              "outlinewidth": 0,
              "ticks": ""
             }
            },
            "type": "scattercarpet"
           }
          ],
          "scattergeo": [
           {
            "marker": {
             "colorbar": {
              "outlinewidth": 0,
              "ticks": ""
             }
            },
            "type": "scattergeo"
           }
          ],
          "scattergl": [
           {
            "marker": {
             "colorbar": {
              "outlinewidth": 0,
              "ticks": ""
             }
            },
            "type": "scattergl"
           }
          ],
          "scattermap": [
           {
            "marker": {
             "colorbar": {
              "outlinewidth": 0,
              "ticks": ""
             }
            },
            "type": "scattermap"
           }
          ],
          "scattermapbox": [
           {
            "marker": {
             "colorbar": {
              "outlinewidth": 0,
              "ticks": ""
             }
            },
            "type": "scattermapbox"
           }
          ],
          "scatterpolar": [
           {
            "marker": {
             "colorbar": {
              "outlinewidth": 0,
              "ticks": ""
             }
            },
            "type": "scatterpolar"
           }
          ],
          "scatterpolargl": [
           {
            "marker": {
             "colorbar": {
              "outlinewidth": 0,
              "ticks": ""
             }
            },
            "type": "scatterpolargl"
           }
          ],
          "scatterternary": [
           {
            "marker": {
             "colorbar": {
              "outlinewidth": 0,
              "ticks": ""
             }
            },
            "type": "scatterternary"
           }
          ],
          "surface": [
           {
            "colorbar": {
             "outlinewidth": 0,
             "ticks": ""
            },
            "colorscale": [
             [
              0,
              "#0d0887"
             ],
             [
              0.1111111111111111,
              "#46039f"
             ],
             [
              0.2222222222222222,
              "#7201a8"
             ],
             [
              0.3333333333333333,
              "#9c179e"
             ],
             [
              0.4444444444444444,
              "#bd3786"
             ],
             [
              0.5555555555555556,
              "#d8576b"
             ],
             [
              0.6666666666666666,
              "#ed7953"
             ],
             [
              0.7777777777777778,
              "#fb9f3a"
             ],
             [
              0.8888888888888888,
              "#fdca26"
             ],
             [
              1,
              "#f0f921"
             ]
            ],
            "type": "surface"
           }
          ],
          "table": [
           {
            "cells": {
             "fill": {
              "color": "#EBF0F8"
             },
             "line": {
              "color": "white"
             }
            },
            "header": {
             "fill": {
              "color": "#C8D4E3"
             },
             "line": {
              "color": "white"
             }
            },
            "type": "table"
           }
          ]
         },
         "layout": {
          "annotationdefaults": {
           "arrowcolor": "#2a3f5f",
           "arrowhead": 0,
           "arrowwidth": 1
          },
          "autotypenumbers": "strict",
          "coloraxis": {
           "colorbar": {
            "outlinewidth": 0,
            "ticks": ""
           }
          },
          "colorscale": {
           "diverging": [
            [
             0,
             "#8e0152"
            ],
            [
             0.1,
             "#c51b7d"
            ],
            [
             0.2,
             "#de77ae"
            ],
            [
             0.3,
             "#f1b6da"
            ],
            [
             0.4,
             "#fde0ef"
            ],
            [
             0.5,
             "#f7f7f7"
            ],
            [
             0.6,
             "#e6f5d0"
            ],
            [
             0.7,
             "#b8e186"
            ],
            [
             0.8,
             "#7fbc41"
            ],
            [
             0.9,
             "#4d9221"
            ],
            [
             1,
             "#276419"
            ]
           ],
           "sequential": [
            [
             0,
             "#0d0887"
            ],
            [
             0.1111111111111111,
             "#46039f"
            ],
            [
             0.2222222222222222,
             "#7201a8"
            ],
            [
             0.3333333333333333,
             "#9c179e"
            ],
            [
             0.4444444444444444,
             "#bd3786"
            ],
            [
             0.5555555555555556,
             "#d8576b"
            ],
            [
             0.6666666666666666,
             "#ed7953"
            ],
            [
             0.7777777777777778,
             "#fb9f3a"
            ],
            [
             0.8888888888888888,
             "#fdca26"
            ],
            [
             1,
             "#f0f921"
            ]
           ],
           "sequentialminus": [
            [
             0,
             "#0d0887"
            ],
            [
             0.1111111111111111,
             "#46039f"
            ],
            [
             0.2222222222222222,
             "#7201a8"
            ],
            [
             0.3333333333333333,
             "#9c179e"
            ],
            [
             0.4444444444444444,
             "#bd3786"
            ],
            [
             0.5555555555555556,
             "#d8576b"
            ],
            [
             0.6666666666666666,
             "#ed7953"
            ],
            [
             0.7777777777777778,
             "#fb9f3a"
            ],
            [
             0.8888888888888888,
             "#fdca26"
            ],
            [
             1,
             "#f0f921"
            ]
           ]
          },
          "colorway": [
           "#636efa",
           "#EF553B",
           "#00cc96",
           "#ab63fa",
           "#FFA15A",
           "#19d3f3",
           "#FF6692",
           "#B6E880",
           "#FF97FF",
           "#FECB52"
          ],
          "font": {
           "color": "#2a3f5f"
          },
          "geo": {
           "bgcolor": "white",
           "lakecolor": "white",
           "landcolor": "#E5ECF6",
           "showlakes": true,
           "showland": true,
           "subunitcolor": "white"
          },
          "hoverlabel": {
           "align": "left"
          },
          "hovermode": "closest",
          "mapbox": {
           "style": "light"
          },
          "paper_bgcolor": "white",
          "plot_bgcolor": "#E5ECF6",
          "polar": {
           "angularaxis": {
            "gridcolor": "white",
            "linecolor": "white",
            "ticks": ""
           },
           "bgcolor": "#E5ECF6",
           "radialaxis": {
            "gridcolor": "white",
            "linecolor": "white",
            "ticks": ""
           }
          },
          "scene": {
           "xaxis": {
            "backgroundcolor": "#E5ECF6",
            "gridcolor": "white",
            "gridwidth": 2,
            "linecolor": "white",
            "showbackground": true,
            "ticks": "",
            "zerolinecolor": "white"
           },
           "yaxis": {
            "backgroundcolor": "#E5ECF6",
            "gridcolor": "white",
            "gridwidth": 2,
            "linecolor": "white",
            "showbackground": true,
            "ticks": "",
            "zerolinecolor": "white"
           },
           "zaxis": {
            "backgroundcolor": "#E5ECF6",
            "gridcolor": "white",
            "gridwidth": 2,
            "linecolor": "white",
            "showbackground": true,
            "ticks": "",
            "zerolinecolor": "white"
           }
          },
          "shapedefaults": {
           "line": {
            "color": "#2a3f5f"
           }
          },
          "ternary": {
           "aaxis": {
            "gridcolor": "white",
            "linecolor": "white",
            "ticks": ""
           },
           "baxis": {
            "gridcolor": "white",
            "linecolor": "white",
            "ticks": ""
           },
           "bgcolor": "#E5ECF6",
           "caxis": {
            "gridcolor": "white",
            "linecolor": "white",
            "ticks": ""
           }
          },
          "title": {
           "x": 0.05
          },
          "xaxis": {
           "automargin": true,
           "gridcolor": "white",
           "linecolor": "white",
           "ticks": "",
           "title": {
            "standoff": 15
           },
           "zerolinecolor": "white",
           "zerolinewidth": 2
          },
          "yaxis": {
           "automargin": true,
           "gridcolor": "white",
           "linecolor": "white",
           "ticks": "",
           "title": {
            "standoff": 15
           },
           "zerolinecolor": "white",
           "zerolinewidth": 2
          }
         }
        },
        "title": {
         "text": "Queued Capacity by Fuel  (203 GW), 959 projects",
         "x": 0.5
        }
       }
      }
     },
     "metadata": {},
     "output_type": "display_data"
    }
   ],
   "source": [
    "# Group and sum by fuel\n",
    "\n",
    "PJM_queued_plants_by_fuel = PJM_queued_plants.groupby('Fuel')[['MW Capacity', 'MW Energy', 'MFO']].sum()\n",
    "\n",
    "# Total MFO for percent calculation\n",
    "total_mfo = PJM_queued_plants_by_fuel['MFO'].sum()\n",
    "total_projects = PJM_queued_plants.shape[0]\n",
    "\n",
    "# Split into major and minor (<1%) categories\n",
    "PJM_queued_plants_by_fuel['percent'] = PJM_queued_plants_by_fuel['MFO'] / total_mfo * 100\n",
    "major = PJM_queued_plants_by_fuel[PJM_queued_plants_by_fuel['percent'] >= 2].copy()\n",
    "minor = PJM_queued_plants_by_fuel[PJM_queued_plants_by_fuel['percent'] < 2].copy()\n",
    "\n",
    "# Add \"Other\" row if there are minor entries\n",
    "if not minor.empty:\n",
    "    other_row = pd.DataFrame({\n",
    "        'MW Capacity': [minor['MW Capacity'].sum()],\n",
    "        'MW Energy': [minor['MW Energy'].sum()],\n",
    "        'MFO': [minor['MFO'].sum()],\n",
    "        'percent': [minor['MFO'].sum() / total_mfo * 100]\n",
    "    }, index=['Other'])\n",
    "    major = pd.concat([major, other_row])\n",
    "\n",
    "# Prepare data for the pie chart\n",
    "labels = major.index\n",
    "values = major['MFO'] / 1000  # Convert to GW\n",
    "colors = [fuel_color_map.get(fuel, '#CCCCCC') for fuel in labels]\n",
    "\n",
    "# Plot\n",
    "fig = go.Figure(data=[go.Pie(\n",
    "    labels=labels,\n",
    "    values=values,\n",
    "    name=\"Phase 3\",\n",
    "    marker_colors=colors,\n",
    "    textinfo='percent',\n",
    "   texttemplate='%{label}: <br> %{percent:.0%} (%{value:.0f} GW)',\n",
    "    pull=[0] * len(labels)\n",
    ")])\n",
    "total_mfo_gw = total_mfo / 1000\n",
    "fig.update_layout(\n",
    "    title_text=f\"Queued Capacity by Fuel  ({total_mfo_gw:,.0f} GW), {total_projects:,} projects\",\n",
    "    font=dict(size=18),\n",
    "    title_x=0.5,\n",
    "    showlegend=False,\n",
    "    legend=dict(x=1.05, y=1, title=\"Fuel\"),\n",
    "    height=500\n",
    ")\n",
    "\n",
    "fig.show()\n"
   ]
  },
  {
   "cell_type": "code",
   "execution_count": 59,
   "id": "b56b7468",
   "metadata": {},
   "outputs": [
    {
     "data": {
      "application/vnd.plotly.v1+json": {
       "config": {
        "plotlyServerURL": "https://plot.ly"
       },
       "data": [
        {
         "domain": {
          "x": [
           0,
           0.015395571364671014
          ],
          "y": [
           0,
           1
          ]
         },
         "hoverinfo": "label+percent+value",
         "labels": [
          "Solar",
          "Storage"
         ],
         "marker": {
          "colors": [
           "#FFCB00",
           "yellow"
          ]
         },
         "name": "ERIS",
         "textinfo": "percent",
         "texttemplate": "%{label}: <br> %{percent:.0%} (%{value:.0f} GW)",
         "type": "pie",
         "values": {
          "bdata": "UrgehetR9D9IG0esxaf9Pw==",
          "dtype": "f8"
         }
        },
        {
         "domain": {
          "x": [
           0.015395571364671014,
           1
          ],
          "y": [
           0,
           1
          ]
         },
         "hoverinfo": "label+percent+value",
         "labels": [
          "Natural Gas",
          "Nuclear",
          "Offshore Wind",
          "Solar",
          "Solar & Storage",
          "Storage",
          "Wind",
          "Other"
         ],
         "marker": {
          "colors": [
           "#58585b",
           "purple",
           "darkblue",
           "#FFCB00",
           "orange",
           "yellow",
           "#3DADF2",
           "pink"
          ]
         },
         "name": "NRIS",
         "textinfo": "percent",
         "texttemplate": "%{label}: <br> %{percent:.0%} (%{value:.0f} GW)",
         "type": "pie",
         "values": {
          "bdata": "DcSymUO0SEAOnDOitPcjQIv9ZffkwSBAelT83xHpT0CafLPNjWkpQLG/7J48oEhAk2+2uTE9FUB/MPDce7jsPw==",
          "dtype": "f8"
         }
        }
       ],
       "layout": {
        "font": {
         "size": 16
        },
        "height": 600,
        "legend": {
         "title": {
          "text": "Fuel"
         },
         "x": 1.05,
         "y": 1
        },
        "showlegend": false,
        "template": {
         "data": {
          "bar": [
           {
            "error_x": {
             "color": "#2a3f5f"
            },
            "error_y": {
             "color": "#2a3f5f"
            },
            "marker": {
             "line": {
              "color": "#E5ECF6",
              "width": 0.5
             },
             "pattern": {
              "fillmode": "overlay",
              "size": 10,
              "solidity": 0.2
             }
            },
            "type": "bar"
           }
          ],
          "barpolar": [
           {
            "marker": {
             "line": {
              "color": "#E5ECF6",
              "width": 0.5
             },
             "pattern": {
              "fillmode": "overlay",
              "size": 10,
              "solidity": 0.2
             }
            },
            "type": "barpolar"
           }
          ],
          "carpet": [
           {
            "aaxis": {
             "endlinecolor": "#2a3f5f",
             "gridcolor": "white",
             "linecolor": "white",
             "minorgridcolor": "white",
             "startlinecolor": "#2a3f5f"
            },
            "baxis": {
             "endlinecolor": "#2a3f5f",
             "gridcolor": "white",
             "linecolor": "white",
             "minorgridcolor": "white",
             "startlinecolor": "#2a3f5f"
            },
            "type": "carpet"
           }
          ],
          "choropleth": [
           {
            "colorbar": {
             "outlinewidth": 0,
             "ticks": ""
            },
            "type": "choropleth"
           }
          ],
          "contour": [
           {
            "colorbar": {
             "outlinewidth": 0,
             "ticks": ""
            },
            "colorscale": [
             [
              0,
              "#0d0887"
             ],
             [
              0.1111111111111111,
              "#46039f"
             ],
             [
              0.2222222222222222,
              "#7201a8"
             ],
             [
              0.3333333333333333,
              "#9c179e"
             ],
             [
              0.4444444444444444,
              "#bd3786"
             ],
             [
              0.5555555555555556,
              "#d8576b"
             ],
             [
              0.6666666666666666,
              "#ed7953"
             ],
             [
              0.7777777777777778,
              "#fb9f3a"
             ],
             [
              0.8888888888888888,
              "#fdca26"
             ],
             [
              1,
              "#f0f921"
             ]
            ],
            "type": "contour"
           }
          ],
          "contourcarpet": [
           {
            "colorbar": {
             "outlinewidth": 0,
             "ticks": ""
            },
            "type": "contourcarpet"
           }
          ],
          "heatmap": [
           {
            "colorbar": {
             "outlinewidth": 0,
             "ticks": ""
            },
            "colorscale": [
             [
              0,
              "#0d0887"
             ],
             [
              0.1111111111111111,
              "#46039f"
             ],
             [
              0.2222222222222222,
              "#7201a8"
             ],
             [
              0.3333333333333333,
              "#9c179e"
             ],
             [
              0.4444444444444444,
              "#bd3786"
             ],
             [
              0.5555555555555556,
              "#d8576b"
             ],
             [
              0.6666666666666666,
              "#ed7953"
             ],
             [
              0.7777777777777778,
              "#fb9f3a"
             ],
             [
              0.8888888888888888,
              "#fdca26"
             ],
             [
              1,
              "#f0f921"
             ]
            ],
            "type": "heatmap"
           }
          ],
          "histogram": [
           {
            "marker": {
             "pattern": {
              "fillmode": "overlay",
              "size": 10,
              "solidity": 0.2
             }
            },
            "type": "histogram"
           }
          ],
          "histogram2d": [
           {
            "colorbar": {
             "outlinewidth": 0,
             "ticks": ""
            },
            "colorscale": [
             [
              0,
              "#0d0887"
             ],
             [
              0.1111111111111111,
              "#46039f"
             ],
             [
              0.2222222222222222,
              "#7201a8"
             ],
             [
              0.3333333333333333,
              "#9c179e"
             ],
             [
              0.4444444444444444,
              "#bd3786"
             ],
             [
              0.5555555555555556,
              "#d8576b"
             ],
             [
              0.6666666666666666,
              "#ed7953"
             ],
             [
              0.7777777777777778,
              "#fb9f3a"
             ],
             [
              0.8888888888888888,
              "#fdca26"
             ],
             [
              1,
              "#f0f921"
             ]
            ],
            "type": "histogram2d"
           }
          ],
          "histogram2dcontour": [
           {
            "colorbar": {
             "outlinewidth": 0,
             "ticks": ""
            },
            "colorscale": [
             [
              0,
              "#0d0887"
             ],
             [
              0.1111111111111111,
              "#46039f"
             ],
             [
              0.2222222222222222,
              "#7201a8"
             ],
             [
              0.3333333333333333,
              "#9c179e"
             ],
             [
              0.4444444444444444,
              "#bd3786"
             ],
             [
              0.5555555555555556,
              "#d8576b"
             ],
             [
              0.6666666666666666,
              "#ed7953"
             ],
             [
              0.7777777777777778,
              "#fb9f3a"
             ],
             [
              0.8888888888888888,
              "#fdca26"
             ],
             [
              1,
              "#f0f921"
             ]
            ],
            "type": "histogram2dcontour"
           }
          ],
          "mesh3d": [
           {
            "colorbar": {
             "outlinewidth": 0,
             "ticks": ""
            },
            "type": "mesh3d"
           }
          ],
          "parcoords": [
           {
            "line": {
             "colorbar": {
              "outlinewidth": 0,
              "ticks": ""
             }
            },
            "type": "parcoords"
           }
          ],
          "pie": [
           {
            "automargin": true,
            "type": "pie"
           }
          ],
          "scatter": [
           {
            "fillpattern": {
             "fillmode": "overlay",
             "size": 10,
             "solidity": 0.2
            },
            "type": "scatter"
           }
          ],
          "scatter3d": [
           {
            "line": {
             "colorbar": {
              "outlinewidth": 0,
              "ticks": ""
             }
            },
            "marker": {
             "colorbar": {
              "outlinewidth": 0,
              "ticks": ""
             }
            },
            "type": "scatter3d"
           }
          ],
          "scattercarpet": [
           {
            "marker": {
             "colorbar": {
              "outlinewidth": 0,
              "ticks": ""
             }
            },
            "type": "scattercarpet"
           }
          ],
          "scattergeo": [
           {
            "marker": {
             "colorbar": {
              "outlinewidth": 0,
              "ticks": ""
             }
            },
            "type": "scattergeo"
           }
          ],
          "scattergl": [
           {
            "marker": {
             "colorbar": {
              "outlinewidth": 0,
              "ticks": ""
             }
            },
            "type": "scattergl"
           }
          ],
          "scattermap": [
           {
            "marker": {
             "colorbar": {
              "outlinewidth": 0,
              "ticks": ""
             }
            },
            "type": "scattermap"
           }
          ],
          "scattermapbox": [
           {
            "marker": {
             "colorbar": {
              "outlinewidth": 0,
              "ticks": ""
             }
            },
            "type": "scattermapbox"
           }
          ],
          "scatterpolar": [
           {
            "marker": {
             "colorbar": {
              "outlinewidth": 0,
              "ticks": ""
             }
            },
            "type": "scatterpolar"
           }
          ],
          "scatterpolargl": [
           {
            "marker": {
             "colorbar": {
              "outlinewidth": 0,
              "ticks": ""
             }
            },
            "type": "scatterpolargl"
           }
          ],
          "scatterternary": [
           {
            "marker": {
             "colorbar": {
              "outlinewidth": 0,
              "ticks": ""
             }
            },
            "type": "scatterternary"
           }
          ],
          "surface": [
           {
            "colorbar": {
             "outlinewidth": 0,
             "ticks": ""
            },
            "colorscale": [
             [
              0,
              "#0d0887"
             ],
             [
              0.1111111111111111,
              "#46039f"
             ],
             [
              0.2222222222222222,
              "#7201a8"
             ],
             [
              0.3333333333333333,
              "#9c179e"
             ],
             [
              0.4444444444444444,
              "#bd3786"
             ],
             [
              0.5555555555555556,
              "#d8576b"
             ],
             [
              0.6666666666666666,
              "#ed7953"
             ],
             [
              0.7777777777777778,
              "#fb9f3a"
             ],
             [
              0.8888888888888888,
              "#fdca26"
             ],
             [
              1,
              "#f0f921"
             ]
            ],
            "type": "surface"
           }
          ],
          "table": [
           {
            "cells": {
             "fill": {
              "color": "#EBF0F8"
             },
             "line": {
              "color": "white"
             }
            },
            "header": {
             "fill": {
              "color": "#C8D4E3"
             },
             "line": {
              "color": "white"
             }
            },
            "type": "table"
           }
          ]
         },
         "layout": {
          "annotationdefaults": {
           "arrowcolor": "#2a3f5f",
           "arrowhead": 0,
           "arrowwidth": 1
          },
          "autotypenumbers": "strict",
          "coloraxis": {
           "colorbar": {
            "outlinewidth": 0,
            "ticks": ""
           }
          },
          "colorscale": {
           "diverging": [
            [
             0,
             "#8e0152"
            ],
            [
             0.1,
             "#c51b7d"
            ],
            [
             0.2,
             "#de77ae"
            ],
            [
             0.3,
             "#f1b6da"
            ],
            [
             0.4,
             "#fde0ef"
            ],
            [
             0.5,
             "#f7f7f7"
            ],
            [
             0.6,
             "#e6f5d0"
            ],
            [
             0.7,
             "#b8e186"
            ],
            [
             0.8,
             "#7fbc41"
            ],
            [
             0.9,
             "#4d9221"
            ],
            [
             1,
             "#276419"
            ]
           ],
           "sequential": [
            [
             0,
             "#0d0887"
            ],
            [
             0.1111111111111111,
             "#46039f"
            ],
            [
             0.2222222222222222,
             "#7201a8"
            ],
            [
             0.3333333333333333,
             "#9c179e"
            ],
            [
             0.4444444444444444,
             "#bd3786"
            ],
            [
             0.5555555555555556,
             "#d8576b"
            ],
            [
             0.6666666666666666,
             "#ed7953"
            ],
            [
             0.7777777777777778,
             "#fb9f3a"
            ],
            [
             0.8888888888888888,
             "#fdca26"
            ],
            [
             1,
             "#f0f921"
            ]
           ],
           "sequentialminus": [
            [
             0,
             "#0d0887"
            ],
            [
             0.1111111111111111,
             "#46039f"
            ],
            [
             0.2222222222222222,
             "#7201a8"
            ],
            [
             0.3333333333333333,
             "#9c179e"
            ],
            [
             0.4444444444444444,
             "#bd3786"
            ],
            [
             0.5555555555555556,
             "#d8576b"
            ],
            [
             0.6666666666666666,
             "#ed7953"
            ],
            [
             0.7777777777777778,
             "#fb9f3a"
            ],
            [
             0.8888888888888888,
             "#fdca26"
            ],
            [
             1,
             "#f0f921"
            ]
           ]
          },
          "colorway": [
           "#636efa",
           "#EF553B",
           "#00cc96",
           "#ab63fa",
           "#FFA15A",
           "#19d3f3",
           "#FF6692",
           "#B6E880",
           "#FF97FF",
           "#FECB52"
          ],
          "font": {
           "color": "#2a3f5f"
          },
          "geo": {
           "bgcolor": "white",
           "lakecolor": "white",
           "landcolor": "#E5ECF6",
           "showlakes": true,
           "showland": true,
           "subunitcolor": "white"
          },
          "hoverlabel": {
           "align": "left"
          },
          "hovermode": "closest",
          "mapbox": {
           "style": "light"
          },
          "paper_bgcolor": "white",
          "plot_bgcolor": "#E5ECF6",
          "polar": {
           "angularaxis": {
            "gridcolor": "white",
            "linecolor": "white",
            "ticks": ""
           },
           "bgcolor": "#E5ECF6",
           "radialaxis": {
            "gridcolor": "white",
            "linecolor": "white",
            "ticks": ""
           }
          },
          "scene": {
           "xaxis": {
            "backgroundcolor": "#E5ECF6",
            "gridcolor": "white",
            "gridwidth": 2,
            "linecolor": "white",
            "showbackground": true,
            "ticks": "",
            "zerolinecolor": "white"
           },
           "yaxis": {
            "backgroundcolor": "#E5ECF6",
            "gridcolor": "white",
            "gridwidth": 2,
            "linecolor": "white",
            "showbackground": true,
            "ticks": "",
            "zerolinecolor": "white"
           },
           "zaxis": {
            "backgroundcolor": "#E5ECF6",
            "gridcolor": "white",
            "gridwidth": 2,
            "linecolor": "white",
            "showbackground": true,
            "ticks": "",
            "zerolinecolor": "white"
           }
          },
          "shapedefaults": {
           "line": {
            "color": "#2a3f5f"
           }
          },
          "ternary": {
           "aaxis": {
            "gridcolor": "white",
            "linecolor": "white",
            "ticks": ""
           },
           "baxis": {
            "gridcolor": "white",
            "linecolor": "white",
            "ticks": ""
           },
           "bgcolor": "#E5ECF6",
           "caxis": {
            "gridcolor": "white",
            "linecolor": "white",
            "ticks": ""
           }
          },
          "title": {
           "x": 0.05
          },
          "xaxis": {
           "automargin": true,
           "gridcolor": "white",
           "linecolor": "white",
           "ticks": "",
           "title": {
            "standoff": 15
           },
           "zerolinecolor": "white",
           "zerolinewidth": 2
          },
          "yaxis": {
           "automargin": true,
           "gridcolor": "white",
           "linecolor": "white",
           "ticks": "",
           "title": {
            "standoff": 15
           },
           "zerolinecolor": "white",
           "zerolinewidth": 2
          }
         }
        },
        "title": {
         "text": "Queue Capacity by ERIS and NRIS <br>(ERIS: 3 GW, 31 projects; NRIS: 200 GW, 928 projects)",
         "x": 0.5
        }
       }
      }
     },
     "metadata": {},
     "output_type": "display_data"
    }
   ],
   "source": [
    "import plotly.graph_objects as go\n",
    "\n",
    "# --- Prepare ERIS data ---\n",
    "energy_plants = PJM_queued_plants[PJM_queued_plants['Capacity or Energy'] == 'Energy']\n",
    "energy_by_fuel = energy_plants.groupby('Fuel')[['MW Capacity', 'MW Energy', 'MFO']].sum()\n",
    "total_mfo_energy = energy_by_fuel['MFO'].sum()\n",
    "energy_by_fuel['percent'] = energy_by_fuel['MFO'] / total_mfo_energy * 100\n",
    "major_energy = energy_by_fuel[energy_by_fuel['percent'] >= 2].copy()\n",
    "minor_energy = energy_by_fuel[energy_by_fuel['percent'] < 2].copy()\n",
    "if not minor_energy.empty:\n",
    "    other_row_energy = pd.DataFrame({\n",
    "        'MW Capacity': [minor_energy['MW Capacity'].sum()],\n",
    "        'MW Energy': [minor_energy['MW Energy'].sum()],\n",
    "        'MFO': [minor_energy['MFO'].sum()],\n",
    "        'percent': [minor_energy['MFO'].sum() / total_mfo_energy * 100]\n",
    "    }, index=['Other'])\n",
    "    major_energy = pd.concat([major_energy, other_row_energy])\n",
    "labels_eris = major_energy.index\n",
    "values_eris = major_energy['MFO'] / 1000  # GW\n",
    "colors_eris = [fuel_color_map.get(fuel, '#CCCCCC') for fuel in labels_eris]\n",
    "total_mfo_eris_gw = total_mfo_energy / 1000\n",
    "total_projects_eris = energy_plants.shape[0]\n",
    "\n",
    "# --- Prepare NRIS data ---\n",
    "capacity_plants = PJM_queued_plants[PJM_queued_plants['Capacity or Energy'] == 'Capacity']\n",
    "capacity_by_fuel = capacity_plants.groupby('Fuel')[['MW Capacity', 'MW Energy', 'MFO']].sum()\n",
    "total_mfo_capacity = capacity_by_fuel['MFO'].sum()\n",
    "capacity_by_fuel['percent'] = capacity_by_fuel['MFO'] / total_mfo_capacity * 100\n",
    "major_capacity = capacity_by_fuel[capacity_by_fuel['percent'] >= 2].copy()\n",
    "minor_capacity = capacity_by_fuel[capacity_by_fuel['percent'] < 2].copy()\n",
    "if not minor_capacity.empty:\n",
    "    other_row_capacity = pd.DataFrame({\n",
    "        'MW Capacity': [minor_capacity['MW Capacity'].sum()],\n",
    "        'MW Energy': [minor_capacity['MW Energy'].sum()],\n",
    "        'MFO': [minor_capacity['MFO'].sum()],\n",
    "        'percent': [minor_capacity['MFO'].sum() / total_mfo_capacity * 100]\n",
    "    }, index=['Other'])\n",
    "    major_capacity = pd.concat([major_capacity, other_row_capacity])\n",
    "labels_nris = major_capacity.index\n",
    "values_nris = major_capacity['MFO'] / 1000  # GW\n",
    "colors_nris = [fuel_color_map.get(fuel, '#CCCCCC') for fuel in labels_nris]\n",
    "total_mfo_nris_gw = total_mfo_capacity / 1000\n",
    "total_projects_nris = capacity_plants.shape[0]\n",
    "\n",
    "# --- Calculate relative sizes for domain scaling ---\n",
    "total_gw = total_mfo_eris_gw + total_mfo_nris_gw\n",
    "# Minimum domain width to avoid super small pies (optional)\n",
    "\n",
    "eris_frac = total_mfo_eris_gw / total_gw\n",
    "nris_frac = (total_mfo_nris_gw / total_gw)\n",
    "\n",
    "# Normalize fractions so they sum to 1 (if min_domain_width caused overflow)\n",
    "sum_frac = eris_frac + nris_frac\n",
    "eris_frac /= sum_frac\n",
    "nris_frac /= sum_frac\n",
    "\n",
    "# --- Create figure with two pies scaled by their size ---\n",
    "fig = go.Figure()\n",
    "\n",
    "fig.add_trace(go.Pie(\n",
    "    labels=labels_eris,\n",
    "    values=values_eris,\n",
    "    name=\"ERIS\",\n",
    "    marker_colors=colors_eris,\n",
    "    textinfo='percent',\n",
    "    texttemplate='%{label}: <br> %{percent:.0%} (%{value:.0f} GW)',\n",
    "    domain=dict(x=[0, eris_frac], y=[0, 1]),\n",
    "    hoverinfo='label+percent+value'\n",
    "))\n",
    "\n",
    "fig.add_trace(go.Pie(\n",
    "    labels=labels_nris,\n",
    "    values=values_nris,\n",
    "    name=\"NRIS\",\n",
    "    marker_colors=colors_nris,\n",
    "    textinfo='percent',\n",
    "    texttemplate='%{label}: <br> %{percent:.0%} (%{value:.0f} GW)',\n",
    "    domain=dict(x=[eris_frac, eris_frac + nris_frac], y=[0, 1]),\n",
    "    hoverinfo='label+percent+value'\n",
    "))\n",
    "\n",
    "# --- Update layout ---\n",
    "fig.update_layout(\n",
    "    title_text=f\"Queue Capacity by ERIS and NRIS <br>(ERIS: {total_mfo_eris_gw:,.0f} GW, {total_projects_eris:,} projects; NRIS: {total_mfo_nris_gw:,.0f} GW, {total_projects_nris:,} projects)\",\n",
    "    font=dict(size=16),\n",
    "    title_x=0.5,\n",
    "    height=600,\n",
    "    showlegend=False,\n",
    "    legend=dict(x=1.05, y=1, title=\"Fuel\")\n",
    ")\n",
    "\n",
    "fig.show()\n"
   ]
  },
  {
   "cell_type": "code",
   "execution_count": 60,
   "id": "a9cc638c",
   "metadata": {},
   "outputs": [
    {
     "name": "stdout",
     "output_type": "stream",
     "text": [
      "['Storage' 'Solar' 'Solar & Storage' 'Wind' 'Natural Gas' 'Wind & Solar'\n",
      " 'Offshore Wind']\n"
     ]
    },
    {
     "data": {
      "application/vnd.plotly.v1+json": {
       "config": {
        "plotlyServerURL": "https://plot.ly"
       },
       "data": [
        {
         "marker": {
          "color": "#FFCB00"
         },
         "name": "Solar",
         "type": "bar",
         "x": [
          "ComEd",
          "Dominion",
          "AEP",
          "EKPC",
          "PENELEC",
          "DPL",
          "ATSI",
          "APS",
          "Dayton",
          "PEPCO",
          "PPL",
          "AEC",
          "AMPT"
         ],
         "y": {
          "bdata": "F2pN847TGkAgY+5aQl4fQPLSTWIQWBhAOSNKe4OvBEDJBz2bVR/4PyfChqdXyso/SOF6FK5H0T8AAAAAAAAAAFRSJ6CJsOI/AAAAAAAAAAC8BRIUP8bMPwAAAAAAAAAA4XoUrkfhuj8=",
          "dtype": "f8"
         }
        },
        {
         "marker": {
          "color": "yellow"
         },
         "name": "Storage",
         "type": "bar",
         "x": [
          "ComEd",
          "Dominion",
          "AEP",
          "EKPC",
          "PENELEC",
          "DPL",
          "ATSI",
          "APS",
          "Dayton",
          "PEPCO",
          "PPL",
          "AEC",
          "AMPT"
         ],
         "y": {
          "bdata": "TKYKRiX1FUDl0CLb+f4RQBwN4C2QoP8/001iEFg5tD9mZmZmZmbGPwAAAAAAAMA/rkfhehSu3z+utmJ/2T3JPwAAAAAAAAAAAAAAAAAA4D8AAAAAAAAAAB+F61G4HtU/AAAAAAAAAAA=",
          "dtype": "f8"
         }
        },
        {
         "marker": {
          "color": "#3DADF2"
         },
         "name": "Wind",
         "type": "bar",
         "x": [
          "ComEd",
          "Dominion",
          "AEP",
          "EKPC",
          "PENELEC",
          "DPL",
          "ATSI",
          "APS",
          "Dayton",
          "PEPCO",
          "PPL",
          "AEC",
          "AMPT"
         ],
         "y": {
          "bdata": "Yi0+BcD4B0AAAAAAAAAAAI/C9Shcj+4/AAAAAAAAAAAAAAAAAAAAAAAAAAAAAAAAAAAAAAAAAAAAAAAAAAAAAAAAAAAAAAAAAAAAAAAAAAAAAAAAAAAAAAAAAAAAAAAAAAAAAAAAAAA=",
          "dtype": "f8"
         }
        },
        {
         "marker": {
          "color": "#58585b"
         },
         "name": "Natural Gas",
         "type": "bar",
         "x": [
          "ComEd",
          "Dominion",
          "AEP",
          "EKPC",
          "PENELEC",
          "DPL",
          "ATSI",
          "APS",
          "Dayton",
          "PEPCO",
          "PPL",
          "AEC",
          "AMPT"
         ],
         "y": {
          "bdata": "w/UoXI/C+T9oke18PzXiPwAAAAAAAAAAAAAAAAAAAAAAAAAAAAAAAAAAAAAAAAAAAAAAAAAAAAAAAAAAAAAAAAAAAAAAAAAAAAAAAAAAAAAAAAAAAAAAAAAAAAAAAAAAAAAAAAAAAAA=",
          "dtype": "f8"
         }
        },
        {
         "marker": {
          "color": "green"
         },
         "name": "Wind & Solar",
         "type": "bar",
         "x": [
          "ComEd",
          "Dominion",
          "AEP",
          "EKPC",
          "PENELEC",
          "DPL",
          "ATSI",
          "APS",
          "Dayton",
          "PEPCO",
          "PPL",
          "AEC",
          "AMPT"
         ],
         "y": {
          "bdata": "Rrbz/dR4yT8AAAAAAAAAAAAAAAAAAAAAAAAAAAAAAAAAAAAAAAAAAAAAAAAAAAAAAAAAAAAAAAAAAAAAAAAAAAAAAAAAAAAAAAAAAAAAAAAAAAAAAAAAAAAAAAAAAAAAAAAAAAAAAAA=",
          "dtype": "f8"
         }
        },
        {
         "marker": {
          "color": "darkblue"
         },
         "name": "Offshore Wind",
         "type": "bar",
         "x": [
          "ComEd",
          "Dominion",
          "AEP",
          "EKPC",
          "PENELEC",
          "DPL",
          "ATSI",
          "APS",
          "Dayton",
          "PEPCO",
          "PPL",
          "AEC",
          "AMPT"
         ],
         "y": {
          "bdata": "AAAAAAAAAAB6Nqs+V1sQQAAAAAAAAAAAAAAAAAAAAAAAAAAAAAAAAB+F61G4HvU/AAAAAAAAAAAAAAAAAAAAAAAAAAAAAAAAAAAAAAAAAAAAAAAAAAAAAAAAAAAAAAAAAAAAAAAAAAA=",
          "dtype": "f8"
         }
        }
       ],
       "layout": {
        "barmode": "stack",
        "font": {
         "size": 14
        },
        "height": 600,
        "legend": {
         "traceorder": "normal"
        },
        "template": {
         "data": {
          "bar": [
           {
            "error_x": {
             "color": "#2a3f5f"
            },
            "error_y": {
             "color": "#2a3f5f"
            },
            "marker": {
             "line": {
              "color": "#E5ECF6",
              "width": 0.5
             },
             "pattern": {
              "fillmode": "overlay",
              "size": 10,
              "solidity": 0.2
             }
            },
            "type": "bar"
           }
          ],
          "barpolar": [
           {
            "marker": {
             "line": {
              "color": "#E5ECF6",
              "width": 0.5
             },
             "pattern": {
              "fillmode": "overlay",
              "size": 10,
              "solidity": 0.2
             }
            },
            "type": "barpolar"
           }
          ],
          "carpet": [
           {
            "aaxis": {
             "endlinecolor": "#2a3f5f",
             "gridcolor": "white",
             "linecolor": "white",
             "minorgridcolor": "white",
             "startlinecolor": "#2a3f5f"
            },
            "baxis": {
             "endlinecolor": "#2a3f5f",
             "gridcolor": "white",
             "linecolor": "white",
             "minorgridcolor": "white",
             "startlinecolor": "#2a3f5f"
            },
            "type": "carpet"
           }
          ],
          "choropleth": [
           {
            "colorbar": {
             "outlinewidth": 0,
             "ticks": ""
            },
            "type": "choropleth"
           }
          ],
          "contour": [
           {
            "colorbar": {
             "outlinewidth": 0,
             "ticks": ""
            },
            "colorscale": [
             [
              0,
              "#0d0887"
             ],
             [
              0.1111111111111111,
              "#46039f"
             ],
             [
              0.2222222222222222,
              "#7201a8"
             ],
             [
              0.3333333333333333,
              "#9c179e"
             ],
             [
              0.4444444444444444,
              "#bd3786"
             ],
             [
              0.5555555555555556,
              "#d8576b"
             ],
             [
              0.6666666666666666,
              "#ed7953"
             ],
             [
              0.7777777777777778,
              "#fb9f3a"
             ],
             [
              0.8888888888888888,
              "#fdca26"
             ],
             [
              1,
              "#f0f921"
             ]
            ],
            "type": "contour"
           }
          ],
          "contourcarpet": [
           {
            "colorbar": {
             "outlinewidth": 0,
             "ticks": ""
            },
            "type": "contourcarpet"
           }
          ],
          "heatmap": [
           {
            "colorbar": {
             "outlinewidth": 0,
             "ticks": ""
            },
            "colorscale": [
             [
              0,
              "#0d0887"
             ],
             [
              0.1111111111111111,
              "#46039f"
             ],
             [
              0.2222222222222222,
              "#7201a8"
             ],
             [
              0.3333333333333333,
              "#9c179e"
             ],
             [
              0.4444444444444444,
              "#bd3786"
             ],
             [
              0.5555555555555556,
              "#d8576b"
             ],
             [
              0.6666666666666666,
              "#ed7953"
             ],
             [
              0.7777777777777778,
              "#fb9f3a"
             ],
             [
              0.8888888888888888,
              "#fdca26"
             ],
             [
              1,
              "#f0f921"
             ]
            ],
            "type": "heatmap"
           }
          ],
          "histogram": [
           {
            "marker": {
             "pattern": {
              "fillmode": "overlay",
              "size": 10,
              "solidity": 0.2
             }
            },
            "type": "histogram"
           }
          ],
          "histogram2d": [
           {
            "colorbar": {
             "outlinewidth": 0,
             "ticks": ""
            },
            "colorscale": [
             [
              0,
              "#0d0887"
             ],
             [
              0.1111111111111111,
              "#46039f"
             ],
             [
              0.2222222222222222,
              "#7201a8"
             ],
             [
              0.3333333333333333,
              "#9c179e"
             ],
             [
              0.4444444444444444,
              "#bd3786"
             ],
             [
              0.5555555555555556,
              "#d8576b"
             ],
             [
              0.6666666666666666,
              "#ed7953"
             ],
             [
              0.7777777777777778,
              "#fb9f3a"
             ],
             [
              0.8888888888888888,
              "#fdca26"
             ],
             [
              1,
              "#f0f921"
             ]
            ],
            "type": "histogram2d"
           }
          ],
          "histogram2dcontour": [
           {
            "colorbar": {
             "outlinewidth": 0,
             "ticks": ""
            },
            "colorscale": [
             [
              0,
              "#0d0887"
             ],
             [
              0.1111111111111111,
              "#46039f"
             ],
             [
              0.2222222222222222,
              "#7201a8"
             ],
             [
              0.3333333333333333,
              "#9c179e"
             ],
             [
              0.4444444444444444,
              "#bd3786"
             ],
             [
              0.5555555555555556,
              "#d8576b"
             ],
             [
              0.6666666666666666,
              "#ed7953"
             ],
             [
              0.7777777777777778,
              "#fb9f3a"
             ],
             [
              0.8888888888888888,
              "#fdca26"
             ],
             [
              1,
              "#f0f921"
             ]
            ],
            "type": "histogram2dcontour"
           }
          ],
          "mesh3d": [
           {
            "colorbar": {
             "outlinewidth": 0,
             "ticks": ""
            },
            "type": "mesh3d"
           }
          ],
          "parcoords": [
           {
            "line": {
             "colorbar": {
              "outlinewidth": 0,
              "ticks": ""
             }
            },
            "type": "parcoords"
           }
          ],
          "pie": [
           {
            "automargin": true,
            "type": "pie"
           }
          ],
          "scatter": [
           {
            "fillpattern": {
             "fillmode": "overlay",
             "size": 10,
             "solidity": 0.2
            },
            "type": "scatter"
           }
          ],
          "scatter3d": [
           {
            "line": {
             "colorbar": {
              "outlinewidth": 0,
              "ticks": ""
             }
            },
            "marker": {
             "colorbar": {
              "outlinewidth": 0,
              "ticks": ""
             }
            },
            "type": "scatter3d"
           }
          ],
          "scattercarpet": [
           {
            "marker": {
             "colorbar": {
              "outlinewidth": 0,
              "ticks": ""
             }
            },
            "type": "scattercarpet"
           }
          ],
          "scattergeo": [
           {
            "marker": {
             "colorbar": {
              "outlinewidth": 0,
              "ticks": ""
             }
            },
            "type": "scattergeo"
           }
          ],
          "scattergl": [
           {
            "marker": {
             "colorbar": {
              "outlinewidth": 0,
              "ticks": ""
             }
            },
            "type": "scattergl"
           }
          ],
          "scattermap": [
           {
            "marker": {
             "colorbar": {
              "outlinewidth": 0,
              "ticks": ""
             }
            },
            "type": "scattermap"
           }
          ],
          "scattermapbox": [
           {
            "marker": {
             "colorbar": {
              "outlinewidth": 0,
              "ticks": ""
             }
            },
            "type": "scattermapbox"
           }
          ],
          "scatterpolar": [
           {
            "marker": {
             "colorbar": {
              "outlinewidth": 0,
              "ticks": ""
             }
            },
            "type": "scatterpolar"
           }
          ],
          "scatterpolargl": [
           {
            "marker": {
             "colorbar": {
              "outlinewidth": 0,
              "ticks": ""
             }
            },
            "type": "scatterpolargl"
           }
          ],
          "scatterternary": [
           {
            "marker": {
             "colorbar": {
              "outlinewidth": 0,
              "ticks": ""
             }
            },
            "type": "scatterternary"
           }
          ],
          "surface": [
           {
            "colorbar": {
             "outlinewidth": 0,
             "ticks": ""
            },
            "colorscale": [
             [
              0,
              "#0d0887"
             ],
             [
              0.1111111111111111,
              "#46039f"
             ],
             [
              0.2222222222222222,
              "#7201a8"
             ],
             [
              0.3333333333333333,
              "#9c179e"
             ],
             [
              0.4444444444444444,
              "#bd3786"
             ],
             [
              0.5555555555555556,
              "#d8576b"
             ],
             [
              0.6666666666666666,
              "#ed7953"
             ],
             [
              0.7777777777777778,
              "#fb9f3a"
             ],
             [
              0.8888888888888888,
              "#fdca26"
             ],
             [
              1,
              "#f0f921"
             ]
            ],
            "type": "surface"
           }
          ],
          "table": [
           {
            "cells": {
             "fill": {
              "color": "#EBF0F8"
             },
             "line": {
              "color": "white"
             }
            },
            "header": {
             "fill": {
              "color": "#C8D4E3"
             },
             "line": {
              "color": "white"
             }
            },
            "type": "table"
           }
          ]
         },
         "layout": {
          "annotationdefaults": {
           "arrowcolor": "#2a3f5f",
           "arrowhead": 0,
           "arrowwidth": 1
          },
          "autotypenumbers": "strict",
          "coloraxis": {
           "colorbar": {
            "outlinewidth": 0,
            "ticks": ""
           }
          },
          "colorscale": {
           "diverging": [
            [
             0,
             "#8e0152"
            ],
            [
             0.1,
             "#c51b7d"
            ],
            [
             0.2,
             "#de77ae"
            ],
            [
             0.3,
             "#f1b6da"
            ],
            [
             0.4,
             "#fde0ef"
            ],
            [
             0.5,
             "#f7f7f7"
            ],
            [
             0.6,
             "#e6f5d0"
            ],
            [
             0.7,
             "#b8e186"
            ],
            [
             0.8,
             "#7fbc41"
            ],
            [
             0.9,
             "#4d9221"
            ],
            [
             1,
             "#276419"
            ]
           ],
           "sequential": [
            [
             0,
             "#0d0887"
            ],
            [
             0.1111111111111111,
             "#46039f"
            ],
            [
             0.2222222222222222,
             "#7201a8"
            ],
            [
             0.3333333333333333,
             "#9c179e"
            ],
            [
             0.4444444444444444,
             "#bd3786"
            ],
            [
             0.5555555555555556,
             "#d8576b"
            ],
            [
             0.6666666666666666,
             "#ed7953"
            ],
            [
             0.7777777777777778,
             "#fb9f3a"
            ],
            [
             0.8888888888888888,
             "#fdca26"
            ],
            [
             1,
             "#f0f921"
            ]
           ],
           "sequentialminus": [
            [
             0,
             "#0d0887"
            ],
            [
             0.1111111111111111,
             "#46039f"
            ],
            [
             0.2222222222222222,
             "#7201a8"
            ],
            [
             0.3333333333333333,
             "#9c179e"
            ],
            [
             0.4444444444444444,
             "#bd3786"
            ],
            [
             0.5555555555555556,
             "#d8576b"
            ],
            [
             0.6666666666666666,
             "#ed7953"
            ],
            [
             0.7777777777777778,
             "#fb9f3a"
            ],
            [
             0.8888888888888888,
             "#fdca26"
            ],
            [
             1,
             "#f0f921"
            ]
           ]
          },
          "colorway": [
           "#636efa",
           "#EF553B",
           "#00cc96",
           "#ab63fa",
           "#FFA15A",
           "#19d3f3",
           "#FF6692",
           "#B6E880",
           "#FF97FF",
           "#FECB52"
          ],
          "font": {
           "color": "#2a3f5f"
          },
          "geo": {
           "bgcolor": "white",
           "lakecolor": "white",
           "landcolor": "#E5ECF6",
           "showlakes": true,
           "showland": true,
           "subunitcolor": "white"
          },
          "hoverlabel": {
           "align": "left"
          },
          "hovermode": "closest",
          "mapbox": {
           "style": "light"
          },
          "paper_bgcolor": "white",
          "plot_bgcolor": "#E5ECF6",
          "polar": {
           "angularaxis": {
            "gridcolor": "white",
            "linecolor": "white",
            "ticks": ""
           },
           "bgcolor": "#E5ECF6",
           "radialaxis": {
            "gridcolor": "white",
            "linecolor": "white",
            "ticks": ""
           }
          },
          "scene": {
           "xaxis": {
            "backgroundcolor": "#E5ECF6",
            "gridcolor": "white",
            "gridwidth": 2,
            "linecolor": "white",
            "showbackground": true,
            "ticks": "",
            "zerolinecolor": "white"
           },
           "yaxis": {
            "backgroundcolor": "#E5ECF6",
            "gridcolor": "white",
            "gridwidth": 2,
            "linecolor": "white",
            "showbackground": true,
            "ticks": "",
            "zerolinecolor": "white"
           },
           "zaxis": {
            "backgroundcolor": "#E5ECF6",
            "gridcolor": "white",
            "gridwidth": 2,
            "linecolor": "white",
            "showbackground": true,
            "ticks": "",
            "zerolinecolor": "white"
           }
          },
          "shapedefaults": {
           "line": {
            "color": "#2a3f5f"
           }
          },
          "ternary": {
           "aaxis": {
            "gridcolor": "white",
            "linecolor": "white",
            "ticks": ""
           },
           "baxis": {
            "gridcolor": "white",
            "linecolor": "white",
            "ticks": ""
           },
           "bgcolor": "#E5ECF6",
           "caxis": {
            "gridcolor": "white",
            "linecolor": "white",
            "ticks": ""
           }
          },
          "title": {
           "x": 0.05
          },
          "xaxis": {
           "automargin": true,
           "gridcolor": "white",
           "linecolor": "white",
           "ticks": "",
           "title": {
            "standoff": 15
           },
           "zerolinecolor": "white",
           "zerolinewidth": 2
          },
          "yaxis": {
           "automargin": true,
           "gridcolor": "white",
           "linecolor": "white",
           "ticks": "",
           "title": {
            "standoff": 15
           },
           "zerolinecolor": "white",
           "zerolinewidth": 2
          }
         }
        },
        "title": {
         "text": "TC1 Queued Capacity by Transmission Owner and Fuel"
        },
        "xaxis": {
         "title": {
          "text": "Transmission Owner"
         }
        },
        "yaxis": {
         "title": {
          "text": "MFO (GW)"
         }
        }
       }
      }
     },
     "metadata": {},
     "output_type": "display_data"
    }
   ],
   "source": [
    "\n",
    "\n",
    "# Group and sum by Transmission Owner and Fuel\n",
    "PJM_zone_fuel = PJM_queued_plants[PJM_queued_plants['Cycle'] == \"TC1\"]\n",
    "PJM_zone_fuel = PJM_zone_fuel.groupby(['Transmission Owner', 'Fuel'])[['MW Capacity', 'MW Energy', 'MFO']].sum().reset_index()\n",
    "print(PJM_zone_fuel[\"Fuel\"].unique())\n",
    "import plotly.graph_objects as go\n",
    "\n",
    "# Pivot to wide format for stacked bar\n",
    "bar_data = PJM_zone_fuel.pivot(index='Transmission Owner', columns='Fuel', values='MFO').fillna(0) / 1000  # GW\n",
    "\n",
    "# Sort Transmission Owners by total MFO\n",
    "bar_data = bar_data.loc[bar_data.sum(axis=1).sort_values(ascending=False).index]\n",
    "\n",
    "# Define custom fuel stacking order (bottom to top)\n",
    "fuel_order = [ 'Solar','Storage', 'Hybrid Solar Storage', 'Wind', 'Natural Gas','Wind & Solar', 'Offshore Wind']\n",
    "fuel_order = [f for f in fuel_order if f in bar_data.columns]\n",
    "bar_data = bar_data[fuel_order]\n",
    "\n",
    "# Create stacked bar chart\n",
    "fig = go.Figure()\n",
    "\n",
    "for fuel in fuel_order:\n",
    "    fig.add_trace(go.Bar(\n",
    "        x=bar_data.index,\n",
    "        y=bar_data[fuel],\n",
    "        name=fuel,\n",
    "        marker_color=fuel_color_map.get(fuel, '#CCCCCC')\n",
    "    ))\n",
    "\n",
    "fig.update_layout(\n",
    "    barmode='stack',\n",
    "    title='TC1 Queued Capacity by Transmission Owner and Fuel',\n",
    "    yaxis_title='MFO (GW)',\n",
    "    xaxis_title='Transmission Owner',\n",
    "    font=dict(size=14),\n",
    "    height=600,\n",
    "    legend_traceorder=\"normal\"\n",
    ")\n",
    "\n",
    "fig.show()\n"
   ]
  },
  {
   "cell_type": "code",
   "execution_count": null,
   "id": "e76979db",
   "metadata": {},
   "outputs": [
    {
     "data": {
      "application/vnd.plotly.v1+json": {
       "config": {
        "plotlyServerURL": "https://plot.ly"
       },
       "data": [
        {
         "name": "Generation (GWh)",
         "type": "bar",
         "x": [
          "ACEC",
          "DAY",
          "DPL",
          "EKPC",
          "PEPCO",
          "APS",
          "ATSI",
          "PE ",
          "PPL",
          "DOM",
          "COMED",
          "AEP",
          null
         ],
         "xaxis": "x",
         "y": {
          "bdata": "AAAAAACcmEAAAAAAAAagQAAAAAAA1LNAAAAAAAAqwkAAAAAAAKrEQAAAAADgUuhAAAAAAGCh6kAAAAAAAE/sQAAAAACAQvJAAAAAAHC1+UAAAAAAqN0AQQAAAABItgJBAAAAAAAA+H8=",
          "dtype": "f8"
         },
         "yaxis": "y"
        },
        {
         "name": "Generation Normalized",
         "type": "bar",
         "x": [
          "ACEC",
          "DAY",
          "DPL",
          "EKPC",
          "PEPCO",
          "APS",
          "ATSI",
          "PE ",
          "PPL",
          "DOM",
          "COMED",
          "AEP",
          null
         ],
         "xaxis": "x2",
         "y": {
          "bdata": "bj1r6fTq8z+bVVoTsTP0P4QFMoxS++8/Xl6CMACJC0ClZuI6mpsFQGEtxUIIehJAnekFPVlvF0AN3cgUgrUYQIvp5QUMthRAK7fwhX4ODUBg1v5wyBESQMoLXH+flxBAAAAAAAAA+H8=",
          "dtype": "f8"
         },
         "yaxis": "y2"
        },
        {
         "name": "Congestion Costs",
         "type": "bar",
         "x": [
          "ACEC",
          "DAY",
          "DPL",
          "EKPC",
          "PEPCO",
          "APS",
          "ATSI",
          "PE ",
          "PPL",
          "DOM",
          "COMED",
          "AEP",
          null
         ],
         "xaxis": "x3",
         "y": {
          "bdata": "zczMzMxMMEBmZmZmZiZBQM3MzMzMDFBAmpmZmZkZPECamZmZmdlLQGZmZmZmxl5AAAAAAADAYkCamZmZmRlDQJqZmZmZ2UtAzczMzMzMbkAAAAAAAEBvQJqZmZmZ6XFAAAAAAAAA+H8=",
          "dtype": "f8"
         },
         "yaxis": "y3"
        }
       ],
       "layout": {
        "annotations": [
         {
          "font": {
           "size": 16
          },
          "showarrow": false,
          "text": "Generation (GWh)",
          "x": 0.5,
          "xanchor": "center",
          "xref": "paper",
          "y": 1,
          "yanchor": "bottom",
          "yref": "paper"
         },
         {
          "font": {
           "size": 16
          },
          "showarrow": false,
          "text": "Generation Normalized (GWh / Installed Capacity)",
          "x": 0.5,
          "xanchor": "center",
          "xref": "paper",
          "y": 0.6333333333333333,
          "yanchor": "bottom",
          "yref": "paper"
         },
         {
          "font": {
           "size": 16
          },
          "showarrow": false,
          "text": "Congestion Costs",
          "x": 0.5,
          "xanchor": "center",
          "xref": "paper",
          "y": 0.26666666666666666,
          "yanchor": "bottom",
          "yref": "paper"
         }
        ],
        "height": 800,
        "showlegend": false,
        "template": {
         "data": {
          "bar": [
           {
            "error_x": {
             "color": "#2a3f5f"
            },
            "error_y": {
             "color": "#2a3f5f"
            },
            "marker": {
             "line": {
              "color": "#E5ECF6",
              "width": 0.5
             },
             "pattern": {
              "fillmode": "overlay",
              "size": 10,
              "solidity": 0.2
             }
            },
            "type": "bar"
           }
          ],
          "barpolar": [
           {
            "marker": {
             "line": {
              "color": "#E5ECF6",
              "width": 0.5
             },
             "pattern": {
              "fillmode": "overlay",
              "size": 10,
              "solidity": 0.2
             }
            },
            "type": "barpolar"
           }
          ],
          "carpet": [
           {
            "aaxis": {
             "endlinecolor": "#2a3f5f",
             "gridcolor": "white",
             "linecolor": "white",
             "minorgridcolor": "white",
             "startlinecolor": "#2a3f5f"
            },
            "baxis": {
             "endlinecolor": "#2a3f5f",
             "gridcolor": "white",
             "linecolor": "white",
             "minorgridcolor": "white",
             "startlinecolor": "#2a3f5f"
            },
            "type": "carpet"
           }
          ],
          "choropleth": [
           {
            "colorbar": {
             "outlinewidth": 0,
             "ticks": ""
            },
            "type": "choropleth"
           }
          ],
          "contour": [
           {
            "colorbar": {
             "outlinewidth": 0,
             "ticks": ""
            },
            "colorscale": [
             [
              0,
              "#0d0887"
             ],
             [
              0.1111111111111111,
              "#46039f"
             ],
             [
              0.2222222222222222,
              "#7201a8"
             ],
             [
              0.3333333333333333,
              "#9c179e"
             ],
             [
              0.4444444444444444,
              "#bd3786"
             ],
             [
              0.5555555555555556,
              "#d8576b"
             ],
             [
              0.6666666666666666,
              "#ed7953"
             ],
             [
              0.7777777777777778,
              "#fb9f3a"
             ],
             [
              0.8888888888888888,
              "#fdca26"
             ],
             [
              1,
              "#f0f921"
             ]
            ],
            "type": "contour"
           }
          ],
          "contourcarpet": [
           {
            "colorbar": {
             "outlinewidth": 0,
             "ticks": ""
            },
            "type": "contourcarpet"
           }
          ],
          "heatmap": [
           {
            "colorbar": {
             "outlinewidth": 0,
             "ticks": ""
            },
            "colorscale": [
             [
              0,
              "#0d0887"
             ],
             [
              0.1111111111111111,
              "#46039f"
             ],
             [
              0.2222222222222222,
              "#7201a8"
             ],
             [
              0.3333333333333333,
              "#9c179e"
             ],
             [
              0.4444444444444444,
              "#bd3786"
             ],
             [
              0.5555555555555556,
              "#d8576b"
             ],
             [
              0.6666666666666666,
              "#ed7953"
             ],
             [
              0.7777777777777778,
              "#fb9f3a"
             ],
             [
              0.8888888888888888,
              "#fdca26"
             ],
             [
              1,
              "#f0f921"
             ]
            ],
            "type": "heatmap"
           }
          ],
          "histogram": [
           {
            "marker": {
             "pattern": {
              "fillmode": "overlay",
              "size": 10,
              "solidity": 0.2
             }
            },
            "type": "histogram"
           }
          ],
          "histogram2d": [
           {
            "colorbar": {
             "outlinewidth": 0,
             "ticks": ""
            },
            "colorscale": [
             [
              0,
              "#0d0887"
             ],
             [
              0.1111111111111111,
              "#46039f"
             ],
             [
              0.2222222222222222,
              "#7201a8"
             ],
             [
              0.3333333333333333,
              "#9c179e"
             ],
             [
              0.4444444444444444,
              "#bd3786"
             ],
             [
              0.5555555555555556,
              "#d8576b"
             ],
             [
              0.6666666666666666,
              "#ed7953"
             ],
             [
              0.7777777777777778,
              "#fb9f3a"
             ],
             [
              0.8888888888888888,
              "#fdca26"
             ],
             [
              1,
              "#f0f921"
             ]
            ],
            "type": "histogram2d"
           }
          ],
          "histogram2dcontour": [
           {
            "colorbar": {
             "outlinewidth": 0,
             "ticks": ""
            },
            "colorscale": [
             [
              0,
              "#0d0887"
             ],
             [
              0.1111111111111111,
              "#46039f"
             ],
             [
              0.2222222222222222,
              "#7201a8"
             ],
             [
              0.3333333333333333,
              "#9c179e"
             ],
             [
              0.4444444444444444,
              "#bd3786"
             ],
             [
              0.5555555555555556,
              "#d8576b"
             ],
             [
              0.6666666666666666,
              "#ed7953"
             ],
             [
              0.7777777777777778,
              "#fb9f3a"
             ],
             [
              0.8888888888888888,
              "#fdca26"
             ],
             [
              1,
              "#f0f921"
             ]
            ],
            "type": "histogram2dcontour"
           }
          ],
          "mesh3d": [
           {
            "colorbar": {
             "outlinewidth": 0,
             "ticks": ""
            },
            "type": "mesh3d"
           }
          ],
          "parcoords": [
           {
            "line": {
             "colorbar": {
              "outlinewidth": 0,
              "ticks": ""
             }
            },
            "type": "parcoords"
           }
          ],
          "pie": [
           {
            "automargin": true,
            "type": "pie"
           }
          ],
          "scatter": [
           {
            "fillpattern": {
             "fillmode": "overlay",
             "size": 10,
             "solidity": 0.2
            },
            "type": "scatter"
           }
          ],
          "scatter3d": [
           {
            "line": {
             "colorbar": {
              "outlinewidth": 0,
              "ticks": ""
             }
            },
            "marker": {
             "colorbar": {
              "outlinewidth": 0,
              "ticks": ""
             }
            },
            "type": "scatter3d"
           }
          ],
          "scattercarpet": [
           {
            "marker": {
             "colorbar": {
              "outlinewidth": 0,
              "ticks": ""
             }
            },
            "type": "scattercarpet"
           }
          ],
          "scattergeo": [
           {
            "marker": {
             "colorbar": {
              "outlinewidth": 0,
              "ticks": ""
             }
            },
            "type": "scattergeo"
           }
          ],
          "scattergl": [
           {
            "marker": {
             "colorbar": {
              "outlinewidth": 0,
              "ticks": ""
             }
            },
            "type": "scattergl"
           }
          ],
          "scattermap": [
           {
            "marker": {
             "colorbar": {
              "outlinewidth": 0,
              "ticks": ""
             }
            },
            "type": "scattermap"
           }
          ],
          "scattermapbox": [
           {
            "marker": {
             "colorbar": {
              "outlinewidth": 0,
              "ticks": ""
             }
            },
            "type": "scattermapbox"
           }
          ],
          "scatterpolar": [
           {
            "marker": {
             "colorbar": {
              "outlinewidth": 0,
              "ticks": ""
             }
            },
            "type": "scatterpolar"
           }
          ],
          "scatterpolargl": [
           {
            "marker": {
             "colorbar": {
              "outlinewidth": 0,
              "ticks": ""
             }
            },
            "type": "scatterpolargl"
           }
          ],
          "scatterternary": [
           {
            "marker": {
             "colorbar": {
              "outlinewidth": 0,
              "ticks": ""
             }
            },
            "type": "scatterternary"
           }
          ],
          "surface": [
           {
            "colorbar": {
             "outlinewidth": 0,
             "ticks": ""
            },
            "colorscale": [
             [
              0,
              "#0d0887"
             ],
             [
              0.1111111111111111,
              "#46039f"
             ],
             [
              0.2222222222222222,
              "#7201a8"
             ],
             [
              0.3333333333333333,
              "#9c179e"
             ],
             [
              0.4444444444444444,
              "#bd3786"
             ],
             [
              0.5555555555555556,
              "#d8576b"
             ],
             [
              0.6666666666666666,
              "#ed7953"
             ],
             [
              0.7777777777777778,
              "#fb9f3a"
             ],
             [
              0.8888888888888888,
              "#fdca26"
             ],
             [
              1,
              "#f0f921"
             ]
            ],
            "type": "surface"
           }
          ],
          "table": [
           {
            "cells": {
             "fill": {
              "color": "#EBF0F8"
             },
             "line": {
              "color": "white"
             }
            },
            "header": {
             "fill": {
              "color": "#C8D4E3"
             },
             "line": {
              "color": "white"
             }
            },
            "type": "table"
           }
          ]
         },
         "layout": {
          "annotationdefaults": {
           "arrowcolor": "#2a3f5f",
           "arrowhead": 0,
           "arrowwidth": 1
          },
          "autotypenumbers": "strict",
          "coloraxis": {
           "colorbar": {
            "outlinewidth": 0,
            "ticks": ""
           }
          },
          "colorscale": {
           "diverging": [
            [
             0,
             "#8e0152"
            ],
            [
             0.1,
             "#c51b7d"
            ],
            [
             0.2,
             "#de77ae"
            ],
            [
             0.3,
             "#f1b6da"
            ],
            [
             0.4,
             "#fde0ef"
            ],
            [
             0.5,
             "#f7f7f7"
            ],
            [
             0.6,
             "#e6f5d0"
            ],
            [
             0.7,
             "#b8e186"
            ],
            [
             0.8,
             "#7fbc41"
            ],
            [
             0.9,
             "#4d9221"
            ],
            [
             1,
             "#276419"
            ]
           ],
           "sequential": [
            [
             0,
             "#0d0887"
            ],
            [
             0.1111111111111111,
             "#46039f"
            ],
            [
             0.2222222222222222,
             "#7201a8"
            ],
            [
             0.3333333333333333,
             "#9c179e"
            ],
            [
             0.4444444444444444,
             "#bd3786"
            ],
            [
             0.5555555555555556,
             "#d8576b"
            ],
            [
             0.6666666666666666,
             "#ed7953"
            ],
            [
             0.7777777777777778,
             "#fb9f3a"
            ],
            [
             0.8888888888888888,
             "#fdca26"
            ],
            [
             1,
             "#f0f921"
            ]
           ],
           "sequentialminus": [
            [
             0,
             "#0d0887"
            ],
            [
             0.1111111111111111,
             "#46039f"
            ],
            [
             0.2222222222222222,
             "#7201a8"
            ],
            [
             0.3333333333333333,
             "#9c179e"
            ],
            [
             0.4444444444444444,
             "#bd3786"
            ],
            [
             0.5555555555555556,
             "#d8576b"
            ],
            [
             0.6666666666666666,
             "#ed7953"
            ],
            [
             0.7777777777777778,
             "#fb9f3a"
            ],
            [
             0.8888888888888888,
             "#fdca26"
            ],
            [
             1,
             "#f0f921"
            ]
           ]
          },
          "colorway": [
           "#636efa",
           "#EF553B",
           "#00cc96",
           "#ab63fa",
           "#FFA15A",
           "#19d3f3",
           "#FF6692",
           "#B6E880",
           "#FF97FF",
           "#FECB52"
          ],
          "font": {
           "color": "#2a3f5f"
          },
          "geo": {
           "bgcolor": "white",
           "lakecolor": "white",
           "landcolor": "#E5ECF6",
           "showlakes": true,
           "showland": true,
           "subunitcolor": "white"
          },
          "hoverlabel": {
           "align": "left"
          },
          "hovermode": "closest",
          "mapbox": {
           "style": "light"
          },
          "paper_bgcolor": "white",
          "plot_bgcolor": "#E5ECF6",
          "polar": {
           "angularaxis": {
            "gridcolor": "white",
            "linecolor": "white",
            "ticks": ""
           },
           "bgcolor": "#E5ECF6",
           "radialaxis": {
            "gridcolor": "white",
            "linecolor": "white",
            "ticks": ""
           }
          },
          "scene": {
           "xaxis": {
            "backgroundcolor": "#E5ECF6",
            "gridcolor": "white",
            "gridwidth": 2,
            "linecolor": "white",
            "showbackground": true,
            "ticks": "",
            "zerolinecolor": "white"
           },
           "yaxis": {
            "backgroundcolor": "#E5ECF6",
            "gridcolor": "white",
            "gridwidth": 2,
            "linecolor": "white",
            "showbackground": true,
            "ticks": "",
            "zerolinecolor": "white"
           },
           "zaxis": {
            "backgroundcolor": "#E5ECF6",
            "gridcolor": "white",
            "gridwidth": 2,
            "linecolor": "white",
            "showbackground": true,
            "ticks": "",
            "zerolinecolor": "white"
           }
          },
          "shapedefaults": {
           "line": {
            "color": "#2a3f5f"
           }
          },
          "ternary": {
           "aaxis": {
            "gridcolor": "white",
            "linecolor": "white",
            "ticks": ""
           },
           "baxis": {
            "gridcolor": "white",
            "linecolor": "white",
            "ticks": ""
           },
           "bgcolor": "#E5ECF6",
           "caxis": {
            "gridcolor": "white",
            "linecolor": "white",
            "ticks": ""
           }
          },
          "title": {
           "x": 0.05
          },
          "xaxis": {
           "automargin": true,
           "gridcolor": "white",
           "linecolor": "white",
           "ticks": "",
           "title": {
            "standoff": 15
           },
           "zerolinecolor": "white",
           "zerolinewidth": 2
          },
          "yaxis": {
           "automargin": true,
           "gridcolor": "white",
           "linecolor": "white",
           "ticks": "",
           "title": {
            "standoff": 15
           },
           "zerolinecolor": "white",
           "zerolinewidth": 2
          }
         }
        },
        "title": {
         "text": "PJM Nodes: Generation and Generation Normalized"
        },
        "xaxis": {
         "anchor": "y",
         "domain": [
          0,
          1
         ],
         "matches": "x3",
         "showticklabels": false
        },
        "xaxis2": {
         "anchor": "y2",
         "domain": [
          0,
          1
         ],
         "matches": "x3",
         "showticklabels": false
        },
        "xaxis3": {
         "anchor": "y3",
         "domain": [
          0,
          1
         ],
         "title": {
          "text": "Node Name"
         }
        },
        "yaxis": {
         "anchor": "x",
         "domain": [
          0.7333333333333334,
          1
         ]
        },
        "yaxis2": {
         "anchor": "x2",
         "domain": [
          0.3666666666666667,
          0.6333333333333333
         ]
        },
        "yaxis3": {
         "anchor": "x3",
         "domain": [
          0,
          0.26666666666666666
         ]
        }
       }
      }
     },
     "metadata": {},
     "output_type": "display_data"
    },
    {
     "data": {
      "application/vnd.plotly.v1+json": {
       "config": {
        "plotlyServerURL": "https://plot.ly"
       },
       "data": [
        {
         "name": "LMP",
         "type": "bar",
         "x": [
          "ACEC",
          "DAY",
          "DPL",
          "EKPC",
          "PEPCO",
          "APS",
          "ATSI",
          "PE ",
          "PPL",
          "DOM",
          "COMED",
          "AEP",
          null
         ],
         "y": {
          "bdata": "hetRuB6FO0AAAAAAAGBAQHE9Ctej8D5A7FG4HoWrO0CuR+F6FM5CQNejcD0KF0BAUrgehetRP0Bcj8L1KJw/QBSuR+F6lDpAMzMzMzMTQkC4HoXrUTg5QJqZmZmZWT9AAAAAAAAA+H8=",
          "dtype": "f8"
         }
        },
        {
         "name": "Congestion Cost",
         "type": "bar",
         "x": [
          "ACEC",
          "DAY",
          "DPL",
          "EKPC",
          "PEPCO",
          "APS",
          "ATSI",
          "PE ",
          "PPL",
          "DOM",
          "COMED",
          "AEP",
          null
         ],
         "y": {
          "bdata": "zczMzMxMMEBmZmZmZiZBQM3MzMzMDFBAmpmZmZkZPECamZmZmdlLQGZmZmZmxl5AAAAAAADAYkCamZmZmRlDQJqZmZmZ2UtAzczMzMzMbkAAAAAAAEBvQJqZmZmZ6XFAAAAAAAAA+H8=",
          "dtype": "f8"
         }
        }
       ],
       "layout": {
        "barmode": "group",
        "height": 700,
        "template": {
         "data": {
          "bar": [
           {
            "error_x": {
             "color": "#2a3f5f"
            },
            "error_y": {
             "color": "#2a3f5f"
            },
            "marker": {
             "line": {
              "color": "#E5ECF6",
              "width": 0.5
             },
             "pattern": {
              "fillmode": "overlay",
              "size": 10,
              "solidity": 0.2
             }
            },
            "type": "bar"
           }
          ],
          "barpolar": [
           {
            "marker": {
             "line": {
              "color": "#E5ECF6",
              "width": 0.5
             },
             "pattern": {
              "fillmode": "overlay",
              "size": 10,
              "solidity": 0.2
             }
            },
            "type": "barpolar"
           }
          ],
          "carpet": [
           {
            "aaxis": {
             "endlinecolor": "#2a3f5f",
             "gridcolor": "white",
             "linecolor": "white",
             "minorgridcolor": "white",
             "startlinecolor": "#2a3f5f"
            },
            "baxis": {
             "endlinecolor": "#2a3f5f",
             "gridcolor": "white",
             "linecolor": "white",
             "minorgridcolor": "white",
             "startlinecolor": "#2a3f5f"
            },
            "type": "carpet"
           }
          ],
          "choropleth": [
           {
            "colorbar": {
             "outlinewidth": 0,
             "ticks": ""
            },
            "type": "choropleth"
           }
          ],
          "contour": [
           {
            "colorbar": {
             "outlinewidth": 0,
             "ticks": ""
            },
            "colorscale": [
             [
              0,
              "#0d0887"
             ],
             [
              0.1111111111111111,
              "#46039f"
             ],
             [
              0.2222222222222222,
              "#7201a8"
             ],
             [
              0.3333333333333333,
              "#9c179e"
             ],
             [
              0.4444444444444444,
              "#bd3786"
             ],
             [
              0.5555555555555556,
              "#d8576b"
             ],
             [
              0.6666666666666666,
              "#ed7953"
             ],
             [
              0.7777777777777778,
              "#fb9f3a"
             ],
             [
              0.8888888888888888,
              "#fdca26"
             ],
             [
              1,
              "#f0f921"
             ]
            ],
            "type": "contour"
           }
          ],
          "contourcarpet": [
           {
            "colorbar": {
             "outlinewidth": 0,
             "ticks": ""
            },
            "type": "contourcarpet"
           }
          ],
          "heatmap": [
           {
            "colorbar": {
             "outlinewidth": 0,
             "ticks": ""
            },
            "colorscale": [
             [
              0,
              "#0d0887"
             ],
             [
              0.1111111111111111,
              "#46039f"
             ],
             [
              0.2222222222222222,
              "#7201a8"
             ],
             [
              0.3333333333333333,
              "#9c179e"
             ],
             [
              0.4444444444444444,
              "#bd3786"
             ],
             [
              0.5555555555555556,
              "#d8576b"
             ],
             [
              0.6666666666666666,
              "#ed7953"
             ],
             [
              0.7777777777777778,
              "#fb9f3a"
             ],
             [
              0.8888888888888888,
              "#fdca26"
             ],
             [
              1,
              "#f0f921"
             ]
            ],
            "type": "heatmap"
           }
          ],
          "histogram": [
           {
            "marker": {
             "pattern": {
              "fillmode": "overlay",
              "size": 10,
              "solidity": 0.2
             }
            },
            "type": "histogram"
           }
          ],
          "histogram2d": [
           {
            "colorbar": {
             "outlinewidth": 0,
             "ticks": ""
            },
            "colorscale": [
             [
              0,
              "#0d0887"
             ],
             [
              0.1111111111111111,
              "#46039f"
             ],
             [
              0.2222222222222222,
              "#7201a8"
             ],
             [
              0.3333333333333333,
              "#9c179e"
             ],
             [
              0.4444444444444444,
              "#bd3786"
             ],
             [
              0.5555555555555556,
              "#d8576b"
             ],
             [
              0.6666666666666666,
              "#ed7953"
             ],
             [
              0.7777777777777778,
              "#fb9f3a"
             ],
             [
              0.8888888888888888,
              "#fdca26"
             ],
             [
              1,
              "#f0f921"
             ]
            ],
            "type": "histogram2d"
           }
          ],
          "histogram2dcontour": [
           {
            "colorbar": {
             "outlinewidth": 0,
             "ticks": ""
            },
            "colorscale": [
             [
              0,
              "#0d0887"
             ],
             [
              0.1111111111111111,
              "#46039f"
             ],
             [
              0.2222222222222222,
              "#7201a8"
             ],
             [
              0.3333333333333333,
              "#9c179e"
             ],
             [
              0.4444444444444444,
              "#bd3786"
             ],
             [
              0.5555555555555556,
              "#d8576b"
             ],
             [
              0.6666666666666666,
              "#ed7953"
             ],
             [
              0.7777777777777778,
              "#fb9f3a"
             ],
             [
              0.8888888888888888,
              "#fdca26"
             ],
             [
              1,
              "#f0f921"
             ]
            ],
            "type": "histogram2dcontour"
           }
          ],
          "mesh3d": [
           {
            "colorbar": {
             "outlinewidth": 0,
             "ticks": ""
            },
            "type": "mesh3d"
           }
          ],
          "parcoords": [
           {
            "line": {
             "colorbar": {
              "outlinewidth": 0,
              "ticks": ""
             }
            },
            "type": "parcoords"
           }
          ],
          "pie": [
           {
            "automargin": true,
            "type": "pie"
           }
          ],
          "scatter": [
           {
            "fillpattern": {
             "fillmode": "overlay",
             "size": 10,
             "solidity": 0.2
            },
            "type": "scatter"
           }
          ],
          "scatter3d": [
           {
            "line": {
             "colorbar": {
              "outlinewidth": 0,
              "ticks": ""
             }
            },
            "marker": {
             "colorbar": {
              "outlinewidth": 0,
              "ticks": ""
             }
            },
            "type": "scatter3d"
           }
          ],
          "scattercarpet": [
           {
            "marker": {
             "colorbar": {
              "outlinewidth": 0,
              "ticks": ""
             }
            },
            "type": "scattercarpet"
           }
          ],
          "scattergeo": [
           {
            "marker": {
             "colorbar": {
              "outlinewidth": 0,
              "ticks": ""
             }
            },
            "type": "scattergeo"
           }
          ],
          "scattergl": [
           {
            "marker": {
             "colorbar": {
              "outlinewidth": 0,
              "ticks": ""
             }
            },
            "type": "scattergl"
           }
          ],
          "scattermap": [
           {
            "marker": {
             "colorbar": {
              "outlinewidth": 0,
              "ticks": ""
             }
            },
            "type": "scattermap"
           }
          ],
          "scattermapbox": [
           {
            "marker": {
             "colorbar": {
              "outlinewidth": 0,
              "ticks": ""
             }
            },
            "type": "scattermapbox"
           }
          ],
          "scatterpolar": [
           {
            "marker": {
             "colorbar": {
              "outlinewidth": 0,
              "ticks": ""
             }
            },
            "type": "scatterpolar"
           }
          ],
          "scatterpolargl": [
           {
            "marker": {
             "colorbar": {
              "outlinewidth": 0,
              "ticks": ""
             }
            },
            "type": "scatterpolargl"
           }
          ],
          "scatterternary": [
           {
            "marker": {
             "colorbar": {
              "outlinewidth": 0,
              "ticks": ""
             }
            },
            "type": "scatterternary"
           }
          ],
          "surface": [
           {
            "colorbar": {
             "outlinewidth": 0,
             "ticks": ""
            },
            "colorscale": [
             [
              0,
              "#0d0887"
             ],
             [
              0.1111111111111111,
              "#46039f"
             ],
             [
              0.2222222222222222,
              "#7201a8"
             ],
             [
              0.3333333333333333,
              "#9c179e"
             ],
             [
              0.4444444444444444,
              "#bd3786"
             ],
             [
              0.5555555555555556,
              "#d8576b"
             ],
             [
              0.6666666666666666,
              "#ed7953"
             ],
             [
              0.7777777777777778,
              "#fb9f3a"
             ],
             [
              0.8888888888888888,
              "#fdca26"
             ],
             [
              1,
              "#f0f921"
             ]
            ],
            "type": "surface"
           }
          ],
          "table": [
           {
            "cells": {
             "fill": {
              "color": "#EBF0F8"
             },
             "line": {
              "color": "white"
             }
            },
            "header": {
             "fill": {
              "color": "#C8D4E3"
             },
             "line": {
              "color": "white"
             }
            },
            "type": "table"
           }
          ]
         },
         "layout": {
          "annotationdefaults": {
           "arrowcolor": "#2a3f5f",
           "arrowhead": 0,
           "arrowwidth": 1
          },
          "autotypenumbers": "strict",
          "coloraxis": {
           "colorbar": {
            "outlinewidth": 0,
            "ticks": ""
           }
          },
          "colorscale": {
           "diverging": [
            [
             0,
             "#8e0152"
            ],
            [
             0.1,
             "#c51b7d"
            ],
            [
             0.2,
             "#de77ae"
            ],
            [
             0.3,
             "#f1b6da"
            ],
            [
             0.4,
             "#fde0ef"
            ],
            [
             0.5,
             "#f7f7f7"
            ],
            [
             0.6,
             "#e6f5d0"
            ],
            [
             0.7,
             "#b8e186"
            ],
            [
             0.8,
             "#7fbc41"
            ],
            [
             0.9,
             "#4d9221"
            ],
            [
             1,
             "#276419"
            ]
           ],
           "sequential": [
            [
             0,
             "#0d0887"
            ],
            [
             0.1111111111111111,
             "#46039f"
            ],
            [
             0.2222222222222222,
             "#7201a8"
            ],
            [
             0.3333333333333333,
             "#9c179e"
            ],
            [
             0.4444444444444444,
             "#bd3786"
            ],
            [
             0.5555555555555556,
             "#d8576b"
            ],
            [
             0.6666666666666666,
             "#ed7953"
            ],
            [
             0.7777777777777778,
             "#fb9f3a"
            ],
            [
             0.8888888888888888,
             "#fdca26"
            ],
            [
             1,
             "#f0f921"
            ]
           ],
           "sequentialminus": [
            [
             0,
             "#0d0887"
            ],
            [
             0.1111111111111111,
             "#46039f"
            ],
            [
             0.2222222222222222,
             "#7201a8"
            ],
            [
             0.3333333333333333,
             "#9c179e"
            ],
            [
             0.4444444444444444,
             "#bd3786"
            ],
            [
             0.5555555555555556,
             "#d8576b"
            ],
            [
             0.6666666666666666,
             "#ed7953"
            ],
            [
             0.7777777777777778,
             "#fb9f3a"
            ],
            [
             0.8888888888888888,
             "#fdca26"
            ],
            [
             1,
             "#f0f921"
            ]
           ]
          },
          "colorway": [
           "#636efa",
           "#EF553B",
           "#00cc96",
           "#ab63fa",
           "#FFA15A",
           "#19d3f3",
           "#FF6692",
           "#B6E880",
           "#FF97FF",
           "#FECB52"
          ],
          "font": {
           "color": "#2a3f5f"
          },
          "geo": {
           "bgcolor": "white",
           "lakecolor": "white",
           "landcolor": "#E5ECF6",
           "showlakes": true,
           "showland": true,
           "subunitcolor": "white"
          },
          "hoverlabel": {
           "align": "left"
          },
          "hovermode": "closest",
          "mapbox": {
           "style": "light"
          },
          "paper_bgcolor": "white",
          "plot_bgcolor": "#E5ECF6",
          "polar": {
           "angularaxis": {
            "gridcolor": "white",
            "linecolor": "white",
            "ticks": ""
           },
           "bgcolor": "#E5ECF6",
           "radialaxis": {
            "gridcolor": "white",
            "linecolor": "white",
            "ticks": ""
           }
          },
          "scene": {
           "xaxis": {
            "backgroundcolor": "#E5ECF6",
            "gridcolor": "white",
            "gridwidth": 2,
            "linecolor": "white",
            "showbackground": true,
            "ticks": "",
            "zerolinecolor": "white"
           },
           "yaxis": {
            "backgroundcolor": "#E5ECF6",
            "gridcolor": "white",
            "gridwidth": 2,
            "linecolor": "white",
            "showbackground": true,
            "ticks": "",
            "zerolinecolor": "white"
           },
           "zaxis": {
            "backgroundcolor": "#E5ECF6",
            "gridcolor": "white",
            "gridwidth": 2,
            "linecolor": "white",
            "showbackground": true,
            "ticks": "",
            "zerolinecolor": "white"
           }
          },
          "shapedefaults": {
           "line": {
            "color": "#2a3f5f"
           }
          },
          "ternary": {
           "aaxis": {
            "gridcolor": "white",
            "linecolor": "white",
            "ticks": ""
           },
           "baxis": {
            "gridcolor": "white",
            "linecolor": "white",
            "ticks": ""
           },
           "bgcolor": "#E5ECF6",
           "caxis": {
            "gridcolor": "white",
            "linecolor": "white",
            "ticks": ""
           }
          },
          "title": {
           "x": 0.05
          },
          "xaxis": {
           "automargin": true,
           "gridcolor": "white",
           "linecolor": "white",
           "ticks": "",
           "title": {
            "standoff": 15
           },
           "zerolinecolor": "white",
           "zerolinewidth": 2
          },
          "yaxis": {
           "automargin": true,
           "gridcolor": "white",
           "linecolor": "white",
           "ticks": "",
           "title": {
            "standoff": 15
           },
           "zerolinecolor": "white",
           "zerolinewidth": 2
          }
         }
        },
        "title": {
         "text": "PJM Nodes: LMP, Congestion Cost"
        },
        "xaxis": {
         "title": {
          "text": "Node Name"
         }
        },
        "yaxis": {
         "title": {
          "text": "Value"
         }
        }
       }
      }
     },
     "metadata": {},
     "output_type": "display_data"
    }
   ],
   "source": [
    "\n",
    "# Sort dataframe\n",
    "df_sorted = PJM_nodes.sort_values(\"Generation(GWh)\", ascending=True).copy()\n",
    "\n",
    "# Create subplots with 2 rows, shared x-axis\n",
    "fig = make_subplots(\n",
    "    rows=3, cols=1,\n",
    "    shared_xaxes=True,\n",
    "    vertical_spacing=0.1,\n",
    "    subplot_titles=(\"Generation (GWh)\", \"Generation Normalized (GWh / Installed Capacity)\", \"Congestion Costs\")\n",
    ")\n",
    "\n",
    "# First row: Generation (GWh)\n",
    "fig.add_trace(go.Bar(\n",
    "    x=df_sorted[\"Name\"],\n",
    "    y=df_sorted[\"Generation(GWh)\"],\n",
    "    name=\"Generation (GWh)\"\n",
    "), row=1, col=1)\n",
    "\n",
    "# Second row: Generation Normalized\n",
    "fig.add_trace(go.Bar(\n",
    "    x=df_sorted[\"Name\"],\n",
    "    y=df_sorted[\"Generation Normalized\"],\n",
    "    name=\"Generation Normalized\"\n",
    "), row=2, col=1)\n",
    "fig.add_trace(go.Bar(\n",
    "    x=df_sorted[\"Name\"],\n",
    "    y=df_sorted[\"congestion_cost\"],\n",
    "    name=\"Congestion Costs\"\n",
    "), row=3, col=1)\n",
    "\n",
    "fig.update_layout(\n",
    "    title_text=\"PJM Nodes: Generation and Generation Normalized\",\n",
    "    height=800,\n",
    "    showlegend=False,\n",
    "    xaxis3=dict(title=\"Node Name\")  # only label x-axis on bottom\n",
    ")\n",
    "\n",
    "fig.show()\n",
    "\n",
    "\n",
    "\n",
    "# --- Second grouped bar chart ---\n",
    "fig2 = go.Figure()\n",
    "fig2.add_trace(go.Bar(x=df_sorted[\"Name\"], y=df_sorted[\"lmp\"], name=\"LMP\"))\n",
    "fig2.add_trace(go.Bar(x=df_sorted[\"Name\"], y=df_sorted[\"congestion_cost\"], name=\"Congestion Cost\"))\n",
    "#fig2.add_trace(go.Bar(x=df_sorted[\"Name\"], y=df_sorted[\"annual_growth_rate_ten_ year\"], name=\"Annual Growth Rate (%)\"))\n",
    "\n",
    "fig2.update_layout(\n",
    "    barmode='group',\n",
    "    title=\"PJM Nodes: LMP, Congestion Cost\",\n",
    "    xaxis_title=\"Node Name\",\n",
    "    yaxis_title=\"Value\",\n",
    "    height=700\n",
    ")\n",
    "fig2.show()\n"
   ]
  },
  {
   "cell_type": "markdown",
   "id": "3346c9f7",
   "metadata": {},
   "source": [
    "### There are 3983 Ultimate Parents of 4865 owners, representing 16901 existing projects in PJM \n",
    "### Number of ULT_PARENTs with > 50 projects: 90, representing 48% of total capacity \n",
    "### owners do not mean developers though, so this might not be used at all\n"
   ]
  },
  {
   "cell_type": "code",
   "execution_count": 62,
   "id": "9928efe8",
   "metadata": {},
   "outputs": [
    {
     "name": "stdout",
     "output_type": "stream",
     "text": [
      "3983\n",
      "4865\n",
      "16901\n"
     ]
    },
    {
     "data": {
      "image/png": "[encoded data removed]",
      "text/plain": [
       "<Figure size 800x500 with 1 Axes>"
      ]
     },
     "metadata": {},
     "output_type": "display_data"
    },
    {
     "name": "stdout",
     "output_type": "stream",
     "text": [
      "Number of ULT_PARENTs with > 50 projects: 90\n",
      "Total capacity of these ULT_PARENTs: 1170028.73 MW\n",
      "Percent of total capacity: 47.68%\n",
      "Number of ULT_PARENTs with > 20 projects: 90\n",
      "Percent of total capacity: 47.68%\n",
      "\n",
      "Top ULT_PARENTs by number of projects and capacity:\n"
     ]
    }
   ],
   "source": [
    "unique_count_ULT_PARENT = PJM_existing_power_plants['ULT_PARENT'].nunique()\n",
    "unique_count_OWNER = PJM_existing_power_plants['OWNER'].nunique()\n",
    "unique_count_plant = PJM_existing_power_plants['POWER_PLANT'].nunique()\n",
    "print(unique_count_ULT_PARENT)\n",
    "print(unique_count_OWNER)\n",
    "print(unique_count_plant)\n",
    "ULT_PARENT_counts = PJM_existing_power_plants['ULT_PARENT'].value_counts()\n",
    "bins = [1, 5, 10, 20, 40, 60, 100, 200]\n",
    "labels = ['1–5', '5-10','10–20', '20–40', '40–60', '60–100', '100-200']\n",
    "\n",
    "plt.figure(figsize=(8, 5))\n",
    "n, bins_out, patches = plt.hist(ULT_PARENT_counts, bins=bins, edgecolor='black', rwidth=0.8)\n",
    "bin_centers = [(bins[i] + bins[i+1]) / 2 for i in range(len(bins)-1)]\n",
    "plt.xticks(bin_centers, labels)\n",
    "plt.xlabel('Number of Projects per ULT_PARENT (binned)')\n",
    "plt.ylabel('Number of ULT_PARENTs')\n",
    "plt.title('Histogram of Number of Projects per ULT_PARENT')\n",
    "plt.tight_layout()\n",
    "plt.show()\n",
    "\n",
    "biggest_ULT_PARENTs = ULT_PARENT_counts[ULT_PARENT_counts > 50].index.tolist()\n",
    "capacity_biggest_ULT_PARENTs_df = PJM_existing_power_plants[PJM_existing_power_plants['ULT_PARENT'].isin(biggest_ULT_PARENTs)]\n",
    "capacity_biggest_ULT_PARENTs= capacity_biggest_ULT_PARENTs_df['OPER_CAPACITY_PLANT'].sum()\n",
    "total_capacity = PJM_existing_power_plants['OPER_CAPACITY_PLANT'].sum()\n",
    "\n",
    "# Percentage\n",
    "percent_capacity_biggest_ULT_PARENTs = (capacity_biggest_ULT_PARENTs / total_capacity) * 100\n",
    "\n",
    "# Output\n",
    "print(f\"Number of ULT_PARENTs with > 50 projects: {len(biggest_ULT_PARENTs)}\")\n",
    "print(f\"Total capacity of these ULT_PARENTs: {capacity_biggest_ULT_PARENTs:.2f} MW\")\n",
    "print(f\"Percent of total capacity: {percent_capacity_biggest_ULT_PARENTs:.2f}%\")\n",
    "summary_table = capacity_biggest_ULT_PARENTs_df.groupby('ULT_PARENT').agg(\n",
    "    project_count=('POWER_PLANT', 'count'),\n",
    "    total_capacity_MW=('OPER_CAPACITY_PLANT', 'sum')\n",
    ").sort_values(by='total_capacity_MW', ascending=False)\n",
    "summary_table = summary_table.reset_index()\n",
    "summary_table['total_capacity_MW'] = summary_table['total_capacity_MW'].round(2)\n",
    "\n",
    "# Print summary\n",
    "print(f\"Number of ULT_PARENTs with > 20 projects: {len(summary_table)}\")\n",
    "print(f\"Percent of total capacity: {(summary_table['total_capacity_MW'].sum() / PJM_existing_power_plants['OPER_CAPACITY_PLANT'].sum()) * 100:.2f}%\")\n",
    "print(\"\\nTop ULT_PARENTs by number of projects and capacity:\")\n",
    "import matplotlib.pyplot as plt\n",
    "\n",
    "import plotly.graph_objects as go\n",
    "\n",
    "# Group by ULT_PARENT and FUEL_TYPE to get both capacity and project count\n",
    "grouped = capacity_biggest_ULT_PARENTs_df.groupby(['ULT_PARENT', 'FUEL_TYPE']).agg(\n",
    "    OPER_CAPACITY_PLANT=('OPER_CAPACITY_PLANT', 'sum'),\n",
    "    project_count=('POWER_PLANT', 'count')\n",
    ").reset_index()\n",
    "\n",
    "\n",
    "# # Loop through each parent to generate pie charts\n",
    "# for parent in grouped['ULT_PARENT'].unique():\n",
    "#     parent_data = grouped[grouped['ULT_PARENT'] == parent].copy()\n",
    "\n",
    "#     # Create custom labels like \"SOLAR (3 projects)\"\n",
    "#     parent_data['slice_text'] = parent_data.apply(\n",
    "#         lambda row: f\"{row['FUEL_TYPE']} ({row['project_count']} projects)\", axis=1\n",
    "#     )\n",
    "\n",
    "#     fig = go.Figure(data=[go.Pie(\n",
    "#         labels=parent_data['slice_text'],\n",
    "#         values=parent_data['OPER_CAPACITY_PLANT'],\n",
    "#         textinfo='label+percent',\n",
    "#         hoverinfo='label+percent+value',\n",
    "#         marker=dict(colors=parent_data['FUEL_TYPE'].map(fuel_color_map).fillna('#CCCCCC'))\n",
    "#     )])\n",
    "\n",
    "#     fig.update_layout(title_text=f'Fuel Mix for {parent}', title_x=0.5)\n",
    "#     fig.show()\n",
    "\n"
   ]
  },
  {
   "cell_type": "markdown",
   "id": "1543d85a",
   "metadata": {},
   "source": [
    "### TC1&TC2 has the developers listed, most projects are just one project per developer, in total there are 593 developers representing 963 projects, and there are 12 developers with more than 5 projects that in total represent about 18% of the queue's MW energy \n"
   ]
  },
  {
   "cell_type": "code",
   "execution_count": 63,
   "id": "01f9ab10",
   "metadata": {},
   "outputs": [
    {
     "name": "stdout",
     "output_type": "stream",
     "text": [
      "Developers in TC1: 167\n",
      "Developers  in TC2: 381\n",
      "Developers only in TC1: 129\n",
      "Developers only in TC2: 343\n",
      "Developers in both: 38\n",
      "ACE\n",
      "Amelia Energy Facility, LLC\n",
      "Aurora\n",
      "Bellflower\n",
      "Big Shoulders Storage LLC\n",
      "Blooming Grove Solar Energy Center LLC \n",
      "Blue Violet Energy, LLC\n",
      "CPV  LLC\n",
      "CPV LLC\n",
      "Calpine\n",
      "Chestnut LLC\n",
      "Crossroads LLC\n",
      "Dolphin Solar LLC\n",
      "Exie Solar, LLC\n",
      "Fountain Point Solar Energy LLC\n",
      "Gipper\n",
      "Goldfinch Solar, LLC\n",
      "Heartland Solar LLC\n",
      "Invenergy\n",
      "Leeward Renewable Energy Development, LLC\n",
      "MC Solar, LLC\n",
      "McKean LLC\n",
      "Mink Solar LLC\n",
      "Minonk Solar, LLC\n",
      "Morrisdale LLC\n",
      "North Corners Energy, LLC\n",
      "Oak Solar LLC\n",
      "RWE LLC\n",
      "Royerton Solar, LLC\n",
      "Sand Dragon Energy LLC\n",
      "Staunton Solar, LLC\n",
      "Steward Creek Solar, LLC\n",
      "TGE LLC\n",
      "Two Oaks LLC\n",
      "Urban Grid LLC\n",
      "Virginia Electric and Power Company\n",
      "Wapella Bluffs Wind Project, LLC\n",
      "Williams County Solar, LLC\n",
      "510\n",
      "959\n",
      "['Virginia Electric and Power Company', 'RWE LLC', 'Invenergy', 'ACE', 'Leeward Renewable Energy Development, LLC', 'Cardinal Energy Storage East, LLC', 'Steward Creek Solar, LLC', 'McKean LLC', 'Deriva Energy Solar, LLC', 'AEUG', 'Riverlake Energy, LLC']\n",
      "23.49941140265857\n"
     ]
    },
    {
     "data": {
      "application/vnd.plotly.v1+json": {
       "config": {
        "plotlyServerURL": "https://plot.ly"
       },
       "data": [
        {
         "marker": {
          "color": "steelblue",
          "line": {
           "color": "black",
           "width": 1
          }
         },
         "text": [
          "336",
          "158",
          "11",
          "1",
          "4"
         ],
         "textposition": "auto",
         "type": "bar",
         "x": [
          "1",
          "2–5",
          "6–10",
          "11–15",
          ">15"
         ],
         "y": [
          336,
          158,
          11,
          1,
          4
         ]
        }
       ],
       "layout": {
        "bargap": 0.1,
        "template": {
         "data": {
          "bar": [
           {
            "error_x": {
             "color": "rgb(36,36,36)"
            },
            "error_y": {
             "color": "rgb(36,36,36)"
            },
            "marker": {
             "line": {
              "color": "white",
              "width": 0.5
             },
             "pattern": {
              "fillmode": "overlay",
              "size": 10,
              "solidity": 0.2
             }
            },
            "type": "bar"
           }
          ],
          "barpolar": [
           {
            "marker": {
             "line": {
              "color": "white",
              "width": 0.5
             },
             "pattern": {
              "fillmode": "overlay",
              "size": 10,
              "solidity": 0.2
             }
            },
            "type": "barpolar"
           }
          ],
          "carpet": [
           {
            "aaxis": {
             "endlinecolor": "rgb(36,36,36)",
             "gridcolor": "white",
             "linecolor": "white",
             "minorgridcolor": "white",
             "startlinecolor": "rgb(36,36,36)"
            },
            "baxis": {
             "endlinecolor": "rgb(36,36,36)",
             "gridcolor": "white",
             "linecolor": "white",
             "minorgridcolor": "white",
             "startlinecolor": "rgb(36,36,36)"
            },
            "type": "carpet"
           }
          ],
          "choropleth": [
           {
            "colorbar": {
             "outlinewidth": 1,
             "tickcolor": "rgb(36,36,36)",
             "ticks": "outside"
            },
            "type": "choropleth"
           }
          ],
          "contour": [
           {
            "colorbar": {
             "outlinewidth": 1,
             "tickcolor": "rgb(36,36,36)",
             "ticks": "outside"
            },
            "colorscale": [
             [
              0,
              "#440154"
             ],
             [
              0.1111111111111111,
              "#482878"
             ],
             [
              0.2222222222222222,
              "#3e4989"
             ],
             [
              0.3333333333333333,
              "#31688e"
             ],
             [
              0.4444444444444444,
              "#26828e"
             ],
             [
              0.5555555555555556,
              "#1f9e89"
             ],
             [
              0.6666666666666666,
              "#35b779"
             ],
             [
              0.7777777777777778,
              "#6ece58"
             ],
             [
              0.8888888888888888,
              "#b5de2b"
             ],
             [
              1,
              "#fde725"
             ]
            ],
            "type": "contour"
           }
          ],
          "contourcarpet": [
           {
            "colorbar": {
             "outlinewidth": 1,
             "tickcolor": "rgb(36,36,36)",
             "ticks": "outside"
            },
            "type": "contourcarpet"
           }
          ],
          "heatmap": [
           {
            "colorbar": {
             "outlinewidth": 1,
             "tickcolor": "rgb(36,36,36)",
             "ticks": "outside"
            },
            "colorscale": [
             [
              0,
              "#440154"
             ],
             [
              0.1111111111111111,
              "#482878"
             ],
             [
              0.2222222222222222,
              "#3e4989"
             ],
             [
              0.3333333333333333,
              "#31688e"
             ],
             [
              0.4444444444444444,
              "#26828e"
             ],
             [
              0.5555555555555556,
              "#1f9e89"
             ],
             [
              0.6666666666666666,
              "#35b779"
             ],
             [
              0.7777777777777778,
              "#6ece58"
             ],
             [
              0.8888888888888888,
              "#b5de2b"
             ],
             [
              1,
              "#fde725"
             ]
            ],
            "type": "heatmap"
           }
          ],
          "histogram": [
           {
            "marker": {
             "line": {
              "color": "white",
              "width": 0.6
             }
            },
            "type": "histogram"
           }
          ],
          "histogram2d": [
           {
            "colorbar": {
             "outlinewidth": 1,
             "tickcolor": "rgb(36,36,36)",
             "ticks": "outside"
            },
            "colorscale": [
             [
              0,
              "#440154"
             ],
             [
              0.1111111111111111,
              "#482878"
             ],
             [
              0.2222222222222222,
              "#3e4989"
             ],
             [
              0.3333333333333333,
              "#31688e"
             ],
             [
              0.4444444444444444,
              "#26828e"
             ],
             [
              0.5555555555555556,
              "#1f9e89"
             ],
             [
              0.6666666666666666,
              "#35b779"
             ],
             [
              0.7777777777777778,
              "#6ece58"
             ],
             [
              0.8888888888888888,
              "#b5de2b"
             ],
             [
              1,
              "#fde725"
             ]
            ],
            "type": "histogram2d"
           }
          ],
          "histogram2dcontour": [
           {
            "colorbar": {
             "outlinewidth": 1,
             "tickcolor": "rgb(36,36,36)",
             "ticks": "outside"
            },
            "colorscale": [
             [
              0,
              "#440154"
             ],
             [
              0.1111111111111111,
              "#482878"
             ],
             [
              0.2222222222222222,
              "#3e4989"
             ],
             [
              0.3333333333333333,
              "#31688e"
             ],
             [
              0.4444444444444444,
              "#26828e"
             ],
             [
              0.5555555555555556,
              "#1f9e89"
             ],
             [
              0.6666666666666666,
              "#35b779"
             ],
             [
              0.7777777777777778,
              "#6ece58"
             ],
             [
              0.8888888888888888,
              "#b5de2b"
             ],
             [
              1,
              "#fde725"
             ]
            ],
            "type": "histogram2dcontour"
           }
          ],
          "mesh3d": [
           {
            "colorbar": {
             "outlinewidth": 1,
             "tickcolor": "rgb(36,36,36)",
             "ticks": "outside"
            },
            "type": "mesh3d"
           }
          ],
          "parcoords": [
           {
            "line": {
             "colorbar": {
              "outlinewidth": 1,
              "tickcolor": "rgb(36,36,36)",
              "ticks": "outside"
             }
            },
            "type": "parcoords"
           }
          ],
          "pie": [
           {
            "automargin": true,
            "type": "pie"
           }
          ],
          "scatter": [
           {
            "fillpattern": {
             "fillmode": "overlay",
             "size": 10,
             "solidity": 0.2
            },
            "type": "scatter"
           }
          ],
          "scatter3d": [
           {
            "line": {
             "colorbar": {
              "outlinewidth": 1,
              "tickcolor": "rgb(36,36,36)",
              "ticks": "outside"
             }
            },
            "marker": {
             "colorbar": {
              "outlinewidth": 1,
              "tickcolor": "rgb(36,36,36)",
              "ticks": "outside"
             }
            },
            "type": "scatter3d"
           }
          ],
          "scattercarpet": [
           {
            "marker": {
             "colorbar": {
              "outlinewidth": 1,
              "tickcolor": "rgb(36,36,36)",
              "ticks": "outside"
             }
            },
            "type": "scattercarpet"
           }
          ],
          "scattergeo": [
           {
            "marker": {
             "colorbar": {
              "outlinewidth": 1,
              "tickcolor": "rgb(36,36,36)",
              "ticks": "outside"
             }
            },
            "type": "scattergeo"
           }
          ],
          "scattergl": [
           {
            "marker": {
             "colorbar": {
              "outlinewidth": 1,
              "tickcolor": "rgb(36,36,36)",
              "ticks": "outside"
             }
            },
            "type": "scattergl"
           }
          ],
          "scattermap": [
           {
            "marker": {
             "colorbar": {
              "outlinewidth": 1,
              "tickcolor": "rgb(36,36,36)",
              "ticks": "outside"
             }
            },
            "type": "scattermap"
           }
          ],
          "scattermapbox": [
           {
            "marker": {
             "colorbar": {
              "outlinewidth": 1,
              "tickcolor": "rgb(36,36,36)",
              "ticks": "outside"
             }
            },
            "type": "scattermapbox"
           }
          ],
          "scatterpolar": [
           {
            "marker": {
             "colorbar": {
              "outlinewidth": 1,
              "tickcolor": "rgb(36,36,36)",
              "ticks": "outside"
             }
            },
            "type": "scatterpolar"
           }
          ],
          "scatterpolargl": [
           {
            "marker": {
             "colorbar": {
              "outlinewidth": 1,
              "tickcolor": "rgb(36,36,36)",
              "ticks": "outside"
             }
            },
            "type": "scatterpolargl"
           }
          ],
          "scatterternary": [
           {
            "marker": {
             "colorbar": {
              "outlinewidth": 1,
              "tickcolor": "rgb(36,36,36)",
              "ticks": "outside"
             }
            },
            "type": "scatterternary"
           }
          ],
          "surface": [
           {
            "colorbar": {
             "outlinewidth": 1,
             "tickcolor": "rgb(36,36,36)",
             "ticks": "outside"
            },
            "colorscale": [
             [
              0,
              "#440154"
             ],
             [
              0.1111111111111111,
              "#482878"
             ],
             [
              0.2222222222222222,
              "#3e4989"
             ],
             [
              0.3333333333333333,
              "#31688e"
             ],
             [
              0.4444444444444444,
              "#26828e"
             ],
             [
              0.5555555555555556,
              "#1f9e89"
             ],
             [
              0.6666666666666666,
              "#35b779"
             ],
             [
              0.7777777777777778,
              "#6ece58"
             ],
             [
              0.8888888888888888,
              "#b5de2b"
             ],
             [
              1,
              "#fde725"
             ]
            ],
            "type": "surface"
           }
          ],
          "table": [
           {
            "cells": {
             "fill": {
              "color": "rgb(237,237,237)"
             },
             "line": {
              "color": "white"
             }
            },
            "header": {
             "fill": {
              "color": "rgb(217,217,217)"
             },
             "line": {
              "color": "white"
             }
            },
            "type": "table"
           }
          ]
         },
         "layout": {
          "annotationdefaults": {
           "arrowhead": 0,
           "arrowwidth": 1
          },
          "autotypenumbers": "strict",
          "coloraxis": {
           "colorbar": {
            "outlinewidth": 1,
            "tickcolor": "rgb(36,36,36)",
            "ticks": "outside"
           }
          },
          "colorscale": {
           "diverging": [
            [
             0,
             "rgb(103,0,31)"
            ],
            [
             0.1,
             "rgb(178,24,43)"
            ],
            [
             0.2,
             "rgb(214,96,77)"
            ],
            [
             0.3,
             "rgb(244,165,130)"
            ],
            [
             0.4,
             "rgb(253,219,199)"
            ],
            [
             0.5,
             "rgb(247,247,247)"
            ],
            [
             0.6,
             "rgb(209,229,240)"
            ],
            [
             0.7,
             "rgb(146,197,222)"
            ],
            [
             0.8,
             "rgb(67,147,195)"
            ],
            [
             0.9,
             "rgb(33,102,172)"
            ],
            [
             1,
             "rgb(5,48,97)"
            ]
           ],
           "sequential": [
            [
             0,
             "#440154"
            ],
            [
             0.1111111111111111,
             "#482878"
            ],
            [
             0.2222222222222222,
             "#3e4989"
            ],
            [
             0.3333333333333333,
             "#31688e"
            ],
            [
             0.4444444444444444,
             "#26828e"
            ],
            [
             0.5555555555555556,
             "#1f9e89"
            ],
            [
             0.6666666666666666,
             "#35b779"
            ],
            [
             0.7777777777777778,
             "#6ece58"
            ],
            [
             0.8888888888888888,
             "#b5de2b"
            ],
            [
             1,
             "#fde725"
            ]
           ],
           "sequentialminus": [
            [
             0,
             "#440154"
            ],
            [
             0.1111111111111111,
             "#482878"
            ],
            [
             0.2222222222222222,
             "#3e4989"
            ],
            [
             0.3333333333333333,
             "#31688e"
            ],
            [
             0.4444444444444444,
             "#26828e"
            ],
            [
             0.5555555555555556,
             "#1f9e89"
            ],
            [
             0.6666666666666666,
             "#35b779"
            ],
            [
             0.7777777777777778,
             "#6ece58"
            ],
            [
             0.8888888888888888,
             "#b5de2b"
            ],
            [
             1,
             "#fde725"
            ]
           ]
          },
          "colorway": [
           "#1F77B4",
           "#FF7F0E",
           "#2CA02C",
           "#D62728",
           "#9467BD",
           "#8C564B",
           "#E377C2",
           "#7F7F7F",
           "#BCBD22",
           "#17BECF"
          ],
          "font": {
           "color": "rgb(36,36,36)"
          },
          "geo": {
           "bgcolor": "white",
           "lakecolor": "white",
           "landcolor": "white",
           "showlakes": true,
           "showland": true,
           "subunitcolor": "white"
          },
          "hoverlabel": {
           "align": "left"
          },
          "hovermode": "closest",
          "mapbox": {
           "style": "light"
          },
          "paper_bgcolor": "white",
          "plot_bgcolor": "white",
          "polar": {
           "angularaxis": {
            "gridcolor": "rgb(232,232,232)",
            "linecolor": "rgb(36,36,36)",
            "showgrid": false,
            "showline": true,
            "ticks": "outside"
           },
           "bgcolor": "white",
           "radialaxis": {
            "gridcolor": "rgb(232,232,232)",
            "linecolor": "rgb(36,36,36)",
            "showgrid": false,
            "showline": true,
            "ticks": "outside"
           }
          },
          "scene": {
           "xaxis": {
            "backgroundcolor": "white",
            "gridcolor": "rgb(232,232,232)",
            "gridwidth": 2,
            "linecolor": "rgb(36,36,36)",
            "showbackground": true,
            "showgrid": false,
            "showline": true,
            "ticks": "outside",
            "zeroline": false,
            "zerolinecolor": "rgb(36,36,36)"
           },
           "yaxis": {
            "backgroundcolor": "white",
            "gridcolor": "rgb(232,232,232)",
            "gridwidth": 2,
            "linecolor": "rgb(36,36,36)",
            "showbackground": true,
            "showgrid": false,
            "showline": true,
            "ticks": "outside",
            "zeroline": false,
            "zerolinecolor": "rgb(36,36,36)"
           },
           "zaxis": {
            "backgroundcolor": "white",
            "gridcolor": "rgb(232,232,232)",
            "gridwidth": 2,
            "linecolor": "rgb(36,36,36)",
            "showbackground": true,
            "showgrid": false,
            "showline": true,
            "ticks": "outside",
            "zeroline": false,
            "zerolinecolor": "rgb(36,36,36)"
           }
          },
          "shapedefaults": {
           "fillcolor": "black",
           "line": {
            "width": 0
           },
           "opacity": 0.3
          },
          "ternary": {
           "aaxis": {
            "gridcolor": "rgb(232,232,232)",
            "linecolor": "rgb(36,36,36)",
            "showgrid": false,
            "showline": true,
            "ticks": "outside"
           },
           "baxis": {
            "gridcolor": "rgb(232,232,232)",
            "linecolor": "rgb(36,36,36)",
            "showgrid": false,
            "showline": true,
            "ticks": "outside"
           },
           "bgcolor": "white",
           "caxis": {
            "gridcolor": "rgb(232,232,232)",
            "linecolor": "rgb(36,36,36)",
            "showgrid": false,
            "showline": true,
            "ticks": "outside"
           }
          },
          "title": {
           "x": 0.05
          },
          "xaxis": {
           "automargin": true,
           "gridcolor": "rgb(232,232,232)",
           "linecolor": "rgb(36,36,36)",
           "showgrid": false,
           "showline": true,
           "ticks": "outside",
           "title": {
            "standoff": 15
           },
           "zeroline": false,
           "zerolinecolor": "rgb(36,36,36)"
          },
          "yaxis": {
           "automargin": true,
           "gridcolor": "rgb(232,232,232)",
           "linecolor": "rgb(36,36,36)",
           "showgrid": false,
           "showline": true,
           "ticks": "outside",
           "title": {
            "standoff": 15
           },
           "zeroline": false,
           "zerolinecolor": "rgb(36,36,36)"
          }
         }
        },
        "title": {
         "text": "Histogram of Project Counts per Developer (Custom Bins)"
        },
        "xaxis": {
         "title": {
          "text": "Number of Projects per Developer"
         }
        },
        "yaxis": {
         "title": {
          "text": "Number of Developers"
         }
        }
       }
      }
     },
     "metadata": {},
     "output_type": "display_data"
    },
    {
     "data": {
      "application/vnd.plotly.v1+json": {
       "config": {
        "plotlyServerURL": "https://plot.ly"
       },
       "data": [
        {
         "marker": {
          "color": "#FFCB00"
         },
         "name": "Solar",
         "type": "bar",
         "x": [
          "Virginia Electric and Power Company",
          "Cardinal Energy Storage East, LLC",
          "Invenergy",
          "RWE LLC",
          "Leeward Renewable Energy Development, LLC",
          "ACE",
          "AEUG",
          "Deriva Energy Solar, LLC",
          "Steward Creek Solar, LLC",
          "Riverlake Energy, LLC",
          "McKean LLC"
         ],
         "y": {
          "bdata": "mpmZmZnopUAAAAAAAAAAAAAAAAAAmIBAAAAAAABMoEDNzMzMzK6ZQD4K16NwKZRAAAAAAABqlUAAAAAAAMCSQAAAAAAAwJJAAAAAAAA4ckAAAAAAAAB+QA==",
          "dtype": "f8"
         }
        },
        {
         "marker": {
          "color": "orange"
         },
         "name": "Solar & Storage",
         "type": "bar",
         "x": [
          "Virginia Electric and Power Company",
          "Cardinal Energy Storage East, LLC",
          "Invenergy",
          "RWE LLC",
          "Leeward Renewable Energy Development, LLC",
          "ACE",
          "AEUG",
          "Deriva Energy Solar, LLC",
          "Steward Creek Solar, LLC",
          "Riverlake Energy, LLC",
          "McKean LLC"
         ],
         "y": {
          "bdata": "AAAAAAAAAAAAAAAAAAAAAAAAAAAAAFlAAAAAAAAAAAAAAAAAAABZQAAAAAAAIG1AAAAAAAAAAAAAAAAAAAAAAAAAAAAAAAAAZmZmZmY2dUAAAAAAAAAAAA==",
          "dtype": "f8"
         }
        },
        {
         "marker": {
          "color": "yellow"
         },
         "name": "Storage",
         "type": "bar",
         "x": [
          "Virginia Electric and Power Company",
          "Cardinal Energy Storage East, LLC",
          "Invenergy",
          "RWE LLC",
          "Leeward Renewable Energy Development, LLC",
          "ACE",
          "AEUG",
          "Deriva Energy Solar, LLC",
          "Steward Creek Solar, LLC",
          "Riverlake Energy, LLC",
          "McKean LLC"
         ],
         "y": {
          "bdata": "AAAAAAAQeEAAAAAAAG+zQAAAAAAAVIdAAAAAAACQjkAAAAAAAABJQAAAAAAAQGVAAAAAAAAAAAAAAAAAAABeQAAAAAAAAAAAAAAAAAAAAAAAAAAAAABEQA==",
          "dtype": "f8"
         }
        },
        {
         "marker": {
          "color": "#58585b"
         },
         "name": "Natural Gas",
         "type": "bar",
         "x": [
          "Virginia Electric and Power Company",
          "Cardinal Energy Storage East, LLC",
          "Invenergy",
          "RWE LLC",
          "Leeward Renewable Energy Development, LLC",
          "ACE",
          "AEUG",
          "Deriva Energy Solar, LLC",
          "Steward Creek Solar, LLC",
          "Riverlake Energy, LLC",
          "McKean LLC"
         ],
         "y": {
          "bdata": "AAAAAAAIiEAAAAAAAAAAAJmZmZmZOZ9AAAAAAAAAAAAAAAAAAAAAAAAAAAAAAAAAAAAAAAAAAAAAAAAAAAAAAAAAAAAAAAAAAAAAAAAAAAAAAAAAAAAAAA==",
          "dtype": "f8"
         }
        },
        {
         "marker": {
          "color": "#3DADF2"
         },
         "name": "Wind",
         "type": "bar",
         "x": [
          "Virginia Electric and Power Company",
          "Cardinal Energy Storage East, LLC",
          "Invenergy",
          "RWE LLC",
          "Leeward Renewable Energy Development, LLC",
          "ACE",
          "AEUG",
          "Deriva Energy Solar, LLC",
          "Steward Creek Solar, LLC",
          "Riverlake Energy, LLC",
          "McKean LLC"
         ],
         "y": {
          "bdata": "AAAAAAAAAAAAAAAAAAAAAAAAAAAAMIZAAAAAAACIg0AzMzMzM2tyQAAAAAAAAAAAAAAAAAAAAAAAAAAAAAAAAAAAAAAAAAAAAAAAAAAAAAAAAAAAAAAAAA==",
          "dtype": "f8"
         }
        },
        {
         "marker": {
          "color": "#000000"
         },
         "name": "Coal",
         "type": "bar",
         "x": [
          "Virginia Electric and Power Company",
          "Cardinal Energy Storage East, LLC",
          "Invenergy",
          "RWE LLC",
          "Leeward Renewable Energy Development, LLC",
          "ACE",
          "AEUG",
          "Deriva Energy Solar, LLC",
          "Steward Creek Solar, LLC",
          "Riverlake Energy, LLC",
          "McKean LLC"
         ],
         "y": {
          "bdata": "AAAAAAAAAAAAAAAAAAAAAAAAAAAAAAAAAAAAAAAAAAAAAAAAAAAAAAAAAAAAAAAAAAAAAAAAAAAAAAAAAAAAAAAAAAAAAAAAAAAAAAAAAAAAAAAAAAAAAA==",
          "dtype": "f8"
         }
        },
        {
         "marker": {
          "color": "darkblue"
         },
         "name": "Offshore Wind",
         "type": "bar",
         "x": [
          "Virginia Electric and Power Company",
          "Cardinal Energy Storage East, LLC",
          "Invenergy",
          "RWE LLC",
          "Leeward Renewable Energy Development, LLC",
          "ACE",
          "AEUG",
          "Deriva Energy Solar, LLC",
          "Steward Creek Solar, LLC",
          "Riverlake Energy, LLC",
          "McKean LLC"
         ],
         "y": {
          "bdata": "AAAAAAByo0AAAAAAAAAAAAAAAAAAAAAAAAAAAAAAAAAAAAAAAAAAAAAAAAAAAAAAAAAAAAAAAAAAAAAAAAAAAAAAAAAAAAAAAAAAAAAAAAAAAAAAAAAAAA==",
          "dtype": "f8"
         }
        }
       ],
       "layout": {
        "annotations": [
         {
          "font": {
           "color": "black",
           "size": 12
          },
          "showarrow": false,
          "text": "56",
          "x": "Virginia Electric and Power Company",
          "y": 6447.3,
          "yshift": 10
         },
         {
          "font": {
           "color": "black",
           "size": 12
          },
          "showarrow": false,
          "text": "10",
          "x": "Cardinal Energy Storage East, LLC",
          "y": 4975,
          "yshift": 10
         },
         {
          "font": {
           "color": "black",
           "size": 12
          },
          "showarrow": false,
          "text": "26",
          "x": "Invenergy",
          "y": 4085.8999999999996,
          "yshift": 10
         },
         {
          "font": {
           "color": "black",
           "size": 12
          },
          "showarrow": false,
          "text": "36",
          "x": "RWE LLC",
          "y": 3689,
          "yshift": 10
         },
         {
          "font": {
           "color": "black",
           "size": 12
          },
          "showarrow": false,
          "text": "12",
          "x": "Leeward Renewable Energy Development, LLC",
          "y": 2088.4,
          "yshift": 10
         },
         {
          "font": {
           "color": "black",
           "size": 12
          },
          "showarrow": false,
          "text": "19",
          "x": "ACE",
          "y": 1693.3600000000001,
          "yshift": 10
         },
         {
          "font": {
           "color": "black",
           "size": 12
          },
          "showarrow": false,
          "text": "8",
          "x": "AEUG",
          "y": 1370.5,
          "yshift": 10
         },
         {
          "font": {
           "color": "black",
           "size": 12
          },
          "showarrow": false,
          "text": "8",
          "x": "Deriva Energy Solar, LLC",
          "y": 1320,
          "yshift": 10
         },
         {
          "font": {
           "color": "black",
           "size": 12
          },
          "showarrow": false,
          "text": "9",
          "x": "Steward Creek Solar, LLC",
          "y": 1200,
          "yshift": 10
         },
         {
          "font": {
           "color": "black",
           "size": 12
          },
          "showarrow": false,
          "text": "7",
          "x": "Riverlake Energy, LLC",
          "y": 630.9,
          "yshift": 10
         },
         {
          "font": {
           "color": "black",
           "size": 12
          },
          "showarrow": false,
          "text": "9",
          "x": "McKean LLC",
          "y": 520,
          "yshift": 10
         }
        ],
        "barmode": "stack",
        "height": 900,
        "legend": {
         "bgcolor": "rgba(255,255,255,0)",
         "borderwidth": 0,
         "itemclick": "toggleothers",
         "itemdoubleclick": "toggle",
         "itemsizing": "constant",
         "orientation": "v",
         "title": {
          "text": "Fuel Type"
         },
         "tracegroupgap": 0,
         "traceorder": "normal",
         "x": 1.02,
         "xanchor": "left",
         "y": 1,
         "yanchor": "top"
        },
        "template": {
         "data": {
          "bar": [
           {
            "error_x": {
             "color": "rgb(36,36,36)"
            },
            "error_y": {
             "color": "rgb(36,36,36)"
            },
            "marker": {
             "line": {
              "color": "white",
              "width": 0.5
             },
             "pattern": {
              "fillmode": "overlay",
              "size": 10,
              "solidity": 0.2
             }
            },
            "type": "bar"
           }
          ],
          "barpolar": [
           {
            "marker": {
             "line": {
              "color": "white",
              "width": 0.5
             },
             "pattern": {
              "fillmode": "overlay",
              "size": 10,
              "solidity": 0.2
             }
            },
            "type": "barpolar"
           }
          ],
          "carpet": [
           {
            "aaxis": {
             "endlinecolor": "rgb(36,36,36)",
             "gridcolor": "white",
             "linecolor": "white",
             "minorgridcolor": "white",
             "startlinecolor": "rgb(36,36,36)"
            },
            "baxis": {
             "endlinecolor": "rgb(36,36,36)",
             "gridcolor": "white",
             "linecolor": "white",
             "minorgridcolor": "white",
             "startlinecolor": "rgb(36,36,36)"
            },
            "type": "carpet"
           }
          ],
          "choropleth": [
           {
            "colorbar": {
             "outlinewidth": 1,
             "tickcolor": "rgb(36,36,36)",
             "ticks": "outside"
            },
            "type": "choropleth"
           }
          ],
          "contour": [
           {
            "colorbar": {
             "outlinewidth": 1,
             "tickcolor": "rgb(36,36,36)",
             "ticks": "outside"
            },
            "colorscale": [
             [
              0,
              "#440154"
             ],
             [
              0.1111111111111111,
              "#482878"
             ],
             [
              0.2222222222222222,
              "#3e4989"
             ],
             [
              0.3333333333333333,
              "#31688e"
             ],
             [
              0.4444444444444444,
              "#26828e"
             ],
             [
              0.5555555555555556,
              "#1f9e89"
             ],
             [
              0.6666666666666666,
              "#35b779"
             ],
             [
              0.7777777777777778,
              "#6ece58"
             ],
             [
              0.8888888888888888,
              "#b5de2b"
             ],
             [
              1,
              "#fde725"
             ]
            ],
            "type": "contour"
           }
          ],
          "contourcarpet": [
           {
            "colorbar": {
             "outlinewidth": 1,
             "tickcolor": "rgb(36,36,36)",
             "ticks": "outside"
            },
            "type": "contourcarpet"
           }
          ],
          "heatmap": [
           {
            "colorbar": {
             "outlinewidth": 1,
             "tickcolor": "rgb(36,36,36)",
             "ticks": "outside"
            },
            "colorscale": [
             [
              0,
              "#440154"
             ],
             [
              0.1111111111111111,
              "#482878"
             ],
             [
              0.2222222222222222,
              "#3e4989"
             ],
             [
              0.3333333333333333,
              "#31688e"
             ],
             [
              0.4444444444444444,
              "#26828e"
             ],
             [
              0.5555555555555556,
              "#1f9e89"
             ],
             [
              0.6666666666666666,
              "#35b779"
             ],
             [
              0.7777777777777778,
              "#6ece58"
             ],
             [
              0.8888888888888888,
              "#b5de2b"
             ],
             [
              1,
              "#fde725"
             ]
            ],
            "type": "heatmap"
           }
          ],
          "histogram": [
           {
            "marker": {
             "line": {
              "color": "white",
              "width": 0.6
             }
            },
            "type": "histogram"
           }
          ],
          "histogram2d": [
           {
            "colorbar": {
             "outlinewidth": 1,
             "tickcolor": "rgb(36,36,36)",
             "ticks": "outside"
            },
            "colorscale": [
             [
              0,
              "#440154"
             ],
             [
              0.1111111111111111,
              "#482878"
             ],
             [
              0.2222222222222222,
              "#3e4989"
             ],
             [
              0.3333333333333333,
              "#31688e"
             ],
             [
              0.4444444444444444,
              "#26828e"
             ],
             [
              0.5555555555555556,
              "#1f9e89"
             ],
             [
              0.6666666666666666,
              "#35b779"
             ],
             [
              0.7777777777777778,
              "#6ece58"
             ],
             [
              0.8888888888888888,
              "#b5de2b"
             ],
             [
              1,
              "#fde725"
             ]
            ],
            "type": "histogram2d"
           }
          ],
          "histogram2dcontour": [
           {
            "colorbar": {
             "outlinewidth": 1,
             "tickcolor": "rgb(36,36,36)",
             "ticks": "outside"
            },
            "colorscale": [
             [
              0,
              "#440154"
             ],
             [
              0.1111111111111111,
              "#482878"
             ],
             [
              0.2222222222222222,
              "#3e4989"
             ],
             [
              0.3333333333333333,
              "#31688e"
             ],
             [
              0.4444444444444444,
              "#26828e"
             ],
             [
              0.5555555555555556,
              "#1f9e89"
             ],
             [
              0.6666666666666666,
              "#35b779"
             ],
             [
              0.7777777777777778,
              "#6ece58"
             ],
             [
              0.8888888888888888,
              "#b5de2b"
             ],
             [
              1,
              "#fde725"
             ]
            ],
            "type": "histogram2dcontour"
           }
          ],
          "mesh3d": [
           {
            "colorbar": {
             "outlinewidth": 1,
             "tickcolor": "rgb(36,36,36)",
             "ticks": "outside"
            },
            "type": "mesh3d"
           }
          ],
          "parcoords": [
           {
            "line": {
             "colorbar": {
              "outlinewidth": 1,
              "tickcolor": "rgb(36,36,36)",
              "ticks": "outside"
             }
            },
            "type": "parcoords"
           }
          ],
          "pie": [
           {
            "automargin": true,
            "type": "pie"
           }
          ],
          "scatter": [
           {
            "fillpattern": {
             "fillmode": "overlay",
             "size": 10,
             "solidity": 0.2
            },
            "type": "scatter"
           }
          ],
          "scatter3d": [
           {
            "line": {
             "colorbar": {
              "outlinewidth": 1,
              "tickcolor": "rgb(36,36,36)",
              "ticks": "outside"
             }
            },
            "marker": {
             "colorbar": {
              "outlinewidth": 1,
              "tickcolor": "rgb(36,36,36)",
              "ticks": "outside"
             }
            },
            "type": "scatter3d"
           }
          ],
          "scattercarpet": [
           {
            "marker": {
             "colorbar": {
              "outlinewidth": 1,
              "tickcolor": "rgb(36,36,36)",
              "ticks": "outside"
             }
            },
            "type": "scattercarpet"
           }
          ],
          "scattergeo": [
           {
            "marker": {
             "colorbar": {
              "outlinewidth": 1,
              "tickcolor": "rgb(36,36,36)",
              "ticks": "outside"
             }
            },
            "type": "scattergeo"
           }
          ],
          "scattergl": [
           {
            "marker": {
             "colorbar": {
              "outlinewidth": 1,
              "tickcolor": "rgb(36,36,36)",
              "ticks": "outside"
             }
            },
            "type": "scattergl"
           }
          ],
          "scattermap": [
           {
            "marker": {
             "colorbar": {
              "outlinewidth": 1,
              "tickcolor": "rgb(36,36,36)",
              "ticks": "outside"
             }
            },
            "type": "scattermap"
           }
          ],
          "scattermapbox": [
           {
            "marker": {
             "colorbar": {
              "outlinewidth": 1,
              "tickcolor": "rgb(36,36,36)",
              "ticks": "outside"
             }
            },
            "type": "scattermapbox"
           }
          ],
          "scatterpolar": [
           {
            "marker": {
             "colorbar": {
              "outlinewidth": 1,
              "tickcolor": "rgb(36,36,36)",
              "ticks": "outside"
             }
            },
            "type": "scatterpolar"
           }
          ],
          "scatterpolargl": [
           {
            "marker": {
             "colorbar": {
              "outlinewidth": 1,
              "tickcolor": "rgb(36,36,36)",
              "ticks": "outside"
             }
            },
            "type": "scatterpolargl"
           }
          ],
          "scatterternary": [
           {
            "marker": {
             "colorbar": {
              "outlinewidth": 1,
              "tickcolor": "rgb(36,36,36)",
              "ticks": "outside"
             }
            },
            "type": "scatterternary"
           }
          ],
          "surface": [
           {
            "colorbar": {
             "outlinewidth": 1,
             "tickcolor": "rgb(36,36,36)",
             "ticks": "outside"
            },
            "colorscale": [
             [
              0,
              "#440154"
             ],
             [
              0.1111111111111111,
              "#482878"
             ],
             [
              0.2222222222222222,
              "#3e4989"
             ],
             [
              0.3333333333333333,
              "#31688e"
             ],
             [
              0.4444444444444444,
              "#26828e"
             ],
             [
              0.5555555555555556,
              "#1f9e89"
             ],
             [
              0.6666666666666666,
              "#35b779"
             ],
             [
              0.7777777777777778,
              "#6ece58"
             ],
             [
              0.8888888888888888,
              "#b5de2b"
             ],
             [
              1,
              "#fde725"
             ]
            ],
            "type": "surface"
           }
          ],
          "table": [
           {
            "cells": {
             "fill": {
              "color": "rgb(237,237,237)"
             },
             "line": {
              "color": "white"
             }
            },
            "header": {
             "fill": {
              "color": "rgb(217,217,217)"
             },
             "line": {
              "color": "white"
             }
            },
            "type": "table"
           }
          ]
         },
         "layout": {
          "annotationdefaults": {
           "arrowhead": 0,
           "arrowwidth": 1
          },
          "autotypenumbers": "strict",
          "coloraxis": {
           "colorbar": {
            "outlinewidth": 1,
            "tickcolor": "rgb(36,36,36)",
            "ticks": "outside"
           }
          },
          "colorscale": {
           "diverging": [
            [
             0,
             "rgb(103,0,31)"
            ],
            [
             0.1,
             "rgb(178,24,43)"
            ],
            [
             0.2,
             "rgb(214,96,77)"
            ],
            [
             0.3,
             "rgb(244,165,130)"
            ],
            [
             0.4,
             "rgb(253,219,199)"
            ],
            [
             0.5,
             "rgb(247,247,247)"
            ],
            [
             0.6,
             "rgb(209,229,240)"
            ],
            [
             0.7,
             "rgb(146,197,222)"
            ],
            [
             0.8,
             "rgb(67,147,195)"
            ],
            [
             0.9,
             "rgb(33,102,172)"
            ],
            [
             1,
             "rgb(5,48,97)"
            ]
           ],
           "sequential": [
            [
             0,
             "#440154"
            ],
            [
             0.1111111111111111,
             "#482878"
            ],
            [
             0.2222222222222222,
             "#3e4989"
            ],
            [
             0.3333333333333333,
             "#31688e"
            ],
            [
             0.4444444444444444,
             "#26828e"
            ],
            [
             0.5555555555555556,
             "#1f9e89"
            ],
            [
             0.6666666666666666,
             "#35b779"
            ],
            [
             0.7777777777777778,
             "#6ece58"
            ],
            [
             0.8888888888888888,
             "#b5de2b"
            ],
            [
             1,
             "#fde725"
            ]
           ],
           "sequentialminus": [
            [
             0,
             "#440154"
            ],
            [
             0.1111111111111111,
             "#482878"
            ],
            [
             0.2222222222222222,
             "#3e4989"
            ],
            [
             0.3333333333333333,
             "#31688e"
            ],
            [
             0.4444444444444444,
             "#26828e"
            ],
            [
             0.5555555555555556,
             "#1f9e89"
            ],
            [
             0.6666666666666666,
             "#35b779"
            ],
            [
             0.7777777777777778,
             "#6ece58"
            ],
            [
             0.8888888888888888,
             "#b5de2b"
            ],
            [
             1,
             "#fde725"
            ]
           ]
          },
          "colorway": [
           "#1F77B4",
           "#FF7F0E",
           "#2CA02C",
           "#D62728",
           "#9467BD",
           "#8C564B",
           "#E377C2",
           "#7F7F7F",
           "#BCBD22",
           "#17BECF"
          ],
          "font": {
           "color": "rgb(36,36,36)"
          },
          "geo": {
           "bgcolor": "white",
           "lakecolor": "white",
           "landcolor": "white",
           "showlakes": true,
           "showland": true,
           "subunitcolor": "white"
          },
          "hoverlabel": {
           "align": "left"
          },
          "hovermode": "closest",
          "mapbox": {
           "style": "light"
          },
          "paper_bgcolor": "white",
          "plot_bgcolor": "white",
          "polar": {
           "angularaxis": {
            "gridcolor": "rgb(232,232,232)",
            "linecolor": "rgb(36,36,36)",
            "showgrid": false,
            "showline": true,
            "ticks": "outside"
           },
           "bgcolor": "white",
           "radialaxis": {
            "gridcolor": "rgb(232,232,232)",
            "linecolor": "rgb(36,36,36)",
            "showgrid": false,
            "showline": true,
            "ticks": "outside"
           }
          },
          "scene": {
           "xaxis": {
            "backgroundcolor": "white",
            "gridcolor": "rgb(232,232,232)",
            "gridwidth": 2,
            "linecolor": "rgb(36,36,36)",
            "showbackground": true,
            "showgrid": false,
            "showline": true,
            "ticks": "outside",
            "zeroline": false,
            "zerolinecolor": "rgb(36,36,36)"
           },
           "yaxis": {
            "backgroundcolor": "white",
            "gridcolor": "rgb(232,232,232)",
            "gridwidth": 2,
            "linecolor": "rgb(36,36,36)",
            "showbackground": true,
            "showgrid": false,
            "showline": true,
            "ticks": "outside",
            "zeroline": false,
            "zerolinecolor": "rgb(36,36,36)"
           },
           "zaxis": {
            "backgroundcolor": "white",
            "gridcolor": "rgb(232,232,232)",
            "gridwidth": 2,
            "linecolor": "rgb(36,36,36)",
            "showbackground": true,
            "showgrid": false,
            "showline": true,
            "ticks": "outside",
            "zeroline": false,
            "zerolinecolor": "rgb(36,36,36)"
           }
          },
          "shapedefaults": {
           "fillcolor": "black",
           "line": {
            "width": 0
           },
           "opacity": 0.3
          },
          "ternary": {
           "aaxis": {
            "gridcolor": "rgb(232,232,232)",
            "linecolor": "rgb(36,36,36)",
            "showgrid": false,
            "showline": true,
            "ticks": "outside"
           },
           "baxis": {
            "gridcolor": "rgb(232,232,232)",
            "linecolor": "rgb(36,36,36)",
            "showgrid": false,
            "showline": true,
            "ticks": "outside"
           },
           "bgcolor": "white",
           "caxis": {
            "gridcolor": "rgb(232,232,232)",
            "linecolor": "rgb(36,36,36)",
            "showgrid": false,
            "showline": true,
            "ticks": "outside"
           }
          },
          "title": {
           "x": 0.05
          },
          "xaxis": {
           "automargin": true,
           "gridcolor": "rgb(232,232,232)",
           "linecolor": "rgb(36,36,36)",
           "showgrid": false,
           "showline": true,
           "ticks": "outside",
           "title": {
            "standoff": 15
           },
           "zeroline": false,
           "zerolinecolor": "rgb(36,36,36)"
          },
          "yaxis": {
           "automargin": true,
           "gridcolor": "rgb(232,232,232)",
           "linecolor": "rgb(36,36,36)",
           "showgrid": false,
           "showline": true,
           "ticks": "outside",
           "title": {
            "standoff": 15
           },
           "zeroline": false,
           "zerolinecolor": "rgb(36,36,36)"
          }
         }
        },
        "title": {
         "text": "MW Energy by Fuel Type for Each of the Biggest Developers (Sorted by Total MW Energy)"
        },
        "xaxis": {
         "tickangle": 45,
         "title": {
          "text": "Developer"
         }
        },
        "yaxis": {
         "title": {
          "text": "Total MW Energy"
         }
        }
       }
      }
     },
     "metadata": {},
     "output_type": "display_data"
    },
    {
     "name": "stdout",
     "output_type": "stream",
     "text": [
      "23.49941140265857\n"
     ]
    }
   ],
   "source": [
    "\n",
    "\n",
    "# Clean developer names (e.g. remove 'LLC', 'Inc')\n",
    "import re\n",
    "\n",
    "def clean_name(name):\n",
    "    pattern = r'\\b(solar|energy|storage|center|llc|inc)\\b'\n",
    "    return re.sub(pattern, '', name, flags=re.IGNORECASE).strip()\n",
    "names = PJM_queued_plants['Developer'].dropna().unique()\n",
    "\n",
    "\n",
    "cleaned_names = {name: clean_name(name) for name in names}\n",
    "\n",
    "def startswith_bias(name1, name2):\n",
    "    name1 = name1[:5]  # Only look at the first 10 characters\n",
    "    name2 = name2[:5]\n",
    "    \n",
    "    score = fuzz.ratio(name1, name2)\n",
    "    if name2.lower().startswith(name1.lower()) or name1.lower().startswith(name2.lower()):\n",
    "        score += 15  # Add bonus for prefix match\n",
    "\n",
    "    return min(score, 150)  # Cap score at 100\n",
    "\n",
    "# Fuzzy matching with bias toward prefix\n",
    "threshold = 70\n",
    "similar_pairs = []\n",
    "\n",
    "for i in range(len(names)):\n",
    "    for j in range(i + 1, len(names)):\n",
    "        name_i = cleaned_names[names[i]]\n",
    "        name_j = cleaned_names[names[j]]\n",
    "        score = startswith_bias(name_i, name_j)\n",
    "        if score >= threshold:\n",
    "            similar_pairs.append((names[i], names[j], score))\n",
    "\n",
    "# Optional: Convert to DataFrame and export\n",
    "similar_df = pd.DataFrame(similar_pairs, columns=['Name A', 'Name B', 'Score'])\n",
    "similar_df.to_excel('similar_name_pairs_biased.xlsx', index=False)\n",
    "\n",
    "\n",
    "\n",
    "\n",
    "df_similar = pd.DataFrame(similar_pairs, columns=[\"Name A\", \"Name B\", \"Similarity Score\"])\n",
    "df_similar.to_excel(\"similar_name_pairs.xlsx\", index=False)\n",
    "combined_names = pd.read_excel(\"similar_name_pairs_biased_manual_check.xlsx\")\n",
    "to_replace = combined_names[combined_names['Manual Check'] == 'Yes']\n",
    "replacement_map = {}\n",
    "\n",
    "for _, row in to_replace.iterrows():\n",
    "    replacement_map[row['Name A']] = row['New Name']\n",
    "    replacement_map[row['Name B']] = row['New Name']\n",
    "PJM_queued_plants['Developer'] = PJM_queued_plants['Developer'].replace(replacement_map)\n",
    "PJM_queued_plants_TC1=PJM_queued_plants[PJM_queued_plants['Cycle']=='TC1']\n",
    "PJM_queued_plants_TC2=PJM_queued_plants[PJM_queued_plants['Cycle']=='TC2']\n",
    "names = PJM_queued_plants['Developer'].dropna().unique()\n",
    "# Get unique developer names from each cycle\n",
    "tc1_developers = PJM_queued_plants_TC1['Developer'].dropna().unique()\n",
    "tc2_developers = PJM_queued_plants_TC2['Developer'].dropna().unique()\n",
    "\n",
    "# Convert to sets for comparison\n",
    "set_tc1 = set(tc1_developers)\n",
    "set_tc2 = set(tc2_developers)\n",
    "\n",
    "# Developers in TC1 but not in TC2\n",
    "only_in_tc1 = set_tc1 - set_tc2\n",
    "\n",
    "# Developers in TC2 but not in TC1\n",
    "only_in_tc2 = set_tc2 - set_tc1\n",
    "\n",
    "# Developers in both\n",
    "in_both = set_tc1 & set_tc2\n",
    "print(f\"Developers in TC1: {len(set_tc1)}\")\n",
    "print(f\"Developers  in TC2: {len(set_tc2)}\")\n",
    "print(f\"Developers only in TC1: {len(only_in_tc1)}\")\n",
    "print(f\"Developers only in TC2: {len(only_in_tc2)}\")\n",
    "print(f\"Developers in both: {len(in_both)}\")\n",
    "tc1_devs = set(PJM_queued_plants_TC1['Developer'].dropna().unique())\n",
    "tc2_devs = set(PJM_queued_plants_TC2['Developer'].dropna().unique())\n",
    "\n",
    "# Find overlap\n",
    "devs_in_both = tc1_devs & tc2_devs\n",
    "\n",
    "# Print sorted list\n",
    "for dev in sorted(devs_in_both):\n",
    "    print(dev)\n",
    "unique_count_developer = PJM_queued_plants['Developer'].nunique()\n",
    "unique_count_plant = PJM_queued_plants['Project ID'].nunique()\n",
    "print(unique_count_developer)\n",
    "print(unique_count_plant)\n",
    "unique_count_developer= PJM_queued_plants['Developer'].value_counts()\n",
    "biggest_developers = unique_count_developer[unique_count_developer > 6].index.tolist()\n",
    "print(biggest_developers)\n",
    "total_capacity=PJM_queued_plants['MW Energy'].sum()\n",
    "capacity_biggest_developers_df = PJM_queued_plants[PJM_queued_plants['Developer'].isin(biggest_developers)]\n",
    "capacity_biggest_developers= capacity_biggest_developers_df['MW Energy'].sum()\n",
    "percent_capacity_biggest_developers = (capacity_biggest_developers / total_capacity) * 100\n",
    "print(percent_capacity_biggest_developers)\n",
    "import plotly.graph_objects as go\n",
    "\n",
    "# Count number of projects per developer\n",
    "project_counts = PJM_queued_plants['Developer'].value_counts()\n",
    "import pandas as pd\n",
    "\n",
    "# Get unique developers as a list or Series\n",
    "unique_developers = PJM_queued_plants['Developer'].dropna().unique()\n",
    "\n",
    "# Convert to DataFrame to export\n",
    "df_unique_developers = pd.DataFrame(unique_developers, columns=['Developer'])\n",
    "\n",
    "# Export to Excel file\n",
    "df_unique_developers.to_excel('unique_developers.xlsx', index=False)\n",
    "\n",
    "\n",
    "# Define bins manually\n",
    "bins = {\n",
    "    '1': (1, 1),\n",
    "    '2–5': (2, 5),\n",
    "    '6–10': (6, 10),\n",
    "    '11–15': (11, 15),\n",
    "    '>15': (16, float('inf'))\n",
    "}\n",
    "\n",
    "# Assign counts to bins\n",
    "bin_counts = {label: 0 for label in bins}\n",
    "for count in project_counts:\n",
    "    for label, (low, high) in bins.items():\n",
    "        if low <= count <= high:\n",
    "            bin_counts[label] += 1\n",
    "            break\n",
    "\n",
    "# Plot using Plotly Graph Objects\n",
    "fig = go.Figure(data=[go.Bar(\n",
    "    x=list(bin_counts.keys()),\n",
    "    y=list(bin_counts.values()),\n",
    "    marker_color='steelblue',\n",
    "    marker_line_color='black',\n",
    "    marker_line_width=1,\n",
    "    text=list(bin_counts.values()),\n",
    "    textposition='auto'\n",
    ")])\n",
    "\n",
    "# Layout\n",
    "fig.update_layout(\n",
    "    title='Histogram of Project Counts per Developer (Custom Bins)',\n",
    "    xaxis_title='Number of Projects per Developer',\n",
    "    yaxis_title='Number of Developers',\n",
    "    bargap=0.1,\n",
    "    template='simple_white'\n",
    ")\n",
    "\n",
    "fig.show()\n",
    "capacity_biggest_developers_df = PJM_queued_plants[\n",
    "    PJM_queued_plants['Developer'].isin(biggest_developers)\n",
    "]\n",
    "\n",
    "# for dev in biggest_developers:\n",
    "#     dev_df = capacity_biggest_developers_df[\n",
    "#         capacity_biggest_developers_df['Developer'] == dev\n",
    "#     ]\n",
    "\n",
    "#     # Group by fuel: sum MW Energy and count projects\n",
    "#     grouped = dev_df.groupby('Fuel').agg(\n",
    "#         total_mw=('MW Energy', 'sum'),\n",
    "#         project_count=('Project ID', 'count')\n",
    "#     ).reset_index()\n",
    "\n",
    "#     # Create label like: \"Solar (4 projects)\"\n",
    "#     labels = grouped.apply(\n",
    "#         lambda row: f\"{row['Fuel']} ({row['project_count']} projects)\", axis=1\n",
    "#     )\n",
    "\n",
    "#     fig = go.Figure(data=[go.Pie(\n",
    "#         labels=labels,\n",
    "#         values=grouped['total_mw'],\n",
    "#         textinfo='label+value',\n",
    "#         hovertemplate='%{label}<br>MW: %{value:,.1f}<extra></extra>',\n",
    "#     )])\n",
    "\n",
    "#     fig.update_layout(\n",
    "#         title=f\"{dev} – MW Energy by Fuel Type (n={len(dev_df)} projects)\",\n",
    "#         title_x=0.5\n",
    "#     )\n",
    "\n",
    "#     fig.show()\n",
    "\n",
    "\n",
    "capacity_biggest_developers_df = PJM_queued_plants[\n",
    "    PJM_queued_plants['Developer'].isin(biggest_developers)\n",
    "]\n",
    "\n",
    "# Step 1 & 2: total MW Energy and sorting\n",
    "total_stats = capacity_biggest_developers_df.groupby('Developer').agg(\n",
    "    total_mw_energy=('MW Energy', 'sum'),\n",
    "    project_count=('Project ID', 'count')\n",
    ").reset_index()\n",
    "\n",
    "# Sort developers by MW Energy descending\n",
    "developer_order = total_stats.sort_values('total_mw_energy', ascending=False)['Developer'].tolist()\n",
    "\n",
    "\n",
    "# Assume capacity_biggest_developers_df and developer_order already defined\n",
    "\n",
    "# Group by Developer and Fuel summing MW Energy\n",
    "grouped = capacity_biggest_developers_df.groupby(['Developer', 'Fuel'])['MW Energy'].sum().reset_index()\n",
    "\n",
    "# Make Developer categorical with desired order\n",
    "grouped['Developer'] = pd.Categorical(grouped['Developer'], categories=developer_order, ordered=True)\n",
    "\n",
    "fuel_types = grouped['Fuel'].unique()\n",
    "colors=[fuel_color_map.get(fuel, '#888888') for fuel in grouped['Fuel']]\n",
    "\n",
    "data = []\n",
    "for fuel in fuel_types:\n",
    "    fuel_data = grouped[grouped['Fuel'] == fuel]\n",
    "    # Reindex to include all developers, fill missing with 0\n",
    "    fuel_data = fuel_data.set_index('Developer').reindex(developer_order, fill_value=0).reset_index()\n",
    "    \n",
    "    trace = go.Bar(\n",
    "        x=fuel_data['Developer'],\n",
    "        y=fuel_data['MW Energy'],\n",
    "        name=fuel, \n",
    "         marker_color=fuel_color_map.get(fuel, '#888888')  # fallback grey if missing\n",
    "    )\n",
    "    data.append(trace)\n",
    "\n",
    "fig = go.Figure(data=data)\n",
    "\n",
    "# Add project count annotations on top\n",
    "for dev in developer_order:\n",
    "    total_mw = grouped[grouped['Developer'] == dev]['MW Energy'].sum()\n",
    "    proj_count = capacity_biggest_developers_df[capacity_biggest_developers_df['Developer'] == dev]['Project ID'].count()\n",
    "    fig.add_annotation(\n",
    "        x=dev,\n",
    "        y=total_mw,\n",
    "        text=f\"{proj_count}\",\n",
    "        showarrow=False,\n",
    "        yshift=10,\n",
    "        font=dict(size=12, color='black')\n",
    "    )\n",
    "fig.update_layout(\n",
    "    height=900,\n",
    "    barmode='stack',\n",
    "    title='MW Energy by Fuel Type for Each of the Biggest Developers (Sorted by Total MW Energy)',\n",
    "    xaxis_title='Developer',\n",
    "    yaxis_title='Total MW Energy',\n",
    "    legend_title='Fuel Type',\n",
    "    xaxis_tickangle=45,\n",
    "    template='simple_white',\n",
    "legend=dict(\n",
    "        traceorder=\"normal\",\n",
    "        itemsizing='constant',\n",
    "        orientation=\"v\",\n",
    "        yanchor=\"top\",\n",
    "        y=1,\n",
    "        xanchor=\"left\",\n",
    "        x=1.02,\n",
    "        bgcolor=\"rgba(255,255,255,0)\",\n",
    "        borderwidth=0,\n",
    "        itemclick=\"toggleothers\",  # Optional\n",
    "        itemdoubleclick=\"toggle\",  # Optional\n",
    "        # crucial part:\n",
    "        tracegroupgap=0 ))\n",
    "\n",
    "fig.show()\n",
    "print(percent_capacity_biggest_developers)\n"
   ]
  },
  {
   "cell_type": "code",
   "execution_count": 64,
   "id": "d56d4211",
   "metadata": {},
   "outputs": [
    {
     "name": "stdout",
     "output_type": "stream",
     "text": [
      "Biggest developers account for 100.00% of energy MW\n"
     ]
    },
    {
     "data": {
      "application/vnd.plotly.v1+json": {
       "config": {
        "plotlyServerURL": "https://plot.ly"
       },
       "data": [
        {
         "marker": {
          "color": "yellow"
         },
         "name": "Storage",
         "type": "bar",
         "x": [
          "Deriva Energy Solar, LLC",
          "Beacon Solar, LLC",
          "Chinchilla Solar LLC",
          "Amberjack Solar LLC",
          "Armadillo Solar LLC",
          "NRG Midwest Storage LLC",
          "Mansfield 3 LLC",
          "Evergreen Energy Center, LLC",
          "Bethlehem Energy Center, LLC",
          "AF1327 LLC",
          "Reid Energy Center, LLC",
          "V20 Mansfield LLC",
          "Railroad Energy Center, LLC",
          "West Denville LLC",
          "Costen Solar, Inc",
          "Colice Hall Solar, LLC",
          "Albemarle Beach Solar, LLC",
          "Aulander Holloman Solar, LLC",
          "Mechanicsville Solar, LLC",
          "MPG Solar, LLC",
          "MC Solar, LLC",
          "Lebanon Solar I, LLC",
          "Dauphin Solar I, LLC",
          "Oak Solar LLC",
          "Pigeon Run Solar, LLC",
          "Ranchland Solar, LLC"
         ],
         "y": {
          "bdata": "AAAAAAAAAAAAAAAAAAAAAAAAAAAAQFpAAAAAAAAAWUAAAAAAAIBVQAAAAAAAAFJAAAAAAAAAREAAAAAAAAA0QAAAAAAAADRAAAAAAAAANEAAAAAAAAA0QAAAAAAAADRAAAAAAAAANEAAAAAAAAA0QAAAAAAAAAAAAAAAAAAAAAAAAAAAAAAAAAAAAAAAAAAAAAAAAAAAAAAAAAAAAAAAAAAAAAAAAAAAAAAAAAAAAAAAAAAAAAAAAAAAAAAAAAAAAAAAAAAAAAAAAAAAAAAAAA==",
          "dtype": "f8"
         }
        },
        {
         "marker": {
          "color": "#FFCB00"
         },
         "name": "Solar",
         "type": "bar",
         "x": [
          "Deriva Energy Solar, LLC",
          "Beacon Solar, LLC",
          "Chinchilla Solar LLC",
          "Amberjack Solar LLC",
          "Armadillo Solar LLC",
          "NRG Midwest Storage LLC",
          "Mansfield 3 LLC",
          "Evergreen Energy Center, LLC",
          "Bethlehem Energy Center, LLC",
          "AF1327 LLC",
          "Reid Energy Center, LLC",
          "V20 Mansfield LLC",
          "Railroad Energy Center, LLC",
          "West Denville LLC",
          "Costen Solar, Inc",
          "Colice Hall Solar, LLC",
          "Albemarle Beach Solar, LLC",
          "Aulander Holloman Solar, LLC",
          "Mechanicsville Solar, LLC",
          "MPG Solar, LLC",
          "MC Solar, LLC",
          "Lebanon Solar I, LLC",
          "Dauphin Solar I, LLC",
          "Oak Solar LLC",
          "Pigeon Run Solar, LLC",
          "Ranchland Solar, LLC"
         ],
         "y": {
          "bdata": "AAAAAAAAiUAAAAAAAEBwQAAAAAAAAAAAAAAAAAAAAAAAAAAAAAAAAAAAAAAAAAAAAAAAAAAAAAAAAAAAAAAAAAAAAAAAAAAAAAAAAAAAAAAAAAAAAAAAAAAAAAAAAAAAAAAAAAAAAAAAAAAAAAAAAAAAAAAAACRAAAAAAAAAAAAAAAAAAAAAAAAAAAAAAAAAAAAAAAAAAAAAAAAAAAAAAAAAAAAAAAAAAAAAAAAAAAAAAAAAAAAAAAAAAAAAAAAAAAAAAAAAAAAAAAAAAAAAAA==",
          "dtype": "f8"
         }
        }
       ],
       "layout": {
        "annotations": [
         {
          "font": {
           "color": "black",
           "size": 12
          },
          "showarrow": false,
          "text": "3",
          "x": "Deriva Energy Solar, LLC",
          "y": 800,
          "yshift": 10
         },
         {
          "font": {
           "color": "black",
           "size": 12
          },
          "showarrow": false,
          "text": "1",
          "x": "Beacon Solar, LLC",
          "y": 260,
          "yshift": 10
         },
         {
          "font": {
           "color": "black",
           "size": 12
          },
          "showarrow": false,
          "text": "2",
          "x": "Chinchilla Solar LLC",
          "y": 105,
          "yshift": 10
         },
         {
          "font": {
           "color": "black",
           "size": 12
          },
          "showarrow": false,
          "text": "1",
          "x": "Amberjack Solar LLC",
          "y": 100,
          "yshift": 10
         },
         {
          "font": {
           "color": "black",
           "size": 12
          },
          "showarrow": false,
          "text": "1",
          "x": "Armadillo Solar LLC",
          "y": 86,
          "yshift": 10
         },
         {
          "font": {
           "color": "black",
           "size": 12
          },
          "showarrow": false,
          "text": "1",
          "x": "NRG Midwest Storage LLC",
          "y": 72,
          "yshift": 10
         },
         {
          "font": {
           "color": "black",
           "size": 12
          },
          "showarrow": false,
          "text": "2",
          "x": "Mansfield 3 LLC",
          "y": 40,
          "yshift": 10
         },
         {
          "font": {
           "color": "black",
           "size": 12
          },
          "showarrow": false,
          "text": "1",
          "x": "Evergreen Energy Center, LLC",
          "y": 20,
          "yshift": 10
         },
         {
          "font": {
           "color": "black",
           "size": 12
          },
          "showarrow": false,
          "text": "1",
          "x": "Bethlehem Energy Center, LLC",
          "y": 20,
          "yshift": 10
         },
         {
          "font": {
           "color": "black",
           "size": 12
          },
          "showarrow": false,
          "text": "1",
          "x": "AF1327 LLC",
          "y": 20,
          "yshift": 10
         },
         {
          "font": {
           "color": "black",
           "size": 12
          },
          "showarrow": false,
          "text": "1",
          "x": "Reid Energy Center, LLC",
          "y": 20,
          "yshift": 10
         },
         {
          "font": {
           "color": "black",
           "size": 12
          },
          "showarrow": false,
          "text": "1",
          "x": "V20 Mansfield LLC",
          "y": 20,
          "yshift": 10
         },
         {
          "font": {
           "color": "black",
           "size": 12
          },
          "showarrow": false,
          "text": "1",
          "x": "Railroad Energy Center, LLC",
          "y": 20,
          "yshift": 10
         },
         {
          "font": {
           "color": "black",
           "size": 12
          },
          "showarrow": false,
          "text": "1",
          "x": "West Denville LLC",
          "y": 20,
          "yshift": 10
         },
         {
          "font": {
           "color": "black",
           "size": 12
          },
          "showarrow": false,
          "text": "1",
          "x": "Costen Solar, Inc",
          "y": 10,
          "yshift": 10
         },
         {
          "font": {
           "color": "black",
           "size": 12
          },
          "showarrow": false,
          "text": "1",
          "x": "Colice Hall Solar, LLC",
          "y": 0,
          "yshift": 10
         },
         {
          "font": {
           "color": "black",
           "size": 12
          },
          "showarrow": false,
          "text": "1",
          "x": "Albemarle Beach Solar, LLC",
          "y": 0,
          "yshift": 10
         },
         {
          "font": {
           "color": "black",
           "size": 12
          },
          "showarrow": false,
          "text": "1",
          "x": "Aulander Holloman Solar, LLC",
          "y": 0,
          "yshift": 10
         },
         {
          "font": {
           "color": "black",
           "size": 12
          },
          "showarrow": false,
          "text": "1",
          "x": "Mechanicsville Solar, LLC",
          "y": 0,
          "yshift": 10
         },
         {
          "font": {
           "color": "black",
           "size": 12
          },
          "showarrow": false,
          "text": "2",
          "x": "MPG Solar, LLC",
          "y": 0,
          "yshift": 10
         },
         {
          "font": {
           "color": "black",
           "size": 12
          },
          "showarrow": false,
          "text": "1",
          "x": "MC Solar, LLC",
          "y": 0,
          "yshift": 10
         },
         {
          "font": {
           "color": "black",
           "size": 12
          },
          "showarrow": false,
          "text": "1",
          "x": "Lebanon Solar I, LLC",
          "y": 0,
          "yshift": 10
         },
         {
          "font": {
           "color": "black",
           "size": 12
          },
          "showarrow": false,
          "text": "1",
          "x": "Dauphin Solar I, LLC",
          "y": 0,
          "yshift": 10
         },
         {
          "font": {
           "color": "black",
           "size": 12
          },
          "showarrow": false,
          "text": "1",
          "x": "Oak Solar LLC",
          "y": 0,
          "yshift": 10
         },
         {
          "font": {
           "color": "black",
           "size": 12
          },
          "showarrow": false,
          "text": "1",
          "x": "Pigeon Run Solar, LLC",
          "y": 0,
          "yshift": 10
         },
         {
          "font": {
           "color": "black",
           "size": 12
          },
          "showarrow": false,
          "text": "1",
          "x": "Ranchland Solar, LLC",
          "y": 0,
          "yshift": 10
         }
        ],
        "barmode": "stack",
        "height": 900,
        "legend": {
         "bgcolor": "rgba(255,255,255,0)",
         "borderwidth": 0,
         "itemclick": "toggleothers",
         "itemdoubleclick": "toggle",
         "itemsizing": "constant",
         "orientation": "v",
         "title": {
          "text": "Fuel Type"
         },
         "tracegroupgap": 0,
         "traceorder": "normal",
         "x": 1.02,
         "xanchor": "left",
         "y": 1,
         "yanchor": "top"
        },
        "template": {
         "data": {
          "bar": [
           {
            "error_x": {
             "color": "rgb(36,36,36)"
            },
            "error_y": {
             "color": "rgb(36,36,36)"
            },
            "marker": {
             "line": {
              "color": "white",
              "width": 0.5
             },
             "pattern": {
              "fillmode": "overlay",
              "size": 10,
              "solidity": 0.2
             }
            },
            "type": "bar"
           }
          ],
          "barpolar": [
           {
            "marker": {
             "line": {
              "color": "white",
              "width": 0.5
             },
             "pattern": {
              "fillmode": "overlay",
              "size": 10,
              "solidity": 0.2
             }
            },
            "type": "barpolar"
           }
          ],
          "carpet": [
           {
            "aaxis": {
             "endlinecolor": "rgb(36,36,36)",
             "gridcolor": "white",
             "linecolor": "white",
             "minorgridcolor": "white",
             "startlinecolor": "rgb(36,36,36)"
            },
            "baxis": {
             "endlinecolor": "rgb(36,36,36)",
             "gridcolor": "white",
             "linecolor": "white",
             "minorgridcolor": "white",
             "startlinecolor": "rgb(36,36,36)"
            },
            "type": "carpet"
           }
          ],
          "choropleth": [
           {
            "colorbar": {
             "outlinewidth": 1,
             "tickcolor": "rgb(36,36,36)",
             "ticks": "outside"
            },
            "type": "choropleth"
           }
          ],
          "contour": [
           {
            "colorbar": {
             "outlinewidth": 1,
             "tickcolor": "rgb(36,36,36)",
             "ticks": "outside"
            },
            "colorscale": [
             [
              0,
              "#440154"
             ],
             [
              0.1111111111111111,
              "#482878"
             ],
             [
              0.2222222222222222,
              "#3e4989"
             ],
             [
              0.3333333333333333,
              "#31688e"
             ],
             [
              0.4444444444444444,
              "#26828e"
             ],
             [
              0.5555555555555556,
              "#1f9e89"
             ],
             [
              0.6666666666666666,
              "#35b779"
             ],
             [
              0.7777777777777778,
              "#6ece58"
             ],
             [
              0.8888888888888888,
              "#b5de2b"
             ],
             [
              1,
              "#fde725"
             ]
            ],
            "type": "contour"
           }
          ],
          "contourcarpet": [
           {
            "colorbar": {
             "outlinewidth": 1,
             "tickcolor": "rgb(36,36,36)",
             "ticks": "outside"
            },
            "type": "contourcarpet"
           }
          ],
          "heatmap": [
           {
            "colorbar": {
             "outlinewidth": 1,
             "tickcolor": "rgb(36,36,36)",
             "ticks": "outside"
            },
            "colorscale": [
             [
              0,
              "#440154"
             ],
             [
              0.1111111111111111,
              "#482878"
             ],
             [
              0.2222222222222222,
              "#3e4989"
             ],
             [
              0.3333333333333333,
              "#31688e"
             ],
             [
              0.4444444444444444,
              "#26828e"
             ],
             [
              0.5555555555555556,
              "#1f9e89"
             ],
             [
              0.6666666666666666,
              "#35b779"
             ],
             [
              0.7777777777777778,
              "#6ece58"
             ],
             [
              0.8888888888888888,
              "#b5de2b"
             ],
             [
              1,
              "#fde725"
             ]
            ],
            "type": "heatmap"
           }
          ],
          "histogram": [
           {
            "marker": {
             "line": {
              "color": "white",
              "width": 0.6
             }
            },
            "type": "histogram"
           }
          ],
          "histogram2d": [
           {
            "colorbar": {
             "outlinewidth": 1,
             "tickcolor": "rgb(36,36,36)",
             "ticks": "outside"
            },
            "colorscale": [
             [
              0,
              "#440154"
             ],
             [
              0.1111111111111111,
              "#482878"
             ],
             [
              0.2222222222222222,
              "#3e4989"
             ],
             [
              0.3333333333333333,
              "#31688e"
             ],
             [
              0.4444444444444444,
              "#26828e"
             ],
             [
              0.5555555555555556,
              "#1f9e89"
             ],
             [
              0.6666666666666666,
              "#35b779"
             ],
             [
              0.7777777777777778,
              "#6ece58"
             ],
             [
              0.8888888888888888,
              "#b5de2b"
             ],
             [
              1,
              "#fde725"
             ]
            ],
            "type": "histogram2d"
           }
          ],
          "histogram2dcontour": [
           {
            "colorbar": {
             "outlinewidth": 1,
             "tickcolor": "rgb(36,36,36)",
             "ticks": "outside"
            },
            "colorscale": [
             [
              0,
              "#440154"
             ],
             [
              0.1111111111111111,
              "#482878"
             ],
             [
              0.2222222222222222,
              "#3e4989"
             ],
             [
              0.3333333333333333,
              "#31688e"
             ],
             [
              0.4444444444444444,
              "#26828e"
             ],
             [
              0.5555555555555556,
              "#1f9e89"
             ],
             [
              0.6666666666666666,
              "#35b779"
             ],
             [
              0.7777777777777778,
              "#6ece58"
             ],
             [
              0.8888888888888888,
              "#b5de2b"
             ],
             [
              1,
              "#fde725"
             ]
            ],
            "type": "histogram2dcontour"
           }
          ],
          "mesh3d": [
           {
            "colorbar": {
             "outlinewidth": 1,
             "tickcolor": "rgb(36,36,36)",
             "ticks": "outside"
            },
            "type": "mesh3d"
           }
          ],
          "parcoords": [
           {
            "line": {
             "colorbar": {
              "outlinewidth": 1,
              "tickcolor": "rgb(36,36,36)",
              "ticks": "outside"
             }
            },
            "type": "parcoords"
           }
          ],
          "pie": [
           {
            "automargin": true,
            "type": "pie"
           }
          ],
          "scatter": [
           {
            "fillpattern": {
             "fillmode": "overlay",
             "size": 10,
             "solidity": 0.2
            },
            "type": "scatter"
           }
          ],
          "scatter3d": [
           {
            "line": {
             "colorbar": {
              "outlinewidth": 1,
              "tickcolor": "rgb(36,36,36)",
              "ticks": "outside"
             }
            },
            "marker": {
             "colorbar": {
              "outlinewidth": 1,
              "tickcolor": "rgb(36,36,36)",
              "ticks": "outside"
             }
            },
            "type": "scatter3d"
           }
          ],
          "scattercarpet": [
           {
            "marker": {
             "colorbar": {
              "outlinewidth": 1,
              "tickcolor": "rgb(36,36,36)",
              "ticks": "outside"
             }
            },
            "type": "scattercarpet"
           }
          ],
          "scattergeo": [
           {
            "marker": {
             "colorbar": {
              "outlinewidth": 1,
              "tickcolor": "rgb(36,36,36)",
              "ticks": "outside"
             }
            },
            "type": "scattergeo"
           }
          ],
          "scattergl": [
           {
            "marker": {
             "colorbar": {
              "outlinewidth": 1,
              "tickcolor": "rgb(36,36,36)",
              "ticks": "outside"
             }
            },
            "type": "scattergl"
           }
          ],
          "scattermap": [
           {
            "marker": {
             "colorbar": {
              "outlinewidth": 1,
              "tickcolor": "rgb(36,36,36)",
              "ticks": "outside"
             }
            },
            "type": "scattermap"
           }
          ],
          "scattermapbox": [
           {
            "marker": {
             "colorbar": {
              "outlinewidth": 1,
              "tickcolor": "rgb(36,36,36)",
              "ticks": "outside"
             }
            },
            "type": "scattermapbox"
           }
          ],
          "scatterpolar": [
           {
            "marker": {
             "colorbar": {
              "outlinewidth": 1,
              "tickcolor": "rgb(36,36,36)",
              "ticks": "outside"
             }
            },
            "type": "scatterpolar"
           }
          ],
          "scatterpolargl": [
           {
            "marker": {
             "colorbar": {
              "outlinewidth": 1,
              "tickcolor": "rgb(36,36,36)",
              "ticks": "outside"
             }
            },
            "type": "scatterpolargl"
           }
          ],
          "scatterternary": [
           {
            "marker": {
             "colorbar": {
              "outlinewidth": 1,
              "tickcolor": "rgb(36,36,36)",
              "ticks": "outside"
             }
            },
            "type": "scatterternary"
           }
          ],
          "surface": [
           {
            "colorbar": {
             "outlinewidth": 1,
             "tickcolor": "rgb(36,36,36)",
             "ticks": "outside"
            },
            "colorscale": [
             [
              0,
              "#440154"
             ],
             [
              0.1111111111111111,
              "#482878"
             ],
             [
              0.2222222222222222,
              "#3e4989"
             ],
             [
              0.3333333333333333,
              "#31688e"
             ],
             [
              0.4444444444444444,
              "#26828e"
             ],
             [
              0.5555555555555556,
              "#1f9e89"
             ],
             [
              0.6666666666666666,
              "#35b779"
             ],
             [
              0.7777777777777778,
              "#6ece58"
             ],
             [
              0.8888888888888888,
              "#b5de2b"
             ],
             [
              1,
              "#fde725"
             ]
            ],
            "type": "surface"
           }
          ],
          "table": [
           {
            "cells": {
             "fill": {
              "color": "rgb(237,237,237)"
             },
             "line": {
              "color": "white"
             }
            },
            "header": {
             "fill": {
              "color": "rgb(217,217,217)"
             },
             "line": {
              "color": "white"
             }
            },
            "type": "table"
           }
          ]
         },
         "layout": {
          "annotationdefaults": {
           "arrowhead": 0,
           "arrowwidth": 1
          },
          "autotypenumbers": "strict",
          "coloraxis": {
           "colorbar": {
            "outlinewidth": 1,
            "tickcolor": "rgb(36,36,36)",
            "ticks": "outside"
           }
          },
          "colorscale": {
           "diverging": [
            [
             0,
             "rgb(103,0,31)"
            ],
            [
             0.1,
             "rgb(178,24,43)"
            ],
            [
             0.2,
             "rgb(214,96,77)"
            ],
            [
             0.3,
             "rgb(244,165,130)"
            ],
            [
             0.4,
             "rgb(253,219,199)"
            ],
            [
             0.5,
             "rgb(247,247,247)"
            ],
            [
             0.6,
             "rgb(209,229,240)"
            ],
            [
             0.7,
             "rgb(146,197,222)"
            ],
            [
             0.8,
             "rgb(67,147,195)"
            ],
            [
             0.9,
             "rgb(33,102,172)"
            ],
            [
             1,
             "rgb(5,48,97)"
            ]
           ],
           "sequential": [
            [
             0,
             "#440154"
            ],
            [
             0.1111111111111111,
             "#482878"
            ],
            [
             0.2222222222222222,
             "#3e4989"
            ],
            [
             0.3333333333333333,
             "#31688e"
            ],
            [
             0.4444444444444444,
             "#26828e"
            ],
            [
             0.5555555555555556,
             "#1f9e89"
            ],
            [
             0.6666666666666666,
             "#35b779"
            ],
            [
             0.7777777777777778,
             "#6ece58"
            ],
            [
             0.8888888888888888,
             "#b5de2b"
            ],
            [
             1,
             "#fde725"
            ]
           ],
           "sequentialminus": [
            [
             0,
             "#440154"
            ],
            [
             0.1111111111111111,
             "#482878"
            ],
            [
             0.2222222222222222,
             "#3e4989"
            ],
            [
             0.3333333333333333,
             "#31688e"
            ],
            [
             0.4444444444444444,
             "#26828e"
            ],
            [
             0.5555555555555556,
             "#1f9e89"
            ],
            [
             0.6666666666666666,
             "#35b779"
            ],
            [
             0.7777777777777778,
             "#6ece58"
            ],
            [
             0.8888888888888888,
             "#b5de2b"
            ],
            [
             1,
             "#fde725"
            ]
           ]
          },
          "colorway": [
           "#1F77B4",
           "#FF7F0E",
           "#2CA02C",
           "#D62728",
           "#9467BD",
           "#8C564B",
           "#E377C2",
           "#7F7F7F",
           "#BCBD22",
           "#17BECF"
          ],
          "font": {
           "color": "rgb(36,36,36)"
          },
          "geo": {
           "bgcolor": "white",
           "lakecolor": "white",
           "landcolor": "white",
           "showlakes": true,
           "showland": true,
           "subunitcolor": "white"
          },
          "hoverlabel": {
           "align": "left"
          },
          "hovermode": "closest",
          "mapbox": {
           "style": "light"
          },
          "paper_bgcolor": "white",
          "plot_bgcolor": "white",
          "polar": {
           "angularaxis": {
            "gridcolor": "rgb(232,232,232)",
            "linecolor": "rgb(36,36,36)",
            "showgrid": false,
            "showline": true,
            "ticks": "outside"
           },
           "bgcolor": "white",
           "radialaxis": {
            "gridcolor": "rgb(232,232,232)",
            "linecolor": "rgb(36,36,36)",
            "showgrid": false,
            "showline": true,
            "ticks": "outside"
           }
          },
          "scene": {
           "xaxis": {
            "backgroundcolor": "white",
            "gridcolor": "rgb(232,232,232)",
            "gridwidth": 2,
            "linecolor": "rgb(36,36,36)",
            "showbackground": true,
            "showgrid": false,
            "showline": true,
            "ticks": "outside",
            "zeroline": false,
            "zerolinecolor": "rgb(36,36,36)"
           },
           "yaxis": {
            "backgroundcolor": "white",
            "gridcolor": "rgb(232,232,232)",
            "gridwidth": 2,
            "linecolor": "rgb(36,36,36)",
            "showbackground": true,
            "showgrid": false,
            "showline": true,
            "ticks": "outside",
            "zeroline": false,
            "zerolinecolor": "rgb(36,36,36)"
           },
           "zaxis": {
            "backgroundcolor": "white",
            "gridcolor": "rgb(232,232,232)",
            "gridwidth": 2,
            "linecolor": "rgb(36,36,36)",
            "showbackground": true,
            "showgrid": false,
            "showline": true,
            "ticks": "outside",
            "zeroline": false,
            "zerolinecolor": "rgb(36,36,36)"
           }
          },
          "shapedefaults": {
           "fillcolor": "black",
           "line": {
            "width": 0
           },
           "opacity": 0.3
          },
          "ternary": {
           "aaxis": {
            "gridcolor": "rgb(232,232,232)",
            "linecolor": "rgb(36,36,36)",
            "showgrid": false,
            "showline": true,
            "ticks": "outside"
           },
           "baxis": {
            "gridcolor": "rgb(232,232,232)",
            "linecolor": "rgb(36,36,36)",
            "showgrid": false,
            "showline": true,
            "ticks": "outside"
           },
           "bgcolor": "white",
           "caxis": {
            "gridcolor": "rgb(232,232,232)",
            "linecolor": "rgb(36,36,36)",
            "showgrid": false,
            "showline": true,
            "ticks": "outside"
           }
          },
          "title": {
           "x": 0.05
          },
          "xaxis": {
           "automargin": true,
           "gridcolor": "rgb(232,232,232)",
           "linecolor": "rgb(36,36,36)",
           "showgrid": false,
           "showline": true,
           "ticks": "outside",
           "title": {
            "standoff": 15
           },
           "zeroline": false,
           "zerolinecolor": "rgb(36,36,36)"
          },
          "yaxis": {
           "automargin": true,
           "gridcolor": "rgb(232,232,232)",
           "linecolor": "rgb(36,36,36)",
           "showgrid": false,
           "showline": true,
           "ticks": "outside",
           "title": {
            "standoff": 15
           },
           "zeroline": false,
           "zerolinecolor": "rgb(36,36,36)"
          }
         }
        },
        "title": {
         "text": "MW Energy (Only \"Energy\" Projects) by Fuel Type for Biggest Developers (>5 projects)"
        },
        "xaxis": {
         "tickangle": 45,
         "title": {
          "text": "Developer"
         }
        },
        "yaxis": {
         "title": {
          "text": "Total MW Energy"
         }
        }
       }
      }
     },
     "metadata": {},
     "output_type": "display_data"
    },
    {
     "name": "stdout",
     "output_type": "stream",
     "text": [
      "5 of 26 energy developers also have non-energy projects\n"
     ]
    }
   ],
   "source": [
    "# Step 0: Filter for energy-only plants\n",
    "energy_plants = PJM_queued_plants[PJM_queued_plants['Capacity or Energy'] == 'Energy']\n",
    "energy_plants.to_excel('energy_only_projects.xlsx', index=False)\n",
    "\n",
    "# Step 1: Define \"biggest\" developers in energy queue (e.g. > 5 projects)\n",
    "project_counts = energy_plants['Developer'].value_counts()\n",
    "biggest_developers = project_counts[project_counts > 0].index.tolist()\n",
    "\n",
    "# Step 2: Filter energy_plants to just those developers\n",
    "capacity_biggest_developers_df = energy_plants[energy_plants['Developer'].isin(biggest_developers)]\n",
    "\n",
    "# Step 3: Compute total energy MW and percent\n",
    "total_capacity = energy_plants['MW Energy'].sum()\n",
    "capacity_biggest_developers = capacity_biggest_developers_df['MW Energy'].sum()\n",
    "percent_capacity_biggest_developers = (capacity_biggest_developers / total_capacity) * 100\n",
    "print(f\"Biggest developers account for {percent_capacity_biggest_developers:.2f}% of energy MW\")\n",
    "\n",
    "# Step 4: Aggregate MW Energy and project counts\n",
    "total_stats = capacity_biggest_developers_df.groupby('Developer').agg(\n",
    "    total_mw_energy=('MW Energy', 'sum'),\n",
    "    project_count=('Project ID', 'count')\n",
    ").reset_index()\n",
    "\n",
    "# Step 5: Sort developers by energy capacity\n",
    "developer_order = total_stats.sort_values('total_mw_energy', ascending=False)['Developer'].tolist()\n",
    "\n",
    "# Step 6: Group by developer and fuel type\n",
    "grouped = capacity_biggest_developers_df.groupby(['Developer', 'Fuel'])['MW Energy'].sum().reset_index()\n",
    "grouped['Developer'] = pd.Categorical(grouped['Developer'], categories=developer_order, ordered=True)\n",
    "\n",
    "# Step 7: Create bar chart\n",
    "fuel_types = grouped['Fuel'].unique()\n",
    "data = []\n",
    "for fuel in fuel_types:\n",
    "    fuel_data = grouped[grouped['Fuel'] == fuel]\n",
    "    fuel_data = fuel_data.set_index('Developer').reindex(developer_order, fill_value=0).reset_index()\n",
    "\n",
    "    data.append(go.Bar(\n",
    "        x=fuel_data['Developer'],\n",
    "        y=fuel_data['MW Energy'],\n",
    "        name=fuel,\n",
    "        marker_color=fuel_color_map.get(fuel, '#888888')\n",
    "    ))\n",
    "\n",
    "fig = go.Figure(data=data)\n",
    "\n",
    "# Step 8: Add project count annotations\n",
    "for dev in developer_order:\n",
    "    total_mw = grouped[grouped['Developer'] == dev]['MW Energy'].sum()\n",
    "    proj_count = capacity_biggest_developers_df[capacity_biggest_developers_df['Developer'] == dev]['Project ID'].count()\n",
    "    fig.add_annotation(\n",
    "        x=dev,\n",
    "        y=total_mw,\n",
    "        text=f\"{proj_count}\",\n",
    "        showarrow=False,\n",
    "        yshift=10,\n",
    "        font=dict(size=12, color='black')\n",
    "    )\n",
    "\n",
    "# Step 9: Update layout\n",
    "fig.update_layout(\n",
    "    height=900,\n",
    "    barmode='stack',\n",
    "    title='MW Energy (Only \"Energy\" Projects) by Fuel Type for Biggest Developers (>5 projects)',\n",
    "    xaxis_title='Developer',\n",
    "    yaxis_title='Total MW Energy',\n",
    "    legend_title='Fuel Type',\n",
    "    xaxis_tickangle=45,\n",
    "    template='simple_white',\n",
    "    legend=dict(\n",
    "        traceorder=\"normal\",\n",
    "        itemsizing='constant',\n",
    "        orientation=\"v\",\n",
    "        yanchor=\"top\",\n",
    "        y=1,\n",
    "        xanchor=\"left\",\n",
    "        x=1.02,\n",
    "        bgcolor=\"rgba(255,255,255,0)\",\n",
    "        borderwidth=0,\n",
    "        itemclick=\"toggleothers\",\n",
    "        itemdoubleclick=\"toggle\",\n",
    "        tracegroupgap=0\n",
    "    )\n",
    ")\n",
    "\n",
    "fig.show()\n",
    "energy_developers = set(energy_plants['Developer'].dropna().unique())\n",
    "\n",
    "# Find all queued projects for those developers\n",
    "all_projects_by_energy_devs = PJM_queued_plants[PJM_queued_plants['Developer'].isin(energy_developers)]\n",
    "\n",
    "# Now exclude energy-only projects to get the non-energy ones\n",
    "non_energy_projects_by_energy_devs = all_projects_by_energy_devs[\n",
    "    all_projects_by_energy_devs['Capacity or Energy'] != 'Energy'\n",
    "]\n",
    "# Print how many developers have non-energy projects too\n",
    "devs_with_non_energy = non_energy_projects_by_energy_devs['Developer'].nunique()\n",
    "print(f\"{devs_with_non_energy} of {len(energy_developers)} energy developers also have non-energy projects\")\n",
    "\n",
    "# Optional: see how many non-energy projects per developer\n",
    "non_energy_stats = non_energy_projects_by_energy_devs.groupby('Developer').agg(\n",
    "    non_energy_project_count=('Project ID', 'count'),\n",
    "    non_energy_mw=('MW Capacity', 'sum')\n",
    ").reset_index().sort_values('non_energy_project_count', ascending=False)\n",
    "\n",
    "# Save to Excel if needed\n",
    "non_energy_stats.to_excel('developers_with_non_energy_projects.xlsx', index=False)\n",
    "\n"
   ]
  },
  {
   "cell_type": "code",
   "execution_count": 65,
   "id": "44dc3489",
   "metadata": {},
   "outputs": [
    {
     "data": {
      "application/vnd.plotly.v1+json": {
       "config": {
        "plotlyServerURL": "https://plot.ly"
       },
       "data": [
        {
         "marker": {
          "color": "lightgreen",
          "line": {
           "color": "black",
           "width": 1
          }
         },
         "text": [
          "22",
          "4"
         ],
         "textposition": "outside",
         "type": "bar",
         "x": [
          "1",
          "2–5"
         ],
         "y": [
          22,
          4
         ]
        }
       ],
       "layout": {
        "bargap": 0.1,
        "height": 700,
        "template": {
         "data": {
          "bar": [
           {
            "error_x": {
             "color": "rgb(36,36,36)"
            },
            "error_y": {
             "color": "rgb(36,36,36)"
            },
            "marker": {
             "line": {
              "color": "white",
              "width": 0.5
             },
             "pattern": {
              "fillmode": "overlay",
              "size": 10,
              "solidity": 0.2
             }
            },
            "type": "bar"
           }
          ],
          "barpolar": [
           {
            "marker": {
             "line": {
              "color": "white",
              "width": 0.5
             },
             "pattern": {
              "fillmode": "overlay",
              "size": 10,
              "solidity": 0.2
             }
            },
            "type": "barpolar"
           }
          ],
          "carpet": [
           {
            "aaxis": {
             "endlinecolor": "rgb(36,36,36)",
             "gridcolor": "white",
             "linecolor": "white",
             "minorgridcolor": "white",
             "startlinecolor": "rgb(36,36,36)"
            },
            "baxis": {
             "endlinecolor": "rgb(36,36,36)",
             "gridcolor": "white",
             "linecolor": "white",
             "minorgridcolor": "white",
             "startlinecolor": "rgb(36,36,36)"
            },
            "type": "carpet"
           }
          ],
          "choropleth": [
           {
            "colorbar": {
             "outlinewidth": 1,
             "tickcolor": "rgb(36,36,36)",
             "ticks": "outside"
            },
            "type": "choropleth"
           }
          ],
          "contour": [
           {
            "colorbar": {
             "outlinewidth": 1,
             "tickcolor": "rgb(36,36,36)",
             "ticks": "outside"
            },
            "colorscale": [
             [
              0,
              "#440154"
             ],
             [
              0.1111111111111111,
              "#482878"
             ],
             [
              0.2222222222222222,
              "#3e4989"
             ],
             [
              0.3333333333333333,
              "#31688e"
             ],
             [
              0.4444444444444444,
              "#26828e"
             ],
             [
              0.5555555555555556,
              "#1f9e89"
             ],
             [
              0.6666666666666666,
              "#35b779"
             ],
             [
              0.7777777777777778,
              "#6ece58"
             ],
             [
              0.8888888888888888,
              "#b5de2b"
             ],
             [
              1,
              "#fde725"
             ]
            ],
            "type": "contour"
           }
          ],
          "contourcarpet": [
           {
            "colorbar": {
             "outlinewidth": 1,
             "tickcolor": "rgb(36,36,36)",
             "ticks": "outside"
            },
            "type": "contourcarpet"
           }
          ],
          "heatmap": [
           {
            "colorbar": {
             "outlinewidth": 1,
             "tickcolor": "rgb(36,36,36)",
             "ticks": "outside"
            },
            "colorscale": [
             [
              0,
              "#440154"
             ],
             [
              0.1111111111111111,
              "#482878"
             ],
             [
              0.2222222222222222,
              "#3e4989"
             ],
             [
              0.3333333333333333,
              "#31688e"
             ],
             [
              0.4444444444444444,
              "#26828e"
             ],
             [
              0.5555555555555556,
              "#1f9e89"
             ],
             [
              0.6666666666666666,
              "#35b779"
             ],
             [
              0.7777777777777778,
              "#6ece58"
             ],
             [
              0.8888888888888888,
              "#b5de2b"
             ],
             [
              1,
              "#fde725"
             ]
            ],
            "type": "heatmap"
           }
          ],
          "histogram": [
           {
            "marker": {
             "line": {
              "color": "white",
              "width": 0.6
             }
            },
            "type": "histogram"
           }
          ],
          "histogram2d": [
           {
            "colorbar": {
             "outlinewidth": 1,
             "tickcolor": "rgb(36,36,36)",
             "ticks": "outside"
            },
            "colorscale": [
             [
              0,
              "#440154"
             ],
             [
              0.1111111111111111,
              "#482878"
             ],
             [
              0.2222222222222222,
              "#3e4989"
             ],
             [
              0.3333333333333333,
              "#31688e"
             ],
             [
              0.4444444444444444,
              "#26828e"
             ],
             [
              0.5555555555555556,
              "#1f9e89"
             ],
             [
              0.6666666666666666,
              "#35b779"
             ],
             [
              0.7777777777777778,
              "#6ece58"
             ],
             [
              0.8888888888888888,
              "#b5de2b"
             ],
             [
              1,
              "#fde725"
             ]
            ],
            "type": "histogram2d"
           }
          ],
          "histogram2dcontour": [
           {
            "colorbar": {
             "outlinewidth": 1,
             "tickcolor": "rgb(36,36,36)",
             "ticks": "outside"
            },
            "colorscale": [
             [
              0,
              "#440154"
             ],
             [
              0.1111111111111111,
              "#482878"
             ],
             [
              0.2222222222222222,
              "#3e4989"
             ],
             [
              0.3333333333333333,
              "#31688e"
             ],
             [
              0.4444444444444444,
              "#26828e"
             ],
             [
              0.5555555555555556,
              "#1f9e89"
             ],
             [
              0.6666666666666666,
              "#35b779"
             ],
             [
              0.7777777777777778,
              "#6ece58"
             ],
             [
              0.8888888888888888,
              "#b5de2b"
             ],
             [
              1,
              "#fde725"
             ]
            ],
            "type": "histogram2dcontour"
           }
          ],
          "mesh3d": [
           {
            "colorbar": {
             "outlinewidth": 1,
             "tickcolor": "rgb(36,36,36)",
             "ticks": "outside"
            },
            "type": "mesh3d"
           }
          ],
          "parcoords": [
           {
            "line": {
             "colorbar": {
              "outlinewidth": 1,
              "tickcolor": "rgb(36,36,36)",
              "ticks": "outside"
             }
            },
            "type": "parcoords"
           }
          ],
          "pie": [
           {
            "automargin": true,
            "type": "pie"
           }
          ],
          "scatter": [
           {
            "fillpattern": {
             "fillmode": "overlay",
             "size": 10,
             "solidity": 0.2
            },
            "type": "scatter"
           }
          ],
          "scatter3d": [
           {
            "line": {
             "colorbar": {
              "outlinewidth": 1,
              "tickcolor": "rgb(36,36,36)",
              "ticks": "outside"
             }
            },
            "marker": {
             "colorbar": {
              "outlinewidth": 1,
              "tickcolor": "rgb(36,36,36)",
              "ticks": "outside"
             }
            },
            "type": "scatter3d"
           }
          ],
          "scattercarpet": [
           {
            "marker": {
             "colorbar": {
              "outlinewidth": 1,
              "tickcolor": "rgb(36,36,36)",
              "ticks": "outside"
             }
            },
            "type": "scattercarpet"
           }
          ],
          "scattergeo": [
           {
            "marker": {
             "colorbar": {
              "outlinewidth": 1,
              "tickcolor": "rgb(36,36,36)",
              "ticks": "outside"
             }
            },
            "type": "scattergeo"
           }
          ],
          "scattergl": [
           {
            "marker": {
             "colorbar": {
              "outlinewidth": 1,
              "tickcolor": "rgb(36,36,36)",
              "ticks": "outside"
             }
            },
            "type": "scattergl"
           }
          ],
          "scattermap": [
           {
            "marker": {
             "colorbar": {
              "outlinewidth": 1,
              "tickcolor": "rgb(36,36,36)",
              "ticks": "outside"
             }
            },
            "type": "scattermap"
           }
          ],
          "scattermapbox": [
           {
            "marker": {
             "colorbar": {
              "outlinewidth": 1,
              "tickcolor": "rgb(36,36,36)",
              "ticks": "outside"
             }
            },
            "type": "scattermapbox"
           }
          ],
          "scatterpolar": [
           {
            "marker": {
             "colorbar": {
              "outlinewidth": 1,
              "tickcolor": "rgb(36,36,36)",
              "ticks": "outside"
             }
            },
            "type": "scatterpolar"
           }
          ],
          "scatterpolargl": [
           {
            "marker": {
             "colorbar": {
              "outlinewidth": 1,
              "tickcolor": "rgb(36,36,36)",
              "ticks": "outside"
             }
            },
            "type": "scatterpolargl"
           }
          ],
          "scatterternary": [
           {
            "marker": {
             "colorbar": {
              "outlinewidth": 1,
              "tickcolor": "rgb(36,36,36)",
              "ticks": "outside"
             }
            },
            "type": "scatterternary"
           }
          ],
          "surface": [
           {
            "colorbar": {
             "outlinewidth": 1,
             "tickcolor": "rgb(36,36,36)",
             "ticks": "outside"
            },
            "colorscale": [
             [
              0,
              "#440154"
             ],
             [
              0.1111111111111111,
              "#482878"
             ],
             [
              0.2222222222222222,
              "#3e4989"
             ],
             [
              0.3333333333333333,
              "#31688e"
             ],
             [
              0.4444444444444444,
              "#26828e"
             ],
             [
              0.5555555555555556,
              "#1f9e89"
             ],
             [
              0.6666666666666666,
              "#35b779"
             ],
             [
              0.7777777777777778,
              "#6ece58"
             ],
             [
              0.8888888888888888,
              "#b5de2b"
             ],
             [
              1,
              "#fde725"
             ]
            ],
            "type": "surface"
           }
          ],
          "table": [
           {
            "cells": {
             "fill": {
              "color": "rgb(237,237,237)"
             },
             "line": {
              "color": "white"
             }
            },
            "header": {
             "fill": {
              "color": "rgb(217,217,217)"
             },
             "line": {
              "color": "white"
             }
            },
            "type": "table"
           }
          ]
         },
         "layout": {
          "annotationdefaults": {
           "arrowhead": 0,
           "arrowwidth": 1
          },
          "autotypenumbers": "strict",
          "coloraxis": {
           "colorbar": {
            "outlinewidth": 1,
            "tickcolor": "rgb(36,36,36)",
            "ticks": "outside"
           }
          },
          "colorscale": {
           "diverging": [
            [
             0,
             "rgb(103,0,31)"
            ],
            [
             0.1,
             "rgb(178,24,43)"
            ],
            [
             0.2,
             "rgb(214,96,77)"
            ],
            [
             0.3,
             "rgb(244,165,130)"
            ],
            [
             0.4,
             "rgb(253,219,199)"
            ],
            [
             0.5,
             "rgb(247,247,247)"
            ],
            [
             0.6,
             "rgb(209,229,240)"
            ],
            [
             0.7,
             "rgb(146,197,222)"
            ],
            [
             0.8,
             "rgb(67,147,195)"
            ],
            [
             0.9,
             "rgb(33,102,172)"
            ],
            [
             1,
             "rgb(5,48,97)"
            ]
           ],
           "sequential": [
            [
             0,
             "#440154"
            ],
            [
             0.1111111111111111,
             "#482878"
            ],
            [
             0.2222222222222222,
             "#3e4989"
            ],
            [
             0.3333333333333333,
             "#31688e"
            ],
            [
             0.4444444444444444,
             "#26828e"
            ],
            [
             0.5555555555555556,
             "#1f9e89"
            ],
            [
             0.6666666666666666,
             "#35b779"
            ],
            [
             0.7777777777777778,
             "#6ece58"
            ],
            [
             0.8888888888888888,
             "#b5de2b"
            ],
            [
             1,
             "#fde725"
            ]
           ],
           "sequentialminus": [
            [
             0,
             "#440154"
            ],
            [
             0.1111111111111111,
             "#482878"
            ],
            [
             0.2222222222222222,
             "#3e4989"
            ],
            [
             0.3333333333333333,
             "#31688e"
            ],
            [
             0.4444444444444444,
             "#26828e"
            ],
            [
             0.5555555555555556,
             "#1f9e89"
            ],
            [
             0.6666666666666666,
             "#35b779"
            ],
            [
             0.7777777777777778,
             "#6ece58"
            ],
            [
             0.8888888888888888,
             "#b5de2b"
            ],
            [
             1,
             "#fde725"
            ]
           ]
          },
          "colorway": [
           "#1F77B4",
           "#FF7F0E",
           "#2CA02C",
           "#D62728",
           "#9467BD",
           "#8C564B",
           "#E377C2",
           "#7F7F7F",
           "#BCBD22",
           "#17BECF"
          ],
          "font": {
           "color": "rgb(36,36,36)"
          },
          "geo": {
           "bgcolor": "white",
           "lakecolor": "white",
           "landcolor": "white",
           "showlakes": true,
           "showland": true,
           "subunitcolor": "white"
          },
          "hoverlabel": {
           "align": "left"
          },
          "hovermode": "closest",
          "mapbox": {
           "style": "light"
          },
          "paper_bgcolor": "white",
          "plot_bgcolor": "white",
          "polar": {
           "angularaxis": {
            "gridcolor": "rgb(232,232,232)",
            "linecolor": "rgb(36,36,36)",
            "showgrid": false,
            "showline": true,
            "ticks": "outside"
           },
           "bgcolor": "white",
           "radialaxis": {
            "gridcolor": "rgb(232,232,232)",
            "linecolor": "rgb(36,36,36)",
            "showgrid": false,
            "showline": true,
            "ticks": "outside"
           }
          },
          "scene": {
           "xaxis": {
            "backgroundcolor": "white",
            "gridcolor": "rgb(232,232,232)",
            "gridwidth": 2,
            "linecolor": "rgb(36,36,36)",
            "showbackground": true,
            "showgrid": false,
            "showline": true,
            "ticks": "outside",
            "zeroline": false,
            "zerolinecolor": "rgb(36,36,36)"
           },
           "yaxis": {
            "backgroundcolor": "white",
            "gridcolor": "rgb(232,232,232)",
            "gridwidth": 2,
            "linecolor": "rgb(36,36,36)",
            "showbackground": true,
            "showgrid": false,
            "showline": true,
            "ticks": "outside",
            "zeroline": false,
            "zerolinecolor": "rgb(36,36,36)"
           },
           "zaxis": {
            "backgroundcolor": "white",
            "gridcolor": "rgb(232,232,232)",
            "gridwidth": 2,
            "linecolor": "rgb(36,36,36)",
            "showbackground": true,
            "showgrid": false,
            "showline": true,
            "ticks": "outside",
            "zeroline": false,
            "zerolinecolor": "rgb(36,36,36)"
           }
          },
          "shapedefaults": {
           "fillcolor": "black",
           "line": {
            "width": 0
           },
           "opacity": 0.3
          },
          "ternary": {
           "aaxis": {
            "gridcolor": "rgb(232,232,232)",
            "linecolor": "rgb(36,36,36)",
            "showgrid": false,
            "showline": true,
            "ticks": "outside"
           },
           "baxis": {
            "gridcolor": "rgb(232,232,232)",
            "linecolor": "rgb(36,36,36)",
            "showgrid": false,
            "showline": true,
            "ticks": "outside"
           },
           "bgcolor": "white",
           "caxis": {
            "gridcolor": "rgb(232,232,232)",
            "linecolor": "rgb(36,36,36)",
            "showgrid": false,
            "showline": true,
            "ticks": "outside"
           }
          },
          "title": {
           "x": 0.05
          },
          "xaxis": {
           "automargin": true,
           "gridcolor": "rgb(232,232,232)",
           "linecolor": "rgb(36,36,36)",
           "showgrid": false,
           "showline": true,
           "ticks": "outside",
           "title": {
            "standoff": 15
           },
           "zeroline": false,
           "zerolinecolor": "rgb(36,36,36)"
          },
          "yaxis": {
           "automargin": true,
           "gridcolor": "rgb(232,232,232)",
           "linecolor": "rgb(36,36,36)",
           "showgrid": false,
           "showline": true,
           "ticks": "outside",
           "title": {
            "standoff": 15
           },
           "zeroline": false,
           "zerolinecolor": "rgb(36,36,36)"
          }
         }
        },
        "title": {
         "text": "Histogram of Energy-Only Project Counts per Developer (Custom Bins)"
        },
        "xaxis": {
         "title": {
          "text": "Number of Energy Projects per Developer"
         }
        },
        "yaxis": {
         "range": [
          0,
          250
         ],
         "title": {
          "text": "Number of Developers"
         }
        }
       }
      }
     },
     "metadata": {},
     "output_type": "display_data"
    }
   ],
   "source": [
    "import pandas as pd\n",
    "import plotly.graph_objects as go\n",
    "\n",
    "# Step 1: Filter only 'Energy' projects\n",
    "energy_plants = PJM_queued_plants[PJM_queued_plants['Capacity or Energy'] == 'Energy']\n",
    "\n",
    "# Step 2: Count number of energy-only projects per developer\n",
    "project_counts = energy_plants['Developer'].value_counts()\n",
    "\n",
    "# Step 3: Export unique developers (optional)\n",
    "unique_developers = energy_plants['Developer'].dropna().unique()\n",
    "df_unique_developers = pd.DataFrame(unique_developers, columns=['Developer'])\n",
    "df_unique_developers.to_excel('unique_developers_energy_only.xlsx', index=False)\n",
    "\n",
    "# Step 4: Define custom bins\n",
    "bins = {\n",
    "    '1': (1, 1),\n",
    "    '2–5': (2, 5),\n",
    "}\n",
    "\n",
    "# Step 5: Count developers in each bin\n",
    "bin_counts = {label: 0 for label in bins}\n",
    "for count in project_counts:\n",
    "    for label, (low, high) in bins.items():\n",
    "        if low <= count <= high:\n",
    "            bin_counts[label] += 1\n",
    "            break\n",
    "\n",
    "# Step 6: Plot using Plotly\n",
    "fig = go.Figure(data=[go.Bar(\n",
    "    x=list(bin_counts.keys()),\n",
    "    y=list(bin_counts.values()),\n",
    "    marker_color='lightgreen',\n",
    "    marker_line_color='black',\n",
    "    marker_line_width=1,\n",
    "    text=list(bin_counts.values()),\n",
    "    textposition='outside'\n",
    ")])\n",
    "\n",
    "fig.update_layout(\n",
    "    title='Histogram of Energy-Only Project Counts per Developer (Custom Bins)',\n",
    "    xaxis_title='Number of Energy Projects per Developer',\n",
    "    yaxis_title='Number of Developers',\n",
    "    bargap=0.1,\n",
    "    template='simple_white',\n",
    "    yaxis=dict(range=[0, 250]),\n",
    "    height=700\n",
    ")\n",
    "\n",
    "fig.show()\n"
   ]
  },
  {
   "cell_type": "code",
   "execution_count": 66,
   "id": "98e1a88e",
   "metadata": {},
   "outputs": [
    {
     "name": "stdout",
     "output_type": "stream",
     "text": [
      "Index(['Project ID', 'Name', 'Commercial Name', 'State', 'County', 'Status',\n",
      "       'Transmission Owner', 'MFO', 'MW Energy', 'MW Capacity',\n",
      "       'MW In Service', 'Capacity or Energy', 'Project Type', 'Fuel',\n",
      "       'Project (AC/DC)', 'Rights (MW)', 'Initial Study', 'Feasibility Study',\n",
      "       'Feasibility Study Status', 'System Impact Study',\n",
      "       'System Impact Study Status', 'Facilities Study',\n",
      "       'Facilities Study Status',\n",
      "       'Interim/Interconnection Service/Generation Interconnection Agreement',\n",
      "       'Interim/Interconnection Service/Generation Interconnection Agreement Status',\n",
      "       'Wholesale Market Participation Agreement',\n",
      "       'Construction Service Agreement',\n",
      "       'Construction Service Agreement Status',\n",
      "       'Upgrade Construction Service Agreement',\n",
      "       'Upgrade Construction Service Agreement Status', 'Backfeed Date',\n",
      "       'Submitted Date', 'Long-Term Firm Service Start Date',\n",
      "       'Long-Term Firm Service End Date', 'Test Energy Date',\n",
      "       'Withdrawal Date', 'Withdrawn Remarks',\n",
      "       'Commercial Operation Milestone', 'Revised In Service Date',\n",
      "       'Actual In Service Date', 'Attachment Type', 'Alternate Project',\n",
      "       'Sliding Project'],\n",
      "      dtype='object')\n"
     ]
    }
   ],
   "source": [
    "PJM_queued_plants_serial=pd.read_excel('Data/PJM_Queue_Power_Plants_Serial_6_13_2025.xlsx')\n",
    "print(PJM_queued_plants_serial.columns)\n",
    "#there are no developers listed for the serial projects "
   ]
  },
  {
   "cell_type": "code",
   "execution_count": 67,
   "id": "a19ffeca",
   "metadata": {},
   "outputs": [
    {
     "name": "stdout",
     "output_type": "stream",
     "text": [
      "Unique fuels in df: ['Storage' 'Solar' 'Natural Gas' 'Solar & Storage' 'Offshore Wind' 'Wind'\n",
      " 'Nuclear' 'Wind & Solar' 'Hydro' 'Biomass' 'Coal']\n"
     ]
    },
    {
     "data": {
      "application/vnd.plotly.v1+json": {
       "config": {
        "plotlyServerURL": "https://plot.ly"
       },
       "data": [
        {
         "boxpoints": "outliers",
         "line": {
          "width": 1
         },
         "marker": {
          "color": "blue",
          "size": 4
         },
         "name": "Hydro",
         "type": "box",
         "y": {
          "bdata": "AAAAAAAALEAAAAAAAAAVQA==",
          "dtype": "f8"
         }
        },
        {
         "boxpoints": "outliers",
         "line": {
          "width": 1
         },
         "marker": {
          "color": "brown",
          "size": 4
         },
         "name": "Biomass",
         "type": "box",
         "y": {
          "bdata": "mpmZmZmZCUCkcD0K1yMkQAAAAAAAADRAAAAAAACAWEA=",
          "dtype": "f8"
         }
        },
        {
         "boxpoints": "outliers",
         "line": {
          "width": 1
         },
         "marker": {
          "color": "green",
          "size": 4
         },
         "name": "Wind & Solar",
         "type": "box",
         "y": {
          "bdata": "AAAAAADgaEAAAAAAAAAkQA==",
          "dtype": "f8"
         }
        },
        {
         "boxpoints": "outliers",
         "line": {
          "width": 1
         },
         "marker": {
          "color": "orange",
          "size": 4
         },
         "name": "Solar & Storage",
         "type": "box",
         "y": {
          "bdata": "AAAAAACAS0AAAAAAAABeQAAAAAAAIHJAmpmZmZkZV0AAAAAAAIBbQDMzMzMzW5NAzczMzMysY0AAAAAAAKB0QAAAAAAAoGRAAAAAAABAWkAAAAAAAMBbQAAAAAAAAD5AAAAAAAAAM0AAAAAAAACJQAAAAAAAwGJAAAAAAADAckAAAAAAAIBOQAAAAAAAAElAmpmZmZnxhEBmZmZmZuZEQAAAAAAAAGlAAAAAAADAckAAAAAAAIBLQAAAAAAAADRAAAAAAAAANEAAAAAAAMBRQAAAAAAAAFRAzczMzMwsYEAzMzMzM/NIQAAAAAAAgFZAAAAAAACAZkDNzMzMzDhxQAAAAAAAAERAAAAAAACAW0AAAAAAAEBfQAAAAAAAAFlAAAAAAACAYkAAAAAAAABZQAAAAAAAwFdAAAAAAAAAWUAAAAAAAEBRQAAAAAAAoF9AAAAAAABAb0BmZmZmZo50QAAAAAAAADRAAAAAAADAYkBmZmZmZgZXQDMzMzMz80pAAAAAAAAAREAAAAAAAABOQAAAAAAAAFRAAAAAAABAVkAAAAAAAABEQGZmZmZmJmdAAAAAAAAAOUAAAAAAAMBiQAAAAAAAAFlAAAAAAADAYkAAAAAAAMBiQAAAAAAAAERAAAAAAABAU0DXo3A9CvdfQAAAAAAAQGBAAAAAAAAAaUAAAAAAAMBiQAAAAAAAQFBAAAAAAACAVkAAAAAAAMBYQAAAAAAAAFRAAAAAAAAANEAAAAAAAABJQAAAAAAAAFlAAAAAAACAYUAAAAAAAIBRQAAAAAAAwFJAAAAAAABAT0AAAAAAAMBiQAAAAAAAAHlAAAAAAAAASUAAAAAAAEBVQAAAAAAAQGVAAAAAAADAYkAAAAAAAMBSQAAAAAAAwFNAAAAAAABAUEAAAAAAAABZQAAAAAAAADRAAAAAAAAANEAAAAAAAAA0QAAAAAAAADRAAAAAAACAP0AAAAAAAIBaQAAAAAAAAF5AAAAAAAAATkAAAAAAAKBPQA==",
          "dtype": "f8"
         }
        },
        {
         "boxpoints": "outliers",
         "line": {
          "width": 1
         },
         "marker": {
          "color": "#FFCB00",
          "size": 4
         },
         "name": "Solar",
         "type": "box",
         "y": {
          "bdata": "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",
          "dtype": "f8"
         }
        },
        {
         "boxpoints": "outliers",
         "line": {
          "width": 1
         },
         "marker": {
          "color": "yellow",
          "size": 4
         },
         "name": "Storage",
         "type": "box",
         "y": {
          "bdata": "AAAAAADYkkAAAAAAAABZQJqZmZmZyWBAAAAAAAAASUAAAAAAACBiQAAAAAAAMHBAAAAAAACwckAAAAAAAJB0QGZmZmZmZnBAmpmZmZkZc0AAAAAAAABpQAAAAAAAQH9AAAAAAABAVUAAAAAAAABeQDMzMzMzQ3JAAAAAAAAAaUAAAAAAAABJQAAAAAAAAElAAAAAAADAgkAAAAAAAIBrQAAAAAAAwIJAAAAAAADAgkAAAAAAAMCCQAAAAAAA4GVAZmZmZmYGY0AAAAAAAABpQAAAAAAAwIJAAAAAAABAb0AAAAAAAMBiQAAAAAAAwGJAAAAAAAAAWUAAAAAAAPB0QAAAAAAAAE5AAAAAAABAb0AAAAAAAJB9QAAAAAAAAFJAAAAAAAAgbEAAAAAAAABZQAAAAAAAoHRAAAAAAAAASUAAAAAAAABJQAAAAAAAAElAAAAAAACAW0AAAAAAAFiGQAAAAAAAAFlAAAAAAACAYUAAAAAAAKBqQAAAAAAAAGlAAAAAAAAAWUAAAAAAAMBiQAAAAAAAAFlAAAAAAAAAWUAAAAAAAKBpQAAAAAAAEHNAAAAAAADAckAAAAAAAMCCQAAAAAAAwGdAAAAAAAAgdUAAAAAAADBxQAAAAAAAAGlAAAAAAADAYkAAAAAAAMBiQAAAAAAAwHJAAAAAAADAYkAAAAAAAMByQAAAAAAAwHJAAAAAAAAASUAAAAAAAABJQAAAAAAAwFJAAAAAAAAAWUAAAAAAACCMQAAAAAAA4GBAAAAAAADAckAAAAAAAEBfQAAAAAAAgFFAAAAAAABAf0AAAAAAAMCCQAAAAAAAQH9AAAAAAAAAaUAAAAAAAIBaQAAAAAAAAElAAAAAAAAAPkAAAAAAAMBTQAAAAAAAAElAZmZmZmYGY0AAAAAAAABJQAAAAAAA4GBAAAAAAADgYEAAAAAAAABOQAAAAAAAIGdAAAAAAACgdECamZmZmflYQAAAAAAAADFAAAAAAAAwdEAAAAAAAIBhQAAAAAAAADRAAAAAAAAAbkAAAAAAAMByQAAAAAAAAElAAAAAAABga0AAAAAAAAA0QAAAAAAAABxAAAAAAAAANEAAAAAAAAA0QAAAAAAAAG5AzczMzMzMM0AAAAAAAAA0QAAAAAAAADRAAAAAAAAANEAAAAAAAABEQAAAAAAAQH9AAAAAAAAAS0AAAAAAAEBfQAAAAAAAAElAAAAAAAAATkAAAAAAAAB5QAAAAAAAQH9AAAAAAACAYUAAAAAAAIBmQAAAAAAAoGlAAAAAAAAASUDNzMzMzDhxQAAAAAAAwHJAAAAAAAAAeUAAAAAAAAB5QAAAAAAAAG1AAAAAAACgaUAAAAAAAEB/QAAAAAAAAElAZmZmZmamUEAAAAAAAEBaQAAAAAAAAHlAAAAAAABAf0AAAAAAAABZQAAAAAAAgFhAAAAAAACwjUAAAAAAAIBVQAAAAAAAcIVAAAAAAABAdkBmZmZmZjiQQAAAAAAAwGJAAAAAAADAUkAAAAAAAABOQI/C9ShcP2RAj8L1KFw/ZEAAAAAAAIBLQGZmZmZmpmhAAAAAAAAATkAAAAAAACBiQAAAAAAAAFlAAAAAAACAUUAAAAAAAMyQQAAAAAAAgFFAAAAAAAAASUAAAAAAAABpQAAAAAAAAG5AAAAAAACgeUAAAAAAAABEQAAAAAAAAFlAAAAAAAAAVEAAAAAAAABJQAAAAAAAwFJAAAAAAAAASUAAAAAAAMBSQAAAAAAAQH9AAAAAAADAUkAAAAAAAMBSQGZmZmZmZkdAAAAAAAAAXkAAAAAAALBiQAAAAAAAAE5AAAAAAAAAREAAAAAAAEB1QAAAAAAAAGlAAAAAAAAATkAAAAAAAMBiQAAAAAAAwFJAAAAAAABAVUAAAAAAAEB7QAAAAAAA8GtAAAAAAAAAWUAAAAAAAIBWQAAAAAAAgFtAAAAAAABAYEAAAAAAAMBiQAAAAAAAAE5AAAAAAADAYkAAAAAAAABZQAAAAAAAAGlAAAAAAAAAREAAAAAAAABpQAAAAAAAwFJAAAAAAADAYkAAAAAAACCPQAAAAAAAADlAAAAAAABQhEAAAAAAAMCCQAAAAAAAABxAAAAAAAAAaUAAAAAAAABJQAAAAAAAwGJAAAAAAAAANEAAAAAAAJB6QAAAAAAAAFlAAAAAAAAASUAAAAAAAABJQAAAAAAAgFtAAAAAAABAWUAAAAAAAEBZQAAAAAAAAFRAAAAAAADAYkAAAAAAAABOQAAAAAAAAFlAAAAAAACAS0AAAAAAAMBSQAAAAAAAwFpAAAAAAAAAWUAAAAAAAIBbQAAAAAAAAElAAAAAAAAANEAAAAAAAAA0QAAAAAAAADRAAAAAAADAYkAAAAAAAMBiQAAAAAAAAElAAAAAAADAUkAAAAAAAABZQAAAAAAAAFlAAAAAAAAAWUAAAAAAAMByQAAAAAAAQG9AAAAAAAAASUAAAAAAAABpQAAAAAAAwGJAAAAAAAAAZEAAAAAAAABJQAAAAAAAQH9AAAAAAAAAREAAAAAAAABZQAAAAAAAAFRAAAAAAADAckAAAAAAAABZQAAAAAAA4F9AAAAAAAAAWUAAAAAAAABZQAAAAAAAAFlAAAAAAAAANEAAAAAAAAAkQAAAAAAAADRAAAAAAAAAWUAAAAAAAABZQAAAAAAAAG5AAAAAAAAgYkBmZmZmZiZQQAAAAAAAwGJAmpmZmZk5WEAAAAAAAEB/QAAAAAAAwGJAAAAAAAAASUAAAAAAAABpQAAAAAAAwGJAAAAAAAAASUAAAAAAAEBPQAAAAAAAQF9AAAAAAADAckAAAAAAAABJQAAAAAAAwFNA",
          "dtype": "f8"
         }
        },
        {
         "boxpoints": "outliers",
         "line": {
          "width": 1
         },
         "marker": {
          "color": "#3DADF2",
          "size": 4
         },
         "name": "Wind",
         "type": "box",
         "y": {
          "bdata": "MzMzMzPzVUBmZmZmZiZSQDMzMzMza3JAAAAAAADAYkAAAAAAAOBTQAAAAAAA4GhAAAAAAADgZUAAAAAAAOBvQAAAAAAAwHdAAAAAAADAYkAAAAAAAMByQAAAAAAAQG9AAAAAAABAYEAAAAAAAMBiQOxRuB6Fv3JAAAAAAAAAaUAAAAAAAABpQAAAAAAAgGpAFK5H4XrcZ0AAAAAAAMByQAAAAAAAAGlAAAAAAAAAaUAAAAAAAOBvQJqZmZmZeVtAzczMzMxsZUAAAAAAAGBiQAAAAAAAwGJA",
          "dtype": "f8"
         }
        },
        {
         "boxpoints": "outliers",
         "line": {
          "width": 1
         },
         "marker": {
          "color": "#000000",
          "size": 4
         },
         "name": "Coal",
         "type": "box",
         "y": {
          "bdata": "AAAAAADQgEA=",
          "dtype": "f8"
         }
        },
        {
         "boxpoints": "outliers",
         "line": {
          "width": 1
         },
         "marker": {
          "color": "darkblue",
          "size": 4
         },
         "name": "Offshore Wind",
         "type": "box",
         "y": {
          "bdata": "AAAAAACAe0AAAAAAAICLQM3MzMzMDHxAzczMzMwMjECamZmZmTF0QAAAAAAAUJRAAAAAAAAIikAAAAAAACCKQAAAAAAAoIlAzczMzMwAiUDNzMzMzACJQA==",
          "dtype": "f8"
         }
        },
        {
         "boxpoints": "outliers",
         "line": {
          "width": 1
         },
         "marker": {
          "color": "#58585b",
          "size": 4
         },
         "name": "Natural Gas",
         "type": "box",
         "y": {
          "bdata": "AAAAAACQiEAAAAAAAABrQAAAAAAAcHhAAAAAAADAhEAAAAAAACiZQAAAAAAA4H1AAAAAAADghUAAAAAAAJCIQAAAAAAAEIhAAAAAAAAQiEAAAAAAAKyKQHsUrkfh9IRAAAAAAACATkAzMzMzMzOJQI/C9ShcGYlAAAAAAABQlEAAAAAAAOiSQAAAAAAA8HtAAAAAAABQhEAAAAAAAFCVQAAAAAAADJdAAAAAAADQf0C0yHa+n1OOQAAAAAAAsIVAzczMzMxQkUAAAAAAAACOQAAAAAAAkJpAAAAAAABcjEAAAAAAAP6gQAAAAAAAqJZAAAAAAAColkCamZmZmXGUQAAAAAAAyJdAZmZmZmbug0AAAAAAAFiMQJqZmZmZBZJAAAAAAADWl0AAAAAAAFCFQAAAAAAAyIFAAAAAAADAZ0AAAAAAAMBnQAAAAAAAwGdAAAAAAABAj0AAAAAAAECIQAAAAAAAQIhAAAAAAABwm0AAAAAAAMCPQGZmZmZmOpRAAAAAAADAXEAAAAAAAOCEQBSuR+F63HRAAAAAAABQfEAAAAAAAIBQQAAAAAAAaKBAAAAAAABwfEAAAAAAAMBnQAAAAAAAIGpAAAAAAAAgakAAAAAAAMBnQAAAAAAAwGdA",
          "dtype": "f8"
         }
        },
        {
         "boxpoints": "outliers",
         "line": {
          "width": 1
         },
         "marker": {
          "color": "purple",
          "size": 4
         },
         "name": "Nuclear",
         "type": "box",
         "y": {
          "bdata": "AAAAAABAlUAAAAAAAMSjQAAAAAAAMKRAmpmZmZm1pEAAAAAAANiKQA==",
          "dtype": "f8"
         }
        }
       ],
       "layout": {
        "annotations": [
         {
          "font": {
           "size": 12
          },
          "showarrow": false,
          "text": "(2)",
          "x": 0,
          "xanchor": "center",
          "y": 2783.34
         },
         {
          "font": {
           "size": 12
          },
          "showarrow": false,
          "text": "(4)",
          "x": 1,
          "xanchor": "center",
          "y": 2783.34
         },
         {
          "font": {
           "size": 12
          },
          "showarrow": false,
          "text": "(2)",
          "x": 2,
          "xanchor": "center",
          "y": 2783.34
         },
         {
          "font": {
           "size": 12
          },
          "showarrow": false,
          "text": "(95)",
          "x": 3,
          "xanchor": "center",
          "y": 2783.34
         },
         {
          "font": {
           "size": 12
          },
          "showarrow": false,
          "text": "(485)",
          "x": 4,
          "xanchor": "center",
          "y": 2783.34
         },
         {
          "font": {
           "size": 12
          },
          "showarrow": false,
          "text": "(267)",
          "x": 5,
          "xanchor": "center",
          "y": 2783.34
         },
         {
          "font": {
           "size": 12
          },
          "showarrow": false,
          "text": "(27)",
          "x": 6,
          "xanchor": "center",
          "y": 2783.34
         },
         {
          "font": {
           "size": 12
          },
          "showarrow": false,
          "text": "(1)",
          "x": 7,
          "xanchor": "center",
          "y": 2783.34
         },
         {
          "font": {
           "size": 12
          },
          "showarrow": false,
          "text": "(11)",
          "x": 8,
          "xanchor": "center",
          "y": 2783.34
         },
         {
          "font": {
           "size": 12
          },
          "showarrow": false,
          "text": "(60)",
          "x": 9,
          "xanchor": "center",
          "y": 2783.34
         },
         {
          "font": {
           "size": 12
          },
          "showarrow": false,
          "text": "(5)",
          "x": 10,
          "xanchor": "center",
          "y": 2783.34
         }
        ],
        "margin": {
         "t": 80
        },
        "template": {
         "data": {
          "bar": [
           {
            "error_x": {
             "color": "rgb(36,36,36)"
            },
            "error_y": {
             "color": "rgb(36,36,36)"
            },
            "marker": {
             "line": {
              "color": "white",
              "width": 0.5
             },
             "pattern": {
              "fillmode": "overlay",
              "size": 10,
              "solidity": 0.2
             }
            },
            "type": "bar"
           }
          ],
          "barpolar": [
           {
            "marker": {
             "line": {
              "color": "white",
              "width": 0.5
             },
             "pattern": {
              "fillmode": "overlay",
              "size": 10,
              "solidity": 0.2
             }
            },
            "type": "barpolar"
           }
          ],
          "carpet": [
           {
            "aaxis": {
             "endlinecolor": "rgb(36,36,36)",
             "gridcolor": "white",
             "linecolor": "white",
             "minorgridcolor": "white",
             "startlinecolor": "rgb(36,36,36)"
            },
            "baxis": {
             "endlinecolor": "rgb(36,36,36)",
             "gridcolor": "white",
             "linecolor": "white",
             "minorgridcolor": "white",
             "startlinecolor": "rgb(36,36,36)"
            },
            "type": "carpet"
           }
          ],
          "choropleth": [
           {
            "colorbar": {
             "outlinewidth": 1,
             "tickcolor": "rgb(36,36,36)",
             "ticks": "outside"
            },
            "type": "choropleth"
           }
          ],
          "contour": [
           {
            "colorbar": {
             "outlinewidth": 1,
             "tickcolor": "rgb(36,36,36)",
             "ticks": "outside"
            },
            "colorscale": [
             [
              0,
              "#440154"
             ],
             [
              0.1111111111111111,
              "#482878"
             ],
             [
              0.2222222222222222,
              "#3e4989"
             ],
             [
              0.3333333333333333,
              "#31688e"
             ],
             [
              0.4444444444444444,
              "#26828e"
             ],
             [
              0.5555555555555556,
              "#1f9e89"
             ],
             [
              0.6666666666666666,
              "#35b779"
             ],
             [
              0.7777777777777778,
              "#6ece58"
             ],
             [
              0.8888888888888888,
              "#b5de2b"
             ],
             [
              1,
              "#fde725"
             ]
            ],
            "type": "contour"
           }
          ],
          "contourcarpet": [
           {
            "colorbar": {
             "outlinewidth": 1,
             "tickcolor": "rgb(36,36,36)",
             "ticks": "outside"
            },
            "type": "contourcarpet"
           }
          ],
          "heatmap": [
           {
            "colorbar": {
             "outlinewidth": 1,
             "tickcolor": "rgb(36,36,36)",
             "ticks": "outside"
            },
            "colorscale": [
             [
              0,
              "#440154"
             ],
             [
              0.1111111111111111,
              "#482878"
             ],
             [
              0.2222222222222222,
              "#3e4989"
             ],
             [
              0.3333333333333333,
              "#31688e"
             ],
             [
              0.4444444444444444,
              "#26828e"
             ],
             [
              0.5555555555555556,
              "#1f9e89"
             ],
             [
              0.6666666666666666,
              "#35b779"
             ],
             [
              0.7777777777777778,
              "#6ece58"
             ],
             [
              0.8888888888888888,
              "#b5de2b"
             ],
             [
              1,
              "#fde725"
             ]
            ],
            "type": "heatmap"
           }
          ],
          "histogram": [
           {
            "marker": {
             "line": {
              "color": "white",
              "width": 0.6
             }
            },
            "type": "histogram"
           }
          ],
          "histogram2d": [
           {
            "colorbar": {
             "outlinewidth": 1,
             "tickcolor": "rgb(36,36,36)",
             "ticks": "outside"
            },
            "colorscale": [
             [
              0,
              "#440154"
             ],
             [
              0.1111111111111111,
              "#482878"
             ],
             [
              0.2222222222222222,
              "#3e4989"
             ],
             [
              0.3333333333333333,
              "#31688e"
             ],
             [
              0.4444444444444444,
              "#26828e"
             ],
             [
              0.5555555555555556,
              "#1f9e89"
             ],
             [
              0.6666666666666666,
              "#35b779"
             ],
             [
              0.7777777777777778,
              "#6ece58"
             ],
             [
              0.8888888888888888,
              "#b5de2b"
             ],
             [
              1,
              "#fde725"
             ]
            ],
            "type": "histogram2d"
           }
          ],
          "histogram2dcontour": [
           {
            "colorbar": {
             "outlinewidth": 1,
             "tickcolor": "rgb(36,36,36)",
             "ticks": "outside"
            },
            "colorscale": [
             [
              0,
              "#440154"
             ],
             [
              0.1111111111111111,
              "#482878"
             ],
             [
              0.2222222222222222,
              "#3e4989"
             ],
             [
              0.3333333333333333,
              "#31688e"
             ],
             [
              0.4444444444444444,
              "#26828e"
             ],
             [
              0.5555555555555556,
              "#1f9e89"
             ],
             [
              0.6666666666666666,
              "#35b779"
             ],
             [
              0.7777777777777778,
              "#6ece58"
             ],
             [
              0.8888888888888888,
              "#b5de2b"
             ],
             [
              1,
              "#fde725"
             ]
            ],
            "type": "histogram2dcontour"
           }
          ],
          "mesh3d": [
           {
            "colorbar": {
             "outlinewidth": 1,
             "tickcolor": "rgb(36,36,36)",
             "ticks": "outside"
            },
            "type": "mesh3d"
           }
          ],
          "parcoords": [
           {
            "line": {
             "colorbar": {
              "outlinewidth": 1,
              "tickcolor": "rgb(36,36,36)",
              "ticks": "outside"
             }
            },
            "type": "parcoords"
           }
          ],
          "pie": [
           {
            "automargin": true,
            "type": "pie"
           }
          ],
          "scatter": [
           {
            "fillpattern": {
             "fillmode": "overlay",
             "size": 10,
             "solidity": 0.2
            },
            "type": "scatter"
           }
          ],
          "scatter3d": [
           {
            "line": {
             "colorbar": {
              "outlinewidth": 1,
              "tickcolor": "rgb(36,36,36)",
              "ticks": "outside"
             }
            },
            "marker": {
             "colorbar": {
              "outlinewidth": 1,
              "tickcolor": "rgb(36,36,36)",
              "ticks": "outside"
             }
            },
            "type": "scatter3d"
           }
          ],
          "scattercarpet": [
           {
            "marker": {
             "colorbar": {
              "outlinewidth": 1,
              "tickcolor": "rgb(36,36,36)",
              "ticks": "outside"
             }
            },
            "type": "scattercarpet"
           }
          ],
          "scattergeo": [
           {
            "marker": {
             "colorbar": {
              "outlinewidth": 1,
              "tickcolor": "rgb(36,36,36)",
              "ticks": "outside"
             }
            },
            "type": "scattergeo"
           }
          ],
          "scattergl": [
           {
            "marker": {
             "colorbar": {
              "outlinewidth": 1,
              "tickcolor": "rgb(36,36,36)",
              "ticks": "outside"
             }
            },
            "type": "scattergl"
           }
          ],
          "scattermap": [
           {
            "marker": {
             "colorbar": {
              "outlinewidth": 1,
              "tickcolor": "rgb(36,36,36)",
              "ticks": "outside"
             }
            },
            "type": "scattermap"
           }
          ],
          "scattermapbox": [
           {
            "marker": {
             "colorbar": {
              "outlinewidth": 1,
              "tickcolor": "rgb(36,36,36)",
              "ticks": "outside"
             }
            },
            "type": "scattermapbox"
           }
          ],
          "scatterpolar": [
           {
            "marker": {
             "colorbar": {
              "outlinewidth": 1,
              "tickcolor": "rgb(36,36,36)",
              "ticks": "outside"
             }
            },
            "type": "scatterpolar"
           }
          ],
          "scatterpolargl": [
           {
            "marker": {
             "colorbar": {
              "outlinewidth": 1,
              "tickcolor": "rgb(36,36,36)",
              "ticks": "outside"
             }
            },
            "type": "scatterpolargl"
           }
          ],
          "scatterternary": [
           {
            "marker": {
             "colorbar": {
              "outlinewidth": 1,
              "tickcolor": "rgb(36,36,36)",
              "ticks": "outside"
             }
            },
            "type": "scatterternary"
           }
          ],
          "surface": [
           {
            "colorbar": {
             "outlinewidth": 1,
             "tickcolor": "rgb(36,36,36)",
             "ticks": "outside"
            },
            "colorscale": [
             [
              0,
              "#440154"
             ],
             [
              0.1111111111111111,
              "#482878"
             ],
             [
              0.2222222222222222,
              "#3e4989"
             ],
             [
              0.3333333333333333,
              "#31688e"
             ],
             [
              0.4444444444444444,
              "#26828e"
             ],
             [
              0.5555555555555556,
              "#1f9e89"
             ],
             [
              0.6666666666666666,
              "#35b779"
             ],
             [
              0.7777777777777778,
              "#6ece58"
             ],
             [
              0.8888888888888888,
              "#b5de2b"
             ],
             [
              1,
              "#fde725"
             ]
            ],
            "type": "surface"
           }
          ],
          "table": [
           {
            "cells": {
             "fill": {
              "color": "rgb(237,237,237)"
             },
             "line": {
              "color": "white"
             }
            },
            "header": {
             "fill": {
              "color": "rgb(217,217,217)"
             },
             "line": {
              "color": "white"
             }
            },
            "type": "table"
           }
          ]
         },
         "layout": {
          "annotationdefaults": {
           "arrowhead": 0,
           "arrowwidth": 1
          },
          "autotypenumbers": "strict",
          "coloraxis": {
           "colorbar": {
            "outlinewidth": 1,
            "tickcolor": "rgb(36,36,36)",
            "ticks": "outside"
           }
          },
          "colorscale": {
           "diverging": [
            [
             0,
             "rgb(103,0,31)"
            ],
            [
             0.1,
             "rgb(178,24,43)"
            ],
            [
             0.2,
             "rgb(214,96,77)"
            ],
            [
             0.3,
             "rgb(244,165,130)"
            ],
            [
             0.4,
             "rgb(253,219,199)"
            ],
            [
             0.5,
             "rgb(247,247,247)"
            ],
            [
             0.6,
             "rgb(209,229,240)"
            ],
            [
             0.7,
             "rgb(146,197,222)"
            ],
            [
             0.8,
             "rgb(67,147,195)"
            ],
            [
             0.9,
             "rgb(33,102,172)"
            ],
            [
             1,
             "rgb(5,48,97)"
            ]
           ],
           "sequential": [
            [
             0,
             "#440154"
            ],
            [
             0.1111111111111111,
             "#482878"
            ],
            [
             0.2222222222222222,
             "#3e4989"
            ],
            [
             0.3333333333333333,
             "#31688e"
            ],
            [
             0.4444444444444444,
             "#26828e"
            ],
            [
             0.5555555555555556,
             "#1f9e89"
            ],
            [
             0.6666666666666666,
             "#35b779"
            ],
            [
             0.7777777777777778,
             "#6ece58"
            ],
            [
             0.8888888888888888,
             "#b5de2b"
            ],
            [
             1,
             "#fde725"
            ]
           ],
           "sequentialminus": [
            [
             0,
             "#440154"
            ],
            [
             0.1111111111111111,
             "#482878"
            ],
            [
             0.2222222222222222,
             "#3e4989"
            ],
            [
             0.3333333333333333,
             "#31688e"
            ],
            [
             0.4444444444444444,
             "#26828e"
            ],
            [
             0.5555555555555556,
             "#1f9e89"
            ],
            [
             0.6666666666666666,
             "#35b779"
            ],
            [
             0.7777777777777778,
             "#6ece58"
            ],
            [
             0.8888888888888888,
             "#b5de2b"
            ],
            [
             1,
             "#fde725"
            ]
           ]
          },
          "colorway": [
           "#1F77B4",
           "#FF7F0E",
           "#2CA02C",
           "#D62728",
           "#9467BD",
           "#8C564B",
           "#E377C2",
           "#7F7F7F",
           "#BCBD22",
           "#17BECF"
          ],
          "font": {
           "color": "rgb(36,36,36)"
          },
          "geo": {
           "bgcolor": "white",
           "lakecolor": "white",
           "landcolor": "white",
           "showlakes": true,
           "showland": true,
           "subunitcolor": "white"
          },
          "hoverlabel": {
           "align": "left"
          },
          "hovermode": "closest",
          "mapbox": {
           "style": "light"
          },
          "paper_bgcolor": "white",
          "plot_bgcolor": "white",
          "polar": {
           "angularaxis": {
            "gridcolor": "rgb(232,232,232)",
            "linecolor": "rgb(36,36,36)",
            "showgrid": false,
            "showline": true,
            "ticks": "outside"
           },
           "bgcolor": "white",
           "radialaxis": {
            "gridcolor": "rgb(232,232,232)",
            "linecolor": "rgb(36,36,36)",
            "showgrid": false,
            "showline": true,
            "ticks": "outside"
           }
          },
          "scene": {
           "xaxis": {
            "backgroundcolor": "white",
            "gridcolor": "rgb(232,232,232)",
            "gridwidth": 2,
            "linecolor": "rgb(36,36,36)",
            "showbackground": true,
            "showgrid": false,
            "showline": true,
            "ticks": "outside",
            "zeroline": false,
            "zerolinecolor": "rgb(36,36,36)"
           },
           "yaxis": {
            "backgroundcolor": "white",
            "gridcolor": "rgb(232,232,232)",
            "gridwidth": 2,
            "linecolor": "rgb(36,36,36)",
            "showbackground": true,
            "showgrid": false,
            "showline": true,
            "ticks": "outside",
            "zeroline": false,
            "zerolinecolor": "rgb(36,36,36)"
           },
           "zaxis": {
            "backgroundcolor": "white",
            "gridcolor": "rgb(232,232,232)",
            "gridwidth": 2,
            "linecolor": "rgb(36,36,36)",
            "showbackground": true,
            "showgrid": false,
            "showline": true,
            "ticks": "outside",
            "zeroline": false,
            "zerolinecolor": "rgb(36,36,36)"
           }
          },
          "shapedefaults": {
           "fillcolor": "black",
           "line": {
            "width": 0
           },
           "opacity": 0.3
          },
          "ternary": {
           "aaxis": {
            "gridcolor": "rgb(232,232,232)",
            "linecolor": "rgb(36,36,36)",
            "showgrid": false,
            "showline": true,
            "ticks": "outside"
           },
           "baxis": {
            "gridcolor": "rgb(232,232,232)",
            "linecolor": "rgb(36,36,36)",
            "showgrid": false,
            "showline": true,
            "ticks": "outside"
           },
           "bgcolor": "white",
           "caxis": {
            "gridcolor": "rgb(232,232,232)",
            "linecolor": "rgb(36,36,36)",
            "showgrid": false,
            "showline": true,
            "ticks": "outside"
           }
          },
          "title": {
           "x": 0.05
          },
          "xaxis": {
           "automargin": true,
           "gridcolor": "rgb(232,232,232)",
           "linecolor": "rgb(36,36,36)",
           "showgrid": false,
           "showline": true,
           "ticks": "outside",
           "title": {
            "standoff": 15
           },
           "zeroline": false,
           "zerolinecolor": "rgb(36,36,36)"
          },
          "yaxis": {
           "automargin": true,
           "gridcolor": "rgb(232,232,232)",
           "linecolor": "rgb(36,36,36)",
           "showgrid": false,
           "showline": true,
           "ticks": "outside",
           "title": {
            "standoff": 15
           },
           "zeroline": false,
           "zerolinecolor": "rgb(36,36,36)"
          }
         }
        },
        "title": {
         "text": "Distribution of Project Size by Fuel Type (project count)"
        },
        "xaxis": {
         "title": {
          "text": "Fuel Type"
         }
        },
        "yaxis": {
         "range": [
          0,
          3048.42
         ],
         "title": {
          "text": "Maximum Facility Output (MW)"
         }
        }
       }
      }
     },
     "metadata": {},
     "output_type": "display_data"
    }
   ],
   "source": [
    "import plotly.graph_objects as go\n",
    "\n",
    "# Drop missing values\n",
    "df = PJM_queued_plants.dropna(subset=['Fuel', 'MFO'])\n",
    "print(\"Unique fuels in df:\", df['Fuel'].unique())\n",
    "\n",
    "\n",
    "# Calculate average MFO and project counts per fuel\n",
    "stats = df.groupby('Fuel').agg(\n",
    "    avg_mfo=('MFO', 'mean'),\n",
    "    project_count=('MFO', 'count')\n",
    ").reset_index()\n",
    "\n",
    "# Sort by average MFO ascending\n",
    "stats = stats.sort_values('avg_mfo')\n",
    "\n",
    "# Sorted list of fuels\n",
    "sorted_fuels = stats['Fuel'].tolist()\n",
    "\n",
    "# Build box traces in sorted order\n",
    "data = []\n",
    "for fuel in sorted_fuels:\n",
    "    fuel_mfo = df[df['Fuel'] == fuel]['MFO']\n",
    "    trace = go.Box(\n",
    "        y=fuel_mfo,\n",
    "        name=fuel,\n",
    "        boxpoints='outliers',\n",
    "        marker=dict(size=4),\n",
    "        marker_color=fuel_color_map.get(fuel, '#888888'),\n",
    "        line=dict(width=1)\n",
    "    )\n",
    "    data.append(trace)\n",
    "\n",
    "# Create figure\n",
    "fig = go.Figure(data=data)\n",
    "\n",
    "# Add project count annotations on x-axis\n",
    "for i, row in stats.reset_index().iterrows():\n",
    "    fig.add_annotation(\n",
    "        x=i,\n",
    "        y=df['MFO'].max() * 1.05,  # slightly above max y\n",
    "        text=f\"({row['project_count']})\",\n",
    "        showarrow=False,\n",
    "        font=dict(size=12),\n",
    "        xanchor='center'\n",
    "    )\n",
    "\n",
    "# Update layout\n",
    "fig.update_layout(\n",
    "    title=\"Distribution of Project Size by Fuel Type (project count)\",\n",
    "    yaxis_title=\"Maximum Facility Output (MW)\",\n",
    "    xaxis_title=\"Fuel Type\",\n",
    "    template=\"simple_white\",\n",
    "    margin=dict(t=80),  # add top margin to fit annotations\n",
    "    yaxis=dict(range=[0, df['MFO'].max() * 1.15])\n",
    ")\n",
    "\n",
    "fig.show()\n"
   ]
  },
  {
   "cell_type": "code",
   "execution_count": 68,
   "id": "3f86f61a",
   "metadata": {},
   "outputs": [
    {
     "data": {
      "application/vnd.plotly.v1+json": {
       "config": {
        "plotlyServerURL": "https://plot.ly"
       },
       "data": [
        {
         "boxpoints": "outliers",
         "line": {
          "width": 1
         },
         "marker": {
          "color": "blue",
          "size": 4
         },
         "name": "Hydro",
         "type": "box",
         "y": {
          "bdata": "AAAAAAAALEAAAAAAAAAVQA==",
          "dtype": "f8"
         }
        },
        {
         "boxpoints": "outliers",
         "line": {
          "width": 1
         },
         "marker": {
          "color": "brown",
          "size": 4
         },
         "name": "Biomass",
         "type": "box",
         "y": {
          "bdata": "mpmZmZmZCUCkcD0K1yMkQAAAAAAAADRAAAAAAACAWEA=",
          "dtype": "f8"
         }
        },
        {
         "boxpoints": "outliers",
         "line": {
          "width": 1
         },
         "marker": {
          "color": "yellow",
          "size": 4
         },
         "name": "Storage ERIS",
         "type": "box",
         "y": {
          "bdata": "AAAAAAAAUkAAAAAAAABZQAAAAAAAAE5AmpmZmZn5WEAAAAAAAAAxQAAAAAAAMHRAAAAAAACAYUAAAAAAAAA0QAAAAAAAADRAAAAAAAAANEAAAAAAAAA0QAAAAAAAAERAZmZmZmamUEAAAAAAAEBaQAAAAAAAgFVAj8L1KFw/ZECPwvUoXD9kQAAAAAAAgEtAAAAAAACAUUAAAAAAAABJQAAAAAAAAE5AAAAAAAAAOUAAAAAAAAA0QAAAAAAAADRAAAAAAAAANEAAAAAAAAA0QA==",
          "dtype": "f8"
         }
        },
        {
         "boxpoints": "outliers",
         "line": {
          "width": 1
         },
         "marker": {
          "color": "green",
          "size": 4
         },
         "name": "Wind & Solar",
         "type": "box",
         "y": {
          "bdata": "AAAAAADgaEAAAAAAAAAkQA==",
          "dtype": "f8"
         }
        },
        {
         "boxpoints": "outliers",
         "line": {
          "width": 1
         },
         "marker": {
          "color": "orange",
          "size": 4
         },
         "name": "Solar & Storage",
         "type": "box",
         "y": {
          "bdata": "AAAAAACAS0AAAAAAAABeQAAAAAAAIHJAmpmZmZkZV0AAAAAAAIBbQDMzMzMzW5NAzczMzMysY0AAAAAAAKB0QAAAAAAAoGRAAAAAAABAWkAAAAAAAMBbQAAAAAAAAD5AAAAAAAAAM0AAAAAAAACJQAAAAAAAwGJAAAAAAADAckAAAAAAAIBOQAAAAAAAAElAmpmZmZnxhEBmZmZmZuZEQAAAAAAAAGlAAAAAAADAckAAAAAAAIBLQAAAAAAAADRAAAAAAAAANEAAAAAAAMBRQAAAAAAAAFRAzczMzMwsYEAzMzMzM/NIQAAAAAAAgFZAAAAAAACAZkDNzMzMzDhxQAAAAAAAAERAAAAAAACAW0AAAAAAAEBfQAAAAAAAAFlAAAAAAACAYkAAAAAAAABZQAAAAAAAwFdAAAAAAAAAWUAAAAAAAEBRQAAAAAAAoF9AAAAAAABAb0BmZmZmZo50QAAAAAAAADRAAAAAAADAYkBmZmZmZgZXQDMzMzMz80pAAAAAAAAAREAAAAAAAABOQAAAAAAAAFRAAAAAAABAVkAAAAAAAABEQGZmZmZmJmdAAAAAAAAAOUAAAAAAAMBiQAAAAAAAAFlAAAAAAADAYkAAAAAAAMBiQAAAAAAAAERAAAAAAABAU0DXo3A9CvdfQAAAAAAAQGBAAAAAAAAAaUAAAAAAAMBiQAAAAAAAQFBAAAAAAACAVkAAAAAAAMBYQAAAAAAAAFRAAAAAAAAANEAAAAAAAABJQAAAAAAAAFlAAAAAAACAYUAAAAAAAIBRQAAAAAAAwFJAAAAAAABAT0AAAAAAAMBiQAAAAAAAAHlAAAAAAAAASUAAAAAAAEBVQAAAAAAAQGVAAAAAAADAYkAAAAAAAMBSQAAAAAAAwFNAAAAAAABAUEAAAAAAAABZQAAAAAAAADRAAAAAAAAANEAAAAAAAAA0QAAAAAAAADRAAAAAAACAP0AAAAAAAIBaQAAAAAAAAF5AAAAAAAAATkAAAAAAAKBPQA==",
          "dtype": "f8"
         }
        },
        {
         "boxpoints": "outliers",
         "line": {
          "width": 1
         },
         "marker": {
          "color": "#FFCB00",
          "size": 4
         },
         "name": "Solar",
         "type": "box",
         "y": {
          "bdata": "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",
          "dtype": "f8"
         }
        },
        {
         "boxpoints": "outliers",
         "line": {
          "width": 1
         },
         "marker": {
          "color": "yellow",
          "size": 4
         },
         "name": "Storage",
         "type": "box",
         "y": {
          "bdata": "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",
          "dtype": "f8"
         }
        },
        {
         "boxpoints": "outliers",
         "line": {
          "width": 1
         },
         "marker": {
          "color": "#3DADF2",
          "size": 4
         },
         "name": "Wind",
         "type": "box",
         "y": {
          "bdata": "MzMzMzPzVUBmZmZmZiZSQDMzMzMza3JAAAAAAADAYkAAAAAAAOBTQAAAAAAA4GhAAAAAAADgZUAAAAAAAOBvQAAAAAAAwHdAAAAAAADAYkAAAAAAAMByQAAAAAAAQG9AAAAAAABAYEAAAAAAAMBiQOxRuB6Fv3JAAAAAAAAAaUAAAAAAAABpQAAAAAAAgGpAFK5H4XrcZ0AAAAAAAMByQAAAAAAAAGlAAAAAAAAAaUAAAAAAAOBvQJqZmZmZeVtAzczMzMxsZUAAAAAAAGBiQAAAAAAAwGJA",
          "dtype": "f8"
         }
        },
        {
         "boxpoints": "outliers",
         "line": {
          "width": 1
         },
         "marker": {
          "color": "#FFCB00",
          "size": 4
         },
         "name": "Solar ERIS",
         "type": "box",
         "y": {
          "bdata": "AAAAAABAf0AAAAAAAABpQAAAAAAAwHJAAAAAAABAcEAAAAAAAAAkQA==",
          "dtype": "f8"
         }
        },
        {
         "boxpoints": "outliers",
         "line": {
          "width": 1
         },
         "marker": {
          "color": "#000000",
          "size": 4
         },
         "name": "Coal",
         "type": "box",
         "y": {
          "bdata": "AAAAAADQgEA=",
          "dtype": "f8"
         }
        },
        {
         "boxpoints": "outliers",
         "line": {
          "width": 1
         },
         "marker": {
          "color": "darkblue",
          "size": 4
         },
         "name": "Offshore Wind",
         "type": "box",
         "y": {
          "bdata": "AAAAAACAe0AAAAAAAICLQM3MzMzMDHxAzczMzMwMjECamZmZmTF0QAAAAAAAUJRAAAAAAAAIikAAAAAAACCKQAAAAAAAoIlAzczMzMwAiUDNzMzMzACJQA==",
          "dtype": "f8"
         }
        },
        {
         "boxpoints": "outliers",
         "line": {
          "width": 1
         },
         "marker": {
          "color": "#58585b",
          "size": 4
         },
         "name": "Natural Gas",
         "type": "box",
         "y": {
          "bdata": "AAAAAACQiEAAAAAAAABrQAAAAAAAcHhAAAAAAADAhEAAAAAAACiZQAAAAAAA4H1AAAAAAADghUAAAAAAAJCIQAAAAAAAEIhAAAAAAAAQiEAAAAAAAKyKQHsUrkfh9IRAAAAAAACATkAzMzMzMzOJQI/C9ShcGYlAAAAAAABQlEAAAAAAAOiSQAAAAAAA8HtAAAAAAABQhEAAAAAAAFCVQAAAAAAADJdAAAAAAADQf0C0yHa+n1OOQAAAAAAAsIVAzczMzMxQkUAAAAAAAACOQAAAAAAAkJpAAAAAAABcjEAAAAAAAP6gQAAAAAAAqJZAAAAAAAColkCamZmZmXGUQAAAAAAAyJdAZmZmZmbug0AAAAAAAFiMQJqZmZmZBZJAAAAAAADWl0AAAAAAAFCFQAAAAAAAyIFAAAAAAADAZ0AAAAAAAMBnQAAAAAAAwGdAAAAAAABAj0AAAAAAAECIQAAAAAAAQIhAAAAAAABwm0AAAAAAAMCPQGZmZmZmOpRAAAAAAADAXEAAAAAAAOCEQBSuR+F63HRAAAAAAABQfEAAAAAAAIBQQAAAAAAAaKBAAAAAAABwfEAAAAAAAMBnQAAAAAAAIGpAAAAAAAAgakAAAAAAAMBnQAAAAAAAwGdA",
          "dtype": "f8"
         }
        },
        {
         "boxpoints": "outliers",
         "line": {
          "width": 1
         },
         "marker": {
          "color": "purple",
          "size": 4
         },
         "name": "Nuclear",
         "type": "box",
         "y": {
          "bdata": "AAAAAABAlUAAAAAAAMSjQAAAAAAAMKRAmpmZmZm1pEAAAAAAANiKQA==",
          "dtype": "f8"
         }
        }
       ],
       "layout": {
        "annotations": [
         {
          "font": {
           "size": 18
          },
          "showarrow": false,
          "text": "(2) <br> 10 MW",
          "x": 0,
          "xanchor": "center",
          "y": 2783.34
         },
         {
          "font": {
           "size": 18
          },
          "showarrow": false,
          "text": "(4) <br> 33 MW",
          "x": 1,
          "xanchor": "center",
          "y": 2783.34
         },
         {
          "font": {
           "size": 18
          },
          "showarrow": false,
          "text": "(26) <br> 71 MW",
          "x": 2,
          "xanchor": "center",
          "y": 2783.34
         },
         {
          "font": {
           "size": 18
          },
          "showarrow": false,
          "text": "(2) <br> 104 MW",
          "x": 3,
          "xanchor": "center",
          "y": 2783.34
         },
         {
          "font": {
           "size": 18
          },
          "showarrow": false,
          "text": "(95) <br> 134 MW",
          "x": 4,
          "xanchor": "center",
          "y": 2783.34
         },
         {
          "font": {
           "size": 18
          },
          "showarrow": false,
          "text": "(485) <br> 134 MW",
          "x": 5,
          "xanchor": "center",
          "y": 2783.34
         },
         {
          "font": {
           "size": 18
          },
          "showarrow": false,
          "text": "(267) <br> 191 MW",
          "x": 6,
          "xanchor": "center",
          "y": 2783.34
         },
         {
          "font": {
           "size": 18
          },
          "showarrow": false,
          "text": "(27) <br> 197 MW",
          "x": 7,
          "xanchor": "center",
          "y": 2783.34
         },
         {
          "font": {
           "size": 18
          },
          "showarrow": false,
          "text": "(5) <br> 254 MW",
          "x": 8,
          "xanchor": "center",
          "y": 2783.34
         },
         {
          "font": {
           "size": 18
          },
          "showarrow": false,
          "text": "(1) <br> 538 MW",
          "x": 9,
          "xanchor": "center",
          "y": 2783.34
         },
         {
          "font": {
           "size": 18
          },
          "showarrow": false,
          "text": "(11) <br> 762 MW",
          "x": 10,
          "xanchor": "center",
          "y": 2783.34
         },
         {
          "font": {
           "size": 18
          },
          "showarrow": false,
          "text": "(60) <br> 823 MW",
          "x": 11,
          "xanchor": "center",
          "y": 2783.34
         },
         {
          "font": {
           "size": 18
          },
          "showarrow": false,
          "text": "(5) <br> 1997 MW",
          "x": 12,
          "xanchor": "center",
          "y": 2783.34
         }
        ],
        "font": {
         "size": 20
        },
        "height": 800,
        "margin": {
         "t": 80
        },
        "template": {
         "data": {
          "bar": [
           {
            "error_x": {
             "color": "rgb(36,36,36)"
            },
            "error_y": {
             "color": "rgb(36,36,36)"
            },
            "marker": {
             "line": {
              "color": "white",
              "width": 0.5
             },
             "pattern": {
              "fillmode": "overlay",
              "size": 10,
              "solidity": 0.2
             }
            },
            "type": "bar"
           }
          ],
          "barpolar": [
           {
            "marker": {
             "line": {
              "color": "white",
              "width": 0.5
             },
             "pattern": {
              "fillmode": "overlay",
              "size": 10,
              "solidity": 0.2
             }
            },
            "type": "barpolar"
           }
          ],
          "carpet": [
           {
            "aaxis": {
             "endlinecolor": "rgb(36,36,36)",
             "gridcolor": "white",
             "linecolor": "white",
             "minorgridcolor": "white",
             "startlinecolor": "rgb(36,36,36)"
            },
            "baxis": {
             "endlinecolor": "rgb(36,36,36)",
             "gridcolor": "white",
             "linecolor": "white",
             "minorgridcolor": "white",
             "startlinecolor": "rgb(36,36,36)"
            },
            "type": "carpet"
           }
          ],
          "choropleth": [
           {
            "colorbar": {
             "outlinewidth": 1,
             "tickcolor": "rgb(36,36,36)",
             "ticks": "outside"
            },
            "type": "choropleth"
           }
          ],
          "contour": [
           {
            "colorbar": {
             "outlinewidth": 1,
             "tickcolor": "rgb(36,36,36)",
             "ticks": "outside"
            },
            "colorscale": [
             [
              0,
              "#440154"
             ],
             [
              0.1111111111111111,
              "#482878"
             ],
             [
              0.2222222222222222,
              "#3e4989"
             ],
             [
              0.3333333333333333,
              "#31688e"
             ],
             [
              0.4444444444444444,
              "#26828e"
             ],
             [
              0.5555555555555556,
              "#1f9e89"
             ],
             [
              0.6666666666666666,
              "#35b779"
             ],
             [
              0.7777777777777778,
              "#6ece58"
             ],
             [
              0.8888888888888888,
              "#b5de2b"
             ],
             [
              1,
              "#fde725"
             ]
            ],
            "type": "contour"
           }
          ],
          "contourcarpet": [
           {
            "colorbar": {
             "outlinewidth": 1,
             "tickcolor": "rgb(36,36,36)",
             "ticks": "outside"
            },
            "type": "contourcarpet"
           }
          ],
          "heatmap": [
           {
            "colorbar": {
             "outlinewidth": 1,
             "tickcolor": "rgb(36,36,36)",
             "ticks": "outside"
            },
            "colorscale": [
             [
              0,
              "#440154"
             ],
             [
              0.1111111111111111,
              "#482878"
             ],
             [
              0.2222222222222222,
              "#3e4989"
             ],
             [
              0.3333333333333333,
              "#31688e"
             ],
             [
              0.4444444444444444,
              "#26828e"
             ],
             [
              0.5555555555555556,
              "#1f9e89"
             ],
             [
              0.6666666666666666,
              "#35b779"
             ],
             [
              0.7777777777777778,
              "#6ece58"
             ],
             [
              0.8888888888888888,
              "#b5de2b"
             ],
             [
              1,
              "#fde725"
             ]
            ],
            "type": "heatmap"
           }
          ],
          "histogram": [
           {
            "marker": {
             "line": {
              "color": "white",
              "width": 0.6
             }
            },
            "type": "histogram"
           }
          ],
          "histogram2d": [
           {
            "colorbar": {
             "outlinewidth": 1,
             "tickcolor": "rgb(36,36,36)",
             "ticks": "outside"
            },
            "colorscale": [
             [
              0,
              "#440154"
             ],
             [
              0.1111111111111111,
              "#482878"
             ],
             [
              0.2222222222222222,
              "#3e4989"
             ],
             [
              0.3333333333333333,
              "#31688e"
             ],
             [
              0.4444444444444444,
              "#26828e"
             ],
             [
              0.5555555555555556,
              "#1f9e89"
             ],
             [
              0.6666666666666666,
              "#35b779"
             ],
             [
              0.7777777777777778,
              "#6ece58"
             ],
             [
              0.8888888888888888,
              "#b5de2b"
             ],
             [
              1,
              "#fde725"
             ]
            ],
            "type": "histogram2d"
           }
          ],
          "histogram2dcontour": [
           {
            "colorbar": {
             "outlinewidth": 1,
             "tickcolor": "rgb(36,36,36)",
             "ticks": "outside"
            },
            "colorscale": [
             [
              0,
              "#440154"
             ],
             [
              0.1111111111111111,
              "#482878"
             ],
             [
              0.2222222222222222,
              "#3e4989"
             ],
             [
              0.3333333333333333,
              "#31688e"
             ],
             [
              0.4444444444444444,
              "#26828e"
             ],
             [
              0.5555555555555556,
              "#1f9e89"
             ],
             [
              0.6666666666666666,
              "#35b779"
             ],
             [
              0.7777777777777778,
              "#6ece58"
             ],
             [
              0.8888888888888888,
              "#b5de2b"
             ],
             [
              1,
              "#fde725"
             ]
            ],
            "type": "histogram2dcontour"
           }
          ],
          "mesh3d": [
           {
            "colorbar": {
             "outlinewidth": 1,
             "tickcolor": "rgb(36,36,36)",
             "ticks": "outside"
            },
            "type": "mesh3d"
           }
          ],
          "parcoords": [
           {
            "line": {
             "colorbar": {
              "outlinewidth": 1,
              "tickcolor": "rgb(36,36,36)",
              "ticks": "outside"
             }
            },
            "type": "parcoords"
           }
          ],
          "pie": [
           {
            "automargin": true,
            "type": "pie"
           }
          ],
          "scatter": [
           {
            "fillpattern": {
             "fillmode": "overlay",
             "size": 10,
             "solidity": 0.2
            },
            "type": "scatter"
           }
          ],
          "scatter3d": [
           {
            "line": {
             "colorbar": {
              "outlinewidth": 1,
              "tickcolor": "rgb(36,36,36)",
              "ticks": "outside"
             }
            },
            "marker": {
             "colorbar": {
              "outlinewidth": 1,
              "tickcolor": "rgb(36,36,36)",
              "ticks": "outside"
             }
            },
            "type": "scatter3d"
           }
          ],
          "scattercarpet": [
           {
            "marker": {
             "colorbar": {
              "outlinewidth": 1,
              "tickcolor": "rgb(36,36,36)",
              "ticks": "outside"
             }
            },
            "type": "scattercarpet"
           }
          ],
          "scattergeo": [
           {
            "marker": {
             "colorbar": {
              "outlinewidth": 1,
              "tickcolor": "rgb(36,36,36)",
              "ticks": "outside"
             }
            },
            "type": "scattergeo"
           }
          ],
          "scattergl": [
           {
            "marker": {
             "colorbar": {
              "outlinewidth": 1,
              "tickcolor": "rgb(36,36,36)",
              "ticks": "outside"
             }
            },
            "type": "scattergl"
           }
          ],
          "scattermap": [
           {
            "marker": {
             "colorbar": {
              "outlinewidth": 1,
              "tickcolor": "rgb(36,36,36)",
              "ticks": "outside"
             }
            },
            "type": "scattermap"
           }
          ],
          "scattermapbox": [
           {
            "marker": {
             "colorbar": {
              "outlinewidth": 1,
              "tickcolor": "rgb(36,36,36)",
              "ticks": "outside"
             }
            },
            "type": "scattermapbox"
           }
          ],
          "scatterpolar": [
           {
            "marker": {
             "colorbar": {
              "outlinewidth": 1,
              "tickcolor": "rgb(36,36,36)",
              "ticks": "outside"
             }
            },
            "type": "scatterpolar"
           }
          ],
          "scatterpolargl": [
           {
            "marker": {
             "colorbar": {
              "outlinewidth": 1,
              "tickcolor": "rgb(36,36,36)",
              "ticks": "outside"
             }
            },
            "type": "scatterpolargl"
           }
          ],
          "scatterternary": [
           {
            "marker": {
             "colorbar": {
              "outlinewidth": 1,
              "tickcolor": "rgb(36,36,36)",
              "ticks": "outside"
             }
            },
            "type": "scatterternary"
           }
          ],
          "surface": [
           {
            "colorbar": {
             "outlinewidth": 1,
             "tickcolor": "rgb(36,36,36)",
             "ticks": "outside"
            },
            "colorscale": [
             [
              0,
              "#440154"
             ],
             [
              0.1111111111111111,
              "#482878"
             ],
             [
              0.2222222222222222,
              "#3e4989"
             ],
             [
              0.3333333333333333,
              "#31688e"
             ],
             [
              0.4444444444444444,
              "#26828e"
             ],
             [
              0.5555555555555556,
              "#1f9e89"
             ],
             [
              0.6666666666666666,
              "#35b779"
             ],
             [
              0.7777777777777778,
              "#6ece58"
             ],
             [
              0.8888888888888888,
              "#b5de2b"
             ],
             [
              1,
              "#fde725"
             ]
            ],
            "type": "surface"
           }
          ],
          "table": [
           {
            "cells": {
             "fill": {
              "color": "rgb(237,237,237)"
             },
             "line": {
              "color": "white"
             }
            },
            "header": {
             "fill": {
              "color": "rgb(217,217,217)"
             },
             "line": {
              "color": "white"
             }
            },
            "type": "table"
           }
          ]
         },
         "layout": {
          "annotationdefaults": {
           "arrowhead": 0,
           "arrowwidth": 1
          },
          "autotypenumbers": "strict",
          "coloraxis": {
           "colorbar": {
            "outlinewidth": 1,
            "tickcolor": "rgb(36,36,36)",
            "ticks": "outside"
           }
          },
          "colorscale": {
           "diverging": [
            [
             0,
             "rgb(103,0,31)"
            ],
            [
             0.1,
             "rgb(178,24,43)"
            ],
            [
             0.2,
             "rgb(214,96,77)"
            ],
            [
             0.3,
             "rgb(244,165,130)"
            ],
            [
             0.4,
             "rgb(253,219,199)"
            ],
            [
             0.5,
             "rgb(247,247,247)"
            ],
            [
             0.6,
             "rgb(209,229,240)"
            ],
            [
             0.7,
             "rgb(146,197,222)"
            ],
            [
             0.8,
             "rgb(67,147,195)"
            ],
            [
             0.9,
             "rgb(33,102,172)"
            ],
            [
             1,
             "rgb(5,48,97)"
            ]
           ],
           "sequential": [
            [
             0,
             "#440154"
            ],
            [
             0.1111111111111111,
             "#482878"
            ],
            [
             0.2222222222222222,
             "#3e4989"
            ],
            [
             0.3333333333333333,
             "#31688e"
            ],
            [
             0.4444444444444444,
             "#26828e"
            ],
            [
             0.5555555555555556,
             "#1f9e89"
            ],
            [
             0.6666666666666666,
             "#35b779"
            ],
            [
             0.7777777777777778,
             "#6ece58"
            ],
            [
             0.8888888888888888,
             "#b5de2b"
            ],
            [
             1,
             "#fde725"
            ]
           ],
           "sequentialminus": [
            [
             0,
             "#440154"
            ],
            [
             0.1111111111111111,
             "#482878"
            ],
            [
             0.2222222222222222,
             "#3e4989"
            ],
            [
             0.3333333333333333,
             "#31688e"
            ],
            [
             0.4444444444444444,
             "#26828e"
            ],
            [
             0.5555555555555556,
             "#1f9e89"
            ],
            [
             0.6666666666666666,
             "#35b779"
            ],
            [
             0.7777777777777778,
             "#6ece58"
            ],
            [
             0.8888888888888888,
             "#b5de2b"
            ],
            [
             1,
             "#fde725"
            ]
           ]
          },
          "colorway": [
           "#1F77B4",
           "#FF7F0E",
           "#2CA02C",
           "#D62728",
           "#9467BD",
           "#8C564B",
           "#E377C2",
           "#7F7F7F",
           "#BCBD22",
           "#17BECF"
          ],
          "font": {
           "color": "rgb(36,36,36)"
          },
          "geo": {
           "bgcolor": "white",
           "lakecolor": "white",
           "landcolor": "white",
           "showlakes": true,
           "showland": true,
           "subunitcolor": "white"
          },
          "hoverlabel": {
           "align": "left"
          },
          "hovermode": "closest",
          "mapbox": {
           "style": "light"
          },
          "paper_bgcolor": "white",
          "plot_bgcolor": "white",
          "polar": {
           "angularaxis": {
            "gridcolor": "rgb(232,232,232)",
            "linecolor": "rgb(36,36,36)",
            "showgrid": false,
            "showline": true,
            "ticks": "outside"
           },
           "bgcolor": "white",
           "radialaxis": {
            "gridcolor": "rgb(232,232,232)",
            "linecolor": "rgb(36,36,36)",
            "showgrid": false,
            "showline": true,
            "ticks": "outside"
           }
          },
          "scene": {
           "xaxis": {
            "backgroundcolor": "white",
            "gridcolor": "rgb(232,232,232)",
            "gridwidth": 2,
            "linecolor": "rgb(36,36,36)",
            "showbackground": true,
            "showgrid": false,
            "showline": true,
            "ticks": "outside",
            "zeroline": false,
            "zerolinecolor": "rgb(36,36,36)"
           },
           "yaxis": {
            "backgroundcolor": "white",
            "gridcolor": "rgb(232,232,232)",
            "gridwidth": 2,
            "linecolor": "rgb(36,36,36)",
            "showbackground": true,
            "showgrid": false,
            "showline": true,
            "ticks": "outside",
            "zeroline": false,
            "zerolinecolor": "rgb(36,36,36)"
           },
           "zaxis": {
            "backgroundcolor": "white",
            "gridcolor": "rgb(232,232,232)",
            "gridwidth": 2,
            "linecolor": "rgb(36,36,36)",
            "showbackground": true,
            "showgrid": false,
            "showline": true,
            "ticks": "outside",
            "zeroline": false,
            "zerolinecolor": "rgb(36,36,36)"
           }
          },
          "shapedefaults": {
           "fillcolor": "black",
           "line": {
            "width": 0
           },
           "opacity": 0.3
          },
          "ternary": {
           "aaxis": {
            "gridcolor": "rgb(232,232,232)",
            "linecolor": "rgb(36,36,36)",
            "showgrid": false,
            "showline": true,
            "ticks": "outside"
           },
           "baxis": {
            "gridcolor": "rgb(232,232,232)",
            "linecolor": "rgb(36,36,36)",
            "showgrid": false,
            "showline": true,
            "ticks": "outside"
           },
           "bgcolor": "white",
           "caxis": {
            "gridcolor": "rgb(232,232,232)",
            "linecolor": "rgb(36,36,36)",
            "showgrid": false,
            "showline": true,
            "ticks": "outside"
           }
          },
          "title": {
           "x": 0.05
          },
          "xaxis": {
           "automargin": true,
           "gridcolor": "rgb(232,232,232)",
           "linecolor": "rgb(36,36,36)",
           "showgrid": false,
           "showline": true,
           "ticks": "outside",
           "title": {
            "standoff": 15
           },
           "zeroline": false,
           "zerolinecolor": "rgb(36,36,36)"
          },
          "yaxis": {
           "automargin": true,
           "gridcolor": "rgb(232,232,232)",
           "linecolor": "rgb(36,36,36)",
           "showgrid": false,
           "showline": true,
           "ticks": "outside",
           "title": {
            "standoff": 15
           },
           "zeroline": false,
           "zerolinecolor": "rgb(36,36,36)"
          }
         }
        },
        "title": {
         "text": "Distribution of Project Size by Fuel Type (Project Count) and Average Size"
        },
        "xaxis": {
         "title": {
          "text": "Fuel Type"
         }
        },
        "yaxis": {
         "range": [
          0,
          3048.42
         ],
         "title": {
          "text": "Maximum Facility Output (MW)"
         }
        }
       }
      }
     },
     "metadata": {},
     "output_type": "display_data"
    }
   ],
   "source": [
    "import plotly.graph_objects as go\n",
    "\n",
    "# -- Base: All non-null Fuel and MFO rows --\n",
    "df_all = PJM_queued_plants.dropna(subset=['Fuel', 'MFO'])\n",
    "\n",
    "# -- Energy-only subset with relabeled Fuel --\n",
    "energy_df = PJM_queued_plants[\n",
    "    (PJM_queued_plants['Capacity or Energy'] == 'Energy') &\n",
    "    (PJM_queued_plants['Fuel'].notna()) &\n",
    "    (PJM_queued_plants['MFO'].notna())\n",
    "].copy()\n",
    "\n",
    "# Add \"+ ERIS\" to Fuel name for these rows\n",
    "energy_df['Fuel'] = energy_df['Fuel'] + ' ERIS'\n",
    "\n",
    "# -- Combine into one DataFrame --\n",
    "df_combined = pd.concat([df_all, energy_df], ignore_index=True)\n",
    "\n",
    "# -- Group and sort --\n",
    "stats = df_combined.groupby('Fuel').agg(\n",
    "    avg_mfo=('MFO', 'mean'),\n",
    "    project_count=('MFO', 'count')\n",
    ").reset_index()\n",
    "\n",
    "stats = stats.sort_values('avg_mfo')\n",
    "sorted_fuels = stats['Fuel'].tolist()\n",
    "\n",
    "# -- Create boxplots in sorted order --\n",
    "data = []\n",
    "for fuel in sorted_fuels:\n",
    "    fuel_mfo = df_combined[df_combined['Fuel'] == fuel]['MFO']\n",
    "    trace = go.Box(\n",
    "        y=fuel_mfo,\n",
    "        name=fuel,\n",
    "        boxpoints='outliers',\n",
    "        marker=dict(size=4),\n",
    "        marker_color=fuel_color_map.get(fuel.replace(' (ERIS)', ''), '#888888'),\n",
    "        line=dict(width=1)\n",
    "    )\n",
    "    data.append(trace)\n",
    "\n",
    "# -- Create plot --\n",
    "fig = go.Figure(data=data)\n",
    "\n",
    "# -- Add project count annotations --\n",
    "# -- Add project count + mean MFO annotations --\n",
    "for i, row in stats.reset_index(drop=True).iterrows():\n",
    "    fig.add_annotation(\n",
    "        x=i,\n",
    "        y=df_combined['MFO'].max() * 1.05,\n",
    "        text=f\"({row['project_count']}) <br> {row['avg_mfo']:.0f} MW\",\n",
    "        showarrow=False,\n",
    "        font=dict(size=18),\n",
    "        xanchor='center',\n",
    "\n",
    "\n",
    "        \n",
    "    )\n",
    "\n",
    "# -- Layout --\n",
    "fig.update_layout(\n",
    "    title=\"Distribution of Project Size by Fuel Type (Project Count) and Average Size\",\n",
    "    yaxis_title=\"Maximum Facility Output (MW)\",\n",
    "    xaxis_title=\"Fuel Type\",\n",
    "    template=\"simple_white\",\n",
    "    margin=dict(t=80),\n",
    "    yaxis=dict(range=[0, df_combined['MFO'].max() * 1.15]),\n",
    "    height=800,\n",
    "    font=dict(size=20),\n",
    ")\n",
    "\n",
    "fig.show()\n"
   ]
  },
  {
   "cell_type": "code",
   "execution_count": 69,
   "id": "f567137e",
   "metadata": {},
   "outputs": [
    {
     "data": {
      "application/vnd.plotly.v1+json": {
       "config": {
        "plotlyServerURL": "https://plot.ly"
       },
       "data": [
        {
         "hoverinfo": "label+percent+value",
         "labels": [
          "Natural Gas",
          "Nuclear",
          "Offshore Wind",
          "Solar",
          "Solar & Storage",
          "Storage",
          "Wind",
          "Other"
         ],
         "marker": {
          "colors": [
           "#58585b",
           "purple",
           "darkblue",
           "#FFCB00",
           "#888888",
           "yellow",
           "#3DADF2"
          ]
         },
         "textfont": {
          "size": 14
         },
         "texttemplate": "%{label} %{percent:.0%}",
         "type": "pie",
         "values": {
          "bdata": "dZMYBAog6EBmZmZm5n/DQJqZmZlZXcBAf2q8dFvI70CuR+F6FNHIQLgehesp9OhA9ihcj8K9tEBcj8L1KAyMQA==",
          "dtype": "f8"
         }
        }
       ],
       "layout": {
        "template": {
         "data": {
          "bar": [
           {
            "error_x": {
             "color": "rgb(36,36,36)"
            },
            "error_y": {
             "color": "rgb(36,36,36)"
            },
            "marker": {
             "line": {
              "color": "white",
              "width": 0.5
             },
             "pattern": {
              "fillmode": "overlay",
              "size": 10,
              "solidity": 0.2
             }
            },
            "type": "bar"
           }
          ],
          "barpolar": [
           {
            "marker": {
             "line": {
              "color": "white",
              "width": 0.5
             },
             "pattern": {
              "fillmode": "overlay",
              "size": 10,
              "solidity": 0.2
             }
            },
            "type": "barpolar"
           }
          ],
          "carpet": [
           {
            "aaxis": {
             "endlinecolor": "rgb(36,36,36)",
             "gridcolor": "white",
             "linecolor": "white",
             "minorgridcolor": "white",
             "startlinecolor": "rgb(36,36,36)"
            },
            "baxis": {
             "endlinecolor": "rgb(36,36,36)",
             "gridcolor": "white",
             "linecolor": "white",
             "minorgridcolor": "white",
             "startlinecolor": "rgb(36,36,36)"
            },
            "type": "carpet"
           }
          ],
          "choropleth": [
           {
            "colorbar": {
             "outlinewidth": 1,
             "tickcolor": "rgb(36,36,36)",
             "ticks": "outside"
            },
            "type": "choropleth"
           }
          ],
          "contour": [
           {
            "colorbar": {
             "outlinewidth": 1,
             "tickcolor": "rgb(36,36,36)",
             "ticks": "outside"
            },
            "colorscale": [
             [
              0,
              "#440154"
             ],
             [
              0.1111111111111111,
              "#482878"
             ],
             [
              0.2222222222222222,
              "#3e4989"
             ],
             [
              0.3333333333333333,
              "#31688e"
             ],
             [
              0.4444444444444444,
              "#26828e"
             ],
             [
              0.5555555555555556,
              "#1f9e89"
             ],
             [
              0.6666666666666666,
              "#35b779"
             ],
             [
              0.7777777777777778,
              "#6ece58"
             ],
             [
              0.8888888888888888,
              "#b5de2b"
             ],
             [
              1,
              "#fde725"
             ]
            ],
            "type": "contour"
           }
          ],
          "contourcarpet": [
           {
            "colorbar": {
             "outlinewidth": 1,
             "tickcolor": "rgb(36,36,36)",
             "ticks": "outside"
            },
            "type": "contourcarpet"
           }
          ],
          "heatmap": [
           {
            "colorbar": {
             "outlinewidth": 1,
             "tickcolor": "rgb(36,36,36)",
             "ticks": "outside"
            },
            "colorscale": [
             [
              0,
              "#440154"
             ],
             [
              0.1111111111111111,
              "#482878"
             ],
             [
              0.2222222222222222,
              "#3e4989"
             ],
             [
              0.3333333333333333,
              "#31688e"
             ],
             [
              0.4444444444444444,
              "#26828e"
             ],
             [
              0.5555555555555556,
              "#1f9e89"
             ],
             [
              0.6666666666666666,
              "#35b779"
             ],
             [
              0.7777777777777778,
              "#6ece58"
             ],
             [
              0.8888888888888888,
              "#b5de2b"
             ],
             [
              1,
              "#fde725"
             ]
            ],
            "type": "heatmap"
           }
          ],
          "histogram": [
           {
            "marker": {
             "line": {
              "color": "white",
              "width": 0.6
             }
            },
            "type": "histogram"
           }
          ],
          "histogram2d": [
           {
            "colorbar": {
             "outlinewidth": 1,
             "tickcolor": "rgb(36,36,36)",
             "ticks": "outside"
            },
            "colorscale": [
             [
              0,
              "#440154"
             ],
             [
              0.1111111111111111,
              "#482878"
             ],
             [
              0.2222222222222222,
              "#3e4989"
             ],
             [
              0.3333333333333333,
              "#31688e"
             ],
             [
              0.4444444444444444,
              "#26828e"
             ],
             [
              0.5555555555555556,
              "#1f9e89"
             ],
             [
              0.6666666666666666,
              "#35b779"
             ],
             [
              0.7777777777777778,
              "#6ece58"
             ],
             [
              0.8888888888888888,
              "#b5de2b"
             ],
             [
              1,
              "#fde725"
             ]
            ],
            "type": "histogram2d"
           }
          ],
          "histogram2dcontour": [
           {
            "colorbar": {
             "outlinewidth": 1,
             "tickcolor": "rgb(36,36,36)",
             "ticks": "outside"
            },
            "colorscale": [
             [
              0,
              "#440154"
             ],
             [
              0.1111111111111111,
              "#482878"
             ],
             [
              0.2222222222222222,
              "#3e4989"
             ],
             [
              0.3333333333333333,
              "#31688e"
             ],
             [
              0.4444444444444444,
              "#26828e"
             ],
             [
              0.5555555555555556,
              "#1f9e89"
             ],
             [
              0.6666666666666666,
              "#35b779"
             ],
             [
              0.7777777777777778,
              "#6ece58"
             ],
             [
              0.8888888888888888,
              "#b5de2b"
             ],
             [
              1,
              "#fde725"
             ]
            ],
            "type": "histogram2dcontour"
           }
          ],
          "mesh3d": [
           {
            "colorbar": {
             "outlinewidth": 1,
             "tickcolor": "rgb(36,36,36)",
             "ticks": "outside"
            },
            "type": "mesh3d"
           }
          ],
          "parcoords": [
           {
            "line": {
             "colorbar": {
              "outlinewidth": 1,
              "tickcolor": "rgb(36,36,36)",
              "ticks": "outside"
             }
            },
            "type": "parcoords"
           }
          ],
          "pie": [
           {
            "automargin": true,
            "type": "pie"
           }
          ],
          "scatter": [
           {
            "fillpattern": {
             "fillmode": "overlay",
             "size": 10,
             "solidity": 0.2
            },
            "type": "scatter"
           }
          ],
          "scatter3d": [
           {
            "line": {
             "colorbar": {
              "outlinewidth": 1,
              "tickcolor": "rgb(36,36,36)",
              "ticks": "outside"
             }
            },
            "marker": {
             "colorbar": {
              "outlinewidth": 1,
              "tickcolor": "rgb(36,36,36)",
              "ticks": "outside"
             }
            },
            "type": "scatter3d"
           }
          ],
          "scattercarpet": [
           {
            "marker": {
             "colorbar": {
              "outlinewidth": 1,
              "tickcolor": "rgb(36,36,36)",
              "ticks": "outside"
             }
            },
            "type": "scattercarpet"
           }
          ],
          "scattergeo": [
           {
            "marker": {
             "colorbar": {
              "outlinewidth": 1,
              "tickcolor": "rgb(36,36,36)",
              "ticks": "outside"
             }
            },
            "type": "scattergeo"
           }
          ],
          "scattergl": [
           {
            "marker": {
             "colorbar": {
              "outlinewidth": 1,
              "tickcolor": "rgb(36,36,36)",
              "ticks": "outside"
             }
            },
            "type": "scattergl"
           }
          ],
          "scattermap": [
           {
            "marker": {
             "colorbar": {
              "outlinewidth": 1,
              "tickcolor": "rgb(36,36,36)",
              "ticks": "outside"
             }
            },
            "type": "scattermap"
           }
          ],
          "scattermapbox": [
           {
            "marker": {
             "colorbar": {
              "outlinewidth": 1,
              "tickcolor": "rgb(36,36,36)",
              "ticks": "outside"
             }
            },
            "type": "scattermapbox"
           }
          ],
          "scatterpolar": [
           {
            "marker": {
             "colorbar": {
              "outlinewidth": 1,
              "tickcolor": "rgb(36,36,36)",
              "ticks": "outside"
             }
            },
            "type": "scatterpolar"
           }
          ],
          "scatterpolargl": [
           {
            "marker": {
             "colorbar": {
              "outlinewidth": 1,
              "tickcolor": "rgb(36,36,36)",
              "ticks": "outside"
             }
            },
            "type": "scatterpolargl"
           }
          ],
          "scatterternary": [
           {
            "marker": {
             "colorbar": {
              "outlinewidth": 1,
              "tickcolor": "rgb(36,36,36)",
              "ticks": "outside"
             }
            },
            "type": "scatterternary"
           }
          ],
          "surface": [
           {
            "colorbar": {
             "outlinewidth": 1,
             "tickcolor": "rgb(36,36,36)",
             "ticks": "outside"
            },
            "colorscale": [
             [
              0,
              "#440154"
             ],
             [
              0.1111111111111111,
              "#482878"
             ],
             [
              0.2222222222222222,
              "#3e4989"
             ],
             [
              0.3333333333333333,
              "#31688e"
             ],
             [
              0.4444444444444444,
              "#26828e"
             ],
             [
              0.5555555555555556,
              "#1f9e89"
             ],
             [
              0.6666666666666666,
              "#35b779"
             ],
             [
              0.7777777777777778,
              "#6ece58"
             ],
             [
              0.8888888888888888,
              "#b5de2b"
             ],
             [
              1,
              "#fde725"
             ]
            ],
            "type": "surface"
           }
          ],
          "table": [
           {
            "cells": {
             "fill": {
              "color": "rgb(237,237,237)"
             },
             "line": {
              "color": "white"
             }
            },
            "header": {
             "fill": {
              "color": "rgb(217,217,217)"
             },
             "line": {
              "color": "white"
             }
            },
            "type": "table"
           }
          ]
         },
         "layout": {
          "annotationdefaults": {
           "arrowhead": 0,
           "arrowwidth": 1
          },
          "autotypenumbers": "strict",
          "coloraxis": {
           "colorbar": {
            "outlinewidth": 1,
            "tickcolor": "rgb(36,36,36)",
            "ticks": "outside"
           }
          },
          "colorscale": {
           "diverging": [
            [
             0,
             "rgb(103,0,31)"
            ],
            [
             0.1,
             "rgb(178,24,43)"
            ],
            [
             0.2,
             "rgb(214,96,77)"
            ],
            [
             0.3,
             "rgb(244,165,130)"
            ],
            [
             0.4,
             "rgb(253,219,199)"
            ],
            [
             0.5,
             "rgb(247,247,247)"
            ],
            [
             0.6,
             "rgb(209,229,240)"
            ],
            [
             0.7,
             "rgb(146,197,222)"
            ],
            [
             0.8,
             "rgb(67,147,195)"
            ],
            [
             0.9,
             "rgb(33,102,172)"
            ],
            [
             1,
             "rgb(5,48,97)"
            ]
           ],
           "sequential": [
            [
             0,
             "#440154"
            ],
            [
             0.1111111111111111,
             "#482878"
            ],
            [
             0.2222222222222222,
             "#3e4989"
            ],
            [
             0.3333333333333333,
             "#31688e"
            ],
            [
             0.4444444444444444,
             "#26828e"
            ],
            [
             0.5555555555555556,
             "#1f9e89"
            ],
            [
             0.6666666666666666,
             "#35b779"
            ],
            [
             0.7777777777777778,
             "#6ece58"
            ],
            [
             0.8888888888888888,
             "#b5de2b"
            ],
            [
             1,
             "#fde725"
            ]
           ],
           "sequentialminus": [
            [
             0,
             "#440154"
            ],
            [
             0.1111111111111111,
             "#482878"
            ],
            [
             0.2222222222222222,
             "#3e4989"
            ],
            [
             0.3333333333333333,
             "#31688e"
            ],
            [
             0.4444444444444444,
             "#26828e"
            ],
            [
             0.5555555555555556,
             "#1f9e89"
            ],
            [
             0.6666666666666666,
             "#35b779"
            ],
            [
             0.7777777777777778,
             "#6ece58"
            ],
            [
             0.8888888888888888,
             "#b5de2b"
            ],
            [
             1,
             "#fde725"
            ]
           ]
          },
          "colorway": [
           "#1F77B4",
           "#FF7F0E",
           "#2CA02C",
           "#D62728",
           "#9467BD",
           "#8C564B",
           "#E377C2",
           "#7F7F7F",
           "#BCBD22",
           "#17BECF"
          ],
          "font": {
           "color": "rgb(36,36,36)"
          },
          "geo": {
           "bgcolor": "white",
           "lakecolor": "white",
           "landcolor": "white",
           "showlakes": true,
           "showland": true,
           "subunitcolor": "white"
          },
          "hoverlabel": {
           "align": "left"
          },
          "hovermode": "closest",
          "mapbox": {
           "style": "light"
          },
          "paper_bgcolor": "white",
          "plot_bgcolor": "white",
          "polar": {
           "angularaxis": {
            "gridcolor": "rgb(232,232,232)",
            "linecolor": "rgb(36,36,36)",
            "showgrid": false,
            "showline": true,
            "ticks": "outside"
           },
           "bgcolor": "white",
           "radialaxis": {
            "gridcolor": "rgb(232,232,232)",
            "linecolor": "rgb(36,36,36)",
            "showgrid": false,
            "showline": true,
            "ticks": "outside"
           }
          },
          "scene": {
           "xaxis": {
            "backgroundcolor": "white",
            "gridcolor": "rgb(232,232,232)",
            "gridwidth": 2,
            "linecolor": "rgb(36,36,36)",
            "showbackground": true,
            "showgrid": false,
            "showline": true,
            "ticks": "outside",
            "zeroline": false,
            "zerolinecolor": "rgb(36,36,36)"
           },
           "yaxis": {
            "backgroundcolor": "white",
            "gridcolor": "rgb(232,232,232)",
            "gridwidth": 2,
            "linecolor": "rgb(36,36,36)",
            "showbackground": true,
            "showgrid": false,
            "showline": true,
            "ticks": "outside",
            "zeroline": false,
            "zerolinecolor": "rgb(36,36,36)"
           },
           "zaxis": {
            "backgroundcolor": "white",
            "gridcolor": "rgb(232,232,232)",
            "gridwidth": 2,
            "linecolor": "rgb(36,36,36)",
            "showbackground": true,
            "showgrid": false,
            "showline": true,
            "ticks": "outside",
            "zeroline": false,
            "zerolinecolor": "rgb(36,36,36)"
           }
          },
          "shapedefaults": {
           "fillcolor": "black",
           "line": {
            "width": 0
           },
           "opacity": 0.3
          },
          "ternary": {
           "aaxis": {
            "gridcolor": "rgb(232,232,232)",
            "linecolor": "rgb(36,36,36)",
            "showgrid": false,
            "showline": true,
            "ticks": "outside"
           },
           "baxis": {
            "gridcolor": "rgb(232,232,232)",
            "linecolor": "rgb(36,36,36)",
            "showgrid": false,
            "showline": true,
            "ticks": "outside"
           },
           "bgcolor": "white",
           "caxis": {
            "gridcolor": "rgb(232,232,232)",
            "linecolor": "rgb(36,36,36)",
            "showgrid": false,
            "showline": true,
            "ticks": "outside"
           }
          },
          "title": {
           "x": 0.05
          },
          "xaxis": {
           "automargin": true,
           "gridcolor": "rgb(232,232,232)",
           "linecolor": "rgb(36,36,36)",
           "showgrid": false,
           "showline": true,
           "ticks": "outside",
           "title": {
            "standoff": 15
           },
           "zeroline": false,
           "zerolinecolor": "rgb(36,36,36)"
          },
          "yaxis": {
           "automargin": true,
           "gridcolor": "rgb(232,232,232)",
           "linecolor": "rgb(36,36,36)",
           "showgrid": false,
           "showline": true,
           "ticks": "outside",
           "title": {
            "standoff": 15
           },
           "zeroline": false,
           "zerolinecolor": "rgb(36,36,36)"
          }
         }
        },
        "title": {
         "text": "Total MFO by Fuel Type (Grouping <1% as Other)"
        }
       }
      }
     },
     "metadata": {},
     "output_type": "display_data"
    },
    {
     "data": {
      "application/vnd.plotly.v1+json": {
       "config": {
        "plotlyServerURL": "https://plot.ly"
       },
       "data": [
        {
         "hoverinfo": "label+percent+value",
         "labels": [
          "Natural Gas",
          "Offshore Wind",
          "Solar",
          "Solar & Storage",
          "Storage",
          "Wind",
          "Other"
         ],
         "marker": {
          "colors": [
           "#58585b",
           "darkblue",
           "#FFCB00",
           "#888888",
           "yellow",
           "#3DADF2"
          ]
         },
         "textfont": {
          "size": 14
         },
         "texttemplate": "%{label} %{percent:.0%}",
         "type": "pie",
         "values": {
          "bdata": "PAALAOUBXwALARsADgA=",
          "dtype": "i2"
         }
        }
       ],
       "layout": {
        "template": {
         "data": {
          "bar": [
           {
            "error_x": {
             "color": "rgb(36,36,36)"
            },
            "error_y": {
             "color": "rgb(36,36,36)"
            },
            "marker": {
             "line": {
              "color": "white",
              "width": 0.5
             },
             "pattern": {
              "fillmode": "overlay",
              "size": 10,
              "solidity": 0.2
             }
            },
            "type": "bar"
           }
          ],
          "barpolar": [
           {
            "marker": {
             "line": {
              "color": "white",
              "width": 0.5
             },
             "pattern": {
              "fillmode": "overlay",
              "size": 10,
              "solidity": 0.2
             }
            },
            "type": "barpolar"
           }
          ],
          "carpet": [
           {
            "aaxis": {
             "endlinecolor": "rgb(36,36,36)",
             "gridcolor": "white",
             "linecolor": "white",
             "minorgridcolor": "white",
             "startlinecolor": "rgb(36,36,36)"
            },
            "baxis": {
             "endlinecolor": "rgb(36,36,36)",
             "gridcolor": "white",
             "linecolor": "white",
             "minorgridcolor": "white",
             "startlinecolor": "rgb(36,36,36)"
            },
            "type": "carpet"
           }
          ],
          "choropleth": [
           {
            "colorbar": {
             "outlinewidth": 1,
             "tickcolor": "rgb(36,36,36)",
             "ticks": "outside"
            },
            "type": "choropleth"
           }
          ],
          "contour": [
           {
            "colorbar": {
             "outlinewidth": 1,
             "tickcolor": "rgb(36,36,36)",
             "ticks": "outside"
            },
            "colorscale": [
             [
              0,
              "#440154"
             ],
             [
              0.1111111111111111,
              "#482878"
             ],
             [
              0.2222222222222222,
              "#3e4989"
             ],
             [
              0.3333333333333333,
              "#31688e"
             ],
             [
              0.4444444444444444,
              "#26828e"
             ],
             [
              0.5555555555555556,
              "#1f9e89"
             ],
             [
              0.6666666666666666,
              "#35b779"
             ],
             [
              0.7777777777777778,
              "#6ece58"
             ],
             [
              0.8888888888888888,
              "#b5de2b"
             ],
             [
              1,
              "#fde725"
             ]
            ],
            "type": "contour"
           }
          ],
          "contourcarpet": [
           {
            "colorbar": {
             "outlinewidth": 1,
             "tickcolor": "rgb(36,36,36)",
             "ticks": "outside"
            },
            "type": "contourcarpet"
           }
          ],
          "heatmap": [
           {
            "colorbar": {
             "outlinewidth": 1,
             "tickcolor": "rgb(36,36,36)",
             "ticks": "outside"
            },
            "colorscale": [
             [
              0,
              "#440154"
             ],
             [
              0.1111111111111111,
              "#482878"
             ],
             [
              0.2222222222222222,
              "#3e4989"
             ],
             [
              0.3333333333333333,
              "#31688e"
             ],
             [
              0.4444444444444444,
              "#26828e"
             ],
             [
              0.5555555555555556,
              "#1f9e89"
             ],
             [
              0.6666666666666666,
              "#35b779"
             ],
             [
              0.7777777777777778,
              "#6ece58"
             ],
             [
              0.8888888888888888,
              "#b5de2b"
             ],
             [
              1,
              "#fde725"
             ]
            ],
            "type": "heatmap"
           }
          ],
          "histogram": [
           {
            "marker": {
             "line": {
              "color": "white",
              "width": 0.6
             }
            },
            "type": "histogram"
           }
          ],
          "histogram2d": [
           {
            "colorbar": {
             "outlinewidth": 1,
             "tickcolor": "rgb(36,36,36)",
             "ticks": "outside"
            },
            "colorscale": [
             [
              0,
              "#440154"
             ],
             [
              0.1111111111111111,
              "#482878"
             ],
             [
              0.2222222222222222,
              "#3e4989"
             ],
             [
              0.3333333333333333,
              "#31688e"
             ],
             [
              0.4444444444444444,
              "#26828e"
             ],
             [
              0.5555555555555556,
              "#1f9e89"
             ],
             [
              0.6666666666666666,
              "#35b779"
             ],
             [
              0.7777777777777778,
              "#6ece58"
             ],
             [
              0.8888888888888888,
              "#b5de2b"
             ],
             [
              1,
              "#fde725"
             ]
            ],
            "type": "histogram2d"
           }
          ],
          "histogram2dcontour": [
           {
            "colorbar": {
             "outlinewidth": 1,
             "tickcolor": "rgb(36,36,36)",
             "ticks": "outside"
            },
            "colorscale": [
             [
              0,
              "#440154"
             ],
             [
              0.1111111111111111,
              "#482878"
             ],
             [
              0.2222222222222222,
              "#3e4989"
             ],
             [
              0.3333333333333333,
              "#31688e"
             ],
             [
              0.4444444444444444,
              "#26828e"
             ],
             [
              0.5555555555555556,
              "#1f9e89"
             ],
             [
              0.6666666666666666,
              "#35b779"
             ],
             [
              0.7777777777777778,
              "#6ece58"
             ],
             [
              0.8888888888888888,
              "#b5de2b"
             ],
             [
              1,
              "#fde725"
             ]
            ],
            "type": "histogram2dcontour"
           }
          ],
          "mesh3d": [
           {
            "colorbar": {
             "outlinewidth": 1,
             "tickcolor": "rgb(36,36,36)",
             "ticks": "outside"
            },
            "type": "mesh3d"
           }
          ],
          "parcoords": [
           {
            "line": {
             "colorbar": {
              "outlinewidth": 1,
              "tickcolor": "rgb(36,36,36)",
              "ticks": "outside"
             }
            },
            "type": "parcoords"
           }
          ],
          "pie": [
           {
            "automargin": true,
            "type": "pie"
           }
          ],
          "scatter": [
           {
            "fillpattern": {
             "fillmode": "overlay",
             "size": 10,
             "solidity": 0.2
            },
            "type": "scatter"
           }
          ],
          "scatter3d": [
           {
            "line": {
             "colorbar": {
              "outlinewidth": 1,
              "tickcolor": "rgb(36,36,36)",
              "ticks": "outside"
             }
            },
            "marker": {
             "colorbar": {
              "outlinewidth": 1,
              "tickcolor": "rgb(36,36,36)",
              "ticks": "outside"
             }
            },
            "type": "scatter3d"
           }
          ],
          "scattercarpet": [
           {
            "marker": {
             "colorbar": {
              "outlinewidth": 1,
              "tickcolor": "rgb(36,36,36)",
              "ticks": "outside"
             }
            },
            "type": "scattercarpet"
           }
          ],
          "scattergeo": [
           {
            "marker": {
             "colorbar": {
              "outlinewidth": 1,
              "tickcolor": "rgb(36,36,36)",
              "ticks": "outside"
             }
            },
            "type": "scattergeo"
           }
          ],
          "scattergl": [
           {
            "marker": {
             "colorbar": {
              "outlinewidth": 1,
              "tickcolor": "rgb(36,36,36)",
              "ticks": "outside"
             }
            },
            "type": "scattergl"
           }
          ],
          "scattermap": [
           {
            "marker": {
             "colorbar": {
              "outlinewidth": 1,
              "tickcolor": "rgb(36,36,36)",
              "ticks": "outside"
             }
            },
            "type": "scattermap"
           }
          ],
          "scattermapbox": [
           {
            "marker": {
             "colorbar": {
              "outlinewidth": 1,
              "tickcolor": "rgb(36,36,36)",
              "ticks": "outside"
             }
            },
            "type": "scattermapbox"
           }
          ],
          "scatterpolar": [
           {
            "marker": {
             "colorbar": {
              "outlinewidth": 1,
              "tickcolor": "rgb(36,36,36)",
              "ticks": "outside"
             }
            },
            "type": "scatterpolar"
           }
          ],
          "scatterpolargl": [
           {
            "marker": {
             "colorbar": {
              "outlinewidth": 1,
              "tickcolor": "rgb(36,36,36)",
              "ticks": "outside"
             }
            },
            "type": "scatterpolargl"
           }
          ],
          "scatterternary": [
           {
            "marker": {
             "colorbar": {
              "outlinewidth": 1,
              "tickcolor": "rgb(36,36,36)",
              "ticks": "outside"
             }
            },
            "type": "scatterternary"
           }
          ],
          "surface": [
           {
            "colorbar": {
             "outlinewidth": 1,
             "tickcolor": "rgb(36,36,36)",
             "ticks": "outside"
            },
            "colorscale": [
             [
              0,
              "#440154"
             ],
             [
              0.1111111111111111,
              "#482878"
             ],
             [
              0.2222222222222222,
              "#3e4989"
             ],
             [
              0.3333333333333333,
              "#31688e"
             ],
             [
              0.4444444444444444,
              "#26828e"
             ],
             [
              0.5555555555555556,
              "#1f9e89"
             ],
             [
              0.6666666666666666,
              "#35b779"
             ],
             [
              0.7777777777777778,
              "#6ece58"
             ],
             [
              0.8888888888888888,
              "#b5de2b"
             ],
             [
              1,
              "#fde725"
             ]
            ],
            "type": "surface"
           }
          ],
          "table": [
           {
            "cells": {
             "fill": {
              "color": "rgb(237,237,237)"
             },
             "line": {
              "color": "white"
             }
            },
            "header": {
             "fill": {
              "color": "rgb(217,217,217)"
             },
             "line": {
              "color": "white"
             }
            },
            "type": "table"
           }
          ]
         },
         "layout": {
          "annotationdefaults": {
           "arrowhead": 0,
           "arrowwidth": 1
          },
          "autotypenumbers": "strict",
          "coloraxis": {
           "colorbar": {
            "outlinewidth": 1,
            "tickcolor": "rgb(36,36,36)",
            "ticks": "outside"
           }
          },
          "colorscale": {
           "diverging": [
            [
             0,
             "rgb(103,0,31)"
            ],
            [
             0.1,
             "rgb(178,24,43)"
            ],
            [
             0.2,
             "rgb(214,96,77)"
            ],
            [
             0.3,
             "rgb(244,165,130)"
            ],
            [
             0.4,
             "rgb(253,219,199)"
            ],
            [
             0.5,
             "rgb(247,247,247)"
            ],
            [
             0.6,
             "rgb(209,229,240)"
            ],
            [
             0.7,
             "rgb(146,197,222)"
            ],
            [
             0.8,
             "rgb(67,147,195)"
            ],
            [
             0.9,
             "rgb(33,102,172)"
            ],
            [
             1,
             "rgb(5,48,97)"
            ]
           ],
           "sequential": [
            [
             0,
             "#440154"
            ],
            [
             0.1111111111111111,
             "#482878"
            ],
            [
             0.2222222222222222,
             "#3e4989"
            ],
            [
             0.3333333333333333,
             "#31688e"
            ],
            [
             0.4444444444444444,
             "#26828e"
            ],
            [
             0.5555555555555556,
             "#1f9e89"
            ],
            [
             0.6666666666666666,
             "#35b779"
            ],
            [
             0.7777777777777778,
             "#6ece58"
            ],
            [
             0.8888888888888888,
             "#b5de2b"
            ],
            [
             1,
             "#fde725"
            ]
           ],
           "sequentialminus": [
            [
             0,
             "#440154"
            ],
            [
             0.1111111111111111,
             "#482878"
            ],
            [
             0.2222222222222222,
             "#3e4989"
            ],
            [
             0.3333333333333333,
             "#31688e"
            ],
            [
             0.4444444444444444,
             "#26828e"
            ],
            [
             0.5555555555555556,
             "#1f9e89"
            ],
            [
             0.6666666666666666,
             "#35b779"
            ],
            [
             0.7777777777777778,
             "#6ece58"
            ],
            [
             0.8888888888888888,
             "#b5de2b"
            ],
            [
             1,
             "#fde725"
            ]
           ]
          },
          "colorway": [
           "#1F77B4",
           "#FF7F0E",
           "#2CA02C",
           "#D62728",
           "#9467BD",
           "#8C564B",
           "#E377C2",
           "#7F7F7F",
           "#BCBD22",
           "#17BECF"
          ],
          "font": {
           "color": "rgb(36,36,36)"
          },
          "geo": {
           "bgcolor": "white",
           "lakecolor": "white",
           "landcolor": "white",
           "showlakes": true,
           "showland": true,
           "subunitcolor": "white"
          },
          "hoverlabel": {
           "align": "left"
          },
          "hovermode": "closest",
          "mapbox": {
           "style": "light"
          },
          "paper_bgcolor": "white",
          "plot_bgcolor": "white",
          "polar": {
           "angularaxis": {
            "gridcolor": "rgb(232,232,232)",
            "linecolor": "rgb(36,36,36)",
            "showgrid": false,
            "showline": true,
            "ticks": "outside"
           },
           "bgcolor": "white",
           "radialaxis": {
            "gridcolor": "rgb(232,232,232)",
            "linecolor": "rgb(36,36,36)",
            "showgrid": false,
            "showline": true,
            "ticks": "outside"
           }
          },
          "scene": {
           "xaxis": {
            "backgroundcolor": "white",
            "gridcolor": "rgb(232,232,232)",
            "gridwidth": 2,
            "linecolor": "rgb(36,36,36)",
            "showbackground": true,
            "showgrid": false,
            "showline": true,
            "ticks": "outside",
            "zeroline": false,
            "zerolinecolor": "rgb(36,36,36)"
           },
           "yaxis": {
            "backgroundcolor": "white",
            "gridcolor": "rgb(232,232,232)",
            "gridwidth": 2,
            "linecolor": "rgb(36,36,36)",
            "showbackground": true,
            "showgrid": false,
            "showline": true,
            "ticks": "outside",
            "zeroline": false,
            "zerolinecolor": "rgb(36,36,36)"
           },
           "zaxis": {
            "backgroundcolor": "white",
            "gridcolor": "rgb(232,232,232)",
            "gridwidth": 2,
            "linecolor": "rgb(36,36,36)",
            "showbackground": true,
            "showgrid": false,
            "showline": true,
            "ticks": "outside",
            "zeroline": false,
            "zerolinecolor": "rgb(36,36,36)"
           }
          },
          "shapedefaults": {
           "fillcolor": "black",
           "line": {
            "width": 0
           },
           "opacity": 0.3
          },
          "ternary": {
           "aaxis": {
            "gridcolor": "rgb(232,232,232)",
            "linecolor": "rgb(36,36,36)",
            "showgrid": false,
            "showline": true,
            "ticks": "outside"
           },
           "baxis": {
            "gridcolor": "rgb(232,232,232)",
            "linecolor": "rgb(36,36,36)",
            "showgrid": false,
            "showline": true,
            "ticks": "outside"
           },
           "bgcolor": "white",
           "caxis": {
            "gridcolor": "rgb(232,232,232)",
            "linecolor": "rgb(36,36,36)",
            "showgrid": false,
            "showline": true,
            "ticks": "outside"
           }
          },
          "title": {
           "x": 0.05
          },
          "xaxis": {
           "automargin": true,
           "gridcolor": "rgb(232,232,232)",
           "linecolor": "rgb(36,36,36)",
           "showgrid": false,
           "showline": true,
           "ticks": "outside",
           "title": {
            "standoff": 15
           },
           "zeroline": false,
           "zerolinecolor": "rgb(36,36,36)"
          },
          "yaxis": {
           "automargin": true,
           "gridcolor": "rgb(232,232,232)",
           "linecolor": "rgb(36,36,36)",
           "showgrid": false,
           "showline": true,
           "ticks": "outside",
           "title": {
            "standoff": 15
           },
           "zeroline": false,
           "zerolinecolor": "rgb(36,36,36)"
          }
         }
        },
        "title": {
         "text": "Project Count by Fuel Type (Grouping <1% as Other)"
        }
       }
      }
     },
     "metadata": {},
     "output_type": "display_data"
    },
    {
     "name": "stdout",
     "output_type": "stream",
     "text": [
      "['Biomass', 'Coal', 'Hydro', 'Natural Gas', 'Nuclear', 'Offshore Wind', 'Solar', 'Solar & Storage', 'Storage', 'Wind', 'Wind & Solar']\n"
     ]
    }
   ],
   "source": [
    "import pandas as pd\n",
    "import plotly.graph_objects as go\n",
    "\n",
    "# --- Total MFO by Fuel ---\n",
    "fuel_color_map = {'Coal': '#000000',\n",
    " 'Natural Gas': '#58585b',\n",
    " 'Nuclear': '#73ff7c',\n",
    " 'Other': 'pink',\n",
    " 'Solar': '#FFCB00',\n",
    " 'Storage': 'yellow',\n",
    " 'Wind': '#3DADF2', \n",
    " 'Water': 'blue', \n",
    " 'Oil': 'red', \n",
    " 'Nuclear':'purple',\n",
    " 'Offshore Wind': 'darkblue'\n",
    " }\n",
    "\n",
    "df = PJM_queued_plants.dropna(subset=['Fuel', 'MFO'])\n",
    "total_mfo_by_fuel = df.groupby('Fuel')['MFO'].sum().reset_index()\n",
    "\n",
    "total_sum = total_mfo_by_fuel['MFO'].sum()\n",
    "total_mfo_by_fuel['percent'] = total_mfo_by_fuel['MFO'] / total_sum\n",
    "\n",
    "mask = total_mfo_by_fuel['percent'] < 0.01\n",
    "other_sum = total_mfo_by_fuel.loc[mask, 'MFO'].sum()\n",
    "\n",
    "filtered = total_mfo_by_fuel.loc[~mask].copy()\n",
    "colors = [fuel_color_map.get(fuel, '#888888') for fuel in filtered['Fuel']]\n",
    "\n",
    "if other_sum > 0:\n",
    "    other_row = pd.DataFrame([{'Fuel': 'Other', 'MFO': other_sum, 'percent': other_sum / total_sum}])\n",
    "    filtered = pd.concat([filtered, other_row], ignore_index=True)\n",
    "\n",
    "fig = go.Figure(go.Pie(\n",
    "    labels=filtered['Fuel'],\n",
    "    values=filtered['MFO'],\n",
    "    hoverinfo='label+percent+value',\n",
    "    texttemplate='%{label} %{percent:.0%}',\n",
    "    textfont_size=14, \n",
    "    marker=dict(colors=colors)\n",
    "))\n",
    "\n",
    "fig.update_layout(\n",
    "    title='Total MFO by Fuel Type (Grouping <1% as Other)',\n",
    "    template='simple_white'\n",
    ")\n",
    "\n",
    "fig.show()\n",
    "\n",
    "# --- Project Count by Fuel ---\n",
    "\n",
    "df = PJM_queued_plants.dropna(subset=['Fuel', 'Project ID'])\n",
    "project_counts = df.groupby('Fuel')['Project ID'].nunique().reset_index()\n",
    "\n",
    "total_projects = project_counts['Project ID'].sum()\n",
    "project_counts['percent'] = project_counts['Project ID'] / total_projects\n",
    "\n",
    "mask = project_counts['percent'] < 0.01\n",
    "other_count = project_counts.loc[mask, 'Project ID'].sum()\n",
    "\n",
    "filtered_proj = project_counts.loc[~mask].copy()\n",
    "colors = [fuel_color_map.get(fuel, '#888888') for fuel in filtered_proj['Fuel']]\n",
    "\n",
    "if other_count > 0:\n",
    "    other_row = pd.DataFrame([{'Fuel': 'Other', 'Project ID': other_count, 'percent': other_count / total_projects}])\n",
    "    filtered_proj = pd.concat([filtered_proj, other_row], ignore_index=True)\n",
    "\n",
    "fig = go.Figure(go.Pie(\n",
    "    labels=filtered_proj['Fuel'],\n",
    "    values=filtered_proj['Project ID'],\n",
    "    hoverinfo='label+percent+value',\n",
    "    texttemplate='%{label} %{percent:.0%}',\n",
    "    textfont_size=14,\n",
    "    marker=dict(colors=colors)\n",
    "))\n",
    "\n",
    "fig.update_layout(\n",
    "    title='Project Count by Fuel Type (Grouping <1% as Other)',\n",
    "    template='simple_white'\n",
    ")\n",
    "\n",
    "fig.show()\n",
    "unique_fuels = PJM_queued_plants['Fuel'].dropna().unique()\n",
    "print(sorted(unique_fuels))\n"
   ]
  },
  {
   "cell_type": "code",
   "execution_count": 70,
   "id": "ed4d6373",
   "metadata": {},
   "outputs": [
    {
     "data": {
      "application/vnd.plotly.v1+json": {
       "config": {
        "plotlyServerURL": "https://plot.ly"
       },
       "data": [
        {
         "hovertemplate": "Year=%{x}<br>LMP ($/MWh)=%{y}<extra></extra>",
         "legendgroup": "",
         "line": {
          "color": "#636efa",
          "dash": "solid"
         },
         "marker": {
          "symbol": "circle"
         },
         "mode": "lines+markers",
         "name": "",
         "orientation": "v",
         "showlegend": false,
         "type": "scatter",
         "x": {
          "bdata": "0AfRB9IH0wfUB9UH1gfXB9gH2QfaB9sH3AfdB94H3wfgB+EH4gfjB+QH5QfmB+cH6Ac=",
          "dtype": "i2"
         },
         "xaxis": "x",
         "y": {
          "bdata": "cT0K16OQQUDhehSuRwFCQM3MzMzMzD9A16NwPQq3RECPwvUoXG9FQAAAAAAAQE9ACtejcD2qSUBxPQrXo/BMQAAAAAAAkFFAKVyPwvVoQ0AzMzMzM9NHQLgehetRmEZAZmZmZmZGQUDXo3A9CndDQI/C9Shcz0pAPQrXo3BdQkCuR+F6FK49QJqZmZmZ2T5AXI/C9Sj8QkB7FK5H4To7QGZmZmZmZjVAj8L1KFyvQ0Bcj8L1KNxSQK5H4XoU7j9AhetRuB7lQEA=",
          "dtype": "f8"
         },
         "yaxis": "y"
        }
       ],
       "layout": {
        "font": {
         "size": 14
        },
        "legend": {
         "tracegroupgap": 0
        },
        "template": {
         "data": {
          "bar": [
           {
            "error_x": {
             "color": "#2a3f5f"
            },
            "error_y": {
             "color": "#2a3f5f"
            },
            "marker": {
             "line": {
              "color": "white",
              "width": 0.5
             },
             "pattern": {
              "fillmode": "overlay",
              "size": 10,
              "solidity": 0.2
             }
            },
            "type": "bar"
           }
          ],
          "barpolar": [
           {
            "marker": {
             "line": {
              "color": "white",
              "width": 0.5
             },
             "pattern": {
              "fillmode": "overlay",
              "size": 10,
              "solidity": 0.2
             }
            },
            "type": "barpolar"
           }
          ],
          "carpet": [
           {
            "aaxis": {
             "endlinecolor": "#2a3f5f",
             "gridcolor": "#C8D4E3",
             "linecolor": "#C8D4E3",
             "minorgridcolor": "#C8D4E3",
             "startlinecolor": "#2a3f5f"
            },
            "baxis": {
             "endlinecolor": "#2a3f5f",
             "gridcolor": "#C8D4E3",
             "linecolor": "#C8D4E3",
             "minorgridcolor": "#C8D4E3",
             "startlinecolor": "#2a3f5f"
            },
            "type": "carpet"
           }
          ],
          "choropleth": [
           {
            "colorbar": {
             "outlinewidth": 0,
             "ticks": ""
            },
            "type": "choropleth"
           }
          ],
          "contour": [
           {
            "colorbar": {
             "outlinewidth": 0,
             "ticks": ""
            },
            "colorscale": [
             [
              0,
              "#0d0887"
             ],
             [
              0.1111111111111111,
              "#46039f"
             ],
             [
              0.2222222222222222,
              "#7201a8"
             ],
             [
              0.3333333333333333,
              "#9c179e"
             ],
             [
              0.4444444444444444,
              "#bd3786"
             ],
             [
              0.5555555555555556,
              "#d8576b"
             ],
             [
              0.6666666666666666,
              "#ed7953"
             ],
             [
              0.7777777777777778,
              "#fb9f3a"
             ],
             [
              0.8888888888888888,
              "#fdca26"
             ],
             [
              1,
              "#f0f921"
             ]
            ],
            "type": "contour"
           }
          ],
          "contourcarpet": [
           {
            "colorbar": {
             "outlinewidth": 0,
             "ticks": ""
            },
            "type": "contourcarpet"
           }
          ],
          "heatmap": [
           {
            "colorbar": {
             "outlinewidth": 0,
             "ticks": ""
            },
            "colorscale": [
             [
              0,
              "#0d0887"
             ],
             [
              0.1111111111111111,
              "#46039f"
             ],
             [
              0.2222222222222222,
              "#7201a8"
             ],
             [
              0.3333333333333333,
              "#9c179e"
             ],
             [
              0.4444444444444444,
              "#bd3786"
             ],
             [
              0.5555555555555556,
              "#d8576b"
             ],
             [
              0.6666666666666666,
              "#ed7953"
             ],
             [
              0.7777777777777778,
              "#fb9f3a"
             ],
             [
              0.8888888888888888,
              "#fdca26"
             ],
             [
              1,
              "#f0f921"
             ]
            ],
            "type": "heatmap"
           }
          ],
          "histogram": [
           {
            "marker": {
             "pattern": {
              "fillmode": "overlay",
              "size": 10,
              "solidity": 0.2
             }
            },
            "type": "histogram"
           }
          ],
          "histogram2d": [
           {
            "colorbar": {
             "outlinewidth": 0,
             "ticks": ""
            },
            "colorscale": [
             [
              0,
              "#0d0887"
             ],
             [
              0.1111111111111111,
              "#46039f"
             ],
             [
              0.2222222222222222,
              "#7201a8"
             ],
             [
              0.3333333333333333,
              "#9c179e"
             ],
             [
              0.4444444444444444,
              "#bd3786"
             ],
             [
              0.5555555555555556,
              "#d8576b"
             ],
             [
              0.6666666666666666,
              "#ed7953"
             ],
             [
              0.7777777777777778,
              "#fb9f3a"
             ],
             [
              0.8888888888888888,
              "#fdca26"
             ],
             [
              1,
              "#f0f921"
             ]
            ],
            "type": "histogram2d"
           }
          ],
          "histogram2dcontour": [
           {
            "colorbar": {
             "outlinewidth": 0,
             "ticks": ""
            },
            "colorscale": [
             [
              0,
              "#0d0887"
             ],
             [
              0.1111111111111111,
              "#46039f"
             ],
             [
              0.2222222222222222,
              "#7201a8"
             ],
             [
              0.3333333333333333,
              "#9c179e"
             ],
             [
              0.4444444444444444,
              "#bd3786"
             ],
             [
              0.5555555555555556,
              "#d8576b"
             ],
             [
              0.6666666666666666,
              "#ed7953"
             ],
             [
              0.7777777777777778,
              "#fb9f3a"
             ],
             [
              0.8888888888888888,
              "#fdca26"
             ],
             [
              1,
              "#f0f921"
             ]
            ],
            "type": "histogram2dcontour"
           }
          ],
          "mesh3d": [
           {
            "colorbar": {
             "outlinewidth": 0,
             "ticks": ""
            },
            "type": "mesh3d"
           }
          ],
          "parcoords": [
           {
            "line": {
             "colorbar": {
              "outlinewidth": 0,
              "ticks": ""
             }
            },
            "type": "parcoords"
           }
          ],
          "pie": [
           {
            "automargin": true,
            "type": "pie"
           }
          ],
          "scatter": [
           {
            "fillpattern": {
             "fillmode": "overlay",
             "size": 10,
             "solidity": 0.2
            },
            "type": "scatter"
           }
          ],
          "scatter3d": [
           {
            "line": {
             "colorbar": {
              "outlinewidth": 0,
              "ticks": ""
             }
            },
            "marker": {
             "colorbar": {
              "outlinewidth": 0,
              "ticks": ""
             }
            },
            "type": "scatter3d"
           }
          ],
          "scattercarpet": [
           {
            "marker": {
             "colorbar": {
              "outlinewidth": 0,
              "ticks": ""
             }
            },
            "type": "scattercarpet"
           }
          ],
          "scattergeo": [
           {
            "marker": {
             "colorbar": {
              "outlinewidth": 0,
              "ticks": ""
             }
            },
            "type": "scattergeo"
           }
          ],
          "scattergl": [
           {
            "marker": {
             "colorbar": {
              "outlinewidth": 0,
              "ticks": ""
             }
            },
            "type": "scattergl"
           }
          ],
          "scattermap": [
           {
            "marker": {
             "colorbar": {
              "outlinewidth": 0,
              "ticks": ""
             }
            },
            "type": "scattermap"
           }
          ],
          "scattermapbox": [
           {
            "marker": {
             "colorbar": {
              "outlinewidth": 0,
              "ticks": ""
             }
            },
            "type": "scattermapbox"
           }
          ],
          "scatterpolar": [
           {
            "marker": {
             "colorbar": {
              "outlinewidth": 0,
              "ticks": ""
             }
            },
            "type": "scatterpolar"
           }
          ],
          "scatterpolargl": [
           {
            "marker": {
             "colorbar": {
              "outlinewidth": 0,
              "ticks": ""
             }
            },
            "type": "scatterpolargl"
           }
          ],
          "scatterternary": [
           {
            "marker": {
             "colorbar": {
              "outlinewidth": 0,
              "ticks": ""
             }
            },
            "type": "scatterternary"
           }
          ],
          "surface": [
           {
            "colorbar": {
             "outlinewidth": 0,
             "ticks": ""
            },
            "colorscale": [
             [
              0,
              "#0d0887"
             ],
             [
              0.1111111111111111,
              "#46039f"
             ],
             [
              0.2222222222222222,
              "#7201a8"
             ],
             [
              0.3333333333333333,
              "#9c179e"
             ],
             [
              0.4444444444444444,
              "#bd3786"
             ],
             [
              0.5555555555555556,
              "#d8576b"
             ],
             [
              0.6666666666666666,
              "#ed7953"
             ],
             [
              0.7777777777777778,
              "#fb9f3a"
             ],
             [
              0.8888888888888888,
              "#fdca26"
             ],
             [
              1,
              "#f0f921"
             ]
            ],
            "type": "surface"
           }
          ],
          "table": [
           {
            "cells": {
             "fill": {
              "color": "#EBF0F8"
             },
             "line": {
              "color": "white"
             }
            },
            "header": {
             "fill": {
              "color": "#C8D4E3"
             },
             "line": {
              "color": "white"
             }
            },
            "type": "table"
           }
          ]
         },
         "layout": {
          "annotationdefaults": {
           "arrowcolor": "#2a3f5f",
           "arrowhead": 0,
           "arrowwidth": 1
          },
          "autotypenumbers": "strict",
          "coloraxis": {
           "colorbar": {
            "outlinewidth": 0,
            "ticks": ""
           }
          },
          "colorscale": {
           "diverging": [
            [
             0,
             "#8e0152"
            ],
            [
             0.1,
             "#c51b7d"
            ],
            [
             0.2,
             "#de77ae"
            ],
            [
             0.3,
             "#f1b6da"
            ],
            [
             0.4,
             "#fde0ef"
            ],
            [
             0.5,
             "#f7f7f7"
            ],
            [
             0.6,
             "#e6f5d0"
            ],
            [
             0.7,
             "#b8e186"
            ],
            [
             0.8,
             "#7fbc41"
            ],
            [
             0.9,
             "#4d9221"
            ],
            [
             1,
             "#276419"
            ]
           ],
           "sequential": [
            [
             0,
             "#0d0887"
            ],
            [
             0.1111111111111111,
             "#46039f"
            ],
            [
             0.2222222222222222,
             "#7201a8"
            ],
            [
             0.3333333333333333,
             "#9c179e"
            ],
            [
             0.4444444444444444,
             "#bd3786"
            ],
            [
             0.5555555555555556,
             "#d8576b"
            ],
            [
             0.6666666666666666,
             "#ed7953"
            ],
            [
             0.7777777777777778,
             "#fb9f3a"
            ],
            [
             0.8888888888888888,
             "#fdca26"
            ],
            [
             1,
             "#f0f921"
            ]
           ],
           "sequentialminus": [
            [
             0,
             "#0d0887"
            ],
            [
             0.1111111111111111,
             "#46039f"
            ],
            [
             0.2222222222222222,
             "#7201a8"
            ],
            [
             0.3333333333333333,
             "#9c179e"
            ],
            [
             0.4444444444444444,
             "#bd3786"
            ],
            [
             0.5555555555555556,
             "#d8576b"
            ],
            [
             0.6666666666666666,
             "#ed7953"
            ],
            [
             0.7777777777777778,
             "#fb9f3a"
            ],
            [
             0.8888888888888888,
             "#fdca26"
            ],
            [
             1,
             "#f0f921"
            ]
           ]
          },
          "colorway": [
           "#636efa",
           "#EF553B",
           "#00cc96",
           "#ab63fa",
           "#FFA15A",
           "#19d3f3",
           "#FF6692",
           "#B6E880",
           "#FF97FF",
           "#FECB52"
          ],
          "font": {
           "color": "#2a3f5f"
          },
          "geo": {
           "bgcolor": "white",
           "lakecolor": "white",
           "landcolor": "white",
           "showlakes": true,
           "showland": true,
           "subunitcolor": "#C8D4E3"
          },
          "hoverlabel": {
           "align": "left"
          },
          "hovermode": "closest",
          "mapbox": {
           "style": "light"
          },
          "paper_bgcolor": "white",
          "plot_bgcolor": "white",
          "polar": {
           "angularaxis": {
            "gridcolor": "#EBF0F8",
            "linecolor": "#EBF0F8",
            "ticks": ""
           },
           "bgcolor": "white",
           "radialaxis": {
            "gridcolor": "#EBF0F8",
            "linecolor": "#EBF0F8",
            "ticks": ""
           }
          },
          "scene": {
           "xaxis": {
            "backgroundcolor": "white",
            "gridcolor": "#DFE8F3",
            "gridwidth": 2,
            "linecolor": "#EBF0F8",
            "showbackground": true,
            "ticks": "",
            "zerolinecolor": "#EBF0F8"
           },
           "yaxis": {
            "backgroundcolor": "white",
            "gridcolor": "#DFE8F3",
            "gridwidth": 2,
            "linecolor": "#EBF0F8",
            "showbackground": true,
            "ticks": "",
            "zerolinecolor": "#EBF0F8"
           },
           "zaxis": {
            "backgroundcolor": "white",
            "gridcolor": "#DFE8F3",
            "gridwidth": 2,
            "linecolor": "#EBF0F8",
            "showbackground": true,
            "ticks": "",
            "zerolinecolor": "#EBF0F8"
           }
          },
          "shapedefaults": {
           "line": {
            "color": "#2a3f5f"
           }
          },
          "ternary": {
           "aaxis": {
            "gridcolor": "#DFE8F3",
            "linecolor": "#A2B1C6",
            "ticks": ""
           },
           "baxis": {
            "gridcolor": "#DFE8F3",
            "linecolor": "#A2B1C6",
            "ticks": ""
           },
           "bgcolor": "white",
           "caxis": {
            "gridcolor": "#DFE8F3",
            "linecolor": "#A2B1C6",
            "ticks": ""
           }
          },
          "title": {
           "x": 0.05
          },
          "xaxis": {
           "automargin": true,
           "gridcolor": "#EBF0F8",
           "linecolor": "#EBF0F8",
           "ticks": "",
           "title": {
            "standoff": 15
           },
           "zerolinecolor": "#EBF0F8",
           "zerolinewidth": 2
          },
          "yaxis": {
           "automargin": true,
           "gridcolor": "#EBF0F8",
           "linecolor": "#EBF0F8",
           "ticks": "",
           "title": {
            "standoff": 15
           },
           "zerolinecolor": "#EBF0F8",
           "zerolinewidth": 2
          }
         }
        },
        "title": {
         "text": "Load-Weighted LMP by Year in PJM",
         "x": 0.5
        },
        "xaxis": {
         "anchor": "y",
         "domain": [
          0,
          1
         ],
         "title": {
          "text": "Year"
         }
        },
        "yaxis": {
         "anchor": "x",
         "domain": [
          0,
          1
         ],
         "tickformat": ".0f",
         "title": {
          "text": "LMP ($/MWh)"
         }
        }
       }
      }
     },
     "metadata": {},
     "output_type": "display_data"
    }
   ],
   "source": [
    "\n",
    "# Define years and LMP values\n",
    "years = list(range(2000, 2024 + 1))\n",
    "lmp_values = [\n",
    "    35.13, 36.01, 31.80, 41.43, 42.87, 62.50, 51.33, 57.88, 70.25, 38.82, 47.65,\n",
    "    45.19, 34.55, 38.93, 53.62, 36.73, 29.68, 30.85, 37.97, 27.23, 21.40,\n",
    "    39.37, 75.44, 31.93, 33.79\n",
    "]\n",
    "\n",
    "# Create the DataFrame\n",
    "df = pd.DataFrame({\n",
    "    'year': years,\n",
    "    'load_weighted_lmp': lmp_values\n",
    "})\n",
    "\n",
    "# Plot with Plotly\n",
    "fig = px.line(\n",
    "    df,\n",
    "    x='year',\n",
    "    y='load_weighted_lmp',\n",
    "    title='Load-Weighted LMP by Year in PJM',\n",
    "    markers=True,\n",
    "    labels={'year': 'Year', 'load_weighted_lmp': 'LMP ($/MWh)'}\n",
    ")\n",
    "\n",
    "fig.update_layout(\n",
    "    template='plotly_white',\n",
    "    yaxis_tickformat=\".0f\",\n",
    "    font=dict(size=14),\n",
    "    title_x=0.5\n",
    ")\n",
    "\n",
    "fig.show()\n"
   ]
  },
  {
   "cell_type": "code",
   "execution_count": 71,
   "id": "40b2b499",
   "metadata": {},
   "outputs": [
    {
     "data": {
      "application/vnd.plotly.v1+json": {
       "config": {
        "plotlyServerURL": "https://plot.ly"
       },
       "data": [
        {
         "hovertemplate": "revenue_type=Energy and ancillary service net revenue<br>Technology and Quartile=%{x}<br>Revenue ($/ICAP MW-Year)=%{y}<extra></extra>",
         "legendgroup": "Energy and ancillary service net revenue",
         "marker": {
          "color": "#636efa",
          "pattern": {
           "shape": ""
          }
         },
         "name": "Energy and ancillary service net revenue",
         "orientation": "v",
         "showlegend": true,
         "textposition": "auto",
         "type": "bar",
         "x": [
          "Combined Cycle - First Quartile",
          "Combined Cycle - Median",
          "Combined Cycle - Third Quartile",
          "Combustion Turbine - First Quartile",
          "Combustion Turbine - Median",
          "Combustion Turbine - Third Quartile",
          "Coal Fired - First Quartile",
          "Coal Fired - Median",
          "Coal Fired - Third Quartile",
          "Diesel - First Quartile",
          "Diesel - Median",
          "Diesel - Third Quartile",
          "Hydro - First Quartile",
          "Hydro - Median",
          "Hydro - Third Quartile",
          "Nuclear - First Quartile",
          "Nuclear - Median",
          "Nuclear - Third Quartile",
          "Oil or Gas Steam - First Quartile",
          "Oil or Gas Steam - Median",
          "Oil or Gas Steam - Third Quartile",
          "Pumped Storage - First Quartile",
          "Pumped Storage - Median",
          "Pumped Storage - Third Quartile",
          "Solar - First Quartile",
          "Solar - Median",
          "Solar - Third Quartile",
          "Wind - First Quartile",
          "Wind - Median",
          "Wind - Third Quartile"
         ],
         "xaxis": "x",
         "y": {
          "bdata": "rDUAAPMbAQBb2AEAFgsAAN0fAACtTgAAcAEAAPkrAAByywAAlv3//0EaAACQpwAA3gQBAG6TAQCUDAIAi/4CAJhAAwAQ0QMAtP3//xgBAAA9RQAAYzUAAHZaAACJewEA23QAAGyQAAAKwAAAXxMBAHubAQAhDwMA",
          "dtype": "i4"
         },
         "yaxis": "y"
        },
        {
         "hovertemplate": "revenue_type=Capacity revenue<br>Technology and Quartile=%{x}<br>Revenue ($/ICAP MW-Year)=%{y}<extra></extra>",
         "legendgroup": "Capacity revenue",
         "marker": {
          "color": "#EF553B",
          "pattern": {
           "shape": ""
          }
         },
         "name": "Capacity revenue",
         "orientation": "v",
         "showlegend": true,
         "textposition": "auto",
         "type": "bar",
         "x": [
          "Combined Cycle - First Quartile",
          "Combined Cycle - Median",
          "Combined Cycle - Third Quartile",
          "Combustion Turbine - First Quartile",
          "Combustion Turbine - Median",
          "Combustion Turbine - Third Quartile",
          "Coal Fired - First Quartile",
          "Coal Fired - Median",
          "Coal Fired - Third Quartile",
          "Diesel - First Quartile",
          "Diesel - Median",
          "Diesel - Third Quartile",
          "Hydro - First Quartile",
          "Hydro - Median",
          "Hydro - Third Quartile",
          "Nuclear - First Quartile",
          "Nuclear - Median",
          "Nuclear - Third Quartile",
          "Oil or Gas Steam - First Quartile",
          "Oil or Gas Steam - Median",
          "Oil or Gas Steam - Third Quartile",
          "Pumped Storage - First Quartile",
          "Pumped Storage - Median",
          "Pumped Storage - Third Quartile",
          "Solar - First Quartile",
          "Solar - Median",
          "Solar - Third Quartile",
          "Wind - First Quartile",
          "Wind - Median",
          "Wind - Third Quartile"
         ],
         "xaxis": "x",
         "y": {
          "bdata": "VicAAKZDAABTXAAAZSwAAIUxAADTQwAA6iMAADEsAABjQQAA10QAAFdjAADgMAEAAAAAAIQlAAA00AIA5UEAAKxEAABTYgAAqDAAAJBGAABjTwAA3iQAAAM6AADwawAAAAAAAAAAAACsDQAAAAAAAJEEAAAiCwAA",
          "dtype": "i4"
         },
         "yaxis": "y"
        }
       ],
       "layout": {
        "barmode": "stack",
        "font": {
         "size": 14
        },
        "legend": {
         "title": {
          "text": "Revenue Type"
         },
         "tracegroupgap": 0
        },
        "template": {
         "data": {
          "bar": [
           {
            "error_x": {
             "color": "#2a3f5f"
            },
            "error_y": {
             "color": "#2a3f5f"
            },
            "marker": {
             "line": {
              "color": "white",
              "width": 0.5
             },
             "pattern": {
              "fillmode": "overlay",
              "size": 10,
              "solidity": 0.2
             }
            },
            "type": "bar"
           }
          ],
          "barpolar": [
           {
            "marker": {
             "line": {
              "color": "white",
              "width": 0.5
             },
             "pattern": {
              "fillmode": "overlay",
              "size": 10,
              "solidity": 0.2
             }
            },
            "type": "barpolar"
           }
          ],
          "carpet": [
           {
            "aaxis": {
             "endlinecolor": "#2a3f5f",
             "gridcolor": "#C8D4E3",
             "linecolor": "#C8D4E3",
             "minorgridcolor": "#C8D4E3",
             "startlinecolor": "#2a3f5f"
            },
            "baxis": {
             "endlinecolor": "#2a3f5f",
             "gridcolor": "#C8D4E3",
             "linecolor": "#C8D4E3",
             "minorgridcolor": "#C8D4E3",
             "startlinecolor": "#2a3f5f"
            },
            "type": "carpet"
           }
          ],
          "choropleth": [
           {
            "colorbar": {
             "outlinewidth": 0,
             "ticks": ""
            },
            "type": "choropleth"
           }
          ],
          "contour": [
           {
            "colorbar": {
             "outlinewidth": 0,
             "ticks": ""
            },
            "colorscale": [
             [
              0,
              "#0d0887"
             ],
             [
              0.1111111111111111,
              "#46039f"
             ],
             [
              0.2222222222222222,
              "#7201a8"
             ],
             [
              0.3333333333333333,
              "#9c179e"
             ],
             [
              0.4444444444444444,
              "#bd3786"
             ],
             [
              0.5555555555555556,
              "#d8576b"
             ],
             [
              0.6666666666666666,
              "#ed7953"
             ],
             [
              0.7777777777777778,
              "#fb9f3a"
             ],
             [
              0.8888888888888888,
              "#fdca26"
             ],
             [
              1,
              "#f0f921"
             ]
            ],
            "type": "contour"
           }
          ],
          "contourcarpet": [
           {
            "colorbar": {
             "outlinewidth": 0,
             "ticks": ""
            },
            "type": "contourcarpet"
           }
          ],
          "heatmap": [
           {
            "colorbar": {
             "outlinewidth": 0,
             "ticks": ""
            },
            "colorscale": [
             [
              0,
              "#0d0887"
             ],
             [
              0.1111111111111111,
              "#46039f"
             ],
             [
              0.2222222222222222,
              "#7201a8"
             ],
             [
              0.3333333333333333,
              "#9c179e"
             ],
             [
              0.4444444444444444,
              "#bd3786"
             ],
             [
              0.5555555555555556,
              "#d8576b"
             ],
             [
              0.6666666666666666,
              "#ed7953"
             ],
             [
              0.7777777777777778,
              "#fb9f3a"
             ],
             [
              0.8888888888888888,
              "#fdca26"
             ],
             [
              1,
              "#f0f921"
             ]
            ],
            "type": "heatmap"
           }
          ],
          "histogram": [
           {
            "marker": {
             "pattern": {
              "fillmode": "overlay",
              "size": 10,
              "solidity": 0.2
             }
            },
            "type": "histogram"
           }
          ],
          "histogram2d": [
           {
            "colorbar": {
             "outlinewidth": 0,
             "ticks": ""
            },
            "colorscale": [
             [
              0,
              "#0d0887"
             ],
             [
              0.1111111111111111,
              "#46039f"
             ],
             [
              0.2222222222222222,
              "#7201a8"
             ],
             [
              0.3333333333333333,
              "#9c179e"
             ],
             [
              0.4444444444444444,
              "#bd3786"
             ],
             [
              0.5555555555555556,
              "#d8576b"
             ],
             [
              0.6666666666666666,
              "#ed7953"
             ],
             [
              0.7777777777777778,
              "#fb9f3a"
             ],
             [
              0.8888888888888888,
              "#fdca26"
             ],
             [
              1,
              "#f0f921"
             ]
            ],
            "type": "histogram2d"
           }
          ],
          "histogram2dcontour": [
           {
            "colorbar": {
             "outlinewidth": 0,
             "ticks": ""
            },
            "colorscale": [
             [
              0,
              "#0d0887"
             ],
             [
              0.1111111111111111,
              "#46039f"
             ],
             [
              0.2222222222222222,
              "#7201a8"
             ],
             [
              0.3333333333333333,
              "#9c179e"
             ],
             [
              0.4444444444444444,
              "#bd3786"
             ],
             [
              0.5555555555555556,
              "#d8576b"
             ],
             [
              0.6666666666666666,
              "#ed7953"
             ],
             [
              0.7777777777777778,
              "#fb9f3a"
             ],
             [
              0.8888888888888888,
              "#fdca26"
             ],
             [
              1,
              "#f0f921"
             ]
            ],
            "type": "histogram2dcontour"
           }
          ],
          "mesh3d": [
           {
            "colorbar": {
             "outlinewidth": 0,
             "ticks": ""
            },
            "type": "mesh3d"
           }
          ],
          "parcoords": [
           {
            "line": {
             "colorbar": {
              "outlinewidth": 0,
              "ticks": ""
             }
            },
            "type": "parcoords"
           }
          ],
          "pie": [
           {
            "automargin": true,
            "type": "pie"
           }
          ],
          "scatter": [
           {
            "fillpattern": {
             "fillmode": "overlay",
             "size": 10,
             "solidity": 0.2
            },
            "type": "scatter"
           }
          ],
          "scatter3d": [
           {
            "line": {
             "colorbar": {
              "outlinewidth": 0,
              "ticks": ""
             }
            },
            "marker": {
             "colorbar": {
              "outlinewidth": 0,
              "ticks": ""
             }
            },
            "type": "scatter3d"
           }
          ],
          "scattercarpet": [
           {
            "marker": {
             "colorbar": {
              "outlinewidth": 0,
              "ticks": ""
             }
            },
            "type": "scattercarpet"
           }
          ],
          "scattergeo": [
           {
            "marker": {
             "colorbar": {
              "outlinewidth": 0,
              "ticks": ""
             }
            },
            "type": "scattergeo"
           }
          ],
          "scattergl": [
           {
            "marker": {
             "colorbar": {
              "outlinewidth": 0,
              "ticks": ""
             }
            },
            "type": "scattergl"
           }
          ],
          "scattermap": [
           {
            "marker": {
             "colorbar": {
              "outlinewidth": 0,
              "ticks": ""
             }
            },
            "type": "scattermap"
           }
          ],
          "scattermapbox": [
           {
            "marker": {
             "colorbar": {
              "outlinewidth": 0,
              "ticks": ""
             }
            },
            "type": "scattermapbox"
           }
          ],
          "scatterpolar": [
           {
            "marker": {
             "colorbar": {
              "outlinewidth": 0,
              "ticks": ""
             }
            },
            "type": "scatterpolar"
           }
          ],
          "scatterpolargl": [
           {
            "marker": {
             "colorbar": {
              "outlinewidth": 0,
              "ticks": ""
             }
            },
            "type": "scatterpolargl"
           }
          ],
          "scatterternary": [
           {
            "marker": {
             "colorbar": {
              "outlinewidth": 0,
              "ticks": ""
             }
            },
            "type": "scatterternary"
           }
          ],
          "surface": [
           {
            "colorbar": {
             "outlinewidth": 0,
             "ticks": ""
            },
            "colorscale": [
             [
              0,
              "#0d0887"
             ],
             [
              0.1111111111111111,
              "#46039f"
             ],
             [
              0.2222222222222222,
              "#7201a8"
             ],
             [
              0.3333333333333333,
              "#9c179e"
             ],
             [
              0.4444444444444444,
              "#bd3786"
             ],
             [
              0.5555555555555556,
              "#d8576b"
             ],
             [
              0.6666666666666666,
              "#ed7953"
             ],
             [
              0.7777777777777778,
              "#fb9f3a"
             ],
             [
              0.8888888888888888,
              "#fdca26"
             ],
             [
              1,
              "#f0f921"
             ]
            ],
            "type": "surface"
           }
          ],
          "table": [
           {
            "cells": {
             "fill": {
              "color": "#EBF0F8"
             },
             "line": {
              "color": "white"
             }
            },
            "header": {
             "fill": {
              "color": "#C8D4E3"
             },
             "line": {
              "color": "white"
             }
            },
            "type": "table"
           }
          ]
         },
         "layout": {
          "annotationdefaults": {
           "arrowcolor": "#2a3f5f",
           "arrowhead": 0,
           "arrowwidth": 1
          },
          "autotypenumbers": "strict",
          "coloraxis": {
           "colorbar": {
            "outlinewidth": 0,
            "ticks": ""
           }
          },
          "colorscale": {
           "diverging": [
            [
             0,
             "#8e0152"
            ],
            [
             0.1,
             "#c51b7d"
            ],
            [
             0.2,
             "#de77ae"
            ],
            [
             0.3,
             "#f1b6da"
            ],
            [
             0.4,
             "#fde0ef"
            ],
            [
             0.5,
             "#f7f7f7"
            ],
            [
             0.6,
             "#e6f5d0"
            ],
            [
             0.7,
             "#b8e186"
            ],
            [
             0.8,
             "#7fbc41"
            ],
            [
             0.9,
             "#4d9221"
            ],
            [
             1,
             "#276419"
            ]
           ],
           "sequential": [
            [
             0,
             "#0d0887"
            ],
            [
             0.1111111111111111,
             "#46039f"
            ],
            [
             0.2222222222222222,
             "#7201a8"
            ],
            [
             0.3333333333333333,
             "#9c179e"
            ],
            [
             0.4444444444444444,
             "#bd3786"
            ],
            [
             0.5555555555555556,
             "#d8576b"
            ],
            [
             0.6666666666666666,
             "#ed7953"
            ],
            [
             0.7777777777777778,
             "#fb9f3a"
            ],
            [
             0.8888888888888888,
             "#fdca26"
            ],
            [
             1,
             "#f0f921"
            ]
           ],
           "sequentialminus": [
            [
             0,
             "#0d0887"
            ],
            [
             0.1111111111111111,
             "#46039f"
            ],
            [
             0.2222222222222222,
             "#7201a8"
            ],
            [
             0.3333333333333333,
             "#9c179e"
            ],
            [
             0.4444444444444444,
             "#bd3786"
            ],
            [
             0.5555555555555556,
             "#d8576b"
            ],
            [
             0.6666666666666666,
             "#ed7953"
            ],
            [
             0.7777777777777778,
             "#fb9f3a"
            ],
            [
             0.8888888888888888,
             "#fdca26"
            ],
            [
             1,
             "#f0f921"
            ]
           ]
          },
          "colorway": [
           "#636efa",
           "#EF553B",
           "#00cc96",
           "#ab63fa",
           "#FFA15A",
           "#19d3f3",
           "#FF6692",
           "#B6E880",
           "#FF97FF",
           "#FECB52"
          ],
          "font": {
           "color": "#2a3f5f"
          },
          "geo": {
           "bgcolor": "white",
           "lakecolor": "white",
           "landcolor": "white",
           "showlakes": true,
           "showland": true,
           "subunitcolor": "#C8D4E3"
          },
          "hoverlabel": {
           "align": "left"
          },
          "hovermode": "closest",
          "mapbox": {
           "style": "light"
          },
          "paper_bgcolor": "white",
          "plot_bgcolor": "white",
          "polar": {
           "angularaxis": {
            "gridcolor": "#EBF0F8",
            "linecolor": "#EBF0F8",
            "ticks": ""
           },
           "bgcolor": "white",
           "radialaxis": {
            "gridcolor": "#EBF0F8",
            "linecolor": "#EBF0F8",
            "ticks": ""
           }
          },
          "scene": {
           "xaxis": {
            "backgroundcolor": "white",
            "gridcolor": "#DFE8F3",
            "gridwidth": 2,
            "linecolor": "#EBF0F8",
            "showbackground": true,
            "ticks": "",
            "zerolinecolor": "#EBF0F8"
           },
           "yaxis": {
            "backgroundcolor": "white",
            "gridcolor": "#DFE8F3",
            "gridwidth": 2,
            "linecolor": "#EBF0F8",
            "showbackground": true,
            "ticks": "",
            "zerolinecolor": "#EBF0F8"
           },
           "zaxis": {
            "backgroundcolor": "white",
            "gridcolor": "#DFE8F3",
            "gridwidth": 2,
            "linecolor": "#EBF0F8",
            "showbackground": true,
            "ticks": "",
            "zerolinecolor": "#EBF0F8"
           }
          },
          "shapedefaults": {
           "line": {
            "color": "#2a3f5f"
           }
          },
          "ternary": {
           "aaxis": {
            "gridcolor": "#DFE8F3",
            "linecolor": "#A2B1C6",
            "ticks": ""
           },
           "baxis": {
            "gridcolor": "#DFE8F3",
            "linecolor": "#A2B1C6",
            "ticks": ""
           },
           "bgcolor": "white",
           "caxis": {
            "gridcolor": "#DFE8F3",
            "linecolor": "#A2B1C6",
            "ticks": ""
           }
          },
          "title": {
           "x": 0.05
          },
          "xaxis": {
           "automargin": true,
           "gridcolor": "#EBF0F8",
           "linecolor": "#EBF0F8",
           "ticks": "",
           "title": {
            "standoff": 15
           },
           "zerolinecolor": "#EBF0F8",
           "zerolinewidth": 2
          },
          "yaxis": {
           "automargin": true,
           "gridcolor": "#EBF0F8",
           "linecolor": "#EBF0F8",
           "ticks": "",
           "title": {
            "standoff": 15
           },
           "zerolinecolor": "#EBF0F8",
           "zerolinewidth": 2
          }
         }
        },
        "title": {
         "text": "Capacity and Energy Revenue by Technology and Quartile",
         "x": 0.5
        },
        "xaxis": {
         "anchor": "y",
         "domain": [
          0,
          1
         ],
         "tickangle": 45,
         "title": {
          "text": "Technology and Quartile"
         }
        },
        "yaxis": {
         "anchor": "x",
         "domain": [
          0,
          1
         ],
         "tickformat": ",.0f",
         "title": {
          "text": "Revenue ($/ICAP MW-Year)"
         }
        }
       }
      }
     },
     "metadata": {},
     "output_type": "display_data"
    },
    {
     "data": {
      "application/vnd.plotly.v1+json": {
       "config": {
        "plotlyServerURL": "https://plot.ly"
       },
       "data": [
        {
         "marker": {
          "color": "#FFA726"
         },
         "name": "Energy and ancillary service net revenue",
         "showlegend": true,
         "type": "bar",
         "x": [
          "Combustion Turbine",
          "Combined Cycle",
          "Wind",
          "Solar"
         ],
         "xaxis": "x",
         "y": {
          "bdata": "qvHSTWJQIEBOYhBYOSxSQARWDi2yVVpAI9v5fmp8QkA=",
          "dtype": "f8"
         },
         "yaxis": "y"
        },
        {
         "marker": {
          "color": "#42A5F5"
         },
         "name": "Capacity revenue",
         "showlegend": true,
         "type": "bar",
         "x": [
          "Combustion Turbine",
          "Combined Cycle",
          "Wind",
          "Solar"
         ],
         "xaxis": "x",
         "y": {
          "bdata": "tMh2vp9aKUDFILByaFExQE5iEFg5tPI/AAAAAAAAAAA=",
          "dtype": "f8"
         },
         "yaxis": "y"
        },
        {
         "marker": {
          "color": "#66BB6A"
         },
         "name": "REC revenue",
         "showlegend": true,
         "type": "bar",
         "x": [
          "Combustion Turbine",
          "Combined Cycle",
          "Wind",
          "Solar"
         ],
         "xaxis": "x",
         "y": {
          "bdata": "AAAAAAAAAAAAAAAAAAAAAGQ730+Nz1RAj1N0JJd7akA=",
          "dtype": "f8"
         },
         "yaxis": "y"
        },
        {
         "line": {
          "color": "red",
          "dash": "dot",
          "width": 2
         },
         "mode": "lines",
         "name": "Levelized Cost of New Unit ($/kW-Year)",
         "type": "scatter",
         "x": [
          null
         ],
         "xaxis": "x",
         "y": [
          null
         ],
         "yaxis": "y"
        },
        {
         "marker": {
          "color": "gray"
         },
         "name": "Installed Capacity (MW)",
         "showlegend": false,
         "type": "bar",
         "x": [
          "Combustion Turbine",
          "Combined Cycle",
          "Wind",
          "Solar"
         ],
         "xaxis": "x2",
         "y": {
          "bdata": "0SLb+X5KOUAj2/l+agxIQMl2vp8aLyZAXrpJDAKrG0A=",
          "dtype": "f8"
         },
         "yaxis": "y2"
        }
       ],
       "layout": {
        "annotations": [
         {
          "font": {
           "size": 16
          },
          "showarrow": false,
          "text": "Capacity Revenue and Net Energy Revenue by Technology (Median, 2024 PJM)",
          "x": 0.5,
          "xanchor": "center",
          "xref": "paper",
          "y": 1,
          "yanchor": "bottom",
          "yref": "paper"
         },
         {
          "font": {
           "size": 16
          },
          "showarrow": false,
          "text": "Installed Capacity by Technology",
          "x": 0.5,
          "xanchor": "center",
          "xref": "paper",
          "y": 0.264,
          "yanchor": "bottom",
          "yref": "paper"
         },
         {
          "font": {
           "color": "red",
           "size": 12
          },
          "showarrow": false,
          "text": "$185",
          "x": "Combustion Turbine",
          "xref": "x",
          "y": 185.198,
          "yref": "y",
          "yshift": 8
         },
         {
          "font": {
           "color": "red",
           "size": 12
          },
          "showarrow": false,
          "text": "$183",
          "x": "Combined Cycle",
          "xref": "x",
          "y": 183.473,
          "yref": "y",
          "yshift": 8
         },
         {
          "font": {
           "color": "red",
           "size": 12
          },
          "showarrow": false,
          "text": "$257",
          "x": "Wind",
          "xref": "x",
          "y": 256.99,
          "yref": "y",
          "yshift": 8
         },
         {
          "font": {
           "color": "red",
           "size": 12
          },
          "showarrow": false,
          "text": "$211",
          "x": "Solar",
          "xref": "x",
          "y": 211.057,
          "yref": "y",
          "yshift": 8
         },
         {
          "font": {
           "size": 12
          },
          "showarrow": false,
          "text": "<span style=\"color:#FFA726\">39.15%</span> / <span style=\"color:#42A5F5\">60.85%</span>/<span style=\"color:#66BB6A\">0.00%</span>",
          "x": "Combustion Turbine",
          "xref": "x",
          "y": 20.834,
          "yref": "y",
          "yshift": 10
         },
         {
          "font": {
           "size": 12
          },
          "showarrow": false,
          "text": "<span style=\"color:#FFA726\">80.76%</span> / <span style=\"color:#42A5F5\">19.24%</span>/<span style=\"color:#66BB6A\">0.00%</span>",
          "x": "Combined Cycle",
          "xref": "x",
          "y": 90.009,
          "yref": "y",
          "yshift": 10
         },
         {
          "font": {
           "size": 12
          },
          "showarrow": false,
          "text": "<span style=\"color:#FFA726\">55.51%</span> / <span style=\"color:#42A5F5\">0.62%</span>/<span style=\"color:#66BB6A\">43.87%</span>",
          "x": "Wind",
          "xref": "x",
          "y": 189.75099999999998,
          "yref": "y",
          "yshift": 10
         },
         {
          "font": {
           "size": 12
          },
          "showarrow": false,
          "text": "<span style=\"color:#FFA726\">14.86%</span> / <span style=\"color:#42A5F5\">0.00%</span>/<span style=\"color:#66BB6A\">85.14%</span>",
          "x": "Solar",
          "xref": "x",
          "y": 248.8342,
          "yref": "y",
          "yshift": 10
         }
        ],
        "barmode": "stack",
        "font": {
         "size": 14
        },
        "height": 800,
        "legend": {
         "title": {
          "text": "Revenue or Cost Type"
         }
        },
        "shapes": [
         {
          "line": {
           "color": "red",
           "dash": "dot",
           "width": 2
          },
          "type": "line",
          "x0": "Combustion Turbine",
          "x1": "Combustion Turbine",
          "xref": "x",
          "y0": 0,
          "y1": 185.198,
          "yref": "y"
         },
         {
          "line": {
           "color": "red",
           "dash": "dot",
           "width": 2
          },
          "type": "line",
          "x0": "Combined Cycle",
          "x1": "Combined Cycle",
          "xref": "x",
          "y0": 0,
          "y1": 183.473,
          "yref": "y"
         },
         {
          "line": {
           "color": "red",
           "dash": "dot",
           "width": 2
          },
          "type": "line",
          "x0": "Wind",
          "x1": "Wind",
          "xref": "x",
          "y0": 0,
          "y1": 256.99,
          "yref": "y"
         },
         {
          "line": {
           "color": "red",
           "dash": "dot",
           "width": 2
          },
          "type": "line",
          "x0": "Solar",
          "x1": "Solar",
          "xref": "x",
          "y0": 0,
          "y1": 211.057,
          "yref": "y"
         }
        ],
        "template": {
         "data": {
          "bar": [
           {
            "error_x": {
             "color": "#2a3f5f"
            },
            "error_y": {
             "color": "#2a3f5f"
            },
            "marker": {
             "line": {
              "color": "white",
              "width": 0.5
             },
             "pattern": {
              "fillmode": "overlay",
              "size": 10,
              "solidity": 0.2
             }
            },
            "type": "bar"
           }
          ],
          "barpolar": [
           {
            "marker": {
             "line": {
              "color": "white",
              "width": 0.5
             },
             "pattern": {
              "fillmode": "overlay",
              "size": 10,
              "solidity": 0.2
             }
            },
            "type": "barpolar"
           }
          ],
          "carpet": [
           {
            "aaxis": {
             "endlinecolor": "#2a3f5f",
             "gridcolor": "#C8D4E3",
             "linecolor": "#C8D4E3",
             "minorgridcolor": "#C8D4E3",
             "startlinecolor": "#2a3f5f"
            },
            "baxis": {
             "endlinecolor": "#2a3f5f",
             "gridcolor": "#C8D4E3",
             "linecolor": "#C8D4E3",
             "minorgridcolor": "#C8D4E3",
             "startlinecolor": "#2a3f5f"
            },
            "type": "carpet"
           }
          ],
          "choropleth": [
           {
            "colorbar": {
             "outlinewidth": 0,
             "ticks": ""
            },
            "type": "choropleth"
           }
          ],
          "contour": [
           {
            "colorbar": {
             "outlinewidth": 0,
             "ticks": ""
            },
            "colorscale": [
             [
              0,
              "#0d0887"
             ],
             [
              0.1111111111111111,
              "#46039f"
             ],
             [
              0.2222222222222222,
              "#7201a8"
             ],
             [
              0.3333333333333333,
              "#9c179e"
             ],
             [
              0.4444444444444444,
              "#bd3786"
             ],
             [
              0.5555555555555556,
              "#d8576b"
             ],
             [
              0.6666666666666666,
              "#ed7953"
             ],
             [
              0.7777777777777778,
              "#fb9f3a"
             ],
             [
              0.8888888888888888,
              "#fdca26"
             ],
             [
              1,
              "#f0f921"
             ]
            ],
            "type": "contour"
           }
          ],
          "contourcarpet": [
           {
            "colorbar": {
             "outlinewidth": 0,
             "ticks": ""
            },
            "type": "contourcarpet"
           }
          ],
          "heatmap": [
           {
            "colorbar": {
             "outlinewidth": 0,
             "ticks": ""
            },
            "colorscale": [
             [
              0,
              "#0d0887"
             ],
             [
              0.1111111111111111,
              "#46039f"
             ],
             [
              0.2222222222222222,
              "#7201a8"
             ],
             [
              0.3333333333333333,
              "#9c179e"
             ],
             [
              0.4444444444444444,
              "#bd3786"
             ],
             [
              0.5555555555555556,
              "#d8576b"
             ],
             [
              0.6666666666666666,
              "#ed7953"
             ],
             [
              0.7777777777777778,
              "#fb9f3a"
             ],
             [
              0.8888888888888888,
              "#fdca26"
             ],
             [
              1,
              "#f0f921"
             ]
            ],
            "type": "heatmap"
           }
          ],
          "histogram": [
           {
            "marker": {
             "pattern": {
              "fillmode": "overlay",
              "size": 10,
              "solidity": 0.2
             }
            },
            "type": "histogram"
           }
          ],
          "histogram2d": [
           {
            "colorbar": {
             "outlinewidth": 0,
             "ticks": ""
            },
            "colorscale": [
             [
              0,
              "#0d0887"
             ],
             [
              0.1111111111111111,
              "#46039f"
             ],
             [
              0.2222222222222222,
              "#7201a8"
             ],
             [
              0.3333333333333333,
              "#9c179e"
             ],
             [
              0.4444444444444444,
              "#bd3786"
             ],
             [
              0.5555555555555556,
              "#d8576b"
             ],
             [
              0.6666666666666666,
              "#ed7953"
             ],
             [
              0.7777777777777778,
              "#fb9f3a"
             ],
             [
              0.8888888888888888,
              "#fdca26"
             ],
             [
              1,
              "#f0f921"
             ]
            ],
            "type": "histogram2d"
           }
          ],
          "histogram2dcontour": [
           {
            "colorbar": {
             "outlinewidth": 0,
             "ticks": ""
            },
            "colorscale": [
             [
              0,
              "#0d0887"
             ],
             [
              0.1111111111111111,
              "#46039f"
             ],
             [
              0.2222222222222222,
              "#7201a8"
             ],
             [
              0.3333333333333333,
              "#9c179e"
             ],
             [
              0.4444444444444444,
              "#bd3786"
             ],
             [
              0.5555555555555556,
              "#d8576b"
             ],
             [
              0.6666666666666666,
              "#ed7953"
             ],
             [
              0.7777777777777778,
              "#fb9f3a"
             ],
             [
              0.8888888888888888,
              "#fdca26"
             ],
             [
              1,
              "#f0f921"
             ]
            ],
            "type": "histogram2dcontour"
           }
          ],
          "mesh3d": [
           {
            "colorbar": {
             "outlinewidth": 0,
             "ticks": ""
            },
            "type": "mesh3d"
           }
          ],
          "parcoords": [
           {
            "line": {
             "colorbar": {
              "outlinewidth": 0,
              "ticks": ""
             }
            },
            "type": "parcoords"
           }
          ],
          "pie": [
           {
            "automargin": true,
            "type": "pie"
           }
          ],
          "scatter": [
           {
            "fillpattern": {
             "fillmode": "overlay",
             "size": 10,
             "solidity": 0.2
            },
            "type": "scatter"
           }
          ],
          "scatter3d": [
           {
            "line": {
             "colorbar": {
              "outlinewidth": 0,
              "ticks": ""
             }
            },
            "marker": {
             "colorbar": {
              "outlinewidth": 0,
              "ticks": ""
             }
            },
            "type": "scatter3d"
           }
          ],
          "scattercarpet": [
           {
            "marker": {
             "colorbar": {
              "outlinewidth": 0,
              "ticks": ""
             }
            },
            "type": "scattercarpet"
           }
          ],
          "scattergeo": [
           {
            "marker": {
             "colorbar": {
              "outlinewidth": 0,
              "ticks": ""
             }
            },
            "type": "scattergeo"
           }
          ],
          "scattergl": [
           {
            "marker": {
             "colorbar": {
              "outlinewidth": 0,
              "ticks": ""
             }
            },
            "type": "scattergl"
           }
          ],
          "scattermap": [
           {
            "marker": {
             "colorbar": {
              "outlinewidth": 0,
              "ticks": ""
             }
            },
            "type": "scattermap"
           }
          ],
          "scattermapbox": [
           {
            "marker": {
             "colorbar": {
              "outlinewidth": 0,
              "ticks": ""
             }
            },
            "type": "scattermapbox"
           }
          ],
          "scatterpolar": [
           {
            "marker": {
             "colorbar": {
              "outlinewidth": 0,
              "ticks": ""
             }
            },
            "type": "scatterpolar"
           }
          ],
          "scatterpolargl": [
           {
            "marker": {
             "colorbar": {
              "outlinewidth": 0,
              "ticks": ""
             }
            },
            "type": "scatterpolargl"
           }
          ],
          "scatterternary": [
           {
            "marker": {
             "colorbar": {
              "outlinewidth": 0,
              "ticks": ""
             }
            },
            "type": "scatterternary"
           }
          ],
          "surface": [
           {
            "colorbar": {
             "outlinewidth": 0,
             "ticks": ""
            },
            "colorscale": [
             [
              0,
              "#0d0887"
             ],
             [
              0.1111111111111111,
              "#46039f"
             ],
             [
              0.2222222222222222,
              "#7201a8"
             ],
             [
              0.3333333333333333,
              "#9c179e"
             ],
             [
              0.4444444444444444,
              "#bd3786"
             ],
             [
              0.5555555555555556,
              "#d8576b"
             ],
             [
              0.6666666666666666,
              "#ed7953"
             ],
             [
              0.7777777777777778,
              "#fb9f3a"
             ],
             [
              0.8888888888888888,
              "#fdca26"
             ],
             [
              1,
              "#f0f921"
             ]
            ],
            "type": "surface"
           }
          ],
          "table": [
           {
            "cells": {
             "fill": {
              "color": "#EBF0F8"
             },
             "line": {
              "color": "white"
             }
            },
            "header": {
             "fill": {
              "color": "#C8D4E3"
             },
             "line": {
              "color": "white"
             }
            },
            "type": "table"
           }
          ]
         },
         "layout": {
          "annotationdefaults": {
           "arrowcolor": "#2a3f5f",
           "arrowhead": 0,
           "arrowwidth": 1
          },
          "autotypenumbers": "strict",
          "coloraxis": {
           "colorbar": {
            "outlinewidth": 0,
            "ticks": ""
           }
          },
          "colorscale": {
           "diverging": [
            [
             0,
             "#8e0152"
            ],
            [
             0.1,
             "#c51b7d"
            ],
            [
             0.2,
             "#de77ae"
            ],
            [
             0.3,
             "#f1b6da"
            ],
            [
             0.4,
             "#fde0ef"
            ],
            [
             0.5,
             "#f7f7f7"
            ],
            [
             0.6,
             "#e6f5d0"
            ],
            [
             0.7,
             "#b8e186"
            ],
            [
             0.8,
             "#7fbc41"
            ],
            [
             0.9,
             "#4d9221"
            ],
            [
             1,
             "#276419"
            ]
           ],
           "sequential": [
            [
             0,
             "#0d0887"
            ],
            [
             0.1111111111111111,
             "#46039f"
            ],
            [
             0.2222222222222222,
             "#7201a8"
            ],
            [
             0.3333333333333333,
             "#9c179e"
            ],
            [
             0.4444444444444444,
             "#bd3786"
            ],
            [
             0.5555555555555556,
             "#d8576b"
            ],
            [
             0.6666666666666666,
             "#ed7953"
            ],
            [
             0.7777777777777778,
             "#fb9f3a"
            ],
            [
             0.8888888888888888,
             "#fdca26"
            ],
            [
             1,
             "#f0f921"
            ]
           ],
           "sequentialminus": [
            [
             0,
             "#0d0887"
            ],
            [
             0.1111111111111111,
             "#46039f"
            ],
            [
             0.2222222222222222,
             "#7201a8"
            ],
            [
             0.3333333333333333,
             "#9c179e"
            ],
            [
             0.4444444444444444,
             "#bd3786"
            ],
            [
             0.5555555555555556,
             "#d8576b"
            ],
            [
             0.6666666666666666,
             "#ed7953"
            ],
            [
             0.7777777777777778,
             "#fb9f3a"
            ],
            [
             0.8888888888888888,
             "#fdca26"
            ],
            [
             1,
             "#f0f921"
            ]
           ]
          },
          "colorway": [
           "#636efa",
           "#EF553B",
           "#00cc96",
           "#ab63fa",
           "#FFA15A",
           "#19d3f3",
           "#FF6692",
           "#B6E880",
           "#FF97FF",
           "#FECB52"
          ],
          "font": {
           "color": "#2a3f5f"
          },
          "geo": {
           "bgcolor": "white",
           "lakecolor": "white",
           "landcolor": "white",
           "showlakes": true,
           "showland": true,
           "subunitcolor": "#C8D4E3"
          },
          "hoverlabel": {
           "align": "left"
          },
          "hovermode": "closest",
          "mapbox": {
           "style": "light"
          },
          "paper_bgcolor": "white",
          "plot_bgcolor": "white",
          "polar": {
           "angularaxis": {
            "gridcolor": "#EBF0F8",
            "linecolor": "#EBF0F8",
            "ticks": ""
           },
           "bgcolor": "white",
           "radialaxis": {
            "gridcolor": "#EBF0F8",
            "linecolor": "#EBF0F8",
            "ticks": ""
           }
          },
          "scene": {
           "xaxis": {
            "backgroundcolor": "white",
            "gridcolor": "#DFE8F3",
            "gridwidth": 2,
            "linecolor": "#EBF0F8",
            "showbackground": true,
            "ticks": "",
            "zerolinecolor": "#EBF0F8"
           },
           "yaxis": {
            "backgroundcolor": "white",
            "gridcolor": "#DFE8F3",
            "gridwidth": 2,
            "linecolor": "#EBF0F8",
            "showbackground": true,
            "ticks": "",
            "zerolinecolor": "#EBF0F8"
           },
           "zaxis": {
            "backgroundcolor": "white",
            "gridcolor": "#DFE8F3",
            "gridwidth": 2,
            "linecolor": "#EBF0F8",
            "showbackground": true,
            "ticks": "",
            "zerolinecolor": "#EBF0F8"
           }
          },
          "shapedefaults": {
           "line": {
            "color": "#2a3f5f"
           }
          },
          "ternary": {
           "aaxis": {
            "gridcolor": "#DFE8F3",
            "linecolor": "#A2B1C6",
            "ticks": ""
           },
           "baxis": {
            "gridcolor": "#DFE8F3",
            "linecolor": "#A2B1C6",
            "ticks": ""
           },
           "bgcolor": "white",
           "caxis": {
            "gridcolor": "#DFE8F3",
            "linecolor": "#A2B1C6",
            "ticks": ""
           }
          },
          "title": {
           "x": 0.05
          },
          "xaxis": {
           "automargin": true,
           "gridcolor": "#EBF0F8",
           "linecolor": "#EBF0F8",
           "ticks": "",
           "title": {
            "standoff": 15
           },
           "zerolinecolor": "#EBF0F8",
           "zerolinewidth": 2
          },
          "yaxis": {
           "automargin": true,
           "gridcolor": "#EBF0F8",
           "linecolor": "#EBF0F8",
           "ticks": "",
           "title": {
            "standoff": 15
           },
           "zerolinecolor": "#EBF0F8",
           "zerolinewidth": 2
          }
         }
        },
        "title": {
         "x": 0.5
        },
        "xaxis": {
         "anchor": "y",
         "domain": [
          0,
          1
         ],
         "matches": "x2",
         "showticklabels": true
        },
        "xaxis2": {
         "anchor": "y2",
         "domain": [
          0,
          1
         ],
         "tickangle": 0,
         "title": {
          "text": "Technology"
         }
        },
        "yaxis": {
         "anchor": "x",
         "domain": [
          0.384,
          1
         ],
         "tickformat": ",.0f",
         "title": {
          "text": "Revenue ($/kW-Year)"
         }
        },
        "yaxis2": {
         "anchor": "x2",
         "domain": [
          0,
          0.264
         ],
         "title": {
          "text": "Installed Capacity (GW)"
         }
        }
       }
      }
     },
     "metadata": {},
     "output_type": "display_data"
    }
   ],
   "source": [
    "import pandas as pd\n",
    "import plotly.express as px\n",
    "\n",
    "# Load the Excel file\n",
    "df = pd.read_excel('Table_7_40_MMU.xlsx')\n",
    "\n",
    "# Define quartiles in desired order\n",
    "quartile_order = ['First Quartile', 'Median', 'Third Quartile']\n",
    "\n",
    "# Build long-format data\n",
    "records = []\n",
    "\n",
    "for i, tech in enumerate(df['Technology']):\n",
    "    for quartile in quartile_order:\n",
    "        for rev_type, prefix in [\n",
    "            ('Energy and ancillary service net revenue', 'Energy and ancillary service net revenue'),\n",
    "            ('Capacity revenue', 'Capacity revenue')\n",
    "        ]:\n",
    "            records.append({\n",
    "                'Technology': tech,\n",
    "                'revenue_type': rev_type,\n",
    "                'quartile': quartile,\n",
    "                'revenue': df.loc[i, f'{prefix} {quartile.lower()}']\n",
    "            })\n",
    "\n",
    "# Create long-format dataframe\n",
    "df_long = pd.DataFrame(records)\n",
    "\n",
    "# Create composite x-axis grouped by technology first, then quartile\n",
    "df_long['x'] = df_long['Technology'] + ' - ' + df_long['quartile']\n",
    "\n",
    "# Define categorical x-axis order\n",
    "unique_techs = df['Technology'].unique()\n",
    "ordered_x = [f'{tech} - {q}' for tech in unique_techs for q in quartile_order]\n",
    "df_long['x'] = pd.Categorical(df_long['x'], categories=ordered_x, ordered=True)\n",
    "\n",
    "# Plot with Plotly\n",
    "fig = px.bar(\n",
    "    df_long,\n",
    "    x='x',\n",
    "    y='revenue',\n",
    "    color='revenue_type',\n",
    "    barmode='stack',\n",
    "    title='Capacity and Energy Revenue by Technology and Quartile',\n",
    "    labels={'x': 'Technology and Quartile', 'revenue': 'Revenue ($/ICAP MW-Year)'}\n",
    ")\n",
    "\n",
    "fig.update_layout(\n",
    "    template='plotly_white',\n",
    "    font=dict(size=14),\n",
    "    title_x=0.5,\n",
    "    yaxis_tickformat=',.0f',\n",
    "    legend_title_text='Revenue Type',\n",
    "    xaxis_tickangle=45\n",
    ")\n",
    "\n",
    "fig.show()\n",
    "\n",
    "import pandas as pd\n",
    "import plotly.graph_objects as go\n",
    "from plotly.subplots import make_subplots\n",
    "\n",
    "# Load data\n",
    "df = pd.read_excel('Table_7_40_MMU.xlsx')\n",
    "technologies_to_plot = [\"Combustion Turbine\", \"Combined Cycle\", \"Wind\", \"Solar\"]\n",
    "df = df[df['Technology'].isin(technologies_to_plot)]\n",
    "\n",
    "# Revenue calculations\n",
    "df['Energy_kW'] = df['Energy and ancillary service net revenue median'] / 1000\n",
    "df['Capacity_kW'] = df['Capacity revenue median'] / 1000\n",
    "df['REC_kW']=df['REC']/1000\n",
    "df['Total_kW'] = df['Energy_kW'] + df['Capacity_kW']+df['REC_kW']\n",
    "df['LCOE_kW'] = df['LCOE'] / 1000\n",
    "df['Total Installed Capacity']=df['Total Installed Capacity ']\n",
    "df_sorted = df.sort_values('Total_kW')\n",
    "\n",
    "# Color map\n",
    "color_map = {\n",
    "    'Energy and ancillary service net revenue': '#FFA726',  # orange\n",
    "    'Capacity revenue': '#42A5F5',                          # blue\n",
    "    'REC revenue': '#66BB6A'                                # green\n",
    "}\n",
    "\n",
    "# Subplots setup\n",
    "fig = make_subplots(\n",
    "    rows=2, cols=1,\n",
    "    shared_xaxes=True,\n",
    "    row_heights=[0.7, 0.3],\n",
    "    vertical_spacing=0.12,\n",
    "    subplot_titles=[\n",
    "        \"Capacity Revenue and Net Energy Revenue by Technology (Median, 2024 PJM)\",\n",
    "        \"Installed Capacity by Technology\"\n",
    "    ]\n",
    ")\n",
    "\n",
    "# --- Top subplot: stacked revenue bars ---\n",
    "for rev_type in ['Energy and ancillary service net revenue', 'Capacity revenue', 'REC revenue']:\n",
    "    y_values = df_sorted.apply(\n",
    "        lambda row: row['Energy_kW'] if rev_type == 'Energy and ancillary service net revenue'\n",
    "        else row['Capacity_kW'] if rev_type == 'Capacity revenue'\n",
    "        else row['REC_kW'],\n",
    "        axis=1\n",
    "    )\n",
    "\n",
    "    fig.add_trace(go.Bar(\n",
    "        x=df_sorted['Technology'],\n",
    "        y=y_values,\n",
    "        name=rev_type,\n",
    "        marker_color=color_map.get(rev_type),\n",
    "        showlegend=True\n",
    "    ), row=1, col=1)\n",
    "\n",
    "# Add LCOE lines and annotations\n",
    "for _, row in df_sorted.iterrows():\n",
    "    fig.add_shape(\n",
    "        type='line',\n",
    "        x0=row['Technology'],\n",
    "        x1=row['Technology'],\n",
    "        y0=0,\n",
    "        y1=row['LCOE_kW'],\n",
    "        line=dict(color='red', width=2, dash='dot'),\n",
    "        xref='x',\n",
    "        yref='y',\n",
    "        row=1,\n",
    "        col=1\n",
    "    )\n",
    "    fig.add_annotation(\n",
    "        x=row['Technology'],\n",
    "        y=row['LCOE_kW'],\n",
    "        text=f\"${row['LCOE_kW']:.0f}\",\n",
    "        showarrow=False,\n",
    "        yshift=8,\n",
    "        font=dict(color='red', size=12),\n",
    "        row=1,\n",
    "        col=1\n",
    "    )\n",
    "\n",
    "# Add percentage annotations above bars\n",
    "for _, row in df_sorted.iterrows():\n",
    "    total = row['Total_kW']\n",
    "    if total == 0:\n",
    "        continue\n",
    "    energy_pct = round(100 * row['Energy_kW'] / total, 2)\n",
    "    capacity_pct = round(100 * row['Capacity_kW'] / total, 2)\n",
    "    rec_pct=round(100*row['REC_kW']/total,2)\n",
    "    label_text = (\n",
    "        f'<span style=\"color:{color_map[\"Energy and ancillary service net revenue\"]}\">'\n",
    "        f'{energy_pct:.2f}%</span> / '\n",
    "        f'<span style=\"color:{color_map[\"Capacity revenue\"]}\">{capacity_pct:.2f}%</span>/'\n",
    "        f'<span style=\"color:{color_map[\"REC revenue\"]}\">{rec_pct:.2f}%</span>'\n",
    "    )\n",
    "\n",
    "    fig.add_annotation(\n",
    "        x=row['Technology'],\n",
    "        y=row['Total_kW'],\n",
    "        text=label_text,\n",
    "        showarrow=False,\n",
    "        yshift=10,\n",
    "        font=dict(size=12),\n",
    "        row=1,\n",
    "        col=1\n",
    "    )\n",
    "\n",
    "# Dummy trace for LCOE legend\n",
    "fig.add_trace(go.Scatter(\n",
    "    x=[None], y=[None],\n",
    "    mode='lines',\n",
    "    line=dict(color='red', width=2, dash='dot'),\n",
    "    name='Levelized Cost of New Unit ($/kW-Year)'\n",
    "), row=1, col=1)\n",
    "\n",
    "# --- Bottom subplot: Installed Capacity (MW) ---\n",
    "fig.add_trace(go.Bar(\n",
    "    x=df_sorted['Technology'],\n",
    "    y=df_sorted['Total Installed Capacity'],\n",
    "    marker_color='gray',\n",
    "    name='Installed Capacity (MW)',\n",
    "    showlegend=False\n",
    "), row=2, col=1)\n",
    "\n",
    "# Final layout\n",
    "fig.update_layout(\n",
    "    barmode='stack',\n",
    "    template='plotly_white',\n",
    "    font=dict(size=14),\n",
    "    title_x=0.5,\n",
    "    yaxis_tickformat=',.0f',\n",
    "    legend_title_text='Revenue or Cost Type',\n",
    "    height=800\n",
    ")\n",
    "fig.update_xaxes(showticklabels=True, row=1, col=1)\n",
    "fig.update_yaxes(title_text='Revenue ($/kW-Year)', row=1, col=1)\n",
    "fig.update_yaxes(title_text='Installed Capacity (GW)', row=2, col=1)\n",
    "fig.update_xaxes(title_text='Technology', tickangle=0, row=2, col=1)\n",
    "\n",
    "fig.show()\n"
   ]
  },
  {
   "cell_type": "markdown",
   "id": "ed1cad03",
   "metadata": {},
   "source": [
    "\"energy net revenues include day-ahead and \n",
    "balancing market energy revenues, less short run \n",
    "marginal costs, plus any applicable day-ahead or \n",
    "balancing operating reserve credits (uplift)\""
   ]
  }
 ],
 "metadata": {
  "kernelspec": {
   "display_name": "cheshire",
   "language": "python",
   "name": "python3"
  },
  "language_info": {
   "codemirror_mode": {
    "name": "ipython",
    "version": 3
   },
   "file_extension": ".py",
   "mimetype": "text/x-python",
   "name": "python",
   "nbconvert_exporter": "python",
   "pygments_lexer": "ipython3",
   "version": "3.12.10"
  }
 },
 "nbformat": 4,
 "nbformat_minor": 5
}
